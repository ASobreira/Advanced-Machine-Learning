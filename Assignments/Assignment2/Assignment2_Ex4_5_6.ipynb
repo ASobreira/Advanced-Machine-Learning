{
  "cells": [
    {
      "cell_type": "markdown",
      "metadata": {
        "id": "zrLhypWG-Jt7"
      },
      "source": [
        "### Aprendizagem Automática Avançada - Assignment 1 - by Martim Silva 51304 and Alexandre Sobreira 59451\n"
      ]
    },
    {
      "cell_type": "code",
      "execution_count": 55,
      "metadata": {
        "id": "v0Qyv7IQC9ri"
      },
      "outputs": [],
      "source": [
        "import numpy as np\n",
        "import pandas as pd\n",
        "import matplotlib.pyplot as plt\n",
        "from sklearn import svm, datasets\n",
        "from sklearn.metrics import accuracy_score, precision_score, f1_score, matthews_corrcoef, recall_score \n",
        "import matplotlib.pyplot as plt\n",
        "import seaborn as sns\n",
        "import plotly.express as px\n",
        "from mpl_toolkits.mplot3d import Axes3D\n",
        "from sklearn.model_selection import train_test_split\n",
        "from sklearn.model_selection import GridSearchCV"
      ]
    },
    {
      "cell_type": "markdown",
      "metadata": {
        "id": "Ep5SZk4-C9rk"
      },
      "source": [
        "# 4"
      ]
    },
    {
      "cell_type": "markdown",
      "metadata": {
        "id": "HMNa5tL-C9rm"
      },
      "source": [
        " - Functions"
      ]
    },
    {
      "cell_type": "code",
      "execution_count": 56,
      "metadata": {
        "id": "OzwtlWztC9rm"
      },
      "outputs": [],
      "source": [
        "def margin_plot(model, X, y):\n",
        "    plt.figure(figsize=(10, 8))\n",
        "    sns.scatterplot(x=X[:, 0], y=X[:, 1], hue=y, s=50)\n",
        "    x1_min, x1_max = X[:, 0].min() - 1, X[:, 0].max() + 1\n",
        "    x2_min, x2_max = X[:, 1].min() - 1, X[:, 1].max() + 1\n",
        "    xx1, xx2 = np.meshgrid(np.arange(x1_min, x1_max, 0.1),\n",
        "                           np.arange(x2_min, x2_max, 0.1))\n",
        "    Z = model.predict(np.array([xx1.ravel(), xx2.ravel()]).T)\n",
        "    Z = Z.reshape(xx1.shape)\n",
        "    plt.contourf(xx1, xx2, Z, alpha=0.2)\n",
        "    plt.xlim(xx1.min(), xx1.max())\n",
        "    plt.ylim(xx2.min(), xx2.max())\n",
        "    support_vectors = model.support_vectors_\n",
        "    plt.scatter(support_vectors[:, 0], support_vectors[:, 1], s=200, facecolors='none', edgecolors='k')\n",
        "    # Calculate the margin size based on the support vectors\n",
        "    w_norm = np.linalg.norm(model.coef_)\n",
        "    margin = 2.0 / w_norm\n",
        "\n",
        "    plt.title(\"Linear SVM with \" + str(len(model.support_vectors_)) + \" support vectors\\nMargin size: \" + str(round(margin, 3)))\n",
        "    plt.show()\n",
        "\n",
        "def svm_plot(model, f, X, y):\n",
        "    x_min, x_max = X[:, 0].min() - 1, X[:, 0].max() + 1\n",
        "    y_min, y_max = X[:, 1].min() - 1, X[:, 1].max() + 1\n",
        "    h  = (x_max / x_min)/100\n",
        "    xx, yy = np.meshgrid(np.arange(x_min, x_max, h),\n",
        "    np.arange(y_min, y_max, h))\n",
        "    Z = model.predict(np.c_[xx.ravel(), yy.ravel()])\n",
        "    Z = Z.reshape(xx.shape)\n",
        "    plt.contourf(xx, yy, Z, cmap=plt.cm.Paired, alpha=0.2)\n",
        "    plt.scatter(X[:, 0], X[:, 1], c=y, cmap=plt.cm.Paired)\n",
        "    #plt.xlabel('Sepal length')\n",
        "    #plt.ylabel('Sepal width')\n",
        "    plt.xlim(xx.min(), xx.max())\n",
        "    plt.title('SVC with ' + f + \" kernel, and \" + str(len(model.support_vectors_)) + \" support vectors\")\n",
        "    plt.show()\n",
        "    \n",
        "def svm_plot02 (f):\n",
        "    var = np.array(X)\n",
        "    x_min, x_max = var[:, 0].min() - 1, var[:, 0].max() + 1\n",
        "    y_min, y_max = var[:, 1].min() - 1, var[:, 1].max() + 1\n",
        "    h = -(x_max / x_min)/100\n",
        "    xx, yy = np.meshgrid(np.arange(x_min, x_max, h),\n",
        "    np.arange(y_min, y_max, h))\n",
        "    svc = svm.SVC(kernel=f, verbose=False).fit(X, label)\n",
        "    plt.subplot(1, 1, 1)\n",
        "    Z = svc.predict(np.c_[xx.ravel(), yy.ravel()])\n",
        "    Z = Z.reshape(xx.shape)\n",
        "    plt.contourf(xx, yy, Z, cmap=plt.cm.Paired, alpha=0.2)\n",
        "    plt.scatter(points[\"x\"], points[\"y\"], c=points[\"color\"], cmap=plt.cm.Paired)\n",
        "    plt.xlabel('X')\n",
        "    plt.ylabel('Y')\n",
        "    plt.xlim(xx.min(), xx.max())\n",
        "    plt.title('SVC with Linear kernel')\n",
        "    plt.show()\n",
        "    \n",
        "def report (y_test, preds):\n",
        "    stats = pd.DataFrame()  \n",
        "    stats['Precision'] = [precision_score(y_test, preds, average='micro')] \n",
        "    stats['Recall'] = [recall_score(y_test, preds, average='micro')]\n",
        "    stats['F1'] = [f1_score(y_test, preds, average='micro')]\n",
        "    stats['Matthews'] = [matthews_corrcoef(y_test, preds)]\n",
        "    display(stats)"
      ]
    },
    {
      "cell_type": "markdown",
      "metadata": {
        "id": "ne-DZL-qC9rn"
      },
      "source": [
        " - Data"
      ]
    },
    {
      "cell_type": "code",
      "execution_count": 57,
      "metadata": {
        "colab": {
          "base_uri": "https://localhost:8080/"
        },
        "id": "T3pqzqrAC9ro",
        "outputId": "7cfdf77c-e319-42ec-da01-f1922df95481"
      },
      "outputs": [
        {
          "name": "stdout",
          "output_type": "stream",
          "text": [
            "(150, 2)\n",
            "(150,)\n"
          ]
        }
      ],
      "source": [
        "iris = datasets.load_iris()\n",
        "X = iris.data[:, :2] # we only take the first two features. We could\n",
        "print(X.shape)\n",
        " # avoid this ugly slicing by using a two-dim dataset\n",
        "y = iris.target\n",
        "print(y.shape)"
      ]
    },
    {
      "cell_type": "markdown",
      "metadata": {
        "id": "Ci6fQnQqC9rp"
      },
      "source": [
        "\n",
        "## 4.1\n"
      ]
    },
    {
      "cell_type": "markdown",
      "metadata": {
        "id": "xs0Omr9LC9rq"
      },
      "source": [
        " - Our assumption is that if support vectors are removed this means that the decision boundary would be reduced given than less point would be \"allowed\" inside it, being the extreme case where no slack is allowed and all the support vector lie along the margin. On the other hand by allowing more support vectors, this would generate a wider margin, bigger error, but also improve generalization and allow to find separation of data that isn't linearly separable."
      ]
    },
    {
      "cell_type": "markdown",
      "metadata": {
        "id": "LeIQqVWyC9rq"
      },
      "source": [
        "## 4.2 "
      ]
    },
    {
      "attachments": {},
      "cell_type": "markdown",
      "metadata": {
        "id": "ucaJjV6GC9rr"
      },
      "source": [
        "\n",
        "- Model with base support vectors"
      ]
    },
    {
      "cell_type": "code",
      "execution_count": 58,
      "metadata": {
        "id": "OI5TMiNNCZU9"
      },
      "outputs": [],
      "source": [
        "svc = svm.SVC(kernel='poly').fit(X, y)"
      ]
    },
    {
      "attachments": {},
      "cell_type": "markdown",
      "metadata": {
        "id": "dOP2T28MDx28"
      },
      "source": [
        "- Model with removed support vectors\n",
        "    - We will remove the 20 first support vectors"
      ]
    },
    {
      "cell_type": "code",
      "execution_count": 59,
      "metadata": {
        "id": "w8F93xoQDpD0"
      },
      "outputs": [
        {
          "name": "stdout",
          "output_type": "stream",
          "text": [
            "The removed support vectors were: [36 41 50 51 52 54 55 56 57 58 61 62 63 65 67 68 70 71 72 73]\n"
          ]
        }
      ],
      "source": [
        "# get support vectors to be removed\n",
        "support_indices = svc.support_\n",
        "support_indices[:20]\n",
        "\n",
        "#remove support vectors\n",
        "reduced_X = np.delete(X, support_indices[:20], axis=0)\n",
        "reduced_y = np.delete(y, support_indices[:20])\n",
        "\n",
        "# train model with 20 less support vectors\n",
        "svc_reduced = svm.SVC(kernel='poly').fit(reduced_X, reduced_y)\n",
        "\n",
        "print(\"The removed support vectors were: \" + str(support_indices[:20]))"
      ]
    },
    {
      "attachments": {},
      "cell_type": "markdown",
      "metadata": {
        "id": "JWshcVdQEK8I"
      },
      "source": [
        "- Plots for both models"
      ]
    },
    {
      "cell_type": "code",
      "execution_count": 60,
      "metadata": {
        "colab": {
          "base_uri": "https://localhost:8080/",
          "height": 683
        },
        "id": "Op_rPKA0EQwi",
        "outputId": "cf647bf2-2cbb-4acc-f3e0-a74a89747461"
      },
      "outputs": [
        {
          "data": {
            "image/png": "[encoded data removed]",
            "text/plain": [
              "<Figure size 864x576 with 1 Axes>"
            ]
          },
          "metadata": {},
          "output_type": "display_data"
        },
        {
          "data": {
            "image/png": "[encoded data removed]",
            "text/plain": [
              "<Figure size 864x576 with 1 Axes>"
            ]
          },
          "metadata": {},
          "output_type": "display_data"
        }
      ],
      "source": [
        "svm_plot(svc , \"polynomial\", X, y)\n",
        "svm_plot(svc_reduced, \"polynomial\", reduced_X, reduced_y)\n",
        "plt.show()"
      ]
    },
    {
      "attachments": {},
      "cell_type": "markdown",
      "metadata": {
        "id": "RnwyywAuILRq"
      },
      "source": [
        "- Reducing the number of support vectors by 20 generated a very pronounced change specifically in the curve separating the classes denoting flowers that are of the species virginica and of versicolor (yellow and brown).\n"
      ]
    },
    {
      "attachments": {},
      "cell_type": "markdown",
      "metadata": {
        "id": "bvL-Ejj8J3Bk"
      },
      "source": [
        "\n",
        "\n",
        "- Given that the above plots weren't very indicative of whats actually happening with the margins we decided  create a diferent plot were its possible to better vizualize the margins as well as to obtain the marigin size.\n",
        "    - The formula used to obtain the margin was $ 2/\\Vert W \\Vert $ and is present in the function block. To  obtain the the margin, \"model.coef_\" was needed which is only obtainable using a support vector machine with linear kernel therefore this will be the kernel used\n"
      ]
    },
    {
      "cell_type": "code",
      "execution_count": 61,
      "metadata": {
        "colab": {
          "base_uri": "https://localhost:8080/",
          "height": 1000
        },
        "id": "BqdHNJJYC9rs",
        "outputId": "56c0bc8b-d2aa-4562-d29a-c51c3fa9800e"
      },
      "outputs": [
        {
          "data": {
            "image/png": "[encoded data removed]",
            "text/plain": [
              "<Figure size 720x576 with 1 Axes>"
            ]
          },
          "metadata": {},
          "output_type": "display_data"
        },
        {
          "data": {
            "image/png": "[encoded data removed]",
            "text/plain": [
              "<Figure size 720x576 with 1 Axes>"
            ]
          },
          "metadata": {},
          "output_type": "display_data"
        }
      ],
      "source": [
        "# Full Model\n",
        "svc = svm.SVC(kernel='linear').fit(X, y)\n",
        "margin_plot(svc, X, y)\n",
        "# Reduced Model\n",
        "svc_reduced = svm.SVC(kernel='linear').fit(reduced_X, reduced_y)\n",
        "margin_plot(svc_reduced, reduced_X, reduced_y)"
      ]
    },
    {
      "attachments": {},
      "cell_type": "markdown",
      "metadata": {
        "id": "yozRNVK7C9ru"
      },
      "source": [
        " - The results seem to be alligned with the initial assumptions (4.1).  The margin size reduced when support vectors were removed from de dataset, in this specific case a diference of .01 bewtween margin sizes. Also worth noting that when the number of support vectors is reduced, less data points fall inside the margin which translates into a better fiting and less error but with the possible tradeoff of the model having a reduced capability to generalize (overfitting). "
      ]
    },
    {
      "cell_type": "markdown",
      "metadata": {
        "id": "wFgXUVOaC9ru"
      },
      "source": [
        "# 5"
      ]
    },
    {
      "cell_type": "markdown",
      "metadata": {
        "id": "zNzSAzD8C9rv"
      },
      "source": [
        " - Data"
      ]
    },
    {
      "cell_type": "code",
      "execution_count": 62,
      "metadata": {
        "id": "PDwgXr2TC9rv"
      },
      "outputs": [],
      "source": [
        "iris = datasets.load_iris()\n",
        "X = iris.data[:, :2] \n",
        "y = iris.target\n",
        "\n",
        "#train-test split + IVS\n",
        "X_TRAIN, X_IVS, y_TRAIN, y_IVS = train_test_split(X, y, test_size = 0.2, random_state = 123)\n",
        "X_train, X_test, y_train, y_test = train_test_split(X_TRAIN, y_TRAIN, test_size=0.2, random_state=22)"
      ]
    },
    {
      "cell_type": "markdown",
      "metadata": {
        "id": "V2Dd2lQ1C9rv"
      },
      "source": [
        " - Grid Search"
      ]
    },
    {
      "cell_type": "code",
      "execution_count": 63,
      "metadata": {
        "colab": {
          "base_uri": "https://localhost:8080/"
        },
        "id": "lwXJXSChC9rv",
        "outputId": "e9b9d05a-4ce1-4d43-ccb2-44c94b0286d0"
      },
      "outputs": [
        {
          "name": "stdout",
          "output_type": "stream",
          "text": [
            "Best parameters for SVC: {'C': 1000, 'gamma': 0.001}\n"
          ]
        }
      ],
      "source": [
        "#Using grid search\n",
        "c_p = [1000, 100, 10, 1, 0.5, 1e-1, 0.05, 1e-2, 1e-3, 1e-5]\n",
        "gamma_p = [1000, 100, 10, \"scale\", \"auto\", 1, 0.5, 1e-1, 0.05, 1e-2, 1e-3, 1e-5]\n",
        "param_grid = {\"C\": c_p, \"gamma\": gamma_p}\n",
        "\n",
        "#since in the question it is not specified if more hyperparameters are to be optimized\n",
        "#the remaining ones (all except for C and gamma will be left as their default value\n",
        "#including the kernel as rbf)\n",
        "\n",
        "svc = svm.SVC()\n",
        "\n",
        "#default cv parameter value is 5\n",
        "gs_svc = GridSearchCV(estimator = svc, param_grid = param_grid, scoring=\"accuracy\").fit(X_train, y_train)\n",
        "\n",
        "print(\"Best parameters for SVC:\", gs_svc.best_params_)"
      ]
    },
    {
      "cell_type": "markdown",
      "metadata": {
        "id": "tnf_gfBmC9rv"
      },
      "source": [
        " - The default kernel (rbf) will be maintained as no indication of varying the kernel used was provided.\n",
        " "
      ]
    },
    {
      "attachments": {},
      "cell_type": "markdown",
      "metadata": {
        "id": "gCajnPpOC9rv"
      },
      "source": [
        "## Model comparison"
      ]
    },
    {
      "attachments": {},
      "cell_type": "markdown",
      "metadata": {},
      "source": [
        "### Optimized Model"
      ]
    },
    {
      "cell_type": "code",
      "execution_count": 64,
      "metadata": {
        "colab": {
          "base_uri": "https://localhost:8080/",
          "height": 99
        },
        "id": "66cpDidmC9rw",
        "outputId": "b67155b0-c455-4d39-8b4b-e517ae960cae"
      },
      "outputs": [
        {
          "data": {
            "text/html": [
              "<div>\n",
              "<style scoped>\n",
              "    .dataframe tbody tr th:only-of-type {\n",
              "        vertical-align: middle;\n",
              "    }\n",
              "\n",
              "    .dataframe tbody tr th {\n",
              "        vertical-align: top;\n",
              "    }\n",
              "\n",
              "    .dataframe thead th {\n",
              "        text-align: right;\n",
              "    }\n",
              "</style>\n",
              "<table border=\"1\" class=\"dataframe\">\n",
              "  <thead>\n",
              "    <tr style=\"text-align: right;\">\n",
              "      <th></th>\n",
              "      <th>Precision</th>\n",
              "      <th>Recall</th>\n",
              "      <th>F1</th>\n",
              "      <th>Matthews</th>\n",
              "    </tr>\n",
              "  </thead>\n",
              "  <tbody>\n",
              "    <tr>\n",
              "      <th>0</th>\n",
              "      <td>0.708333</td>\n",
              "      <td>0.708333</td>\n",
              "      <td>0.708333</td>\n",
              "      <td>0.576166</td>\n",
              "    </tr>\n",
              "  </tbody>\n",
              "</table>\n",
              "</div>"
            ],
            "text/plain": [
              "   Precision    Recall        F1  Matthews\n",
              "0   0.708333  0.708333  0.708333  0.576166"
            ]
          },
          "metadata": {},
          "output_type": "display_data"
        },
        {
          "name": "stdout",
          "output_type": "stream",
          "text": [
            "None\n"
          ]
        }
      ],
      "source": [
        "# Retrieving the best estimator model prediction statistics\n",
        "preds = gs_svc.best_estimator_.predict(X_test)\n",
        "\n",
        "# calculation of scores\n",
        "print(report(y_test, preds))"
      ]
    },
    {
      "attachments": {},
      "cell_type": "markdown",
      "metadata": {
        "id": "_bw_D0wmC9rw"
      },
      "source": [
        " - Now with the IVS (Independent validation set)"
      ]
    },
    {
      "cell_type": "code",
      "execution_count": 65,
      "metadata": {
        "colab": {
          "base_uri": "https://localhost:8080/",
          "height": 99
        },
        "id": "Vou5c8KDC9rw",
        "outputId": "07139800-e996-40b2-fcad-312160553008"
      },
      "outputs": [
        {
          "data": {
            "text/html": [
              "<div>\n",
              "<style scoped>\n",
              "    .dataframe tbody tr th:only-of-type {\n",
              "        vertical-align: middle;\n",
              "    }\n",
              "\n",
              "    .dataframe tbody tr th {\n",
              "        vertical-align: top;\n",
              "    }\n",
              "\n",
              "    .dataframe thead th {\n",
              "        text-align: right;\n",
              "    }\n",
              "</style>\n",
              "<table border=\"1\" class=\"dataframe\">\n",
              "  <thead>\n",
              "    <tr style=\"text-align: right;\">\n",
              "      <th></th>\n",
              "      <th>Precision</th>\n",
              "      <th>Recall</th>\n",
              "      <th>F1</th>\n",
              "      <th>Matthews</th>\n",
              "    </tr>\n",
              "  </thead>\n",
              "  <tbody>\n",
              "    <tr>\n",
              "      <th>0</th>\n",
              "      <td>0.866667</td>\n",
              "      <td>0.866667</td>\n",
              "      <td>0.866667</td>\n",
              "      <td>0.820089</td>\n",
              "    </tr>\n",
              "  </tbody>\n",
              "</table>\n",
              "</div>"
            ],
            "text/plain": [
              "   Precision    Recall        F1  Matthews\n",
              "0   0.866667  0.866667  0.866667  0.820089"
            ]
          },
          "metadata": {},
          "output_type": "display_data"
        },
        {
          "name": "stdout",
          "output_type": "stream",
          "text": [
            "None\n"
          ]
        }
      ],
      "source": [
        "#Training and testing model with optimal combination of hyperparameters with IVS\n",
        "best_svc = svm.SVC(C=1000, gamma=0.001)\n",
        "best_svc.fit(X_TRAIN, y_TRAIN)\n",
        "ivs_preds = best_svc.predict(X_IVS)\n",
        "print(report(y_IVS, ivs_preds))"
      ]
    },
    {
      "attachments": {},
      "cell_type": "markdown",
      "metadata": {
        "id": "odsuokm-C9rw"
      },
      "source": [
        "### Default Model"
      ]
    },
    {
      "attachments": {},
      "cell_type": "markdown",
      "metadata": {
        "id": "jEeSrnthC9rw"
      },
      "source": [
        "- The default values: C = 1.0; gama = 1 / (n_features * X.var()); Kernel RBF"
      ]
    },
    {
      "cell_type": "markdown",
      "metadata": {
        "id": "5AfPW-y4C9rw"
      },
      "source": [
        " - IVS"
      ]
    },
    {
      "cell_type": "code",
      "execution_count": 66,
      "metadata": {
        "colab": {
          "base_uri": "https://localhost:8080/",
          "height": 99
        },
        "id": "0Nxigc98C9rx",
        "outputId": "e36f7ff3-3fc6-4347-d7f6-9061bfa6bd98"
      },
      "outputs": [
        {
          "data": {
            "text/html": [
              "<div>\n",
              "<style scoped>\n",
              "    .dataframe tbody tr th:only-of-type {\n",
              "        vertical-align: middle;\n",
              "    }\n",
              "\n",
              "    .dataframe tbody tr th {\n",
              "        vertical-align: top;\n",
              "    }\n",
              "\n",
              "    .dataframe thead th {\n",
              "        text-align: right;\n",
              "    }\n",
              "</style>\n",
              "<table border=\"1\" class=\"dataframe\">\n",
              "  <thead>\n",
              "    <tr style=\"text-align: right;\">\n",
              "      <th></th>\n",
              "      <th>Precision</th>\n",
              "      <th>Recall</th>\n",
              "      <th>F1</th>\n",
              "      <th>Matthews</th>\n",
              "    </tr>\n",
              "  </thead>\n",
              "  <tbody>\n",
              "    <tr>\n",
              "      <th>0</th>\n",
              "      <td>0.833333</td>\n",
              "      <td>0.833333</td>\n",
              "      <td>0.833333</td>\n",
              "      <td>0.78223</td>\n",
              "    </tr>\n",
              "  </tbody>\n",
              "</table>\n",
              "</div>"
            ],
            "text/plain": [
              "   Precision    Recall        F1  Matthews\n",
              "0   0.833333  0.833333  0.833333   0.78223"
            ]
          },
          "metadata": {},
          "output_type": "display_data"
        },
        {
          "name": "stdout",
          "output_type": "stream",
          "text": [
            "None\n"
          ]
        }
      ],
      "source": [
        "#Comparing these metrics with the ones produced by model with default hyperparameter values\n",
        "default_svc =svm.SVC()\n",
        "default_svc.fit(X_TRAIN, y_TRAIN)\n",
        "ivs_default_preds = default_svc.predict(X_IVS)\n",
        "print(report(y_IVS, ivs_default_preds))"
      ]
    },
    {
      "cell_type": "markdown",
      "metadata": {
        "id": "D67L-SybC9rx"
      },
      "source": [
        "## Discussion"
      ]
    },
    {
      "attachments": {},
      "cell_type": "markdown",
      "metadata": {
        "id": "Qq2xhEr3C9rx"
      },
      "source": [
        "- Considering the metrics obtained with the IVS for both models, it is possible to observe th the Otimized model had a better overall metrics when compared with the Default Model.\n",
        "    - These results indicate that holding a care of optimizing the hyperparameters with cross validation will generally yield better models when compared to running versions of those models without any tuning whatsoever.\n",
        "    - Still should be considered that excessive tunning may leed to overfiting"
      ]
    },
    {
      "cell_type": "markdown",
      "metadata": {
        "id": "AnC614h1C9rx"
      },
      "source": [
        "# 6"
      ]
    },
    {
      "cell_type": "markdown",
      "metadata": {
        "id": "Nh89cBeOC9rx"
      },
      "source": [
        " - Data division into X and y "
      ]
    },
    {
      "cell_type": "code",
      "execution_count": 67,
      "metadata": {
        "id": "kr5p0xihC9rx"
      },
      "outputs": [],
      "source": [
        "points = pd.read_csv(\"points.csv\", on_bad_lines=\"skip\", delimiter=\",\")\n",
        "\n",
        "X = points.iloc[:,:2]\n",
        "\n",
        "points['color'].replace({'Blue': 1, 'Red': 0}, inplace = True)\n",
        "label = points.iloc[:,2:]"
      ]
    },
    {
      "attachments": {},
      "cell_type": "markdown",
      "metadata": {
        "id": "J8VGF_wYC9rx"
      },
      "source": [
        " - Data vizualization"
      ]
    },
    {
      "cell_type": "code",
      "execution_count": 68,
      "metadata": {
        "colab": {
          "base_uri": "https://localhost:8080/",
          "height": 519
        },
        "id": "zjv_AfRwC9ry",
        "outputId": "26964462-5353-4f86-9472-9a2990c8d8e8"
      },
      "outputs": [
        {
          "data": {
            "text/plain": [
              "<function matplotlib.pyplot.show(close=None, block=None)>"
            ]
          },
          "execution_count": 68,
          "metadata": {},
          "output_type": "execute_result"
        },
        {
          "data": {
            "image/png": "[encoded data removed]",
            "text/plain": [
              "<Figure size 864x576 with 1 Axes>"
            ]
          },
          "metadata": {},
          "output_type": "display_data"
        }
      ],
      "source": [
        "sns.set(rc={'figure.figsize':(12,8)})\n",
        "for i in range(len(points.index)):\n",
        "  if points[\"color\"][i]==0:\n",
        "    plt.scatter(points.iloc[i][\"x\"], points.iloc[i][\"y\"], marker = \"o\", c = \"r\")\n",
        "  else:\n",
        "    plt.scatter(points.iloc[i][\"x\"], points.iloc[i][\"y\"], marker = \"o\", c = \"b\")\n",
        "plt.title(\"Scatter for data distribution\" )\n",
        "plt.show"
      ]
    },
    {
      "attachments": {},
      "cell_type": "markdown",
      "metadata": {
        "id": "MhLTTzkjC9ry"
      },
      "source": [
        "# 6.1\n",
        "### New feature"
      ]
    },
    {
      "attachments": {},
      "cell_type": "markdown",
      "metadata": {
        "id": "0ebZ8OYBC9ry"
      },
      "source": [
        "- Lets try to find the aditional feature (z) to have a hyper-plane that separates the classes\n",
        "    - This will be a function z=(x,y) implemented in such a way that through the increase in dimensions from x and y to x, y and z we are thus able to linearly separate the red from the blue dots.\n",
        "        - Given that Logarithms tend to contribute to linearization when handling data of a non-linear nature we decided to try applying it to the variables"
      ]
    },
    {
      "cell_type": "code",
      "execution_count": 69,
      "metadata": {
        "id": "JlIqvwQlNDzl"
      },
      "outputs": [],
      "source": [
        "x = points[\"x\"]\n",
        "y = points[\"y\"]\n",
        "z = 3*x - np.log(y)\n",
        "points[\"z\"] = z"
      ]
    },
    {
      "attachments": {},
      "cell_type": "markdown",
      "metadata": {
        "id": "kAt82rvwC9rz"
      },
      "source": [
        "- Vizualization of x and new feature (z)"
      ]
    },
    {
      "cell_type": "code",
      "execution_count": 70,
      "metadata": {
        "colab": {
          "base_uri": "https://localhost:8080/",
          "height": 503
        },
        "id": "HC8A8oclC9rz",
        "outputId": "415c3e74-8ce1-4c32-9dd4-2b1190a5997a"
      },
      "outputs": [
        {
          "data": {
            "text/plain": [
              "<function matplotlib.pyplot.show(close=None, block=None)>"
            ]
          },
          "execution_count": 70,
          "metadata": {},
          "output_type": "execute_result"
        },
        {
          "data": {
            "image/png": "[encoded data removed]",
            "text/plain": [
              "<Figure size 864x576 with 1 Axes>"
            ]
          },
          "metadata": {},
          "output_type": "display_data"
        }
      ],
      "source": [
        "sns.set(rc={'figure.figsize':(12,8)})\n",
        "for i in range(len(points.index)):\n",
        "  if points[\"color\"][i]==0:\n",
        "    plt.scatter(points.iloc[i][\"x\"], points.iloc[i][\"z\"], marker = \"o\", c = \"r\")\n",
        "  else:\n",
        "    plt.scatter(points.iloc[i][\"x\"], points.iloc[i][\"z\"], marker = \"o\", c = \"b\")\n",
        "plt.show"
      ]
    },
    {
      "attachments": {},
      "cell_type": "markdown",
      "metadata": {
        "id": "IfRtXW-nC9rz"
      },
      "source": [
        " - In terms of the additional feature, through trial and error we observed that the log was better suited if applied to the y and would work well when subtracted from 3*x.\n",
        "    - This transformation seems to be hable to creat linearly seperable data\n",
        "    - To confirm it the hyperplane will be drawn"
      ]
    },
    {
      "cell_type": "markdown",
      "metadata": {
        "id": "8S3O-SgKC9rz"
      },
      "source": [
        "### The Hyperplane"
      ]
    },
    {
      "attachments": {},
      "cell_type": "markdown",
      "metadata": {
        "id": "jNPnzHBmC9r0"
      },
      "source": [
        " - In order to draw a hyperplane we will fit a linear svm to the new transformed data."
      ]
    },
    {
      "cell_type": "code",
      "execution_count": 71,
      "metadata": {
        "id": "9kMEc7IzC9r0"
      },
      "outputs": [
        {
          "name": "stderr",
          "output_type": "stream",
          "text": [
            "c:\\Users\\afbso\\anaconda3\\lib\\site-packages\\sklearn\\utils\\validation.py:993: DataConversionWarning:\n",
            "\n",
            "A column-vector y was passed when a 1d array was expected. Please change the shape of y to (n_samples, ), for example using ravel().\n",
            "\n"
          ]
        }
      ],
      "source": [
        "new_x = points[[\"x\", \"z\"]]\n",
        "\n",
        "svc = svm.SVC(kernel='linear').fit(new_x, label) # with default parameters "
      ]
    },
    {
      "attachments": {},
      "cell_type": "markdown",
      "metadata": {
        "id": "qCn3CKpwC9r0"
      },
      "source": [
        " - Hyperplane Vizualization"
      ]
    },
    {
      "cell_type": "code",
      "execution_count": 72,
      "metadata": {
        "id": "wNQyqMeEC9r0"
      },
      "outputs": [
        {
          "name": "stderr",
          "output_type": "stream",
          "text": [
            "c:\\Users\\afbso\\anaconda3\\lib\\site-packages\\sklearn\\base.py:450: UserWarning:\n",
            "\n",
            "X does not have valid feature names, but SVC was fitted with feature names\n",
            "\n"
          ]
        },
        {
          "data": {
            "image/png": "[encoded data removed]",
            "text/plain": [
              "<Figure size 864x576 with 1 Axes>"
            ]
          },
          "metadata": {},
          "output_type": "display_data"
        }
      ],
      "source": [
        "# Grid\n",
        "new_x = np.array(new_x)\n",
        "x_min, x_max = new_x[:, 0].min() - 1, new_x[:, 0].max() + 1\n",
        "y_min, y_max = new_x[:, 1].min() - 1, new_x[:, 1].max() + 1\n",
        "h = -(x_max / x_min)/100\n",
        "xx, yy = np.meshgrid(np.arange(x_min, x_max, h),\n",
        "np.arange(y_min, y_max, h))\n",
        "plt.subplot(1, 1, 1)\n",
        "Z = svc.predict(np.c_[xx.ravel(), yy.ravel()])\n",
        "Z = Z.reshape(xx.shape)\n",
        "plt.contourf(xx, yy, Z, cmap=plt.cm.Paired, alpha=0.2)\n",
        "plt.scatter(points[\"x\"], points[\"z\"], c=points[\"color\"], cmap=plt.cm.Paired)\n",
        "plt.xlabel('X')\n",
        "plt.ylabel('Z')\n",
        "plt.xlim(xx.min(), xx.max())\n",
        "plt.title('SVC with Linear kernel')\n",
        "plt.show()"
      ]
    },
    {
      "attachments": {},
      "cell_type": "markdown",
      "metadata": {
        "id": "dP2yvQ0sC9r0"
      },
      "source": [
        "\n",
        "- Even if 4 blues are miss classified the new feature was close to enabled a total linear separation between both classes"
      ]
    },
    {
      "attachments": {},
      "cell_type": "markdown",
      "metadata": {
        "id": "AYlWKxPC5Lb9"
      },
      "source": [
        "# 6.2"
      ]
    },
    {
      "attachments": {},
      "cell_type": "markdown",
      "metadata": {},
      "source": [
        "- Lets vizualize the separation of the data in 3D"
      ]
    },
    {
      "cell_type": "code",
      "execution_count": 73,
      "metadata": {
        "colab": {
          "base_uri": "https://localhost:8080/",
          "height": 542
        },
        "id": "50NDoXZ05QK_",
        "outputId": "72e385cf-9cab-42c3-c324-daa5deb3ba81"
      },
      "outputs": [
        {
          "data": {
            "application/vnd.plotly.v1+json": {
              "config": {
                "plotlyServerURL": "https://plot.ly"
              },
              "data": [
                {
                  "hovertemplate": "x=%{x}<br>y=%{y}<br>z=%{z}<br>color=%{marker.color}<extra></extra>",
                  "legendgroup": "",
                  "marker": {
                    "color": [
                      0,
                      0,
                      0,
                      0,
                      0,
                      0,
                      0,
                      0,
                      0,
                      0,
                      0,
                      0,
                      1,
                      1,
                      1,
                      1,
                      1,
                      1,
                      1,
                      1,
                      1,
                      1,
                      1,
                      1
                    ],
                    "coloraxis": "coloraxis",
                    "symbol": "circle"
                  },
                  "mode": "markers",
                  "name": "",
                  "scene": "scene",
                  "showlegend": false,
                  "type": "scatter3d",
                  "x": [
                    -6.5,
                    -5.7,
                    -5,
                    -3.2,
                    -2.2,
                    -1.2,
                    1.25,
                    3,
                    4.2,
                    5,
                    6,
                    5.8,
                    -3.8,
                    -3,
                    -2,
                    -1.5,
                    -1.3,
                    -0.8,
                    0.6,
                    1.3,
                    1.3,
                    1.5,
                    3,
                    3.25
                  ],
                  "y": [
                    4.75,
                    3.2,
                    2.2,
                    1.25,
                    1.1,
                    0.8,
                    0.7,
                    1,
                    1.7,
                    2,
                    3.8,
                    6,
                    3.8,
                    5,
                    3.4,
                    6.8,
                    5,
                    3,
                    5.5,
                    7,
                    4.6,
                    3,
                    5.5,
                    4.4
                  ],
                  "z": [
                    -21.05814461804655,
                    -18.263150809805683,
                    -15.788457360364271,
                    -9.823143551314212,
                    -6.695310179804325,
                    -3.37685644868579,
                    4.1066749439387324,
                    9,
                    12.069371748937831,
                    14.306852819440055,
                    16.66499893326766,
                    15.608240530771944,
                    -12.73500106673234,
                    -10.6094379124341,
                    -7.223775431622116,
                    -6.416922612182061,
                    -5.509437912434101,
                    -3.4986122886681104,
                    0.09525190776157455,
                    1.9540898509446871,
                    2.373943696504951,
                    3.40138771133189,
                    7.295251907761575,
                    8.268395459075784
                  ]
                }
              ],
              "layout": {
                "coloraxis": {
                  "colorbar": {
                    "title": {
                      "text": "color"
                    }
                  },
                  "colorscale": [
                    [
                      0,
                      "#0d0887"
                    ],
                    [
                      0.1111111111111111,
                      "#46039f"
                    ],
                    [
                      0.2222222222222222,
                      "#7201a8"
                    ],
                    [
                      0.3333333333333333,
                      "#9c179e"
                    ],
                    [
                      0.4444444444444444,
                      "#bd3786"
                    ],
                    [
                      0.5555555555555556,
                      "#d8576b"
                    ],
                    [
                      0.6666666666666666,
                      "#ed7953"
                    ],
                    [
                      0.7777777777777778,
                      "#fb9f3a"
                    ],
                    [
                      0.8888888888888888,
                      "#fdca26"
                    ],
                    [
                      1,
                      "#f0f921"
                    ]
                  ]
                },
                "legend": {
                  "tracegroupgap": 0
                },
                "margin": {
                  "t": 60
                },
                "scene": {
                  "domain": {
                    "x": [
                      0,
                      1
                    ],
                    "y": [
                      0,
                      1
                    ]
                  },
                  "xaxis": {
                    "title": {
                      "text": "x"
                    }
                  },
                  "yaxis": {
                    "title": {
                      "text": "y"
                    }
                  },
                  "zaxis": {
                    "title": {
                      "text": "z"
                    }
                  }
                },
                "template": {
                  "data": {
                    "bar": [
                      {
                        "error_x": {
                          "color": "#2a3f5f"
                        },
                        "error_y": {
                          "color": "#2a3f5f"
                        },
                        "marker": {
                          "line": {
                            "color": "#E5ECF6",
                            "width": 0.5
                          },
                          "pattern": {
                            "fillmode": "overlay",
                            "size": 10,
                            "solidity": 0.2
                          }
                        },
                        "type": "bar"
                      }
                    ],
                    "barpolar": [
                      {
                        "marker": {
                          "line": {
                            "color": "#E5ECF6",
                            "width": 0.5
                          },
                          "pattern": {
                            "fillmode": "overlay",
                            "size": 10,
                            "solidity": 0.2
                          }
                        },
                        "type": "barpolar"
                      }
                    ],
                    "carpet": [
                      {
                        "aaxis": {
                          "endlinecolor": "#2a3f5f",
                          "gridcolor": "white",
                          "linecolor": "white",
                          "minorgridcolor": "white",
                          "startlinecolor": "#2a3f5f"
                        },
                        "baxis": {
                          "endlinecolor": "#2a3f5f",
                          "gridcolor": "white",
                          "linecolor": "white",
                          "minorgridcolor": "white",
                          "startlinecolor": "#2a3f5f"
                        },
                        "type": "carpet"
                      }
                    ],
                    "choropleth": [
                      {
                        "colorbar": {
                          "outlinewidth": 0,
                          "ticks": ""
                        },
                        "type": "choropleth"
                      }
                    ],
                    "contour": [
                      {
                        "colorbar": {
                          "outlinewidth": 0,
                          "ticks": ""
                        },
                        "colorscale": [
                          [
                            0,
                            "#0d0887"
                          ],
                          [
                            0.1111111111111111,
                            "#46039f"
                          ],
                          [
                            0.2222222222222222,
                            "#7201a8"
                          ],
                          [
                            0.3333333333333333,
                            "#9c179e"
                          ],
                          [
                            0.4444444444444444,
                            "#bd3786"
                          ],
                          [
                            0.5555555555555556,
                            "#d8576b"
                          ],
                          [
                            0.6666666666666666,
                            "#ed7953"
                          ],
                          [
                            0.7777777777777778,
                            "#fb9f3a"
                          ],
                          [
                            0.8888888888888888,
                            "#fdca26"
                          ],
                          [
                            1,
                            "#f0f921"
                          ]
                        ],
                        "type": "contour"
                      }
                    ],
                    "contourcarpet": [
                      {
                        "colorbar": {
                          "outlinewidth": 0,
                          "ticks": ""
                        },
                        "type": "contourcarpet"
                      }
                    ],
                    "heatmap": [
                      {
                        "colorbar": {
                          "outlinewidth": 0,
                          "ticks": ""
                        },
                        "colorscale": [
                          [
                            0,
                            "#0d0887"
                          ],
                          [
                            0.1111111111111111,
                            "#46039f"
                          ],
                          [
                            0.2222222222222222,
                            "#7201a8"
                          ],
                          [
                            0.3333333333333333,
                            "#9c179e"
                          ],
                          [
                            0.4444444444444444,
                            "#bd3786"
                          ],
                          [
                            0.5555555555555556,
                            "#d8576b"
                          ],
                          [
                            0.6666666666666666,
                            "#ed7953"
                          ],
                          [
                            0.7777777777777778,
                            "#fb9f3a"
                          ],
                          [
                            0.8888888888888888,
                            "#fdca26"
                          ],
                          [
                            1,
                            "#f0f921"
                          ]
                        ],
                        "type": "heatmap"
                      }
                    ],
                    "heatmapgl": [
                      {
                        "colorbar": {
                          "outlinewidth": 0,
                          "ticks": ""
                        },
                        "colorscale": [
                          [
                            0,
                            "#0d0887"
                          ],
                          [
                            0.1111111111111111,
                            "#46039f"
                          ],
                          [
                            0.2222222222222222,
                            "#7201a8"
                          ],
                          [
                            0.3333333333333333,
                            "#9c179e"
                          ],
                          [
                            0.4444444444444444,
                            "#bd3786"
                          ],
                          [
                            0.5555555555555556,
                            "#d8576b"
                          ],
                          [
                            0.6666666666666666,
                            "#ed7953"
                          ],
                          [
                            0.7777777777777778,
                            "#fb9f3a"
                          ],
                          [
                            0.8888888888888888,
                            "#fdca26"
                          ],
                          [
                            1,
                            "#f0f921"
                          ]
                        ],
                        "type": "heatmapgl"
                      }
                    ],
                    "histogram": [
                      {
                        "marker": {
                          "pattern": {
                            "fillmode": "overlay",
                            "size": 10,
                            "solidity": 0.2
                          }
                        },
                        "type": "histogram"
                      }
                    ],
                    "histogram2d": [
                      {
                        "colorbar": {
                          "outlinewidth": 0,
                          "ticks": ""
                        },
                        "colorscale": [
                          [
                            0,
                            "#0d0887"
                          ],
                          [
                            0.1111111111111111,
                            "#46039f"
                          ],
                          [
                            0.2222222222222222,
                            "#7201a8"
                          ],
                          [
                            0.3333333333333333,
                            "#9c179e"
                          ],
                          [
                            0.4444444444444444,
                            "#bd3786"
                          ],
                          [
                            0.5555555555555556,
                            "#d8576b"
                          ],
                          [
                            0.6666666666666666,
                            "#ed7953"
                          ],
                          [
                            0.7777777777777778,
                            "#fb9f3a"
                          ],
                          [
                            0.8888888888888888,
                            "#fdca26"
                          ],
                          [
                            1,
                            "#f0f921"
                          ]
                        ],
                        "type": "histogram2d"
                      }
                    ],
                    "histogram2dcontour": [
                      {
                        "colorbar": {
                          "outlinewidth": 0,
                          "ticks": ""
                        },
                        "colorscale": [
                          [
                            0,
                            "#0d0887"
                          ],
                          [
                            0.1111111111111111,
                            "#46039f"
                          ],
                          [
                            0.2222222222222222,
                            "#7201a8"
                          ],
                          [
                            0.3333333333333333,
                            "#9c179e"
                          ],
                          [
                            0.4444444444444444,
                            "#bd3786"
                          ],
                          [
                            0.5555555555555556,
                            "#d8576b"
                          ],
                          [
                            0.6666666666666666,
                            "#ed7953"
                          ],
                          [
                            0.7777777777777778,
                            "#fb9f3a"
                          ],
                          [
                            0.8888888888888888,
                            "#fdca26"
                          ],
                          [
                            1,
                            "#f0f921"
                          ]
                        ],
                        "type": "histogram2dcontour"
                      }
                    ],
                    "mesh3d": [
                      {
                        "colorbar": {
                          "outlinewidth": 0,
                          "ticks": ""
                        },
                        "type": "mesh3d"
                      }
                    ],
                    "parcoords": [
                      {
                        "line": {
                          "colorbar": {
                            "outlinewidth": 0,
                            "ticks": ""
                          }
                        },
                        "type": "parcoords"
                      }
                    ],
                    "pie": [
                      {
                        "automargin": true,
                        "type": "pie"
                      }
                    ],
                    "scatter": [
                      {
                        "marker": {
                          "colorbar": {
                            "outlinewidth": 0,
                            "ticks": ""
                          }
                        },
                        "type": "scatter"
                      }
                    ],
                    "scatter3d": [
                      {
                        "line": {
                          "colorbar": {
                            "outlinewidth": 0,
                            "ticks": ""
                          }
                        },
                        "marker": {
                          "colorbar": {
                            "outlinewidth": 0,
                            "ticks": ""
                          }
                        },
                        "type": "scatter3d"
                      }
                    ],
                    "scattercarpet": [
                      {
                        "marker": {
                          "colorbar": {
                            "outlinewidth": 0,
                            "ticks": ""
                          }
                        },
                        "type": "scattercarpet"
                      }
                    ],
                    "scattergeo": [
                      {
                        "marker": {
                          "colorbar": {
                            "outlinewidth": 0,
                            "ticks": ""
                          }
                        },
                        "type": "scattergeo"
                      }
                    ],
                    "scattergl": [
                      {
                        "marker": {
                          "colorbar": {
                            "outlinewidth": 0,
                            "ticks": ""
                          }
                        },
                        "type": "scattergl"
                      }
                    ],
                    "scattermapbox": [
                      {
                        "marker": {
                          "colorbar": {
                            "outlinewidth": 0,
                            "ticks": ""
                          }
                        },
                        "type": "scattermapbox"
                      }
                    ],
                    "scatterpolar": [
                      {
                        "marker": {
                          "colorbar": {
                            "outlinewidth": 0,
                            "ticks": ""
                          }
                        },
                        "type": "scatterpolar"
                      }
                    ],
                    "scatterpolargl": [
                      {
                        "marker": {
                          "colorbar": {
                            "outlinewidth": 0,
                            "ticks": ""
                          }
                        },
                        "type": "scatterpolargl"
                      }
                    ],
                    "scatterternary": [
                      {
                        "marker": {
                          "colorbar": {
                            "outlinewidth": 0,
                            "ticks": ""
                          }
                        },
                        "type": "scatterternary"
                      }
                    ],
                    "surface": [
                      {
                        "colorbar": {
                          "outlinewidth": 0,
                          "ticks": ""
                        },
                        "colorscale": [
                          [
                            0,
                            "#0d0887"
                          ],
                          [
                            0.1111111111111111,
                            "#46039f"
                          ],
                          [
                            0.2222222222222222,
                            "#7201a8"
                          ],
                          [
                            0.3333333333333333,
                            "#9c179e"
                          ],
                          [
                            0.4444444444444444,
                            "#bd3786"
                          ],
                          [
                            0.5555555555555556,
                            "#d8576b"
                          ],
                          [
                            0.6666666666666666,
                            "#ed7953"
                          ],
                          [
                            0.7777777777777778,
                            "#fb9f3a"
                          ],
                          [
                            0.8888888888888888,
                            "#fdca26"
                          ],
                          [
                            1,
                            "#f0f921"
                          ]
                        ],
                        "type": "surface"
                      }
                    ],
                    "table": [
                      {
                        "cells": {
                          "fill": {
                            "color": "#EBF0F8"
                          },
                          "line": {
                            "color": "white"
                          }
                        },
                        "header": {
                          "fill": {
                            "color": "#C8D4E3"
                          },
                          "line": {
                            "color": "white"
                          }
                        },
                        "type": "table"
                      }
                    ]
                  },
                  "layout": {
                    "annotationdefaults": {
                      "arrowcolor": "#2a3f5f",
                      "arrowhead": 0,
                      "arrowwidth": 1
                    },
                    "autotypenumbers": "strict",
                    "coloraxis": {
                      "colorbar": {
                        "outlinewidth": 0,
                        "ticks": ""
                      }
                    },
                    "colorscale": {
                      "diverging": [
                        [
                          0,
                          "#8e0152"
                        ],
                        [
                          0.1,
                          "#c51b7d"
                        ],
                        [
                          0.2,
                          "#de77ae"
                        ],
                        [
                          0.3,
                          "#f1b6da"
                        ],
                        [
                          0.4,
                          "#fde0ef"
                        ],
                        [
                          0.5,
                          "#f7f7f7"
                        ],
                        [
                          0.6,
                          "#e6f5d0"
                        ],
                        [
                          0.7,
                          "#b8e186"
                        ],
                        [
                          0.8,
                          "#7fbc41"
                        ],
                        [
                          0.9,
                          "#4d9221"
                        ],
                        [
                          1,
                          "#276419"
                        ]
                      ],
                      "sequential": [
                        [
                          0,
                          "#0d0887"
                        ],
                        [
                          0.1111111111111111,
                          "#46039f"
                        ],
                        [
                          0.2222222222222222,
                          "#7201a8"
                        ],
                        [
                          0.3333333333333333,
                          "#9c179e"
                        ],
                        [
                          0.4444444444444444,
                          "#bd3786"
                        ],
                        [
                          0.5555555555555556,
                          "#d8576b"
                        ],
                        [
                          0.6666666666666666,
                          "#ed7953"
                        ],
                        [
                          0.7777777777777778,
                          "#fb9f3a"
                        ],
                        [
                          0.8888888888888888,
                          "#fdca26"
                        ],
                        [
                          1,
                          "#f0f921"
                        ]
                      ],
                      "sequentialminus": [
                        [
                          0,
                          "#0d0887"
                        ],
                        [
                          0.1111111111111111,
                          "#46039f"
                        ],
                        [
                          0.2222222222222222,
                          "#7201a8"
                        ],
                        [
                          0.3333333333333333,
                          "#9c179e"
                        ],
                        [
                          0.4444444444444444,
                          "#bd3786"
                        ],
                        [
                          0.5555555555555556,
                          "#d8576b"
                        ],
                        [
                          0.6666666666666666,
                          "#ed7953"
                        ],
                        [
                          0.7777777777777778,
                          "#fb9f3a"
                        ],
                        [
                          0.8888888888888888,
                          "#fdca26"
                        ],
                        [
                          1,
                          "#f0f921"
                        ]
                      ]
                    },
                    "colorway": [
                      "#636efa",
                      "#EF553B",
                      "#00cc96",
                      "#ab63fa",
                      "#FFA15A",
                      "#19d3f3",
                      "#FF6692",
                      "#B6E880",
                      "#FF97FF",
                      "#FECB52"
                    ],
                    "font": {
                      "color": "#2a3f5f"
                    },
                    "geo": {
                      "bgcolor": "white",
                      "lakecolor": "white",
                      "landcolor": "#E5ECF6",
                      "showlakes": true,
                      "showland": true,
                      "subunitcolor": "white"
                    },
                    "hoverlabel": {
                      "align": "left"
                    },
                    "hovermode": "closest",
                    "mapbox": {
                      "style": "light"
                    },
                    "paper_bgcolor": "white",
                    "plot_bgcolor": "#E5ECF6",
                    "polar": {
                      "angularaxis": {
                        "gridcolor": "white",
                        "linecolor": "white",
                        "ticks": ""
                      },
                      "bgcolor": "#E5ECF6",
                      "radialaxis": {
                        "gridcolor": "white",
                        "linecolor": "white",
                        "ticks": ""
                      }
                    },
                    "scene": {
                      "xaxis": {
                        "backgroundcolor": "#E5ECF6",
                        "gridcolor": "white",
                        "gridwidth": 2,
                        "linecolor": "white",
                        "showbackground": true,
                        "ticks": "",
                        "zerolinecolor": "white"
                      },
                      "yaxis": {
                        "backgroundcolor": "#E5ECF6",
                        "gridcolor": "white",
                        "gridwidth": 2,
                        "linecolor": "white",
                        "showbackground": true,
                        "ticks": "",
                        "zerolinecolor": "white"
                      },
                      "zaxis": {
                        "backgroundcolor": "#E5ECF6",
                        "gridcolor": "white",
                        "gridwidth": 2,
                        "linecolor": "white",
                        "showbackground": true,
                        "ticks": "",
                        "zerolinecolor": "white"
                      }
                    },
                    "shapedefaults": {
                      "line": {
                        "color": "#2a3f5f"
                      }
                    },
                    "ternary": {
                      "aaxis": {
                        "gridcolor": "white",
                        "linecolor": "white",
                        "ticks": ""
                      },
                      "baxis": {
                        "gridcolor": "white",
                        "linecolor": "white",
                        "ticks": ""
                      },
                      "bgcolor": "#E5ECF6",
                      "caxis": {
                        "gridcolor": "white",
                        "linecolor": "white",
                        "ticks": ""
                      }
                    },
                    "title": {
                      "x": 0.05
                    },
                    "xaxis": {
                      "automargin": true,
                      "gridcolor": "white",
                      "linecolor": "white",
                      "ticks": "",
                      "title": {
                        "standoff": 15
                      },
                      "zerolinecolor": "white",
                      "zerolinewidth": 2
                    },
                    "yaxis": {
                      "automargin": true,
                      "gridcolor": "white",
                      "linecolor": "white",
                      "ticks": "",
                      "title": {
                        "standoff": 15
                      },
                      "zerolinecolor": "white",
                      "zerolinewidth": 2
                    }
                  }
                }
              }
            }
          },
          "metadata": {},
          "output_type": "display_data"
        }
      ],
      "source": [
        "fig = px.scatter_3d( x=x, y=y,z=z,color = points['color'])\n",
        "fig.show()"
      ]
    },
    {
      "attachments": {},
      "cell_type": "markdown",
      "metadata": {
        "id": "jXRLz5yF5aNK"
      },
      "source": [
        " - When plotting all three features above it would appear that the data is linearly separable to a certain degree.\n",
        " - To conclude the designed additional feature still has a lot of room for improvement for separating the classes.\n",
        " - Through the usage of different kernel functions it is expected that better separations can be discovered. "
      ]
    },
    {
      "attachments": {},
      "cell_type": "markdown",
      "metadata": {
        "id": "Y56xVAEWC9r0"
      },
      "source": [
        "# 6.3\n",
        "- Various scikit-learn SVM classifiers will be tested"
      ]
    },
    {
      "cell_type": "code",
      "execution_count": 74,
      "metadata": {
        "id": "FHUlruqtC9r1"
      },
      "outputs": [],
      "source": [
        "points = pd.read_csv(\"points.csv\", on_bad_lines=\"skip\", delimiter=\",\")\n",
        "points['color'].replace({'Blue': 1, 'Red': 0}, inplace = True)\n",
        "X = points.iloc[:,:2]\n",
        "label = points.iloc[:,2:]"
      ]
    },
    {
      "attachments": {},
      "cell_type": "markdown",
      "metadata": {
        "id": "kzNqZ4vnC9r1"
      },
      "source": [
        "### linear - default parameters"
      ]
    },
    {
      "cell_type": "code",
      "execution_count": 75,
      "metadata": {},
      "outputs": [
        {
          "name": "stderr",
          "output_type": "stream",
          "text": [
            "c:\\Users\\afbso\\anaconda3\\lib\\site-packages\\sklearn\\utils\\validation.py:993: DataConversionWarning:\n",
            "\n",
            "A column-vector y was passed when a 1d array was expected. Please change the shape of y to (n_samples, ), for example using ravel().\n",
            "\n",
            "c:\\Users\\afbso\\anaconda3\\lib\\site-packages\\sklearn\\base.py:450: UserWarning:\n",
            "\n",
            "X does not have valid feature names, but SVC was fitted with feature names\n",
            "\n"
          ]
        },
        {
          "data": {
            "image/png": "[encoded data removed]",
            "text/plain": [
              "<Figure size 864x576 with 1 Axes>"
            ]
          },
          "metadata": {},
          "output_type": "display_data"
        }
      ],
      "source": [
        "svm_plot02(\"linear\")"
      ]
    },
    {
      "cell_type": "markdown",
      "metadata": {
        "id": "G_hIUAEaC9r1"
      },
      "source": [
        "- Since it is known this is not a linearly separable problem it was expected that classifications made by this kernel would be poor. It is preferable to use our additional feature to transform the data."
      ]
    },
    {
      "cell_type": "markdown",
      "metadata": {
        "id": "BEXXpGNnC9r1"
      },
      "source": [
        "### sigmoid - default parameters"
      ]
    },
    {
      "cell_type": "code",
      "execution_count": 76,
      "metadata": {
        "colab": {
          "base_uri": "https://localhost:8080/",
          "height": 590
        },
        "id": "FtK4NLc8C9r1",
        "outputId": "0b43ef5f-fcdc-4512-b2f2-a489478099f7"
      },
      "outputs": [
        {
          "name": "stderr",
          "output_type": "stream",
          "text": [
            "c:\\Users\\afbso\\anaconda3\\lib\\site-packages\\sklearn\\utils\\validation.py:993: DataConversionWarning:\n",
            "\n",
            "A column-vector y was passed when a 1d array was expected. Please change the shape of y to (n_samples, ), for example using ravel().\n",
            "\n",
            "c:\\Users\\afbso\\anaconda3\\lib\\site-packages\\sklearn\\base.py:450: UserWarning:\n",
            "\n",
            "X does not have valid feature names, but SVC was fitted with feature names\n",
            "\n"
          ]
        },
        {
          "data": {
            "image/png": "[encoded data removed]",
            "text/plain": [
              "<Figure size 864x576 with 1 Axes>"
            ]
          },
          "metadata": {},
          "output_type": "display_data"
        }
      ],
      "source": [
        "svm_plot02('sigmoid')"
      ]
    },
    {
      "cell_type": "markdown",
      "metadata": {
        "id": "R3PJSffiC9r2"
      },
      "source": [
        "- The sigmoid is not at all appropriate for this problem with areas of classification that even the linear kernel would've predicted better."
      ]
    },
    {
      "cell_type": "markdown",
      "metadata": {
        "id": "wU6iaWNQC9r2"
      },
      "source": [
        "### polynomial - default parameters"
      ]
    },
    {
      "cell_type": "code",
      "execution_count": 77,
      "metadata": {
        "colab": {
          "base_uri": "https://localhost:8080/",
          "height": 590
        },
        "id": "CYJqcTpdC9r2",
        "outputId": "f3adf433-ab8d-439a-d19a-5075f758c78b"
      },
      "outputs": [
        {
          "name": "stderr",
          "output_type": "stream",
          "text": [
            "c:\\Users\\afbso\\anaconda3\\lib\\site-packages\\sklearn\\utils\\validation.py:993: DataConversionWarning:\n",
            "\n",
            "A column-vector y was passed when a 1d array was expected. Please change the shape of y to (n_samples, ), for example using ravel().\n",
            "\n",
            "c:\\Users\\afbso\\anaconda3\\lib\\site-packages\\sklearn\\base.py:450: UserWarning:\n",
            "\n",
            "X does not have valid feature names, but SVC was fitted with feature names\n",
            "\n"
          ]
        },
        {
          "data": {
            "image/png": "[encoded data removed]",
            "text/plain": [
              "<Figure size 864x576 with 1 Axes>"
            ]
          },
          "metadata": {},
          "output_type": "display_data"
        }
      ],
      "source": [
        "svm_plot02(\"poly\")"
      ]
    },
    {
      "cell_type": "markdown",
      "metadata": {
        "id": "h5JcqdyPC9r2"
      },
      "source": [
        " - The polynomial kernel fits very well with this \"quadratictly\" shaped data distribution of red and blue dots. With additional parameter tuning we expect the curve to fit even better to the values."
      ]
    },
    {
      "cell_type": "markdown",
      "metadata": {
        "id": "hOp2zyCUC9r2"
      },
      "source": [
        "### rbf - default parameters"
      ]
    },
    {
      "cell_type": "code",
      "execution_count": 78,
      "metadata": {
        "colab": {
          "base_uri": "https://localhost:8080/",
          "height": 590
        },
        "id": "iUMEWiv3C9r2",
        "outputId": "7b682677-9ec5-413b-e509-e52a26e9abff"
      },
      "outputs": [
        {
          "name": "stderr",
          "output_type": "stream",
          "text": [
            "c:\\Users\\afbso\\anaconda3\\lib\\site-packages\\sklearn\\utils\\validation.py:993: DataConversionWarning:\n",
            "\n",
            "A column-vector y was passed when a 1d array was expected. Please change the shape of y to (n_samples, ), for example using ravel().\n",
            "\n",
            "c:\\Users\\afbso\\anaconda3\\lib\\site-packages\\sklearn\\base.py:450: UserWarning:\n",
            "\n",
            "X does not have valid feature names, but SVC was fitted with feature names\n",
            "\n"
          ]
        },
        {
          "data": {
            "image/png": "[encoded data removed]",
            "text/plain": [
              "<Figure size 864x576 with 1 Axes>"
            ]
          },
          "metadata": {},
          "output_type": "display_data"
        }
      ],
      "source": [
        "svm_plot02(\"rbf\")"
      ]
    },
    {
      "cell_type": "markdown",
      "metadata": {
        "id": "5L9u2m11C9r2"
      },
      "source": [
        " - This kernel type performed the best out of all we tried here, accurately classifying all instances of both classes. "
      ]
    },
    {
      "attachments": {},
      "cell_type": "markdown",
      "metadata": {
        "id": "KFz9WzGqC9r2"
      },
      "source": [
        "### Final Discussion\n",
        "\n",
        "- We can conclude having tried a custom made additional feature and attempting many support vector machine models with different kernels on the \"points\" dataset that using Radial Basis Function kernel - $k(x_{n},x_{m}) = exp({-\\gamma \\Vert X - X_{i} \\Vert ^2\\over 2\\sigma^2})$ - on the Scikit's implementation of SVM that the problem is solved as optimally as possible. \n",
        "    - Potentially redoing the model tuning done on exercise 5 on these models could produce even better outcomes. "
      ]
    }
  ],
  "metadata": {
    "colab": {
      "provenance": []
    },
    "kernelspec": {
      "display_name": "base",
      "language": "python",
      "name": "python3"
    },
    "language_info": {
      "codemirror_mode": {
        "name": "ipython",
        "version": 3
      },
      "file_extension": ".py",
      "mimetype": "text/x-python",
      "name": "python",
      "nbconvert_exporter": "python",
      "pygments_lexer": "ipython3",
      "version": "3.9.12"
    },
    "orig_nbformat": 4,
    "vscode": {
      "interpreter": {
        "hash": "0e1e614ad018733ef345c31aba18c1aa215c65ba4e7fe527bebcff098eb89a09"
      }
    }
  },
  "nbformat": 4,
  "nbformat_minor": 0
}
