{
 "cells": [
  {
   "cell_type": "markdown",
   "metadata": {},
   "source": [
    "# "
   ]
  },
  {
   "cell_type": "markdown",
   "metadata": {},
   "source": [
    "# <center> Assignment 5 </center>\n",
    "<center> Martim Silva 51304 and Alexandre Sobreira 59451 </center>"
   ]
  },
  {
   "cell_type": "code",
   "execution_count": 20,
   "metadata": {},
   "outputs": [],
   "source": [
    "from sklearn.datasets import load_iris\n",
    "import matplotlib.pyplot as plt\n",
    "import pandas as pd\n",
    "import numpy as np\n",
    "from sklearn.model_selection import KFold, GridSearchCV, train_test_split, cross_val_predict, cross_val_score\n",
    "from sklearn.metrics import confusion_matrix, matthews_corrcoef, accuracy_score\n",
    "from sklearn.naive_bayes import GaussianNB\n",
    "from sklearn.ensemble import RandomForestClassifier\n",
    "from IPython.display import display\n",
    "from pomegranate import *"
   ]
  },
  {
   "cell_type": "code",
   "execution_count": 21,
   "metadata": {},
   "outputs": [],
   "source": [
    "def mdl_stats(gs, X_test, y_test):\n",
    "    preds = gs.best_estimator_.predict(X_test)\n",
    "    stats = pd.DataFrame()\n",
    "    stats['Accuracy'] = [accuracy_score(y_test, preds)]  \n",
    "    stats['Matthews Corr. Coef.'] = [matthews_corrcoef(y_test, preds)]\n",
    "    cm = confusion_matrix(y_test, preds)\n",
    "    return stats, pd.DataFrame(cm)"
   ]
  },
  {
   "cell_type": "markdown",
   "metadata": {},
   "source": [
    "<div align=\"center\">\n",
    "    <img src=\"Bayesian Network _Causal Net..png\">\n",
    "</div>\n",
    "\n",
    "<center> Figure 1: Bayesian Network / Causal Net. Variables A, B, C and D are represented as nodes, and a truth table is given alongside them. </center>\n"
   ]
  },
  {
   "cell_type": "markdown",
   "metadata": {},
   "source": [
    "## Bayesian Network Creation"
   ]
  },
  {
   "cell_type": "markdown",
   "metadata": {},
   "source": [
    "### Tables"
   ]
  },
  {
   "attachments": {},
   "cell_type": "markdown",
   "metadata": {},
   "source": [
    "- The first step will be to create the probability tables.\n",
    "- The type of probability must be explicitly spelt followed by a list of the parents in the same orders the columns take in the tables provided (image above)\n",
    "    - Table A will be the only table with discrete ditribution given that it doesnt have any conditional probabilities.\n",
    "    - All the others will be conditional probability tables.\n",
    "        - Table c is dependent on both table a and b.\n",
    "        - Table b is dependent on table a\n",
    "        - Table d is dependent on table b"
   ]
  },
  {
   "cell_type": "code",
   "execution_count": 22,
   "metadata": {},
   "outputs": [],
   "source": [
    "a_table = DiscreteDistribution({\"T\": .3, \"F\": .7})\n",
    "b_table = ConditionalProbabilityTable(\n",
    "                                        [[\"F\", \"T\", .4],\n",
    "                                         [\"F\", \"F\", .6],\n",
    "                                         [\"T\", \"T\", .8],\n",
    "                                         [\"T\", \"F\", .2]], [a_table])\n",
    "c_table = ConditionalProbabilityTable([[\"F\", \"F\", \"T\", .1],\n",
    "                                       [\"F\", \"F\", \"F\", .9],\n",
    "                                       [\"F\", \"T\", \"T\", .7],\n",
    "                                      [\"F\", \"T\", \"F\", .3],\n",
    "                                      [\"T\", \"F\", \"T\", .5],\n",
    "                                      [\"T\", \"F\", \"F\", .5],\n",
    "                                      [\"T\", \"T\", \"T\", .99],\n",
    "                                      [\"T\", \"T\", \"F\", .01]], [a_table, b_table])\n",
    "d_table = ConditionalProbabilityTable([[\"F\", \"T\", .55],\n",
    "                                      [\"F\", \"F\", .45],\n",
    "                                      [\"T\", \"T\", .2],\n",
    "                                      [\"T\", \"F\", .8]], [b_table])"
   ]
  },
  {
   "cell_type": "markdown",
   "metadata": {},
   "source": [
    "### Nodes"
   ]
  },
  {
   "cell_type": "markdown",
   "metadata": {},
   "source": [
    "- Our network will have 4 nodes each one with a probability table associated"
   ]
  },
  {
   "cell_type": "code",
   "execution_count": 23,
   "metadata": {},
   "outputs": [],
   "source": [
    "a_node = Node(a_table, name = \"A\")\n",
    "b_node = Node(b_table, name = \"B\")\n",
    "c_node = Node(c_table, name = \"C\")\n",
    "d_node = Node(d_table, name = \"D\")"
   ]
  },
  {
   "cell_type": "markdown",
   "metadata": {},
   "source": [
    "- this nodes are very similar to the hidden markov models \"states\""
   ]
  },
  {
   "cell_type": "markdown",
   "metadata": {},
   "source": [
    "### Model"
   ]
  },
  {
   "attachments": {},
   "cell_type": "markdown",
   "metadata": {},
   "source": [
    "- Finaly the model (Bayesian Network) is created adding the states (nodes) and the edges (connections)"
   ]
  },
  {
   "cell_type": "code",
   "execution_count": 24,
   "metadata": {},
   "outputs": [],
   "source": [
    "model = BayesianNetwork()\n",
    "model.add_states(a_node, b_node, c_node, d_node)\n",
    "model.add_edge(a_node, b_node)\n",
    "model.add_edge(a_node, c_node)\n",
    "model.add_edge(b_node, c_node)\n",
    "model.add_edge(b_node, d_node)\n",
    "model.bake()"
   ]
  },
  {
   "cell_type": "markdown",
   "metadata": {},
   "source": [
    "## Problem 1"
   ]
  },
  {
   "attachments": {},
   "cell_type": "markdown",
   "metadata": {},
   "source": [
    "- Using the predict_proba function we will obtain the probabilities of each variable in the graph given evidence\n",
    "    - This calculates the marginal probability distributions for each state given the evidence provided through loopy belief propagation. \n",
    "        - Loopy belief propagation is an approximate algorithm which is exact for certain graph structures."
   ]
  },
  {
   "cell_type": "markdown",
   "metadata": {},
   "source": [
    "### a)"
   ]
  },
  {
   "cell_type": "markdown",
   "metadata": {},
   "source": [
    "$ P(A=T|C=T,D=T) $"
   ]
  },
  {
   "cell_type": "code",
   "execution_count": 25,
   "metadata": {},
   "outputs": [
    {
     "data": {
      "text/plain": [
       "array([{\n",
       "           \"class\" : \"Distribution\",\n",
       "           \"dtype\" : \"str\",\n",
       "           \"name\" : \"DiscreteDistribution\",\n",
       "           \"parameters\" : [\n",
       "               {\n",
       "                   \"T\" : 0.5054138717420109,\n",
       "                   \"F\" : 0.49458612825798914\n",
       "               }\n",
       "           ],\n",
       "           \"frozen\" : false\n",
       "       }                                    ,\n",
       "       {\n",
       "           \"class\" : \"Distribution\",\n",
       "           \"dtype\" : \"str\",\n",
       "           \"name\" : \"DiscreteDistribution\",\n",
       "           \"parameters\" : [\n",
       "               {\n",
       "                   \"T\" : 0.6483149049313832,\n",
       "                   \"F\" : 0.3516850950686168\n",
       "               }\n",
       "           ],\n",
       "           \"frozen\" : false\n",
       "       }                                    , 'T', 'T'], dtype=object)"
      ]
     },
     "execution_count": 25,
     "metadata": {},
     "output_type": "execute_result"
    }
   ],
   "source": [
    "model.predict_proba({\"C\":\"T\", \"D\":\"T\"})"
   ]
  },
  {
   "attachments": {},
   "cell_type": "markdown",
   "metadata": {},
   "source": [
    "- In this output we can see: 1st the probability of A being T or F and 2nd the probability of B being T or F, all given the evidence C=T,D=T\n",
    "    - The answer to this query is:  $ P(A=T|C=T,D=T) = .505 $ "
   ]
  },
  {
   "cell_type": "markdown",
   "metadata": {},
   "source": [
    "### b)"
   ]
  },
  {
   "cell_type": "markdown",
   "metadata": {},
   "source": [
    "$P(A=T|D=F)$"
   ]
  },
  {
   "cell_type": "code",
   "execution_count": 26,
   "metadata": {},
   "outputs": [
    {
     "data": {
      "text/plain": [
       "array([{\n",
       "           \"class\" : \"Distribution\",\n",
       "           \"dtype\" : \"str\",\n",
       "           \"name\" : \"DiscreteDistribution\",\n",
       "           \"parameters\" : [\n",
       "               {\n",
       "                   \"T\" : 0.34651898734177244,\n",
       "                   \"F\" : 0.6534810126582277\n",
       "               }\n",
       "           ],\n",
       "           \"frozen\" : false\n",
       "       }                                     ,\n",
       "       {\n",
       "           \"class\" : \"Distribution\",\n",
       "           \"dtype\" : \"str\",\n",
       "           \"name\" : \"DiscreteDistribution\",\n",
       "           \"parameters\" : [\n",
       "               {\n",
       "                   \"T\" : 0.6582278481012659,\n",
       "                   \"F\" : 0.34177215189873406\n",
       "               }\n",
       "           ],\n",
       "           \"frozen\" : false\n",
       "       }                                    ,\n",
       "       {\n",
       "           \"class\" : \"Distribution\",\n",
       "           \"dtype\" : \"str\",\n",
       "           \"name\" : \"DiscreteDistribution\",\n",
       "           \"parameters\" : [\n",
       "               {\n",
       "                   \"T\" : 0.6084545745874058,\n",
       "                   \"F\" : 0.3915454254125941\n",
       "               }\n",
       "           ],\n",
       "           \"frozen\" : false\n",
       "       }                                    , 'F'], dtype=object)"
      ]
     },
     "execution_count": 26,
     "metadata": {},
     "output_type": "execute_result"
    }
   ],
   "source": [
    "model.predict_proba({\"D\":\"F\"})"
   ]
  },
  {
   "attachments": {},
   "cell_type": "markdown",
   "metadata": {},
   "source": [
    "- In this output we can see: 1st the probability of A being T or F, 2nd the probability of B being T or F, 3th the probability of C being T or F, all  given the evidence D=F\n",
    "    - The answer to this query is:  $ P(A=T|D=F) = .347 $ \n",
    "\n"
   ]
  },
  {
   "cell_type": "markdown",
   "metadata": {},
   "source": [
    "### c)"
   ]
  },
  {
   "cell_type": "markdown",
   "metadata": {},
   "source": [
    "$P(B=T|C=T)$"
   ]
  },
  {
   "cell_type": "code",
   "execution_count": 27,
   "metadata": {},
   "outputs": [
    {
     "data": {
      "text/plain": [
       "array([{\n",
       "           \"class\" : \"Distribution\",\n",
       "           \"dtype\" : \"str\",\n",
       "           \"name\" : \"DiscreteDistribution\",\n",
       "           \"parameters\" : [\n",
       "               {\n",
       "                   \"T\" : 0.5253830090147861,\n",
       "                   \"F\" : 0.4746169909852139\n",
       "               }\n",
       "           ],\n",
       "           \"frozen\" : false\n",
       "       }                                    ,\n",
       "       {\n",
       "           \"class\" : \"Distribution\",\n",
       "           \"dtype\" : \"str\",\n",
       "           \"name\" : \"DiscreteDistribution\",\n",
       "           \"parameters\" : [\n",
       "               {\n",
       "                   \"T\" : 0.8100843263425553,\n",
       "                   \"F\" : 0.1899156736574448\n",
       "               }\n",
       "           ],\n",
       "           \"frozen\" : false\n",
       "       }                                    , 'T',\n",
       "       {\n",
       "           \"class\" : \"Distribution\",\n",
       "           \"dtype\" : \"str\",\n",
       "           \"name\" : \"DiscreteDistribution\",\n",
       "           \"parameters\" : [\n",
       "               {\n",
       "                   \"T\" : 0.2664704857800823,\n",
       "                   \"F\" : 0.7335295142199177\n",
       "               }\n",
       "           ],\n",
       "           \"frozen\" : false\n",
       "       }                                    ], dtype=object)"
      ]
     },
     "execution_count": 27,
     "metadata": {},
     "output_type": "execute_result"
    }
   ],
   "source": [
    "model.predict_proba({\"C\":\"T\"})"
   ]
  },
  {
   "attachments": {},
   "cell_type": "markdown",
   "metadata": {},
   "source": [
    "- In this output we can see: 1st the probability of A being T or F, 2nd the probability of B being T or F, 3th the probability of D being T or F, all  given the evidence C=T\n",
    "    - The answer to this query is:  $ P(B=T|C=T) = .810 $"
   ]
  },
  {
   "cell_type": "markdown",
   "metadata": {},
   "source": [
    "### d)"
   ]
  },
  {
   "cell_type": "markdown",
   "metadata": {},
   "source": [
    "$ P(B=T|A=T, C=T) $"
   ]
  },
  {
   "cell_type": "code",
   "execution_count": 28,
   "metadata": {},
   "outputs": [
    {
     "data": {
      "text/plain": [
       "array(['T', {\n",
       "                \"class\" : \"Distribution\",\n",
       "                \"dtype\" : \"str\",\n",
       "                \"name\" : \"DiscreteDistribution\",\n",
       "                \"parameters\" : [\n",
       "                    {\n",
       "                        \"T\" : 0.8878923766816139,\n",
       "                        \"F\" : 0.11210762331838604\n",
       "                    }\n",
       "                ],\n",
       "                \"frozen\" : false\n",
       "            }                                    , 'T',\n",
       "       {\n",
       "           \"class\" : \"Distribution\",\n",
       "           \"dtype\" : \"str\",\n",
       "           \"name\" : \"DiscreteDistribution\",\n",
       "           \"parameters\" : [\n",
       "               {\n",
       "                   \"T\" : 0.23923766816143516,\n",
       "                   \"F\" : 0.7607623318385648\n",
       "               }\n",
       "           ],\n",
       "           \"frozen\" : false\n",
       "       }                                     ], dtype=object)"
      ]
     },
     "execution_count": 28,
     "metadata": {},
     "output_type": "execute_result"
    }
   ],
   "source": [
    "model.predict_proba({\"A\":\"T\", \"C\":\"T\"})"
   ]
  },
  {
   "attachments": {},
   "cell_type": "markdown",
   "metadata": {},
   "source": [
    "- In this output we can see: 1st the probability of B being T or F, 2nd the probability of D being T or F, all  given the evidence A=T, C=T\n",
    "    - The answer to this query is:  $ P(B=T|A=T, C=T) = .888 $"
   ]
  },
  {
   "cell_type": "markdown",
   "metadata": {},
   "source": [
    "### e)"
   ]
  },
  {
   "cell_type": "markdown",
   "metadata": {},
   "source": [
    "$ P(C=T|A=F, B=F, D=F) $"
   ]
  },
  {
   "cell_type": "code",
   "execution_count": 29,
   "metadata": {},
   "outputs": [
    {
     "data": {
      "text/plain": [
       "array(['F', 'F', {\n",
       "                     \"class\" : \"Distribution\",\n",
       "                     \"dtype\" : \"str\",\n",
       "                     \"name\" : \"DiscreteDistribution\",\n",
       "                     \"parameters\" : [\n",
       "                         {\n",
       "                             \"T\" : 0.10000000000000016,\n",
       "                             \"F\" : 0.8999999999999999\n",
       "                         }\n",
       "                     ],\n",
       "                     \"frozen\" : false\n",
       "                 }                                     , 'F'],\n",
       "      dtype=object)"
      ]
     },
     "execution_count": 29,
     "metadata": {},
     "output_type": "execute_result"
    }
   ],
   "source": [
    "model.predict_proba({\"A\":\"F\", \"B\":\"F\", \"D\":\"F\"})"
   ]
  },
  {
   "attachments": {},
   "cell_type": "markdown",
   "metadata": {},
   "source": [
    "- In this output we can see: The probability of C being T or F given the evidence A=F, B=F, D=F.\n",
    "    - The answer to this query is:  $ P(C=T|A=F, B=F, D=F) = .1 $\n"
   ]
  },
  {
   "cell_type": "markdown",
   "metadata": {},
   "source": [
    "## Problem 2"
   ]
  },
  {
   "cell_type": "markdown",
   "metadata": {},
   "source": [
    "### Data"
   ]
  },
  {
   "cell_type": "code",
   "execution_count": 7,
   "metadata": {},
   "outputs": [],
   "source": [
    "# Load data\n",
    "iris = load_iris()\n",
    "y_iris = iris.target\n",
    "X_iris = iris.data\n",
    "# Training test split\n",
    "X_train, X_test, y_train, y_test = train_test_split(X_iris, y_iris, test_size=0.25, random_state=10)"
   ]
  },
  {
   "cell_type": "code",
   "execution_count": 52,
   "metadata": {},
   "outputs": [
    {
     "name": "stdout",
     "output_type": "stream",
     "text": [
      "0    50\n",
      "1    50\n",
      "2    50\n",
      "Name: 0, dtype: int64\n"
     ]
    }
   ],
   "source": [
    "y_iris_test = pd.DataFrame(y_iris)\n",
    "counts = y_iris_test[0].value_counts()\n",
    "print(counts)"
   ]
  },
  {
   "cell_type": "markdown",
   "metadata": {},
   "source": [
    "- Perfectly balanced dataset"
   ]
  },
  {
   "cell_type": "markdown",
   "metadata": {},
   "source": [
    "### a)"
   ]
  },
  {
   "cell_type": "markdown",
   "metadata": {},
   "source": [
    "#### NB"
   ]
  },
  {
   "cell_type": "code",
   "execution_count": 32,
   "metadata": {},
   "outputs": [
    {
     "name": "stdout",
     "output_type": "stream",
     "text": [
      "Best parameters for Gaussian Naive Bayes model: {'var_smoothing': 0.4}\n"
     ]
    }
   ],
   "source": [
    "# Creating dictionary with the testing parameters\n",
    "var_smoothing_p = [1e-9, 1e-7, 1e-5, 1e-3, 1e-1, 0.2, 0.4, 1, 2, 4]\n",
    "param_grid = {\"var_smoothing\": var_smoothing_p}\n",
    "\n",
    "# Define the model and do the grid search\n",
    "gnb = GaussianNB()\n",
    "gs_gnb = GridSearchCV(estimator = gnb, param_grid = param_grid, cv = 5)\n",
    "gs_gnb = gs_gnb.fit(X_train, y_train)\n",
    "\n",
    "print(\"Best parameters for Gaussian Naive Bayes model:\", gs_gnb.best_params_)"
   ]
  },
  {
   "cell_type": "code",
   "execution_count": 33,
   "metadata": {},
   "outputs": [
    {
     "name": "stdout",
     "output_type": "stream",
     "text": [
      "Statistics for the best parameter combination of Gaussian Naive Bayes model:\n"
     ]
    },
    {
     "data": {
      "text/html": [
       "<div>\n",
       "<style scoped>\n",
       "    .dataframe tbody tr th:only-of-type {\n",
       "        vertical-align: middle;\n",
       "    }\n",
       "\n",
       "    .dataframe tbody tr th {\n",
       "        vertical-align: top;\n",
       "    }\n",
       "\n",
       "    .dataframe thead th {\n",
       "        text-align: right;\n",
       "    }\n",
       "</style>\n",
       "<table border=\"1\" class=\"dataframe\">\n",
       "  <thead>\n",
       "    <tr style=\"text-align: right;\">\n",
       "      <th></th>\n",
       "      <th>Accuracy</th>\n",
       "      <th>Matthews Corr. Coef.</th>\n",
       "    </tr>\n",
       "  </thead>\n",
       "  <tbody>\n",
       "    <tr>\n",
       "      <th>0</th>\n",
       "      <td>0.947368</td>\n",
       "      <td>0.920335</td>\n",
       "    </tr>\n",
       "  </tbody>\n",
       "</table>\n",
       "</div>"
      ],
      "text/plain": [
       "   Accuracy  Matthews Corr. Coef.\n",
       "0  0.947368              0.920335"
      ]
     },
     "metadata": {},
     "output_type": "display_data"
    },
    {
     "name": "stdout",
     "output_type": "stream",
     "text": [
      "And the confusion matrix is: \n"
     ]
    },
    {
     "data": {
      "text/html": [
       "<div>\n",
       "<style scoped>\n",
       "    .dataframe tbody tr th:only-of-type {\n",
       "        vertical-align: middle;\n",
       "    }\n",
       "\n",
       "    .dataframe tbody tr th {\n",
       "        vertical-align: top;\n",
       "    }\n",
       "\n",
       "    .dataframe thead th {\n",
       "        text-align: right;\n",
       "    }\n",
       "</style>\n",
       "<table border=\"1\" class=\"dataframe\">\n",
       "  <thead>\n",
       "    <tr style=\"text-align: right;\">\n",
       "      <th></th>\n",
       "      <th>0</th>\n",
       "      <th>1</th>\n",
       "      <th>2</th>\n",
       "    </tr>\n",
       "  </thead>\n",
       "  <tbody>\n",
       "    <tr>\n",
       "      <th>0</th>\n",
       "      <td>11</td>\n",
       "      <td>0</td>\n",
       "      <td>0</td>\n",
       "    </tr>\n",
       "    <tr>\n",
       "      <th>1</th>\n",
       "      <td>0</td>\n",
       "      <td>14</td>\n",
       "      <td>1</td>\n",
       "    </tr>\n",
       "    <tr>\n",
       "      <th>2</th>\n",
       "      <td>0</td>\n",
       "      <td>1</td>\n",
       "      <td>11</td>\n",
       "    </tr>\n",
       "  </tbody>\n",
       "</table>\n",
       "</div>"
      ],
      "text/plain": [
       "    0   1   2\n",
       "0  11   0   0\n",
       "1   0  14   1\n",
       "2   0   1  11"
      ]
     },
     "metadata": {},
     "output_type": "display_data"
    }
   ],
   "source": [
    "# Retrieving the best estimator model prediction statistics\n",
    "stats_gnb, cm_gnb = mdl_stats(gs_gnb, X_test, y_test)\n",
    "print(\"Statistics for the best parameter combination of Gaussian Naive Bayes model:\")\n",
    "display(stats_gnb)\n",
    "print(\"And the confusion matrix is: \")\n",
    "display(cm_gnb)"
   ]
  },
  {
   "cell_type": "markdown",
   "metadata": {},
   "source": [
    "### Comments"
   ]
  },
  {
   "attachments": {},
   "cell_type": "markdown",
   "metadata": {},
   "source": [
    "- The Gaussian Naive Bayes Classifier was used assuming that the independent variables follow a gaussian distribution, invoking the central limit theorem."
   ]
  },
  {
   "cell_type": "markdown",
   "metadata": {},
   "source": [
    "- For the Gaussian Naive Bayes classifier the only parameter that can be explored for optimizing the quality of the predictions is the smoothing factor for which several values including the default were checked using Scikit-learn's GridSearch function. \n",
    "    - The parameter was 'var_smoothing': 0.4. \n",
    "- Since the data used was the Iris data set where features are quantitative and the target variable has more than 2 possible values, the appropriate metrics (Accuracy, Matthews Correlation Coeficient and the Confusion Matrix) were used. Given that the dataset is perfectly balanced, the accuracy value can be seen as a good measure to access how well the model predicted the species of the flower given petal and sepal length and width.\n",
    "- This model did very well with only 2 misclassifications, and accuracy of .947 aswell as a MCC of .920."
   ]
  },
  {
   "cell_type": "markdown",
   "metadata": {},
   "source": [
    "### b)"
   ]
  },
  {
   "cell_type": "markdown",
   "metadata": {},
   "source": [
    "#### RF"
   ]
  },
  {
   "cell_type": "code",
   "execution_count": 53,
   "metadata": {},
   "outputs": [
    {
     "name": "stdout",
     "output_type": "stream",
     "text": [
      "Best parameters for Random Forest model: {'criterion': 'gini', 'max_depth': 1, 'max_features': None, 'min_samples_leaf': 4, 'n_estimators': 100}\n"
     ]
    }
   ],
   "source": [
    "n_estimators_p = [100, 150, 200]\n",
    "criterion_p = [\"gini\", \"entropy\"]\n",
    "max_depth_p = [1, 5, 10]\n",
    "min_samples_leaf_p = [4, 6, 8]\n",
    "max_features_p = [\"log2\", \"sqrt\", None]\n",
    "param_grid = {\"n_estimators\": n_estimators_p, \"criterion\": criterion_p, \"max_depth\": max_depth_p, \"min_samples_leaf\": min_samples_leaf_p, \"max_features\": max_features_p}\n",
    "\n",
    "# Define the model and do the grid search\n",
    "rf = RandomForestClassifier(random_state=44)\n",
    "gs_rf = GridSearchCV(estimator = rf, param_grid = param_grid)\n",
    "gs_rf = gs_rf.fit(X_train, y_train)\n",
    "\n",
    "print(\"Best parameters for Random Forest model:\", gs_rf.best_params_)"
   ]
  },
  {
   "cell_type": "code",
   "execution_count": 54,
   "metadata": {},
   "outputs": [
    {
     "name": "stdout",
     "output_type": "stream",
     "text": [
      "Statistics for the best parameter combination of Random Forest model:\n"
     ]
    },
    {
     "data": {
      "text/html": [
       "<div>\n",
       "<style scoped>\n",
       "    .dataframe tbody tr th:only-of-type {\n",
       "        vertical-align: middle;\n",
       "    }\n",
       "\n",
       "    .dataframe tbody tr th {\n",
       "        vertical-align: top;\n",
       "    }\n",
       "\n",
       "    .dataframe thead th {\n",
       "        text-align: right;\n",
       "    }\n",
       "</style>\n",
       "<table border=\"1\" class=\"dataframe\">\n",
       "  <thead>\n",
       "    <tr style=\"text-align: right;\">\n",
       "      <th></th>\n",
       "      <th>Accuracy</th>\n",
       "      <th>Matthews Corr. Coef.</th>\n",
       "    </tr>\n",
       "  </thead>\n",
       "  <tbody>\n",
       "    <tr>\n",
       "      <th>0</th>\n",
       "      <td>0.947368</td>\n",
       "      <td>0.924688</td>\n",
       "    </tr>\n",
       "  </tbody>\n",
       "</table>\n",
       "</div>"
      ],
      "text/plain": [
       "   Accuracy  Matthews Corr. Coef.\n",
       "0  0.947368              0.924688"
      ]
     },
     "metadata": {},
     "output_type": "display_data"
    },
    {
     "name": "stdout",
     "output_type": "stream",
     "text": [
      "And the confusion matrix is: \n"
     ]
    },
    {
     "data": {
      "text/html": [
       "<div>\n",
       "<style scoped>\n",
       "    .dataframe tbody tr th:only-of-type {\n",
       "        vertical-align: middle;\n",
       "    }\n",
       "\n",
       "    .dataframe tbody tr th {\n",
       "        vertical-align: top;\n",
       "    }\n",
       "\n",
       "    .dataframe thead th {\n",
       "        text-align: right;\n",
       "    }\n",
       "</style>\n",
       "<table border=\"1\" class=\"dataframe\">\n",
       "  <thead>\n",
       "    <tr style=\"text-align: right;\">\n",
       "      <th></th>\n",
       "      <th>0</th>\n",
       "      <th>1</th>\n",
       "      <th>2</th>\n",
       "    </tr>\n",
       "  </thead>\n",
       "  <tbody>\n",
       "    <tr>\n",
       "      <th>0</th>\n",
       "      <td>11</td>\n",
       "      <td>0</td>\n",
       "      <td>0</td>\n",
       "    </tr>\n",
       "    <tr>\n",
       "      <th>1</th>\n",
       "      <td>0</td>\n",
       "      <td>13</td>\n",
       "      <td>2</td>\n",
       "    </tr>\n",
       "    <tr>\n",
       "      <th>2</th>\n",
       "      <td>0</td>\n",
       "      <td>0</td>\n",
       "      <td>12</td>\n",
       "    </tr>\n",
       "  </tbody>\n",
       "</table>\n",
       "</div>"
      ],
      "text/plain": [
       "    0   1   2\n",
       "0  11   0   0\n",
       "1   0  13   2\n",
       "2   0   0  12"
      ]
     },
     "metadata": {},
     "output_type": "display_data"
    }
   ],
   "source": [
    "# Retrieving the best estimator model prediction statistics\n",
    "stats_rf, cm_rf = mdl_stats(gs_rf, X_test, y_test)\n",
    "print(\"Statistics for the best parameter combination of Random Forest model:\")\n",
    "display(stats_rf)\n",
    "print(\"And the confusion matrix is: \")\n",
    "display(cm_rf)"
   ]
  },
  {
   "cell_type": "markdown",
   "metadata": {},
   "source": [
    "#### Comments\n",
    "- For the Random Forest there are many more parameters to explore, it uses Decision Trees (which are a customizable part of the model too) to draw, each one, an output that is then combined with the outputs of the other trees into a single final value. Other parameters were tested aside the ones pertaining to a Decision Tree by itself for example the number of trees to use in the first place (100 Decision Trees). \n",
    "    - The best combination of parameters produced from applying GridSearch with 5-fold cross validation on the training data for the Random Forest was using Trees with the Gini criterion, a maximum depth limit of 5, a maximum number of features to analyse for deciding on the splitting in the trees of the logarithm of the number of features and a minimum number of samples at leaf nodes of 6 being allowed.\n",
    "- The results of testing the model were very similar to those in the Naive Bayes case with 2 misclassifications and equal rounded values for accuracy and MCC."
   ]
  },
  {
   "attachments": {},
   "cell_type": "markdown",
   "metadata": {},
   "source": [
    "### Discussion\n",
    "- It can be seen that the Naive bayes algorithm that is considered a simple model with only one parameter possible to tune, provided very similar accuracy and MCC values to the Random Forest algorithm which is a much more complex algorithm with many parameters possible to be tuned. \n",
    "    - This shows that the Naive Bayes is simple but at the same time very useful for example to be used as a baseline classifier.\n",
    "        -  Adding up that Naive Bayes is also not prone to overfitting."
   ]
  }
 ],
 "metadata": {
  "kernelspec": {
   "display_name": "Python 3 (ipykernel)",
   "language": "python",
   "name": "python3"
  },
  "language_info": {
   "codemirror_mode": {
    "name": "ipython",
    "version": 3
   },
   "file_extension": ".py",
   "mimetype": "text/x-python",
   "name": "python",
   "nbconvert_exporter": "python",
   "pygments_lexer": "ipython3",
   "version": "3.9.12"
  }
 },
 "nbformat": 4,
 "nbformat_minor": 2
}
