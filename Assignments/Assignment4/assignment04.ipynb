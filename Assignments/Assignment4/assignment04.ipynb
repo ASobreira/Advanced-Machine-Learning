{
 "cells": [
  {
   "attachments": {},
   "cell_type": "markdown",
   "metadata": {},
   "source": [
    "# Assignment 4\n",
    "- by Martim Silva 51304 and Alexandre Sobreira 59451"
   ]
  },
  {
   "cell_type": "code",
   "execution_count": 27,
   "metadata": {},
   "outputs": [],
   "source": [
    "def plot(rolls_full, dice_full, length, best_model):\n",
    "    #get predicted states from rolls with new model\n",
    "    states = best_model.predict(rolls_full)\n",
    "    # plot recovered states compared with true model states\n",
    "    fig, ax = plt.subplots()\n",
    "    ax.plot(dice_full[:length], label='generated') # Give true states\n",
    "    ax.plot(states[:length] + 1.5, label='recovered') # Give predicted states from given rolls\n",
    "    ax.set_yticks([])\n",
    "    ax.set_title('States compared to generated')\n",
    "    ax.set_xlabel('Time (# rolls)')\n",
    "    ax.set_xlabel('State')\n",
    "    ax.legend()\n",
    "    fig.show()\n",
    "\n",
    "def fit_model(X_train, X_validate, combo, components, startprob, emission_prob):\n",
    "    best_score = best_model = None\n",
    "    n_fits = 50\n",
    "    np.random.seed(13)\n",
    "    for idx in range(n_fits):\n",
    "        if combo == \"\":\n",
    "            model = hmm.CategoricalHMM(\n",
    "            n_components=components, random_state=idx,\n",
    "            init_params= \"ste\")\n",
    "        elif combo == \"sp\":\n",
    "            model = hmm.CategoricalHMM(\n",
    "            n_components=components, random_state=idx,\n",
    "            init_params= \"te\")\n",
    "            model.startprob_ = startprob\n",
    "        else: #sp & ep\n",
    "            model = hmm.CategoricalHMM(\n",
    "            n_components=components, random_state=idx,\n",
    "            init_params= \"t\")\n",
    "            model.startprob_ = startprob\n",
    "            model.emissionprob_ = emission_prob  \n",
    "        model.fit(X_train)\n",
    "        score = model.score(X_validate)\n",
    "        #print(f'Model #{idx}\\tScore: {score}')\n",
    "        if best_score is None or score > best_score:\n",
    "            best_model = model\n",
    "            best_score = score   \n",
    "    print(f\"Best score: {best_score}\")\n",
    "    return best_model"
   ]
  },
  {
   "cell_type": "code",
   "execution_count": 28,
   "metadata": {},
   "outputs": [],
   "source": [
    "#!pip install hmmlearn\n",
    "import numpy as np\n",
    "import matplotlib.pyplot as plt\n",
    "from hmmlearn.hmm import MultinomialHMM\n",
    "from hmmlearn import hmm"
   ]
  },
  {
   "attachments": {},
   "cell_type": "markdown",
   "metadata": {},
   "source": [
    "# Problem 2"
   ]
  },
  {
   "cell_type": "code",
   "execution_count": 29,
   "metadata": {},
   "outputs": [],
   "source": [
    "# Data for a and b\n",
    "dice = np.array([[0],[0],[0],[0],[0],[0],[0],[0],[0],[0],[0],[0],[0],[0],[1],[1],[1],[1],[1],\n",
    "                        [1],[0],[0],[0],[0],[0],[0],[0],[0],[0],[0],[0],[0],[0],[0],[1],[1],[1],[1],\n",
    "                        [1],[1],[1],[1],[1],[1],[1],[1],[1],[1],[1],[1],[1],[1],[0],[0],[0],[0],[0],\n",
    "                        [0],[0],[0]])\n",
    "\n",
    "## F=1; L=0\n",
    "\n",
    "\n",
    "rolls = np.array([[6],[6],[4],[1],[5],[3],[2],[1],[6],[1],[6],[2],[1],[1],[5],[2],[3],[4],\n",
    "                   [6],[5],[3],[2],[1],[4],[3],[5],[6],[6],[3],[4],[2],[6],[1],[6],[5],[5],\n",
    "                   [2],[3],[4],[2],[3],[2],[3],[1],[5],[1],[4],[2],[4],[6],[4],[1],[5],[6],\n",
    "                   [6],[6],[3],[2],[4],[6]])-1\n",
    "                   \n",
    "X_train = rolls[:50]\n",
    "X_validate = rolls[50:]"
   ]
  },
  {
   "attachments": {},
   "cell_type": "markdown",
   "metadata": {},
   "source": [
    "## a) \n",
    "- construct the model assuming all parameters known."
   ]
  },
  {
   "cell_type": "code",
   "execution_count": 30,
   "metadata": {},
   "outputs": [],
   "source": [
    "true_model = hmm.CategoricalHMM(n_components=2, random_state=99)"
   ]
  },
  {
   "attachments": {},
   "cell_type": "markdown",
   "metadata": {},
   "source": [
    "- transition matrix $\\Alpha$:\n",
    "    - $ \\begin{bmatrix}\n",
    "            1-\\alpha & alpha \\\\\n",
    "            \\beta & 1-\\beta\n",
    "        \\end{bmatrix} $\n"
   ]
  },
  {
   "cell_type": "code",
   "execution_count": 31,
   "metadata": {},
   "outputs": [],
   "source": [
    "true_model.transmat_ = np.array([[1-.05, .05],\n",
    "                                [.1, 1-.1]])"
   ]
  },
  {
   "attachments": {},
   "cell_type": "markdown",
   "metadata": {},
   "source": [
    "- stationary probabilities, vector $\\pi$:\n",
    "    - $\\pi_1 = \\beta / (\\alpha+\\beta) $ $\\pi_2 = \\alpha / (\\alpha+\\beta)$ "
   ]
  },
  {
   "cell_type": "code",
   "execution_count": 32,
   "metadata": {},
   "outputs": [],
   "source": [
    "true_model.startprob_ = np.array([.1/(.05+.1), .05/(.05+.1)])"
   ]
  },
  {
   "attachments": {},
   "cell_type": "markdown",
   "metadata": {},
   "source": [
    "- emission matrix $\\Beta$:"
   ]
  },
  {
   "cell_type": "code",
   "execution_count": 33,
   "metadata": {},
   "outputs": [],
   "source": [
    "true_model.emissionprob_ = \\\n",
    "    np.array([[1 / 6, 1 / 6, 1 / 6, 1 / 6, 1 / 6, 1 / 6],\n",
    "              [1 / 10, 1 / 10, 1 / 10, 1 / 10, 1 / 10, 5 / 10]])"
   ]
  },
  {
   "attachments": {},
   "cell_type": "markdown",
   "metadata": {},
   "source": [
    "- number of features:"
   ]
  },
  {
   "cell_type": "code",
   "execution_count": 34,
   "metadata": {},
   "outputs": [],
   "source": [
    "true_model.n_features = 6"
   ]
  },
  {
   "attachments": {},
   "cell_type": "markdown",
   "metadata": {},
   "source": [
    "## b)\n",
    "- train the model assuming the transition probability matrix is unknown. \n",
    "- Compare the estimated transition matrix with the original one. \n",
    "- Visualize the generated dice series against the given one."
   ]
  },
  {
   "attachments": {},
   "cell_type": "markdown",
   "metadata": {},
   "source": [
    "### b.1 - train the model assuming the transition probability matrix is unknown."
   ]
  },
  {
   "attachments": {},
   "cell_type": "markdown",
   "metadata": {},
   "source": [
    "- Since the EM algorithm is a gradient-based optimization method, it will generally get stuck in local optima.\n",
    "    - We create a for loop with 50 fits to reduce this probability of the model to get stuck on a local minima. This can be seen in the function created.\n",
    "- We ask to initialize the transmission matrix and give the start  probabilities and emission matrix."
   ]
  },
  {
   "cell_type": "code",
   "execution_count": 35,
   "metadata": {},
   "outputs": [
    {
     "name": "stdout",
     "output_type": "stream",
     "text": [
      "Best score: -17.23335326008118\n"
     ]
    }
   ],
   "source": [
    "start_prob = np.array([.1/(.05+.1), .05/(.05+.1)])\n",
    "emission_prob= \\\n",
    "    np.array([[1 / 6, 1 / 6, 1 / 6, 1 / 6, 1 / 6, 1 / 6],\n",
    "            [1 / 10, 1 / 10, 1 / 10, 1 / 10, 1 / 10, 5 / 10]])\n",
    "    \n",
    "best_model = fit_model(X_train, X_validate, \"sp & ep\", 2, start_prob, emission_prob)"
   ]
  },
  {
   "attachments": {},
   "cell_type": "markdown",
   "metadata": {},
   "source": [
    "- The log-likelihood value is a way to measure the goodness of fit for a model. The higher the value of the log-likelihod, the better a models fits a dataset, meaning the closer to 0 the best\n",
    "    - Here we have a best score of -17.233"
   ]
  },
  {
   "attachments": {},
   "cell_type": "markdown",
   "metadata": {},
   "source": [
    "### b.2 - Compare the estimated transition matrix with the original one."
   ]
  },
  {
   "cell_type": "code",
   "execution_count": 36,
   "metadata": {},
   "outputs": [
    {
     "name": "stdout",
     "output_type": "stream",
     "text": [
      "Transition Matrix Generated:\n",
      "[[0.95 0.05]\n",
      " [0.1  0.9 ]]\n",
      "\n",
      "Transition Matrix Recovered:\n",
      "[[0.005 0.995]\n",
      " [0.832 0.168]]\n",
      "\n",
      "\n"
     ]
    }
   ],
   "source": [
    "print(f'Transition Matrix Generated:\\n{true_model.transmat_.round(3)}\\n\\n'\n",
    "      f'Transition Matrix Recovered:\\n{best_model.transmat_.round(3)}\\n\\n')"
   ]
  },
  {
   "attachments": {},
   "cell_type": "markdown",
   "metadata": {},
   "source": [
    "- As we can see the transition Matrix Generated corresponds to the one we gave initialy, on the other hand the transition Matrix Recovered seems to be changed. The identities seem to be transposed (i.e the 1-alpha is now the alpha and the 1-beta is now the beta) but still the basic patern does not seems to change.\n",
    "- To note that in this case, we did not omited any parameters other than the transition matrix, leading to an easier estimation of the original transition matrix."
   ]
  },
  {
   "attachments": {},
   "cell_type": "markdown",
   "metadata": {},
   "source": [
    "### b.3 - Visualize the generated dice series against the given one."
   ]
  },
  {
   "cell_type": "code",
   "execution_count": 37,
   "metadata": {},
   "outputs": [
    {
     "name": "stderr",
     "output_type": "stream",
     "text": [
      "C:\\Users\\afbso\\AppData\\Local\\Temp\\ipykernel_18536\\2758724324.py:13: UserWarning: Matplotlib is currently using module://matplotlib_inline.backend_inline, which is a non-GUI backend, so cannot show the figure.\n",
      "  fig.show()\n"
     ]
    },
    {
     "data": {
      "image/png": "[encoded data removed]",
      "text/plain": [
       "<Figure size 432x288 with 1 Axes>"
      ]
     },
     "metadata": {
      "needs_background": "light"
     },
     "output_type": "display_data"
    }
   ],
   "source": [
    "plot(rolls, dice, 60, best_model)"
   ]
  },
  {
   "attachments": {},
   "cell_type": "markdown",
   "metadata": {},
   "source": [
    "- The prediction of the states seem quite caotic and imperfect\n",
    "- Is possible to observe that the recovered states are very far from the actual states.\n",
    "- Possibly with higher sample the prediction will improve"
   ]
  },
  {
   "attachments": {},
   "cell_type": "markdown",
   "metadata": {},
   "source": [
    "## c) "
   ]
  },
  {
   "attachments": {},
   "cell_type": "markdown",
   "metadata": {},
   "source": [
    "1 - Train HMM’s with half of the data points and observe the log-likelihood with the remaining half. "
   ]
  },
  {
   "attachments": {},
   "cell_type": "markdown",
   "metadata": {},
   "source": [
    "2 - Compare the estimated parameters (transition and emission matrices) with the original model from question a). "
   ]
  },
  {
   "attachments": {},
   "cell_type": "markdown",
   "metadata": {},
   "source": [
    "3 - Visualize the generated dice series of the last half of data against the given one. (Note: Use the dataset provided in files rolls.txt and dice.txt provided on Moodle):\n",
    "- (i) Assume both transition and emission matrices are unknown.\n",
    "- (ii) Assume all the parameters unknown, including the number of states (suggestion: try\n",
    "with the number of states from 1 to 4 and compare the resulting log-likehoods)."
   ]
  },
  {
   "cell_type": "code",
   "execution_count": 38,
   "metadata": {},
   "outputs": [
    {
     "name": "stdout",
     "output_type": "stream",
     "text": [
      "1100\n",
      "1100\n"
     ]
    }
   ],
   "source": [
    "# Data preparation\n",
    "## rolls\n",
    "rolls_full = np.loadtxt(\"rolls.txt\", dtype=int)\n",
    "rolls_full = np.array([[int(i)] for i in rolls_full])-1\n",
    "## dice states\n",
    "dice_full = np.genfromtxt(\"dice.txt\", dtype=\"str\")\n",
    "dice_full = np.array([[0] if i == \"L\" else [1] for i in dice_full])\n",
    "## Check lenght\n",
    "print(len(rolls_full))\n",
    "print(len(dice_full))\n",
    "## train n=550\n",
    "X_train_full = rolls_full[:rolls_full.shape[0] // 2]\n",
    "## validate n=550\n",
    "X_validate_full = rolls_full[rolls_full.shape[0] // 2:]"
   ]
  },
  {
   "attachments": {},
   "cell_type": "markdown",
   "metadata": {},
   "source": [
    "### c.i"
   ]
  },
  {
   "attachments": {},
   "cell_type": "markdown",
   "metadata": {},
   "source": [
    "#### c.i.1\n",
    "- Lets train HMM's with half of the data points and observe the log-likelihood with the remaining half, assuming both transition and emission matrices are unknown."
   ]
  },
  {
   "cell_type": "code",
   "execution_count": 39,
   "metadata": {},
   "outputs": [
    {
     "name": "stdout",
     "output_type": "stream",
     "text": [
      "Best score: -961.3408913323591\n"
     ]
    }
   ],
   "source": [
    "startprob = np.array([.1/(.05+.1), .05/(.05+.1)])\n",
    "emission_prob = 0 \n",
    "best_model = fit_model(X_train_full, X_validate_full, \"sp\", 2, startprob, emission_prob)"
   ]
  },
  {
   "attachments": {},
   "cell_type": "markdown",
   "metadata": {},
   "source": [
    "- assuming both transition and emission matrices are unknown we obtain a log-likelihood of -961.341 which is much lower than the value obtained with the model trained in .b(-17.233) where we gave everything less the transition matrix. \n",
    "- Is possible that the log-likelihood reduces as the number of samples increases. This can happen because the likelihood of the data is a product of the probabilities of each individual sample, and as the number of samples increases, the product of these probabilities can become very small, resulting in a lower log-likelihood\n",
    "- Comparing models created with diferent sample size may not be adequate\n",
    "    - We will verify the prediction which may be a better indicator of the model quality"
   ]
  },
  {
   "attachments": {},
   "cell_type": "markdown",
   "metadata": {},
   "source": [
    "#### c.i.2\n",
    "- lets compare the estimated parameter (transition and emission matrices) with the original model from question a)."
   ]
  },
  {
   "cell_type": "code",
   "execution_count": 40,
   "metadata": {},
   "outputs": [
    {
     "name": "stdout",
     "output_type": "stream",
     "text": [
      "Transmission Matrix Generated:\n",
      "[[0.95 0.05]\n",
      " [0.1  0.9 ]]\n",
      "\n",
      "Transmission Matrix Recovered:\n",
      "[[0.959 0.041]\n",
      " [0.034 0.966]]\n",
      "\n",
      "\n",
      "Emission Matrix Generated:\n",
      "[[0.167 0.167 0.167 0.167 0.167 0.167]\n",
      " [0.1   0.1   0.1   0.1   0.1   0.5  ]]\n",
      "\n",
      "Emission Matrix Recovered:\n",
      "[[0.124 0.109 0.079 0.099 0.156 0.432]\n",
      " [0.166 0.126 0.193 0.167 0.143 0.206]]\n",
      "\n",
      "\n"
     ]
    }
   ],
   "source": [
    "print(f'Transition Matrix Generated:\\n{true_model.transmat_.round(3)}\\n\\n'\n",
    "      f'Transition Matrix Recovered:\\n{best_model.transmat_.round(3)}\\n\\n')\n",
    "print(f'Emission Matrix Generated:\\n{true_model.emissionprob_.round(3)}\\n\\n'\n",
    "      f'Emission Matrix Recovered:\\n{best_model.emissionprob_.round(3)}\\n\\n')"
   ]
  },
  {
   "attachments": {},
   "cell_type": "markdown",
   "metadata": {},
   "source": [
    "- Even though the score for this model showed to be worse than the true model, it is possible to observe that for both transition and emission matrices relative good estimates were obtained\n",
    "    - This predictions may be considered better than the the ones obtained in .b, which makes sense due to the increase in sample size"
   ]
  },
  {
   "attachments": {},
   "cell_type": "markdown",
   "metadata": {},
   "source": [
    "#### c.i.3\n",
    "- Lets vizualize the generated dice series of the last half of data against the given one"
   ]
  },
  {
   "cell_type": "code",
   "execution_count": 41,
   "metadata": {},
   "outputs": [
    {
     "name": "stderr",
     "output_type": "stream",
     "text": [
      "C:\\Users\\afbso\\AppData\\Local\\Temp\\ipykernel_18536\\2758724324.py:13: UserWarning: Matplotlib is currently using module://matplotlib_inline.backend_inline, which is a non-GUI backend, so cannot show the figure.\n",
      "  fig.show()\n"
     ]
    },
    {
     "data": {
      "image/png": "[encoded data removed]",
      "text/plain": [
       "<Figure size 432x288 with 1 Axes>"
      ]
     },
     "metadata": {
      "needs_background": "light"
     },
     "output_type": "display_data"
    }
   ],
   "source": [
    "plot(rolls_full, dice_full, 500, best_model)"
   ]
  },
  {
   "attachments": {},
   "cell_type": "markdown",
   "metadata": {},
   "source": [
    "- Even if imperfect, the recovered states can give as a notion of the real states\n",
    "    - The recovered states seem to present a degree of bias when compared to the generated states. Some degree of detail from the true states is lost in the recovered ones."
   ]
  },
  {
   "attachments": {},
   "cell_type": "markdown",
   "metadata": {},
   "source": [
    "- Even if the value of log-likelihood seems to be worst, the predictions aproximate much better the reality. \n",
    "- The log-likelihood, which is a  measure of model fit, seems that is not always a perfect indicator of how well a model will perform in practice."
   ]
  },
  {
   "attachments": {},
   "cell_type": "markdown",
   "metadata": {},
   "source": [
    "### c.ii\n"
   ]
  },
  {
   "attachments": {},
   "cell_type": "markdown",
   "metadata": {},
   "source": [
    "#### c.ii.1\n",
    "- Lets train HMM's with half of the data points and observe the log-likelihood with the remaining half, assuming all the parameters unknown, including the number of states.\n",
    "- We will try with the number of states from 1 to 4 and compare the resulting log-likehoods\n"
   ]
  },
  {
   "cell_type": "code",
   "execution_count": 42,
   "metadata": {},
   "outputs": [
    {
     "name": "stdout",
     "output_type": "stream",
     "text": [
      "number of states =  1\n",
      "Best score: -969.3308570167918\n",
      "number of states =  2\n",
      "Best score: -960.3554506448932\n",
      "number of states =  3\n",
      "Best score: -958.8121647722068\n",
      "number of states =  4\n",
      "Best score: -959.5656281348257\n"
     ]
    }
   ],
   "source": [
    "models = []\n",
    "for i in range(1, 5):\n",
    "    print(\"number of states = \", i)\n",
    "    best_model = fit_model(X_train_full, X_validate_full, \"\", i, startprob, emission_prob)\n",
    "    models.append(best_model)\n",
    "    "
   ]
  },
  {
   "attachments": {},
   "cell_type": "markdown",
   "metadata": {},
   "source": [
    "- We can observe that the log-likelihood gets smaller until number of states = 3 (-958.812) after which it start rising again. \n",
    "\n",
    "- When comparing with previous model (c.i) with componets = 2:\n",
    "    - Assuming all the parameters unknown we obtain a log-likelihood of -960.355 which is a little bit lower than the one obtain in c.i (-961.341) were both transition and emission matrices were omited.\n",
    "    - Given that the diference is small between this model and the one obtained in c.i, we assume that omiting the states didnt made much diference to the model."
   ]
  },
  {
   "attachments": {},
   "cell_type": "markdown",
   "metadata": {},
   "source": [
    "#### c.ii.2\n",
    "- lets compare the estimated parameter (Transmission  and emission matrices) with the original model from question a)."
   ]
  },
  {
   "cell_type": "code",
   "execution_count": 43,
   "metadata": {},
   "outputs": [
    {
     "name": "stdout",
     "output_type": "stream",
     "text": [
      "model with 1 states\n",
      "Transition Matrix Recovered:\n",
      "[[1.]]\n",
      "Emission Matrix Recovered:\n",
      "[[0.147 0.118 0.142 0.136 0.149 0.307]]\n",
      "model with 2 states\n",
      "Transition Matrix Recovered:\n",
      "[[0.922 0.078]\n",
      " [0.063 0.937]]\n",
      "Emission Matrix Recovered:\n",
      "[[0.133 0.093 0.083 0.085 0.165 0.441]\n",
      " [0.158 0.138 0.189 0.177 0.137 0.201]]\n",
      "model with 3 states\n",
      "Transition Matrix Recovered:\n",
      "[[0.607 0.006 0.387]\n",
      " [0.017 0.912 0.071]\n",
      " [0.779 0.213 0.008]]\n",
      "Emission Matrix Recovered:\n",
      "[[0.165 0.186 0.261 0.108 0.132 0.149]\n",
      " [0.14  0.107 0.09  0.08  0.157 0.426]\n",
      " [0.13  0.006 0.025 0.341 0.164 0.333]]\n",
      "model with 4 states\n",
      "Transition Matrix Recovered:\n",
      "[[0.426 0.001 0.332 0.241]\n",
      " [0.854 0.126 0.018 0.002]\n",
      " [0.27  0.604 0.06  0.066]\n",
      " [0.087 0.    0.104 0.808]]\n",
      "Emission Matrix Recovered:\n",
      "[[0.007 0.196 0.153 0.199 0.233 0.212]\n",
      " [0.514 0.069 0.208 0.157 0.008 0.043]\n",
      " [0.147 0.038 0.248 0.217 0.123 0.227]\n",
      " [0.152 0.105 0.079 0.058 0.136 0.47 ]]\n"
     ]
    }
   ],
   "source": [
    "for i in models:\n",
    "      print(\"model with \" + str(i.n_components) + \" states\")\n",
    "      print(f'Transition Matrix Recovered:\\n{i.transmat_.round(3)}')\n",
    "      print(f'Emission Matrix Recovered:\\n{i.emissionprob_.round(3)}')"
   ]
  },
  {
   "attachments": {},
   "cell_type": "markdown",
   "metadata": {},
   "source": [
    "- It is possible to observe that for both transition and emission matrices, if no components(states) are provided, the model isnt able to recover the transmission nor the emission matrices\n",
    "- With 2 components we can observe that both  transition and emission matrices good estimates were obtained with no big difernces from the one obtained in .c.i\n",
    "- With more than 2 components the matrices adapt to more possible states"
   ]
  },
  {
   "attachments": {},
   "cell_type": "markdown",
   "metadata": {},
   "source": [
    "#### c.ii.3"
   ]
  },
  {
   "cell_type": "code",
   "execution_count": 44,
   "metadata": {},
   "outputs": [
    {
     "name": "stderr",
     "output_type": "stream",
     "text": [
      "C:\\Users\\afbso\\AppData\\Local\\Temp\\ipykernel_18536\\2758724324.py:13: UserWarning: Matplotlib is currently using module://matplotlib_inline.backend_inline, which is a non-GUI backend, so cannot show the figure.\n",
      "  fig.show()\n",
      "C:\\Users\\afbso\\AppData\\Local\\Temp\\ipykernel_18536\\2758724324.py:13: UserWarning: Matplotlib is currently using module://matplotlib_inline.backend_inline, which is a non-GUI backend, so cannot show the figure.\n",
      "  fig.show()\n",
      "C:\\Users\\afbso\\AppData\\Local\\Temp\\ipykernel_18536\\2758724324.py:13: UserWarning: Matplotlib is currently using module://matplotlib_inline.backend_inline, which is a non-GUI backend, so cannot show the figure.\n",
      "  fig.show()\n",
      "C:\\Users\\afbso\\AppData\\Local\\Temp\\ipykernel_18536\\2758724324.py:13: UserWarning: Matplotlib is currently using module://matplotlib_inline.backend_inline, which is a non-GUI backend, so cannot show the figure.\n",
      "  fig.show()\n"
     ]
    },
    {
     "data": {
      "image/png": "[encoded data removed]",
      "text/plain": [
       "<Figure size 432x288 with 1 Axes>"
      ]
     },
     "metadata": {
      "needs_background": "light"
     },
     "output_type": "display_data"
    },
    {
     "data": {
      "image/png": "[encoded data removed]",
      "text/plain": [
       "<Figure size 432x288 with 1 Axes>"
      ]
     },
     "metadata": {
      "needs_background": "light"
     },
     "output_type": "display_data"
    },
    {
     "data": {
      "image/png": "[encoded data removed]",
      "text/plain": [
       "<Figure size 432x288 with 1 Axes>"
      ]
     },
     "metadata": {
      "needs_background": "light"
     },
     "output_type": "display_data"
    },
    {
     "data": {
      "image/png": "[encoded data removed]",
      "text/plain": [
       "<Figure size 432x288 with 1 Axes>"
      ]
     },
     "metadata": {
      "needs_background": "light"
     },
     "output_type": "display_data"
    }
   ],
   "source": [
    "for i in models:\n",
    "    plot(rolls_full, dice_full, 500, i)"
   ]
  },
  {
   "attachments": {},
   "cell_type": "markdown",
   "metadata": {},
   "source": [
    "- For states = 2\n",
    "    - Even if imperfect the recovered states can give as a notion of the real states.\n",
    "    - No major diferences can be observed when comapring with the previous model in c.i.1\n",
    "- For 1 or > 2 states:\n",
    "    - Given that diferent number of states are being compared no useful interpretation can be made.\n",
    "    "
   ]
  },
  {
   "attachments": {},
   "cell_type": "markdown",
   "metadata": {},
   "source": [
    "## d)"
   ]
  },
  {
   "attachments": {},
   "cell_type": "markdown",
   "metadata": {},
   "source": [
    "- Lets generate 30000 samples from the model of question a)."
   ]
  },
  {
   "cell_type": "code",
   "execution_count": 45,
   "metadata": {},
   "outputs": [],
   "source": [
    "# model of question a)\n",
    "true_model = hmm.CategoricalHMM(n_components=2, random_state=99)\n",
    "\n",
    "true_model.startprob_ = np.array([.1/(.05+.1), .05/(.05+.1)])\n",
    "\n",
    "true_model.transmat_ = np.array([[0.95, 0.05],\n",
    "                                [0.1, 0.90]])\n",
    "\n",
    "true_model.emissionprob_ = \\\n",
    "    np.array([[1 / 6, 1 / 6, 1 / 6, 1 / 6, 1 / 6, 1 / 6],\n",
    "              [1 / 10, 1 / 10, 1 / 10, 1 / 10, 1 / 10, 5 / 10]])\n",
    "   \n",
    "# generate 30000 samples    \n",
    "rolls_mega, dice_states_mega = true_model.sample(30000)\n",
    "\n",
    "# spliting data in half\n",
    "X_train_mega = rolls_mega[:rolls_mega.shape[0] // 2]\n",
    "X_validate_mega = rolls_mega[rolls_mega.shape[0] // 2:]"
   ]
  },
  {
   "attachments": {},
   "cell_type": "markdown",
   "metadata": {},
   "source": [
    "- Lets repeat question c) with this new dataset"
   ]
  },
  {
   "attachments": {},
   "cell_type": "markdown",
   "metadata": {},
   "source": [
    "### d.i"
   ]
  },
  {
   "attachments": {},
   "cell_type": "markdown",
   "metadata": {},
   "source": [
    "#### d.i.1\n",
    "- Lets train HMM's with half of the data points and observe the log-likelihood with the remaining half, assuming both transition and emission matrices are unknown."
   ]
  },
  {
   "cell_type": "code",
   "execution_count": 46,
   "metadata": {},
   "outputs": [
    {
     "name": "stdout",
     "output_type": "stream",
     "text": [
      "Best score: -26236.76080655543\n"
     ]
    }
   ],
   "source": [
    "startprob = np.array([.1/(.05+.1), .05/(.05+.1)])\n",
    "emission_prob = 0 \n",
    "\n",
    "best_model = fit_model(X_train_mega, X_validate_mega, \"sp\", 2, startprob, emission_prob)"
   ]
  },
  {
   "attachments": {},
   "cell_type": "markdown",
   "metadata": {},
   "source": [
    "- Assuming both transition and emission matrices are unknown, now with a sample of 30000 total, we obtain a log-likelihood of -26236.761 which is much lower than the value obtained with the model trained in c.i.1(-961.341). \n",
    "- As we saw previously, the  log-likelihood value may not be the best indicator of how the model will predict new data.\n",
    "    - Seems that as the data increases the score descreases. Again, this can happen because the likelihood of the data is a product of the probabilities of each individual sample, and as the number of samples increases, the product of these probabilities can become very small, resulting in a lower log-likelihood. It is possible that the model is still doing a good job of capturing the underlying patterns in the data as we saw in previous exercises. Lets verify it.\n"
   ]
  },
  {
   "attachments": {},
   "cell_type": "markdown",
   "metadata": {},
   "source": [
    "#### d.i.2\n",
    "- lets compare the estimated parameter (transition and emission matrices) with the original model from question a)."
   ]
  },
  {
   "cell_type": "code",
   "execution_count": 47,
   "metadata": {},
   "outputs": [
    {
     "name": "stdout",
     "output_type": "stream",
     "text": [
      "Transition Matrix Generated:\n",
      "[[0.95 0.05]\n",
      " [0.1  0.9 ]]\n",
      "\n",
      "Transition Matrix Recovered:\n",
      "[[0.925 0.075]\n",
      " [0.036 0.964]]\n",
      "\n",
      "\n",
      "Emission Matrix Generated:\n",
      "[[0.167 0.167 0.167 0.167 0.167 0.167]\n",
      " [0.1   0.1   0.1   0.1   0.1   0.5  ]]\n",
      "\n",
      "Emission Matrix Recovered:\n",
      "[[0.102 0.102 0.104 0.096 0.107 0.489]\n",
      " [0.16  0.162 0.163 0.165 0.166 0.183]]\n",
      "\n",
      "\n"
     ]
    }
   ],
   "source": [
    "print(f'Transition Matrix Generated:\\n{true_model.transmat_.round(3)}\\n\\n'\n",
    "      f'Transition Matrix Recovered:\\n{best_model.transmat_.round(3)}\\n\\n')\n",
    "print(f'Emission Matrix Generated:\\n{true_model.emissionprob_.round(3)}\\n\\n'\n",
    "      f'Emission Matrix Recovered:\\n{best_model.emissionprob_.round(3)}\\n\\n')"
   ]
  },
  {
   "attachments": {},
   "cell_type": "markdown",
   "metadata": {},
   "source": [
    "- It is possible to observer that for both transition and emission matrices good estimates were obtained, without any major diference from model trained in .c, exept for the Emission matrix that even though the positions seem to be changed, the values aproximate much better than on previous models.\n",
    "- Again the log likelyhood value doesnt seems to be the most adequate measure to evaluate the model quality\n",
    "    - The predicted matrices (recovered) seem to be a much better indicatior of the model quality"
   ]
  },
  {
   "attachments": {},
   "cell_type": "markdown",
   "metadata": {},
   "source": [
    "### d.ii"
   ]
  },
  {
   "attachments": {},
   "cell_type": "markdown",
   "metadata": {},
   "source": [
    "#### d.ii.1\n",
    "- Lets train HMM's with half of the data points and observe the log-likelihood with the remaining half, assuming all the parameters unknown, including the number of states."
   ]
  },
  {
   "cell_type": "code",
   "execution_count": 48,
   "metadata": {},
   "outputs": [
    {
     "name": "stdout",
     "output_type": "stream",
     "text": [
      "number of states =  1\n",
      "Best score: -26395.622357831373\n",
      "number of states =  2\n",
      "Best score: -26229.17147300787\n",
      "number of states =  3\n",
      "Best score: -26227.741550577648\n",
      "number of states =  4\n",
      "Best score: -26232.505273798255\n"
     ]
    }
   ],
   "source": [
    "models = []\n",
    "for i in range(1, 5):\n",
    "    print(\"number of states = \", i)\n",
    "    best_model = fit_model(X_train_mega, X_validate_mega, \"\", i, startprob, emission_prob)\n",
    "    models.append(best_model)"
   ]
  },
  {
   "attachments": {},
   "cell_type": "markdown",
   "metadata": {},
   "source": [
    "- Comparing with previou model with componets = 2:\n",
    "    - assuming both transition and emission matrices are unknown, now with a sample of 30000 total, we obtain a log-likelihood of -26229.171 which is very simillar to the value obtained with the model trained in d.i.1(-26236.760) even though less information was provided\n",
    "- Also, we can observe that the log-likelihood gets smaller until number of states = 3 after which it start rising again."
   ]
  },
  {
   "attachments": {},
   "cell_type": "markdown",
   "metadata": {},
   "source": [
    "#### d.ii.2\n",
    "- lets compare the estimated parameter (transition and emission matrices) with the original model from question a)."
   ]
  },
  {
   "cell_type": "code",
   "execution_count": 49,
   "metadata": {},
   "outputs": [
    {
     "name": "stdout",
     "output_type": "stream",
     "text": [
      "model with 1 states\n",
      "Transition Matrix Recovered:\n",
      "[[1.]]\n",
      "Emission Matrix Recovered:\n",
      "[[0.142 0.143 0.144 0.143 0.147 0.282]]\n",
      "model with 2 states\n",
      "Transition Matrix Recovered:\n",
      "[[0.897 0.103]\n",
      " [0.056 0.944]]\n",
      "Emission Matrix Recovered:\n",
      "[[0.102 0.098 0.107 0.092 0.106 0.494]\n",
      " [0.163 0.167 0.164 0.17  0.169 0.167]]\n",
      "model with 3 states\n",
      "Transition Matrix Recovered:\n",
      "[[0.932 0.066 0.002]\n",
      " [0.069 0.862 0.069]\n",
      " [0.471 0.462 0.067]]\n",
      "Emission Matrix Recovered:\n",
      "[[0.163 0.17  0.163 0.176 0.171 0.158]\n",
      " [0.113 0.109 0.105 0.095 0.093 0.486]\n",
      " [0.088 0.03  0.274 0.103 0.359 0.146]]\n",
      "model with 4 states\n",
      "Transition Matrix Recovered:\n",
      "[[0.058 0.107 0.158 0.678]\n",
      " [0.565 0.    0.229 0.206]\n",
      " [0.001 0.093 0.892 0.014]\n",
      " [0.068 0.751 0.001 0.18 ]]\n",
      "Emission Matrix Recovered:\n",
      "[[0.15  0.086 0.22  0.012 0.034 0.497]\n",
      " [0.099 0.111 0.114 0.109 0.137 0.43 ]\n",
      " [0.166 0.172 0.172 0.18  0.175 0.135]\n",
      " [0.097 0.117 0.017 0.147 0.143 0.479]]\n"
     ]
    }
   ],
   "source": [
    "for i in models:\n",
    "      print(\"model with \" + str(i.n_components) + \" states\")\n",
    "      print(f'Transition Matrix Recovered:\\n{i.transmat_.round(3)}')\n",
    "      print(f'Emission Matrix Recovered:\\n{i.emissionprob_.round(3)}')"
   ]
  },
  {
   "attachments": {},
   "cell_type": "markdown",
   "metadata": {},
   "source": [
    "- It is possible to observe that for both transition and emission matrices, if no components(states) are provided, the model isnt able to recover the transmission nor the emission matrices\n",
    "- With 2 components we can observe that both  transition and emission matrices good estimates were obtained. \n",
    "- With more than 2 components the matrices adapt to more possible states"
   ]
  },
  {
   "attachments": {},
   "cell_type": "markdown",
   "metadata": {},
   "source": [
    "## Conclusions:"
   ]
  },
  {
   "attachments": {},
   "cell_type": "markdown",
   "metadata": {},
   "source": [
    "- It is possible to observe that as the sample size increases, the predictions aproximate more and more from the truth values. When using a sample of 30000, both the transition and the emission matrices aproximated very well the truth.\n",
    "- We could also observe tha the log-likelihood isnt a good measure to compare models that were trained with difernt sample sizes. The use of the recovered matrices is a better indicator.\n",
    "    - The explanation for this ocurrence may be due to the likelihood of the data being a product of the probabilities of each individual sample, and as the number of samples increases, the product of these probabilities can become very small, resulting in a lower log-likelihood.\n",
    "    - Being just a measure of goodness of fit, even if \"bad\" values, it is possible that the model is still doing a good job of capturing the underlying patterns in the data, even if the log-likelihood decreases as the number of samples increases, as we saw on the above exercices."
   ]
  }
 ],
 "metadata": {
  "kernelspec": {
   "display_name": "base",
   "language": "python",
   "name": "python3"
  },
  "language_info": {
   "codemirror_mode": {
    "name": "ipython",
    "version": 3
   },
   "file_extension": ".py",
   "mimetype": "text/x-python",
   "name": "python",
   "nbconvert_exporter": "python",
   "pygments_lexer": "ipython3",
   "version": "3.9.12"
  },
  "orig_nbformat": 4
 },
 "nbformat": 4,
 "nbformat_minor": 2
}
