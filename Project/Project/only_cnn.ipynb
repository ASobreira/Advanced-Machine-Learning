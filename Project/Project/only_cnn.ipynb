{
 "cells": [
  {
   "attachments": {},
   "cell_type": "markdown",
   "metadata": {},
   "source": [
    "# Kaggle API"
   ]
  },
  {
   "cell_type": "code",
   "execution_count": null,
   "metadata": {},
   "outputs": [],
   "source": [
    "!pip install kaggle\n",
    "\n",
    "! mkdir ~/.kaggle\n",
    "\n",
    "!rm -r /root/.kaggle\n",
    "\n",
    "! cp kaggle.json ~/.kaggle\n",
    "\n",
    "! chmod 600 ~/.kaggle/kaggle.json\n",
    "\n",
    "! kaggle datasets download -d jangedoo/utkface-new\n",
    "\n",
    "#! kaggle datasets list\n",
    "\n",
    "! unzip utkface-new.zip"
   ]
  },
  {
   "attachments": {},
   "cell_type": "markdown",
   "metadata": {},
   "source": [
    "# GPU"
   ]
  },
  {
   "cell_type": "code",
   "execution_count": null,
   "metadata": {},
   "outputs": [],
   "source": [
    "device_list = tf.test.gpu_device_name()\n",
    "\n",
    "device_list"
   ]
  },
  {
   "cell_type": "code",
   "execution_count": null,
   "metadata": {},
   "outputs": [],
   "source": [
    "!nvidia-smi"
   ]
  },
  {
   "attachments": {},
   "cell_type": "markdown",
   "metadata": {},
   "source": [
    "# PACKAGES"
   ]
  },
  {
   "cell_type": "code",
   "execution_count": 118,
   "metadata": {},
   "outputs": [],
   "source": [
    "import numpy as np\n",
    "import pandas as pd \n",
    "import os\n",
    "import cv2\n",
    "from sklearn.svm import SVC\n",
    "from skimage.feature import hog\n",
    "import matplotlib.pyplot as plt\n",
    "from sklearn.model_selection import train_test_split\n",
    "from sklearn.svm import SVC\n",
    "from skimage.color import rgb2gray\n",
    "import tensorflow as tf\n",
    "from keras.models import Sequential\n",
    "from keras.layers import Convolution2D, MaxPooling2D, Flatten, Dense, Dropout, GlobalAveragePooling2D\n",
    "from keras.applications import VGG16\n",
    "from skimage.feature import hog\n",
    "from skimage import data, exposure\n",
    "import random\n",
    "from keras import layers, losses\n",
    "from keras.models import Model\n",
    "from sklearn.metrics import classification_report, accuracy_score, matthews_corrcoef, confusion_matrix\n",
    "from sklearn.model_selection import GridSearchCV\n",
    "from sklearn.metrics import classification_report\n",
    "import seaborn as sns\n",
    "from sklearn.multiclass import OneVsRestClassifier\n",
    "from sklearn.svm import SVC\n",
    "import math\n",
    "from keras.utils.np_utils import to_categorical\n",
    "from sklearn.metrics import classification_report, confusion_matrix"
   ]
  },
  {
   "cell_type": "code",
   "execution_count": 119,
   "metadata": {},
   "outputs": [],
   "source": [
    "def display(img):\n",
    "    plt.imshow(img)\n",
    "    plt.show()\n",
    "\n",
    "def prediction_metrics(model, X_test, y_test, classes):\n",
    "    preds = []\n",
    "    truth = []\n",
    "    y_hat = model.predict(X_test)\n",
    "\n",
    "    for i in range(X_test.shape[0]):\n",
    "        \n",
    "        predict_index = np.argmax(y_hat[i])\n",
    "        preds.append(predict_index) \n",
    "        \n",
    "        true_index = np.argmax(y_test[i])\n",
    "        truth.append(true_index)\n",
    "        \n",
    "    mcc = matthews_corrcoef(truth, preds)\n",
    "    print(\"MCC: \", mcc)\n",
    "    label = list(set(classes))\n",
    "    cm = confusion_matrix(truth, preds)\n",
    "    sns.heatmap(cm, annot=True, cmap=\"Blues\", fmt=\"d\", xticklabels=label, yticklabels=label)\n",
    "    plt.xlabel('Predicted Label')\n",
    "    plt.ylabel('True Label')\n",
    "    plt.title('Confusion Matrix')\n",
    "    plt.show()\n",
    "    print(classification_report(truth, preds))"
   ]
  },
  {
   "cell_type": "code",
   "execution_count": 120,
   "metadata": {},
   "outputs": [
    {
     "name": "stdout",
     "output_type": "stream",
     "text": [
      "Total samples: 23708\n",
      "100_0_0_20170112213500903.jpg.chip.jpg\n"
     ]
    }
   ],
   "source": [
    "#path server\n",
    "#path = \"/UTKFace/\"\n",
    "#path martim\n",
    "#path = \"../../../../DadosProj/UTKFace/\"\n",
    "#path alex\n",
    "path = \"../../../data_project/UTKFace/\"\n",
    "\n",
    "files = os.listdir(path)\n",
    "size = len(files)\n",
    "print(\"Total samples:\",size)\n",
    "print(files[0])"
   ]
  },
  {
   "attachments": {},
   "cell_type": "markdown",
   "metadata": {},
   "source": [
    "# DATA NORM"
   ]
  },
  {
   "cell_type": "code",
   "execution_count": 190,
   "metadata": {},
   "outputs": [
    {
     "ename": "KeyboardInterrupt",
     "evalue": "",
     "output_type": "error",
     "traceback": [
      "\u001b[1;31m---------------------------------------------------------------------------\u001b[0m",
      "\u001b[1;31mKeyboardInterrupt\u001b[0m                         Traceback (most recent call last)",
      "\u001b[1;32mc:\\Users\\afbso\\OneDrive - Universidade de Lisboa\\MCD\\2º Semestre\\A.A.A\\AAA_repo\\Project\\Project\\only_cnn.ipynb Cell 11\u001b[0m in \u001b[0;36m<cell line: 6>\u001b[1;34m()\u001b[0m\n\u001b[0;32m      <a href='vscode-notebook-cell:/c%3A/Users/afbso/OneDrive%20-%20Universidade%20de%20Lisboa/MCD/2%C2%BA%20Semestre/A.A.A/AAA_repo/Project/Project/only_cnn.ipynb#W3sZmlsZQ%3D%3D?line=6'>7</a>\u001b[0m \u001b[39mif\u001b[39;00m counter \u001b[39m==\u001b[39m \u001b[39m23708\u001b[39m:\n\u001b[0;32m      <a href='vscode-notebook-cell:/c%3A/Users/afbso/OneDrive%20-%20Universidade%20de%20Lisboa/MCD/2%C2%BA%20Semestre/A.A.A/AAA_repo/Project/Project/only_cnn.ipynb#W3sZmlsZQ%3D%3D?line=7'>8</a>\u001b[0m     \u001b[39mbreak\u001b[39;00m\n\u001b[1;32m---> <a href='vscode-notebook-cell:/c%3A/Users/afbso/OneDrive%20-%20Universidade%20de%20Lisboa/MCD/2%C2%BA%20Semestre/A.A.A/AAA_repo/Project/Project/only_cnn.ipynb#W3sZmlsZQ%3D%3D?line=9'>10</a>\u001b[0m image \u001b[39m=\u001b[39m cv2\u001b[39m.\u001b[39;49mimread(path\u001b[39m+\u001b[39;49mfile)\n\u001b[0;32m     <a href='vscode-notebook-cell:/c%3A/Users/afbso/OneDrive%20-%20Universidade%20de%20Lisboa/MCD/2%C2%BA%20Semestre/A.A.A/AAA_repo/Project/Project/only_cnn.ipynb#W3sZmlsZQ%3D%3D?line=10'>11</a>\u001b[0m image \u001b[39m=\u001b[39m cv2\u001b[39m.\u001b[39mcvtColor(image, cv2\u001b[39m.\u001b[39mCOLOR_BGR2RGB)\n\u001b[0;32m     <a href='vscode-notebook-cell:/c%3A/Users/afbso/OneDrive%20-%20Universidade%20de%20Lisboa/MCD/2%C2%BA%20Semestre/A.A.A/AAA_repo/Project/Project/only_cnn.ipynb#W3sZmlsZQ%3D%3D?line=11'>12</a>\u001b[0m image \u001b[39m=\u001b[39m cv2\u001b[39m.\u001b[39mresize(image, dsize\u001b[39m=\u001b[39m(\u001b[39m200\u001b[39m, \u001b[39m200\u001b[39m))\n",
      "\u001b[1;31mKeyboardInterrupt\u001b[0m: "
     ]
    }
   ],
   "source": [
    "images = []\n",
    "ages = []\n",
    "genders = []\n",
    "counter = 0\n",
    "\n",
    "for file in files:\n",
    "    if counter == 23708:\n",
    "        break\n",
    "    \n",
    "    image = cv2.imread(path+file)\n",
    "    image = cv2.cvtColor(image, cv2.COLOR_BGR2RGB)\n",
    "    image = cv2.resize(image, dsize=(200, 200))\n",
    "    image = image.reshape((image.shape[0], image.shape[1], 3)) \n",
    "    #image = image.astype('float32') / 255.0 #normalizing values on each point \n",
    "    image = image / 255.0\n",
    "\n",
    "    #verificar se imagens todas estao no range 0 a 255 (se sao rgb)\n",
    "\n",
    "    images.append(image)\n",
    "    delimit = file.split('_')\n",
    "    ages.append(int(delimit[0]))\n",
    "    # first number is age (0-116 possible values)\n",
    "    genders.append(int(delimit[1]))\n",
    "    # second number is gender (0 for male, 1 for female)\n",
    "\n",
    "\n",
    "    counter += 1\n",
    "    \n",
    "X = np.squeeze(images)"
   ]
  },
  {
   "cell_type": "code",
   "execution_count": 122,
   "metadata": {},
   "outputs": [
    {
     "name": "stdout",
     "output_type": "stream",
     "text": [
      "Age Classes finished\n"
     ]
    }
   ],
   "source": [
    "### Age classes\n",
    "age_classes = []\n",
    "for i in ages:\n",
    "    i = int(i)\n",
    "    if i <= 1:\n",
    "        age_classes.append(0)\n",
    "    if (i>1) and (i<=13):\n",
    "        age_classes.append(1)\n",
    "    if (i>13) and (i<17):\n",
    "        age_classes.append(2)\n",
    "    if (i>=17) and (i<30):\n",
    "        age_classes.append(3)\n",
    "    if (i>=30) and (i<60):\n",
    "        age_classes.append(4)\n",
    "    if i>=60:\n",
    "        age_classes.append(5)\n",
    "\n",
    "age_labels = [\"Baby\",   # index 0\n",
    "        \"Infant\",       # index 1\n",
    "        \"Adolescent\",   # index 2 \n",
    "        \"Young Adult\",  # index 3 \n",
    "        \"Adult\"         # index 4\n",
    "        \"Old Adult\",    # index 5\n",
    "        ]\n",
    "\n",
    "age_categories = to_categorical(age_classes, num_classes=6)\n",
    "age_categories[:20]\n",
    "print(\"Age Classes finished\")"
   ]
  },
  {
   "attachments": {},
   "cell_type": "markdown",
   "metadata": {},
   "source": [
    "# DISTRIBUTIONS"
   ]
  },
  {
   "cell_type": "code",
   "execution_count": 123,
   "metadata": {},
   "outputs": [
    {
     "name": "stdout",
     "output_type": "stream",
     "text": [
      "100\n",
      "<class 'list'>\n",
      "[1, 5]\n"
     ]
    }
   ],
   "source": [
    "print(len(age_classes))\n",
    "print(type(age_classes))\n",
    "unique_values = list(set(age_classes))\n",
    "print(unique_values)"
   ]
  },
  {
   "cell_type": "code",
   "execution_count": 124,
   "metadata": {},
   "outputs": [
    {
     "name": "stdout",
     "output_type": "stream",
     "text": [
      "age\n",
      " 1    81\n",
      "5    19\n",
      "Name: age, dtype: int64\n",
      "gender\n",
      " 0    86\n",
      "1    14\n",
      "Name: gender, dtype: int64\n"
     ]
    }
   ],
   "source": [
    "img_all = pd.DataFrame()\n",
    "img_all[\"age\"] = age_classes\n",
    "img_all[\"gender\"] = genders\n",
    "\n",
    "img_gender = pd.DataFrame()\n",
    "img_gender[\"gender\"] = genders\n",
    "\n",
    "img_age = pd.DataFrame()\n",
    "img_age[\"age\"] = age_classes\n",
    "\n",
    "print(\"age\\n\", img_age.age.value_counts())\n",
    "print(\"gender\\n\", img_gender.gender.value_counts())"
   ]
  },
  {
   "cell_type": "code",
   "execution_count": null,
   "metadata": {},
   "outputs": [],
   "source": [
    "sns.distplot(genders)"
   ]
  },
  {
   "cell_type": "code",
   "execution_count": 189,
   "metadata": {},
   "outputs": [
    {
     "name": "stderr",
     "output_type": "stream",
     "text": [
      "c:\\Users\\afbso\\anaconda3\\lib\\site-packages\\seaborn\\distributions.py:2619: FutureWarning: `distplot` is a deprecated function and will be removed in a future version. Please adapt your code to use either `displot` (a figure-level function with similar flexibility) or `histplot` (an axes-level function for histograms).\n",
      "  warnings.warn(msg, FutureWarning)\n"
     ]
    },
    {
     "data": {
      "text/plain": [
       "<AxesSubplot:ylabel='Density'>"
      ]
     },
     "execution_count": 189,
     "metadata": {},
     "output_type": "execute_result"
    },
    {
     "data": {
      "image/png": "[encoded data removed]",
      "text/plain": [
       "<Figure size 432x288 with 1 Axes>"
      ]
     },
     "metadata": {
      "needs_background": "light"
     },
     "output_type": "display_data"
    }
   ],
   "source": [
    "sns.distplot(ages)"
   ]
  },
  {
   "attachments": {},
   "cell_type": "markdown",
   "metadata": {},
   "source": [
    "# MODELS"
   ]
  },
  {
   "cell_type": "code",
   "execution_count": 125,
   "metadata": {},
   "outputs": [],
   "source": [
    "def CNN (input_shape, output, activation):\n",
    "    \n",
    "    model = tf.keras.Sequential()\n",
    "\n",
    "    \n",
    "    model.add(tf.keras.layers.Conv2D(filters=16, kernel_size=3, padding='same', activation='relu', input_shape = input_shape)) \n",
    "    model.add(tf.keras.layers.MaxPooling2D(pool_size=2))\n",
    " \n",
    "\n",
    "    model.add(tf.keras.layers.Conv2D(filters=32, kernel_size=3, padding='same', activation='relu'))\n",
    "    model.add(tf.keras.layers.MaxPooling2D(pool_size=2))\n",
    "\n",
    "\n",
    "    model.add(tf.keras.layers.Conv2D(filters=64, kernel_size=3, padding='same', activation='relu'))\n",
    "    model.add(tf.keras.layers.MaxPooling2D(pool_size=2))\n",
    "\n",
    "    model.add(tf.keras.layers.Flatten())\n",
    "    \n",
    "    model.add(tf.keras.layers.Dense(64, activation='relu'))\n",
    "    \n",
    "    model.add(tf.keras.layers.Dropout(0.5))\n",
    "    \n",
    "    model.add(tf.keras.layers.Dense(output, activation=activation))\n",
    "    \n",
    "    model.summary()\n",
    "    \n",
    "    return model\n",
    "\n",
    "#otimizar 2k\n",
    "#adicionar mais conv?\n",
    "#Dropout antes do flaten apenas\n",
    "#Mexer otimizador (lr)\n",
    "#implementar early stoping (). Early Stoping tem patience: e.g., 10 epcohs, ele espera 10 epochs antes de parar.\n",
    "#ir gravando cnn no servidor"
   ]
  },
  {
   "attachments": {},
   "cell_type": "markdown",
   "metadata": {},
   "source": [
    "## BASE"
   ]
  },
  {
   "attachments": {},
   "cell_type": "markdown",
   "metadata": {},
   "source": [
    "### Gender"
   ]
  },
  {
   "cell_type": "code",
   "execution_count": 126,
   "metadata": {},
   "outputs": [],
   "source": [
    "X_train, X_test, y_train, y_test = train_test_split(X, genders, test_size=0.2, random_state=42)"
   ]
  },
  {
   "cell_type": "code",
   "execution_count": 127,
   "metadata": {},
   "outputs": [],
   "source": [
    "X_train = np.asarray(X_train)\n",
    "y_train = np.asarray(y_train)\n",
    "\n",
    "X_test = np.asarray(X_test)\n",
    "y_test = np.asarray(y_test)"
   ]
  },
  {
   "cell_type": "code",
   "execution_count": 128,
   "metadata": {},
   "outputs": [
    {
     "name": "stdout",
     "output_type": "stream",
     "text": [
      "Model: \"sequential_26\"\n",
      "_________________________________________________________________\n",
      " Layer (type)                Output Shape              Param #   \n",
      "=================================================================\n",
      " conv2d_83 (Conv2D)          (None, 200, 200, 16)      448       \n",
      "                                                                 \n",
      " max_pooling2d_71 (MaxPoolin  (None, 100, 100, 16)     0         \n",
      " g2D)                                                            \n",
      "                                                                 \n",
      " conv2d_84 (Conv2D)          (None, 100, 100, 32)      4640      \n",
      "                                                                 \n",
      " max_pooling2d_72 (MaxPoolin  (None, 50, 50, 32)       0         \n",
      " g2D)                                                            \n",
      "                                                                 \n",
      " conv2d_85 (Conv2D)          (None, 50, 50, 64)        18496     \n",
      "                                                                 \n",
      " max_pooling2d_73 (MaxPoolin  (None, 25, 25, 64)       0         \n",
      " g2D)                                                            \n",
      "                                                                 \n",
      " flatten_22 (Flatten)        (None, 40000)             0         \n",
      "                                                                 \n",
      " dense_44 (Dense)            (None, 64)                2560064   \n",
      "                                                                 \n",
      " dropout_19 (Dropout)        (None, 64)                0         \n",
      "                                                                 \n",
      " dense_45 (Dense)            (None, 1)                 65        \n",
      "                                                                 \n",
      "=================================================================\n",
      "Total params: 2,583,713\n",
      "Trainable params: 2,583,713\n",
      "Non-trainable params: 0\n",
      "_________________________________________________________________\n"
     ]
    }
   ],
   "source": [
    "model = CNN((200,200,3), 1, 'sigmoid')"
   ]
  },
  {
   "cell_type": "code",
   "execution_count": 129,
   "metadata": {},
   "outputs": [
    {
     "name": "stdout",
     "output_type": "stream",
     "text": [
      "Epoch 1/25\n",
      "3/3 [==============================] - 3s 625ms/step - loss: 0.4689 - accuracy: 0.7500 - val_loss: 0.6839 - val_accuracy: 0.8000\n",
      "Epoch 2/25\n",
      "3/3 [==============================] - 1s 503ms/step - loss: 0.4798 - accuracy: 0.8625 - val_loss: 0.5137 - val_accuracy: 0.8000\n",
      "Epoch 3/25\n",
      "3/3 [==============================] - 1s 463ms/step - loss: 0.3477 - accuracy: 0.8750 - val_loss: 0.8460 - val_accuracy: 0.8000\n",
      "Epoch 4/25\n",
      "3/3 [==============================] - 1s 452ms/step - loss: 0.5432 - accuracy: 0.8750 - val_loss: 0.5555 - val_accuracy: 0.8000\n",
      "Epoch 5/25\n",
      "3/3 [==============================] - 2s 498ms/step - loss: 0.3328 - accuracy: 0.8750 - val_loss: 0.5069 - val_accuracy: 0.8000\n",
      "Epoch 6/25\n",
      "3/3 [==============================] - 1s 467ms/step - loss: 0.3945 - accuracy: 0.8750 - val_loss: 0.5054 - val_accuracy: 0.8000\n",
      "Epoch 7/25\n",
      "3/3 [==============================] - 1s 479ms/step - loss: 0.3848 - accuracy: 0.8750 - val_loss: 0.5985 - val_accuracy: 0.8000\n",
      "Epoch 8/25\n",
      "3/3 [==============================] - 1s 463ms/step - loss: 0.3188 - accuracy: 0.8750 - val_loss: 0.5264 - val_accuracy: 0.8000\n",
      "Epoch 9/25\n",
      "3/3 [==============================] - 1s 410ms/step - loss: 0.3111 - accuracy: 0.8750 - val_loss: 0.5031 - val_accuracy: 0.8000\n",
      "Epoch 10/25\n",
      "3/3 [==============================] - 1s 437ms/step - loss: 0.3187 - accuracy: 0.8750 - val_loss: 0.5454 - val_accuracy: 0.8000\n",
      "Epoch 11/25\n",
      "3/3 [==============================] - 1s 433ms/step - loss: 0.3434 - accuracy: 0.8750 - val_loss: 0.4987 - val_accuracy: 0.8000\n",
      "Epoch 12/25\n",
      "3/3 [==============================] - 1s 416ms/step - loss: 0.2651 - accuracy: 0.9000 - val_loss: 0.4919 - val_accuracy: 0.8000\n",
      "Epoch 13/25\n",
      "3/3 [==============================] - 1s 398ms/step - loss: 0.2626 - accuracy: 0.8875 - val_loss: 0.5955 - val_accuracy: 0.8000\n",
      "Epoch 14/25\n",
      "3/3 [==============================] - 1s 468ms/step - loss: 0.2305 - accuracy: 0.8750 - val_loss: 0.5621 - val_accuracy: 0.8000\n",
      "Epoch 15/25\n",
      "3/3 [==============================] - 1s 446ms/step - loss: 0.1658 - accuracy: 0.9000 - val_loss: 0.5447 - val_accuracy: 0.8000\n",
      "Epoch 16/25\n",
      "3/3 [==============================] - 1s 465ms/step - loss: 0.2038 - accuracy: 0.9250 - val_loss: 0.5511 - val_accuracy: 0.8500\n",
      "Epoch 17/25\n",
      "3/3 [==============================] - 1s 455ms/step - loss: 0.1601 - accuracy: 0.9250 - val_loss: 0.5159 - val_accuracy: 0.8000\n",
      "Epoch 18/25\n",
      "3/3 [==============================] - 2s 523ms/step - loss: 0.1497 - accuracy: 0.9125 - val_loss: 0.6230 - val_accuracy: 0.8000\n",
      "Epoch 19/25\n",
      "3/3 [==============================] - 2s 488ms/step - loss: 0.1434 - accuracy: 0.9125 - val_loss: 0.4894 - val_accuracy: 0.8500\n",
      "Epoch 20/25\n",
      "3/3 [==============================] - 1s 465ms/step - loss: 0.1018 - accuracy: 0.9625 - val_loss: 0.7865 - val_accuracy: 0.8500\n",
      "Epoch 21/25\n",
      "3/3 [==============================] - 1s 426ms/step - loss: 0.1725 - accuracy: 0.9375 - val_loss: 0.4661 - val_accuracy: 0.8500\n",
      "Epoch 22/25\n",
      "3/3 [==============================] - 1s 444ms/step - loss: 0.1537 - accuracy: 0.9375 - val_loss: 0.4710 - val_accuracy: 0.8500\n",
      "Epoch 23/25\n",
      "3/3 [==============================] - 1s 432ms/step - loss: 0.1035 - accuracy: 0.9500 - val_loss: 0.5993 - val_accuracy: 0.8000\n",
      "Epoch 24/25\n",
      "3/3 [==============================] - 1s 452ms/step - loss: 0.1021 - accuracy: 0.9500 - val_loss: 0.6757 - val_accuracy: 0.8500\n",
      "Epoch 25/25\n",
      "3/3 [==============================] - 1s 417ms/step - loss: 0.0893 - accuracy: 0.9500 - val_loss: 0.8627 - val_accuracy: 0.8500\n"
     ]
    }
   ],
   "source": [
    "#for age use categorical_crossentropy instead\n",
    "model.compile(optimizer=\"adam\", loss=\"binary_crossentropy\", metrics=['accuracy'])\n",
    "\n",
    "history_base_gender = model.fit(X_train, y_train,\n",
    "                    epochs=25,\n",
    "                    batch_size=32,\n",
    "                    validation_data=(X_test, y_test))"
   ]
  },
  {
   "cell_type": "code",
   "execution_count": 130,
   "metadata": {},
   "outputs": [
    {
     "name": "stdout",
     "output_type": "stream",
     "text": [
      "1/1 [==============================] - 0s 166ms/step\n",
      "MCC:  0.0\n"
     ]
    },
    {
     "data": {
      "image/png": "[encoded data removed]",
      "text/plain": [
       "<Figure size 432x288 with 2 Axes>"
      ]
     },
     "metadata": {
      "needs_background": "light"
     },
     "output_type": "display_data"
    },
    {
     "name": "stdout",
     "output_type": "stream",
     "text": [
      "              precision    recall  f1-score   support\n",
      "\n",
      "           0       1.00      1.00      1.00        20\n",
      "\n",
      "    accuracy                           1.00        20\n",
      "   macro avg       1.00      1.00      1.00        20\n",
      "weighted avg       1.00      1.00      1.00        20\n",
      "\n"
     ]
    }
   ],
   "source": [
    "prediction_metrics(model, X_test, y_test, age_classes)"
   ]
  },
  {
   "attachments": {},
   "cell_type": "markdown",
   "metadata": {},
   "source": [
    "### Age"
   ]
  },
  {
   "cell_type": "code",
   "execution_count": 131,
   "metadata": {},
   "outputs": [],
   "source": [
    "X_train, X_test, y_train, y_test = train_test_split(X, age_categories, test_size = 0.2, shuffle = True)"
   ]
  },
  {
   "cell_type": "code",
   "execution_count": 132,
   "metadata": {},
   "outputs": [
    {
     "name": "stdout",
     "output_type": "stream",
     "text": [
      "Model: \"sequential_27\"\n",
      "_________________________________________________________________\n",
      " Layer (type)                Output Shape              Param #   \n",
      "=================================================================\n",
      " conv2d_86 (Conv2D)          (None, 200, 200, 16)      448       \n",
      "                                                                 \n",
      " max_pooling2d_74 (MaxPoolin  (None, 100, 100, 16)     0         \n",
      " g2D)                                                            \n",
      "                                                                 \n",
      " conv2d_87 (Conv2D)          (None, 100, 100, 32)      4640      \n",
      "                                                                 \n",
      " max_pooling2d_75 (MaxPoolin  (None, 50, 50, 32)       0         \n",
      " g2D)                                                            \n",
      "                                                                 \n",
      " conv2d_88 (Conv2D)          (None, 50, 50, 64)        18496     \n",
      "                                                                 \n",
      " max_pooling2d_76 (MaxPoolin  (None, 25, 25, 64)       0         \n",
      " g2D)                                                            \n",
      "                                                                 \n",
      " flatten_23 (Flatten)        (None, 40000)             0         \n",
      "                                                                 \n",
      " dense_46 (Dense)            (None, 64)                2560064   \n",
      "                                                                 \n",
      " dropout_20 (Dropout)        (None, 64)                0         \n",
      "                                                                 \n",
      " dense_47 (Dense)            (None, 6)                 390       \n",
      "                                                                 \n",
      "=================================================================\n",
      "Total params: 2,584,038\n",
      "Trainable params: 2,584,038\n",
      "Non-trainable params: 0\n",
      "_________________________________________________________________\n"
     ]
    }
   ],
   "source": [
    "model = CNN((200,200,3), 6, 'softmax')"
   ]
  },
  {
   "cell_type": "code",
   "execution_count": 133,
   "metadata": {},
   "outputs": [
    {
     "name": "stdout",
     "output_type": "stream",
     "text": [
      "Epoch 1/25\n",
      "3/3 [==============================] - 3s 529ms/step - loss: 1.3464 - accuracy: 0.5250 - val_loss: 0.4570 - val_accuracy: 0.8500\n",
      "Epoch 2/25\n",
      "3/3 [==============================] - 1s 446ms/step - loss: 0.8460 - accuracy: 0.7000 - val_loss: 0.4597 - val_accuracy: 0.8500\n",
      "Epoch 3/25\n",
      "3/3 [==============================] - 1s 442ms/step - loss: 0.8112 - accuracy: 0.7875 - val_loss: 0.4846 - val_accuracy: 0.8500\n",
      "Epoch 4/25\n",
      "3/3 [==============================] - 1s 429ms/step - loss: 0.5158 - accuracy: 0.8125 - val_loss: 0.4111 - val_accuracy: 0.8500\n",
      "Epoch 5/25\n",
      "3/3 [==============================] - 1s 416ms/step - loss: 0.5072 - accuracy: 0.7875 - val_loss: 0.3989 - val_accuracy: 0.8500\n",
      "Epoch 6/25\n",
      "3/3 [==============================] - 1s 424ms/step - loss: 0.4536 - accuracy: 0.7750 - val_loss: 0.4380 - val_accuracy: 0.8500\n",
      "Epoch 7/25\n",
      "3/3 [==============================] - 1s 435ms/step - loss: 0.5837 - accuracy: 0.7750 - val_loss: 0.4308 - val_accuracy: 0.8500\n",
      "Epoch 8/25\n",
      "3/3 [==============================] - 1s 445ms/step - loss: 0.4965 - accuracy: 0.7625 - val_loss: 0.4957 - val_accuracy: 0.8500\n",
      "Epoch 9/25\n",
      "3/3 [==============================] - 1s 424ms/step - loss: 0.4677 - accuracy: 0.8125 - val_loss: 0.5313 - val_accuracy: 0.8500\n",
      "Epoch 10/25\n",
      "3/3 [==============================] - 1s 476ms/step - loss: 0.4469 - accuracy: 0.8250 - val_loss: 0.5249 - val_accuracy: 0.8500\n",
      "Epoch 11/25\n",
      "3/3 [==============================] - 1s 415ms/step - loss: 0.3892 - accuracy: 0.8500 - val_loss: 0.5345 - val_accuracy: 0.8500\n",
      "Epoch 12/25\n",
      "3/3 [==============================] - 1s 434ms/step - loss: 0.2473 - accuracy: 0.9250 - val_loss: 0.4906 - val_accuracy: 0.8500\n",
      "Epoch 13/25\n",
      "3/3 [==============================] - 1s 405ms/step - loss: 0.1693 - accuracy: 0.9125 - val_loss: 0.4965 - val_accuracy: 0.9000\n",
      "Epoch 14/25\n",
      "3/3 [==============================] - 1s 477ms/step - loss: 0.2665 - accuracy: 0.8875 - val_loss: 0.6732 - val_accuracy: 0.8500\n",
      "Epoch 15/25\n",
      "3/3 [==============================] - 1s 451ms/step - loss: 0.2312 - accuracy: 0.9125 - val_loss: 0.6574 - val_accuracy: 0.9000\n",
      "Epoch 16/25\n",
      "3/3 [==============================] - 1s 471ms/step - loss: 0.1624 - accuracy: 0.9375 - val_loss: 0.6884 - val_accuracy: 0.9000\n",
      "Epoch 17/25\n",
      "3/3 [==============================] - 1s 444ms/step - loss: 0.0950 - accuracy: 0.9875 - val_loss: 0.8904 - val_accuracy: 0.9000\n",
      "Epoch 18/25\n",
      "3/3 [==============================] - 1s 452ms/step - loss: 0.1135 - accuracy: 0.9625 - val_loss: 0.9741 - val_accuracy: 0.9000\n",
      "Epoch 19/25\n",
      "3/3 [==============================] - 1s 427ms/step - loss: 0.0994 - accuracy: 0.9750 - val_loss: 1.1108 - val_accuracy: 0.9000\n",
      "Epoch 20/25\n",
      "3/3 [==============================] - 1s 444ms/step - loss: 0.0269 - accuracy: 1.0000 - val_loss: 1.3592 - val_accuracy: 0.9000\n",
      "Epoch 21/25\n",
      "3/3 [==============================] - 1s 454ms/step - loss: 0.0506 - accuracy: 0.9875 - val_loss: 1.4598 - val_accuracy: 0.9000\n",
      "Epoch 22/25\n",
      "3/3 [==============================] - 1s 461ms/step - loss: 0.0589 - accuracy: 0.9875 - val_loss: 1.4009 - val_accuracy: 0.9000\n",
      "Epoch 23/25\n",
      "3/3 [==============================] - 1s 430ms/step - loss: 0.0442 - accuracy: 0.9875 - val_loss: 1.6052 - val_accuracy: 0.9000\n",
      "Epoch 24/25\n",
      "3/3 [==============================] - 1s 460ms/step - loss: 0.0820 - accuracy: 0.9750 - val_loss: 1.5333 - val_accuracy: 0.9000\n",
      "Epoch 25/25\n",
      "3/3 [==============================] - 1s 449ms/step - loss: 0.0537 - accuracy: 0.9750 - val_loss: 1.7901 - val_accuracy: 0.9000\n"
     ]
    }
   ],
   "source": [
    "model.compile(loss='categorical_crossentropy',\n",
    "            optimizer='adam',\n",
    "            metrics=['accuracy'])\n",
    "\n",
    "history_base_age = model.fit(X_train, y_train,\n",
    "        batch_size=32,\n",
    "        epochs=25,\n",
    "        validation_data=(X_test, y_test),)"
   ]
  },
  {
   "cell_type": "code",
   "execution_count": 134,
   "metadata": {},
   "outputs": [
    {
     "name": "stdout",
     "output_type": "stream",
     "text": [
      "1/1 [==============================] - 0s 227ms/step\n",
      "MCC:  0.5461186812727502\n"
     ]
    },
    {
     "data": {
      "image/png": "[encoded data removed]",
      "text/plain": [
       "<Figure size 432x288 with 2 Axes>"
      ]
     },
     "metadata": {
      "needs_background": "light"
     },
     "output_type": "display_data"
    },
    {
     "name": "stdout",
     "output_type": "stream",
     "text": [
      "              precision    recall  f1-score   support\n",
      "\n",
      "           1       0.89      1.00      0.94        17\n",
      "           5       1.00      0.33      0.50         3\n",
      "\n",
      "    accuracy                           0.90        20\n",
      "   macro avg       0.95      0.67      0.72        20\n",
      "weighted avg       0.91      0.90      0.88        20\n",
      "\n"
     ]
    }
   ],
   "source": [
    "prediction_metrics(model, X_test, y_test, age_classes)"
   ]
  },
  {
   "attachments": {},
   "cell_type": "markdown",
   "metadata": {},
   "source": [
    "# DATA NOT NORM"
   ]
  },
  {
   "cell_type": "code",
   "execution_count": 135,
   "metadata": {},
   "outputs": [],
   "source": [
    "images = []\n",
    "ages = []\n",
    "genders = []\n",
    "counter = 0\n",
    "\n",
    "for file in files:\n",
    "    if counter == 100:\n",
    "        break\n",
    "    \n",
    "    image = cv2.imread(path+file)\n",
    "    image = cv2.cvtColor(image, cv2.COLOR_BGR2RGB)\n",
    "    image = cv2.resize(image, dsize=(200, 200))\n",
    "    image = image.reshape((image.shape[0], image.shape[1], 3)) \n",
    "    #image = image.astype('float32') / 255.0 #normalizing values on each point \n",
    "    #image = image / 255.0\n",
    "\n",
    "    #verificar se imagens todas estao no range 0 a 255 (se sao rgb)\n",
    "\n",
    "    images.append(image)\n",
    "    delimit = file.split('_')\n",
    "    ages.append(int(delimit[0]))\n",
    "    # first number is age (0-116 possible values)\n",
    "    genders.append(int(delimit[1]))\n",
    "    # second number is gender (0 for male, 1 for female)\n",
    "\n",
    "\n",
    "    counter += 1\n",
    "    \n",
    "    X = np.squeeze(images)"
   ]
  },
  {
   "attachments": {},
   "cell_type": "markdown",
   "metadata": {},
   "source": [
    "## HOG"
   ]
  },
  {
   "cell_type": "code",
   "execution_count": 136,
   "metadata": {},
   "outputs": [
    {
     "data": {
      "image/png": "[encoded data removed]",
      "text/plain": [
       "<Figure size 432x288 with 1 Axes>"
      ]
     },
     "metadata": {
      "needs_background": "light"
     },
     "output_type": "display_data"
    }
   ],
   "source": [
    "image_check = images[25]\n",
    "\n",
    "# define HOG parameters\n",
    "orientations = 9\n",
    "pixels_per_cell = (8, 8)\n",
    "cells_per_block = (2, 2)\n",
    "\n",
    "# compute HOG features and visualize them\n",
    "hog_features, hog_image = hog(image_check, orientations=9, pixels_per_cell=(8, 8),\n",
    "                    cells_per_block=(2, 2), transform_sqrt=True, feature_vector=True, visualize=True,channel_axis=2)\n",
    "\n",
    "\n",
    "\n",
    "# rescale image intensity for better visualization\n",
    "#hog_image_rescaled = exposure.rescale_intensity(hog_image, in_range=(0, 10))\n",
    "\n",
    "# display HOG features\n",
    "plt.imshow(hog_image)\n",
    "plt.show()"
   ]
  },
  {
   "cell_type": "code",
   "execution_count": 137,
   "metadata": {},
   "outputs": [],
   "source": [
    "# Extract HOG features from the images\n",
    "hog_features = []\n",
    "for img in images:\n",
    "    #hog_feature = hog(img, orientations=9, pixels_per_cell=(8, 8),\n",
    "    #                cells_per_block=(2, 2), transform_sqrt=True, feature_vector=True, multichannel=True, channel_axis=2)\n",
    "    hog_feature = hog(img, orientations=9, pixels_per_cell=(8, 8),\n",
    "                    cells_per_block=(2, 2), transform_sqrt=True, feature_vector=True, channel_axis=2)\n",
    "    \n",
    "    hog_features.append(hog_feature)\n",
    "hog_features = np.array(hog_features)\n",
    "\n",
    "# Normalize the features to have zero mean and unit variance\n",
    "mean = np.mean(hog_features, axis=0)\n",
    "std = np.std(hog_features, axis=0)\n",
    "hog_features_norm = (hog_features - mean) / std"
   ]
  },
  {
   "attachments": {},
   "cell_type": "markdown",
   "metadata": {},
   "source": [
    "### Gender"
   ]
  },
  {
   "cell_type": "code",
   "execution_count": 138,
   "metadata": {},
   "outputs": [
    {
     "name": "stdout",
     "output_type": "stream",
     "text": [
      "Model: \"sequential_28\"\n",
      "_________________________________________________________________\n",
      " Layer (type)                Output Shape              Param #   \n",
      "=================================================================\n",
      " reshape_15 (Reshape)        (None, 144, 144, 1)       0         \n",
      "                                                                 \n",
      " conv2d_89 (Conv2D)          (None, 144, 144, 16)      160       \n",
      "                                                                 \n",
      " max_pooling2d_77 (MaxPoolin  (None, 72, 72, 16)       0         \n",
      " g2D)                                                            \n",
      "                                                                 \n",
      " conv2d_90 (Conv2D)          (None, 72, 72, 32)        4640      \n",
      "                                                                 \n",
      " max_pooling2d_78 (MaxPoolin  (None, 36, 36, 32)       0         \n",
      " g2D)                                                            \n",
      "                                                                 \n",
      " conv2d_91 (Conv2D)          (None, 36, 36, 64)        18496     \n",
      "                                                                 \n",
      " max_pooling2d_79 (MaxPoolin  (None, 18, 18, 64)       0         \n",
      " g2D)                                                            \n",
      "                                                                 \n",
      " flatten_24 (Flatten)        (None, 20736)             0         \n",
      "                                                                 \n",
      " dense_48 (Dense)            (None, 64)                1327168   \n",
      "                                                                 \n",
      " dropout_21 (Dropout)        (None, 64)                0         \n",
      "                                                                 \n",
      " dense_49 (Dense)            (None, 1)                 65        \n",
      "                                                                 \n",
      "=================================================================\n",
      "Total params: 1,350,529\n",
      "Trainable params: 1,350,529\n",
      "Non-trainable params: 0\n",
      "_________________________________________________________________\n"
     ]
    }
   ],
   "source": [
    "cnn = Sequential()\n",
    "\n",
    "#tratado\n",
    "cnn.add(layers.Reshape((144, 144, 1), input_shape=(20736,)))\n",
    "#cnn.add(layers.Conv2D(16, (3, 3), padding='same', activation='relu', input_shape=X_train[1].shape))\n",
    "\n",
    "\n",
    "cnn.add(layers.Conv2D(16, (3, 3), padding='same', activation='relu'))\n",
    "cnn.add(layers.MaxPooling2D(2,2))\n",
    "\n",
    "cnn.add(layers.Conv2D(32, (3, 3), padding='same', activation='relu'))\n",
    "cnn.add(layers.MaxPooling2D(2,2))\n",
    "\n",
    "cnn.add(layers.Conv2D(64, (3, 3), padding='same', activation='relu'))\n",
    "cnn.add(layers.MaxPooling2D(2,2))\n",
    "\n",
    "cnn.add(Flatten())\n",
    "\n",
    "cnn.add(Dense(64, activation='relu'))\n",
    "\n",
    "cnn.add(layers.Dropout(0.5))\n",
    "\n",
    "#output layer with 2 filters for number of classes the model will choose to do predictions\n",
    "#and since gender is just binary classification sigmoid is appropriate\n",
    "#when doing classification for age (wont be binary classification) then softmax is good choice\n",
    "cnn.add(Dense(1, activation='sigmoid'))\n",
    "\n",
    "cnn.summary()"
   ]
  },
  {
   "cell_type": "code",
   "execution_count": 139,
   "metadata": {},
   "outputs": [],
   "source": [
    "X_train, X_test, y_train, y_test = train_test_split(hog_features_norm, genders, test_size=0.2, random_state=42)"
   ]
  },
  {
   "cell_type": "code",
   "execution_count": 140,
   "metadata": {},
   "outputs": [],
   "source": [
    "X_train = np.asarray(X_train)\n",
    "y_train = np.asarray(y_train)\n",
    "\n",
    "X_test = np.asarray(X_test)\n",
    "y_test = np.asarray(y_test)"
   ]
  },
  {
   "cell_type": "code",
   "execution_count": 141,
   "metadata": {},
   "outputs": [
    {
     "name": "stdout",
     "output_type": "stream",
     "text": [
      "Epoch 1/25\n",
      "3/3 [==============================] - 2s 313ms/step - loss: 1.6419 - accuracy: 0.8375 - val_loss: 1.0455 - val_accuracy: 0.8000\n",
      "Epoch 2/25\n",
      "3/3 [==============================] - 1s 236ms/step - loss: 0.5051 - accuracy: 0.8750 - val_loss: 0.5357 - val_accuracy: 0.8000\n",
      "Epoch 3/25\n",
      "3/3 [==============================] - 1s 248ms/step - loss: 0.4927 - accuracy: 0.8750 - val_loss: 0.5113 - val_accuracy: 0.8000\n",
      "Epoch 4/25\n",
      "3/3 [==============================] - 1s 226ms/step - loss: 0.4263 - accuracy: 0.8750 - val_loss: 0.4907 - val_accuracy: 0.8000\n",
      "Epoch 5/25\n",
      "3/3 [==============================] - 1s 205ms/step - loss: 0.3598 - accuracy: 0.8750 - val_loss: 0.5530 - val_accuracy: 0.8000\n",
      "Epoch 6/25\n",
      "3/3 [==============================] - 1s 198ms/step - loss: 0.3383 - accuracy: 0.8750 - val_loss: 0.4799 - val_accuracy: 0.8000\n",
      "Epoch 7/25\n",
      "3/3 [==============================] - 1s 242ms/step - loss: 0.2945 - accuracy: 0.8875 - val_loss: 0.4248 - val_accuracy: 0.8000\n",
      "Epoch 8/25\n",
      "3/3 [==============================] - 1s 264ms/step - loss: 0.3214 - accuracy: 0.8750 - val_loss: 0.4856 - val_accuracy: 0.8000\n",
      "Epoch 9/25\n",
      "3/3 [==============================] - 1s 225ms/step - loss: 0.2841 - accuracy: 0.8750 - val_loss: 0.3894 - val_accuracy: 0.8000\n",
      "Epoch 10/25\n",
      "3/3 [==============================] - 1s 228ms/step - loss: 0.3281 - accuracy: 0.9125 - val_loss: 0.4018 - val_accuracy: 0.8000\n",
      "Epoch 11/25\n",
      "3/3 [==============================] - 1s 236ms/step - loss: 0.2580 - accuracy: 0.8750 - val_loss: 0.5781 - val_accuracy: 0.8000\n",
      "Epoch 12/25\n",
      "3/3 [==============================] - 1s 224ms/step - loss: 0.2886 - accuracy: 0.8875 - val_loss: 0.3560 - val_accuracy: 0.8000\n",
      "Epoch 13/25\n",
      "3/3 [==============================] - 1s 219ms/step - loss: 0.2043 - accuracy: 0.9125 - val_loss: 0.3980 - val_accuracy: 0.8000\n",
      "Epoch 14/25\n",
      "3/3 [==============================] - 1s 229ms/step - loss: 0.1997 - accuracy: 0.9250 - val_loss: 0.4208 - val_accuracy: 0.8000\n",
      "Epoch 15/25\n",
      "3/3 [==============================] - 1s 237ms/step - loss: 0.1804 - accuracy: 0.9125 - val_loss: 0.3236 - val_accuracy: 0.7500\n",
      "Epoch 16/25\n",
      "3/3 [==============================] - 1s 237ms/step - loss: 0.1816 - accuracy: 0.9250 - val_loss: 0.3276 - val_accuracy: 0.7500\n",
      "Epoch 17/25\n",
      "3/3 [==============================] - 1s 229ms/step - loss: 0.1483 - accuracy: 0.9500 - val_loss: 0.5293 - val_accuracy: 0.8000\n",
      "Epoch 18/25\n",
      "3/3 [==============================] - 1s 235ms/step - loss: 0.1317 - accuracy: 0.9125 - val_loss: 0.3115 - val_accuracy: 0.7500\n",
      "Epoch 19/25\n",
      "3/3 [==============================] - 1s 221ms/step - loss: 0.1384 - accuracy: 0.9500 - val_loss: 0.3155 - val_accuracy: 0.7500\n",
      "Epoch 20/25\n",
      "3/3 [==============================] - 1s 208ms/step - loss: 0.1309 - accuracy: 0.9375 - val_loss: 0.3773 - val_accuracy: 0.8500\n",
      "Epoch 21/25\n",
      "3/3 [==============================] - 1s 229ms/step - loss: 0.1107 - accuracy: 0.9500 - val_loss: 0.3433 - val_accuracy: 0.7500\n",
      "Epoch 22/25\n",
      "3/3 [==============================] - 1s 216ms/step - loss: 0.0958 - accuracy: 0.9625 - val_loss: 0.3173 - val_accuracy: 0.7500\n",
      "Epoch 23/25\n",
      "3/3 [==============================] - 1s 207ms/step - loss: 0.0754 - accuracy: 0.9750 - val_loss: 0.5331 - val_accuracy: 0.8000\n",
      "Epoch 24/25\n",
      "3/3 [==============================] - 1s 207ms/step - loss: 0.0871 - accuracy: 0.9625 - val_loss: 0.3175 - val_accuracy: 0.7500\n",
      "Epoch 25/25\n",
      "3/3 [==============================] - 1s 204ms/step - loss: 0.0616 - accuracy: 0.9875 - val_loss: 0.3172 - val_accuracy: 0.7500\n"
     ]
    }
   ],
   "source": [
    "cnn.compile(optimizer=\"adam\", loss=\"binary_crossentropy\",\n",
    "            metrics=['accuracy'])\n",
    "\n",
    "history_hog_gender = cnn.fit(X_train, y_train,\n",
    "                    epochs=25,\n",
    "                    batch_size=32,\n",
    "                    validation_data=(X_test, y_test))"
   ]
  },
  {
   "cell_type": "code",
   "execution_count": 142,
   "metadata": {},
   "outputs": [
    {
     "name": "stdout",
     "output_type": "stream",
     "text": [
      "1/1 [==============================] - 0s 151ms/step\n",
      "MCC:  0.0\n"
     ]
    },
    {
     "data": {
      "image/png": "[encoded data removed]",
      "text/plain": [
       "<Figure size 432x288 with 2 Axes>"
      ]
     },
     "metadata": {
      "needs_background": "light"
     },
     "output_type": "display_data"
    },
    {
     "name": "stdout",
     "output_type": "stream",
     "text": [
      "              precision    recall  f1-score   support\n",
      "\n",
      "           0       1.00      1.00      1.00        20\n",
      "\n",
      "    accuracy                           1.00        20\n",
      "   macro avg       1.00      1.00      1.00        20\n",
      "weighted avg       1.00      1.00      1.00        20\n",
      "\n"
     ]
    }
   ],
   "source": [
    "prediction_metrics(cnn, X_test, y_test, genders)"
   ]
  },
  {
   "attachments": {},
   "cell_type": "markdown",
   "metadata": {},
   "source": [
    "### Age"
   ]
  },
  {
   "cell_type": "code",
   "execution_count": 143,
   "metadata": {},
   "outputs": [
    {
     "name": "stdout",
     "output_type": "stream",
     "text": [
      "Model: \"sequential_29\"\n",
      "_________________________________________________________________\n",
      " Layer (type)                Output Shape              Param #   \n",
      "=================================================================\n",
      " reshape_16 (Reshape)        (None, 144, 144, 1)       0         \n",
      "                                                                 \n",
      " max_pooling2d_80 (MaxPoolin  (None, 72, 72, 1)        0         \n",
      " g2D)                                                            \n",
      "                                                                 \n",
      " conv2d_92 (Conv2D)          (None, 72, 72, 32)        320       \n",
      "                                                                 \n",
      " max_pooling2d_81 (MaxPoolin  (None, 36, 36, 32)       0         \n",
      " g2D)                                                            \n",
      "                                                                 \n",
      " conv2d_93 (Conv2D)          (None, 36, 36, 64)        18496     \n",
      "                                                                 \n",
      " max_pooling2d_82 (MaxPoolin  (None, 18, 18, 64)       0         \n",
      " g2D)                                                            \n",
      "                                                                 \n",
      " flatten_25 (Flatten)        (None, 20736)             0         \n",
      "                                                                 \n",
      " dense_50 (Dense)            (None, 64)                1327168   \n",
      "                                                                 \n",
      " dropout_22 (Dropout)        (None, 64)                0         \n",
      "                                                                 \n",
      " dense_51 (Dense)            (None, 6)                 390       \n",
      "                                                                 \n",
      "=================================================================\n",
      "Total params: 1,346,374\n",
      "Trainable params: 1,346,374\n",
      "Non-trainable params: 0\n",
      "_________________________________________________________________\n"
     ]
    }
   ],
   "source": [
    "cnn = Sequential()\n",
    "\n",
    "cnn.add(layers.Reshape((144, 144, 1), input_shape=(20736,)))\n",
    "#cnn.add(layers.Conv2D(16, (3, 3), padding='same', activation='relu', input_shape=X_train[1].shape))\n",
    "\n",
    "cnn.add(layers.MaxPooling2D((2, 2)))\n",
    "cnn.add(layers.Conv2D(32, (3, 3), padding='same', activation='relu'))\n",
    "\n",
    "cnn.add(layers.MaxPooling2D(2,2))\n",
    "cnn.add(layers.Conv2D(64, (3, 3), padding='same', activation='relu'))\n",
    "\n",
    "cnn.add(layers.MaxPooling2D(2,2))\n",
    "\n",
    "cnn.add(Flatten())\n",
    "\n",
    "cnn.add(Dense(64, activation='relu'))\n",
    "\n",
    "cnn.add(layers.Dropout(0.2))\n",
    "\n",
    "#output layer with 2 filters for number of classes the model will choose to do predictions\n",
    "#and since gender is just binary classification sigmoid is appropriate\n",
    "#when doing classification for age (wont be binary classification) then softmax is good choice\n",
    "cnn.add(Dense(6, activation='softmax'))\n",
    "\n",
    "cnn.summary()"
   ]
  },
  {
   "cell_type": "code",
   "execution_count": 144,
   "metadata": {},
   "outputs": [],
   "source": [
    "X_train, X_test, y_train, y_test = train_test_split(hog_features_norm, age_categories, test_size = 0.2,shuffle = True)"
   ]
  },
  {
   "cell_type": "code",
   "execution_count": 145,
   "metadata": {},
   "outputs": [],
   "source": [
    "X_train = np.asarray(X_train)\n",
    "y_train = np.asarray(y_train)\n",
    "\n",
    "X_test = np.asarray(X_test)\n",
    "y_test = np.asarray(y_test)"
   ]
  },
  {
   "cell_type": "code",
   "execution_count": 146,
   "metadata": {},
   "outputs": [
    {
     "name": "stdout",
     "output_type": "stream",
     "text": [
      "Epoch 1/25\n",
      "3/3 [==============================] - 2s 221ms/step - loss: 1.4796 - accuracy: 0.5375 - val_loss: 1.7843 - val_accuracy: 0.6500\n",
      "Epoch 2/25\n",
      "3/3 [==============================] - 0s 111ms/step - loss: 1.0493 - accuracy: 0.6500 - val_loss: 0.8270 - val_accuracy: 0.6500\n",
      "Epoch 3/25\n",
      "3/3 [==============================] - 0s 110ms/step - loss: 0.5238 - accuracy: 0.8250 - val_loss: 0.9314 - val_accuracy: 0.6500\n",
      "Epoch 4/25\n",
      "3/3 [==============================] - 0s 112ms/step - loss: 0.4773 - accuracy: 0.8500 - val_loss: 0.7901 - val_accuracy: 0.6500\n",
      "Epoch 5/25\n",
      "3/3 [==============================] - 0s 118ms/step - loss: 0.4213 - accuracy: 0.8500 - val_loss: 1.0467 - val_accuracy: 0.6500\n",
      "Epoch 6/25\n",
      "3/3 [==============================] - 0s 124ms/step - loss: 0.3562 - accuracy: 0.8625 - val_loss: 0.5572 - val_accuracy: 0.6500\n",
      "Epoch 7/25\n",
      "3/3 [==============================] - 0s 122ms/step - loss: 0.3000 - accuracy: 0.9000 - val_loss: 1.0969 - val_accuracy: 0.6500\n",
      "Epoch 8/25\n",
      "3/3 [==============================] - 0s 130ms/step - loss: 0.2945 - accuracy: 0.8500 - val_loss: 0.5562 - val_accuracy: 0.6500\n",
      "Epoch 9/25\n",
      "3/3 [==============================] - 0s 120ms/step - loss: 0.2174 - accuracy: 0.9625 - val_loss: 0.6060 - val_accuracy: 0.6500\n",
      "Epoch 10/25\n",
      "3/3 [==============================] - 0s 116ms/step - loss: 0.1939 - accuracy: 0.9000 - val_loss: 0.8985 - val_accuracy: 0.6500\n",
      "Epoch 11/25\n",
      "3/3 [==============================] - 0s 122ms/step - loss: 0.1227 - accuracy: 0.9500 - val_loss: 0.5800 - val_accuracy: 0.7000\n",
      "Epoch 12/25\n",
      "3/3 [==============================] - 0s 114ms/step - loss: 0.1208 - accuracy: 0.9750 - val_loss: 0.6924 - val_accuracy: 0.6500\n",
      "Epoch 13/25\n",
      "3/3 [==============================] - 0s 115ms/step - loss: 0.0848 - accuracy: 0.9750 - val_loss: 0.7100 - val_accuracy: 0.6500\n",
      "Epoch 14/25\n",
      "3/3 [==============================] - 0s 127ms/step - loss: 0.0766 - accuracy: 0.9875 - val_loss: 0.5891 - val_accuracy: 0.7000\n",
      "Epoch 15/25\n",
      "3/3 [==============================] - 0s 167ms/step - loss: 0.0564 - accuracy: 1.0000 - val_loss: 0.7748 - val_accuracy: 0.7000\n",
      "Epoch 16/25\n",
      "3/3 [==============================] - 0s 131ms/step - loss: 0.0283 - accuracy: 1.0000 - val_loss: 0.8040 - val_accuracy: 0.7000\n",
      "Epoch 17/25\n",
      "3/3 [==============================] - 0s 122ms/step - loss: 0.0254 - accuracy: 1.0000 - val_loss: 0.7077 - val_accuracy: 0.7000\n",
      "Epoch 18/25\n",
      "3/3 [==============================] - 0s 135ms/step - loss: 0.0154 - accuracy: 1.0000 - val_loss: 0.6729 - val_accuracy: 0.7500\n",
      "Epoch 19/25\n",
      "3/3 [==============================] - 0s 121ms/step - loss: 0.0138 - accuracy: 1.0000 - val_loss: 0.6471 - val_accuracy: 0.7000\n",
      "Epoch 20/25\n",
      "3/3 [==============================] - 0s 125ms/step - loss: 0.0173 - accuracy: 1.0000 - val_loss: 0.7675 - val_accuracy: 0.7500\n",
      "Epoch 21/25\n",
      "3/3 [==============================] - 0s 126ms/step - loss: 0.0143 - accuracy: 1.0000 - val_loss: 0.7979 - val_accuracy: 0.7500\n",
      "Epoch 22/25\n",
      "3/3 [==============================] - 0s 119ms/step - loss: 0.0093 - accuracy: 1.0000 - val_loss: 0.8200 - val_accuracy: 0.7500\n",
      "Epoch 23/25\n",
      "3/3 [==============================] - 0s 137ms/step - loss: 0.0045 - accuracy: 1.0000 - val_loss: 0.6892 - val_accuracy: 0.7000\n",
      "Epoch 24/25\n",
      "3/3 [==============================] - 0s 128ms/step - loss: 0.0053 - accuracy: 1.0000 - val_loss: 0.9384 - val_accuracy: 0.7000\n",
      "Epoch 25/25\n",
      "3/3 [==============================] - 0s 113ms/step - loss: 0.0192 - accuracy: 0.9875 - val_loss: 0.7515 - val_accuracy: 0.7000\n"
     ]
    }
   ],
   "source": [
    "cnn.compile(loss='categorical_crossentropy',\n",
    "            optimizer='adam',\n",
    "            metrics=['accuracy'])\n",
    "\n",
    "history_hog_age = cnn.fit(X_train, y_train,\n",
    "        batch_size=32,\n",
    "        epochs=25,\n",
    "        validation_data=(X_test, y_test),)"
   ]
  },
  {
   "cell_type": "code",
   "execution_count": 147,
   "metadata": {},
   "outputs": [
    {
     "name": "stdout",
     "output_type": "stream",
     "text": [
      "1/1 [==============================] - 0s 123ms/step\n",
      "MCC:  0.2788995520575487\n"
     ]
    },
    {
     "data": {
      "image/png": "[encoded data removed]",
      "text/plain": [
       "<Figure size 432x288 with 2 Axes>"
      ]
     },
     "metadata": {
      "needs_background": "light"
     },
     "output_type": "display_data"
    },
    {
     "name": "stdout",
     "output_type": "stream",
     "text": [
      "              precision    recall  f1-score   support\n",
      "\n",
      "           1       0.71      0.92      0.80        13\n",
      "           5       0.67      0.29      0.40         7\n",
      "\n",
      "    accuracy                           0.70        20\n",
      "   macro avg       0.69      0.60      0.60        20\n",
      "weighted avg       0.69      0.70      0.66        20\n",
      "\n"
     ]
    }
   ],
   "source": [
    "prediction_metrics(cnn, X_test, y_test, age_classes)"
   ]
  },
  {
   "attachments": {},
   "cell_type": "markdown",
   "metadata": {},
   "source": [
    "## ORB"
   ]
  },
  {
   "cell_type": "code",
   "execution_count": 148,
   "metadata": {},
   "outputs": [
    {
     "data": {
      "image/png": "[encoded data removed]",
      "text/plain": [
       "<Figure size 432x288 with 1 Axes>"
      ]
     },
     "metadata": {
      "needs_background": "light"
     },
     "output_type": "display_data"
    }
   ],
   "source": [
    "image_check = images[1]\n",
    "\n",
    "orb = cv2.ORB_create()\n",
    "\n",
    "kp = orb.detect(image_check, None)\n",
    "\n",
    "kp, des = orb.compute(image_check, kp)\n",
    "\n",
    "img2 = cv2.drawKeypoints(image_check, kp, None, color=(0,255,0), flags=0)\n",
    "plt.imshow(img2)\n",
    "plt.show()"
   ]
  },
  {
   "cell_type": "code",
   "execution_count": 149,
   "metadata": {},
   "outputs": [],
   "source": [
    "image_check = images[1]\n",
    "\n",
    "orb = cv2.ORB_create()\n",
    "# define minimum and maximum keypoints\n",
    "MIN_KEYPOINTS = 100\n",
    "orb_features = []\n",
    "orb_genders = []\n",
    "orb_ages = []\n",
    "\n",
    "# loop over images and keypoints\n",
    "for i, img in enumerate(images):\n",
    "    keypoints, descriptors = orb.detectAndCompute(img, None)\n",
    "    keypoints, descriptors = orb.compute(image_check, keypoints)\n",
    "    keypoints = list(keypoints)    \n",
    "    # check if number of keypoints is between min and max\n",
    "    if len(keypoints) < MIN_KEYPOINTS:\n",
    "        continue\n",
    "        \n",
    "    # remove extra keypoints randomly\n",
    "    while len(keypoints) > MIN_KEYPOINTS:\n",
    "        idx = random.randint(0, len(keypoints)-1)\n",
    "        keypoints.pop(idx)\n",
    "        descriptors = np.delete(descriptors, idx, axis=0)\n",
    "        \n",
    "    # add descriptors to feature list\n",
    "    orb_features.append(np.ndarray.flatten(descriptors))\n",
    "    orb_genders.append(genders[i])\n",
    "    orb_ages.append(age_categories[i])"
   ]
  },
  {
   "cell_type": "code",
   "execution_count": 150,
   "metadata": {},
   "outputs": [],
   "source": [
    "mean = np.mean(orb_features, axis=0)\n",
    "std = np.std(orb_features, axis=0)\n",
    "orb_features_norm = (orb_features - mean) / std"
   ]
  },
  {
   "attachments": {},
   "cell_type": "markdown",
   "metadata": {},
   "source": [
    "### Gender "
   ]
  },
  {
   "cell_type": "code",
   "execution_count": 151,
   "metadata": {},
   "outputs": [],
   "source": [
    "X_train, X_test, y_train, y_test = train_test_split(orb_features_norm, orb_genders, test_size=0.20, random_state=42)"
   ]
  },
  {
   "cell_type": "code",
   "execution_count": 152,
   "metadata": {},
   "outputs": [],
   "source": [
    "X_train = np.asarray(X_train)\n",
    "y_train = np.asarray(y_train)\n",
    "\n",
    "X_test = np.asarray(X_test)\n",
    "y_test = np.asarray(y_test)"
   ]
  },
  {
   "cell_type": "code",
   "execution_count": 153,
   "metadata": {},
   "outputs": [
    {
     "name": "stdout",
     "output_type": "stream",
     "text": [
      "Model: \"sequential_30\"\n",
      "_________________________________________________________________\n",
      " Layer (type)                Output Shape              Param #   \n",
      "=================================================================\n",
      " reshape_17 (Reshape)        (None, 50, 64, 1)         0         \n",
      "                                                                 \n",
      " conv2d_94 (Conv2D)          (None, 50, 64, 16)        160       \n",
      "                                                                 \n",
      " max_pooling2d_83 (MaxPoolin  (None, 25, 32, 16)       0         \n",
      " g2D)                                                            \n",
      "                                                                 \n",
      " conv2d_95 (Conv2D)          (None, 25, 32, 32)        4640      \n",
      "                                                                 \n",
      " max_pooling2d_84 (MaxPoolin  (None, 12, 16, 32)       0         \n",
      " g2D)                                                            \n",
      "                                                                 \n",
      " conv2d_96 (Conv2D)          (None, 12, 16, 64)        18496     \n",
      "                                                                 \n",
      " max_pooling2d_85 (MaxPoolin  (None, 6, 8, 64)         0         \n",
      " g2D)                                                            \n",
      "                                                                 \n",
      " flatten_26 (Flatten)        (None, 3072)              0         \n",
      "                                                                 \n",
      " dense_52 (Dense)            (None, 64)                196672    \n",
      "                                                                 \n",
      " dropout_23 (Dropout)        (None, 64)                0         \n",
      "                                                                 \n",
      " dense_53 (Dense)            (None, 1)                 65        \n",
      "                                                                 \n",
      "=================================================================\n",
      "Total params: 220,033\n",
      "Trainable params: 220,033\n",
      "Non-trainable params: 0\n",
      "_________________________________________________________________\n"
     ]
    }
   ],
   "source": [
    "cnn = Sequential()\n",
    "\n",
    "# Input shape is (3200,)\n",
    "cnn.add(layers.Reshape((50, 64, 1), input_shape=X_train[0].shape))\n",
    "\n",
    "cnn.add(layers.Conv2D(16, (3, 3), padding='same', activation='relu'))\n",
    "cnn.add(layers.MaxPooling2D((2, 2)))\n",
    "\n",
    "cnn.add(layers.Conv2D(32, (3, 3), padding='same', activation='relu'))\n",
    "cnn.add(layers.MaxPooling2D((2, 2)))\n",
    "\n",
    "cnn.add(layers.Conv2D(64, (3, 3), padding='same', activation='relu'))\n",
    "cnn.add(layers.MaxPooling2D((2, 2)))\n",
    "\n",
    "cnn.add(Flatten())\n",
    "cnn.add(layers.Dense(64, activation='relu'))\n",
    "\n",
    "cnn.add(layers.Dropout(0.5))\n",
    "\n",
    "cnn.add(layers.Dense(1, activation='sigmoid'))\n",
    "\n",
    "cnn.summary()"
   ]
  },
  {
   "cell_type": "code",
   "execution_count": 154,
   "metadata": {},
   "outputs": [
    {
     "name": "stdout",
     "output_type": "stream",
     "text": [
      "Epoch 1/2\n",
      "2/2 [==============================] - 2s 325ms/step - loss: 0.5409 - accuracy: 0.7188 - val_loss: 0.4245 - val_accuracy: 0.8750\n",
      "Epoch 2/2\n",
      "2/2 [==============================] - 0s 90ms/step - loss: 0.4146 - accuracy: 0.8750 - val_loss: 0.3989 - val_accuracy: 0.8750\n"
     ]
    }
   ],
   "source": [
    "cnn.compile(optimizer=\"adam\", loss=\"binary_crossentropy\",\n",
    "            metrics=['accuracy'])\n",
    "\n",
    "history_orb_gender = cnn.fit(X_train, y_train,\n",
    "                        epochs=2,\n",
    "                        batch_size=32,\n",
    "                        validation_data=(X_test, y_test))"
   ]
  },
  {
   "cell_type": "code",
   "execution_count": 155,
   "metadata": {},
   "outputs": [
    {
     "name": "stdout",
     "output_type": "stream",
     "text": [
      "1/1 [==============================] - 0s 122ms/step\n",
      "MCC:  0.0\n"
     ]
    },
    {
     "data": {
      "image/png": "[encoded data removed]",
      "text/plain": [
       "<Figure size 432x288 with 2 Axes>"
      ]
     },
     "metadata": {
      "needs_background": "light"
     },
     "output_type": "display_data"
    },
    {
     "name": "stdout",
     "output_type": "stream",
     "text": [
      "              precision    recall  f1-score   support\n",
      "\n",
      "           0       1.00      1.00      1.00        16\n",
      "\n",
      "    accuracy                           1.00        16\n",
      "   macro avg       1.00      1.00      1.00        16\n",
      "weighted avg       1.00      1.00      1.00        16\n",
      "\n"
     ]
    }
   ],
   "source": [
    "prediction_metrics(cnn, X_test, y_test, orb_genders)"
   ]
  },
  {
   "attachments": {},
   "cell_type": "markdown",
   "metadata": {},
   "source": [
    "### Age"
   ]
  },
  {
   "cell_type": "code",
   "execution_count": 156,
   "metadata": {},
   "outputs": [],
   "source": [
    "X_train, X_test, y_train, y_test = train_test_split(orb_features_norm, orb_ages, test_size=0.20, random_state=42)"
   ]
  },
  {
   "cell_type": "code",
   "execution_count": 157,
   "metadata": {},
   "outputs": [],
   "source": [
    "X_train = np.asarray(X_train)\n",
    "y_train = np.asarray(y_train)\n",
    "\n",
    "X_test = np.asarray(X_test)\n",
    "y_test = np.asarray(y_test)"
   ]
  },
  {
   "cell_type": "code",
   "execution_count": 158,
   "metadata": {},
   "outputs": [],
   "source": [
    "cnn = Sequential()\n",
    "\n",
    "# Input shape is (3200,)\n",
    "cnn.add(layers.Reshape((50, 64, 1), input_shape=X_train[0].shape))\n",
    "\n",
    "\n",
    "cnn.add(layers.Conv2D(16, (3, 3), padding='same', activation='relu'))\n",
    "cnn.add(layers.MaxPooling2D((2, 2)))\n",
    "\n",
    "cnn.add(layers.Conv2D(32, (3, 3), padding='same', activation='relu'))\n",
    "cnn.add(layers.MaxPooling2D((2, 2)))\n",
    "\n",
    "cnn.add(layers.Conv2D(64, (3, 3), padding='same', activation='relu'))\n",
    "cnn.add(layers.MaxPooling2D((2, 2)))\n",
    "\n",
    "cnn.add(Flatten())\n",
    "\n",
    "cnn.add(layers.Dense(64, activation='relu'))\n",
    "\n",
    "cnn.add(layers.Dropout(0.5))\n",
    "\n",
    "cnn.add(layers.Dense(6, activation='softmax'))\n",
    "\n",
    "#cnn.summary()"
   ]
  },
  {
   "cell_type": "code",
   "execution_count": 159,
   "metadata": {},
   "outputs": [
    {
     "name": "stdout",
     "output_type": "stream",
     "text": [
      "Epoch 1/2\n",
      "2/2 [==============================] - 2s 288ms/step - loss: 0.6186 - accuracy: 0.4844 - val_loss: 0.3959 - val_accuracy: 0.7500\n",
      "Epoch 2/2\n",
      "2/2 [==============================] - 0s 96ms/step - loss: 0.4211 - accuracy: 0.7656 - val_loss: 0.3062 - val_accuracy: 0.7500\n"
     ]
    }
   ],
   "source": [
    "cnn.compile(optimizer=\"adam\", loss=\"binary_crossentropy\",\n",
    "            metrics=['accuracy'])\n",
    "\n",
    "history_orb_gender = cnn.fit(X_train, y_train,\n",
    "                        epochs=2,\n",
    "                        batch_size=32,\n",
    "                        validation_data=(X_test, y_test))"
   ]
  },
  {
   "cell_type": "code",
   "execution_count": 160,
   "metadata": {},
   "outputs": [
    {
     "name": "stdout",
     "output_type": "stream",
     "text": [
      "1/1 [==============================] - 0s 110ms/step\n",
      "MCC:  0.0\n"
     ]
    },
    {
     "data": {
      "image/png": "[encoded data removed]",
      "text/plain": [
       "<Figure size 432x288 with 2 Axes>"
      ]
     },
     "metadata": {
      "needs_background": "light"
     },
     "output_type": "display_data"
    },
    {
     "name": "stdout",
     "output_type": "stream",
     "text": [
      "              precision    recall  f1-score   support\n",
      "\n",
      "           1       0.75      1.00      0.86        12\n",
      "           5       0.00      0.00      0.00         4\n",
      "\n",
      "    accuracy                           0.75        16\n",
      "   macro avg       0.38      0.50      0.43        16\n",
      "weighted avg       0.56      0.75      0.64        16\n",
      "\n"
     ]
    },
    {
     "name": "stderr",
     "output_type": "stream",
     "text": [
      "c:\\Users\\afbso\\anaconda3\\lib\\site-packages\\sklearn\\metrics\\_classification.py:1318: UndefinedMetricWarning: Precision and F-score are ill-defined and being set to 0.0 in labels with no predicted samples. Use `zero_division` parameter to control this behavior.\n",
      "  _warn_prf(average, modifier, msg_start, len(result))\n",
      "c:\\Users\\afbso\\anaconda3\\lib\\site-packages\\sklearn\\metrics\\_classification.py:1318: UndefinedMetricWarning: Precision and F-score are ill-defined and being set to 0.0 in labels with no predicted samples. Use `zero_division` parameter to control this behavior.\n",
      "  _warn_prf(average, modifier, msg_start, len(result))\n",
      "c:\\Users\\afbso\\anaconda3\\lib\\site-packages\\sklearn\\metrics\\_classification.py:1318: UndefinedMetricWarning: Precision and F-score are ill-defined and being set to 0.0 in labels with no predicted samples. Use `zero_division` parameter to control this behavior.\n",
      "  _warn_prf(average, modifier, msg_start, len(result))\n"
     ]
    }
   ],
   "source": [
    "prediction_metrics(cnn, X_test, y_test, age_classes)"
   ]
  },
  {
   "attachments": {},
   "cell_type": "markdown",
   "metadata": {},
   "source": [
    "# DATA NORM"
   ]
  },
  {
   "cell_type": "code",
   "execution_count": 161,
   "metadata": {},
   "outputs": [],
   "source": [
    "images = []\n",
    "ages = []\n",
    "genders = []\n",
    "counter = 0\n",
    "\n",
    "for file in files:\n",
    "    if counter == 100:\n",
    "        break\n",
    "    \n",
    "    image = cv2.imread(path+file)\n",
    "    image = cv2.cvtColor(image, cv2.COLOR_BGR2RGB)\n",
    "    image = cv2.resize(image, dsize=(200, 200))\n",
    "    image = image.reshape((image.shape[0], image.shape[1], 3)) \n",
    "    #image = image.astype('float32') / 255.0 #normalizing values on each point \n",
    "    image = image / 255.0\n",
    "\n",
    "    #verificar se imagens todas estao no range 0 a 255 (se sao rgb)\n",
    "\n",
    "    images.append(image)\n",
    "    delimit = file.split('_')\n",
    "    ages.append(int(delimit[0]))\n",
    "    # first number is age (0-116 possible values)\n",
    "    genders.append(int(delimit[1]))\n",
    "    # second number is gender (0 for male, 1 for female)\n",
    "\n",
    "\n",
    "    counter += 1"
   ]
  },
  {
   "attachments": {},
   "cell_type": "markdown",
   "metadata": {},
   "source": [
    "## VGG 16"
   ]
  },
  {
   "cell_type": "code",
   "execution_count": 162,
   "metadata": {},
   "outputs": [
    {
     "name": "stdout",
     "output_type": "stream",
     "text": [
      "Model: \"vgg16\"\n",
      "_________________________________________________________________\n",
      " Layer (type)                Output Shape              Param #   \n",
      "=================================================================\n",
      " input_7 (InputLayer)        [(None, 200, 200, 3)]     0         \n",
      "                                                                 \n",
      " block1_conv1 (Conv2D)       (None, 200, 200, 64)      1792      \n",
      "                                                                 \n",
      " block1_conv2 (Conv2D)       (None, 200, 200, 64)      36928     \n",
      "                                                                 \n",
      " block1_pool (MaxPooling2D)  (None, 100, 100, 64)      0         \n",
      "                                                                 \n",
      " block2_conv1 (Conv2D)       (None, 100, 100, 128)     73856     \n",
      "                                                                 \n",
      " block2_conv2 (Conv2D)       (None, 100, 100, 128)     147584    \n",
      "                                                                 \n",
      " block2_pool (MaxPooling2D)  (None, 50, 50, 128)       0         \n",
      "                                                                 \n",
      " block3_conv1 (Conv2D)       (None, 50, 50, 256)       295168    \n",
      "                                                                 \n",
      " block3_conv2 (Conv2D)       (None, 50, 50, 256)       590080    \n",
      "                                                                 \n",
      " block3_conv3 (Conv2D)       (None, 50, 50, 256)       590080    \n",
      "                                                                 \n",
      " block3_pool (MaxPooling2D)  (None, 25, 25, 256)       0         \n",
      "                                                                 \n",
      " block4_conv1 (Conv2D)       (None, 25, 25, 512)       1180160   \n",
      "                                                                 \n",
      " block4_conv2 (Conv2D)       (None, 25, 25, 512)       2359808   \n",
      "                                                                 \n",
      " block4_conv3 (Conv2D)       (None, 25, 25, 512)       2359808   \n",
      "                                                                 \n",
      " block4_pool (MaxPooling2D)  (None, 12, 12, 512)       0         \n",
      "                                                                 \n",
      " block5_conv1 (Conv2D)       (None, 12, 12, 512)       2359808   \n",
      "                                                                 \n",
      " block5_conv2 (Conv2D)       (None, 12, 12, 512)       2359808   \n",
      "                                                                 \n",
      " block5_conv3 (Conv2D)       (None, 12, 12, 512)       2359808   \n",
      "                                                                 \n",
      " block5_pool (MaxPooling2D)  (None, 6, 6, 512)         0         \n",
      "                                                                 \n",
      "=================================================================\n",
      "Total params: 14,714,688\n",
      "Trainable params: 0\n",
      "Non-trainable params: 14,714,688\n",
      "_________________________________________________________________\n"
     ]
    }
   ],
   "source": [
    "VGG_model = VGG16(weights='imagenet', include_top=False, input_shape=(200, 200, 3))\n",
    "\n",
    "for layer in VGG_model.layers:\n",
    "\tlayer.trainable = False\n",
    "\t\n",
    "VGG_model.summary()"
   ]
  },
  {
   "cell_type": "code",
   "execution_count": 163,
   "metadata": {},
   "outputs": [
    {
     "name": "stdout",
     "output_type": "stream",
     "text": [
      "4/4 [==============================] - 13s 3s/step\n"
     ]
    }
   ],
   "source": [
    "X = np.stack(images)\n",
    "X = VGG_model.predict(X)"
   ]
  },
  {
   "attachments": {},
   "cell_type": "markdown",
   "metadata": {},
   "source": [
    "### Gender"
   ]
  },
  {
   "cell_type": "code",
   "execution_count": 164,
   "metadata": {},
   "outputs": [],
   "source": [
    "X_train, X_test, y_train, y_test = train_test_split(X, genders, test_size=0.2, random_state=42)"
   ]
  },
  {
   "cell_type": "code",
   "execution_count": 165,
   "metadata": {},
   "outputs": [],
   "source": [
    "X_train = np.asarray(X_train)\n",
    "y_train = np.asarray(y_train)\n",
    "\n",
    "X_test = np.asarray(X_test)\n",
    "y_test = np.asarray(y_test)"
   ]
  },
  {
   "cell_type": "code",
   "execution_count": 166,
   "metadata": {},
   "outputs": [
    {
     "name": "stdout",
     "output_type": "stream",
     "text": [
      "Model: \"sequential_32\"\n",
      "_________________________________________________________________\n",
      " Layer (type)                Output Shape              Param #   \n",
      "=================================================================\n",
      " conv2d_100 (Conv2D)         (None, 6, 6, 16)          73744     \n",
      "                                                                 \n",
      " max_pooling2d_89 (MaxPoolin  (None, 3, 3, 16)         0         \n",
      " g2D)                                                            \n",
      "                                                                 \n",
      " conv2d_101 (Conv2D)         (None, 3, 3, 32)          4640      \n",
      "                                                                 \n",
      " max_pooling2d_90 (MaxPoolin  (None, 1, 1, 32)         0         \n",
      " g2D)                                                            \n",
      "                                                                 \n",
      " conv2d_102 (Conv2D)         (None, 1, 1, 64)          18496     \n",
      "                                                                 \n",
      " flatten_28 (Flatten)        (None, 64)                0         \n",
      "                                                                 \n",
      " dense_56 (Dense)            (None, 64)                4160      \n",
      "                                                                 \n",
      " dropout_25 (Dropout)        (None, 64)                0         \n",
      "                                                                 \n",
      " dense_57 (Dense)            (None, 1)                 65        \n",
      "                                                                 \n",
      "=================================================================\n",
      "Total params: 101,105\n",
      "Trainable params: 101,105\n",
      "Non-trainable params: 0\n",
      "_________________________________________________________________\n"
     ]
    }
   ],
   "source": [
    "    model = tf.keras.Sequential()\n",
    "\n",
    "    # Must define the input shape in the first layer of the neural network\n",
    "    \n",
    "    model.add(tf.keras.layers.Conv2D(filters=16, kernel_size=3, padding='same', activation='relu', input_shape = (6, 6, 512))) \n",
    "    model.add(tf.keras.layers.MaxPooling2D(pool_size=2))\n",
    "    \n",
    "\n",
    "\n",
    "    model.add(tf.keras.layers.Conv2D(filters=32, kernel_size=3, padding='same', activation='relu'))\n",
    "    model.add(tf.keras.layers.MaxPooling2D(pool_size=2))\n",
    "    \n",
    "    \n",
    "    model.add(tf.keras.layers.Conv2D(filters=64, kernel_size=3, padding='same', activation='relu'))\n",
    "\n",
    "    \n",
    "    model.add(tf.keras.layers.Flatten())\n",
    "    \n",
    "    model.add(tf.keras.layers.Dense(64, activation='relu'))\n",
    "    \n",
    "    model.add(tf.keras.layers.Dropout(0.5))\n",
    "    \n",
    "    model.add(tf.keras.layers.Dense(1, activation='sigmoid'))\n",
    "    \n",
    "    model.summary()"
   ]
  },
  {
   "cell_type": "code",
   "execution_count": 167,
   "metadata": {},
   "outputs": [
    {
     "name": "stdout",
     "output_type": "stream",
     "text": [
      "Epoch 1/3\n",
      "3/3 [==============================] - 2s 140ms/step - loss: 0.6140 - accuracy: 0.8625 - val_loss: 0.4932 - val_accuracy: 0.8000\n",
      "Epoch 2/3\n",
      "3/3 [==============================] - 0s 40ms/step - loss: 0.3651 - accuracy: 0.8625 - val_loss: 0.5902 - val_accuracy: 0.8000\n",
      "Epoch 3/3\n",
      "3/3 [==============================] - 0s 36ms/step - loss: 0.4620 - accuracy: 0.8750 - val_loss: 0.6698 - val_accuracy: 0.8000\n"
     ]
    }
   ],
   "source": [
    "#for age use categorical_crossentropy instead\n",
    "model.compile(optimizer=\"adam\", loss=\"binary_crossentropy\", metrics=['accuracy'])\n",
    "\n",
    "history_VGG16_gender = model.fit(X_train, y_train,\n",
    "                    epochs=3,\n",
    "                    batch_size=32,\n",
    "                    validation_data=(X_test, y_test))"
   ]
  },
  {
   "cell_type": "code",
   "execution_count": 168,
   "metadata": {},
   "outputs": [
    {
     "name": "stdout",
     "output_type": "stream",
     "text": [
      "1/1 [==============================] - 0s 110ms/step\n",
      "MCC:  0.0\n"
     ]
    },
    {
     "data": {
      "image/png": "[encoded data removed]",
      "text/plain": [
       "<Figure size 432x288 with 2 Axes>"
      ]
     },
     "metadata": {
      "needs_background": "light"
     },
     "output_type": "display_data"
    },
    {
     "name": "stdout",
     "output_type": "stream",
     "text": [
      "              precision    recall  f1-score   support\n",
      "\n",
      "           0       1.00      1.00      1.00        20\n",
      "\n",
      "    accuracy                           1.00        20\n",
      "   macro avg       1.00      1.00      1.00        20\n",
      "weighted avg       1.00      1.00      1.00        20\n",
      "\n"
     ]
    }
   ],
   "source": [
    "prediction_metrics(model, X_test, y_test, genders)"
   ]
  },
  {
   "attachments": {},
   "cell_type": "markdown",
   "metadata": {},
   "source": [
    "### Age"
   ]
  },
  {
   "cell_type": "code",
   "execution_count": 169,
   "metadata": {},
   "outputs": [],
   "source": [
    "X_train, X_test, y_train, y_test = train_test_split(X, age_categories, test_size=0.2, random_state=42)"
   ]
  },
  {
   "cell_type": "code",
   "execution_count": 170,
   "metadata": {},
   "outputs": [
    {
     "name": "stdout",
     "output_type": "stream",
     "text": [
      "Model: \"sequential_33\"\n",
      "_________________________________________________________________\n",
      " Layer (type)                Output Shape              Param #   \n",
      "=================================================================\n",
      " conv2d_103 (Conv2D)         (None, 6, 6, 16)          73744     \n",
      "                                                                 \n",
      " max_pooling2d_91 (MaxPoolin  (None, 3, 3, 16)         0         \n",
      " g2D)                                                            \n",
      "                                                                 \n",
      " conv2d_104 (Conv2D)         (None, 3, 3, 32)          4640      \n",
      "                                                                 \n",
      " max_pooling2d_92 (MaxPoolin  (None, 1, 1, 32)         0         \n",
      " g2D)                                                            \n",
      "                                                                 \n",
      " conv2d_105 (Conv2D)         (None, 1, 1, 64)          18496     \n",
      "                                                                 \n",
      " flatten_29 (Flatten)        (None, 64)                0         \n",
      "                                                                 \n",
      " dense_58 (Dense)            (None, 64)                4160      \n",
      "                                                                 \n",
      " dropout_26 (Dropout)        (None, 64)                0         \n",
      "                                                                 \n",
      " dense_59 (Dense)            (None, 6)                 390       \n",
      "                                                                 \n",
      "=================================================================\n",
      "Total params: 101,430\n",
      "Trainable params: 101,430\n",
      "Non-trainable params: 0\n",
      "_________________________________________________________________\n"
     ]
    }
   ],
   "source": [
    "    model = tf.keras.Sequential()\n",
    "\n",
    "    # Must define the input shape in the first layer of the neural network\n",
    "    \n",
    "    model.add(tf.keras.layers.Conv2D(filters=16, kernel_size=3, padding='same', activation='relu', input_shape = (6, 6, 512))) \n",
    "    model.add(tf.keras.layers.MaxPooling2D(pool_size=2))\n",
    "    \n",
    "\n",
    "\n",
    "    model.add(tf.keras.layers.Conv2D(filters=32, kernel_size=3, padding='same', activation='relu'))\n",
    "    model.add(tf.keras.layers.MaxPooling2D(pool_size=2))\n",
    "    \n",
    "    \n",
    "    model.add(tf.keras.layers.Conv2D(filters=64, kernel_size=3, padding='same', activation='relu'))\n",
    "\n",
    "    \n",
    "    model.add(tf.keras.layers.Flatten())\n",
    "    \n",
    "    model.add(tf.keras.layers.Dense(64, activation='relu'))\n",
    "    \n",
    "    model.add(tf.keras.layers.Dropout(0.5))\n",
    "    \n",
    "    model.add(tf.keras.layers.Dense(6, activation='softmax'))\n",
    "    \n",
    "    model.summary()"
   ]
  },
  {
   "cell_type": "code",
   "execution_count": 171,
   "metadata": {},
   "outputs": [
    {
     "name": "stdout",
     "output_type": "stream",
     "text": [
      "Epoch 1/2\n",
      "3/3 [==============================] - 2s 148ms/step - loss: 1.6392 - accuracy: 0.2875 - val_loss: 1.3510 - val_accuracy: 0.7500\n",
      "Epoch 2/2\n",
      "3/3 [==============================] - 0s 36ms/step - loss: 1.1952 - accuracy: 0.6250 - val_loss: 1.0857 - val_accuracy: 0.7500\n"
     ]
    }
   ],
   "source": [
    "model.compile(loss='categorical_crossentropy',\n",
    "            optimizer='adam',\n",
    "            metrics=['accuracy'])\n",
    "\n",
    "history_VGG16_age = model.fit(X_train, y_train,\n",
    "        batch_size=32,\n",
    "        epochs=2,\n",
    "        validation_data=(X_test, y_test),)"
   ]
  },
  {
   "cell_type": "code",
   "execution_count": 172,
   "metadata": {},
   "outputs": [
    {
     "name": "stdout",
     "output_type": "stream",
     "text": [
      "1/1 [==============================] - 0s 106ms/step\n",
      "MCC:  0.0\n"
     ]
    },
    {
     "data": {
      "image/png": "[encoded data removed]",
      "text/plain": [
       "<Figure size 432x288 with 2 Axes>"
      ]
     },
     "metadata": {
      "needs_background": "light"
     },
     "output_type": "display_data"
    },
    {
     "name": "stdout",
     "output_type": "stream",
     "text": [
      "              precision    recall  f1-score   support\n",
      "\n",
      "           1       0.75      1.00      0.86        15\n",
      "           5       0.00      0.00      0.00         5\n",
      "\n",
      "    accuracy                           0.75        20\n",
      "   macro avg       0.38      0.50      0.43        20\n",
      "weighted avg       0.56      0.75      0.64        20\n",
      "\n"
     ]
    },
    {
     "name": "stderr",
     "output_type": "stream",
     "text": [
      "c:\\Users\\afbso\\anaconda3\\lib\\site-packages\\sklearn\\metrics\\_classification.py:1318: UndefinedMetricWarning: Precision and F-score are ill-defined and being set to 0.0 in labels with no predicted samples. Use `zero_division` parameter to control this behavior.\n",
      "  _warn_prf(average, modifier, msg_start, len(result))\n",
      "c:\\Users\\afbso\\anaconda3\\lib\\site-packages\\sklearn\\metrics\\_classification.py:1318: UndefinedMetricWarning: Precision and F-score are ill-defined and being set to 0.0 in labels with no predicted samples. Use `zero_division` parameter to control this behavior.\n",
      "  _warn_prf(average, modifier, msg_start, len(result))\n",
      "c:\\Users\\afbso\\anaconda3\\lib\\site-packages\\sklearn\\metrics\\_classification.py:1318: UndefinedMetricWarning: Precision and F-score are ill-defined and being set to 0.0 in labels with no predicted samples. Use `zero_division` parameter to control this behavior.\n",
      "  _warn_prf(average, modifier, msg_start, len(result))\n"
     ]
    }
   ],
   "source": [
    "prediction_metrics(model, X_test, y_train, age_classes)"
   ]
  },
  {
   "attachments": {},
   "cell_type": "markdown",
   "metadata": {},
   "source": [
    "## Autoencoder"
   ]
  },
  {
   "attachments": {},
   "cell_type": "markdown",
   "metadata": {},
   "source": [
    "### Gender"
   ]
  },
  {
   "cell_type": "code",
   "execution_count": 173,
   "metadata": {},
   "outputs": [],
   "source": [
    "X_train, X_test, y_train, y_test = train_test_split(images, genders, test_size=0.2, random_state=42)\n",
    "\n",
    "X_train = np.array(X_train)\n",
    "X_train = np.reshape(X_train, (X_train.shape[0], X_train.shape[1], X_train.shape[2], 3))\n",
    "\n",
    "X_test = np.array(X_test)\n",
    "X_test = np.reshape(X_test, (X_test.shape[0], X_test.shape[1], X_test.shape[2], 3))"
   ]
  },
  {
   "cell_type": "code",
   "execution_count": 174,
   "metadata": {},
   "outputs": [
    {
     "name": "stdout",
     "output_type": "stream",
     "text": [
      "Model: \"model_7\"\n",
      "_________________________________________________________________\n",
      " Layer (type)                Output Shape              Param #   \n",
      "=================================================================\n",
      " input_8 (InputLayer)        [(None, 200, 200, 3)]     0         \n",
      "                                                                 \n",
      " conv2d_106 (Conv2D)         (None, 100, 100, 64)      1792      \n",
      "                                                                 \n",
      " conv2d_107 (Conv2D)         (None, 50, 50, 32)        18464     \n",
      "                                                                 \n",
      " conv2d_108 (Conv2D)         (None, 25, 25, 16)        4624      \n",
      "                                                                 \n",
      " flatten_30 (Flatten)        (None, 10000)             0         \n",
      "                                                                 \n",
      " dense_60 (Dense)            (None, 2000)              20002000  \n",
      "                                                                 \n",
      " dense_61 (Dense)            (None, 10000)             20010000  \n",
      "                                                                 \n",
      " reshape_19 (Reshape)        (None, 25, 25, 16)        0         \n",
      "                                                                 \n",
      " conv2d_transpose_15 (Conv2D  (None, 50, 50, 32)       4640      \n",
      " Transpose)                                                      \n",
      "                                                                 \n",
      " conv2d_transpose_16 (Conv2D  (None, 100, 100, 64)     18496     \n",
      " Transpose)                                                      \n",
      "                                                                 \n",
      " conv2d_transpose_17 (Conv2D  (None, 200, 200, 3)      1731      \n",
      " Transpose)                                                      \n",
      "                                                                 \n",
      "=================================================================\n",
      "Total params: 40,061,747\n",
      "Trainable params: 40,061,747\n",
      "Non-trainable params: 0\n",
      "_________________________________________________________________\n"
     ]
    }
   ],
   "source": [
    "# binary cross entropy is good for imagprint(\"Autoencoder Started\")\n",
    "#### AUtoencoder\n",
    "input = layers.Input(shape=(200, 200, 3))\n",
    "\n",
    "#valor alto apanha artefactos, e valor baixo nao captura bem as features da imagem\n",
    "latent_dim = 2000\n",
    "\n",
    "## Classe \n",
    "\n",
    "# Encoder\n",
    "\n",
    "#didnt increase filter count in encoder and decrease equally in decoder because\n",
    "#it can lead to overfitting\n",
    "\n",
    "x = layers.Conv2D(64, (3,3), activation='relu', padding='same', strides = 2)(input)\n",
    "#x = layers.MaxPooling2D((2,2), padding='same')(x)#dividir imagem por factor de 2\n",
    "x = layers.Conv2D(32, (3,3), activation='relu', padding='same', strides = 2)(x)#reduziu se nr de filtros para 32 porque foi decidido factor de 32 filtros\n",
    "#x = layers.MaxPooling2D((2,2), padding='same')(x)\n",
    "x = layers.Conv2D(16, (3,3), activation='relu', padding='same', strides = 2)(x)\n",
    "#x = layers.MaxPooling2D((2,2), padding='same')(x)#25*25*16=10000\n",
    "x = layers.Flatten()(x)\n",
    "enc = layers.Dense(latent_dim, activation='relu')(x)\n",
    "\n",
    "# Decoder\n",
    "\n",
    "#having conv2D here helps to avoid checkerboard artifacts\n",
    "#which are alternating points of colors (like checkerboard)\n",
    "#that are consequence of deconvolutioning an image and cause \n",
    "#loss of quality in final reconstruction\n",
    "#x = layers.Conv2D(16, (3,3), activation='relu', padding='same')(x)\n",
    "\n",
    "#equivalente a fazer dense layer no fim do encoder e no inicio do decoder\n",
    "#fazer a layer dense fica um vector\n",
    "#fazer reshape depois do 2 dense para voltar a ter imagem do vetor criado\n",
    "\n",
    "x = layers.Dense(25*25*16, activation='relu')(enc)\n",
    "x = layers.Reshape((25,25,16))(x)\n",
    "#x = layers.UpSampling2D((2,2))(x)\n",
    "x = layers.Conv2DTranspose(32, (3, 3), activation=\"relu\", padding=\"same\", strides = 2)(x)\n",
    "#x = layers.UpSampling2D((2,2))(x)\n",
    "x = layers.Conv2DTranspose(64, (3,3), activation='relu', padding='same', strides = 2)(x)\n",
    "#x = layers.UpSampling2D((2,2))(x)\n",
    "output = layers.Conv2DTranspose(3, (3,3), activation='sigmoid', padding='same', strides = 2)(x)\n",
    "\n",
    "#maybe use strides in the layers too\n",
    "#example:\n",
    "#x = layers.Conv2D(16, (3,3), activation='relu', padding='same', strides = 2)(x)\n",
    "\n",
    "# Autoencoder\n",
    "autoencoder = Model(input, output)\n",
    "\n",
    "# binary cross entropy is good for image feature extraction especially when images are normalized\n",
    "autoencoder.compile(optimizer=\"adam\", loss=\"binary_crossentropy\",\n",
    "            metrics=['accuracy'])\n",
    "\n",
    "autoencoder.summary()#e feature extraction especially when images are normalized\n"
   ]
  },
  {
   "cell_type": "code",
   "execution_count": 175,
   "metadata": {},
   "outputs": [
    {
     "name": "stdout",
     "output_type": "stream",
     "text": [
      "Epoch 1/25\n",
      "3/3 [==============================] - 6s 1s/step - loss: 0.6931 - accuracy: 0.5504 - val_loss: 0.6928 - val_accuracy: 0.7474\n",
      "Epoch 2/25\n",
      "3/3 [==============================] - 3s 1s/step - loss: 0.6927 - accuracy: 0.7486 - val_loss: 0.6924 - val_accuracy: 0.7759\n",
      "Epoch 3/25\n",
      "3/3 [==============================] - 3s 960ms/step - loss: 0.6922 - accuracy: 0.7758 - val_loss: 0.6919 - val_accuracy: 0.8073\n",
      "Epoch 4/25\n",
      "3/3 [==============================] - 3s 1s/step - loss: 0.6914 - accuracy: 0.8037 - val_loss: 0.6909 - val_accuracy: 0.8010\n",
      "Epoch 5/25\n",
      "3/3 [==============================] - 3s 1s/step - loss: 0.6893 - accuracy: 0.7468 - val_loss: 0.6854 - val_accuracy: 0.6965\n",
      "Epoch 6/25\n",
      "3/3 [==============================] - 3s 1s/step - loss: 0.6795 - accuracy: 0.6829 - val_loss: 0.6842 - val_accuracy: 0.7691\n",
      "Epoch 7/25\n",
      "3/3 [==============================] - 3s 1s/step - loss: 0.6717 - accuracy: 0.7920 - val_loss: 0.6775 - val_accuracy: 0.8673\n",
      "Epoch 8/25\n",
      "3/3 [==============================] - 3s 996ms/step - loss: 0.6668 - accuracy: 0.8603 - val_loss: 0.6805 - val_accuracy: 0.8883\n",
      "Epoch 9/25\n",
      "3/3 [==============================] - 3s 981ms/step - loss: 0.6641 - accuracy: 0.8841 - val_loss: 0.6761 - val_accuracy: 0.9184\n",
      "Epoch 10/25\n",
      "3/3 [==============================] - 3s 985ms/step - loss: 0.6624 - accuracy: 0.9090 - val_loss: 0.6749 - val_accuracy: 0.9247\n",
      "Epoch 11/25\n",
      "3/3 [==============================] - 3s 960ms/step - loss: 0.6598 - accuracy: 0.9131 - val_loss: 0.6779 - val_accuracy: 0.9255\n",
      "Epoch 12/25\n",
      "3/3 [==============================] - 3s 987ms/step - loss: 0.6572 - accuracy: 0.9137 - val_loss: 0.6718 - val_accuracy: 0.9256\n",
      "Epoch 13/25\n",
      "3/3 [==============================] - 3s 1s/step - loss: 0.6550 - accuracy: 0.9138 - val_loss: 0.6711 - val_accuracy: 0.9256\n",
      "Epoch 14/25\n",
      "3/3 [==============================] - 3s 960ms/step - loss: 0.6507 - accuracy: 0.9138 - val_loss: 0.6714 - val_accuracy: 0.9256\n",
      "Epoch 15/25\n",
      "3/3 [==============================] - 3s 1s/step - loss: 0.6476 - accuracy: 0.9138 - val_loss: 0.6645 - val_accuracy: 0.9256\n",
      "Epoch 16/25\n",
      "3/3 [==============================] - 3s 1s/step - loss: 0.6440 - accuracy: 0.9138 - val_loss: 0.6681 - val_accuracy: 0.9255\n",
      "Epoch 17/25\n",
      "3/3 [==============================] - 3s 1s/step - loss: 0.6430 - accuracy: 0.9138 - val_loss: 0.6614 - val_accuracy: 0.9256\n",
      "Epoch 18/25\n",
      "3/3 [==============================] - 3s 924ms/step - loss: 0.6384 - accuracy: 0.9138 - val_loss: 0.6627 - val_accuracy: 0.9256\n",
      "Epoch 19/25\n",
      "3/3 [==============================] - 3s 947ms/step - loss: 0.6365 - accuracy: 0.9138 - val_loss: 0.6669 - val_accuracy: 0.9255\n",
      "Epoch 20/25\n",
      "3/3 [==============================] - 3s 997ms/step - loss: 0.6377 - accuracy: 0.9137 - val_loss: 0.6585 - val_accuracy: 0.9256\n",
      "Epoch 21/25\n",
      "3/3 [==============================] - 3s 982ms/step - loss: 0.6326 - accuracy: 0.9138 - val_loss: 0.6598 - val_accuracy: 0.9256\n",
      "Epoch 22/25\n",
      "3/3 [==============================] - 3s 1s/step - loss: 0.6289 - accuracy: 0.9138 - val_loss: 0.6570 - val_accuracy: 0.9256\n",
      "Epoch 23/25\n",
      "3/3 [==============================] - 3s 1s/step - loss: 0.6260 - accuracy: 0.9138 - val_loss: 0.6565 - val_accuracy: 0.9256\n",
      "Epoch 24/25\n",
      "3/3 [==============================] - 3s 1s/step - loss: 0.6238 - accuracy: 0.9138 - val_loss: 0.6582 - val_accuracy: 0.9256\n",
      "Epoch 25/25\n",
      "3/3 [==============================] - 3s 988ms/step - loss: 0.6234 - accuracy: 0.9138 - val_loss: 0.6543 - val_accuracy: 0.9256\n"
     ]
    },
    {
     "data": {
      "text/plain": [
       "<keras.callbacks.History at 0x2579258edc0>"
      ]
     },
     "execution_count": 175,
     "metadata": {},
     "output_type": "execute_result"
    }
   ],
   "source": [
    "#using validation_data is good for detecting overfitting as \n",
    "#it does early stopping when the performance is no longer improving\n",
    "\n",
    "autoencoder.fit(x = X_train, \n",
    "                y = X_train,\n",
    "                epochs = 25,\n",
    "                shuffle = True,\n",
    "                batch_size = 32,\n",
    "                validation_data = (X_test, X_test),)"
   ]
  },
  {
   "cell_type": "code",
   "execution_count": 176,
   "metadata": {},
   "outputs": [
    {
     "name": "stdout",
     "output_type": "stream",
     "text": [
      "3/3 [==============================] - 0s 57ms/step\n",
      "1/1 [==============================] - 0s 71ms/step\n"
     ]
    }
   ],
   "source": [
    "new_model = Model(input, enc)\n",
    "\n",
    "encoded_train = new_model.predict(X_train)\n",
    "encoded_test = new_model.predict(X_test)\n",
    "\n",
    "encoded_train = np.asarray(encoded_train)\n",
    "y_train = np.asarray(y_train)\n",
    "\n",
    "encoded_test = np.asarray(encoded_test)\n",
    "y_test = np.asarray(y_test)"
   ]
  },
  {
   "cell_type": "code",
   "execution_count": 177,
   "metadata": {},
   "outputs": [
    {
     "name": "stdout",
     "output_type": "stream",
     "text": [
      "Model: \"sequential_34\"\n",
      "_________________________________________________________________\n",
      " Layer (type)                Output Shape              Param #   \n",
      "=================================================================\n",
      " reshape_20 (Reshape)        (None, 40, 50, 1)         0         \n",
      "                                                                 \n",
      " conv2d_109 (Conv2D)         (None, 40, 50, 16)        160       \n",
      "                                                                 \n",
      " max_pooling2d_93 (MaxPoolin  (None, 20, 25, 16)       0         \n",
      " g2D)                                                            \n",
      "                                                                 \n",
      " conv2d_110 (Conv2D)         (None, 20, 25, 32)        4640      \n",
      "                                                                 \n",
      " max_pooling2d_94 (MaxPoolin  (None, 10, 12, 32)       0         \n",
      " g2D)                                                            \n",
      "                                                                 \n",
      " conv2d_111 (Conv2D)         (None, 10, 12, 64)        18496     \n",
      "                                                                 \n",
      " max_pooling2d_95 (MaxPoolin  (None, 5, 6, 64)         0         \n",
      " g2D)                                                            \n",
      "                                                                 \n",
      " flatten_31 (Flatten)        (None, 1920)              0         \n",
      "                                                                 \n",
      " dense_62 (Dense)            (None, 64)                122944    \n",
      "                                                                 \n",
      " dropout_27 (Dropout)        (None, 64)                0         \n",
      "                                                                 \n",
      " dense_63 (Dense)            (None, 1)                 65        \n",
      "                                                                 \n",
      "=================================================================\n",
      "Total params: 146,305\n",
      "Trainable params: 146,305\n",
      "Non-trainable params: 0\n",
      "_________________________________________________________________\n"
     ]
    }
   ],
   "source": [
    "cnn = Sequential()\n",
    "\n",
    "# Input shape is (2000,)\n",
    "cnn.add(layers.Reshape((40, 50, 1), input_shape=encoded_train[0].shape))\n",
    "\n",
    "cnn.add(layers.Conv2D(16, (3, 3), padding='same', activation='relu'))\n",
    "cnn.add(layers.MaxPooling2D(2,2))\n",
    "\n",
    "cnn.add(layers.Conv2D(32, (3, 3), padding='same', activation='relu'))\n",
    "cnn.add(layers.MaxPooling2D(2,2))\n",
    "\n",
    "cnn.add(layers.Conv2D(64, (3, 3), padding='same', activation='relu'))\n",
    "cnn.add(layers.MaxPooling2D(2,2))\n",
    "\n",
    "cnn.add(Flatten())\n",
    "\n",
    "cnn.add(Dense(64, activation='relu'))\n",
    "\n",
    "cnn.add(layers.Dropout(0.5))\n",
    "\n",
    "#output layer with 2 filters for number of classes the model will choose to do predictions\n",
    "#and since gender is just binary classification sigmoid is appropriate\n",
    "#when doing classification for age (wont be binary classification) then softmax is good choice\n",
    "cnn.add(Dense(1, activation='sigmoid'))\n",
    "\n",
    "cnn.summary()"
   ]
  },
  {
   "cell_type": "code",
   "execution_count": 178,
   "metadata": {},
   "outputs": [
    {
     "name": "stdout",
     "output_type": "stream",
     "text": [
      "Epoch 1/25\n",
      "3/3 [==============================] - 2s 164ms/step - loss: 0.5067 - accuracy: 0.8250 - val_loss: 0.6119 - val_accuracy: 0.8000\n",
      "Epoch 2/25\n",
      "3/3 [==============================] - 0s 49ms/step - loss: 0.4494 - accuracy: 0.8750 - val_loss: 0.5405 - val_accuracy: 0.8000\n",
      "Epoch 3/25\n",
      "3/3 [==============================] - 0s 43ms/step - loss: 0.4425 - accuracy: 0.8750 - val_loss: 0.5156 - val_accuracy: 0.8000\n",
      "Epoch 4/25\n",
      "3/3 [==============================] - 0s 50ms/step - loss: 0.3994 - accuracy: 0.8750 - val_loss: 0.5132 - val_accuracy: 0.8000\n",
      "Epoch 5/25\n",
      "3/3 [==============================] - 0s 50ms/step - loss: 0.4191 - accuracy: 0.8750 - val_loss: 0.5241 - val_accuracy: 0.8000\n",
      "Epoch 6/25\n",
      "3/3 [==============================] - 0s 63ms/step - loss: 0.3714 - accuracy: 0.8750 - val_loss: 0.5272 - val_accuracy: 0.8000\n",
      "Epoch 7/25\n",
      "3/3 [==============================] - 0s 45ms/step - loss: 0.3724 - accuracy: 0.8750 - val_loss: 0.5189 - val_accuracy: 0.8000\n",
      "Epoch 8/25\n",
      "3/3 [==============================] - 0s 52ms/step - loss: 0.3626 - accuracy: 0.8750 - val_loss: 0.5140 - val_accuracy: 0.8000\n",
      "Epoch 9/25\n",
      "3/3 [==============================] - 0s 53ms/step - loss: 0.3461 - accuracy: 0.8750 - val_loss: 0.5142 - val_accuracy: 0.8000\n",
      "Epoch 10/25\n",
      "3/3 [==============================] - 0s 52ms/step - loss: 0.3605 - accuracy: 0.8750 - val_loss: 0.5112 - val_accuracy: 0.8000\n",
      "Epoch 11/25\n",
      "3/3 [==============================] - 0s 54ms/step - loss: 0.2866 - accuracy: 0.8750 - val_loss: 0.5645 - val_accuracy: 0.8000\n",
      "Epoch 12/25\n",
      "3/3 [==============================] - 0s 53ms/step - loss: 0.3765 - accuracy: 0.8750 - val_loss: 0.5523 - val_accuracy: 0.8000\n",
      "Epoch 13/25\n",
      "3/3 [==============================] - 0s 53ms/step - loss: 0.3578 - accuracy: 0.8750 - val_loss: 0.5093 - val_accuracy: 0.8000\n",
      "Epoch 14/25\n",
      "3/3 [==============================] - 0s 64ms/step - loss: 0.3346 - accuracy: 0.8750 - val_loss: 0.5001 - val_accuracy: 0.8000\n",
      "Epoch 15/25\n",
      "3/3 [==============================] - 0s 55ms/step - loss: 0.3468 - accuracy: 0.8750 - val_loss: 0.5019 - val_accuracy: 0.8000\n",
      "Epoch 16/25\n",
      "3/3 [==============================] - 0s 53ms/step - loss: 0.3294 - accuracy: 0.8750 - val_loss: 0.5051 - val_accuracy: 0.8000\n",
      "Epoch 17/25\n",
      "3/3 [==============================] - 0s 49ms/step - loss: 0.3117 - accuracy: 0.8750 - val_loss: 0.5013 - val_accuracy: 0.8000\n",
      "Epoch 18/25\n",
      "3/3 [==============================] - 0s 62ms/step - loss: 0.3265 - accuracy: 0.8750 - val_loss: 0.4929 - val_accuracy: 0.8000\n",
      "Epoch 19/25\n",
      "3/3 [==============================] - 0s 46ms/step - loss: 0.2771 - accuracy: 0.8750 - val_loss: 0.4887 - val_accuracy: 0.8000\n",
      "Epoch 20/25\n",
      "3/3 [==============================] - 0s 43ms/step - loss: 0.2960 - accuracy: 0.8750 - val_loss: 0.4973 - val_accuracy: 0.8000\n",
      "Epoch 21/25\n",
      "3/3 [==============================] - 0s 44ms/step - loss: 0.2815 - accuracy: 0.8750 - val_loss: 0.4966 - val_accuracy: 0.8000\n",
      "Epoch 22/25\n",
      "3/3 [==============================] - 0s 53ms/step - loss: 0.2500 - accuracy: 0.8750 - val_loss: 0.5209 - val_accuracy: 0.8000\n",
      "Epoch 23/25\n",
      "3/3 [==============================] - 0s 50ms/step - loss: 0.2406 - accuracy: 0.8750 - val_loss: 0.5056 - val_accuracy: 0.8000\n",
      "Epoch 24/25\n",
      "3/3 [==============================] - 0s 46ms/step - loss: 0.2794 - accuracy: 0.8750 - val_loss: 0.4987 - val_accuracy: 0.8000\n",
      "Epoch 25/25\n",
      "3/3 [==============================] - 0s 50ms/step - loss: 0.2428 - accuracy: 0.8750 - val_loss: 0.4997 - val_accuracy: 0.8000\n"
     ]
    }
   ],
   "source": [
    "#for age use categorical_crossentropy instead\n",
    "cnn.compile(optimizer=\"adam\", loss=\"binary_crossentropy\",\n",
    "            metrics=['accuracy'])\n",
    "\n",
    "history_autoencoder_gender = cnn.fit(encoded_train, y_train,\n",
    "                    epochs=25,\n",
    "                    batch_size=32,\n",
    "                    validation_data=(encoded_test, y_test))"
   ]
  },
  {
   "cell_type": "code",
   "execution_count": 179,
   "metadata": {},
   "outputs": [
    {
     "name": "stdout",
     "output_type": "stream",
     "text": [
      "1/1 [==============================] - 0s 105ms/step\n",
      "MCC:  0.0\n"
     ]
    },
    {
     "data": {
      "image/png": "[encoded data removed]",
      "text/plain": [
       "<Figure size 432x288 with 2 Axes>"
      ]
     },
     "metadata": {
      "needs_background": "light"
     },
     "output_type": "display_data"
    },
    {
     "name": "stdout",
     "output_type": "stream",
     "text": [
      "              precision    recall  f1-score   support\n",
      "\n",
      "           0       1.00      1.00      1.00        20\n",
      "\n",
      "    accuracy                           1.00        20\n",
      "   macro avg       1.00      1.00      1.00        20\n",
      "weighted avg       1.00      1.00      1.00        20\n",
      "\n"
     ]
    }
   ],
   "source": [
    "prediction_metrics(cnn, encoded_test, y_test, genders)"
   ]
  },
  {
   "attachments": {},
   "cell_type": "markdown",
   "metadata": {},
   "source": [
    "### Age"
   ]
  },
  {
   "cell_type": "code",
   "execution_count": 180,
   "metadata": {},
   "outputs": [],
   "source": [
    "X_train, X_test, y_train, y_test = train_test_split(images, age_categories, test_size=0.2, random_state=42)"
   ]
  },
  {
   "cell_type": "code",
   "execution_count": 181,
   "metadata": {},
   "outputs": [],
   "source": [
    "X_train = np.array(X_train)\n",
    "X_train = np.reshape(X_train, (X_train.shape[0], X_train.shape[1], X_train.shape[2], 3))\n",
    "\n",
    "X_test = np.array(X_test)\n",
    "X_test = np.reshape(X_test, (X_test.shape[0], X_test.shape[1], X_test.shape[2], 3))"
   ]
  },
  {
   "cell_type": "code",
   "execution_count": 182,
   "metadata": {},
   "outputs": [
    {
     "name": "stdout",
     "output_type": "stream",
     "text": [
      "Autoencoder Started\n",
      "Model: \"model_9\"\n",
      "_________________________________________________________________\n",
      " Layer (type)                Output Shape              Param #   \n",
      "=================================================================\n",
      " input_9 (InputLayer)        [(None, 200, 200, 3)]     0         \n",
      "                                                                 \n",
      " conv2d_112 (Conv2D)         (None, 100, 100, 64)      1792      \n",
      "                                                                 \n",
      " conv2d_113 (Conv2D)         (None, 50, 50, 32)        18464     \n",
      "                                                                 \n",
      " conv2d_114 (Conv2D)         (None, 25, 25, 16)        4624      \n",
      "                                                                 \n",
      " flatten_32 (Flatten)        (None, 10000)             0         \n",
      "                                                                 \n",
      " dense_64 (Dense)            (None, 2000)              20002000  \n",
      "                                                                 \n",
      " dense_65 (Dense)            (None, 10000)             20010000  \n",
      "                                                                 \n",
      " reshape_21 (Reshape)        (None, 25, 25, 16)        0         \n",
      "                                                                 \n",
      " conv2d_transpose_18 (Conv2D  (None, 50, 50, 32)       4640      \n",
      " Transpose)                                                      \n",
      "                                                                 \n",
      " conv2d_transpose_19 (Conv2D  (None, 100, 100, 64)     18496     \n",
      " Transpose)                                                      \n",
      "                                                                 \n",
      " conv2d_transpose_20 (Conv2D  (None, 200, 200, 3)      1731      \n",
      " Transpose)                                                      \n",
      "                                                                 \n",
      "=================================================================\n",
      "Total params: 40,061,747\n",
      "Trainable params: 40,061,747\n",
      "Non-trainable params: 0\n",
      "_________________________________________________________________\n"
     ]
    }
   ],
   "source": [
    "print(\"Autoencoder Started\")\n",
    "#### AUtoencoder\n",
    "input = layers.Input(shape=(200, 200, 3))\n",
    "\n",
    "#valor alto apanha artefactos, e valor baixo nao captura bem as features da imagem\n",
    "latent_dim = 2000\n",
    "\n",
    "## Classe \n",
    "\n",
    "# Encoder\n",
    "\n",
    "#didnt increase filter count in encoder and decrease equally in decoder because\n",
    "#it can lead to overfitting\n",
    "\n",
    "x = layers.Conv2D(64, (3,3), activation='relu', padding='same', strides = 2)(input)\n",
    "#x = layers.MaxPooling2D((2,2), padding='same')(x)#dividir imagem por factor de 2\n",
    "x = layers.Conv2D(32, (3,3), activation='relu', padding='same', strides = 2)(x)#reduziu se nr de filtros para 32 porque foi decidido factor de 32 filtros\n",
    "#x = layers.MaxPooling2D((2,2), padding='same')(x)\n",
    "x = layers.Conv2D(16, (3,3), activation='relu', padding='same', strides = 2)(x)\n",
    "#x = layers.MaxPooling2D((2,2), padding='same')(x)#25*25*16=10000\n",
    "x = layers.Flatten()(x)\n",
    "enc = layers.Dense(latent_dim, activation='relu')(x)\n",
    "\n",
    "# Decoder\n",
    "\n",
    "#having conv2D here helps to avoid checkerboard artifacts\n",
    "#which are alternating points of colors (like checkerboard)\n",
    "#that are consequence of deconvolutioning an image and cause \n",
    "#loss of quality in final reconstruction\n",
    "#x = layers.Conv2D(16, (3,3), activation='relu', padding='same')(x)\n",
    "\n",
    "#equivalente a fazer dense layer no fim do encoder e no inicio do decoder\n",
    "#fazer a layer dense fica um vector\n",
    "#fazer reshape depois do 2 dense para voltar a ter imagem do vetor criado\n",
    "\n",
    "x = layers.Dense(25*25*16, activation='relu')(enc)\n",
    "x = layers.Reshape((25,25,16))(x)\n",
    "#x = layers.UpSampling2D((2,2))(x)\n",
    "x = layers.Conv2DTranspose(32, (3, 3), activation=\"relu\", padding=\"same\", strides = 2)(x)\n",
    "#x = layers.UpSampling2D((2,2))(x)\n",
    "x = layers.Conv2DTranspose(64, (3,3), activation='relu', padding='same', strides = 2)(x)\n",
    "#x = layers.UpSampling2D((2,2))(x)\n",
    "output = layers.Conv2DTranspose(3, (3,3), activation='sigmoid', padding='same', strides = 2)(x)\n",
    "\n",
    "#maybe use strides in the layers too\n",
    "#example:\n",
    "#x = layers.Conv2D(16, (3,3), activation='relu', padding='same', strides = 2)(x)\n",
    "\n",
    "# Autoencoder\n",
    "autoencoder = Model(input, output)\n",
    "\n",
    "# binary cross entropy is good for image feature extraction especially when images are normalized\n",
    "autoencoder.compile(optimizer=\"adam\", loss='categorical_crossentropy',\n",
    "            metrics=['accuracy'])\n",
    "autoencoder.summary()"
   ]
  },
  {
   "cell_type": "code",
   "execution_count": 183,
   "metadata": {},
   "outputs": [
    {
     "name": "stdout",
     "output_type": "stream",
     "text": [
      "Epoch 1/25\n",
      "3/3 [==============================] - 5s 1s/step - loss: 1.8511 - accuracy: 0.4078 - val_loss: 1.6692 - val_accuracy: 0.5901\n",
      "Epoch 2/25\n",
      "3/3 [==============================] - 3s 1s/step - loss: 1.8510 - accuracy: 0.5772 - val_loss: 1.6691 - val_accuracy: 0.5499\n",
      "Epoch 3/25\n",
      "3/3 [==============================] - 3s 1s/step - loss: 1.8509 - accuracy: 0.4956 - val_loss: 1.6698 - val_accuracy: 0.3939\n",
      "Epoch 4/25\n",
      "3/3 [==============================] - 4s 1s/step - loss: 1.8568 - accuracy: 0.3850 - val_loss: 1.7449 - val_accuracy: 0.3889\n",
      "Epoch 5/25\n",
      "3/3 [==============================] - 4s 1s/step - loss: 2.2555 - accuracy: 0.3979 - val_loss: 3.7011 - val_accuracy: 0.4355\n",
      "Epoch 6/25\n",
      "3/3 [==============================] - 4s 1s/step - loss: 6.4988 - accuracy: 0.4580 - val_loss: 12.0197 - val_accuracy: 0.5177\n",
      "Epoch 7/25\n",
      "3/3 [==============================] - 3s 1s/step - loss: 21.3632 - accuracy: 0.5272 - val_loss: 37.7710 - val_accuracy: 0.5448\n",
      "Epoch 8/25\n",
      "3/3 [==============================] - 3s 1s/step - loss: 68.1863 - accuracy: 0.5410 - val_loss: 117.5016 - val_accuracy: 0.5350\n",
      "Epoch 9/25\n",
      "3/3 [==============================] - 4s 1s/step - loss: 203.9712 - accuracy: 0.5214 - val_loss: 349.1470 - val_accuracy: 0.4730\n",
      "Epoch 10/25\n",
      "3/3 [==============================] - 3s 1s/step - loss: 572.7354 - accuracy: 0.4387 - val_loss: 946.0785 - val_accuracy: 0.3485\n",
      "Epoch 11/25\n",
      "3/3 [==============================] - 3s 1s/step - loss: 1563.2035 - accuracy: 0.3277 - val_loss: 2425.7061 - val_accuracy: 0.2823\n",
      "Epoch 12/25\n",
      "3/3 [==============================] - 4s 1s/step - loss: 3830.9741 - accuracy: 0.2840 - val_loss: 6194.1655 - val_accuracy: 0.2875\n",
      "Epoch 13/25\n",
      "3/3 [==============================] - 3s 1s/step - loss: 10063.8467 - accuracy: 0.2930 - val_loss: 15894.2871 - val_accuracy: 0.3156\n",
      "Epoch 14/25\n",
      "3/3 [==============================] - 3s 1s/step - loss: 24897.5684 - accuracy: 0.3350 - val_loss: 36368.1289 - val_accuracy: 0.3878\n",
      "Epoch 15/25\n",
      "3/3 [==============================] - 3s 1s/step - loss: 55273.1875 - accuracy: 0.4063 - val_loss: 79238.1016 - val_accuracy: 0.4698\n",
      "Epoch 16/25\n",
      "3/3 [==============================] - 3s 957ms/step - loss: 126952.5156 - accuracy: 0.4786 - val_loss: 193025.4375 - val_accuracy: 0.5056\n",
      "Epoch 17/25\n",
      "3/3 [==============================] - 3s 1s/step - loss: 304048.8125 - accuracy: 0.5085 - val_loss: 426099.9062 - val_accuracy: 0.5038\n",
      "Epoch 18/25\n",
      "3/3 [==============================] - 3s 1s/step - loss: 644712.3750 - accuracy: 0.4773 - val_loss: 800872.1875 - val_accuracy: 0.4494\n",
      "Epoch 19/25\n",
      "3/3 [==============================] - 3s 1s/step - loss: 1194056.7500 - accuracy: 0.4517 - val_loss: 1576210.2500 - val_accuracy: 0.4819\n",
      "Epoch 20/25\n",
      "3/3 [==============================] - 3s 1s/step - loss: 2364186.7500 - accuracy: 0.4790 - val_loss: 3072615.0000 - val_accuracy: 0.4040\n",
      "Epoch 21/25\n",
      "3/3 [==============================] - 3s 1s/step - loss: 4428637.0000 - accuracy: 0.4215 - val_loss: 5101352.5000 - val_accuracy: 0.4932\n",
      "Epoch 22/25\n",
      "3/3 [==============================] - 3s 1s/step - loss: 7031896.0000 - accuracy: 0.4404 - val_loss: 8425821.0000 - val_accuracy: 0.3521\n",
      "Epoch 23/25\n",
      "3/3 [==============================] - 3s 978ms/step - loss: 12355941.0000 - accuracy: 0.3492 - val_loss: 14414438.0000 - val_accuracy: 0.3347\n",
      "Epoch 24/25\n",
      "3/3 [==============================] - 3s 1s/step - loss: 20104778.0000 - accuracy: 0.3318 - val_loss: 22278500.0000 - val_accuracy: 0.4334\n",
      "Epoch 25/25\n",
      "3/3 [==============================] - 3s 1s/step - loss: 31537612.0000 - accuracy: 0.4359 - val_loss: 35152004.0000 - val_accuracy: 0.3763\n"
     ]
    },
    {
     "data": {
      "text/plain": [
       "<keras.callbacks.History at 0x2579ebce280>"
      ]
     },
     "execution_count": 183,
     "metadata": {},
     "output_type": "execute_result"
    }
   ],
   "source": [
    "autoencoder.fit(X_train, X_train,\n",
    "                epochs = 25,\n",
    "                shuffle = True,\n",
    "                batch_size = 32,\n",
    "                validation_data = (X_test, X_test),\n",
    ")\n"
   ]
  },
  {
   "cell_type": "code",
   "execution_count": 184,
   "metadata": {},
   "outputs": [
    {
     "name": "stdout",
     "output_type": "stream",
     "text": [
      "3/3 [==============================] - 0s 56ms/step\n",
      "1/1 [==============================] - 0s 76ms/step\n"
     ]
    }
   ],
   "source": [
    "new_model = Model(input, enc)\n",
    "encoded_train = new_model.predict(X_train)\n",
    "encoded_test = new_model.predict(X_test)"
   ]
  },
  {
   "cell_type": "code",
   "execution_count": 185,
   "metadata": {},
   "outputs": [],
   "source": [
    "encoded_train = np.asarray(encoded_train)\n",
    "y_train = np.asarray(y_train)\n",
    "\n",
    "encoded_test = np.asarray(encoded_test)\n",
    "y_test = np.asarray(y_test)"
   ]
  },
  {
   "cell_type": "code",
   "execution_count": 186,
   "metadata": {},
   "outputs": [
    {
     "name": "stdout",
     "output_type": "stream",
     "text": [
      "Model: \"sequential_35\"\n",
      "_________________________________________________________________\n",
      " Layer (type)                Output Shape              Param #   \n",
      "=================================================================\n",
      " reshape_22 (Reshape)        (None, 40, 50, 1)         0         \n",
      "                                                                 \n",
      " conv2d_115 (Conv2D)         (None, 40, 50, 16)        160       \n",
      "                                                                 \n",
      " max_pooling2d_96 (MaxPoolin  (None, 20, 25, 16)       0         \n",
      " g2D)                                                            \n",
      "                                                                 \n",
      " conv2d_116 (Conv2D)         (None, 20, 25, 32)        4640      \n",
      "                                                                 \n",
      " max_pooling2d_97 (MaxPoolin  (None, 10, 12, 32)       0         \n",
      " g2D)                                                            \n",
      "                                                                 \n",
      " conv2d_117 (Conv2D)         (None, 10, 12, 64)        18496     \n",
      "                                                                 \n",
      " max_pooling2d_98 (MaxPoolin  (None, 5, 6, 64)         0         \n",
      " g2D)                                                            \n",
      "                                                                 \n",
      " flatten_33 (Flatten)        (None, 1920)              0         \n",
      "                                                                 \n",
      " dense_66 (Dense)            (None, 64)                122944    \n",
      "                                                                 \n",
      " dropout_28 (Dropout)        (None, 64)                0         \n",
      "                                                                 \n",
      " dense_67 (Dense)            (None, 6)                 390       \n",
      "                                                                 \n",
      "=================================================================\n",
      "Total params: 146,630\n",
      "Trainable params: 146,630\n",
      "Non-trainable params: 0\n",
      "_________________________________________________________________\n"
     ]
    }
   ],
   "source": [
    "cnn = Sequential()\n",
    "\n",
    "# Input shape is (2000,)\n",
    "cnn.add(layers.Reshape((40, 50, 1), input_shape=encoded_train[0].shape))\n",
    "\n",
    "cnn.add(layers.Conv2D(16, (3, 3), padding='same', activation='relu'))\n",
    "cnn.add(layers.MaxPooling2D(2,2))\n",
    "\n",
    "cnn.add(layers.Conv2D(32, (3, 3), padding='same', activation='relu'))\n",
    "cnn.add(layers.MaxPooling2D(2,2))\n",
    "\n",
    "cnn.add(layers.Conv2D(64, (3, 3), padding='same', activation='relu'))\n",
    "cnn.add(layers.MaxPooling2D(2,2))\n",
    "\n",
    "cnn.add(Flatten())\n",
    "\n",
    "cnn.add(Dense(64, activation='relu'))\n",
    "\n",
    "cnn.add(layers.Dropout(0.5))\n",
    "\n",
    "#output layer with 2 filters for number of classes the model will choose to do predictions\n",
    "#and since gender is just binary classification sigmoid is appropriate\n",
    "#when doing classification for age (wont be binary classification) then softmax is good choice\n",
    "cnn.add(layers.Dense(6, activation='softmax'))\n",
    "\n",
    "cnn.summary()"
   ]
  },
  {
   "cell_type": "code",
   "execution_count": 187,
   "metadata": {},
   "outputs": [
    {
     "name": "stdout",
     "output_type": "stream",
     "text": [
      "Epoch 1/25\n",
      "3/3 [==============================] - 2s 174ms/step - loss: 66437.3359 - accuracy: 0.5125 - val_loss: 28724.1504 - val_accuracy: 0.7500\n",
      "Epoch 2/25\n",
      "3/3 [==============================] - 0s 54ms/step - loss: 27085.7695 - accuracy: 0.7375 - val_loss: 25373.4062 - val_accuracy: 0.7500\n",
      "Epoch 3/25\n",
      "3/3 [==============================] - 0s 53ms/step - loss: 36316.8828 - accuracy: 0.6750 - val_loss: 26312.3438 - val_accuracy: 0.7500\n",
      "Epoch 4/25\n",
      "3/3 [==============================] - 0s 49ms/step - loss: 14951.0781 - accuracy: 0.8000 - val_loss: 15510.9248 - val_accuracy: 0.7500\n",
      "Epoch 5/25\n",
      "3/3 [==============================] - 0s 51ms/step - loss: 16525.4277 - accuracy: 0.7125 - val_loss: 8628.0645 - val_accuracy: 0.7500\n",
      "Epoch 6/25\n",
      "3/3 [==============================] - 0s 51ms/step - loss: 4868.9678 - accuracy: 0.7250 - val_loss: 4995.4282 - val_accuracy: 0.7500\n",
      "Epoch 7/25\n",
      "3/3 [==============================] - 0s 63ms/step - loss: 6142.8281 - accuracy: 0.6875 - val_loss: 2344.4377 - val_accuracy: 0.7500\n",
      "Epoch 8/25\n",
      "3/3 [==============================] - 0s 53ms/step - loss: 3871.0337 - accuracy: 0.5625 - val_loss: 1057.2240 - val_accuracy: 0.7500\n",
      "Epoch 9/25\n",
      "3/3 [==============================] - 0s 57ms/step - loss: 1367.8954 - accuracy: 0.6125 - val_loss: 608.4290 - val_accuracy: 0.7500\n",
      "Epoch 10/25\n",
      "3/3 [==============================] - 0s 51ms/step - loss: 584.4900 - accuracy: 0.6125 - val_loss: 106.2176 - val_accuracy: 0.7500\n",
      "Epoch 11/25\n",
      "3/3 [==============================] - 0s 50ms/step - loss: 286.3392 - accuracy: 0.5750 - val_loss: 118.6281 - val_accuracy: 0.7500\n",
      "Epoch 12/25\n",
      "3/3 [==============================] - 0s 65ms/step - loss: 59.9743 - accuracy: 0.7000 - val_loss: 1.7757 - val_accuracy: 0.7500\n",
      "Epoch 13/25\n",
      "3/3 [==============================] - 0s 49ms/step - loss: 4.5313 - accuracy: 0.7625 - val_loss: 1.7718 - val_accuracy: 0.7500\n",
      "Epoch 14/25\n",
      "3/3 [==============================] - 0s 54ms/step - loss: 1.7703 - accuracy: 0.8250 - val_loss: 5.4743 - val_accuracy: 0.3000\n",
      "Epoch 15/25\n",
      "3/3 [==============================] - 0s 52ms/step - loss: 2.8347 - accuracy: 0.8000 - val_loss: 1.7627 - val_accuracy: 0.7500\n",
      "Epoch 16/25\n",
      "3/3 [==============================] - 0s 57ms/step - loss: 1.7606 - accuracy: 0.8250 - val_loss: 1.7579 - val_accuracy: 0.7500\n",
      "Epoch 17/25\n",
      "3/3 [==============================] - 0s 54ms/step - loss: 1.7556 - accuracy: 0.8250 - val_loss: 1.7530 - val_accuracy: 0.7500\n",
      "Epoch 18/25\n",
      "3/3 [==============================] - 0s 54ms/step - loss: 1.7503 - accuracy: 0.8250 - val_loss: 1.7481 - val_accuracy: 0.7500\n",
      "Epoch 19/25\n",
      "3/3 [==============================] - 0s 45ms/step - loss: 1.7450 - accuracy: 0.8250 - val_loss: 1.7432 - val_accuracy: 0.7500\n",
      "Epoch 20/25\n",
      "3/3 [==============================] - 0s 50ms/step - loss: 1.7399 - accuracy: 0.8250 - val_loss: 1.7384 - val_accuracy: 0.7500\n",
      "Epoch 21/25\n",
      "3/3 [==============================] - 0s 58ms/step - loss: 1.7348 - accuracy: 0.8250 - val_loss: 1.7336 - val_accuracy: 0.7500\n",
      "Epoch 22/25\n",
      "3/3 [==============================] - 0s 57ms/step - loss: 1.7297 - accuracy: 0.8250 - val_loss: 1.7288 - val_accuracy: 0.7500\n",
      "Epoch 23/25\n",
      "3/3 [==============================] - 0s 53ms/step - loss: 1.7248 - accuracy: 0.8250 - val_loss: 1.7241 - val_accuracy: 0.7500\n",
      "Epoch 24/25\n",
      "3/3 [==============================] - 0s 53ms/step - loss: 1.7198 - accuracy: 0.8250 - val_loss: 1.7195 - val_accuracy: 0.7500\n",
      "Epoch 25/25\n",
      "3/3 [==============================] - 0s 54ms/step - loss: 1.7149 - accuracy: 0.8250 - val_loss: 1.7054 - val_accuracy: 0.7500\n"
     ]
    }
   ],
   "source": [
    "cnn.compile(loss='categorical_crossentropy',\n",
    "            optimizer='adam',\n",
    "            metrics=['accuracy'])\n",
    "\n",
    "history_autoencoder_age = cnn.fit(encoded_train, y_train,\n",
    "        batch_size=32,\n",
    "        epochs=25,\n",
    "        validation_data=(encoded_test, y_test),)"
   ]
  },
  {
   "cell_type": "code",
   "execution_count": 188,
   "metadata": {},
   "outputs": [
    {
     "name": "stdout",
     "output_type": "stream",
     "text": [
      "1/1 [==============================] - 0s 109ms/step\n",
      "MCC:  0.0\n"
     ]
    },
    {
     "data": {
      "image/png": "[encoded data removed]",
      "text/plain": [
       "<Figure size 432x288 with 2 Axes>"
      ]
     },
     "metadata": {
      "needs_background": "light"
     },
     "output_type": "display_data"
    },
    {
     "name": "stdout",
     "output_type": "stream",
     "text": [
      "              precision    recall  f1-score   support\n",
      "\n",
      "           1       0.75      1.00      0.86        15\n",
      "           5       0.00      0.00      0.00         5\n",
      "\n",
      "    accuracy                           0.75        20\n",
      "   macro avg       0.38      0.50      0.43        20\n",
      "weighted avg       0.56      0.75      0.64        20\n",
      "\n"
     ]
    },
    {
     "name": "stderr",
     "output_type": "stream",
     "text": [
      "c:\\Users\\afbso\\anaconda3\\lib\\site-packages\\sklearn\\metrics\\_classification.py:1318: UndefinedMetricWarning: Precision and F-score are ill-defined and being set to 0.0 in labels with no predicted samples. Use `zero_division` parameter to control this behavior.\n",
      "  _warn_prf(average, modifier, msg_start, len(result))\n",
      "c:\\Users\\afbso\\anaconda3\\lib\\site-packages\\sklearn\\metrics\\_classification.py:1318: UndefinedMetricWarning: Precision and F-score are ill-defined and being set to 0.0 in labels with no predicted samples. Use `zero_division` parameter to control this behavior.\n",
      "  _warn_prf(average, modifier, msg_start, len(result))\n",
      "c:\\Users\\afbso\\anaconda3\\lib\\site-packages\\sklearn\\metrics\\_classification.py:1318: UndefinedMetricWarning: Precision and F-score are ill-defined and being set to 0.0 in labels with no predicted samples. Use `zero_division` parameter to control this behavior.\n",
      "  _warn_prf(average, modifier, msg_start, len(result))\n"
     ]
    }
   ],
   "source": [
    "prediction_metrics(cnn, encoded_test, y_test, age_classes)"
   ]
  }
 ],
 "metadata": {
  "kernelspec": {
   "display_name": "base",
   "language": "python",
   "name": "python3"
  },
  "language_info": {
   "codemirror_mode": {
    "name": "ipython",
    "version": 3
   },
   "file_extension": ".py",
   "mimetype": "text/x-python",
   "name": "python",
   "nbconvert_exporter": "python",
   "pygments_lexer": "ipython3",
   "version": "3.9.12"
  },
  "orig_nbformat": 4
 },
 "nbformat": 4,
 "nbformat_minor": 2
}
