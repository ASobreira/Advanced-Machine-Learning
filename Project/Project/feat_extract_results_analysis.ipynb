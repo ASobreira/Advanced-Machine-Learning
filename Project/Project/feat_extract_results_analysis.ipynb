{
 "cells": [
  {
   "cell_type": "code",
   "execution_count": 37,
   "metadata": {},
   "outputs": [],
   "source": [
    "import pandas as pd\n",
    "import scipy.stats as stats\n",
    "from scipy.stats import shapiro\n",
    "import matplotlib.pyplot as plt\n",
    "import numpy as np"
   ]
  },
  {
   "attachments": {},
   "cell_type": "markdown",
   "metadata": {},
   "source": [
    "# Results"
   ]
  },
  {
   "attachments": {},
   "cell_type": "markdown",
   "metadata": {},
   "source": [
    "## Age Classes"
   ]
  },
  {
   "attachments": {},
   "cell_type": "markdown",
   "metadata": {},
   "source": [
    "### Unbalanced"
   ]
  },
  {
   "cell_type": "code",
   "execution_count": 3,
   "metadata": {},
   "outputs": [
    {
     "data": {
      "text/html": [
       "<div>\n",
       "<style scoped>\n",
       "    .dataframe tbody tr th:only-of-type {\n",
       "        vertical-align: middle;\n",
       "    }\n",
       "\n",
       "    .dataframe tbody tr th {\n",
       "        vertical-align: top;\n",
       "    }\n",
       "\n",
       "    .dataframe thead th {\n",
       "        text-align: right;\n",
       "    }\n",
       "</style>\n",
       "<table border=\"1\" class=\"dataframe\">\n",
       "  <thead>\n",
       "    <tr style=\"text-align: right;\">\n",
       "      <th></th>\n",
       "      <th>Model</th>\n",
       "      <th>Feature Extract</th>\n",
       "      <th>ACC</th>\n",
       "      <th>MCC</th>\n",
       "    </tr>\n",
       "  </thead>\n",
       "  <tbody>\n",
       "    <tr>\n",
       "      <th>0</th>\n",
       "      <td>CNN</td>\n",
       "      <td>BASE</td>\n",
       "      <td>0.66</td>\n",
       "      <td>0.51</td>\n",
       "    </tr>\n",
       "    <tr>\n",
       "      <th>1</th>\n",
       "      <td>SVM</td>\n",
       "      <td>VGG 16</td>\n",
       "      <td>0.54</td>\n",
       "      <td>0.42</td>\n",
       "    </tr>\n",
       "    <tr>\n",
       "      <th>2</th>\n",
       "      <td>CNN</td>\n",
       "      <td>Autoenconder</td>\n",
       "      <td>0.59</td>\n",
       "      <td>0.42</td>\n",
       "    </tr>\n",
       "    <tr>\n",
       "      <th>3</th>\n",
       "      <td>SVM</td>\n",
       "      <td>BASE</td>\n",
       "      <td>0.70</td>\n",
       "      <td>0.41</td>\n",
       "    </tr>\n",
       "    <tr>\n",
       "      <th>4</th>\n",
       "      <td>SVM</td>\n",
       "      <td>HOG</td>\n",
       "      <td>0.52</td>\n",
       "      <td>0.40</td>\n",
       "    </tr>\n",
       "    <tr>\n",
       "      <th>5</th>\n",
       "      <td>CNN</td>\n",
       "      <td>HOG</td>\n",
       "      <td>0.56</td>\n",
       "      <td>0.39</td>\n",
       "    </tr>\n",
       "    <tr>\n",
       "      <th>6</th>\n",
       "      <td>CNN</td>\n",
       "      <td>ORB</td>\n",
       "      <td>0.37</td>\n",
       "      <td>0.09</td>\n",
       "    </tr>\n",
       "    <tr>\n",
       "      <th>7</th>\n",
       "      <td>SVM</td>\n",
       "      <td>ORB</td>\n",
       "      <td>0.12</td>\n",
       "      <td>0.08</td>\n",
       "    </tr>\n",
       "    <tr>\n",
       "      <th>8</th>\n",
       "      <td>SVM</td>\n",
       "      <td>Autoenconder</td>\n",
       "      <td>0.21</td>\n",
       "      <td>0.02</td>\n",
       "    </tr>\n",
       "    <tr>\n",
       "      <th>9</th>\n",
       "      <td>CNN</td>\n",
       "      <td>VGG 16</td>\n",
       "      <td>0.27</td>\n",
       "      <td>0.01</td>\n",
       "    </tr>\n",
       "  </tbody>\n",
       "</table>\n",
       "</div>"
      ],
      "text/plain": [
       "  Model Feature Extract   ACC   MCC\n",
       "0   CNN            BASE  0.66  0.51\n",
       "1   SVM          VGG 16  0.54  0.42\n",
       "2   CNN    Autoenconder  0.59  0.42\n",
       "3   SVM            BASE  0.70  0.41\n",
       "4   SVM             HOG  0.52  0.40\n",
       "5   CNN             HOG  0.56  0.39\n",
       "6   CNN             ORB  0.37  0.09\n",
       "7   SVM             ORB  0.12  0.08\n",
       "8   SVM    Autoenconder  0.21  0.02\n",
       "9   CNN          VGG 16  0.27  0.01"
      ]
     },
     "execution_count": 3,
     "metadata": {},
     "output_type": "execute_result"
    }
   ],
   "source": [
    "data = {'Model': ['CNN', 'SVM', 'CNN', 'SVM', 'SVM', 'CNN', 'CNN', 'SVM', 'SVM', 'CNN'],\n",
    "        'Feature Extract': ['BASE', 'VGG 16', 'Autoenconder', 'BASE', 'HOG', 'HOG', 'ORB', 'ORB', 'Autoenconder', 'VGG 16'],\n",
    "        'ACC': [0.66, 0.54, 0.59, 0.7, 0.52, 0.56, 0.37, 0.12, 0.21, 0.27],\n",
    "        'MCC': [0.51, 0.42, 0.42, 0.41, 0.4, 0.39, 0.09, 0.08, 0.02, 0.01]\n",
    "       }\n",
    "\n",
    "age_classes_unbalanced = pd.DataFrame(data).sort_values(\"MCC\", ascending = False)\n",
    "age_classes_unbalanced"
   ]
  },
  {
   "attachments": {},
   "cell_type": "markdown",
   "metadata": {},
   "source": [
    "### Balanced"
   ]
  },
  {
   "cell_type": "code",
   "execution_count": 4,
   "metadata": {},
   "outputs": [
    {
     "data": {
      "text/html": [
       "<div>\n",
       "<style scoped>\n",
       "    .dataframe tbody tr th:only-of-type {\n",
       "        vertical-align: middle;\n",
       "    }\n",
       "\n",
       "    .dataframe tbody tr th {\n",
       "        vertical-align: top;\n",
       "    }\n",
       "\n",
       "    .dataframe thead th {\n",
       "        text-align: right;\n",
       "    }\n",
       "</style>\n",
       "<table border=\"1\" class=\"dataframe\">\n",
       "  <thead>\n",
       "    <tr style=\"text-align: right;\">\n",
       "      <th></th>\n",
       "      <th>Model</th>\n",
       "      <th>Feature Extract</th>\n",
       "      <th>ACC</th>\n",
       "      <th>MCC</th>\n",
       "    </tr>\n",
       "  </thead>\n",
       "  <tbody>\n",
       "    <tr>\n",
       "      <th>1</th>\n",
       "      <td>SVM</td>\n",
       "      <td>HOG</td>\n",
       "      <td>0.63</td>\n",
       "      <td>0.56</td>\n",
       "    </tr>\n",
       "    <tr>\n",
       "      <th>0</th>\n",
       "      <td>CNN</td>\n",
       "      <td>BASE</td>\n",
       "      <td>0.60</td>\n",
       "      <td>0.51</td>\n",
       "    </tr>\n",
       "    <tr>\n",
       "      <th>2</th>\n",
       "      <td>SVM</td>\n",
       "      <td>VGG 16</td>\n",
       "      <td>0.58</td>\n",
       "      <td>0.51</td>\n",
       "    </tr>\n",
       "    <tr>\n",
       "      <th>3</th>\n",
       "      <td>SVM</td>\n",
       "      <td>Autoenconder</td>\n",
       "      <td>0.56</td>\n",
       "      <td>0.47</td>\n",
       "    </tr>\n",
       "    <tr>\n",
       "      <th>4</th>\n",
       "      <td>SVM</td>\n",
       "      <td>BASE</td>\n",
       "      <td>0.55</td>\n",
       "      <td>0.46</td>\n",
       "    </tr>\n",
       "    <tr>\n",
       "      <th>5</th>\n",
       "      <td>CNN</td>\n",
       "      <td>HOG</td>\n",
       "      <td>0.52</td>\n",
       "      <td>0.43</td>\n",
       "    </tr>\n",
       "    <tr>\n",
       "      <th>6</th>\n",
       "      <td>CNN</td>\n",
       "      <td>Autoenconder</td>\n",
       "      <td>0.52</td>\n",
       "      <td>0.41</td>\n",
       "    </tr>\n",
       "    <tr>\n",
       "      <th>7</th>\n",
       "      <td>SVM</td>\n",
       "      <td>ORB</td>\n",
       "      <td>0.30</td>\n",
       "      <td>0.15</td>\n",
       "    </tr>\n",
       "    <tr>\n",
       "      <th>8</th>\n",
       "      <td>CNN</td>\n",
       "      <td>ORB</td>\n",
       "      <td>0.28</td>\n",
       "      <td>0.13</td>\n",
       "    </tr>\n",
       "    <tr>\n",
       "      <th>9</th>\n",
       "      <td>CNN</td>\n",
       "      <td>VGG 16</td>\n",
       "      <td>0.19</td>\n",
       "      <td>0.02</td>\n",
       "    </tr>\n",
       "  </tbody>\n",
       "</table>\n",
       "</div>"
      ],
      "text/plain": [
       "  Model Feature Extract   ACC   MCC\n",
       "1   SVM             HOG  0.63  0.56\n",
       "0   CNN            BASE  0.60  0.51\n",
       "2   SVM          VGG 16  0.58  0.51\n",
       "3   SVM    Autoenconder  0.56  0.47\n",
       "4   SVM            BASE  0.55  0.46\n",
       "5   CNN             HOG  0.52  0.43\n",
       "6   CNN    Autoenconder  0.52  0.41\n",
       "7   SVM             ORB  0.30  0.15\n",
       "8   CNN             ORB  0.28  0.13\n",
       "9   CNN          VGG 16  0.19  0.02"
      ]
     },
     "execution_count": 4,
     "metadata": {},
     "output_type": "execute_result"
    }
   ],
   "source": [
    "data = {'Model': ['CNN', 'SVM', 'SVM', 'SVM', 'SVM', 'CNN', 'CNN', 'SVM', 'CNN', 'CNN'],\n",
    "        'Feature Extract': ['BASE', 'HOG', 'VGG 16', 'Autoenconder', 'BASE', 'HOG', 'Autoenconder', 'ORB', 'ORB', 'VGG 16'],\n",
    "        'ACC': [0.60, 0.63, 0.58, 0.56, 0.55, 0.52, 0.52, 0.3, 0.28, 0.19],\n",
    "        'MCC': [0.51, 0.56, 0.51, 0.47, 0.46, 0.43, 0.41, 0.15, 0.13, 0.02]}\n",
    "\n",
    "     \n",
    "age_classes_balanced = pd.DataFrame(data).sort_values(\"MCC\", ascending = False)\n",
    "age_classes_balanced"
   ]
  },
  {
   "attachments": {},
   "cell_type": "markdown",
   "metadata": {},
   "source": [
    "## Genders"
   ]
  },
  {
   "attachments": {},
   "cell_type": "markdown",
   "metadata": {},
   "source": [
    "### Unbalanced"
   ]
  },
  {
   "cell_type": "code",
   "execution_count": 5,
   "metadata": {},
   "outputs": [
    {
     "data": {
      "text/html": [
       "<div>\n",
       "<style scoped>\n",
       "    .dataframe tbody tr th:only-of-type {\n",
       "        vertical-align: middle;\n",
       "    }\n",
       "\n",
       "    .dataframe tbody tr th {\n",
       "        vertical-align: top;\n",
       "    }\n",
       "\n",
       "    .dataframe thead th {\n",
       "        text-align: right;\n",
       "    }\n",
       "</style>\n",
       "<table border=\"1\" class=\"dataframe\">\n",
       "  <thead>\n",
       "    <tr style=\"text-align: right;\">\n",
       "      <th></th>\n",
       "      <th>Model</th>\n",
       "      <th>Feature Extract</th>\n",
       "      <th>ACC</th>\n",
       "      <th>MCC</th>\n",
       "    </tr>\n",
       "  </thead>\n",
       "  <tbody>\n",
       "    <tr>\n",
       "      <th>0</th>\n",
       "      <td>SVM</td>\n",
       "      <td>VGG 16</td>\n",
       "      <td>0.89</td>\n",
       "      <td>0.78</td>\n",
       "    </tr>\n",
       "    <tr>\n",
       "      <th>1</th>\n",
       "      <td>CNN</td>\n",
       "      <td>BASE</td>\n",
       "      <td>0.89</td>\n",
       "      <td>0.78</td>\n",
       "    </tr>\n",
       "    <tr>\n",
       "      <th>2</th>\n",
       "      <td>SVM</td>\n",
       "      <td>HOG</td>\n",
       "      <td>0.88</td>\n",
       "      <td>0.75</td>\n",
       "    </tr>\n",
       "    <tr>\n",
       "      <th>3</th>\n",
       "      <td>CNN</td>\n",
       "      <td>VGG 16</td>\n",
       "      <td>0.87</td>\n",
       "      <td>0.75</td>\n",
       "    </tr>\n",
       "    <tr>\n",
       "      <th>4</th>\n",
       "      <td>SVM</td>\n",
       "      <td>BASE</td>\n",
       "      <td>0.87</td>\n",
       "      <td>0.73</td>\n",
       "    </tr>\n",
       "    <tr>\n",
       "      <th>5</th>\n",
       "      <td>SVM</td>\n",
       "      <td>Autoenconder</td>\n",
       "      <td>0.86</td>\n",
       "      <td>0.73</td>\n",
       "    </tr>\n",
       "    <tr>\n",
       "      <th>6</th>\n",
       "      <td>CNN</td>\n",
       "      <td>Autoenconder</td>\n",
       "      <td>0.84</td>\n",
       "      <td>0.68</td>\n",
       "    </tr>\n",
       "    <tr>\n",
       "      <th>7</th>\n",
       "      <td>CNN</td>\n",
       "      <td>HOG</td>\n",
       "      <td>0.82</td>\n",
       "      <td>0.63</td>\n",
       "    </tr>\n",
       "    <tr>\n",
       "      <th>8</th>\n",
       "      <td>CNN</td>\n",
       "      <td>ORB</td>\n",
       "      <td>0.22</td>\n",
       "      <td>0.61</td>\n",
       "    </tr>\n",
       "    <tr>\n",
       "      <th>9</th>\n",
       "      <td>SVM</td>\n",
       "      <td>ORB</td>\n",
       "      <td>0.66</td>\n",
       "      <td>0.32</td>\n",
       "    </tr>\n",
       "  </tbody>\n",
       "</table>\n",
       "</div>"
      ],
      "text/plain": [
       "  Model Feature Extract   ACC   MCC\n",
       "0   SVM          VGG 16  0.89  0.78\n",
       "1   CNN            BASE  0.89  0.78\n",
       "2   SVM             HOG  0.88  0.75\n",
       "3   CNN          VGG 16  0.87  0.75\n",
       "4   SVM            BASE  0.87  0.73\n",
       "5   SVM    Autoenconder  0.86  0.73\n",
       "6   CNN    Autoenconder  0.84  0.68\n",
       "7   CNN             HOG  0.82  0.63\n",
       "8   CNN             ORB  0.22  0.61\n",
       "9   SVM             ORB  0.66  0.32"
      ]
     },
     "execution_count": 5,
     "metadata": {},
     "output_type": "execute_result"
    }
   ],
   "source": [
    "data = {'Model': ['SVM', 'CNN', 'SVM', 'CNN', 'SVM', 'SVM', 'CNN', 'CNN', 'CNN', 'SVM'],\n",
    "        'Feature Extract': ['VGG 16', 'BASE', 'HOG', 'VGG 16', 'BASE', 'Autoenconder', 'Autoenconder', 'HOG', 'ORB', 'ORB'],\n",
    "        'ACC': [0.89, 0.89, 0.88, 0.87, 0.87, 0.86, 0.84, 0.82, 0.22, 0.66],\n",
    "        'MCC': [0.78, 0.78, 0.75, 0.75, 0.73, 0.73, 0.68, 0.63, 0.61, 0.32]}\n",
    "\n",
    "genders_unbalanced = pd.DataFrame(data).sort_values(\"MCC\", ascending = False)\n",
    "genders_unbalanced"
   ]
  },
  {
   "attachments": {},
   "cell_type": "markdown",
   "metadata": {},
   "source": [
    "### Balanced"
   ]
  },
  {
   "cell_type": "code",
   "execution_count": 6,
   "metadata": {},
   "outputs": [
    {
     "data": {
      "text/html": [
       "<div>\n",
       "<style scoped>\n",
       "    .dataframe tbody tr th:only-of-type {\n",
       "        vertical-align: middle;\n",
       "    }\n",
       "\n",
       "    .dataframe tbody tr th {\n",
       "        vertical-align: top;\n",
       "    }\n",
       "\n",
       "    .dataframe thead th {\n",
       "        text-align: right;\n",
       "    }\n",
       "</style>\n",
       "<table border=\"1\" class=\"dataframe\">\n",
       "  <thead>\n",
       "    <tr style=\"text-align: right;\">\n",
       "      <th></th>\n",
       "      <th>Model</th>\n",
       "      <th>Feature Extract</th>\n",
       "      <th>ACC</th>\n",
       "      <th>MCC</th>\n",
       "    </tr>\n",
       "  </thead>\n",
       "  <tbody>\n",
       "    <tr>\n",
       "      <th>0</th>\n",
       "      <td>SVM</td>\n",
       "      <td>HOG</td>\n",
       "      <td>0.90</td>\n",
       "      <td>0.80</td>\n",
       "    </tr>\n",
       "    <tr>\n",
       "      <th>1</th>\n",
       "      <td>CNN</td>\n",
       "      <td>BASE</td>\n",
       "      <td>0.89</td>\n",
       "      <td>0.79</td>\n",
       "    </tr>\n",
       "    <tr>\n",
       "      <th>2</th>\n",
       "      <td>CNN</td>\n",
       "      <td>VGG 16</td>\n",
       "      <td>0.88</td>\n",
       "      <td>0.76</td>\n",
       "    </tr>\n",
       "    <tr>\n",
       "      <th>3</th>\n",
       "      <td>SVM</td>\n",
       "      <td>Autoenconder</td>\n",
       "      <td>0.88</td>\n",
       "      <td>0.76</td>\n",
       "    </tr>\n",
       "    <tr>\n",
       "      <th>4</th>\n",
       "      <td>SVM</td>\n",
       "      <td>BASE</td>\n",
       "      <td>0.87</td>\n",
       "      <td>0.73</td>\n",
       "    </tr>\n",
       "    <tr>\n",
       "      <th>5</th>\n",
       "      <td>SVM</td>\n",
       "      <td>VGG 16</td>\n",
       "      <td>0.86</td>\n",
       "      <td>0.73</td>\n",
       "    </tr>\n",
       "    <tr>\n",
       "      <th>6</th>\n",
       "      <td>CNN</td>\n",
       "      <td>HOG</td>\n",
       "      <td>0.85</td>\n",
       "      <td>0.71</td>\n",
       "    </tr>\n",
       "    <tr>\n",
       "      <th>7</th>\n",
       "      <td>CNN</td>\n",
       "      <td>Autoenconder</td>\n",
       "      <td>0.84</td>\n",
       "      <td>0.68</td>\n",
       "    </tr>\n",
       "    <tr>\n",
       "      <th>8</th>\n",
       "      <td>SVM</td>\n",
       "      <td>ORB</td>\n",
       "      <td>0.67</td>\n",
       "      <td>0.35</td>\n",
       "    </tr>\n",
       "    <tr>\n",
       "      <th>9</th>\n",
       "      <td>CNN</td>\n",
       "      <td>ORB</td>\n",
       "      <td>0.62</td>\n",
       "      <td>0.23</td>\n",
       "    </tr>\n",
       "  </tbody>\n",
       "</table>\n",
       "</div>"
      ],
      "text/plain": [
       "  Model Feature Extract   ACC   MCC\n",
       "0   SVM             HOG  0.90  0.80\n",
       "1   CNN            BASE  0.89  0.79\n",
       "2   CNN          VGG 16  0.88  0.76\n",
       "3   SVM    Autoenconder  0.88  0.76\n",
       "4   SVM            BASE  0.87  0.73\n",
       "5   SVM          VGG 16  0.86  0.73\n",
       "6   CNN             HOG  0.85  0.71\n",
       "7   CNN    Autoenconder  0.84  0.68\n",
       "8   SVM            ORB   0.67  0.35\n",
       "9   CNN            ORB   0.62  0.23"
      ]
     },
     "execution_count": 6,
     "metadata": {},
     "output_type": "execute_result"
    }
   ],
   "source": [
    "data = {'Model': ['SVM', 'CNN', 'CNN', 'SVM', 'SVM', 'SVM', 'CNN', 'CNN', 'SVM', 'CNN'],\n",
    "        'Feature Extract': ['HOG', 'BASE', 'VGG 16', 'Autoenconder', 'BASE', 'VGG 16', 'HOG', 'Autoenconder', 'ORB ', 'ORB '],\n",
    "        'ACC': [0.90, 0.89, 0.88, 0.88, 0.87, 0.86, 0.85, 0.84, 0.67, 0.62],\n",
    "        'MCC': [0.80, 0.79, 0.76, 0.76, 0.73, 0.73, 0.71, 0.68, 0.35, 0.23]}\n",
    "\n",
    "genders_balanced = pd.DataFrame(data).sort_values(\"MCC\", ascending = False)\n",
    "genders_balanced"
   ]
  },
  {
   "attachments": {},
   "cell_type": "markdown",
   "metadata": {},
   "source": [
    "# Balanced vs. Unbalanced"
   ]
  },
  {
   "attachments": {},
   "cell_type": "markdown",
   "metadata": {},
   "source": [
    "### Age Classes"
   ]
  },
  {
   "cell_type": "code",
   "execution_count": 24,
   "metadata": {},
   "outputs": [],
   "source": [
    "def shapiro_test(data, columns):\n",
    "    for col in columns:\n",
    "        dataset = data[col]\n",
    "        stat, p = shapiro(dataset)\n",
    "        print('Test statistic for', col, stat)\n",
    "        print('p-value for', col, p)\n",
    "        print()"
   ]
  },
  {
   "cell_type": "code",
   "execution_count": 25,
   "metadata": {},
   "outputs": [
    {
     "name": "stdout",
     "output_type": "stream",
     "text": [
      "MCC\n",
      "Test statistic for MCC 0.8290427923202515\n",
      "p-value for MCC 0.032584041357040405\n",
      "\n",
      "Test statistic for MCC 0.801421046257019\n",
      "p-value for MCC 0.015086637809872627\n",
      "\n",
      "ACC\n",
      "Test statistic for ACC 0.826262354850769\n",
      "p-value for ACC 0.030163545161485672\n",
      "\n",
      "Test statistic for ACC 0.922789454460144\n",
      "p-value for ACC 0.3808090388774872\n",
      "\n"
     ]
    }
   ],
   "source": [
    "print(\"MCC\")\n",
    "shapiro_test(age_classes_balanced, ['MCC'])\n",
    "shapiro_test(age_classes_unbalanced, ['MCC'])\n",
    "print(\"ACC\")\n",
    "shapiro_test(age_classes_balanced, ['ACC'])\n",
    "shapiro_test(age_classes_unbalanced, ['ACC'])"
   ]
  },
  {
   "attachments": {},
   "cell_type": "markdown",
   "metadata": {},
   "source": [
    "- They do not follow normal distribution, we will use non parametric test (Wilcoxon)"
   ]
  },
  {
   "attachments": {},
   "cell_type": "markdown",
   "metadata": {},
   "source": [
    "#### Wilcoxon for MCC\n",
    "- H0: Balanced MCC = Unbalanced MCC vs. H1: Balanced MCC > Unbalanced MCC"
   ]
  },
  {
   "cell_type": "code",
   "execution_count": 27,
   "metadata": {},
   "outputs": [
    {
     "data": {
      "text/plain": [
       "WilcoxonResult(statistic=55.0, pvalue=0.0009765625)"
      ]
     },
     "execution_count": 27,
     "metadata": {},
     "output_type": "execute_result"
    }
   ],
   "source": [
    "Balanced_MCC = age_classes_balanced[\"MCC\"]\n",
    "Unbalanced_MCC = age_classes_unbalanced[\"MCC\"]\n",
    " \n",
    "# conduct the Wilcoxon-Signed Rank Test\n",
    "stats.wilcoxon(Balanced_MCC, Unbalanced_MCC, alternative= \"greater\")"
   ]
  },
  {
   "attachments": {},
   "cell_type": "markdown",
   "metadata": {},
   "source": [
    "MCC from Balanced higher than MCC from Unbalanced. **Diference is sinificant** for $\\alpha = 0.01$"
   ]
  },
  {
   "attachments": {},
   "cell_type": "markdown",
   "metadata": {},
   "source": [
    "#### Wilcoxon for ACC\n",
    "- H0: Balanced ACC = Unbalanced ACC vs. H1: Balanced ACC != Unbalanced ACC"
   ]
  },
  {
   "cell_type": "code",
   "execution_count": 28,
   "metadata": {},
   "outputs": [
    {
     "data": {
      "text/plain": [
       "WilcoxonResult(statistic=32.5, pvalue=0.34765625)"
      ]
     },
     "execution_count": 28,
     "metadata": {},
     "output_type": "execute_result"
    }
   ],
   "source": [
    "Balanced_ACC = age_classes_balanced[\"ACC\"]\n",
    "Unbalanced_ACC = age_classes_unbalanced[\"ACC\"]\n",
    " \n",
    "# conduct the Wilcoxon-Signed Rank Test\n",
    "stats.wilcoxon(Balanced_ACC, Unbalanced_ACC, alternative=\"greater\")"
   ]
  },
  {
   "attachments": {},
   "cell_type": "markdown",
   "metadata": {},
   "source": [
    "ACC from Balanced higher that ACC from Unbalanced. **Diference is not sinificant** for $\\alpha = 0.05$"
   ]
  },
  {
   "attachments": {},
   "cell_type": "markdown",
   "metadata": {},
   "source": [
    "## Genders"
   ]
  },
  {
   "cell_type": "code",
   "execution_count": 29,
   "metadata": {},
   "outputs": [
    {
     "name": "stdout",
     "output_type": "stream",
     "text": [
      "MCC\n",
      "Test statistic for MCC 0.7005376815795898\n",
      "p-value for MCC 0.0008942265412770212\n",
      "\n",
      "Test statistic for MCC 0.7307321429252625\n",
      "p-value for MCC 0.002079782309010625\n",
      "\n",
      "ACC\n",
      "Test statistic for ACC 0.7014734745025635\n",
      "p-value for ACC 0.0009178855689242482\n",
      "\n",
      "Test statistic for ACC 0.5834017395973206\n",
      "p-value for ACC 3.5089800803689286e-05\n",
      "\n"
     ]
    }
   ],
   "source": [
    "print(\"MCC\")\n",
    "shapiro_test(genders_balanced, ['MCC'])\n",
    "shapiro_test(genders_unbalanced, ['MCC'])\n",
    "print(\"ACC\")\n",
    "shapiro_test(genders_balanced, ['ACC'])\n",
    "shapiro_test(genders_unbalanced, ['ACC'])"
   ]
  },
  {
   "attachments": {},
   "cell_type": "markdown",
   "metadata": {},
   "source": [
    "- They do not follow normal distribution, we will use non parametric test (Wilcoxon)\n"
   ]
  },
  {
   "attachments": {},
   "cell_type": "markdown",
   "metadata": {},
   "source": [
    "#### Wilcoxon for MCC\n",
    "- H0: Balanced MCC = Unbalanced MCC vs. H1: Balanced MCC > Unbalanced MCC"
   ]
  },
  {
   "cell_type": "code",
   "execution_count": 30,
   "metadata": {},
   "outputs": [
    {
     "name": "stderr",
     "output_type": "stream",
     "text": [
      "c:\\Users\\afbso\\anaconda3\\lib\\site-packages\\scipy\\stats\\morestats.py:3141: UserWarning: Exact p-value calculation does not work if there are ties. Switching to normal approximation.\n",
      "  warnings.warn(\"Exact p-value calculation does not work if there are \"\n",
      "c:\\Users\\afbso\\anaconda3\\lib\\site-packages\\scipy\\stats\\morestats.py:3155: UserWarning: Sample size too small for normal approximation.\n",
      "  warnings.warn(\"Sample size too small for normal approximation.\")\n"
     ]
    },
    {
     "data": {
      "text/plain": [
       "WilcoxonResult(statistic=21.0, pvalue=0.3364546554578759)"
      ]
     },
     "execution_count": 30,
     "metadata": {},
     "output_type": "execute_result"
    }
   ],
   "source": [
    "Balanced_MCC = genders_balanced[\"MCC\"]\n",
    "Unbalanced_MCC = genders_unbalanced[\"MCC\"]\n",
    " \n",
    "# conduct the Wilcoxon-Signed Rank Test\n",
    "stats.wilcoxon(Balanced_MCC, Unbalanced_MCC, alternative= \"greater\")"
   ]
  },
  {
   "attachments": {},
   "cell_type": "markdown",
   "metadata": {},
   "source": [
    "MCC from Balanced higher that MCC from Unbalanced. **Diference is not sinificant** for $\\alpha = 0.05$"
   ]
  },
  {
   "attachments": {},
   "cell_type": "markdown",
   "metadata": {},
   "source": [
    "#### Wilcoxon for ACC\n",
    "- H0: Balanced ACC = Unbalanced ACC vs. H1: Balanced ACC != Unbalanced ACC"
   ]
  },
  {
   "cell_type": "code",
   "execution_count": 31,
   "metadata": {},
   "outputs": [
    {
     "data": {
      "text/plain": [
       "WilcoxonResult(statistic=16.0, pvalue=0.12180769416495907)"
      ]
     },
     "execution_count": 31,
     "metadata": {},
     "output_type": "execute_result"
    }
   ],
   "source": [
    "Balanced_ACC = genders_balanced[\"ACC\"]\n",
    "Unbalanced_ACC = genders_unbalanced[\"ACC\"]\n",
    " \n",
    "# conduct the Wilcoxon-Signed Rank Test\n",
    "stats.wilcoxon(Balanced_ACC, Unbalanced_ACC, alternative=\"greater\")"
   ]
  },
  {
   "attachments": {},
   "cell_type": "markdown",
   "metadata": {},
   "source": [
    "ACC from Balanced higher that ACC from Unbalanced. **Diference is not sinificant** for $\\alpha = 0.05$"
   ]
  },
  {
   "attachments": {},
   "cell_type": "markdown",
   "metadata": {},
   "source": [
    "# Best Models"
   ]
  },
  {
   "attachments": {},
   "cell_type": "markdown",
   "metadata": {},
   "source": [
    "## Gender"
   ]
  },
  {
   "cell_type": "code",
   "execution_count": 56,
   "metadata": {},
   "outputs": [
    {
     "data": {
      "image/png": "[encoded data removed]",
      "text/plain": [
       "<Figure size 864x576 with 1 Axes>"
      ]
     },
     "metadata": {
      "needs_background": "light"
     },
     "output_type": "display_data"
    }
   ],
   "source": [
    "x = np.arange(len(genders_balanced['Model']))\n",
    "y = genders_balanced['ACC']\n",
    "models = genders_balanced['Model']\n",
    "feature_extractors = genders_balanced['Feature Extract']\n",
    "\n",
    "fig, ax = plt.subplots(figsize=(12,8))\n",
    "ax.bar(x, y)\n",
    "ax.set_xticks(x)\n",
    "ax.set_xticklabels([f\"{m}-{f}\" for m, f in zip(models, feature_extractors)], rotation='vertical')\n",
    "ax.set_ylabel('ACC')\n",
    "ax.set_title('Accuracy for all feature extraction methods')\n",
    "\n",
    "# Displaying the values on top of the bars\n",
    "for i, v in enumerate(y):\n",
    "    ax.text(i, v, str(v), color='black', fontweight='bold', ha='center', va='bottom')\n",
    "\n",
    "plt.show()"
   ]
  },
  {
   "attachments": {},
   "cell_type": "markdown",
   "metadata": {},
   "source": [
    "## Age Classes"
   ]
  },
  {
   "cell_type": "code",
   "execution_count": 59,
   "metadata": {},
   "outputs": [
    {
     "data": {
      "image/png": "[encoded data removed]",
      "text/plain": [
       "<Figure size 864x576 with 1 Axes>"
      ]
     },
     "metadata": {
      "needs_background": "light"
     },
     "output_type": "display_data"
    }
   ],
   "source": [
    "x = np.arange(len(age_classes_balanced['Model']))\n",
    "y = age_classes_balanced['ACC']\n",
    "models = age_classes_balanced['Model']\n",
    "feature_extractors = age_classes_balanced['Feature Extract']\n",
    "\n",
    "fig, ax = plt.subplots(figsize=(12,8))\n",
    "ax.bar(x, y)\n",
    "ax.set_xticks(x)\n",
    "ax.set_xticklabels([f\"{m}-{f}\" for m, f in zip(models, feature_extractors)], rotation='vertical')\n",
    "ax.set_ylabel('ACC')\n",
    "ax.set_title('Accuracy for all feature extraction methods')\n",
    "\n",
    "# Displaying the values on top of the bars\n",
    "for i, v in enumerate(y):\n",
    "    ax.text(i, v, str(v), color='black', fontweight='bold', ha='center', va='bottom')\n",
    "\n",
    "plt.show()"
   ]
  }
 ],
 "metadata": {
  "kernelspec": {
   "display_name": "new_base",
   "language": "python",
   "name": "python3"
  },
  "language_info": {
   "codemirror_mode": {
    "name": "ipython",
    "version": 3
   },
   "file_extension": ".py",
   "mimetype": "text/x-python",
   "name": "python",
   "nbconvert_exporter": "python",
   "pygments_lexer": "ipython3",
   "version": "3.9.12"
  },
  "orig_nbformat": 4
 },
 "nbformat": 4,
 "nbformat_minor": 2
}
