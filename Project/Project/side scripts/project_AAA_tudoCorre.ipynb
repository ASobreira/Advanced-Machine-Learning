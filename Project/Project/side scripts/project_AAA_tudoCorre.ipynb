{
 "cells": [
  {
   "attachments": {},
   "cell_type": "markdown",
   "metadata": {},
   "source": [
    "# AAA Group project\n",
    "\n",
    "by Martim Silva 51304 and Alexandre Sobreira 59451"
   ]
  },
  {
   "attachments": {},
   "cell_type": "markdown",
   "metadata": {},
   "source": [
    "## 0) Imports and Functions"
   ]
  },
  {
   "cell_type": "code",
   "execution_count": 1,
   "metadata": {},
   "outputs": [],
   "source": [
    "import numpy as np\n",
    "import pandas as pd \n",
    "import os\n",
    "import cv2\n",
    "from sklearn.svm import SVC\n",
    "from skimage.feature import hog\n",
    "import matplotlib.pyplot as plt\n",
    "from sklearn.model_selection import train_test_split\n",
    "from sklearn.svm import SVC\n",
    "from skimage.color import rgb2gray\n",
    "import tensorflow as tf\n",
    "from keras.models import Sequential\n",
    "from keras.layers import Convolution2D, MaxPooling2D, Flatten, Dense, Dropout, GlobalAveragePooling2D\n",
    "from keras.applications import VGG16\n",
    "from skimage.feature import hog\n",
    "from skimage import data, exposure\n",
    "import random\n",
    "from keras import layers, losses\n",
    "from keras.models import Model\n",
    "from sklearn.metrics import classification_report, accuracy_score, matthews_corrcoef, confusion_matrix\n",
    "from sklearn.model_selection import GridSearchCV\n",
    "from sklearn.metrics import classification_report\n",
    "import seaborn as sns\n",
    "from sklearn.multiclass import OneVsRestClassifier\n",
    "from sklearn.svm import SVC\n",
    "import math\n",
    "from keras.utils.np_utils import to_categorical\n",
    "from sklearn.metrics import classification_report, confusion_matrix"
   ]
  },
  {
   "cell_type": "code",
   "execution_count": 2,
   "metadata": {},
   "outputs": [],
   "source": [
    "def display(img):\n",
    "    plt.imshow(img)\n",
    "    plt.show()\n",
    "\n",
    "def prediction_metrics(model, X_test, y_test, classes):\n",
    "    preds = []\n",
    "    truth = []\n",
    "    y_hat = model.predict(X_test)\n",
    "\n",
    "    for i in range(X_test.shape[0]):\n",
    "        \n",
    "        predict_index = np.argmax(y_hat[i])\n",
    "        preds.append(predict_index) \n",
    "        \n",
    "        true_index = np.argmax(y_test[i])\n",
    "        truth.append(true_index)\n",
    "        \n",
    "    mcc = matthews_corrcoef(truth, preds)\n",
    "    print(\"MCC: \", mcc)\n",
    "    label = list(set(classes))\n",
    "    cm = confusion_matrix(truth, preds)\n",
    "    sns.heatmap(cm, annot=True, cmap=\"Blues\", fmt=\"d\", xticklabels=label, yticklabels=label)\n",
    "    plt.xlabel('Predicted Label')\n",
    "    plt.ylabel('True Label')\n",
    "    plt.title('Confusion Matrix')\n",
    "    plt.show()\n",
    "    print(classification_report(truth, preds))"
   ]
  },
  {
   "attachments": {},
   "cell_type": "markdown",
   "metadata": {},
   "source": [
    "## 1) Data Retrieval"
   ]
  },
  {
   "cell_type": "code",
   "execution_count": 3,
   "metadata": {},
   "outputs": [
    {
     "name": "stdout",
     "output_type": "stream",
     "text": [
      "Total samples: 23708\n",
      "100_0_0_20170112213500903.jpg.chip.jpg\n"
     ]
    }
   ],
   "source": [
    "#path server\n",
    "#path = \"/UTKFace/\"\n",
    "#path martim\n",
    "#path = \"../../../../DadosProj/UTKFace/\"\n",
    "#path alex\n",
    "path = \"../../../data_project/UTKFace/\"\n",
    "\n",
    "files = os.listdir(path)\n",
    "size = len(files)\n",
    "print(\"Total samples:\",size)\n",
    "print(files[0])"
   ]
  },
  {
   "attachments": {},
   "cell_type": "markdown",
   "metadata": {},
   "source": [
    "## 2) Data Preprocessing"
   ]
  },
  {
   "attachments": {},
   "cell_type": "markdown",
   "metadata": {},
   "source": [
    "**Changes to images with opencv methods**\n",
    "\n",
    "- Obtain better contrast for images normalizing the ranges for colors for a pixel between 0 and 255\n",
    " - instance = cv2.normalize(instance, None, alpha=0, beta=255, norm_type=cv2.NORM_MINMAX)\n",
    "\n",
    "- Converting to YUV color model, equalizing color histogram to modify \n",
    "- distribution of colors taking luminosity into account and\n",
    "- reconverting to RBG after doing histogram equalization\n",
    "    - img_yuv = cv2.cvtColor(instance, cv2.COLOR_BGR2YUV)\n",
    "    - img_yuv[:,:,0] = cv2.equalizeHist(img_yuv[:,:,0])\n",
    "    - instance = cv2.cvtColor(img_yuv, cv2.COLOR_YUV2BGR)"
   ]
  },
  {
   "cell_type": "code",
   "execution_count": 4,
   "metadata": {},
   "outputs": [],
   "source": [
    "images = []\n",
    "ages = []\n",
    "genders = []\n",
    "ethnicities = []\n",
    "counter = 0\n",
    "\n",
    "for file in files:\n",
    "    if counter == 50:\n",
    "        break\n",
    "    \n",
    "    image = cv2.imread(path+file)\n",
    "    image = cv2.cvtColor(image, cv2.COLOR_BGR2RGB)\n",
    "    image = cv2.resize(image, dsize=(200, 200))\n",
    "    image = image.reshape((image.shape[0], image.shape[1], 3)) ### A ausencia deste ponto  estava a causar o erro no ORB\n",
    "    #image = image / 255.0 #normalizing values on each point \n",
    "    \n",
    "    images.append(image)\n",
    "    delimit = file.split('_')\n",
    "    ages.append(int(delimit[0]))\n",
    "    # first number is age (0-116 possible values)\n",
    "    genders.append(int(delimit[1]))\n",
    "    # second number is gender (0 for male, 1 for female)\n",
    "    #ethnicities.append(int(delimit[2]))\n",
    "    # third number is ethnicity (0 for white, 1 for black, 2 for asian, 3 for indian, 4 for any other ethnicity)\n",
    "\n",
    "    counter += 1"
   ]
  },
  {
   "cell_type": "code",
   "execution_count": 5,
   "metadata": {},
   "outputs": [],
   "source": [
    "X = np.squeeze(images)"
   ]
  },
  {
   "attachments": {},
   "cell_type": "markdown",
   "metadata": {},
   "source": [
    "##### Age Classes Separation\n",
    "\n",
    "Classes choosen based on [US National Institute of Health](https://www.nih.gov/nih-style-guide/age):\n",
    "\n",
    "- Neonates or newborns (birth to 1 month)\n",
    "- Infants (1 month to 1 year)\n",
    "- Children (1 year through 12 years)\n",
    "- Adolescents (13 years through 17 years. They may also be referred to as teenagers depending on the context.)\n",
    "- Adults (18 years or older)\n",
    "- Older adults (65 and older)"
   ]
  },
  {
   "cell_type": "code",
   "execution_count": 6,
   "metadata": {},
   "outputs": [
    {
     "name": "stdout",
     "output_type": "stream",
     "text": [
      "<class 'list'>\n",
      "50\n",
      "[100, 101, 103, 105, 10]\n"
     ]
    }
   ],
   "source": [
    "print(type(ages))\n",
    "print(len(ages))\n",
    "unique_values = list(set(ages))\n",
    "print(unique_values)"
   ]
  },
  {
   "cell_type": "code",
   "execution_count": 7,
   "metadata": {},
   "outputs": [],
   "source": [
    "age_classes = []\n",
    "for i in ages:\n",
    "    i = int(i)\n",
    "    if i <= 1:\n",
    "        age_classes.append(0)\n",
    "    if (i>1) and (i<=13):\n",
    "        age_classes.append(1)\n",
    "    if (i>13) and (i<17):\n",
    "        age_classes.append(2)\n",
    "    if (i>=17) and (i<30):\n",
    "        age_classes.append(3)\n",
    "    if (i>=30) and (i<60):\n",
    "        age_classes.append(4)\n",
    "    if i>=60:\n",
    "        age_classes.append(5)"
   ]
  },
  {
   "cell_type": "code",
   "execution_count": 8,
   "metadata": {},
   "outputs": [],
   "source": [
    "age_labels = [\"Baby\",   # index 0\n",
    "        \"Infant\",       # index 1\n",
    "        \"Adolescent\",   # index 2 \n",
    "        \"Young Adult\",  # index 3 \n",
    "        \"Adult\"         # index 4\n",
    "        \"Old Adult\",    # index 5\n",
    "        ]"
   ]
  },
  {
   "cell_type": "code",
   "execution_count": 9,
   "metadata": {},
   "outputs": [
    {
     "data": {
      "text/plain": [
       "array([[0., 0., 0., 0., 0., 1.],\n",
       "       [0., 0., 0., 0., 0., 1.],\n",
       "       [0., 0., 0., 0., 0., 1.],\n",
       "       [0., 0., 0., 0., 0., 1.],\n",
       "       [0., 0., 0., 0., 0., 1.],\n",
       "       [0., 0., 0., 0., 0., 1.],\n",
       "       [0., 0., 0., 0., 0., 1.],\n",
       "       [0., 0., 0., 0., 0., 1.],\n",
       "       [0., 0., 0., 0., 0., 1.],\n",
       "       [0., 0., 0., 0., 0., 1.],\n",
       "       [0., 0., 0., 0., 0., 1.],\n",
       "       [0., 0., 0., 0., 0., 1.],\n",
       "       [0., 0., 0., 0., 0., 1.],\n",
       "       [0., 0., 0., 0., 0., 1.],\n",
       "       [0., 0., 0., 0., 0., 1.],\n",
       "       [0., 0., 0., 0., 0., 1.],\n",
       "       [0., 0., 0., 0., 0., 1.],\n",
       "       [0., 0., 0., 0., 0., 1.],\n",
       "       [0., 0., 0., 0., 0., 1.],\n",
       "       [0., 1., 0., 0., 0., 0.]], dtype=float32)"
      ]
     },
     "execution_count": 9,
     "metadata": {},
     "output_type": "execute_result"
    }
   ],
   "source": [
    "age_categories = to_categorical(age_classes, num_classes=6)\n",
    "age_categories[:20]"
   ]
  },
  {
   "cell_type": "code",
   "execution_count": 10,
   "metadata": {},
   "outputs": [
    {
     "name": "stdout",
     "output_type": "stream",
     "text": [
      "50\n",
      "<class 'list'>\n",
      "[1, 5]\n"
     ]
    }
   ],
   "source": [
    "print(len(age_classes))\n",
    "print(type(age_classes))\n",
    "unique_values = list(set(age_classes))\n",
    "print(unique_values)"
   ]
  },
  {
   "cell_type": "code",
   "execution_count": 11,
   "metadata": {},
   "outputs": [
    {
     "data": {
      "image/png": "[encoded data removed]",
      "text/plain": [
       "<Figure size 432x288 with 1 Axes>"
      ]
     },
     "metadata": {
      "needs_background": "light"
     },
     "output_type": "display_data"
    },
    {
     "name": "stdout",
     "output_type": "stream",
     "text": [
      "Max value: 1\n"
     ]
    }
   ],
   "source": [
    "x_genders = list(set(genders))\n",
    "y_genders= [genders.count(i) for i in x_genders]\n",
    "plt.bar(x_genders,y_genders)\n",
    "plt.show()\n",
    "print(\"Max value:\",max(genders))"
   ]
  },
  {
   "cell_type": "code",
   "execution_count": 12,
   "metadata": {},
   "outputs": [
    {
     "data": {
      "image/png": "[encoded data removed]",
      "text/plain": [
       "<Figure size 432x288 with 1 Axes>"
      ]
     },
     "metadata": {
      "needs_background": "light"
     },
     "output_type": "display_data"
    },
    {
     "name": "stdout",
     "output_type": "stream",
     "text": [
      "Max value: 5\n"
     ]
    }
   ],
   "source": [
    "x_ages = list(set(age_classes))\n",
    "y_ages = [age_classes.count(i) for i in x_ages]\n",
    "plt.bar(x_ages,y_ages)\n",
    "plt.show()\n",
    "print(\"Max value:\",max(age_classes))"
   ]
  },
  {
   "cell_type": "code",
   "execution_count": 45,
   "metadata": {},
   "outputs": [
    {
     "name": "stdout",
     "output_type": "stream",
     "text": [
      "age\n",
      " 1    31\n",
      "5    19\n",
      "Name: age, dtype: int64\n",
      "gender\n",
      " 0    36\n",
      "1    14\n",
      "Name: gender, dtype: int64\n"
     ]
    }
   ],
   "source": [
    "img_all = pd.DataFrame()\n",
    "img_all[\"age\"] = age_classes\n",
    "img_all[\"gender\"] = genders\n",
    "\n",
    "img_gender = pd.DataFrame()\n",
    "img_gender[\"gender\"] = genders\n",
    "\n",
    "img_age = pd.DataFrame()\n",
    "img_age[\"age\"] = age_classes\n",
    "\n",
    "print(\"age\\n\", img_age.age.value_counts())\n",
    "print(\"gender\\n\", img_gender.gender.value_counts())"
   ]
  },
  {
   "cell_type": "code",
   "execution_count": 46,
   "metadata": {},
   "outputs": [
    {
     "name": "stdout",
     "output_type": "stream",
     "text": [
      "Gender Class: 1 Age Class: 5\n"
     ]
    },
    {
     "data": {
      "image/png": "[encoded data removed]",
      "text/plain": [
       "<Figure size 432x288 with 1 Axes>"
      ]
     },
     "metadata": {
      "needs_background": "light"
     },
     "output_type": "display_data"
    }
   ],
   "source": [
    "idx = 9\n",
    "if idx < len(images):\n",
    "    sample = images[idx]\n",
    "    print(\"Gender Class:\", genders[idx], \"Age Class:\", age_classes[idx])\n",
    "    display(sample)\n",
    "else:\n",
    "    print(f\"Index {idx} is out of range for the list of {len(images)} images\")"
   ]
  },
  {
   "attachments": {},
   "cell_type": "markdown",
   "metadata": {},
   "source": [
    "## 3) Using preset data"
   ]
  },
  {
   "attachments": {},
   "cell_type": "markdown",
   "metadata": {},
   "source": [
    "### 3.1) Base SVM with grid search parameter tuning"
   ]
  },
  {
   "attachments": {},
   "cell_type": "markdown",
   "metadata": {},
   "source": [
    "#### Base SVM image preparation"
   ]
  },
  {
   "cell_type": "code",
   "execution_count": 13,
   "metadata": {},
   "outputs": [
    {
     "name": "stdout",
     "output_type": "stream",
     "text": [
      "(50, 120000)\n"
     ]
    }
   ],
   "source": [
    "flattened_images = []\n",
    "\n",
    "for image in images:\n",
    "    flattened_image = image.flatten()\n",
    "    flattened_images.append(flattened_image)\n",
    "\n",
    "flattened_images_array = np.array(flattened_images)\n",
    "\n",
    "print(flattened_images_array.shape)"
   ]
  },
  {
   "cell_type": "code",
   "execution_count": 14,
   "metadata": {},
   "outputs": [],
   "source": [
    "#for i, arr in enumerate(flattened_images_array):\n",
    "#    print(f\"Descriptor array {i} shape: {arr.shape}\")"
   ]
  },
  {
   "attachments": {},
   "cell_type": "markdown",
   "metadata": {},
   "source": [
    "#### Predicting Gender"
   ]
  },
  {
   "cell_type": "code",
   "execution_count": 15,
   "metadata": {},
   "outputs": [],
   "source": [
    "X_train, X_test, y_train, y_test = train_test_split(flattened_images_array, genders, test_size=0.2, random_state=42)\n",
    "#print(\"Samples in Training:\",X_train.shape[0])\n",
    "#print(\"Samples in Testing:\",X_test.shape[0])"
   ]
  },
  {
   "cell_type": "code",
   "execution_count": 16,
   "metadata": {},
   "outputs": [
    {
     "name": "stdout",
     "output_type": "stream",
     "text": [
      "MCC:  0.0\n",
      "              precision    recall  f1-score   support\n",
      "\n",
      "           0       0.90      1.00      0.95         9\n",
      "           1       0.00      0.00      0.00         1\n",
      "\n",
      "    accuracy                           0.90        10\n",
      "   macro avg       0.45      0.50      0.47        10\n",
      "weighted avg       0.81      0.90      0.85        10\n",
      "\n"
     ]
    },
    {
     "name": "stderr",
     "output_type": "stream",
     "text": [
      "c:\\Users\\afbso\\anaconda3\\lib\\site-packages\\sklearn\\metrics\\_classification.py:1318: UndefinedMetricWarning: Precision and F-score are ill-defined and being set to 0.0 in labels with no predicted samples. Use `zero_division` parameter to control this behavior.\n",
      "  _warn_prf(average, modifier, msg_start, len(result))\n",
      "c:\\Users\\afbso\\anaconda3\\lib\\site-packages\\sklearn\\metrics\\_classification.py:1318: UndefinedMetricWarning: Precision and F-score are ill-defined and being set to 0.0 in labels with no predicted samples. Use `zero_division` parameter to control this behavior.\n",
      "  _warn_prf(average, modifier, msg_start, len(result))\n",
      "c:\\Users\\afbso\\anaconda3\\lib\\site-packages\\sklearn\\metrics\\_classification.py:1318: UndefinedMetricWarning: Precision and F-score are ill-defined and being set to 0.0 in labels with no predicted samples. Use `zero_division` parameter to control this behavior.\n",
      "  _warn_prf(average, modifier, msg_start, len(result))\n"
     ]
    },
    {
     "data": {
      "image/png": "[encoded data removed]",
      "text/plain": [
       "<Figure size 432x288 with 2 Axes>"
      ]
     },
     "metadata": {
      "needs_background": "light"
     },
     "output_type": "display_data"
    }
   ],
   "source": [
    "clf = SVC()\n",
    "clf.fit(X_train, y_train)\n",
    "\n",
    "# Evaluate the classifier on the testing data\n",
    "y_pred = clf.predict(X_test)\n",
    "\n",
    "mcc = matthews_corrcoef(y_test, y_pred)\n",
    "#accuracy = accuracy_score(y_test, y_pred)\n",
    "print(\"MCC: \", mcc)\n",
    "#print(\"Accuracy: \", accuracy)\n",
    "print(classification_report(y_test, y_pred))\n",
    "#confusion_matrix(y_test, y_pred)\n",
    "\n",
    "labelGender = list(set(genders))\n",
    "\n",
    "# assume y_true and y_pred are the true and predicted labels, respectively\n",
    "cm = confusion_matrix(y_test, y_pred)\n",
    "\n",
    "# create a heatmap of the confusion matrix using seaborn\n",
    "sns.heatmap(cm, annot=True, cmap=\"Blues\", fmt=\"d\", xticklabels=labelGender, yticklabels=labelGender)\n",
    "\n",
    "# set plot labels and title\n",
    "plt.xlabel('Predicted Label')\n",
    "plt.ylabel('True Label')\n",
    "plt.title('Confusion Matrix')\n",
    "\n",
    "plt.show()"
   ]
  },
  {
   "attachments": {},
   "cell_type": "markdown",
   "metadata": {},
   "source": [
    "#### Predicting Age"
   ]
  },
  {
   "cell_type": "code",
   "execution_count": 51,
   "metadata": {},
   "outputs": [],
   "source": [
    "X_train, X_test, y_train, y_test = train_test_split(flattened_images_array, age_categories, test_size=0.2, random_state=42)\n",
    "#print(\"Samples in Training:\",X_train.shape[0])\n",
    "#print(\"Samples in Testing:\",X_test.shape[0])"
   ]
  },
  {
   "cell_type": "code",
   "execution_count": 52,
   "metadata": {},
   "outputs": [
    {
     "name": "stderr",
     "output_type": "stream",
     "text": [
      "c:\\Users\\afbso\\anaconda3\\lib\\site-packages\\sklearn\\multiclass.py:79: UserWarning: Label not 0 is present in all training examples.\n",
      "  warnings.warn(\n",
      "c:\\Users\\afbso\\anaconda3\\lib\\site-packages\\sklearn\\multiclass.py:79: UserWarning: Label not 2 is present in all training examples.\n",
      "  warnings.warn(\n",
      "c:\\Users\\afbso\\anaconda3\\lib\\site-packages\\sklearn\\multiclass.py:79: UserWarning: Label not 3 is present in all training examples.\n",
      "  warnings.warn(\n",
      "c:\\Users\\afbso\\anaconda3\\lib\\site-packages\\sklearn\\multiclass.py:79: UserWarning: Label not 4 is present in all training examples.\n",
      "  warnings.warn(\n"
     ]
    },
    {
     "name": "stdout",
     "output_type": "stream",
     "text": [
      "MCC:  0.3061862178478973\n",
      "              precision    recall  f1-score   support\n",
      "\n",
      "           0       0.00      0.00      0.00         0\n",
      "           1       1.00      0.75      0.86         8\n",
      "           5       0.00      0.00      0.00         2\n",
      "\n",
      "    accuracy                           0.60        10\n",
      "   macro avg       0.33      0.25      0.29        10\n",
      "weighted avg       0.80      0.60      0.69        10\n",
      "\n"
     ]
    },
    {
     "name": "stderr",
     "output_type": "stream",
     "text": [
      "c:\\Users\\afbso\\anaconda3\\lib\\site-packages\\sklearn\\metrics\\_classification.py:1318: UndefinedMetricWarning: Precision and F-score are ill-defined and being set to 0.0 in labels with no predicted samples. Use `zero_division` parameter to control this behavior.\n",
      "  _warn_prf(average, modifier, msg_start, len(result))\n",
      "c:\\Users\\afbso\\anaconda3\\lib\\site-packages\\sklearn\\metrics\\_classification.py:1318: UndefinedMetricWarning: Recall and F-score are ill-defined and being set to 0.0 in labels with no true samples. Use `zero_division` parameter to control this behavior.\n",
      "  _warn_prf(average, modifier, msg_start, len(result))\n",
      "c:\\Users\\afbso\\anaconda3\\lib\\site-packages\\sklearn\\metrics\\_classification.py:1318: UndefinedMetricWarning: Precision and F-score are ill-defined and being set to 0.0 in labels with no predicted samples. Use `zero_division` parameter to control this behavior.\n",
      "  _warn_prf(average, modifier, msg_start, len(result))\n",
      "c:\\Users\\afbso\\anaconda3\\lib\\site-packages\\sklearn\\metrics\\_classification.py:1318: UndefinedMetricWarning: Recall and F-score are ill-defined and being set to 0.0 in labels with no true samples. Use `zero_division` parameter to control this behavior.\n",
      "  _warn_prf(average, modifier, msg_start, len(result))\n",
      "c:\\Users\\afbso\\anaconda3\\lib\\site-packages\\sklearn\\metrics\\_classification.py:1318: UndefinedMetricWarning: Precision and F-score are ill-defined and being set to 0.0 in labels with no predicted samples. Use `zero_division` parameter to control this behavior.\n",
      "  _warn_prf(average, modifier, msg_start, len(result))\n",
      "c:\\Users\\afbso\\anaconda3\\lib\\site-packages\\sklearn\\metrics\\_classification.py:1318: UndefinedMetricWarning: Recall and F-score are ill-defined and being set to 0.0 in labels with no true samples. Use `zero_division` parameter to control this behavior.\n",
      "  _warn_prf(average, modifier, msg_start, len(result))\n"
     ]
    },
    {
     "data": {
      "image/png": "[encoded data removed]",
      "text/plain": [
       "<Figure size 432x288 with 2 Axes>"
      ]
     },
     "metadata": {
      "needs_background": "light"
     },
     "output_type": "display_data"
    }
   ],
   "source": [
    "clf = OneVsRestClassifier(SVC())\n",
    "clf.fit(X_train, y_train)\n",
    "\n",
    "# Convert one-hot encoded labels to integer form\n",
    "y_pred = clf.predict(X_test)\n",
    "\n",
    "y_test_int = np.argmax(y_test, axis=1)\n",
    "y_pred_int = np.argmax(y_pred, axis=1)\n",
    "\n",
    "# Print classification report and confusion matrix\n",
    "mcc = matthews_corrcoef(y_test_int, y_pred_int)\n",
    "\n",
    "#accuracy = accuracy_score(y_test, y_pred)\n",
    "print(\"MCC: \", mcc)\n",
    "#print(\"Accuracy: \", accuracy)\n",
    "print(classification_report(y_test_int, y_pred_int))\n",
    "#confusion_matrix(y_test, y_pred)\n",
    "labelage= list(set(age_classes))\n",
    "# assume y_true and y_pred are the true and predicted labels, respectively\n",
    "cm = confusion_matrix(y_test_int, y_pred_int)\n",
    "# create a heatmap of the confusion matrix using seaborn\n",
    "sns.heatmap(cm, annot=True, cmap=\"Blues\", fmt=\"d\", xticklabels=labelage, yticklabels=labelage)\n",
    "# set plot labels and title\n",
    "plt.xlabel('Predicted Label')\n",
    "plt.ylabel('True Label')\n",
    "plt.title('Confusion Matrix')\n",
    "\n",
    "plt.show()"
   ]
  },
  {
   "attachments": {},
   "cell_type": "markdown",
   "metadata": {},
   "source": [
    "### 3.2) Base CNN"
   ]
  },
  {
   "cell_type": "code",
   "execution_count": 17,
   "metadata": {},
   "outputs": [],
   "source": [
    "def CNN (input_shape, output, activation):\n",
    "    model = tf.keras.Sequential()\n",
    "\n",
    "    # Must define the input shape in the first layer of the neural network\n",
    "    \n",
    "    model.add(tf.keras.layers.Conv2D(filters=64, kernel_size=2, padding='same', activation='relu', input_shape = input_shape)) \n",
    "    model.add(tf.keras.layers.MaxPooling2D(pool_size=2))\n",
    "    model.add(tf.keras.layers.Dropout(0.3))\n",
    "\n",
    "    model.add(tf.keras.layers.Conv2D(filters=32, kernel_size=2, padding='same', activation='relu'))\n",
    "    model.add(tf.keras.layers.MaxPooling2D(pool_size=2))\n",
    "    model.add(tf.keras.layers.Dropout(0.3))\n",
    "\n",
    "    \"\"\"model.add(tf.keras.layers.Conv2D(filters=16, kernel_size=2, padding='same', activation='relu'))\n",
    "    model.add(tf.keras.layers.MaxPooling2D(pool_size=2))\n",
    "    model.add(tf.keras.layers.Dropout(0.3))\"\"\"\n",
    "\n",
    "    model.add(tf.keras.layers.Flatten())\n",
    "    model.add(tf.keras.layers.Dense(256, activation='relu'))\n",
    "    model.add(tf.keras.layers.Dropout(0.5))\n",
    "    model.add(tf.keras.layers.Dense(output, activation=activation))\n",
    "    \n",
    "    model.summary()\n",
    "    \n",
    "    return model\n",
    "\n",
    "#otimizar 2k\n",
    "#adicionar mais conv?\n",
    "#Dropout antes do flaten apenas\n",
    "#Mexer otimizador (lr)\n",
    "#implementar early stoping (). Early Stoping tem patience: e.g., 10 epcohs, ele espera 10 epochs antes de parar.\n",
    "#ir gravando cnn no servidor"
   ]
  },
  {
   "attachments": {},
   "cell_type": "markdown",
   "metadata": {},
   "source": [
    "#### Predicting Gender"
   ]
  },
  {
   "cell_type": "code",
   "execution_count": 18,
   "metadata": {},
   "outputs": [],
   "source": [
    "X_train, X_test, y_train, y_test = train_test_split(X, genders, test_size=0.2, random_state=42)"
   ]
  },
  {
   "cell_type": "code",
   "execution_count": 55,
   "metadata": {},
   "outputs": [],
   "source": [
    "X_train = np.asarray(X_train)\n",
    "y_train = np.asarray(y_train)\n",
    "\n",
    "X_test = np.asarray(X_test)\n",
    "y_test = np.asarray(y_test)"
   ]
  },
  {
   "cell_type": "code",
   "execution_count": 56,
   "metadata": {},
   "outputs": [
    {
     "name": "stdout",
     "output_type": "stream",
     "text": [
      "Model: \"sequential\"\n",
      "_________________________________________________________________\n",
      " Layer (type)                Output Shape              Param #   \n",
      "=================================================================\n",
      " conv2d (Conv2D)             (None, 200, 200, 64)      832       \n",
      "                                                                 \n",
      " max_pooling2d (MaxPooling2D  (None, 100, 100, 64)     0         \n",
      " )                                                               \n",
      "                                                                 \n",
      " dropout (Dropout)           (None, 100, 100, 64)      0         \n",
      "                                                                 \n",
      " conv2d_1 (Conv2D)           (None, 100, 100, 32)      8224      \n",
      "                                                                 \n",
      " max_pooling2d_1 (MaxPooling  (None, 50, 50, 32)       0         \n",
      " 2D)                                                             \n",
      "                                                                 \n",
      " dropout_1 (Dropout)         (None, 50, 50, 32)        0         \n",
      "                                                                 \n",
      " flatten (Flatten)           (None, 80000)             0         \n",
      "                                                                 \n",
      " dense (Dense)               (None, 256)               20480256  \n",
      "                                                                 \n",
      " dropout_2 (Dropout)         (None, 256)               0         \n",
      "                                                                 \n",
      " dense_1 (Dense)             (None, 1)                 257       \n",
      "                                                                 \n",
      "=================================================================\n",
      "Total params: 20,489,569\n",
      "Trainable params: 20,489,569\n",
      "Non-trainable params: 0\n",
      "_________________________________________________________________\n"
     ]
    }
   ],
   "source": [
    "model = CNN((200,200,3), 1, 'sigmoid')"
   ]
  },
  {
   "cell_type": "code",
   "execution_count": 57,
   "metadata": {},
   "outputs": [
    {
     "name": "stdout",
     "output_type": "stream",
     "text": [
      "Epoch 1/3\n",
      "2/2 [==============================] - 3s 945ms/step - loss: 182.4844 - val_loss: 2072.6130\n",
      "Epoch 2/3\n",
      "2/2 [==============================] - 2s 502ms/step - loss: 2597.7251 - val_loss: 128.7627\n",
      "Epoch 3/3\n",
      "2/2 [==============================] - 2s 535ms/step - loss: 1107.2129 - val_loss: 156.7246\n"
     ]
    }
   ],
   "source": [
    "#for age use categorical_crossentropy instead\n",
    "model.compile(optimizer=\"adam\", loss=\"binary_crossentropy\")\n",
    "\n",
    "history_base_gender = model.fit(X_train, y_train,\n",
    "                    epochs=3,\n",
    "                    batch_size=32,\n",
    "                    validation_data=(X_test, y_test))"
   ]
  },
  {
   "cell_type": "code",
   "execution_count": 58,
   "metadata": {},
   "outputs": [
    {
     "name": "stdout",
     "output_type": "stream",
     "text": [
      "1/1 [==============================] - 0s 311ms/step\n",
      "MCC:  0.0\n"
     ]
    },
    {
     "data": {
      "image/png": "[encoded data removed]",
      "text/plain": [
       "<Figure size 432x288 with 2 Axes>"
      ]
     },
     "metadata": {
      "needs_background": "light"
     },
     "output_type": "display_data"
    },
    {
     "name": "stdout",
     "output_type": "stream",
     "text": [
      "              precision    recall  f1-score   support\n",
      "\n",
      "           0       1.00      1.00      1.00        10\n",
      "\n",
      "    accuracy                           1.00        10\n",
      "   macro avg       1.00      1.00      1.00        10\n",
      "weighted avg       1.00      1.00      1.00        10\n",
      "\n"
     ]
    }
   ],
   "source": [
    "prediction_metrics(model, X_test, y_test, age_classes)"
   ]
  },
  {
   "attachments": {},
   "cell_type": "markdown",
   "metadata": {},
   "source": [
    "#### Predicting Age"
   ]
  },
  {
   "cell_type": "code",
   "execution_count": 59,
   "metadata": {},
   "outputs": [],
   "source": [
    "X_train, X_test, y_train, y_test = train_test_split(X, age_categories, test_size = 0.2, shuffle = True)"
   ]
  },
  {
   "cell_type": "code",
   "execution_count": 60,
   "metadata": {},
   "outputs": [
    {
     "name": "stdout",
     "output_type": "stream",
     "text": [
      "Model: \"sequential_1\"\n",
      "_________________________________________________________________\n",
      " Layer (type)                Output Shape              Param #   \n",
      "=================================================================\n",
      " conv2d_2 (Conv2D)           (None, 200, 200, 64)      832       \n",
      "                                                                 \n",
      " max_pooling2d_2 (MaxPooling  (None, 100, 100, 64)     0         \n",
      " 2D)                                                             \n",
      "                                                                 \n",
      " dropout_3 (Dropout)         (None, 100, 100, 64)      0         \n",
      "                                                                 \n",
      " conv2d_3 (Conv2D)           (None, 100, 100, 32)      8224      \n",
      "                                                                 \n",
      " max_pooling2d_3 (MaxPooling  (None, 50, 50, 32)       0         \n",
      " 2D)                                                             \n",
      "                                                                 \n",
      " dropout_4 (Dropout)         (None, 50, 50, 32)        0         \n",
      "                                                                 \n",
      " flatten_1 (Flatten)         (None, 80000)             0         \n",
      "                                                                 \n",
      " dense_2 (Dense)             (None, 256)               20480256  \n",
      "                                                                 \n",
      " dropout_5 (Dropout)         (None, 256)               0         \n",
      "                                                                 \n",
      " dense_3 (Dense)             (None, 6)                 1542      \n",
      "                                                                 \n",
      "=================================================================\n",
      "Total params: 20,490,854\n",
      "Trainable params: 20,490,854\n",
      "Non-trainable params: 0\n",
      "_________________________________________________________________\n"
     ]
    }
   ],
   "source": [
    "model = CNN((200,200,3), 6, 'softmax')"
   ]
  },
  {
   "cell_type": "code",
   "execution_count": 61,
   "metadata": {},
   "outputs": [
    {
     "name": "stdout",
     "output_type": "stream",
     "text": [
      "Epoch 1/2\n",
      "5/5 [==============================] - 3s 482ms/step - loss: 1071.8577 - accuracy: 0.4000 - val_loss: 318.3546 - val_accuracy: 0.6000\n",
      "Epoch 2/2\n",
      "5/5 [==============================] - 2s 462ms/step - loss: 703.1680 - accuracy: 0.6250 - val_loss: 12.6955 - val_accuracy: 0.5000\n"
     ]
    }
   ],
   "source": [
    "model.compile(loss='categorical_crossentropy',\n",
    "            optimizer='adam',\n",
    "            metrics=['accuracy'])\n",
    "\n",
    "history_base_age = model.fit(X_train, y_train,\n",
    "        batch_size=8,\n",
    "        epochs=2,\n",
    "        validation_data=(X_test, y_test),)"
   ]
  },
  {
   "cell_type": "code",
   "execution_count": 62,
   "metadata": {},
   "outputs": [
    {
     "name": "stdout",
     "output_type": "stream",
     "text": [
      "1/1 [==============================] - 0s 165ms/step\n",
      "MCC:  0.0\n"
     ]
    },
    {
     "data": {
      "image/png": "[encoded data removed]",
      "text/plain": [
       "<Figure size 432x288 with 2 Axes>"
      ]
     },
     "metadata": {
      "needs_background": "light"
     },
     "output_type": "display_data"
    },
    {
     "name": "stdout",
     "output_type": "stream",
     "text": [
      "              precision    recall  f1-score   support\n",
      "\n",
      "           1       0.60      0.50      0.55         6\n",
      "           5       0.40      0.50      0.44         4\n",
      "\n",
      "    accuracy                           0.50        10\n",
      "   macro avg       0.50      0.50      0.49        10\n",
      "weighted avg       0.52      0.50      0.51        10\n",
      "\n"
     ]
    }
   ],
   "source": [
    "prediction_metrics(model, X_test, y_test, age_classes)"
   ]
  },
  {
   "attachments": {},
   "cell_type": "markdown",
   "metadata": {},
   "source": [
    "## 4) Using Feature extraction methods on data - Histogram of Oriented Gradients (HOG)"
   ]
  },
  {
   "attachments": {},
   "cell_type": "markdown",
   "metadata": {},
   "source": [
    "### Extraction with HOG"
   ]
  },
  {
   "cell_type": "code",
   "execution_count": 63,
   "metadata": {},
   "outputs": [
    {
     "data": {
      "image/png": "[encoded data removed]",
      "text/plain": [
       "<Figure size 432x288 with 1 Axes>"
      ]
     },
     "metadata": {
      "needs_background": "light"
     },
     "output_type": "display_data"
    }
   ],
   "source": [
    "image_check = images[25]\n",
    "\n",
    "# define HOG parameters\n",
    "orientations = 9\n",
    "pixels_per_cell = (8, 8)\n",
    "cells_per_block = (2, 2)\n",
    "\n",
    "# compute HOG features and visualize them\n",
    "hog_features, hog_image = hog(image_check, orientations=9, pixels_per_cell=(8, 8),\n",
    "                    cells_per_block=(2, 2), transform_sqrt=True, feature_vector=True, visualize=True,channel_axis=2)\n",
    "\n",
    "\n",
    "\n",
    "# rescale image intensity for better visualization\n",
    "#hog_image_rescaled = exposure.rescale_intensity(hog_image, in_range=(0, 10))\n",
    "\n",
    "# display HOG features\n",
    "plt.imshow(hog_image)\n",
    "plt.show()"
   ]
  },
  {
   "cell_type": "code",
   "execution_count": 64,
   "metadata": {},
   "outputs": [],
   "source": [
    "# Extract HOG features from the images\n",
    "hog_features = []\n",
    "for img in images:\n",
    "    #hog_feature = hog(img, orientations=9, pixels_per_cell=(8, 8),\n",
    "    #                cells_per_block=(2, 2), transform_sqrt=True, feature_vector=True, multichannel=True, channel_axis=2)\n",
    "    hog_feature = hog(img, orientations=9, pixels_per_cell=(8, 8),\n",
    "                    cells_per_block=(2, 2), transform_sqrt=True, feature_vector=True, channel_axis=2)\n",
    "    \n",
    "    hog_features.append(hog_feature)\n",
    "hog_features = np.array(hog_features)\n",
    "\n",
    "# Normalize the features to have zero mean and unit variance\n",
    "mean = np.mean(hog_features, axis=0)\n",
    "std = np.std(hog_features, axis=0)\n",
    "hog_features_norm = (hog_features - mean) / std"
   ]
  },
  {
   "cell_type": "code",
   "execution_count": 65,
   "metadata": {},
   "outputs": [],
   "source": [
    "#for i, arr in enumerate(hog_features_norm):\n",
    "#    print(f\"Descriptor array {i} shape: {arr.shape}\")"
   ]
  },
  {
   "attachments": {},
   "cell_type": "markdown",
   "metadata": {},
   "source": [
    "### 4.1) SVM with grid search parameter tuning using features extracted from HOG"
   ]
  },
  {
   "attachments": {},
   "cell_type": "markdown",
   "metadata": {},
   "source": [
    "#### Predicting Gender"
   ]
  },
  {
   "cell_type": "code",
   "execution_count": 66,
   "metadata": {},
   "outputs": [],
   "source": [
    "X_train, X_test, y_train, y_test = train_test_split(hog_features_norm, genders, test_size=0.2, random_state=42)"
   ]
  },
  {
   "cell_type": "code",
   "execution_count": 67,
   "metadata": {},
   "outputs": [
    {
     "name": "stdout",
     "output_type": "stream",
     "text": [
      "MCC:  0.0\n",
      "              precision    recall  f1-score   support\n",
      "\n",
      "           0       0.90      1.00      0.95         9\n",
      "           1       0.00      0.00      0.00         1\n",
      "\n",
      "    accuracy                           0.90        10\n",
      "   macro avg       0.45      0.50      0.47        10\n",
      "weighted avg       0.81      0.90      0.85        10\n",
      "\n"
     ]
    },
    {
     "name": "stderr",
     "output_type": "stream",
     "text": [
      "c:\\Users\\afbso\\anaconda3\\lib\\site-packages\\sklearn\\metrics\\_classification.py:1318: UndefinedMetricWarning: Precision and F-score are ill-defined and being set to 0.0 in labels with no predicted samples. Use `zero_division` parameter to control this behavior.\n",
      "  _warn_prf(average, modifier, msg_start, len(result))\n",
      "c:\\Users\\afbso\\anaconda3\\lib\\site-packages\\sklearn\\metrics\\_classification.py:1318: UndefinedMetricWarning: Precision and F-score are ill-defined and being set to 0.0 in labels with no predicted samples. Use `zero_division` parameter to control this behavior.\n",
      "  _warn_prf(average, modifier, msg_start, len(result))\n",
      "c:\\Users\\afbso\\anaconda3\\lib\\site-packages\\sklearn\\metrics\\_classification.py:1318: UndefinedMetricWarning: Precision and F-score are ill-defined and being set to 0.0 in labels with no predicted samples. Use `zero_division` parameter to control this behavior.\n",
      "  _warn_prf(average, modifier, msg_start, len(result))\n"
     ]
    },
    {
     "data": {
      "image/png": "[encoded data removed]",
      "text/plain": [
       "<Figure size 432x288 with 2 Axes>"
      ]
     },
     "metadata": {
      "needs_background": "light"
     },
     "output_type": "display_data"
    }
   ],
   "source": [
    "clf = SVC()\n",
    "clf.fit(X_train, y_train)\n",
    "\n",
    "y_pred = clf.predict(X_test)\n",
    "\n",
    "# Print classification report and confusion matrix\n",
    "\n",
    "mcc = matthews_corrcoef(y_test, y_pred)\n",
    "#accuracy = accuracy_score(y_test, y_pred)\n",
    "print(\"MCC: \", mcc)\n",
    "#print(\"Accuracy: \", accuracy)\n",
    "print(classification_report(y_test, y_pred))\n",
    "#confusion_matrix(y_test, y_pred)\n",
    "\n",
    "labelGender = list(set(genders))\n",
    "\n",
    "# assume y_true and y_pred are the true and predicted labels, respectively\n",
    "cm = confusion_matrix(y_test, y_pred)\n",
    "\n",
    "# create a heatmap of the confusion matrix using seaborn\n",
    "sns.heatmap(cm, annot=True, cmap=\"Blues\", fmt=\"d\", xticklabels=labelGender, yticklabels=labelGender)\n",
    "\n",
    "# set plot labels and title\n",
    "plt.xlabel('Predicted Label')\n",
    "plt.ylabel('True Label')\n",
    "plt.title('Confusion Matrix')\n",
    "\n",
    "plt.show()"
   ]
  },
  {
   "attachments": {},
   "cell_type": "markdown",
   "metadata": {},
   "source": [
    "#### Predicting Age"
   ]
  },
  {
   "cell_type": "code",
   "execution_count": 68,
   "metadata": {},
   "outputs": [],
   "source": [
    "X_train, X_test, y_train, y_test = train_test_split(hog_features_norm, age_categories, test_size=0.2, random_state=42)"
   ]
  },
  {
   "cell_type": "code",
   "execution_count": 69,
   "metadata": {},
   "outputs": [
    {
     "name": "stderr",
     "output_type": "stream",
     "text": [
      "c:\\Users\\afbso\\anaconda3\\lib\\site-packages\\sklearn\\multiclass.py:79: UserWarning: Label not 0 is present in all training examples.\n",
      "  warnings.warn(\n",
      "c:\\Users\\afbso\\anaconda3\\lib\\site-packages\\sklearn\\multiclass.py:79: UserWarning: Label not 2 is present in all training examples.\n",
      "  warnings.warn(\n",
      "c:\\Users\\afbso\\anaconda3\\lib\\site-packages\\sklearn\\multiclass.py:79: UserWarning: Label not 3 is present in all training examples.\n",
      "  warnings.warn(\n",
      "c:\\Users\\afbso\\anaconda3\\lib\\site-packages\\sklearn\\multiclass.py:79: UserWarning: Label not 4 is present in all training examples.\n",
      "  warnings.warn(\n",
      "c:\\Users\\afbso\\anaconda3\\lib\\site-packages\\sklearn\\metrics\\_classification.py:1318: UndefinedMetricWarning: Precision and F-score are ill-defined and being set to 0.0 in labels with no predicted samples. Use `zero_division` parameter to control this behavior.\n",
      "  _warn_prf(average, modifier, msg_start, len(result))\n",
      "c:\\Users\\afbso\\anaconda3\\lib\\site-packages\\sklearn\\metrics\\_classification.py:1318: UndefinedMetricWarning: Recall and F-score are ill-defined and being set to 0.0 in labels with no true samples. Use `zero_division` parameter to control this behavior.\n",
      "  _warn_prf(average, modifier, msg_start, len(result))\n",
      "c:\\Users\\afbso\\anaconda3\\lib\\site-packages\\sklearn\\metrics\\_classification.py:1318: UndefinedMetricWarning: Precision and F-score are ill-defined and being set to 0.0 in labels with no predicted samples. Use `zero_division` parameter to control this behavior.\n",
      "  _warn_prf(average, modifier, msg_start, len(result))\n",
      "c:\\Users\\afbso\\anaconda3\\lib\\site-packages\\sklearn\\metrics\\_classification.py:1318: UndefinedMetricWarning: Recall and F-score are ill-defined and being set to 0.0 in labels with no true samples. Use `zero_division` parameter to control this behavior.\n",
      "  _warn_prf(average, modifier, msg_start, len(result))\n",
      "c:\\Users\\afbso\\anaconda3\\lib\\site-packages\\sklearn\\metrics\\_classification.py:1318: UndefinedMetricWarning: Precision and F-score are ill-defined and being set to 0.0 in labels with no predicted samples. Use `zero_division` parameter to control this behavior.\n",
      "  _warn_prf(average, modifier, msg_start, len(result))\n",
      "c:\\Users\\afbso\\anaconda3\\lib\\site-packages\\sklearn\\metrics\\_classification.py:1318: UndefinedMetricWarning: Recall and F-score are ill-defined and being set to 0.0 in labels with no true samples. Use `zero_division` parameter to control this behavior.\n",
      "  _warn_prf(average, modifier, msg_start, len(result))\n"
     ]
    },
    {
     "name": "stdout",
     "output_type": "stream",
     "text": [
      "MCC:  0.20412414523193154\n",
      "              precision    recall  f1-score   support\n",
      "\n",
      "           0       0.00      0.00      0.00         0\n",
      "           1       1.00      0.50      0.67         8\n",
      "           5       0.00      0.00      0.00         2\n",
      "\n",
      "    accuracy                           0.40        10\n",
      "   macro avg       0.33      0.17      0.22        10\n",
      "weighted avg       0.80      0.40      0.53        10\n",
      "\n"
     ]
    },
    {
     "data": {
      "image/png": "[encoded data removed]",
      "text/plain": [
       "<Figure size 432x288 with 2 Axes>"
      ]
     },
     "metadata": {
      "needs_background": "light"
     },
     "output_type": "display_data"
    }
   ],
   "source": [
    "clf = OneVsRestClassifier(SVC())\n",
    "clf.fit(X_train, y_train)\n",
    "\n",
    "# Convert one-hot encoded labels to integer form\n",
    "y_pred = clf.predict(X_test)\n",
    "\n",
    "y_test_int = np.argmax(y_test, axis=1)\n",
    "y_pred_int = np.argmax(y_pred, axis=1)\n",
    "\n",
    "# Print classification report and confusion matrix\n",
    "mcc = matthews_corrcoef(y_test_int, y_pred_int)\n",
    "\n",
    "#accuracy = accuracy_score(y_test, y_pred)\n",
    "print(\"MCC: \", mcc)\n",
    "#print(\"Accuracy: \", accuracy)\n",
    "print(classification_report(y_test_int, y_pred_int))\n",
    "#confusion_matrix(y_test, y_pred)\n",
    "labelage= list(set(age_classes))\n",
    "# assume y_true and y_pred are the true and predicted labels, respectively\n",
    "cm = confusion_matrix(y_test_int, y_pred_int)\n",
    "# create a heatmap of the confusion matrix using seaborn\n",
    "sns.heatmap(cm, annot=True, cmap=\"Blues\", fmt=\"d\", xticklabels=labelage, yticklabels=labelage)\n",
    "# set plot labels and title\n",
    "plt.xlabel('Predicted Label')\n",
    "plt.ylabel('True Label')\n",
    "plt.title('Confusion Matrix')\n",
    "\n",
    "plt.show()"
   ]
  },
  {
   "attachments": {},
   "cell_type": "markdown",
   "metadata": {},
   "source": [
    "### 4.2) CNN using features extracted from HOG"
   ]
  },
  {
   "attachments": {},
   "cell_type": "markdown",
   "metadata": {},
   "source": [
    "#### Predicting Gender"
   ]
  },
  {
   "cell_type": "code",
   "execution_count": 70,
   "metadata": {},
   "outputs": [],
   "source": [
    "cnn = Sequential()\n",
    "\n",
    "#tratado\n",
    "cnn.add(layers.Reshape((144, 144, 1), input_shape=(20736,)))\n",
    "#cnn.add(layers.Conv2D(16, (3, 3), padding='same', activation='relu', input_shape=X_train[1].shape))\n",
    "\n",
    "cnn.add(layers.MaxPooling2D((2, 2)))\n",
    "cnn.add(layers.Conv2D(32, (3, 3), padding='same', activation='relu'))\n",
    "cnn.add(layers.MaxPooling2D(2,2))\n",
    "cnn.add(layers.Conv2D(64, (3, 3), padding='same', activation='relu'))\n",
    "cnn.add(layers.MaxPooling2D(2,2))\n",
    "cnn.add(Flatten())\n",
    "cnn.add(Dense(64, activation='relu'))\n",
    "cnn.add(layers.Dropout(0.2))\n",
    "\n",
    "#output layer with 2 filters for number of classes the model will choose to do predictions\n",
    "#and since gender is just binary classification sigmoid is appropriate\n",
    "#when doing classification for age (wont be binary classification) then softmax is good choice\n",
    "cnn.add(Dense(1, activation='sigmoid'))\n",
    "\n",
    "#cnn.summary()"
   ]
  },
  {
   "cell_type": "code",
   "execution_count": 71,
   "metadata": {},
   "outputs": [],
   "source": [
    "X_train, X_test, y_train, y_test = train_test_split(hog_features_norm, genders, test_size=0.2, random_state=42)"
   ]
  },
  {
   "cell_type": "code",
   "execution_count": 72,
   "metadata": {},
   "outputs": [],
   "source": [
    "X_train = np.asarray(X_train)\n",
    "y_train = np.asarray(y_train)\n",
    "\n",
    "X_test = np.asarray(X_test)\n",
    "y_test = np.asarray(y_test)"
   ]
  },
  {
   "cell_type": "code",
   "execution_count": 73,
   "metadata": {},
   "outputs": [
    {
     "name": "stdout",
     "output_type": "stream",
     "text": [
      "Epoch 1/2\n",
      "2/2 [==============================] - 1s 284ms/step - loss: 1.2858 - val_loss: 0.3724\n",
      "Epoch 2/2\n",
      "2/2 [==============================] - 0s 103ms/step - loss: 1.1090 - val_loss: 0.9517\n"
     ]
    }
   ],
   "source": [
    "cnn.compile(optimizer=\"adam\", loss=\"binary_crossentropy\")\n",
    "\n",
    "history_hog_gender = cnn.fit(X_train, y_train,\n",
    "                    epochs=2,\n",
    "                    batch_size=32,\n",
    "                    validation_data=(X_test, y_test))"
   ]
  },
  {
   "cell_type": "code",
   "execution_count": 74,
   "metadata": {},
   "outputs": [
    {
     "name": "stdout",
     "output_type": "stream",
     "text": [
      "1/1 [==============================] - 0s 95ms/step\n",
      "MCC:  0.0\n"
     ]
    },
    {
     "data": {
      "image/png": "[encoded data removed]",
      "text/plain": [
       "<Figure size 432x288 with 2 Axes>"
      ]
     },
     "metadata": {
      "needs_background": "light"
     },
     "output_type": "display_data"
    },
    {
     "name": "stdout",
     "output_type": "stream",
     "text": [
      "              precision    recall  f1-score   support\n",
      "\n",
      "           0       1.00      1.00      1.00        10\n",
      "\n",
      "    accuracy                           1.00        10\n",
      "   macro avg       1.00      1.00      1.00        10\n",
      "weighted avg       1.00      1.00      1.00        10\n",
      "\n"
     ]
    }
   ],
   "source": [
    "prediction_metrics(cnn, X_test, y_test, genders)"
   ]
  },
  {
   "attachments": {},
   "cell_type": "markdown",
   "metadata": {},
   "source": [
    "#### Predicting Age"
   ]
  },
  {
   "cell_type": "code",
   "execution_count": 75,
   "metadata": {},
   "outputs": [],
   "source": [
    "cnn = Sequential()\n",
    "\n",
    "cnn.add(layers.Reshape((144, 144, 1), input_shape=(20736,)))\n",
    "#cnn.add(layers.Conv2D(16, (3, 3), padding='same', activation='relu', input_shape=X_train[1].shape))\n",
    "\n",
    "cnn.add(layers.MaxPooling2D((2, 2)))\n",
    "cnn.add(layers.Conv2D(32, (3, 3), padding='same', activation='relu'))\n",
    "cnn.add(layers.MaxPooling2D(2,2))\n",
    "cnn.add(layers.Conv2D(64, (3, 3), padding='same', activation='relu'))\n",
    "cnn.add(layers.MaxPooling2D(2,2))\n",
    "cnn.add(Flatten())\n",
    "cnn.add(Dense(64, activation='relu'))\n",
    "cnn.add(layers.Dropout(0.2))\n",
    "\n",
    "#output layer with 2 filters for number of classes the model will choose to do predictions\n",
    "#and since gender is just binary classification sigmoid is appropriate\n",
    "#when doing classification for age (wont be binary classification) then softmax is good choice\n",
    "cnn.add(Dense(6, activation='softmax'))\n",
    "\n",
    "#cnn.summary()"
   ]
  },
  {
   "cell_type": "code",
   "execution_count": 76,
   "metadata": {},
   "outputs": [],
   "source": [
    "X_train, X_test, y_train, y_test = train_test_split(hog_features_norm, age_categories, test_size = 0.2,shuffle = True)"
   ]
  },
  {
   "cell_type": "code",
   "execution_count": 77,
   "metadata": {},
   "outputs": [],
   "source": [
    "X_train = np.asarray(X_train)\n",
    "y_train = np.asarray(y_train)\n",
    "\n",
    "X_test = np.asarray(X_test)\n",
    "y_test = np.asarray(y_test)"
   ]
  },
  {
   "cell_type": "code",
   "execution_count": 78,
   "metadata": {},
   "outputs": [
    {
     "name": "stdout",
     "output_type": "stream",
     "text": [
      "Epoch 1/2\n",
      "5/5 [==============================] - 2s 148ms/step - loss: 2.2663 - accuracy: 0.4250 - val_loss: 0.9549 - val_accuracy: 0.4000\n",
      "Epoch 2/2\n",
      "5/5 [==============================] - 0s 63ms/step - loss: 0.8113 - accuracy: 0.5000 - val_loss: 0.8544 - val_accuracy: 0.6000\n"
     ]
    }
   ],
   "source": [
    "cnn.compile(loss='categorical_crossentropy',\n",
    "            optimizer='adam',\n",
    "            metrics=['accuracy'])\n",
    "\n",
    "history_hog_age = cnn.fit(X_train, y_train,\n",
    "        batch_size=8,\n",
    "        epochs=2,\n",
    "        validation_data=(X_test, y_test),)"
   ]
  },
  {
   "cell_type": "code",
   "execution_count": 79,
   "metadata": {},
   "outputs": [
    {
     "name": "stdout",
     "output_type": "stream",
     "text": [
      "1/1 [==============================] - 0s 127ms/step\n",
      "MCC:  0.0\n"
     ]
    },
    {
     "data": {
      "image/png": "[encoded data removed]",
      "text/plain": [
       "<Figure size 432x288 with 2 Axes>"
      ]
     },
     "metadata": {
      "needs_background": "light"
     },
     "output_type": "display_data"
    },
    {
     "name": "stdout",
     "output_type": "stream",
     "text": [
      "              precision    recall  f1-score   support\n",
      "\n",
      "           1       0.60      1.00      0.75         6\n",
      "           5       0.00      0.00      0.00         4\n",
      "\n",
      "    accuracy                           0.60        10\n",
      "   macro avg       0.30      0.50      0.37        10\n",
      "weighted avg       0.36      0.60      0.45        10\n",
      "\n"
     ]
    },
    {
     "name": "stderr",
     "output_type": "stream",
     "text": [
      "c:\\Users\\afbso\\anaconda3\\lib\\site-packages\\sklearn\\metrics\\_classification.py:1318: UndefinedMetricWarning: Precision and F-score are ill-defined and being set to 0.0 in labels with no predicted samples. Use `zero_division` parameter to control this behavior.\n",
      "  _warn_prf(average, modifier, msg_start, len(result))\n",
      "c:\\Users\\afbso\\anaconda3\\lib\\site-packages\\sklearn\\metrics\\_classification.py:1318: UndefinedMetricWarning: Precision and F-score are ill-defined and being set to 0.0 in labels with no predicted samples. Use `zero_division` parameter to control this behavior.\n",
      "  _warn_prf(average, modifier, msg_start, len(result))\n",
      "c:\\Users\\afbso\\anaconda3\\lib\\site-packages\\sklearn\\metrics\\_classification.py:1318: UndefinedMetricWarning: Precision and F-score are ill-defined and being set to 0.0 in labels with no predicted samples. Use `zero_division` parameter to control this behavior.\n",
      "  _warn_prf(average, modifier, msg_start, len(result))\n"
     ]
    }
   ],
   "source": [
    "prediction_metrics(cnn, X_test, y_test, age_classes)"
   ]
  },
  {
   "attachments": {},
   "cell_type": "markdown",
   "metadata": {},
   "source": [
    "## 5) Using Feature extraction methods on data - Oriented FAST and Rotated BRIEF (ORB)"
   ]
  },
  {
   "attachments": {},
   "cell_type": "markdown",
   "metadata": {},
   "source": [
    "### Extraction with ORB"
   ]
  },
  {
   "cell_type": "code",
   "execution_count": 80,
   "metadata": {},
   "outputs": [
    {
     "data": {
      "image/png": "[encoded data removed]",
      "text/plain": [
       "<Figure size 432x288 with 1 Axes>"
      ]
     },
     "metadata": {
      "needs_background": "light"
     },
     "output_type": "display_data"
    }
   ],
   "source": [
    "image_check = images[1]\n",
    "\n",
    "orb = cv2.ORB_create()\n",
    "\n",
    "kp = orb.detect(image_check, None)\n",
    "\n",
    "kp, des = orb.compute(image_check, kp)\n",
    "\n",
    "img2 = cv2.drawKeypoints(image_check, kp, None, color=(0,255,0), flags=0)\n",
    "plt.imshow(img2)\n",
    "plt.show()"
   ]
  },
  {
   "cell_type": "code",
   "execution_count": 81,
   "metadata": {},
   "outputs": [],
   "source": [
    "#image[0].shape"
   ]
  },
  {
   "cell_type": "code",
   "execution_count": 82,
   "metadata": {},
   "outputs": [],
   "source": [
    "image_check = images[1]\n",
    "\n",
    "orb = cv2.ORB_create()\n",
    "# define minimum and maximum keypoints\n",
    "MIN_KEYPOINTS = 100\n",
    "orb_features = []\n",
    "orb_genders = []\n",
    "orb_ages = []\n",
    "\n",
    "# loop over images and keypoints\n",
    "for i, img in enumerate(images):\n",
    "    keypoints, descriptors = orb.detectAndCompute(img, None)\n",
    "    keypoints, descriptors = orb.compute(image_check, keypoints)\n",
    "    keypoints = list(keypoints)    \n",
    "    # check if number of keypoints is between min and max\n",
    "    if len(keypoints) < MIN_KEYPOINTS:\n",
    "        continue\n",
    "        \n",
    "    # remove extra keypoints randomly\n",
    "    while len(keypoints) > MIN_KEYPOINTS:\n",
    "        idx = random.randint(0, len(keypoints)-1)\n",
    "        keypoints.pop(idx)\n",
    "        descriptors = np.delete(descriptors, idx, axis=0)\n",
    "        \n",
    "    # add descriptors to feature list\n",
    "    orb_features.append(np.ndarray.flatten(descriptors))\n",
    "    orb_genders.append(genders[i])\n",
    "    orb_ages.append(age_categories[i])"
   ]
  },
  {
   "cell_type": "code",
   "execution_count": 83,
   "metadata": {},
   "outputs": [],
   "source": [
    "#print(len(Genders))\n",
    "#print(len(Age))\n",
    "#print(len(orb_features))"
   ]
  },
  {
   "cell_type": "code",
   "execution_count": 84,
   "metadata": {},
   "outputs": [],
   "source": [
    "#for i, arr in enumerate(orb_features):\n",
    "#    print(f\"Descriptor array {i} shape: {arr.shape}\")"
   ]
  },
  {
   "cell_type": "code",
   "execution_count": 85,
   "metadata": {},
   "outputs": [],
   "source": [
    "mean = np.mean(orb_features, axis=0)\n",
    "std = np.std(orb_features, axis=0)\n",
    "orb_features_norm = (orb_features - mean) / std"
   ]
  },
  {
   "attachments": {},
   "cell_type": "markdown",
   "metadata": {},
   "source": [
    "### 5.1) SVM with grid search parameter tuning using features extracted from ORB"
   ]
  },
  {
   "attachments": {},
   "cell_type": "markdown",
   "metadata": {},
   "source": [
    "#### Predicting Gender"
   ]
  },
  {
   "cell_type": "code",
   "execution_count": 86,
   "metadata": {},
   "outputs": [],
   "source": [
    "X_train, X_test, y_train, y_test = train_test_split(orb_features_norm, orb_genders, test_size=0.2, random_state=42)"
   ]
  },
  {
   "cell_type": "code",
   "execution_count": 87,
   "metadata": {},
   "outputs": [
    {
     "name": "stdout",
     "output_type": "stream",
     "text": [
      "MCC:  0.0\n",
      "              precision    recall  f1-score   support\n",
      "\n",
      "           0       0.75      1.00      0.86         6\n",
      "           1       0.00      0.00      0.00         2\n",
      "\n",
      "    accuracy                           0.75         8\n",
      "   macro avg       0.38      0.50      0.43         8\n",
      "weighted avg       0.56      0.75      0.64         8\n",
      "\n"
     ]
    },
    {
     "name": "stderr",
     "output_type": "stream",
     "text": [
      "c:\\Users\\afbso\\anaconda3\\lib\\site-packages\\sklearn\\metrics\\_classification.py:1318: UndefinedMetricWarning: Precision and F-score are ill-defined and being set to 0.0 in labels with no predicted samples. Use `zero_division` parameter to control this behavior.\n",
      "  _warn_prf(average, modifier, msg_start, len(result))\n",
      "c:\\Users\\afbso\\anaconda3\\lib\\site-packages\\sklearn\\metrics\\_classification.py:1318: UndefinedMetricWarning: Precision and F-score are ill-defined and being set to 0.0 in labels with no predicted samples. Use `zero_division` parameter to control this behavior.\n",
      "  _warn_prf(average, modifier, msg_start, len(result))\n",
      "c:\\Users\\afbso\\anaconda3\\lib\\site-packages\\sklearn\\metrics\\_classification.py:1318: UndefinedMetricWarning: Precision and F-score are ill-defined and being set to 0.0 in labels with no predicted samples. Use `zero_division` parameter to control this behavior.\n",
      "  _warn_prf(average, modifier, msg_start, len(result))\n"
     ]
    },
    {
     "data": {
      "image/png": "[encoded data removed]",
      "text/plain": [
       "<Figure size 432x288 with 2 Axes>"
      ]
     },
     "metadata": {
      "needs_background": "light"
     },
     "output_type": "display_data"
    }
   ],
   "source": [
    "clf = SVC()\n",
    "clf.fit(X_train, y_train)\n",
    "\n",
    "# Evaluate the classifier on the testing data\n",
    "y_pred = clf.predict(X_test)\n",
    "\n",
    "mcc = matthews_corrcoef(y_test, y_pred)\n",
    "#accuracy = accuracy_score(y_test, y_pred)\n",
    "print(\"MCC: \", mcc)\n",
    "#print(\"Accuracy: \", accuracy)\n",
    "print(classification_report(y_test, y_pred))\n",
    "#confusion_matrix(y_test, y_pred)\n",
    "\n",
    "labelGender = list(set(genders))\n",
    "\n",
    "# assume y_true and y_pred are the true and predicted labels, respectively\n",
    "cm = confusion_matrix(y_test, y_pred)\n",
    "\n",
    "# create a heatmap of the confusion matrix using seaborn\n",
    "sns.heatmap(cm, annot=True, cmap=\"Blues\", fmt=\"d\", xticklabels=labelGender, yticklabels=labelGender)\n",
    "\n",
    "# set plot labels and title\n",
    "plt.xlabel('Predicted Label')\n",
    "plt.ylabel('True Label')\n",
    "plt.title('Confusion Matrix')\n",
    "\n",
    "plt.show()"
   ]
  },
  {
   "attachments": {},
   "cell_type": "markdown",
   "metadata": {},
   "source": [
    "#### Predicting Age"
   ]
  },
  {
   "cell_type": "code",
   "execution_count": 88,
   "metadata": {},
   "outputs": [],
   "source": [
    "X_train, X_test, y_train, y_test = train_test_split(orb_features_norm, orb_ages, test_size=0.2, random_state=42)"
   ]
  },
  {
   "cell_type": "code",
   "execution_count": 89,
   "metadata": {},
   "outputs": [
    {
     "name": "stdout",
     "output_type": "stream",
     "text": [
      "MCC:  0.0\n",
      "              precision    recall  f1-score   support\n",
      "\n",
      "           0       0.00      0.00      0.00       0.0\n",
      "           1       0.00      0.00      0.00       6.0\n",
      "           5       0.00      0.00      0.00       2.0\n",
      "\n",
      "    accuracy                           0.00       8.0\n",
      "   macro avg       0.00      0.00      0.00       8.0\n",
      "weighted avg       0.00      0.00      0.00       8.0\n",
      "\n"
     ]
    },
    {
     "name": "stderr",
     "output_type": "stream",
     "text": [
      "c:\\Users\\afbso\\anaconda3\\lib\\site-packages\\sklearn\\multiclass.py:79: UserWarning: Label not 0 is present in all training examples.\n",
      "  warnings.warn(\n",
      "c:\\Users\\afbso\\anaconda3\\lib\\site-packages\\sklearn\\multiclass.py:79: UserWarning: Label not 2 is present in all training examples.\n",
      "  warnings.warn(\n",
      "c:\\Users\\afbso\\anaconda3\\lib\\site-packages\\sklearn\\multiclass.py:79: UserWarning: Label not 3 is present in all training examples.\n",
      "  warnings.warn(\n",
      "c:\\Users\\afbso\\anaconda3\\lib\\site-packages\\sklearn\\multiclass.py:79: UserWarning: Label not 4 is present in all training examples.\n",
      "  warnings.warn(\n",
      "c:\\Users\\afbso\\anaconda3\\lib\\site-packages\\sklearn\\metrics\\_classification.py:1318: UndefinedMetricWarning: Precision and F-score are ill-defined and being set to 0.0 in labels with no predicted samples. Use `zero_division` parameter to control this behavior.\n",
      "  _warn_prf(average, modifier, msg_start, len(result))\n",
      "c:\\Users\\afbso\\anaconda3\\lib\\site-packages\\sklearn\\metrics\\_classification.py:1318: UndefinedMetricWarning: Recall and F-score are ill-defined and being set to 0.0 in labels with no true samples. Use `zero_division` parameter to control this behavior.\n",
      "  _warn_prf(average, modifier, msg_start, len(result))\n",
      "c:\\Users\\afbso\\anaconda3\\lib\\site-packages\\sklearn\\metrics\\_classification.py:1318: UndefinedMetricWarning: Precision and F-score are ill-defined and being set to 0.0 in labels with no predicted samples. Use `zero_division` parameter to control this behavior.\n",
      "  _warn_prf(average, modifier, msg_start, len(result))\n",
      "c:\\Users\\afbso\\anaconda3\\lib\\site-packages\\sklearn\\metrics\\_classification.py:1318: UndefinedMetricWarning: Recall and F-score are ill-defined and being set to 0.0 in labels with no true samples. Use `zero_division` parameter to control this behavior.\n",
      "  _warn_prf(average, modifier, msg_start, len(result))\n",
      "c:\\Users\\afbso\\anaconda3\\lib\\site-packages\\sklearn\\metrics\\_classification.py:1318: UndefinedMetricWarning: Precision and F-score are ill-defined and being set to 0.0 in labels with no predicted samples. Use `zero_division` parameter to control this behavior.\n",
      "  _warn_prf(average, modifier, msg_start, len(result))\n",
      "c:\\Users\\afbso\\anaconda3\\lib\\site-packages\\sklearn\\metrics\\_classification.py:1318: UndefinedMetricWarning: Recall and F-score are ill-defined and being set to 0.0 in labels with no true samples. Use `zero_division` parameter to control this behavior.\n",
      "  _warn_prf(average, modifier, msg_start, len(result))\n"
     ]
    },
    {
     "data": {
      "image/png": "[encoded data removed]",
      "text/plain": [
       "<Figure size 432x288 with 2 Axes>"
      ]
     },
     "metadata": {
      "needs_background": "light"
     },
     "output_type": "display_data"
    }
   ],
   "source": [
    "clf = OneVsRestClassifier(SVC())\n",
    "clf.fit(X_train, y_train)\n",
    "\n",
    "y_pred = clf.predict(X_test)\n",
    "\n",
    "y_test_int = np.argmax(y_test, axis=1)\n",
    "y_pred_int = np.argmax(y_pred, axis=1)\n",
    "\n",
    "# Print classification report and confusion matrix\n",
    "mcc = matthews_corrcoef(y_test_int, y_pred_int)\n",
    "\n",
    "#accuracy = accuracy_score(y_test, y_pred)\n",
    "print(\"MCC: \", mcc)\n",
    "#print(\"Accuracy: \", accuracy)\n",
    "print(classification_report(y_test_int, y_pred_int))\n",
    "#confusion_matrix(y_test, y_pred)\n",
    "labelage= list(set(age_classes))\n",
    "# assume y_true and y_pred are the true and predicted labels, respectively\n",
    "cm = confusion_matrix(y_test_int, y_pred_int)\n",
    "# create a heatmap of the confusion matrix using seaborn\n",
    "sns.heatmap(cm, annot=True, cmap=\"Blues\", fmt=\"d\", xticklabels=labelage, yticklabels=labelage)\n",
    "# set plot labels and title\n",
    "plt.xlabel('Predicted Label')\n",
    "plt.ylabel('True Label')\n",
    "plt.title('Confusion Matrix')\n",
    "\n",
    "plt.show()"
   ]
  },
  {
   "attachments": {},
   "cell_type": "markdown",
   "metadata": {},
   "source": [
    "### 5.2) CNN using features extracted from ORB"
   ]
  },
  {
   "attachments": {},
   "cell_type": "markdown",
   "metadata": {},
   "source": [
    "#### Predicting Gender"
   ]
  },
  {
   "cell_type": "code",
   "execution_count": 90,
   "metadata": {},
   "outputs": [],
   "source": [
    "X_train, X_test, y_train, y_test = train_test_split(orb_features_norm, orb_genders, test_size=0.20, random_state=42)"
   ]
  },
  {
   "cell_type": "code",
   "execution_count": 91,
   "metadata": {},
   "outputs": [],
   "source": [
    "X_train = np.asarray(X_train)\n",
    "y_train = np.asarray(y_train)\n",
    "\n",
    "X_test = np.asarray(X_test)\n",
    "y_test = np.asarray(y_test)"
   ]
  },
  {
   "cell_type": "code",
   "execution_count": 92,
   "metadata": {},
   "outputs": [],
   "source": [
    "cnn = Sequential()\n",
    "\n",
    "# Input shape is (3200,)\n",
    "cnn.add(layers.Reshape((50, 64, 1), input_shape=X_train[0].shape))\n",
    "cnn.add(layers.MaxPooling2D((2, 2)))\n",
    "cnn.add(layers.Conv2D(32, (3, 3), padding='same', activation='relu'))\n",
    "##cnn.add(layers.MaxPooling2D((2, 2)))\n",
    "cnn.add(layers.Conv2D(64, (3, 3), padding='same', activation='relu'))\n",
    "cnn.add(Flatten())\n",
    "cnn.add(layers.Dense(64, activation='relu'))\n",
    "cnn.add(layers.Dropout(0.2))\n",
    "cnn.add(layers.Dense(1, activation='sigmoid'))\n",
    "\n",
    "#cnn.summary()"
   ]
  },
  {
   "cell_type": "code",
   "execution_count": 93,
   "metadata": {},
   "outputs": [
    {
     "name": "stdout",
     "output_type": "stream",
     "text": [
      "Epoch 1/2\n",
      "1/1 [==============================] - 1s 1s/step - loss: 0.7252 - val_loss: 1.8462\n",
      "Epoch 2/2\n",
      "1/1 [==============================] - 0s 126ms/step - loss: 1.7077 - val_loss: 1.0584\n"
     ]
    }
   ],
   "source": [
    "cnn.compile(optimizer=\"adam\", loss=\"binary_crossentropy\")\n",
    "\n",
    "history_orb_gender = cnn.fit(X_train, y_train,\n",
    "                        epochs=2,\n",
    "                        batch_size=32,\n",
    "                        validation_data=(X_test, y_test))"
   ]
  },
  {
   "cell_type": "code",
   "execution_count": 94,
   "metadata": {},
   "outputs": [
    {
     "name": "stdout",
     "output_type": "stream",
     "text": [
      "WARNING:tensorflow:5 out of the last 5 calls to <function Model.make_predict_function.<locals>.predict_function at 0x0000026A1CA524C0> triggered tf.function retracing. Tracing is expensive and the excessive number of tracings could be due to (1) creating @tf.function repeatedly in a loop, (2) passing tensors with different shapes, (3) passing Python objects instead of tensors. For (1), please define your @tf.function outside of the loop. For (2), @tf.function has reduce_retracing=True option that can avoid unnecessary retracing. For (3), please refer to https://www.tensorflow.org/guide/function#controlling_retracing and https://www.tensorflow.org/api_docs/python/tf/function for  more details.\n",
      "1/1 [==============================] - 0s 138ms/step\n",
      "MCC:  0.0\n"
     ]
    },
    {
     "data": {
      "image/png": "[encoded data removed]",
      "text/plain": [
       "<Figure size 432x288 with 2 Axes>"
      ]
     },
     "metadata": {
      "needs_background": "light"
     },
     "output_type": "display_data"
    },
    {
     "name": "stdout",
     "output_type": "stream",
     "text": [
      "              precision    recall  f1-score   support\n",
      "\n",
      "           0       1.00      1.00      1.00         8\n",
      "\n",
      "    accuracy                           1.00         8\n",
      "   macro avg       1.00      1.00      1.00         8\n",
      "weighted avg       1.00      1.00      1.00         8\n",
      "\n"
     ]
    }
   ],
   "source": [
    "prediction_metrics(cnn, X_test, y_test, orb_genders)"
   ]
  },
  {
   "attachments": {},
   "cell_type": "markdown",
   "metadata": {},
   "source": [
    "#### Predicting Age"
   ]
  },
  {
   "cell_type": "code",
   "execution_count": 95,
   "metadata": {},
   "outputs": [],
   "source": [
    "X_train, X_test, y_train, y_test = train_test_split(orb_features_norm, orb_ages, test_size=0.20, random_state=42)"
   ]
  },
  {
   "cell_type": "code",
   "execution_count": 96,
   "metadata": {},
   "outputs": [],
   "source": [
    "X_train = np.asarray(X_train)\n",
    "y_train = np.asarray(y_train)\n",
    "\n",
    "X_test = np.asarray(X_test)\n",
    "y_test = np.asarray(y_test)"
   ]
  },
  {
   "cell_type": "code",
   "execution_count": 97,
   "metadata": {},
   "outputs": [],
   "source": [
    "cnn = Sequential()\n",
    "\n",
    "# Input shape is (3200,)\n",
    "cnn.add(layers.Reshape((50, 64, 1), input_shape=X_train[0].shape))\n",
    "cnn.add(layers.MaxPooling2D((2, 2)))\n",
    "cnn.add(layers.Conv2D(32, (3, 3), padding='same', activation='relu'))\n",
    "##cnn.add(layers.MaxPooling2D((2, 2)))\n",
    "cnn.add(layers.Conv2D(64, (3, 3), padding='same', activation='relu'))\n",
    "cnn.add(Flatten())\n",
    "cnn.add(layers.Dense(64, activation='relu'))\n",
    "cnn.add(layers.Dropout(0.2))\n",
    "cnn.add(layers.Dense(6, activation='softmax'))\n",
    "\n",
    "#cnn.summary()"
   ]
  },
  {
   "cell_type": "code",
   "execution_count": 98,
   "metadata": {},
   "outputs": [
    {
     "name": "stdout",
     "output_type": "stream",
     "text": [
      "Epoch 1/2\n",
      "1/1 [==============================] - ETA: 0s - loss: 0.7045WARNING:tensorflow:5 out of the last 13 calls to <function Model.make_test_function.<locals>.test_function at 0x0000026A1CB818B0> triggered tf.function retracing. Tracing is expensive and the excessive number of tracings could be due to (1) creating @tf.function repeatedly in a loop, (2) passing tensors with different shapes, (3) passing Python objects instead of tensors. For (1), please define your @tf.function outside of the loop. For (2), @tf.function has reduce_retracing=True option that can avoid unnecessary retracing. For (3), please refer to https://www.tensorflow.org/guide/function#controlling_retracing and https://www.tensorflow.org/api_docs/python/tf/function for  more details.\n",
      "1/1 [==============================] - 1s 1s/step - loss: 0.7045 - val_loss: 0.3539\n",
      "Epoch 2/2\n",
      "1/1 [==============================] - 0s 118ms/step - loss: 0.4609 - val_loss: 0.2935\n"
     ]
    }
   ],
   "source": [
    "cnn.compile(optimizer=\"adam\", loss=\"binary_crossentropy\")\n",
    "\n",
    "history_orb_gender = cnn.fit(X_train, y_train,\n",
    "                        epochs=2,\n",
    "                        batch_size=32,\n",
    "                        validation_data=(X_test, y_test))"
   ]
  },
  {
   "cell_type": "code",
   "execution_count": 99,
   "metadata": {},
   "outputs": [
    {
     "name": "stdout",
     "output_type": "stream",
     "text": [
      "WARNING:tensorflow:6 out of the last 6 calls to <function Model.make_predict_function.<locals>.predict_function at 0x0000026A1CD4F790> triggered tf.function retracing. Tracing is expensive and the excessive number of tracings could be due to (1) creating @tf.function repeatedly in a loop, (2) passing tensors with different shapes, (3) passing Python objects instead of tensors. For (1), please define your @tf.function outside of the loop. For (2), @tf.function has reduce_retracing=True option that can avoid unnecessary retracing. For (3), please refer to https://www.tensorflow.org/guide/function#controlling_retracing and https://www.tensorflow.org/api_docs/python/tf/function for  more details.\n",
      "1/1 [==============================] - 0s 84ms/step\n",
      "MCC:  0.0\n"
     ]
    },
    {
     "data": {
      "image/png": "[encoded data removed]",
      "text/plain": [
       "<Figure size 432x288 with 2 Axes>"
      ]
     },
     "metadata": {
      "needs_background": "light"
     },
     "output_type": "display_data"
    },
    {
     "name": "stdout",
     "output_type": "stream",
     "text": [
      "              precision    recall  f1-score   support\n",
      "\n",
      "           1       0.00      0.00      0.00         6\n",
      "           5       0.25      1.00      0.40         2\n",
      "\n",
      "    accuracy                           0.25         8\n",
      "   macro avg       0.12      0.50      0.20         8\n",
      "weighted avg       0.06      0.25      0.10         8\n",
      "\n"
     ]
    },
    {
     "name": "stderr",
     "output_type": "stream",
     "text": [
      "c:\\Users\\afbso\\anaconda3\\lib\\site-packages\\sklearn\\metrics\\_classification.py:1318: UndefinedMetricWarning: Precision and F-score are ill-defined and being set to 0.0 in labels with no predicted samples. Use `zero_division` parameter to control this behavior.\n",
      "  _warn_prf(average, modifier, msg_start, len(result))\n",
      "c:\\Users\\afbso\\anaconda3\\lib\\site-packages\\sklearn\\metrics\\_classification.py:1318: UndefinedMetricWarning: Precision and F-score are ill-defined and being set to 0.0 in labels with no predicted samples. Use `zero_division` parameter to control this behavior.\n",
      "  _warn_prf(average, modifier, msg_start, len(result))\n",
      "c:\\Users\\afbso\\anaconda3\\lib\\site-packages\\sklearn\\metrics\\_classification.py:1318: UndefinedMetricWarning: Precision and F-score are ill-defined and being set to 0.0 in labels with no predicted samples. Use `zero_division` parameter to control this behavior.\n",
      "  _warn_prf(average, modifier, msg_start, len(result))\n"
     ]
    }
   ],
   "source": [
    "prediction_metrics(cnn, X_test, y_test, age_classes)"
   ]
  },
  {
   "attachments": {},
   "cell_type": "markdown",
   "metadata": {},
   "source": [
    "## 6) Using Feature extraction methods on data - \"Very Deep Convolutional Networks for Large-Scale Image Recognition\" (VGG-16)"
   ]
  },
  {
   "attachments": {},
   "cell_type": "markdown",
   "metadata": {},
   "source": [
    "### Extraction with VGG-16"
   ]
  },
  {
   "cell_type": "code",
   "execution_count": 100,
   "metadata": {},
   "outputs": [
    {
     "name": "stdout",
     "output_type": "stream",
     "text": [
      "Model: \"vgg16\"\n",
      "_________________________________________________________________\n",
      " Layer (type)                Output Shape              Param #   \n",
      "=================================================================\n",
      " input_1 (InputLayer)        [(None, 200, 200, 3)]     0         \n",
      "                                                                 \n",
      " block1_conv1 (Conv2D)       (None, 200, 200, 64)      1792      \n",
      "                                                                 \n",
      " block1_conv2 (Conv2D)       (None, 200, 200, 64)      36928     \n",
      "                                                                 \n",
      " block1_pool (MaxPooling2D)  (None, 100, 100, 64)      0         \n",
      "                                                                 \n",
      " block2_conv1 (Conv2D)       (None, 100, 100, 128)     73856     \n",
      "                                                                 \n",
      " block2_conv2 (Conv2D)       (None, 100, 100, 128)     147584    \n",
      "                                                                 \n",
      " block2_pool (MaxPooling2D)  (None, 50, 50, 128)       0         \n",
      "                                                                 \n",
      " block3_conv1 (Conv2D)       (None, 50, 50, 256)       295168    \n",
      "                                                                 \n",
      " block3_conv2 (Conv2D)       (None, 50, 50, 256)       590080    \n",
      "                                                                 \n",
      " block3_conv3 (Conv2D)       (None, 50, 50, 256)       590080    \n",
      "                                                                 \n",
      " block3_pool (MaxPooling2D)  (None, 25, 25, 256)       0         \n",
      "                                                                 \n",
      " block4_conv1 (Conv2D)       (None, 25, 25, 512)       1180160   \n",
      "                                                                 \n",
      " block4_conv2 (Conv2D)       (None, 25, 25, 512)       2359808   \n",
      "                                                                 \n",
      " block4_conv3 (Conv2D)       (None, 25, 25, 512)       2359808   \n",
      "                                                                 \n",
      " block4_pool (MaxPooling2D)  (None, 12, 12, 512)       0         \n",
      "                                                                 \n",
      " block5_conv1 (Conv2D)       (None, 12, 12, 512)       2359808   \n",
      "                                                                 \n",
      " block5_conv2 (Conv2D)       (None, 12, 12, 512)       2359808   \n",
      "                                                                 \n",
      " block5_conv3 (Conv2D)       (None, 12, 12, 512)       2359808   \n",
      "                                                                 \n",
      " block5_pool (MaxPooling2D)  (None, 6, 6, 512)         0         \n",
      "                                                                 \n",
      "=================================================================\n",
      "Total params: 14,714,688\n",
      "Trainable params: 0\n",
      "Non-trainable params: 14,714,688\n",
      "_________________________________________________________________\n"
     ]
    }
   ],
   "source": [
    "VGG_model = VGG16(weights='imagenet', include_top=False, input_shape=(200, 200, 3))\n",
    "\n",
    "for layer in VGG_model.layers:\n",
    "\tlayer.trainable = False\n",
    "\t\n",
    "VGG_model.summary()"
   ]
  },
  {
   "cell_type": "code",
   "execution_count": 101,
   "metadata": {},
   "outputs": [
    {
     "name": "stdout",
     "output_type": "stream",
     "text": [
      "2/2 [==============================] - 7s 2s/step\n"
     ]
    }
   ],
   "source": [
    "X = np.stack(images)\n",
    "X = VGG_model.predict(X)"
   ]
  },
  {
   "attachments": {},
   "cell_type": "markdown",
   "metadata": {},
   "source": [
    "### 6.1) SVM with grid search parameter tuning using features extracted from VGG-16"
   ]
  },
  {
   "attachments": {},
   "cell_type": "markdown",
   "metadata": {},
   "source": [
    "#### Predicting Gender"
   ]
  },
  {
   "cell_type": "code",
   "execution_count": 102,
   "metadata": {},
   "outputs": [],
   "source": [
    "X_svm = X.reshape(X.shape[0], -1)"
   ]
  },
  {
   "cell_type": "code",
   "execution_count": 103,
   "metadata": {},
   "outputs": [],
   "source": [
    "X_train, X_test, y_train, y_test = train_test_split(X_svm, genders, test_size=0.2, random_state=42)"
   ]
  },
  {
   "cell_type": "code",
   "execution_count": 104,
   "metadata": {},
   "outputs": [
    {
     "name": "stdout",
     "output_type": "stream",
     "text": [
      "MCC:  0.0\n",
      "              precision    recall  f1-score   support\n",
      "\n",
      "           0       0.90      1.00      0.95         9\n",
      "           1       0.00      0.00      0.00         1\n",
      "\n",
      "    accuracy                           0.90        10\n",
      "   macro avg       0.45      0.50      0.47        10\n",
      "weighted avg       0.81      0.90      0.85        10\n",
      "\n"
     ]
    },
    {
     "name": "stderr",
     "output_type": "stream",
     "text": [
      "c:\\Users\\afbso\\anaconda3\\lib\\site-packages\\sklearn\\metrics\\_classification.py:1318: UndefinedMetricWarning: Precision and F-score are ill-defined and being set to 0.0 in labels with no predicted samples. Use `zero_division` parameter to control this behavior.\n",
      "  _warn_prf(average, modifier, msg_start, len(result))\n",
      "c:\\Users\\afbso\\anaconda3\\lib\\site-packages\\sklearn\\metrics\\_classification.py:1318: UndefinedMetricWarning: Precision and F-score are ill-defined and being set to 0.0 in labels with no predicted samples. Use `zero_division` parameter to control this behavior.\n",
      "  _warn_prf(average, modifier, msg_start, len(result))\n",
      "c:\\Users\\afbso\\anaconda3\\lib\\site-packages\\sklearn\\metrics\\_classification.py:1318: UndefinedMetricWarning: Precision and F-score are ill-defined and being set to 0.0 in labels with no predicted samples. Use `zero_division` parameter to control this behavior.\n",
      "  _warn_prf(average, modifier, msg_start, len(result))\n"
     ]
    },
    {
     "data": {
      "image/png": "[encoded data removed]",
      "text/plain": [
       "<Figure size 432x288 with 2 Axes>"
      ]
     },
     "metadata": {
      "needs_background": "light"
     },
     "output_type": "display_data"
    }
   ],
   "source": [
    "clf = SVC()\n",
    "clf.fit(X_train, y_train)\n",
    "\n",
    "# Evaluate the classifier on the testing data\n",
    "y_pred = clf.predict(X_test)\n",
    "\n",
    "mcc = matthews_corrcoef(y_test, y_pred)\n",
    "#accuracy = accuracy_score(y_test, y_pred)\n",
    "print(\"MCC: \", mcc)\n",
    "#print(\"Accuracy: \", accuracy)\n",
    "print(classification_report(y_test, y_pred))\n",
    "#confusion_matrix(y_test, y_pred)\n",
    "\n",
    "labelGender = list(set(genders))\n",
    "\n",
    "# assume y_true and y_pred are the true and predicted labels, respectively\n",
    "cm = confusion_matrix(y_test, y_pred)\n",
    "\n",
    "# create a heatmap of the confusion matrix using seaborn\n",
    "sns.heatmap(cm, annot=True, cmap=\"Blues\", fmt=\"d\", xticklabels=labelGender, yticklabels=labelGender)\n",
    "\n",
    "# set plot labels and title\n",
    "plt.xlabel('Predicted Label')\n",
    "plt.ylabel('True Label')\n",
    "plt.title('Confusion Matrix')\n",
    "\n",
    "plt.show()"
   ]
  },
  {
   "attachments": {},
   "cell_type": "markdown",
   "metadata": {},
   "source": [
    "#### Predicting Age"
   ]
  },
  {
   "cell_type": "code",
   "execution_count": 105,
   "metadata": {},
   "outputs": [],
   "source": [
    "X_train, X_test, y_train, y_test = train_test_split(X_svm, age_categories, test_size=0.2, random_state=42)#variar a percentagem split"
   ]
  },
  {
   "cell_type": "code",
   "execution_count": 106,
   "metadata": {},
   "outputs": [
    {
     "name": "stderr",
     "output_type": "stream",
     "text": [
      "c:\\Users\\afbso\\anaconda3\\lib\\site-packages\\sklearn\\multiclass.py:79: UserWarning: Label not 0 is present in all training examples.\n",
      "  warnings.warn(\n",
      "c:\\Users\\afbso\\anaconda3\\lib\\site-packages\\sklearn\\multiclass.py:79: UserWarning: Label not 2 is present in all training examples.\n",
      "  warnings.warn(\n",
      "c:\\Users\\afbso\\anaconda3\\lib\\site-packages\\sklearn\\multiclass.py:79: UserWarning: Label not 3 is present in all training examples.\n",
      "  warnings.warn(\n",
      "c:\\Users\\afbso\\anaconda3\\lib\\site-packages\\sklearn\\multiclass.py:79: UserWarning: Label not 4 is present in all training examples.\n",
      "  warnings.warn(\n"
     ]
    },
    {
     "name": "stdout",
     "output_type": "stream",
     "text": [
      "MCC:  0.3061862178478973\n",
      "              precision    recall  f1-score   support\n",
      "\n",
      "           0       0.00      0.00      0.00         0\n",
      "           1       1.00      0.75      0.86         8\n",
      "           5       0.00      0.00      0.00         2\n",
      "\n",
      "    accuracy                           0.60        10\n",
      "   macro avg       0.33      0.25      0.29        10\n",
      "weighted avg       0.80      0.60      0.69        10\n",
      "\n"
     ]
    },
    {
     "name": "stderr",
     "output_type": "stream",
     "text": [
      "c:\\Users\\afbso\\anaconda3\\lib\\site-packages\\sklearn\\metrics\\_classification.py:1318: UndefinedMetricWarning: Precision and F-score are ill-defined and being set to 0.0 in labels with no predicted samples. Use `zero_division` parameter to control this behavior.\n",
      "  _warn_prf(average, modifier, msg_start, len(result))\n",
      "c:\\Users\\afbso\\anaconda3\\lib\\site-packages\\sklearn\\metrics\\_classification.py:1318: UndefinedMetricWarning: Recall and F-score are ill-defined and being set to 0.0 in labels with no true samples. Use `zero_division` parameter to control this behavior.\n",
      "  _warn_prf(average, modifier, msg_start, len(result))\n",
      "c:\\Users\\afbso\\anaconda3\\lib\\site-packages\\sklearn\\metrics\\_classification.py:1318: UndefinedMetricWarning: Precision and F-score are ill-defined and being set to 0.0 in labels with no predicted samples. Use `zero_division` parameter to control this behavior.\n",
      "  _warn_prf(average, modifier, msg_start, len(result))\n",
      "c:\\Users\\afbso\\anaconda3\\lib\\site-packages\\sklearn\\metrics\\_classification.py:1318: UndefinedMetricWarning: Recall and F-score are ill-defined and being set to 0.0 in labels with no true samples. Use `zero_division` parameter to control this behavior.\n",
      "  _warn_prf(average, modifier, msg_start, len(result))\n",
      "c:\\Users\\afbso\\anaconda3\\lib\\site-packages\\sklearn\\metrics\\_classification.py:1318: UndefinedMetricWarning: Precision and F-score are ill-defined and being set to 0.0 in labels with no predicted samples. Use `zero_division` parameter to control this behavior.\n",
      "  _warn_prf(average, modifier, msg_start, len(result))\n",
      "c:\\Users\\afbso\\anaconda3\\lib\\site-packages\\sklearn\\metrics\\_classification.py:1318: UndefinedMetricWarning: Recall and F-score are ill-defined and being set to 0.0 in labels with no true samples. Use `zero_division` parameter to control this behavior.\n",
      "  _warn_prf(average, modifier, msg_start, len(result))\n"
     ]
    },
    {
     "data": {
      "image/png": "[encoded data removed]",
      "text/plain": [
       "<Figure size 432x288 with 2 Axes>"
      ]
     },
     "metadata": {
      "needs_background": "light"
     },
     "output_type": "display_data"
    }
   ],
   "source": [
    "clf = OneVsRestClassifier(SVC())\n",
    "clf.fit(X_train, y_train)\n",
    "\n",
    "# Convert one-hot encoded labels to integer form\n",
    "y_pred = clf.predict(X_test)\n",
    "\n",
    "y_test_int = np.argmax(y_test, axis=1)\n",
    "y_pred_int = np.argmax(y_pred, axis=1)\n",
    "\n",
    "# Print classification report and confusion matrix\n",
    "mcc = matthews_corrcoef(y_test_int, y_pred_int)\n",
    "\n",
    "#accuracy = accuracy_score(y_test, y_pred)\n",
    "print(\"MCC: \", mcc)\n",
    "#print(\"Accuracy: \", accuracy)\n",
    "print(classification_report(y_test_int, y_pred_int))\n",
    "#confusion_matrix(y_test, y_pred)\n",
    "labelage= list(set(age_classes))\n",
    "# assume y_true and y_pred are the true and predicted labels, respectively\n",
    "cm = confusion_matrix(y_test_int, y_pred_int)\n",
    "# create a heatmap of the confusion matrix using seaborn\n",
    "sns.heatmap(cm, annot=True, cmap=\"Blues\", fmt=\"d\", xticklabels=labelage, yticklabels=labelage)\n",
    "# set plot labels and title\n",
    "plt.xlabel('Predicted Label')\n",
    "plt.ylabel('True Label')\n",
    "plt.title('Confusion Matrix')\n",
    "\n",
    "plt.show()"
   ]
  },
  {
   "attachments": {},
   "cell_type": "markdown",
   "metadata": {},
   "source": [
    "### 6.2) CNN using features extracted from VGG-16"
   ]
  },
  {
   "attachments": {},
   "cell_type": "markdown",
   "metadata": {},
   "source": [
    "#### Predicting Gender"
   ]
  },
  {
   "cell_type": "code",
   "execution_count": 107,
   "metadata": {},
   "outputs": [],
   "source": [
    "X_train, X_test, y_train, y_test = train_test_split(X, genders, test_size=0.2, random_state=42)"
   ]
  },
  {
   "cell_type": "code",
   "execution_count": 108,
   "metadata": {},
   "outputs": [],
   "source": [
    "X_train = np.asarray(X_train)\n",
    "y_train = np.asarray(y_train)\n",
    "\n",
    "X_test = np.asarray(X_test)\n",
    "y_test = np.asarray(y_test)"
   ]
  },
  {
   "cell_type": "code",
   "execution_count": 109,
   "metadata": {},
   "outputs": [
    {
     "name": "stdout",
     "output_type": "stream",
     "text": [
      "Model: \"sequential_6\"\n",
      "_________________________________________________________________\n",
      " Layer (type)                Output Shape              Param #   \n",
      "=================================================================\n",
      " conv2d_12 (Conv2D)          (None, 6, 6, 64)          131136    \n",
      "                                                                 \n",
      " max_pooling2d_12 (MaxPoolin  (None, 3, 3, 64)         0         \n",
      " g2D)                                                            \n",
      "                                                                 \n",
      " dropout_10 (Dropout)        (None, 3, 3, 64)          0         \n",
      "                                                                 \n",
      " conv2d_13 (Conv2D)          (None, 3, 3, 32)          8224      \n",
      "                                                                 \n",
      " max_pooling2d_13 (MaxPoolin  (None, 1, 1, 32)         0         \n",
      " g2D)                                                            \n",
      "                                                                 \n",
      " dropout_11 (Dropout)        (None, 1, 1, 32)          0         \n",
      "                                                                 \n",
      " flatten_6 (Flatten)         (None, 32)                0         \n",
      "                                                                 \n",
      " dense_12 (Dense)            (None, 256)               8448      \n",
      "                                                                 \n",
      " dropout_12 (Dropout)        (None, 256)               0         \n",
      "                                                                 \n",
      " dense_13 (Dense)            (None, 1)                 257       \n",
      "                                                                 \n",
      "=================================================================\n",
      "Total params: 148,065\n",
      "Trainable params: 148,065\n",
      "Non-trainable params: 0\n",
      "_________________________________________________________________\n"
     ]
    }
   ],
   "source": [
    "model = CNN((6, 6, 512), 1, 'sigmoid')"
   ]
  },
  {
   "cell_type": "code",
   "execution_count": 110,
   "metadata": {},
   "outputs": [
    {
     "name": "stdout",
     "output_type": "stream",
     "text": [
      "Epoch 1/3\n",
      "1/2 [==============>...............] - ETA: 1s - loss: 3.2747WARNING:tensorflow:5 out of the last 11 calls to <function Model.make_test_function.<locals>.test_function at 0x0000026A18CFBF70> triggered tf.function retracing. Tracing is expensive and the excessive number of tracings could be due to (1) creating @tf.function repeatedly in a loop, (2) passing tensors with different shapes, (3) passing Python objects instead of tensors. For (1), please define your @tf.function outside of the loop. For (2), @tf.function has reduce_retracing=True option that can avoid unnecessary retracing. For (3), please refer to https://www.tensorflow.org/guide/function#controlling_retracing and https://www.tensorflow.org/api_docs/python/tf/function for  more details.\n",
      "2/2 [==============================] - 2s 217ms/step - loss: 3.3069 - val_loss: 1.1403\n",
      "Epoch 2/3\n",
      "2/2 [==============================] - 0s 51ms/step - loss: 2.7040 - val_loss: 0.3442\n",
      "Epoch 3/3\n",
      "2/2 [==============================] - 0s 49ms/step - loss: 1.3486 - val_loss: 0.1684\n"
     ]
    }
   ],
   "source": [
    "#for age use categorical_crossentropy instead\n",
    "model.compile(optimizer=\"adam\", loss=\"binary_crossentropy\")\n",
    "\n",
    "history_VGG16_gender = model.fit(X_train, y_train,\n",
    "                    epochs=3,\n",
    "                    batch_size=32,\n",
    "                    validation_data=(X_test, y_test))"
   ]
  },
  {
   "cell_type": "code",
   "execution_count": 111,
   "metadata": {},
   "outputs": [
    {
     "name": "stdout",
     "output_type": "stream",
     "text": [
      "1/1 [==============================] - 0s 103ms/step\n",
      "MCC:  0.0\n"
     ]
    },
    {
     "data": {
      "image/png": "[encoded data removed]",
      "text/plain": [
       "<Figure size 432x288 with 2 Axes>"
      ]
     },
     "metadata": {
      "needs_background": "light"
     },
     "output_type": "display_data"
    },
    {
     "name": "stdout",
     "output_type": "stream",
     "text": [
      "              precision    recall  f1-score   support\n",
      "\n",
      "           0       1.00      1.00      1.00        10\n",
      "\n",
      "    accuracy                           1.00        10\n",
      "   macro avg       1.00      1.00      1.00        10\n",
      "weighted avg       1.00      1.00      1.00        10\n",
      "\n"
     ]
    }
   ],
   "source": [
    "prediction_metrics(model, X_test, y_test, genders)"
   ]
  },
  {
   "attachments": {},
   "cell_type": "markdown",
   "metadata": {},
   "source": [
    "#### Predicting Age"
   ]
  },
  {
   "cell_type": "code",
   "execution_count": 112,
   "metadata": {},
   "outputs": [],
   "source": [
    "X_train, X_test, y_train, y_test = train_test_split(X, age_categories, test_size=0.2, random_state=42)"
   ]
  },
  {
   "cell_type": "code",
   "execution_count": 113,
   "metadata": {},
   "outputs": [
    {
     "name": "stdout",
     "output_type": "stream",
     "text": [
      "Model: \"sequential_7\"\n",
      "_________________________________________________________________\n",
      " Layer (type)                Output Shape              Param #   \n",
      "=================================================================\n",
      " conv2d_14 (Conv2D)          (None, 6, 6, 64)          131136    \n",
      "                                                                 \n",
      " max_pooling2d_14 (MaxPoolin  (None, 3, 3, 64)         0         \n",
      " g2D)                                                            \n",
      "                                                                 \n",
      " dropout_13 (Dropout)        (None, 3, 3, 64)          0         \n",
      "                                                                 \n",
      " conv2d_15 (Conv2D)          (None, 3, 3, 32)          8224      \n",
      "                                                                 \n",
      " max_pooling2d_15 (MaxPoolin  (None, 1, 1, 32)         0         \n",
      " g2D)                                                            \n",
      "                                                                 \n",
      " dropout_14 (Dropout)        (None, 1, 1, 32)          0         \n",
      "                                                                 \n",
      " flatten_7 (Flatten)         (None, 32)                0         \n",
      "                                                                 \n",
      " dense_14 (Dense)            (None, 256)               8448      \n",
      "                                                                 \n",
      " dropout_15 (Dropout)        (None, 256)               0         \n",
      "                                                                 \n",
      " dense_15 (Dense)            (None, 6)                 1542      \n",
      "                                                                 \n",
      "=================================================================\n",
      "Total params: 149,350\n",
      "Trainable params: 149,350\n",
      "Non-trainable params: 0\n",
      "_________________________________________________________________\n"
     ]
    }
   ],
   "source": [
    "model = CNN((6,6,512), 6, 'softmax')"
   ]
  },
  {
   "cell_type": "code",
   "execution_count": 114,
   "metadata": {},
   "outputs": [
    {
     "name": "stdout",
     "output_type": "stream",
     "text": [
      "Epoch 1/2\n",
      "5/5 [==============================] - 1s 59ms/step - loss: 13.7586 - accuracy: 0.2000 - val_loss: 4.0161 - val_accuracy: 0.2000\n",
      "Epoch 2/2\n",
      "5/5 [==============================] - 0s 18ms/step - loss: 3.3408 - accuracy: 0.5000 - val_loss: 0.6872 - val_accuracy: 0.7000\n"
     ]
    }
   ],
   "source": [
    "model.compile(loss='categorical_crossentropy',\n",
    "            optimizer='adam',\n",
    "            metrics=['accuracy'])\n",
    "\n",
    "history_VGG16_age = model.fit(X_train, y_train,\n",
    "        batch_size=8,\n",
    "        epochs=2,\n",
    "        validation_data=(X_test, y_test),)"
   ]
  },
  {
   "cell_type": "code",
   "execution_count": 115,
   "metadata": {},
   "outputs": [
    {
     "name": "stdout",
     "output_type": "stream",
     "text": [
      "1/1 [==============================] - 0s 78ms/step\n",
      "MCC:  -0.408248290463863\n"
     ]
    },
    {
     "data": {
      "image/png": "[encoded data removed]",
      "text/plain": [
       "<Figure size 432x288 with 2 Axes>"
      ]
     },
     "metadata": {
      "needs_background": "light"
     },
     "output_type": "display_data"
    },
    {
     "name": "stdout",
     "output_type": "stream",
     "text": [
      "              precision    recall  f1-score   support\n",
      "\n",
      "           1       0.33      0.75      0.46         4\n",
      "           5       0.00      0.00      0.00         6\n",
      "\n",
      "    accuracy                           0.30        10\n",
      "   macro avg       0.17      0.38      0.23        10\n",
      "weighted avg       0.13      0.30      0.18        10\n",
      "\n"
     ]
    }
   ],
   "source": [
    "prediction_metrics(model, X_test, y_train, age_classes)"
   ]
  },
  {
   "attachments": {},
   "cell_type": "markdown",
   "metadata": {},
   "source": [
    "## 7) Using Feature extraction methods on data - Autoencoder"
   ]
  },
  {
   "attachments": {},
   "cell_type": "markdown",
   "metadata": {},
   "source": [
    "### Extraction with Autoencoder"
   ]
  },
  {
   "cell_type": "code",
   "execution_count": 116,
   "metadata": {},
   "outputs": [],
   "source": [
    "input = layers.Input(shape=(200, 200, 3))\n",
    "\n",
    "#valor alto apanha artefactos, e valor baixo nao captura bem as features da imagem\n",
    "latent_dim = 2000\n",
    "\n",
    "\n",
    "## Classe \n",
    "\n",
    "# Encoder\n",
    "\n",
    "#didnt increase filter count in encoder and decrease equally in decoder because\n",
    "#it can lead to overfitting\n",
    "\n",
    "\n",
    "\n",
    "x = layers.Conv2D(64, (3,3), activation='relu', padding='same', strides = 2)(input)\n",
    "#x = layers.MaxPooling2D((2,2), padding='same')(x)#dividir imagem por factor de 2\n",
    "x = layers.Conv2D(32, (3,3), activation='relu', padding='same', strides = 2)(x)#reduziu se nr de filtros para 32 porque foi decidido factor de 32 filtros\n",
    "#x = layers.MaxPooling2D((2,2), padding='same')(x)\n",
    "x = layers.Conv2D(16, (3,3), activation='relu', padding='same', strides = 2)(x)\n",
    "#x = layers.MaxPooling2D((2,2), padding='same')(x)#25*25*16=10000\n",
    "x = layers.Flatten()(x)\n",
    "enc = layers.Dense(latent_dim, activation='relu')(x)\n",
    "\n",
    "# Decoder\n",
    "\n",
    "#having conv2D here helps to avoid checkerboard artifacts\n",
    "#which are alternating points of colors (like checkerboard)\n",
    "#that are consequence of deconvolutioning an image and cause \n",
    "#loss of quality in final reconstruction\n",
    "#x = layers.Conv2D(16, (3,3), activation='relu', padding='same')(x)\n",
    "\n",
    "#equivalente a fazer dense layer no fim do encoder e no inicio do decoder\n",
    "#fazer a layer dense fica um vector\n",
    "#fazer reshape depois do 2 dense para voltar a ter imagem do vetor criado\n",
    "\n",
    "x = layers.Dense(25*25*16, activation='relu')(enc)\n",
    "x = layers.Reshape((25,25,16))(x)\n",
    "#x = layers.UpSampling2D((2,2))(x)\n",
    "x = layers.Conv2DTranspose(32, (3, 3), activation=\"relu\", padding=\"same\", strides = 2)(x)\n",
    "#x = layers.UpSampling2D((2,2))(x)\n",
    "x = layers.Conv2DTranspose(64, (3,3), activation='relu', padding='same', strides = 2)(x)\n",
    "#x = layers.UpSampling2D((2,2))(x)\n",
    "output = layers.Conv2DTranspose(3, (3,3), activation='sigmoid', padding='same', strides = 2)(x)\n",
    "\n",
    "\n",
    "#maybe use strides in the layers too\n",
    "#example:\n",
    "#x = layers.Conv2D(16, (3,3), activation='relu', padding='same', strides = 2)(x)\n",
    "\n",
    "# Autoencoder\n",
    "autoencoder = Model(input, output)\n",
    "\n",
    "# binary cross entropy is good for image feature extraction especially when images are normalized\n",
    "autoencoder.compile(optimizer=\"adam\", loss=\"binary_crossentropy\")\n",
    "#autoencoder.summary()"
   ]
  },
  {
   "attachments": {},
   "cell_type": "markdown",
   "metadata": {},
   "source": [
    "### 7.1) SVM with grid search parameter tuning using features extracted from the Autoencoder"
   ]
  },
  {
   "attachments": {},
   "cell_type": "markdown",
   "metadata": {},
   "source": [
    "#### Predicting Gender"
   ]
  },
  {
   "cell_type": "code",
   "execution_count": 117,
   "metadata": {},
   "outputs": [],
   "source": [
    "# for this the order is first the split of the data then using autoencoder on train_x\n",
    "X_train, X_test, y_train, y_test = train_test_split(images, genders, test_size=0.2, random_state=42)"
   ]
  },
  {
   "cell_type": "code",
   "execution_count": 118,
   "metadata": {},
   "outputs": [],
   "source": [
    "X_train = np.array(X_train)\n",
    "X_train = np.reshape(X_train, (X_train.shape[0], X_train.shape[1], X_train.shape[2], 3))\n",
    "\n",
    "X_test = np.array(X_test)\n",
    "X_test = np.reshape(X_test, (X_test.shape[0], X_test.shape[1], X_test.shape[2], 3))"
   ]
  },
  {
   "cell_type": "code",
   "execution_count": 119,
   "metadata": {},
   "outputs": [
    {
     "data": {
      "text/plain": [
       "(10, 200, 200, 3)"
      ]
     },
     "execution_count": 119,
     "metadata": {},
     "output_type": "execute_result"
    }
   ],
   "source": [
    "X_test.shape"
   ]
  },
  {
   "cell_type": "code",
   "execution_count": 120,
   "metadata": {},
   "outputs": [
    {
     "name": "stdout",
     "output_type": "stream",
     "text": [
      "Model: \"model\"\n",
      "_________________________________________________________________\n",
      " Layer (type)                Output Shape              Param #   \n",
      "=================================================================\n",
      " input_2 (InputLayer)        [(None, 200, 200, 3)]     0         \n",
      "                                                                 \n",
      " conv2d_16 (Conv2D)          (None, 100, 100, 64)      1792      \n",
      "                                                                 \n",
      " conv2d_17 (Conv2D)          (None, 50, 50, 32)        18464     \n",
      "                                                                 \n",
      " conv2d_18 (Conv2D)          (None, 25, 25, 16)        4624      \n",
      "                                                                 \n",
      " flatten_8 (Flatten)         (None, 10000)             0         \n",
      "                                                                 \n",
      " dense_16 (Dense)            (None, 2000)              20002000  \n",
      "                                                                 \n",
      " dense_17 (Dense)            (None, 10000)             20010000  \n",
      "                                                                 \n",
      " reshape_4 (Reshape)         (None, 25, 25, 16)        0         \n",
      "                                                                 \n",
      " conv2d_transpose (Conv2DTra  (None, 50, 50, 32)       4640      \n",
      " nspose)                                                         \n",
      "                                                                 \n",
      " conv2d_transpose_1 (Conv2DT  (None, 100, 100, 64)     18496     \n",
      " ranspose)                                                       \n",
      "                                                                 \n",
      " conv2d_transpose_2 (Conv2DT  (None, 200, 200, 3)      1731      \n",
      " ranspose)                                                       \n",
      "                                                                 \n",
      "=================================================================\n",
      "Total params: 40,061,747\n",
      "Trainable params: 40,061,747\n",
      "Non-trainable params: 0\n",
      "_________________________________________________________________\n"
     ]
    }
   ],
   "source": [
    "# binary cross entropy is good for image feature extraction especially when images are normalized\n",
    "autoencoder.compile(optimizer=\"adam\", loss=\"binary_crossentropy\")\n",
    "autoencoder.summary()"
   ]
  },
  {
   "cell_type": "code",
   "execution_count": 121,
   "metadata": {},
   "outputs": [
    {
     "name": "stdout",
     "output_type": "stream",
     "text": [
      "Epoch 1/2\n",
      "2/2 [==============================] - 4s 987ms/step - loss: -9.0240 - val_loss: -593.0262\n",
      "Epoch 2/2\n",
      "2/2 [==============================] - 2s 714ms/step - loss: -901.2479 - val_loss: -7973.0342\n"
     ]
    },
    {
     "data": {
      "text/plain": [
       "<keras.callbacks.History at 0x26a1c8eb430>"
      ]
     },
     "execution_count": 121,
     "metadata": {},
     "output_type": "execute_result"
    }
   ],
   "source": [
    "#using validation_data is good for detecting overfitting as \n",
    "#it does early stopping when the performance is no longer improving\n",
    "\n",
    "autoencoder.fit(x = X_train, \n",
    "                y = X_train,\n",
    "                epochs = 2,\n",
    "                shuffle = True,\n",
    "                batch_size = 32,\n",
    "                validation_data = (X_test, X_test),)"
   ]
  },
  {
   "cell_type": "code",
   "execution_count": 122,
   "metadata": {},
   "outputs": [
    {
     "data": {
      "text/plain": [
       "TensorShape([None, 2000])"
      ]
     },
     "execution_count": 122,
     "metadata": {},
     "output_type": "execute_result"
    }
   ],
   "source": [
    "enc.shape"
   ]
  },
  {
   "cell_type": "code",
   "execution_count": 123,
   "metadata": {},
   "outputs": [],
   "source": [
    "new_model = Model(input, enc)"
   ]
  },
  {
   "cell_type": "code",
   "execution_count": 124,
   "metadata": {},
   "outputs": [
    {
     "name": "stdout",
     "output_type": "stream",
     "text": [
      "2/2 [==============================] - 0s 25ms/step\n",
      "1/1 [==============================] - 0s 55ms/step\n"
     ]
    }
   ],
   "source": [
    "pred_train = new_model.predict(X_train)\n",
    "pred_test = new_model.predict(X_test)"
   ]
  },
  {
   "cell_type": "code",
   "execution_count": 125,
   "metadata": {},
   "outputs": [],
   "source": [
    "encoded_X_train = pred_train.reshape((pred_train.shape[0], -1))\n",
    "encoded_X_test = pred_test.reshape((pred_test.shape[0], -1))"
   ]
  },
  {
   "cell_type": "code",
   "execution_count": 126,
   "metadata": {},
   "outputs": [
    {
     "name": "stdout",
     "output_type": "stream",
     "text": [
      "MCC:  0.0\n",
      "              precision    recall  f1-score   support\n",
      "\n",
      "           0       0.90      1.00      0.95         9\n",
      "           1       0.00      0.00      0.00         1\n",
      "\n",
      "    accuracy                           0.90        10\n",
      "   macro avg       0.45      0.50      0.47        10\n",
      "weighted avg       0.81      0.90      0.85        10\n",
      "\n"
     ]
    },
    {
     "name": "stderr",
     "output_type": "stream",
     "text": [
      "c:\\Users\\afbso\\anaconda3\\lib\\site-packages\\sklearn\\metrics\\_classification.py:1318: UndefinedMetricWarning: Precision and F-score are ill-defined and being set to 0.0 in labels with no predicted samples. Use `zero_division` parameter to control this behavior.\n",
      "  _warn_prf(average, modifier, msg_start, len(result))\n",
      "c:\\Users\\afbso\\anaconda3\\lib\\site-packages\\sklearn\\metrics\\_classification.py:1318: UndefinedMetricWarning: Precision and F-score are ill-defined and being set to 0.0 in labels with no predicted samples. Use `zero_division` parameter to control this behavior.\n",
      "  _warn_prf(average, modifier, msg_start, len(result))\n",
      "c:\\Users\\afbso\\anaconda3\\lib\\site-packages\\sklearn\\metrics\\_classification.py:1318: UndefinedMetricWarning: Precision and F-score are ill-defined and being set to 0.0 in labels with no predicted samples. Use `zero_division` parameter to control this behavior.\n",
      "  _warn_prf(average, modifier, msg_start, len(result))\n"
     ]
    },
    {
     "data": {
      "image/png": "[encoded data removed]",
      "text/plain": [
       "<Figure size 432x288 with 2 Axes>"
      ]
     },
     "metadata": {
      "needs_background": "light"
     },
     "output_type": "display_data"
    }
   ],
   "source": [
    "clf = SVC()\n",
    "clf.fit(encoded_X_train, y_train)\n",
    "\n",
    "# Evaluate the classifier on the testing data\n",
    "y_pred = clf.predict(encoded_X_test)\n",
    "\n",
    "mcc = matthews_corrcoef(y_test, y_pred)\n",
    "#accuracy = accuracy_score(y_test, y_pred)\n",
    "print(\"MCC: \", mcc)\n",
    "#print(\"Accuracy: \", accuracy)\n",
    "print(classification_report(y_test, y_pred))\n",
    "#confusion_matrix(y_test, y_pred)\n",
    "\n",
    "labelGender = list(set(genders))\n",
    "\n",
    "# assume y_true and y_pred are the true and predicted labels, respectively\n",
    "cm = confusion_matrix(y_test, y_pred)\n",
    "\n",
    "# create a heatmap of the confusion matrix using seaborn\n",
    "sns.heatmap(cm, annot=True, cmap=\"Blues\", fmt=\"d\", xticklabels=labelGender, yticklabels=labelGender)\n",
    "\n",
    "# set plot labels and title\n",
    "plt.xlabel('Predicted Label')\n",
    "plt.ylabel('True Label')\n",
    "plt.title('Confusion Matrix')\n",
    "\n",
    "plt.show()"
   ]
  },
  {
   "cell_type": "code",
   "execution_count": 127,
   "metadata": {},
   "outputs": [
    {
     "data": {
      "text/plain": [
       "array([0, 1])"
      ]
     },
     "execution_count": 127,
     "metadata": {},
     "output_type": "execute_result"
    }
   ],
   "source": [
    "np.unique(y_test)"
   ]
  },
  {
   "attachments": {},
   "cell_type": "markdown",
   "metadata": {},
   "source": [
    "#### Predicting Age"
   ]
  },
  {
   "cell_type": "code",
   "execution_count": 128,
   "metadata": {},
   "outputs": [],
   "source": [
    "# for this the order is first the split of the data then using autoencoder on train_x\n",
    "X_train, X_test, y_train, y_test = train_test_split(images, age_categories, test_size=0.2, random_state=42)"
   ]
  },
  {
   "cell_type": "code",
   "execution_count": 129,
   "metadata": {},
   "outputs": [],
   "source": [
    "X_train = np.array(X_train)\n",
    "X_train = np.reshape(X_train, (X_train.shape[0], X_train.shape[1], X_train.shape[2], 3))\n",
    "\n",
    "X_test = np.array(X_test)\n",
    "X_test = np.reshape(X_test, (X_test.shape[0], X_test.shape[1], X_test.shape[2], 3))"
   ]
  },
  {
   "cell_type": "code",
   "execution_count": 130,
   "metadata": {},
   "outputs": [
    {
     "name": "stdout",
     "output_type": "stream",
     "text": [
      "Model: \"model\"\n",
      "_________________________________________________________________\n",
      " Layer (type)                Output Shape              Param #   \n",
      "=================================================================\n",
      " input_2 (InputLayer)        [(None, 200, 200, 3)]     0         \n",
      "                                                                 \n",
      " conv2d_16 (Conv2D)          (None, 100, 100, 64)      1792      \n",
      "                                                                 \n",
      " conv2d_17 (Conv2D)          (None, 50, 50, 32)        18464     \n",
      "                                                                 \n",
      " conv2d_18 (Conv2D)          (None, 25, 25, 16)        4624      \n",
      "                                                                 \n",
      " flatten_8 (Flatten)         (None, 10000)             0         \n",
      "                                                                 \n",
      " dense_16 (Dense)            (None, 2000)              20002000  \n",
      "                                                                 \n",
      " dense_17 (Dense)            (None, 10000)             20010000  \n",
      "                                                                 \n",
      " reshape_4 (Reshape)         (None, 25, 25, 16)        0         \n",
      "                                                                 \n",
      " conv2d_transpose (Conv2DTra  (None, 50, 50, 32)       4640      \n",
      " nspose)                                                         \n",
      "                                                                 \n",
      " conv2d_transpose_1 (Conv2DT  (None, 100, 100, 64)     18496     \n",
      " ranspose)                                                       \n",
      "                                                                 \n",
      " conv2d_transpose_2 (Conv2DT  (None, 200, 200, 3)      1731      \n",
      " ranspose)                                                       \n",
      "                                                                 \n",
      "=================================================================\n",
      "Total params: 40,061,747\n",
      "Trainable params: 40,061,747\n",
      "Non-trainable params: 0\n",
      "_________________________________________________________________\n"
     ]
    }
   ],
   "source": [
    "# binary cross entropy is good for image feature extraction especially when images are normalized\n",
    "autoencoder.compile(optimizer=\"adam\", loss='categorical_crossentropy')\n",
    "autoencoder.summary()\n"
   ]
  },
  {
   "cell_type": "code",
   "execution_count": 131,
   "metadata": {},
   "outputs": [
    {
     "name": "stdout",
     "output_type": "stream",
     "text": [
      "Epoch 1/2\n",
      "2/2 [==============================] - 4s 1s/step - loss: 31872.9336 - val_loss: 178884.8594\n",
      "Epoch 2/2\n",
      "2/2 [==============================] - 2s 678ms/step - loss: 208049.8438 - val_loss: 708336.9375\n"
     ]
    },
    {
     "data": {
      "text/plain": [
       "<keras.callbacks.History at 0x26a19940430>"
      ]
     },
     "execution_count": 131,
     "metadata": {},
     "output_type": "execute_result"
    }
   ],
   "source": [
    "autoencoder.fit(x = X_train, \n",
    "                y = X_train,\n",
    "                epochs = 2,\n",
    "                shuffle = True,\n",
    "                batch_size = 32,\n",
    "                validation_data = (X_test, X_test),\n",
    ")"
   ]
  },
  {
   "cell_type": "code",
   "execution_count": 132,
   "metadata": {},
   "outputs": [
    {
     "name": "stdout",
     "output_type": "stream",
     "text": [
      "2/2 [==============================] - 0s 25ms/step\n",
      "1/1 [==============================] - 0s 48ms/step\n"
     ]
    }
   ],
   "source": [
    "new_model = Model(input, enc)\n",
    "\n",
    "pred_train = new_model.predict(X_train)\n",
    "pred_test = new_model.predict(X_test)\n",
    "\n",
    "\n",
    "encoded_train = pred_train.reshape((pred_train.shape[0], -1))\n",
    "encoded_test = pred_test.reshape((pred_test.shape[0], -1))"
   ]
  },
  {
   "cell_type": "code",
   "execution_count": 133,
   "metadata": {},
   "outputs": [
    {
     "name": "stdout",
     "output_type": "stream",
     "text": [
      "MCC:  0.0\n",
      "              precision    recall  f1-score   support\n",
      "\n",
      "           1       0.80      1.00      0.89         8\n",
      "           5       0.00      0.00      0.00         2\n",
      "\n",
      "    accuracy                           0.80        10\n",
      "   macro avg       0.40      0.50      0.44        10\n",
      "weighted avg       0.64      0.80      0.71        10\n",
      "\n"
     ]
    },
    {
     "name": "stderr",
     "output_type": "stream",
     "text": [
      "c:\\Users\\afbso\\anaconda3\\lib\\site-packages\\sklearn\\multiclass.py:79: UserWarning: Label not 0 is present in all training examples.\n",
      "  warnings.warn(\n",
      "c:\\Users\\afbso\\anaconda3\\lib\\site-packages\\sklearn\\multiclass.py:79: UserWarning: Label not 2 is present in all training examples.\n",
      "  warnings.warn(\n",
      "c:\\Users\\afbso\\anaconda3\\lib\\site-packages\\sklearn\\multiclass.py:79: UserWarning: Label not 3 is present in all training examples.\n",
      "  warnings.warn(\n",
      "c:\\Users\\afbso\\anaconda3\\lib\\site-packages\\sklearn\\multiclass.py:79: UserWarning: Label not 4 is present in all training examples.\n",
      "  warnings.warn(\n",
      "c:\\Users\\afbso\\anaconda3\\lib\\site-packages\\sklearn\\metrics\\_classification.py:1318: UndefinedMetricWarning: Precision and F-score are ill-defined and being set to 0.0 in labels with no predicted samples. Use `zero_division` parameter to control this behavior.\n",
      "  _warn_prf(average, modifier, msg_start, len(result))\n",
      "c:\\Users\\afbso\\anaconda3\\lib\\site-packages\\sklearn\\metrics\\_classification.py:1318: UndefinedMetricWarning: Precision and F-score are ill-defined and being set to 0.0 in labels with no predicted samples. Use `zero_division` parameter to control this behavior.\n",
      "  _warn_prf(average, modifier, msg_start, len(result))\n",
      "c:\\Users\\afbso\\anaconda3\\lib\\site-packages\\sklearn\\metrics\\_classification.py:1318: UndefinedMetricWarning: Precision and F-score are ill-defined and being set to 0.0 in labels with no predicted samples. Use `zero_division` parameter to control this behavior.\n",
      "  _warn_prf(average, modifier, msg_start, len(result))\n"
     ]
    },
    {
     "data": {
      "image/png": "[encoded data removed]",
      "text/plain": [
       "<Figure size 432x288 with 2 Axes>"
      ]
     },
     "metadata": {
      "needs_background": "light"
     },
     "output_type": "display_data"
    }
   ],
   "source": [
    "clf = OneVsRestClassifier(SVC())\n",
    "clf.fit(encoded_train, y_train)\n",
    "\n",
    "# Convert one-hot encoded labels to integer form\n",
    "y_pred = clf.predict(encoded_test)\n",
    "\n",
    "y_test_int = np.argmax(y_test, axis=1)\n",
    "y_pred_int = np.argmax(y_pred, axis=1)\n",
    "\n",
    "# Print classification report and confusion matrix\n",
    "mcc = matthews_corrcoef(y_test_int, y_pred_int)\n",
    "\n",
    "#accuracy = accuracy_score(y_test, y_pred)\n",
    "print(\"MCC: \", mcc)\n",
    "#print(\"Accuracy: \", accuracy)\n",
    "print(classification_report(y_test_int, y_pred_int))\n",
    "#confusion_matrix(y_test, y_pred)\n",
    "labelage= list(set(age_classes))\n",
    "# assume y_true and y_pred are the true and predicted labels, respectively\n",
    "cm = confusion_matrix(y_test_int, y_pred_int)\n",
    "# create a heatmap of the confusion matrix using seaborn\n",
    "sns.heatmap(cm, annot=True, cmap=\"Blues\", fmt=\"d\", xticklabels=labelage, yticklabels=labelage)\n",
    "# set plot labels and title\n",
    "plt.xlabel('Predicted Label')\n",
    "plt.ylabel('True Label')\n",
    "plt.title('Confusion Matrix')\n",
    "\n",
    "plt.show()"
   ]
  },
  {
   "attachments": {},
   "cell_type": "markdown",
   "metadata": {},
   "source": [
    "### 7.2) CNN using features extracted from the Autoencoder"
   ]
  },
  {
   "attachments": {},
   "cell_type": "markdown",
   "metadata": {},
   "source": [
    "#### Predicting Gender"
   ]
  },
  {
   "cell_type": "code",
   "execution_count": 134,
   "metadata": {},
   "outputs": [],
   "source": [
    "X_train, X_test, y_train, y_test = train_test_split(images, genders, test_size=0.2, random_state=42)"
   ]
  },
  {
   "cell_type": "code",
   "execution_count": 135,
   "metadata": {},
   "outputs": [],
   "source": [
    "X_train = np.array(X_train)\n",
    "X_train = np.reshape(X_train, (X_train.shape[0], X_train.shape[1], X_train.shape[2], 3))\n",
    "\n",
    "X_test = np.array(X_test)\n",
    "X_test = np.reshape(X_test, (X_test.shape[0], X_test.shape[1], X_test.shape[2], 3))"
   ]
  },
  {
   "cell_type": "code",
   "execution_count": 136,
   "metadata": {},
   "outputs": [
    {
     "name": "stdout",
     "output_type": "stream",
     "text": [
      "Model: \"model\"\n",
      "_________________________________________________________________\n",
      " Layer (type)                Output Shape              Param #   \n",
      "=================================================================\n",
      " input_2 (InputLayer)        [(None, 200, 200, 3)]     0         \n",
      "                                                                 \n",
      " conv2d_16 (Conv2D)          (None, 100, 100, 64)      1792      \n",
      "                                                                 \n",
      " conv2d_17 (Conv2D)          (None, 50, 50, 32)        18464     \n",
      "                                                                 \n",
      " conv2d_18 (Conv2D)          (None, 25, 25, 16)        4624      \n",
      "                                                                 \n",
      " flatten_8 (Flatten)         (None, 10000)             0         \n",
      "                                                                 \n",
      " dense_16 (Dense)            (None, 2000)              20002000  \n",
      "                                                                 \n",
      " dense_17 (Dense)            (None, 10000)             20010000  \n",
      "                                                                 \n",
      " reshape_4 (Reshape)         (None, 25, 25, 16)        0         \n",
      "                                                                 \n",
      " conv2d_transpose (Conv2DTra  (None, 50, 50, 32)       4640      \n",
      " nspose)                                                         \n",
      "                                                                 \n",
      " conv2d_transpose_1 (Conv2DT  (None, 100, 100, 64)     18496     \n",
      " ranspose)                                                       \n",
      "                                                                 \n",
      " conv2d_transpose_2 (Conv2DT  (None, 200, 200, 3)      1731      \n",
      " ranspose)                                                       \n",
      "                                                                 \n",
      "=================================================================\n",
      "Total params: 40,061,747\n",
      "Trainable params: 40,061,747\n",
      "Non-trainable params: 0\n",
      "_________________________________________________________________\n"
     ]
    }
   ],
   "source": [
    "# binary cross entropy is good for image feature extraction especially when images are normalized\n",
    "autoencoder.compile(optimizer=\"adam\", loss=\"binary_crossentropy\")\n",
    "autoencoder.summary()"
   ]
  },
  {
   "cell_type": "code",
   "execution_count": 137,
   "metadata": {},
   "outputs": [
    {
     "name": "stdout",
     "output_type": "stream",
     "text": [
      "Epoch 1/2\n",
      "2/2 [==============================] - 4s 1s/step - loss: -478277.1562 - val_loss: -1868342.3750\n",
      "Epoch 2/2\n",
      "2/2 [==============================] - 2s 675ms/step - loss: -2096359.0000 - val_loss: -6605202.5000\n"
     ]
    },
    {
     "data": {
      "text/plain": [
       "<keras.callbacks.History at 0x26a1d58e100>"
      ]
     },
     "execution_count": 137,
     "metadata": {},
     "output_type": "execute_result"
    }
   ],
   "source": [
    "#using validation_data is good for detecting overfitting as \n",
    "#it does early stopping when the performance is no longer improving\n",
    "\n",
    "autoencoder.fit(x = X_train, \n",
    "                y = X_train,\n",
    "                epochs = 2,\n",
    "                shuffle = True,\n",
    "                batch_size = 32,\n",
    "                validation_data = (X_test, X_test),)"
   ]
  },
  {
   "cell_type": "code",
   "execution_count": 138,
   "metadata": {},
   "outputs": [],
   "source": [
    "new_model = Model(input, enc)"
   ]
  },
  {
   "cell_type": "code",
   "execution_count": 139,
   "metadata": {},
   "outputs": [
    {
     "data": {
      "text/plain": [
       "TensorShape([None, 2000])"
      ]
     },
     "execution_count": 139,
     "metadata": {},
     "output_type": "execute_result"
    }
   ],
   "source": [
    "enc.shape"
   ]
  },
  {
   "cell_type": "code",
   "execution_count": 140,
   "metadata": {},
   "outputs": [
    {
     "name": "stdout",
     "output_type": "stream",
     "text": [
      "2/2 [==============================] - 0s 24ms/step\n",
      "1/1 [==============================] - 0s 46ms/step\n"
     ]
    }
   ],
   "source": [
    "encoded_train = new_model.predict(X_train)\n",
    "encoded_test = new_model.predict(X_test)"
   ]
  },
  {
   "cell_type": "code",
   "execution_count": 141,
   "metadata": {},
   "outputs": [],
   "source": [
    "encoded_train = np.asarray(encoded_train)\n",
    "y_train = np.asarray(y_train)\n",
    "\n",
    "encoded_test = np.asarray(encoded_test)\n",
    "y_test = np.asarray(y_test)"
   ]
  },
  {
   "cell_type": "code",
   "execution_count": 142,
   "metadata": {},
   "outputs": [],
   "source": [
    "cnn = Sequential()\n",
    "\n",
    "# Input shape is (2000,)\n",
    "cnn.add(layers.Reshape((40, 50, 1), input_shape=encoded_train[0].shape))\n",
    "cnn.add(layers.MaxPooling2D((2, 2)))\n",
    "cnn.add(layers.Conv2D(32, (3, 3), padding='same', activation='relu'))\n",
    "##cnn.add(layers.MaxPooling2D((2, 2)))\n",
    "cnn.add(layers.Conv2D(64, (3, 3), padding='same', activation='relu'))\n",
    "cnn.add(Flatten())\n",
    "cnn.add(layers.Dense(64, activation='relu'))\n",
    "cnn.add(layers.Dropout(0.2))\n",
    "cnn.add(layers.Dense(1, activation='sigmoid'))"
   ]
  },
  {
   "cell_type": "code",
   "execution_count": 143,
   "metadata": {},
   "outputs": [
    {
     "name": "stdout",
     "output_type": "stream",
     "text": [
      "Epoch 1/3\n",
      "2/2 [==============================] - 1s 463ms/step - loss: 10951.4434 - val_loss: 4528.7393\n",
      "Epoch 2/3\n",
      "2/2 [==============================] - 0s 61ms/step - loss: 13759.2109 - val_loss: 1062.8260\n",
      "Epoch 3/3\n",
      "2/2 [==============================] - 0s 68ms/step - loss: 2186.3159 - val_loss: 5344.8413\n"
     ]
    }
   ],
   "source": [
    "#for age use categorical_crossentropy instead\n",
    "cnn.compile(optimizer=\"adam\", loss=\"binary_crossentropy\")\n",
    "\n",
    "history_autoencoder_gender = cnn.fit(encoded_train, y_train,\n",
    "                    epochs=3,\n",
    "                    batch_size=32,\n",
    "                    validation_data=(encoded_test, y_test))"
   ]
  },
  {
   "cell_type": "code",
   "execution_count": 144,
   "metadata": {},
   "outputs": [
    {
     "name": "stdout",
     "output_type": "stream",
     "text": [
      "1/1 [==============================] - 0s 94ms/step\n",
      "MCC:  0.0\n"
     ]
    },
    {
     "data": {
      "image/png": "[encoded data removed]",
      "text/plain": [
       "<Figure size 432x288 with 2 Axes>"
      ]
     },
     "metadata": {
      "needs_background": "light"
     },
     "output_type": "display_data"
    },
    {
     "name": "stdout",
     "output_type": "stream",
     "text": [
      "              precision    recall  f1-score   support\n",
      "\n",
      "           0       1.00      1.00      1.00        10\n",
      "\n",
      "    accuracy                           1.00        10\n",
      "   macro avg       1.00      1.00      1.00        10\n",
      "weighted avg       1.00      1.00      1.00        10\n",
      "\n"
     ]
    }
   ],
   "source": [
    "prediction_metrics(cnn, encoded_test, y_test, genders)"
   ]
  },
  {
   "attachments": {},
   "cell_type": "markdown",
   "metadata": {},
   "source": [
    "#### Predicting Age"
   ]
  },
  {
   "cell_type": "code",
   "execution_count": 145,
   "metadata": {},
   "outputs": [],
   "source": [
    "X_train, X_test, y_train, y_test = train_test_split(images, age_categories, test_size=0.2, random_state=42)"
   ]
  },
  {
   "cell_type": "code",
   "execution_count": 146,
   "metadata": {},
   "outputs": [],
   "source": [
    "X_train = np.array(X_train)\n",
    "X_train = np.reshape(X_train, (X_train.shape[0], X_train.shape[1], X_train.shape[2], 3))\n",
    "\n",
    "X_test = np.array(X_test)\n",
    "X_test = np.reshape(X_test, (X_test.shape[0], X_test.shape[1], X_test.shape[2], 3))"
   ]
  },
  {
   "cell_type": "code",
   "execution_count": 147,
   "metadata": {},
   "outputs": [
    {
     "name": "stdout",
     "output_type": "stream",
     "text": [
      "Epoch 1/2\n",
      "2/2 [==============================] - 2s 745ms/step - loss: -7106707.0000 - val_loss: -19467834.0000\n",
      "Epoch 2/2\n",
      "2/2 [==============================] - 2s 725ms/step - loss: -20457132.0000 - val_loss: -51084152.0000\n"
     ]
    },
    {
     "data": {
      "text/plain": [
       "<keras.callbacks.History at 0x26a1e219550>"
      ]
     },
     "execution_count": 147,
     "metadata": {},
     "output_type": "execute_result"
    }
   ],
   "source": [
    "autoencoder.fit(x = X_train, \n",
    "                y = X_train,\n",
    "                epochs = 2,\n",
    "                shuffle = True,\n",
    "                batch_size = 32,\n",
    "                validation_data = (X_test, X_test),\n",
    ")"
   ]
  },
  {
   "cell_type": "code",
   "execution_count": 148,
   "metadata": {},
   "outputs": [
    {
     "name": "stdout",
     "output_type": "stream",
     "text": [
      "2/2 [==============================] - 0s 26ms/step\n",
      "1/1 [==============================] - 0s 46ms/step\n"
     ]
    }
   ],
   "source": [
    "new_model = Model(input, enc)\n",
    "encoded_train = new_model.predict(X_train)\n",
    "encoded_test = new_model.predict(X_test)"
   ]
  },
  {
   "cell_type": "code",
   "execution_count": 149,
   "metadata": {},
   "outputs": [],
   "source": [
    "encoded_train = np.asarray(encoded_train)\n",
    "y_train = np.asarray(y_train)\n",
    "\n",
    "encoded_test = np.asarray(encoded_test)\n",
    "y_test = np.asarray(y_test)"
   ]
  },
  {
   "cell_type": "code",
   "execution_count": 150,
   "metadata": {},
   "outputs": [],
   "source": [
    "cnn = Sequential()\n",
    "\n",
    "# Input shape is (3200,)\n",
    "cnn.add(layers.Reshape((40, 50, 1), input_shape=encoded_train[0].shape))\n",
    "cnn.add(layers.MaxPooling2D((2, 2)))\n",
    "cnn.add(layers.Conv2D(32, (3, 3), padding='same', activation='relu'))\n",
    "##cnn.add(layers.MaxPooling2D((2, 2)))\n",
    "cnn.add(layers.Conv2D(64, (3, 3), padding='same', activation='relu'))\n",
    "cnn.add(Flatten())\n",
    "cnn.add(layers.Dense(64, activation='relu'))\n",
    "cnn.add(layers.Dropout(0.2))\n",
    "cnn.add(layers.Dense(6, activation='softmax'))\n",
    "\n",
    "#cnn.summary()"
   ]
  },
  {
   "cell_type": "code",
   "execution_count": 151,
   "metadata": {},
   "outputs": [
    {
     "name": "stdout",
     "output_type": "stream",
     "text": [
      "Epoch 1/2\n",
      "5/5 [==============================] - 1s 90ms/step - loss: 69817.3594 - accuracy: 0.3500 - val_loss: 12464.8047 - val_accuracy: 0.8000\n",
      "Epoch 2/2\n",
      "5/5 [==============================] - 0s 43ms/step - loss: 15343.0205 - accuracy: 0.4250 - val_loss: 1109.2748 - val_accuracy: 0.2000\n"
     ]
    }
   ],
   "source": [
    "cnn.compile(loss='categorical_crossentropy',\n",
    "            optimizer='adam',\n",
    "            metrics=['accuracy'])\n",
    "\n",
    "history_base_age = cnn.fit(encoded_train, y_train,\n",
    "        batch_size=8,\n",
    "        epochs=2,\n",
    "        validation_data=(encoded_test, y_test),)"
   ]
  },
  {
   "cell_type": "code",
   "execution_count": 154,
   "metadata": {},
   "outputs": [
    {
     "name": "stdout",
     "output_type": "stream",
     "text": [
      "1/1 [==============================] - 0s 105ms/step\n",
      "MCC:  0.0\n"
     ]
    },
    {
     "data": {
      "image/png": "[encoded data removed]",
      "text/plain": [
       "<Figure size 432x288 with 2 Axes>"
      ]
     },
     "metadata": {
      "needs_background": "light"
     },
     "output_type": "display_data"
    },
    {
     "name": "stdout",
     "output_type": "stream",
     "text": [
      "              precision    recall  f1-score   support\n",
      "\n",
      "           1       0.00      0.00      0.00         8\n",
      "           5       0.20      1.00      0.33         2\n",
      "\n",
      "    accuracy                           0.20        10\n",
      "   macro avg       0.10      0.50      0.17        10\n",
      "weighted avg       0.04      0.20      0.07        10\n",
      "\n"
     ]
    },
    {
     "name": "stderr",
     "output_type": "stream",
     "text": [
      "c:\\Users\\afbso\\anaconda3\\lib\\site-packages\\sklearn\\metrics\\_classification.py:1318: UndefinedMetricWarning: Precision and F-score are ill-defined and being set to 0.0 in labels with no predicted samples. Use `zero_division` parameter to control this behavior.\n",
      "  _warn_prf(average, modifier, msg_start, len(result))\n",
      "c:\\Users\\afbso\\anaconda3\\lib\\site-packages\\sklearn\\metrics\\_classification.py:1318: UndefinedMetricWarning: Precision and F-score are ill-defined and being set to 0.0 in labels with no predicted samples. Use `zero_division` parameter to control this behavior.\n",
      "  _warn_prf(average, modifier, msg_start, len(result))\n",
      "c:\\Users\\afbso\\anaconda3\\lib\\site-packages\\sklearn\\metrics\\_classification.py:1318: UndefinedMetricWarning: Precision and F-score are ill-defined and being set to 0.0 in labels with no predicted samples. Use `zero_division` parameter to control this behavior.\n",
      "  _warn_prf(average, modifier, msg_start, len(result))\n"
     ]
    }
   ],
   "source": [
    "prediction_metrics(cnn, encoded_test, y_test, age_classes)"
   ]
  },
  {
   "attachments": {},
   "cell_type": "markdown",
   "metadata": {},
   "source": [
    "### Dataframe of Accuracies for each version used of the data (SVM)"
   ]
  },
  {
   "cell_type": "code",
   "execution_count": null,
   "metadata": {},
   "outputs": [
    {
     "name": "stdout",
     "output_type": "stream",
     "text": [
      "         DF for Gender Models\n",
      "   index       Models  Accuracy\n",
      "0      3       VGG 16     0.975\n",
      "1      1          Hog     0.780\n",
      "2      0         Base     0.660\n",
      "3      2          Orb     0.560\n",
      "4      4  Autoencoder     0.420\n",
      "\n",
      "         DF for Age Models\n",
      "   index       Models  Accuracy\n",
      "0      3       VGG 16      0.81\n",
      "1      2          Orb      0.69\n",
      "2      1          Hog      0.64\n",
      "3      0         Base      0.63\n",
      "4      4  Autoencoder      0.63\n"
     ]
    }
   ],
   "source": [
    "data_gender = {'Models': ['Base', 'Hog', 'Orb', 'VGG 16', 'Autoencoder'],\n",
    "        'Accuracy': [0.66, 0.78, 0.56, 0.975, 0.42]}\n",
    "\n",
    "df_gender = pd.DataFrame(data_gender).sort_values(\"Accuracy\", ascending=False).reset_index()\n",
    "\n",
    "\n",
    "data_age = {'Models': ['Base', 'Hog', 'Orb', 'VGG 16', 'Autoencoder'],\n",
    "        'Accuracy': [0.63, 0.64, 0.69, 0.81, 0.63]}\n",
    "\n",
    "df_age = pd.DataFrame(data_age).sort_values(\"Accuracy\", ascending=False).reset_index()\n",
    "\n",
    "print(\"         DF for Gender Models\")\n",
    "print(df_gender)\n",
    "print(\"\")\n",
    "print(\"         DF for Age Models\")\n",
    "print(df_age)"
   ]
  },
  {
   "attachments": {},
   "cell_type": "markdown",
   "metadata": {},
   "source": [
    "### SVM Tuned with VGG16 Features"
   ]
  },
  {
   "attachments": {},
   "cell_type": "markdown",
   "metadata": {},
   "source": [
    "#### Predicting Gender"
   ]
  },
  {
   "cell_type": "code",
   "execution_count": null,
   "metadata": {},
   "outputs": [],
   "source": [
    "X_train, X_test, y_train, y_test = train_test_split(images, genders, test_size=0.2, random_state=42)#variar a percentagem split\n",
    "\n",
    "VGG_model = VGG16(weights='imagenet', include_top=False, input_shape=(200, 200, 3))\n",
    "\n",
    "for layer in VGG_model.layers:\n",
    "\tlayer.trainable = False\n",
    "\t\n",
    "X_train_stacked = np.stack(X_train)\n",
    "\n",
    "feature_extractor=VGG_model.predict(X_train_stacked)\n",
    "\n",
    "features_vgg16 = feature_extractor.reshape(feature_extractor.shape[0], -1)"
   ]
  },
  {
   "cell_type": "code",
   "execution_count": null,
   "metadata": {},
   "outputs": [],
   "source": [
    "clf = SVC()\n",
    "clf.fit(features_vgg16, y_train)\n",
    "\n",
    "accuracy = clf.score(features_vgg16, y_train)\n",
    "print(\"Accuracy:\", accuracy)"
   ]
  },
  {
   "cell_type": "code",
   "execution_count": null,
   "metadata": {},
   "outputs": [],
   "source": [
    "# defining parameter range\n",
    "param_grid = {'C': [0.1, 1, 10, 100, 1000], \n",
    "              'gamma': [1, 0.1, 0.01, 0.001, 0.0001],\n",
    "              'kernel': [\"linear\", \"poly\", \"rbf\", \"sigmoid\"]} \n",
    "  \n",
    "grid = GridSearchCV(SVC(), param_grid, refit = True, verbose = False)\n",
    "  \n",
    "# fitting the model for grid search\n",
    "grid.fit(features_vgg16, y_train)"
   ]
  },
  {
   "cell_type": "code",
   "execution_count": null,
   "metadata": {},
   "outputs": [],
   "source": [
    "# print best parameter after tuning\n",
    "print(grid.best_params_)\n",
    "  \n",
    "# print how our model looks after hyper-parameter tuning\n",
    "print(grid.best_estimator_)"
   ]
  },
  {
   "cell_type": "code",
   "execution_count": null,
   "metadata": {},
   "outputs": [],
   "source": [
    "accuracy = clf.score(features_vgg16, y_train)\n",
    "print(\"Accuracy:\", accuracy)"
   ]
  },
  {
   "attachments": {},
   "cell_type": "markdown",
   "metadata": {},
   "source": [
    "#### Predicting Age"
   ]
  },
  {
   "cell_type": "code",
   "execution_count": null,
   "metadata": {},
   "outputs": [],
   "source": [
    "X_train, X_test, y_train, y_test = train_test_split(images, age_categories, test_size=0.2, random_state=42)#variar a percentagem split\n",
    "\n",
    "VGG_model = VGG16(weights='imagenet', include_top=False, input_shape=(200, 200, 3))\n",
    "\n",
    "for layer in VGG_model.layers:\n",
    "\tlayer.trainable = False\n",
    "\t\n",
    "X_train_stacked = np.stack(X_train)\n",
    "\n",
    "feature_extractor=VGG_model.predict(X_train_stacked)\n",
    "\n",
    "features_vgg16 = feature_extractor.reshape(feature_extractor.shape[0], -1)"
   ]
  },
  {
   "cell_type": "code",
   "execution_count": null,
   "metadata": {},
   "outputs": [],
   "source": [
    "clf = SVC()\n",
    "clf.fit(features_vgg16, y_train)\n",
    "\n",
    "accuracy = clf.score(features_vgg16, y_train)\n",
    "print(\"Accuracy:\", accuracy)"
   ]
  },
  {
   "cell_type": "code",
   "execution_count": null,
   "metadata": {},
   "outputs": [],
   "source": [
    "# defining parameter range\n",
    "param_grid = {'C': [0.1, 1, 10, 100, 1000], \n",
    "              'gamma': [1, 0.1, 0.01, 0.001, 0.0001],\n",
    "              'kernel': [\"linear\", \"poly\", \"rbf\", \"sigmoid\"]} \n",
    "  \n",
    "grid = GridSearchCV(SVC(), param_grid, refit = True, verbose = False)\n",
    "  \n",
    "# fitting the model for grid search\n",
    "grid.fit(features_vgg16, y_train)"
   ]
  },
  {
   "cell_type": "code",
   "execution_count": null,
   "metadata": {},
   "outputs": [],
   "source": [
    "# print best parameter after tuning\n",
    "print(grid.best_params_)\n",
    "  \n",
    "# print how our model looks after hyper-parameter tuning\n",
    "print(grid.best_estimator_)"
   ]
  },
  {
   "cell_type": "code",
   "execution_count": null,
   "metadata": {},
   "outputs": [],
   "source": [
    "accuracy = clf.score(features_vgg16, y_train)\n",
    "print(\"Accuracy:\", accuracy)"
   ]
  },
  {
   "attachments": {},
   "cell_type": "markdown",
   "metadata": {},
   "source": [
    "### CNN Tunned with ....."
   ]
  },
  {
   "cell_type": "code",
   "execution_count": null,
   "metadata": {},
   "outputs": [],
   "source": []
  },
  {
   "attachments": {},
   "cell_type": "markdown",
   "metadata": {},
   "source": [
    "## 8) Comparison of results"
   ]
  },
  {
   "cell_type": "code",
   "execution_count": null,
   "metadata": {},
   "outputs": [],
   "source": [
    "#TODO"
   ]
  },
  {
   "attachments": {},
   "cell_type": "markdown",
   "metadata": {},
   "source": [
    "## 9) Conclusions"
   ]
  },
  {
   "attachments": {},
   "cell_type": "markdown",
   "metadata": {},
   "source": [
    "#TODO"
   ]
  },
  {
   "attachments": {},
   "cell_type": "markdown",
   "metadata": {},
   "source": [
    "# loss graph\n",
    "# "
   ]
  }
 ],
 "metadata": {
  "kernelspec": {
   "display_name": "Python 3",
   "language": "python",
   "name": "python3"
  },
  "language_info": {
   "codemirror_mode": {
    "name": "ipython",
    "version": 3
   },
   "file_extension": ".py",
   "mimetype": "text/x-python",
   "name": "python",
   "nbconvert_exporter": "python",
   "pygments_lexer": "ipython3",
   "version": "3.9.12"
  },
  "orig_nbformat": 4
 },
 "nbformat": 4,
 "nbformat_minor": 2
}
