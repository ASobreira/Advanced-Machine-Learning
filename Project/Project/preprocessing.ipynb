{
 "cells": [
  {
   "cell_type": "code",
   "execution_count": 130,
   "metadata": {},
   "outputs": [
    {
     "name": "stdout",
     "output_type": "stream",
     "text": [
      "Requirement already satisfied: opencv-python in c:\\users\\user\\appdata\\local\\programs\\python\\python310\\lib\\site-packages (4.7.0.72)\n",
      "Requirement already satisfied: numpy>=1.17.0 in c:\\users\\user\\appdata\\local\\programs\\python\\python310\\lib\\site-packages (from opencv-python) (1.24.2)\n"
     ]
    }
   ],
   "source": [
    "#!pip install scikit-image\n",
    "#!pip install opencv-python"
   ]
  },
  {
   "cell_type": "code",
   "execution_count": 62,
   "metadata": {},
   "outputs": [],
   "source": [
    "import numpy as np \n",
    "import pandas as pd \n",
    "import os\n",
    "import cv2\n",
    "from sklearn.decomposition import PCA\n",
    "from sklearn.svm import SVC\n",
    "from skimage.feature import hog\n",
    "import matplotlib.pyplot as plt\n",
    "from sklearn.model_selection import train_test_split\n",
    "from sklearn.svm import SVC"
   ]
  },
  {
   "attachments": {},
   "cell_type": "markdown",
   "metadata": {},
   "source": [
    "## Read data"
   ]
  },
  {
   "cell_type": "code",
   "execution_count": 63,
   "metadata": {},
   "outputs": [
    {
     "name": "stdout",
     "output_type": "stream",
     "text": [
      "subsample size is 278\n"
     ]
    }
   ],
   "source": [
    "dir = \"subsample_of_data\"\n",
    "files = os.listdir(dir)\n",
    "print(\"subsample size is\", len(files))"
   ]
  },
  {
   "cell_type": "code",
   "execution_count": 124,
   "metadata": {},
   "outputs": [
    {
     "name": "stdout",
     "output_type": "stream",
     "text": [
      "number of images that couldn't be read is 0\n"
     ]
    }
   ],
   "source": [
    "images = []\n",
    "ages = []\n",
    "genders = []\n",
    "ethnicities = []\n",
    "nones_count = 0\n",
    "\n",
    "for file in files:\n",
    "    img_path = os.path.join(dir, file)\n",
    "    instance = cv2.imread(img_path, 1) # 0-Greyscale, 1-RGB format\n",
    "    if instance is not None:\n",
    "\n",
    "        # Change all images to 64 by 64 pixels\n",
    "        instance = cv2.resize(instance, dsize = (200,200))\n",
    "\n",
    "        # Accomodate for RGB format\n",
    "        instance = instance.reshape((instance.shape[0], instance.shape[1], 3))\n",
    "\n",
    "        #---------------\n",
    "\n",
    "        #Opcoes de preprocessamento imagem com cv2:\n",
    "        # 1.Resizing\n",
    "        # 2.Smoothing and Blurring\n",
    "        # 3.converting to greyscale\n",
    "        # 4.image edge detection\n",
    "        \n",
    "        #NOTA\n",
    "        # Ver na quarta feira se conseguimos correr os 23000 casos com 200 por 200 pixeis cada\n",
    "        # melhor usar definicao original da imagem do que perder detalhe\n",
    "        # caso demore muito tempo com servidores fzer resizes e outras coisas\n",
    "\n",
    "        #---------------\n",
    "\n",
    "        #Changes to images with opencv methods\n",
    "\n",
    "        # Obtain better contrast for images normalizing the ranges for colors for a pixel between\n",
    "        # 0 and 255\n",
    "        #instance = cv2.normalize(instance, None, alpha=0, beta=255, norm_type=cv2.NORM_MINMAX)\n",
    "\n",
    "        # Converting to YUV color model, equalizing color histogram to modify \n",
    "        # distribution of colors taking luminosity into account and\n",
    "        # reconverting to RBG after doing histogram equalization\n",
    "        #img_yuv = cv2.cvtColor(instance, cv2.COLOR_BGR2YUV)\n",
    "        #img_yuv[:,:,0] = cv2.equalizeHist(img_yuv[:,:,0])\n",
    "        #instance = cv2.cvtColor(img_yuv, cv2.COLOR_YUV2BGR)\n",
    "\n",
    "        #----------------\n",
    "\n",
    "\n",
    "        images.append(instance)\n",
    "        delimit = file.split('_')\n",
    "\n",
    "        ages.append(int(delimit[0]))\n",
    "        # first number is age (0-116 possible values)\n",
    "\n",
    "        genders.append(int(delimit[1]))\n",
    "        # second number is gender (0 for male, 1 for female)\n",
    "\n",
    "        ethnicities.append(int(delimit[2]))\n",
    "        # third number is ethnicity \n",
    "        # (0 for white, 1 for black, 2 for asian, 3 for indian, 4 for any other ethnicity)\n",
    "    else:\n",
    "        nones_count+=1\n",
    "print(\"number of images that couldn't be read is\", nones_count)\n",
    "\n"
   ]
  },
  {
   "cell_type": "code",
   "execution_count": 67,
   "metadata": {},
   "outputs": [],
   "source": [
    "img_all = pd.DataFrame()\n",
    "img_all[\"image_name\"] = files\n",
    "img_all[\"age\"] = ages\n",
    "img_all[\"ethnicity\"] = ethnicities\n",
    "img_all[\"gender\"] = genders\n",
    "#To add the extra features from using cnn/opencv feat extraction\n",
    "\n",
    "img_gender = pd.DataFrame()\n",
    "img_gender[\"gender\"] = genders\n",
    "\n",
    "img_age = pd.DataFrame()\n",
    "img_age[\"age\"] = ages\n",
    "\n",
    "#display(img_all)\n",
    "#display(img_gender)\n",
    "#display(img_age)"
   ]
  },
  {
   "cell_type": "code",
   "execution_count": 68,
   "metadata": {},
   "outputs": [
    {
     "name": "stdout",
     "output_type": "stream",
     "text": [
      "unique values for age are [1 2 3]\n",
      "unique values for ethnicity are [0 1 2 3 4]\n",
      "unique values for gender are [0 1]\n"
     ]
    }
   ],
   "source": [
    "print(\"unique values for age are\", img_age.age.unique())\n",
    "print(\"unique values for ethnicity are\", img_all.ethnicity.unique())\n",
    "print(\"unique values for gender are\", img_gender.gender.unique())"
   ]
  },
  {
   "cell_type": "code",
   "execution_count": 126,
   "metadata": {},
   "outputs": [],
   "source": [
    "#index = 56\n",
    "#print(\"Gender:\", genders[index],\"Age:\", ages[index])\n",
    "#plt.imshow(cv2.cvtColor(images[index], cv2.COLOR_BGR2RGB))"
   ]
  },
  {
   "attachments": {},
   "cell_type": "markdown",
   "metadata": {},
   "source": [
    "# Feature extraction"
   ]
  },
  {
   "cell_type": "code",
   "execution_count": 143,
   "metadata": {},
   "outputs": [],
   "source": [
    "#SIFT and SURF are no longer open source so ORB is used instead on greyscaled images\n",
    "\n",
    "#CNNs are used for feture extraction too but on RBG images so to not lose information\n",
    "\n",
    "image_check = images[245]\n",
    "\n",
    "orb = cv2.ORB_create()\n",
    "\n",
    "kp = orb.detect(image_check, None)\n",
    "\n",
    "kp, des = orb.compute(image_check, kp)\n",
    "\n",
    "img2 = cv2.drawKeypoints(image_check, kp, None, color=(0,255,0), flags=0)\n",
    "#plt.imshow(img2)\n",
    "#plt.show()\n",
    "\n"
   ]
  },
  {
   "cell_type": "code",
   "execution_count": 142,
   "metadata": {},
   "outputs": [
    {
     "ename": "ValueError",
     "evalue": "setting an array element with a sequence. The requested array has an inhomogeneous shape after 1 dimensions. The detected shape was (278,) + inhomogeneous part.",
     "output_type": "error",
     "traceback": [
      "\u001b[1;31m---------------------------------------------------------------------------\u001b[0m",
      "\u001b[1;31mValueError\u001b[0m                                Traceback (most recent call last)",
      "Cell \u001b[1;32mIn[142], line 12\u001b[0m\n\u001b[0;32m     10\u001b[0m     keypoints, descriptors \u001b[39m=\u001b[39m orb\u001b[39m.\u001b[39mdetectAndCompute(img, \u001b[39mNone\u001b[39;00m)\n\u001b[0;32m     11\u001b[0m     orb_features\u001b[39m.\u001b[39mappend(descriptors)\n\u001b[1;32m---> 12\u001b[0m orb_features \u001b[39m=\u001b[39m np\u001b[39m.\u001b[39;49marray(orb_features)\n\u001b[0;32m     14\u001b[0m \u001b[39m# Normalize the features to have zero mean and unit variance\u001b[39;00m\n\u001b[0;32m     15\u001b[0m \u001b[39m#mean = np.mean(orb_features, axis=0)\u001b[39;00m\n\u001b[0;32m     16\u001b[0m \u001b[39m#std = np.std(orb_features, axis=0)\u001b[39;00m\n\u001b[0;32m     17\u001b[0m \u001b[39m#hog_features_norm = (orb_features - mean) / std\u001b[39;00m\n",
      "\u001b[1;31mValueError\u001b[0m: setting an array element with a sequence. The requested array has an inhomogeneous shape after 1 dimensions. The detected shape was (278,) + inhomogeneous part."
     ]
    }
   ],
   "source": [
    "images = np.array(images)\n",
    "\n",
    "# Create ORB object\n",
    "orb = cv2.ORB_create()\n",
    "\n",
    "# Extract ORB features from the images\n",
    "orb_features = []\n",
    "for img in images:\n",
    "    # Detect keypoints and compute descriptors\n",
    "    keypoints, descriptors = orb.detectAndCompute(img, None)\n",
    "    orb_features.append(descriptors)\n",
    "orb_features = np.array(orb_features)\n",
    "\n",
    "# Normalize the features to have zero mean and unit variance\n",
    "#mean = np.mean(orb_features, axis=0)\n",
    "#std = np.std(orb_features, axis=0)\n",
    "#hog_features_norm = (orb_features - mean) / std"
   ]
  },
  {
   "cell_type": "code",
   "execution_count": null,
   "metadata": {},
   "outputs": [],
   "source": []
  },
  {
   "cell_type": "code",
   "execution_count": null,
   "metadata": {},
   "outputs": [],
   "source": []
  },
  {
   "cell_type": "code",
   "execution_count": null,
   "metadata": {},
   "outputs": [],
   "source": []
  },
  {
   "cell_type": "code",
   "execution_count": null,
   "metadata": {},
   "outputs": [],
   "source": []
  },
  {
   "attachments": {},
   "cell_type": "markdown",
   "metadata": {},
   "source": [
    "- The code is reshaping the image to add an additional dimension of size 1 because the later processing steps may expect a 4-dimensional input of shape (num_samples, width, height, channels).\n",
    "- The reason for converting the image to a 3-channel BGR image is that some feature extraction algorithms, such as the HOG (Histogram of Oriented Gradients) algorithm, require a 3-channel input. The HOG algorithm calculates gradients and orientation maps from the input image and uses them to construct a feature vector that describes the texture and shape of the image."
   ]
  },
  {
   "cell_type": "code",
   "execution_count": 12,
   "metadata": {},
   "outputs": [
    {
     "data": {
      "image/png": "[encoded data removed]",
      "text/plain": [
       "<Figure size 432x288 with 1 Axes>"
      ]
     },
     "metadata": {
      "needs_background": "light"
     },
     "output_type": "display_data"
    },
    {
     "name": "stdout",
     "output_type": "stream",
     "text": [
      "Max value: 25\n"
     ]
    }
   ],
   "source": [
    "x_ages = list(set(ages))\n",
    "y_ages = [ages.count(i) for i in x_ages]\n",
    "plt.bar(x_ages,y_ages)\n",
    "plt.show()\n",
    "print(\"Max value:\",max(ages))"
   ]
  },
  {
   "cell_type": "code",
   "execution_count": 13,
   "metadata": {},
   "outputs": [
    {
     "name": "stdout",
     "output_type": "stream",
     "text": [
      "Gender: 0 Age: 14\n"
     ]
    },
    {
     "data": {
      "image/png": "[encoded data removed]",
      "text/plain": [
       "<Figure size 432x288 with 1 Axes>"
      ]
     },
     "metadata": {
      "needs_background": "light"
     },
     "output_type": "display_data"
    }
   ],
   "source": [
    "def display(img):\n",
    "    plt.imshow(img[:,:,0])\n",
    "    plt.set_cmap('gray')\n",
    "    plt.show()\n",
    "idx = 500\n",
    "sample = images[idx]\n",
    "print(\"Gender:\",genders[idx],\"Age:\",ages[idx])\n",
    "display(sample)"
   ]
  },
  {
   "attachments": {},
   "cell_type": "markdown",
   "metadata": {},
   "source": [
    "## Feature extraction and Normalization"
   ]
  },
  {
   "attachments": {},
   "cell_type": "markdown",
   "metadata": {},
   "source": [
    "- Sure! This code extracts Histogram of Oriented Gradients (HOG) features from a list of preprocessed images, normalizes the features to have zero mean and unit variance, and stores them in a NumPy array called hog_features_norm"
   ]
  },
  {
   "cell_type": "code",
   "execution_count": 14,
   "metadata": {},
   "outputs": [
    {
     "name": "stderr",
     "output_type": "stream",
     "text": [
      "C:\\Users\\afbso\\AppData\\Local\\Temp\\ipykernel_26748\\1933635154.py:4: FutureWarning: `multichannel` is a deprecated argument name for `hog`. It will be removed in version 1.0. Please use `channel_axis` instead.\n",
      "  hog_feature = hog(img, orientations=9, pixels_per_cell=(8, 8),\n"
     ]
    }
   ],
   "source": [
    "# Extract HOG features from the images\n",
    "hog_features = []\n",
    "for img in images:\n",
    "    hog_feature = hog(img, orientations=9, pixels_per_cell=(8, 8),\n",
    "                    cells_per_block=(2, 2), transform_sqrt=True, feature_vector=True, multichannel=True, channel_axis=2)\n",
    "    hog_features.append(hog_feature)\n",
    "hog_features = np.array(hog_features)\n",
    "\n",
    "# Normalize the features to have zero mean and unit variance\n",
    "mean = np.mean(hog_features, axis=0)\n",
    "std = np.std(hog_features, axis=0)\n",
    "hog_features_norm = (hog_features - mean) / std"
   ]
  },
  {
   "attachments": {},
   "cell_type": "markdown",
   "metadata": {},
   "source": [
    "- For each preprocessed image in images, extract the HOG features using the hog() function from scikit-image. The orientations, pixels_per_cell, and cells_per_block parameters control the number of orientations, the size of the cells, and the number of cells per block used in the feature extraction process. The transform_sqrt parameter applies power law compression to normalize the local contrast of the image. The feature_vector parameter flattens the HOG descriptor into a 1D array. The multichannel and channel_axis parameters are used to indicate that the input image has three channels. The resulting HOG feature is then appended to the hog_features list."
   ]
  },
  {
   "attachments": {},
   "cell_type": "markdown",
   "metadata": {},
   "source": [
    "## SVM"
   ]
  },
  {
   "cell_type": "code",
   "execution_count": 15,
   "metadata": {},
   "outputs": [
    {
     "name": "stdout",
     "output_type": "stream",
     "text": [
      "Samples in Training: 4000\n",
      "Samples in Testing: 1000\n"
     ]
    }
   ],
   "source": [
    "X_train, X_test, y_train, y_test = train_test_split(hog_features_norm, genders, test_size=0.2, random_state=42)\n",
    "print(\"Samples in Training:\",X_train.shape[0])\n",
    "print(\"Samples in Testing:\",X_test.shape[0])"
   ]
  },
  {
   "cell_type": "code",
   "execution_count": 16,
   "metadata": {},
   "outputs": [
    {
     "name": "stdout",
     "output_type": "stream",
     "text": [
      "Accuracy: 0.728\n"
     ]
    }
   ],
   "source": [
    "clf = SVC(kernel='linear')\n",
    "clf.fit(X_train, y_train)\n",
    "\n",
    "# Evaluate the classifier on the testing data\n",
    "accuracy = clf.score(X_test, y_test)\n",
    "print(\"Accuracy:\", accuracy)"
   ]
  }
 ],
 "metadata": {
  "kernelspec": {
   "display_name": "Python 3",
   "language": "python",
   "name": "python3"
  },
  "language_info": {
   "codemirror_mode": {
    "name": "ipython",
    "version": 3
   },
   "file_extension": ".py",
   "mimetype": "text/x-python",
   "name": "python",
   "nbconvert_exporter": "python",
   "pygments_lexer": "ipython3",
   "version": "3.10.10"
  },
  "orig_nbformat": 4,
  "vscode": {
   "interpreter": {
    "hash": "afb734500600fd355917ca529030176ea0ca205570884b88f2f6f7d791fd3fbe"
   }
  }
 },
 "nbformat": 4,
 "nbformat_minor": 2
}
