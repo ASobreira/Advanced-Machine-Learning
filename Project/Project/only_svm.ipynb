{
  "cells": [
    {
      "attachments": {},
      "cell_type": "markdown",
      "metadata": {},
      "source": [
        "# Kaggle API"
      ]
    },
    {
      "cell_type": "code",
      "execution_count": null,
      "metadata": {
        "id": "3dTLT1XK0E9q"
      },
      "outputs": [],
      "source": [
        "#!pip install kaggle"
      ]
    },
    {
      "attachments": {},
      "cell_type": "markdown",
      "metadata": {},
      "source": [
        "#!rm -r /root/.kaggle"
      ]
    },
    {
      "attachments": {},
      "cell_type": "markdown",
      "metadata": {},
      "source": [
        "! mkdir ~/.kaggle"
      ]
    },
    {
      "attachments": {},
      "cell_type": "markdown",
      "metadata": {},
      "source": [
        "! cp kaggle.json ~/.kaggle"
      ]
    },
    {
      "attachments": {},
      "cell_type": "markdown",
      "metadata": {},
      "source": [
        "! chmod 600 ~/.kaggle/kaggle.json"
      ]
    },
    {
      "attachments": {},
      "cell_type": "markdown",
      "metadata": {},
      "source": [
        "! kaggle datasets download -d jangedoo/utkface-new"
      ]
    },
    {
      "attachments": {},
      "cell_type": "markdown",
      "metadata": {},
      "source": [
        "! unzip utkface-new.zip"
      ]
    },
    {
      "attachments": {},
      "cell_type": "markdown",
      "metadata": {},
      "source": [
        "#! kaggle datasets list"
      ]
    },
    {
      "attachments": {},
      "cell_type": "markdown",
      "metadata": {},
      "source": [
        "# GPU"
      ]
    },
    {
      "cell_type": "code",
      "execution_count": 36,
      "metadata": {},
      "outputs": [],
      "source": [
        "import tensorflow as tf"
      ]
    },
    {
      "cell_type": "code",
      "execution_count": null,
      "metadata": {
        "id": "SAuD1Fm92Ddr"
      },
      "outputs": [],
      "source": [
        "device_list = tf.test.gpu_device_name()\n",
        "\n",
        "device_list"
      ]
    },
    {
      "cell_type": "code",
      "execution_count": null,
      "metadata": {
        "colab": {
          "base_uri": "https://localhost:8080/"
        },
        "id": "tYAJZGKu1lt1",
        "outputId": "88271c92-7748-4d17-9c7c-592da4ac625e"
      },
      "outputs": [
        {
          "name": "stdout",
          "output_type": "stream",
          "text": [
            "Fri May  5 18:19:57 2023       \n",
            "+-----------------------------------------------------------------------------+\n",
            "| NVIDIA-SMI 525.85.12    Driver Version: 525.85.12    CUDA Version: 12.0     |\n",
            "|-------------------------------+----------------------+----------------------+\n",
            "| GPU  Name        Persistence-M| Bus-Id        Disp.A | Volatile Uncorr. ECC |\n",
            "| Fan  Temp  Perf  Pwr:Usage/Cap|         Memory-Usage | GPU-Util  Compute M. |\n",
            "|                               |                      |               MIG M. |\n",
            "|===============================+======================+======================|\n",
            "|   0  NVIDIA A100-SXM...  Off  | 00000000:00:04.0 Off |                    0 |\n",
            "| N/A   32C    P0    47W / 400W |    691MiB / 40960MiB |      0%      Default |\n",
            "|                               |                      |             Disabled |\n",
            "+-------------------------------+----------------------+----------------------+\n",
            "                                                                               \n",
            "+-----------------------------------------------------------------------------+\n",
            "| Processes:                                                                  |\n",
            "|  GPU   GI   CI        PID   Type   Process name                  GPU Memory |\n",
            "|        ID   ID                                                   Usage      |\n",
            "|=============================================================================|\n",
            "+-----------------------------------------------------------------------------+\n"
          ]
        }
      ],
      "source": [
        "!nvidia-smi"
      ]
    },
    {
      "attachments": {},
      "cell_type": "markdown",
      "metadata": {},
      "source": [
        "# PACKAGES"
      ]
    },
    {
      "cell_type": "code",
      "execution_count": 37,
      "metadata": {
        "id": "-nGoiUScn55r"
      },
      "outputs": [],
      "source": [
        "import numpy as np\n",
        "import pandas as pd \n",
        "import os\n",
        "import cv2\n",
        "from sklearn.svm import SVC\n",
        "from skimage.feature import hog\n",
        "import matplotlib.pyplot as plt\n",
        "from sklearn.model_selection import train_test_split\n",
        "from sklearn.svm import SVC\n",
        "from skimage.color import rgb2gray\n",
        "#import tensorflow as tf\n",
        "from keras.models import Sequential\n",
        "from keras.layers import Convolution2D, MaxPooling2D, Flatten, Dense, Dropout, GlobalAveragePooling2D\n",
        "from keras.applications import VGG16\n",
        "from skimage.feature import hog\n",
        "from skimage import data, exposure\n",
        "import random\n",
        "from keras import layers, losses\n",
        "from keras.models import Model\n",
        "from sklearn.metrics import classification_report, accuracy_score, matthews_corrcoef, confusion_matrix\n",
        "from sklearn.model_selection import GridSearchCV\n",
        "from sklearn.metrics import classification_report\n",
        "import seaborn as sns\n",
        "from sklearn.multiclass import OneVsRestClassifier\n",
        "from sklearn.svm import SVC\n",
        "import math\n",
        "from keras.utils.np_utils import to_categorical\n",
        "from sklearn.metrics import classification_report, confusion_matrix"
      ]
    },
    {
      "cell_type": "code",
      "execution_count": 92,
      "metadata": {
        "id": "qUKrKLhXn55v"
      },
      "outputs": [],
      "source": [
        "\n",
        "def display(img):\n",
        "    plt.imshow(img)\n",
        "    plt.show()\n",
        "    \n",
        "    \n",
        "def metrics_gender(X, y): \n",
        "    y_pred = clf.predict(X)\n",
        "\n",
        "    mcc = matthews_corrcoef(y, y_pred)\n",
        "   \n",
        "    print(\"MCC: \", mcc)\n",
        "    \n",
        "    print(classification_report(y_test, y_pred))\n",
        "\n",
        "    labelGender = list(set(genders))\n",
        "\n",
        "    cm = confusion_matrix(y_test, y_pred)\n",
        "\n",
        "    sns.heatmap(cm, annot=True, cmap=\"Blues\", fmt=\"d\", xticklabels=labelGender, yticklabels=labelGender)\n",
        "\n",
        "    plt.xlabel('Predicted Label')\n",
        "    plt.ylabel('True Label')\n",
        "    plt.title('Confusion Matrix')\n",
        "\n",
        "    \n",
        "def metrics_age(X, y):\n",
        "\n",
        "    y_pred = clf.predict(X)\n",
        "\n",
        "    y_test_int = np.argmax(y, axis=1)\n",
        "    y_pred_int = np.argmax(y_pred, axis=1)\n",
        "\n",
        " \n",
        "    mcc = matthews_corrcoef(y_test_int, y_pred_int)\n",
        "\n",
        "    print(\"MCC: \", mcc)\n",
        "\n",
        "    print(classification_report(y_test_int, y_pred_int))\n",
        "\n",
        "    labelage= list(set(age_classes))\n",
        "\n",
        "    cm = confusion_matrix(y_test_int, y_pred_int)\n",
        "\n",
        "    sns.heatmap(cm, annot=True, cmap=\"Blues\", fmt=\"d\", xticklabels=labelage, yticklabels=labelage)\n",
        "    # set plot labels and title\n",
        "    plt.xlabel('Predicted Label')\n",
        "    plt.ylabel('True Label')\n",
        "    plt.title('Confusion Matrix')\n",
        "     "
      ]
    },
    {
      "cell_type": "code",
      "execution_count": 39,
      "metadata": {
        "colab": {
          "base_uri": "https://localhost:8080/"
        },
        "id": "GqRgb51sn55v",
        "outputId": "b7f59b32-a877-4716-d1cb-fa62049e71ee"
      },
      "outputs": [
        {
          "name": "stdout",
          "output_type": "stream",
          "text": [
            "Total samples: 23708\n",
            "100_0_0_20170112213500903.jpg.chip.jpg\n"
          ]
        }
      ],
      "source": [
        "#path server\n",
        "#path = \"/UTKFace/\"\n",
        "#path colab\n",
        "#path = \"/content/utkface_aligned_cropped/UTKFace\"\n",
        "#path martim\n",
        "#path = \"../../../../DadosProj/UTKFace/\"\n",
        "#path alex\n",
        "path = \"../../../data_project/UTKFace/\"\n",
        "\n",
        "files = os.listdir(path)\n",
        "size = len(files)\n",
        "print(\"Total samples:\",size)\n",
        "print(files[0])"
      ]
    },
    {
      "attachments": {},
      "cell_type": "markdown",
      "metadata": {},
      "source": [
        "# DATA NORM"
      ]
    },
    {
      "cell_type": "code",
      "execution_count": 86,
      "metadata": {
        "id": "mXF0jwk-n55w"
      },
      "outputs": [
        {
          "name": "stdout",
          "output_type": "stream",
          "text": [
            "Age Classes finished\n"
          ]
        }
      ],
      "source": [
        "images = []\n",
        "ages = []\n",
        "genders = []\n",
        "counter = 0\n",
        "\n",
        "for file in files:\n",
        "    if counter == 100:\n",
        "        break\n",
        "\n",
        "    image = cv2.imread(os.path.join(path, file))\n",
        "    if image is not None and image.any():\n",
        "        image = cv2.cvtColor(image, cv2.COLOR_BGR2RGB)\n",
        "        image = cv2.resize(image, dsize=(200, 200))\n",
        "        image = image.reshape((image.shape[0], image.shape[1], 3)) \n",
        "        image = image / 255.0\n",
        "\n",
        "        images.append(image)\n",
        "        delimit = file.split('_')\n",
        "        ages.append(int(delimit[0]))\n",
        "        genders.append(int(delimit[1]))\n",
        "\n",
        "        counter += 1\n",
        "        \n",
        "X = np.squeeze(images)\n",
        "\n",
        "### Age classes\n",
        "age_classes = []\n",
        "for i in ages:\n",
        "    i = int(i)\n",
        "    if i <= 1:\n",
        "        age_classes.append(0)\n",
        "    if (i>1) and (i<=13):\n",
        "        age_classes.append(1)\n",
        "    if (i>13) and (i<17):\n",
        "        age_classes.append(2)\n",
        "    if (i>=17) and (i<30):\n",
        "        age_classes.append(3)\n",
        "    if (i>=30) and (i<60):\n",
        "        age_classes.append(4)\n",
        "    if i>=60:\n",
        "        age_classes.append(5)\n",
        "\n",
        "age_labels = [\"Baby\",   # index 0\n",
        "        \"Infant\",       # index 1\n",
        "        \"Adolescent\",   # index 2 \n",
        "        \"Young Adult\",  # index 3 \n",
        "        \"Adult\"         # index 4\n",
        "        \"Old Adult\",    # index 5\n",
        "        ]\n",
        "\n",
        "age_categories = to_categorical(age_classes, num_classes=6)\n",
        "age_categories[:20]\n",
        "print(\"Age Classes finished\")"
      ]
    },
    {
      "attachments": {},
      "cell_type": "markdown",
      "metadata": {},
      "source": [
        "# DISTRIBUTIONS"
      ]
    },
    {
      "cell_type": "code",
      "execution_count": 63,
      "metadata": {},
      "outputs": [
        {
          "name": "stdout",
          "output_type": "stream",
          "text": [
            "age\n",
            " 1    81\n",
            "5    19\n",
            "Name: age, dtype: int64\n",
            "gender\n",
            " 0    86\n",
            "1    14\n",
            "Name: gender, dtype: int64\n"
          ]
        }
      ],
      "source": [
        "img_all = pd.DataFrame()\n",
        "img_all[\"age\"] = age_classes\n",
        "img_all[\"gender\"] = genders\n",
        "\n",
        "img_gender = pd.DataFrame()\n",
        "img_gender[\"gender\"] = genders\n",
        "\n",
        "img_age = pd.DataFrame()\n",
        "img_age[\"age\"] = age_classes\n",
        "\n",
        "print(\"age\\n\", img_age.age.value_counts())\n",
        "print(\"gender\\n\", img_gender.gender.value_counts())"
      ]
    },
    {
      "attachments": {},
      "cell_type": "markdown",
      "metadata": {},
      "source": [
        "## Ages"
      ]
    },
    {
      "cell_type": "code",
      "execution_count": 42,
      "metadata": {},
      "outputs": [
        {
          "name": "stderr",
          "output_type": "stream",
          "text": [
            "c:\\Users\\afbso\\anaconda3\\lib\\site-packages\\seaborn\\distributions.py:2619: FutureWarning: `distplot` is a deprecated function and will be removed in a future version. Please adapt your code to use either `displot` (a figure-level function with similar flexibility) or `histplot` (an axes-level function for histograms).\n",
            "  warnings.warn(msg, FutureWarning)\n"
          ]
        },
        {
          "data": {
            "text/plain": [
              "<AxesSubplot:ylabel='Density'>"
            ]
          },
          "execution_count": 42,
          "metadata": {},
          "output_type": "execute_result"
        },
        {
          "data": {
            "image/png": "[encoded data removed]",
            "text/plain": [
              "<Figure size 432x288 with 1 Axes>"
            ]
          },
          "metadata": {
            "needs_background": "light"
          },
          "output_type": "display_data"
        }
      ],
      "source": [
        "sns.distplot(ages)"
      ]
    },
    {
      "attachments": {},
      "cell_type": "markdown",
      "metadata": {},
      "source": [
        "## Age Classes"
      ]
    },
    {
      "cell_type": "code",
      "execution_count": 43,
      "metadata": {},
      "outputs": [
        {
          "name": "stdout",
          "output_type": "stream",
          "text": [
            "100\n",
            "<class 'list'>\n",
            "[1, 5]\n"
          ]
        }
      ],
      "source": [
        "print(len(age_classes))\n",
        "print(type(age_classes))\n",
        "unique_values = list(set(age_classes))\n",
        "print(unique_values)"
      ]
    },
    {
      "cell_type": "code",
      "execution_count": 44,
      "metadata": {},
      "outputs": [
        {
          "name": "stderr",
          "output_type": "stream",
          "text": [
            "c:\\Users\\afbso\\anaconda3\\lib\\site-packages\\seaborn\\distributions.py:2619: FutureWarning: `distplot` is a deprecated function and will be removed in a future version. Please adapt your code to use either `displot` (a figure-level function with similar flexibility) or `histplot` (an axes-level function for histograms).\n",
            "  warnings.warn(msg, FutureWarning)\n"
          ]
        },
        {
          "data": {
            "text/plain": [
              "<AxesSubplot:ylabel='Density'>"
            ]
          },
          "execution_count": 44,
          "metadata": {},
          "output_type": "execute_result"
        },
        {
          "data": {
            "image/png": "[encoded data removed]",
            "text/plain": [
              "<Figure size 432x288 with 1 Axes>"
            ]
          },
          "metadata": {
            "needs_background": "light"
          },
          "output_type": "display_data"
        }
      ],
      "source": [
        "sns.distplot(age_classes)"
      ]
    },
    {
      "attachments": {},
      "cell_type": "markdown",
      "metadata": {},
      "source": [
        "## Gender"
      ]
    },
    {
      "cell_type": "code",
      "execution_count": 45,
      "metadata": {},
      "outputs": [
        {
          "name": "stderr",
          "output_type": "stream",
          "text": [
            "c:\\Users\\afbso\\anaconda3\\lib\\site-packages\\seaborn\\distributions.py:2619: FutureWarning: `distplot` is a deprecated function and will be removed in a future version. Please adapt your code to use either `displot` (a figure-level function with similar flexibility) or `histplot` (an axes-level function for histograms).\n",
            "  warnings.warn(msg, FutureWarning)\n"
          ]
        },
        {
          "data": {
            "text/plain": [
              "<AxesSubplot:ylabel='Density'>"
            ]
          },
          "execution_count": 45,
          "metadata": {},
          "output_type": "execute_result"
        },
        {
          "data": {
            "image/png": "[encoded data removed]",
            "text/plain": [
              "<Figure size 432x288 with 1 Axes>"
            ]
          },
          "metadata": {
            "needs_background": "light"
          },
          "output_type": "display_data"
        }
      ],
      "source": [
        "sns.distplot(genders)"
      ]
    },
    {
      "attachments": {},
      "cell_type": "markdown",
      "metadata": {},
      "source": [
        "# MODELS"
      ]
    },
    {
      "attachments": {},
      "cell_type": "markdown",
      "metadata": {},
      "source": [
        "## BASE"
      ]
    },
    {
      "cell_type": "code",
      "execution_count": 87,
      "metadata": {},
      "outputs": [
        {
          "name": "stdout",
          "output_type": "stream",
          "text": [
            "(100, 120000)\n"
          ]
        }
      ],
      "source": [
        "flattened_images = []\n",
        "\n",
        "for image in images:\n",
        "    flattened_image = image.flatten()\n",
        "    flattened_images.append(flattened_image)\n",
        "\n",
        "flattened_images_array = np.array(flattened_images)\n",
        "\n",
        "print(flattened_images_array.shape)"
      ]
    },
    {
      "attachments": {},
      "cell_type": "markdown",
      "metadata": {},
      "source": [
        "### Gender"
      ]
    },
    {
      "cell_type": "code",
      "execution_count": 93,
      "metadata": {},
      "outputs": [
        {
          "name": "stdout",
          "output_type": "stream",
          "text": [
            "MCC:  0.0\n",
            "              precision    recall  f1-score   support\n",
            "\n",
            "           0       0.80      1.00      0.89        16\n",
            "           1       0.00      0.00      0.00         4\n",
            "\n",
            "    accuracy                           0.80        20\n",
            "   macro avg       0.40      0.50      0.44        20\n",
            "weighted avg       0.64      0.80      0.71        20\n",
            "\n"
          ]
        },
        {
          "name": "stderr",
          "output_type": "stream",
          "text": [
            "c:\\Users\\afbso\\anaconda3\\lib\\site-packages\\sklearn\\metrics\\_classification.py:1318: UndefinedMetricWarning: Precision and F-score are ill-defined and being set to 0.0 in labels with no predicted samples. Use `zero_division` parameter to control this behavior.\n",
            "  _warn_prf(average, modifier, msg_start, len(result))\n",
            "c:\\Users\\afbso\\anaconda3\\lib\\site-packages\\sklearn\\metrics\\_classification.py:1318: UndefinedMetricWarning: Precision and F-score are ill-defined and being set to 0.0 in labels with no predicted samples. Use `zero_division` parameter to control this behavior.\n",
            "  _warn_prf(average, modifier, msg_start, len(result))\n",
            "c:\\Users\\afbso\\anaconda3\\lib\\site-packages\\sklearn\\metrics\\_classification.py:1318: UndefinedMetricWarning: Precision and F-score are ill-defined and being set to 0.0 in labels with no predicted samples. Use `zero_division` parameter to control this behavior.\n",
            "  _warn_prf(average, modifier, msg_start, len(result))\n"
          ]
        },
        {
          "data": {
            "text/plain": [
              "'y_pred = clf.predict(X_test)\\n\\nmcc = matthews_corrcoef(y_test, y_pred)\\n#accuracy = accuracy_score(y_test, y_pred)\\nprint(\"MCC: \", mcc)\\n#print(\"Accuracy: \", accuracy)\\nprint(classification_report(y_test, y_pred))\\n#confusion_matrix(y_test, y_pred)\\n\\nlabelGender = list(set(genders))\\n\\n# assume y_true and y_pred are the true and predicted labels, respectively\\ncm = confusion_matrix(y_test, y_pred)\\n\\n# create a heatmap of the confusion matrix using seaborn\\nsns.heatmap(cm, annot=True, cmap=\"Blues\", fmt=\"d\", xticklabels=labelGender, yticklabels=labelGender)\\n\\n# set plot labels and title\\nplt.xlabel(\\'Predicted Label\\')\\nplt.ylabel(\\'True Label\\')\\nplt.title(\\'Confusion Matrix\\')\\nplt.savefig(\\'CM_HOG_SVM_gender.png\\')'"
            ]
          },
          "execution_count": 93,
          "metadata": {},
          "output_type": "execute_result"
        },
        {
          "data": {
            "image/png": "[encoded data removed]",
            "text/plain": [
              "<Figure size 432x288 with 2 Axes>"
            ]
          },
          "metadata": {
            "needs_background": "light"
          },
          "output_type": "display_data"
        }
      ],
      "source": [
        "##### Gender\n",
        "X_train, X_test, y_train, y_test = train_test_split(flattened_images_array, genders, test_size=0.2, random_state=42)\n",
        "\n",
        "clf = SVC()\n",
        "clf.fit(X_train, y_train)\n",
        "\n",
        "\n",
        "metrics_gender(X_test, y_test)"
      ]
    },
    {
      "attachments": {},
      "cell_type": "markdown",
      "metadata": {},
      "source": [
        "### Age"
      ]
    },
    {
      "cell_type": "code",
      "execution_count": 94,
      "metadata": {},
      "outputs": [
        {
          "name": "stderr",
          "output_type": "stream",
          "text": [
            "c:\\Users\\afbso\\anaconda3\\lib\\site-packages\\sklearn\\multiclass.py:79: UserWarning: Label not 0 is present in all training examples.\n",
            "  warnings.warn(\n",
            "c:\\Users\\afbso\\anaconda3\\lib\\site-packages\\sklearn\\multiclass.py:79: UserWarning: Label not 2 is present in all training examples.\n",
            "  warnings.warn(\n",
            "c:\\Users\\afbso\\anaconda3\\lib\\site-packages\\sklearn\\multiclass.py:79: UserWarning: Label not 3 is present in all training examples.\n",
            "  warnings.warn(\n",
            "c:\\Users\\afbso\\anaconda3\\lib\\site-packages\\sklearn\\multiclass.py:79: UserWarning: Label not 4 is present in all training examples.\n",
            "  warnings.warn(\n"
          ]
        },
        {
          "name": "stdout",
          "output_type": "stream",
          "text": [
            "MCC:  0.28867513459481287\n",
            "              precision    recall  f1-score   support\n",
            "\n",
            "           0       0.00      0.00      0.00         0\n",
            "           1       0.83      1.00      0.91        15\n",
            "           5       0.00      0.00      0.00         5\n",
            "\n",
            "    accuracy                           0.75        20\n",
            "   macro avg       0.28      0.33      0.30        20\n",
            "weighted avg       0.62      0.75      0.68        20\n",
            "\n"
          ]
        },
        {
          "name": "stderr",
          "output_type": "stream",
          "text": [
            "c:\\Users\\afbso\\anaconda3\\lib\\site-packages\\sklearn\\metrics\\_classification.py:1318: UndefinedMetricWarning: Precision and F-score are ill-defined and being set to 0.0 in labels with no predicted samples. Use `zero_division` parameter to control this behavior.\n",
            "  _warn_prf(average, modifier, msg_start, len(result))\n",
            "c:\\Users\\afbso\\anaconda3\\lib\\site-packages\\sklearn\\metrics\\_classification.py:1318: UndefinedMetricWarning: Recall and F-score are ill-defined and being set to 0.0 in labels with no true samples. Use `zero_division` parameter to control this behavior.\n",
            "  _warn_prf(average, modifier, msg_start, len(result))\n",
            "c:\\Users\\afbso\\anaconda3\\lib\\site-packages\\sklearn\\metrics\\_classification.py:1318: UndefinedMetricWarning: Precision and F-score are ill-defined and being set to 0.0 in labels with no predicted samples. Use `zero_division` parameter to control this behavior.\n",
            "  _warn_prf(average, modifier, msg_start, len(result))\n",
            "c:\\Users\\afbso\\anaconda3\\lib\\site-packages\\sklearn\\metrics\\_classification.py:1318: UndefinedMetricWarning: Recall and F-score are ill-defined and being set to 0.0 in labels with no true samples. Use `zero_division` parameter to control this behavior.\n",
            "  _warn_prf(average, modifier, msg_start, len(result))\n",
            "c:\\Users\\afbso\\anaconda3\\lib\\site-packages\\sklearn\\metrics\\_classification.py:1318: UndefinedMetricWarning: Precision and F-score are ill-defined and being set to 0.0 in labels with no predicted samples. Use `zero_division` parameter to control this behavior.\n",
            "  _warn_prf(average, modifier, msg_start, len(result))\n",
            "c:\\Users\\afbso\\anaconda3\\lib\\site-packages\\sklearn\\metrics\\_classification.py:1318: UndefinedMetricWarning: Recall and F-score are ill-defined and being set to 0.0 in labels with no true samples. Use `zero_division` parameter to control this behavior.\n",
            "  _warn_prf(average, modifier, msg_start, len(result))\n"
          ]
        },
        {
          "data": {
            "text/plain": [
              "'# Convert one-hot encoded labels to integer form\\ny_pred = clf.predict(X_test)\\n\\ny_test_int = np.argmax(y_test, axis=1)\\ny_pred_int = np.argmax(y_pred, axis=1)\\n\\n# Print classification report and confusion matrix\\nmcc = matthews_corrcoef(y_test_int, y_pred_int)\\n\\n#accuracy = accuracy_score(y_test, y_pred)\\nprint(\"MCC: \", mcc)\\n#print(\"Accuracy: \", accuracy)\\nprint(classification_report(y_test_int, y_pred_int))\\n#confusion_matrix(y_test, y_pred)\\nlabelage= list(set(age_classes))\\n# assume y_true and y_pred are the true and predicted labels, respectively\\ncm = confusion_matrix(y_test_int, y_pred_int)\\n# create a heatmap of the confusion matrix using seaborn\\nsns.heatmap(cm, annot=True, cmap=\"Blues\", fmt=\"d\", xticklabels=labelage, yticklabels=labelage)\\n# set plot labels and title\\nplt.xlabel(\\'Predicted Label\\')\\nplt.ylabel(\\'True Label\\')\\nplt.title(\\'Confusion Matrix\\')\\nplt.savefig(\\'CM_HOG_SVM_age.png\\')\\n\\nprint(\"HOG finished\")\\n'"
            ]
          },
          "execution_count": 94,
          "metadata": {},
          "output_type": "execute_result"
        },
        {
          "data": {
            "image/png": "[encoded data removed]",
            "text/plain": [
              "<Figure size 432x288 with 2 Axes>"
            ]
          },
          "metadata": {
            "needs_background": "light"
          },
          "output_type": "display_data"
        }
      ],
      "source": [
        "X_train, X_test, y_train, y_test = train_test_split(flattened_images_array, age_categories, test_size=0.2, random_state=42)\n",
        "clf = OneVsRestClassifier(SVC())\n",
        "clf.fit(X_train, y_train)\n",
        "\n",
        "\n",
        "metrics_age(X_test, y_test)"
      ]
    },
    {
      "attachments": {},
      "cell_type": "markdown",
      "metadata": {},
      "source": [
        "# DATA NOT NORM"
      ]
    },
    {
      "cell_type": "code",
      "execution_count": 96,
      "metadata": {},
      "outputs": [
        {
          "name": "stdout",
          "output_type": "stream",
          "text": [
            "age\n",
            " 1    81\n",
            "5    19\n",
            "Name: age, dtype: int64\n",
            "gender\n",
            " 0    86\n",
            "1    14\n",
            "Name: gender, dtype: int64\n"
          ]
        }
      ],
      "source": [
        "images = []\n",
        "ages = []\n",
        "genders = []\n",
        "counter = 0\n",
        "\n",
        "for file in files:\n",
        "    if counter == 100:\n",
        "        break\n",
        "\n",
        "    image = cv2.imread(os.path.join(path, file))\n",
        "    if image is not None and image.any():\n",
        "        image = cv2.cvtColor(image, cv2.COLOR_BGR2RGB)\n",
        "        image = cv2.resize(image, dsize=(200, 200))\n",
        "        image = image.reshape((image.shape[0], image.shape[1], 3)) \n",
        "        #image = image / 255.0\n",
        "\n",
        "        images.append(image)\n",
        "        delimit = file.split('_')\n",
        "        ages.append(int(delimit[0]))\n",
        "        genders.append(int(delimit[1]))\n",
        "\n",
        "        counter += 1\n",
        "        \n",
        "X = np.squeeze(images)\n",
        "\n",
        "### Age classes\n",
        "age_classes = []\n",
        "for i in ages:\n",
        "    i = int(i)\n",
        "    if i <= 1:\n",
        "        age_classes.append(0)\n",
        "    if (i>1) and (i<=13):\n",
        "        age_classes.append(1)\n",
        "    if (i>13) and (i<17):\n",
        "        age_classes.append(2)\n",
        "    if (i>=17) and (i<30):\n",
        "        age_classes.append(3)\n",
        "    if (i>=30) and (i<60):\n",
        "        age_classes.append(4)\n",
        "    if i>=60:\n",
        "        age_classes.append(5)\n",
        "\n",
        "age_labels = [\"Baby\",   # index 0\n",
        "        \"Infant\",       # index 1\n",
        "        \"Adolescent\",   # index 2 \n",
        "        \"Young Adult\",  # index 3 \n",
        "        \"Adult\"         # index 4\n",
        "        \"Old Adult\",    # index 5\n",
        "        ]\n",
        "\n",
        "age_categories = to_categorical(age_classes, num_classes=6)\n",
        "age_categories[:20]\n",
        "\n",
        "img_all = pd.DataFrame()\n",
        "img_all[\"age\"] = age_classes\n",
        "img_all[\"gender\"] = genders\n",
        "\n",
        "img_gender = pd.DataFrame()\n",
        "img_gender[\"gender\"] = genders\n",
        "\n",
        "img_age = pd.DataFrame()\n",
        "img_age[\"age\"] = age_classes\n",
        "\n",
        "print(\"age\\n\", img_age.age.value_counts())\n",
        "print(\"gender\\n\", img_gender.gender.value_counts())"
      ]
    },
    {
      "attachments": {},
      "cell_type": "markdown",
      "metadata": {},
      "source": [
        "## HOG"
      ]
    },
    {
      "cell_type": "code",
      "execution_count": null,
      "metadata": {},
      "outputs": [],
      "source": [
        "image_check = images[25]\n",
        "\n",
        "# define HOG parameters\n",
        "orientations = 9\n",
        "pixels_per_cell = (8, 8)\n",
        "cells_per_block = (2, 2)\n",
        "\n",
        "# compute HOG features and visualize them\n",
        "hog_features, hog_image = hog(image_check, orientations=9, pixels_per_cell=(8, 8),\n",
        "                    cells_per_block=(2, 2), transform_sqrt=True, feature_vector=True, visualize=True,channel_axis=2)\n",
        "\n",
        "\n",
        "\n",
        "# rescale image intensity for better visualization\n",
        "#hog_image_rescaled = exposure.rescale_intensity(hog_image, in_range=(0, 10))\n",
        "\n",
        "# display HOG features\n",
        "plt.imshow(hog_image)\n",
        "plt.show()"
      ]
    },
    {
      "cell_type": "code",
      "execution_count": null,
      "metadata": {
        "colab": {
          "base_uri": "https://localhost:8080/"
        },
        "id": "ysKXYB5jn550",
        "outputId": "a3da9704-bf9e-44f0-ea57-45112f704076"
      },
      "outputs": [
        {
          "name": "stdout",
          "output_type": "stream",
          "text": [
            "HOG started\n"
          ]
        }
      ],
      "source": [
        "# Extract HOG features from the images\n",
        "hog_features = []\n",
        "for img in images:\n",
        "    #hog_feature = hog(img, orientations=9, pixels_per_cell=(8, 8),\n",
        "    #                cells_per_block=(2, 2), transform_sqrt=True, feature_vector=True, multichannel=True, channel_axis=2)\n",
        "    hog_feature = hog(img, orientations=9, pixels_per_cell=(8, 8),\n",
        "                    cells_per_block=(2, 2), transform_sqrt=True, feature_vector=True, channel_axis=2)\n",
        "    \n",
        "    hog_features.append(hog_feature)\n",
        "hog_features = np.array(hog_features)\n",
        "\n",
        "# Normalize the features to have zero mean and unit variance\n",
        "mean = np.mean(hog_features, axis=0)\n",
        "std = np.std(hog_features, axis=0)\n",
        "hog_features_norm = (hog_features - mean) / std"
      ]
    },
    {
      "attachments": {},
      "cell_type": "markdown",
      "metadata": {},
      "source": [
        "### Gender"
      ]
    },
    {
      "cell_type": "code",
      "execution_count": 97,
      "metadata": {
        "colab": {
          "base_uri": "https://localhost:8080/",
          "height": 657
        },
        "id": "DL1py2Pqn550",
        "outputId": "cbc73f92-8acd-4b33-f622-ace39d5c281b"
      },
      "outputs": [
        {
          "name": "stdout",
          "output_type": "stream",
          "text": [
            "MCC:  0.0\n",
            "              precision    recall  f1-score   support\n",
            "\n",
            "           0       0.80      1.00      0.89        16\n",
            "           1       0.00      0.00      0.00         4\n",
            "\n",
            "    accuracy                           0.80        20\n",
            "   macro avg       0.40      0.50      0.44        20\n",
            "weighted avg       0.64      0.80      0.71        20\n",
            "\n"
          ]
        },
        {
          "name": "stderr",
          "output_type": "stream",
          "text": [
            "c:\\Users\\afbso\\anaconda3\\lib\\site-packages\\sklearn\\metrics\\_classification.py:1318: UndefinedMetricWarning: Precision and F-score are ill-defined and being set to 0.0 in labels with no predicted samples. Use `zero_division` parameter to control this behavior.\n",
            "  _warn_prf(average, modifier, msg_start, len(result))\n",
            "c:\\Users\\afbso\\anaconda3\\lib\\site-packages\\sklearn\\metrics\\_classification.py:1318: UndefinedMetricWarning: Precision and F-score are ill-defined and being set to 0.0 in labels with no predicted samples. Use `zero_division` parameter to control this behavior.\n",
            "  _warn_prf(average, modifier, msg_start, len(result))\n",
            "c:\\Users\\afbso\\anaconda3\\lib\\site-packages\\sklearn\\metrics\\_classification.py:1318: UndefinedMetricWarning: Precision and F-score are ill-defined and being set to 0.0 in labels with no predicted samples. Use `zero_division` parameter to control this behavior.\n",
            "  _warn_prf(average, modifier, msg_start, len(result))\n"
          ]
        },
        {
          "data": {
            "image/png": "[encoded data removed]",
            "text/plain": [
              "<Figure size 432x288 with 2 Axes>"
            ]
          },
          "metadata": {
            "needs_background": "light"
          },
          "output_type": "display_data"
        }
      ],
      "source": [
        "##### Gender\n",
        "X_train, X_test, y_train, y_test = train_test_split(hog_features_norm, genders, test_size=0.2, random_state=42)\n",
        "\n",
        "clf = SVC()\n",
        "clf.fit(X_train, y_train)\n",
        "\n",
        "metrics_gender(X_test, y_test)"
      ]
    },
    {
      "attachments": {},
      "cell_type": "markdown",
      "metadata": {},
      "source": [
        "### Age"
      ]
    },
    {
      "cell_type": "code",
      "execution_count": 98,
      "metadata": {
        "colab": {
          "base_uri": "https://localhost:8080/",
          "height": 749
        },
        "id": "ONRqDxIxn551",
        "outputId": "e9e29a35-d4f4-442a-e80a-188b3149e655"
      },
      "outputs": [
        {
          "name": "stderr",
          "output_type": "stream",
          "text": [
            "c:\\Users\\afbso\\anaconda3\\lib\\site-packages\\sklearn\\multiclass.py:79: UserWarning: Label not 0 is present in all training examples.\n",
            "  warnings.warn(\n",
            "c:\\Users\\afbso\\anaconda3\\lib\\site-packages\\sklearn\\multiclass.py:79: UserWarning: Label not 2 is present in all training examples.\n",
            "  warnings.warn(\n",
            "c:\\Users\\afbso\\anaconda3\\lib\\site-packages\\sklearn\\multiclass.py:79: UserWarning: Label not 3 is present in all training examples.\n",
            "  warnings.warn(\n",
            "c:\\Users\\afbso\\anaconda3\\lib\\site-packages\\sklearn\\multiclass.py:79: UserWarning: Label not 4 is present in all training examples.\n",
            "  warnings.warn(\n"
          ]
        },
        {
          "name": "stdout",
          "output_type": "stream",
          "text": [
            "MCC:  0.4330127018922193\n",
            "              precision    recall  f1-score   support\n",
            "\n",
            "           0       0.00      0.00      0.00         0\n",
            "           1       0.94      1.00      0.97        15\n",
            "           5       0.00      0.00      0.00         5\n",
            "\n",
            "    accuracy                           0.75        20\n",
            "   macro avg       0.31      0.33      0.32        20\n",
            "weighted avg       0.70      0.75      0.73        20\n",
            "\n"
          ]
        },
        {
          "name": "stderr",
          "output_type": "stream",
          "text": [
            "c:\\Users\\afbso\\anaconda3\\lib\\site-packages\\sklearn\\metrics\\_classification.py:1318: UndefinedMetricWarning: Precision and F-score are ill-defined and being set to 0.0 in labels with no predicted samples. Use `zero_division` parameter to control this behavior.\n",
            "  _warn_prf(average, modifier, msg_start, len(result))\n",
            "c:\\Users\\afbso\\anaconda3\\lib\\site-packages\\sklearn\\metrics\\_classification.py:1318: UndefinedMetricWarning: Recall and F-score are ill-defined and being set to 0.0 in labels with no true samples. Use `zero_division` parameter to control this behavior.\n",
            "  _warn_prf(average, modifier, msg_start, len(result))\n",
            "c:\\Users\\afbso\\anaconda3\\lib\\site-packages\\sklearn\\metrics\\_classification.py:1318: UndefinedMetricWarning: Precision and F-score are ill-defined and being set to 0.0 in labels with no predicted samples. Use `zero_division` parameter to control this behavior.\n",
            "  _warn_prf(average, modifier, msg_start, len(result))\n",
            "c:\\Users\\afbso\\anaconda3\\lib\\site-packages\\sklearn\\metrics\\_classification.py:1318: UndefinedMetricWarning: Recall and F-score are ill-defined and being set to 0.0 in labels with no true samples. Use `zero_division` parameter to control this behavior.\n",
            "  _warn_prf(average, modifier, msg_start, len(result))\n",
            "c:\\Users\\afbso\\anaconda3\\lib\\site-packages\\sklearn\\metrics\\_classification.py:1318: UndefinedMetricWarning: Precision and F-score are ill-defined and being set to 0.0 in labels with no predicted samples. Use `zero_division` parameter to control this behavior.\n",
            "  _warn_prf(average, modifier, msg_start, len(result))\n",
            "c:\\Users\\afbso\\anaconda3\\lib\\site-packages\\sklearn\\metrics\\_classification.py:1318: UndefinedMetricWarning: Recall and F-score are ill-defined and being set to 0.0 in labels with no true samples. Use `zero_division` parameter to control this behavior.\n",
            "  _warn_prf(average, modifier, msg_start, len(result))\n"
          ]
        },
        {
          "data": {
            "image/png": "[encoded data removed]",
            "text/plain": [
              "<Figure size 432x288 with 2 Axes>"
            ]
          },
          "metadata": {
            "needs_background": "light"
          },
          "output_type": "display_data"
        }
      ],
      "source": [
        "##### AGE\n",
        "X_train, X_test, y_train, y_test = train_test_split(hog_features_norm, age_categories, test_size=0.2, random_state=42)\n",
        "clf = OneVsRestClassifier(SVC())\n",
        "clf.fit(X_train, y_train)\n",
        "\n",
        "metrics_age(X_test, y_test)"
      ]
    },
    {
      "attachments": {},
      "cell_type": "markdown",
      "metadata": {},
      "source": [
        "## ORB"
      ]
    },
    {
      "cell_type": "code",
      "execution_count": 101,
      "metadata": {
        "colab": {
          "base_uri": "https://localhost:8080/",
          "height": 452
        },
        "id": "1rO2BHdQn551",
        "outputId": "321072e3-f42c-42e6-be14-f3711f0f6e42"
      },
      "outputs": [
        {
          "name": "stdout",
          "output_type": "stream",
          "text": [
            "ORB Started\n"
          ]
        },
        {
          "data": {
            "image/png": "[encoded data removed]",
            "text/plain": [
              "<Figure size 432x288 with 1 Axes>"
            ]
          },
          "metadata": {
            "needs_background": "light"
          },
          "output_type": "display_data"
        }
      ],
      "source": [
        "#### ORB\n",
        "print(\"ORB Started\")\n",
        "\n",
        "image_check = images[1]\n",
        "\n",
        "orb = cv2.ORB_create()\n",
        "\n",
        "kp = orb.detect(image_check, None)\n",
        "\n",
        "kp, des = orb.compute(image_check, kp)\n",
        "\n",
        "img2 = cv2.drawKeypoints(image_check, kp, None, color=(0,255,0), flags=0)\n",
        "plt.imshow(img2)\n",
        "plt.show()\n",
        "\n",
        "\n",
        "orb = cv2.ORB_create()\n",
        "# define minimum and maximum keypoints\n",
        "MIN_KEYPOINTS = 100\n",
        "orb_features = []\n",
        "orb_genders = []\n",
        "orb_ages = []\n",
        "\n",
        "# loop over images and keypoints\n",
        "for i, img in enumerate(images):\n",
        "    keypoints, descriptors = orb.detectAndCompute(img, None)\n",
        "    keypoints, descriptors = orb.compute(image_check, keypoints)\n",
        "    keypoints = list(keypoints)    \n",
        "    # check if number of keypoints is between min and max\n",
        "    if len(keypoints) < MIN_KEYPOINTS:\n",
        "        continue\n",
        "        \n",
        "    # remove extra keypoints randomly\n",
        "    while len(keypoints) > MIN_KEYPOINTS:\n",
        "        idx = random.randint(0, len(keypoints)-1)\n",
        "        keypoints.pop(idx)\n",
        "        descriptors = np.delete(descriptors, idx, axis=0)\n",
        "        \n",
        "    # add descriptors to feature list\n",
        "    orb_features.append(np.ndarray.flatten(descriptors))\n",
        "    orb_genders.append(genders[i])\n",
        "    orb_ages.append(age_categories[i])\n",
        "\n",
        "mean = np.mean(orb_features, axis=0)\n",
        "std = np.std(orb_features, axis=0)\n",
        "orb_features_norm = (orb_features - mean) / std"
      ]
    },
    {
      "attachments": {},
      "cell_type": "markdown",
      "metadata": {},
      "source": [
        "### Gender"
      ]
    },
    {
      "cell_type": "code",
      "execution_count": 102,
      "metadata": {
        "colab": {
          "base_uri": "https://localhost:8080/",
          "height": 657
        },
        "id": "lw6DK_Mhn552",
        "outputId": "585e831d-05c7-45c5-e154-85e0bc031565"
      },
      "outputs": [
        {
          "name": "stdout",
          "output_type": "stream",
          "text": [
            "MCC:  0.0\n",
            "              precision    recall  f1-score   support\n",
            "\n",
            "           0       0.88      1.00      0.93        14\n",
            "           1       0.00      0.00      0.00         2\n",
            "\n",
            "    accuracy                           0.88        16\n",
            "   macro avg       0.44      0.50      0.47        16\n",
            "weighted avg       0.77      0.88      0.82        16\n",
            "\n"
          ]
        },
        {
          "name": "stderr",
          "output_type": "stream",
          "text": [
            "c:\\Users\\afbso\\anaconda3\\lib\\site-packages\\sklearn\\metrics\\_classification.py:1318: UndefinedMetricWarning: Precision and F-score are ill-defined and being set to 0.0 in labels with no predicted samples. Use `zero_division` parameter to control this behavior.\n",
            "  _warn_prf(average, modifier, msg_start, len(result))\n",
            "c:\\Users\\afbso\\anaconda3\\lib\\site-packages\\sklearn\\metrics\\_classification.py:1318: UndefinedMetricWarning: Precision and F-score are ill-defined and being set to 0.0 in labels with no predicted samples. Use `zero_division` parameter to control this behavior.\n",
            "  _warn_prf(average, modifier, msg_start, len(result))\n",
            "c:\\Users\\afbso\\anaconda3\\lib\\site-packages\\sklearn\\metrics\\_classification.py:1318: UndefinedMetricWarning: Precision and F-score are ill-defined and being set to 0.0 in labels with no predicted samples. Use `zero_division` parameter to control this behavior.\n",
            "  _warn_prf(average, modifier, msg_start, len(result))\n"
          ]
        },
        {
          "data": {
            "image/png": "[encoded data removed]",
            "text/plain": [
              "<Figure size 432x288 with 2 Axes>"
            ]
          },
          "metadata": {
            "needs_background": "light"
          },
          "output_type": "display_data"
        }
      ],
      "source": [
        "##### Gender\n",
        "X_train, X_test, y_train, y_test = train_test_split(orb_features_norm, orb_genders, test_size=0.2, random_state=42)\n",
        "\n",
        "clf = SVC()\n",
        "clf.fit(X_train, y_train)\n",
        "\n",
        "metrics_gender(X_test, y_test)"
      ]
    },
    {
      "attachments": {},
      "cell_type": "markdown",
      "metadata": {},
      "source": [
        "### Age"
      ]
    },
    {
      "cell_type": "code",
      "execution_count": 103,
      "metadata": {
        "colab": {
          "base_uri": "https://localhost:8080/",
          "height": 857
        },
        "id": "H5yPp91Dn552",
        "outputId": "dc41f54f-3c1d-4196-be10-4a168f6e3d60"
      },
      "outputs": [
        {
          "name": "stderr",
          "output_type": "stream",
          "text": [
            "c:\\Users\\afbso\\anaconda3\\lib\\site-packages\\sklearn\\multiclass.py:79: UserWarning: Label not 0 is present in all training examples.\n",
            "  warnings.warn(\n",
            "c:\\Users\\afbso\\anaconda3\\lib\\site-packages\\sklearn\\multiclass.py:79: UserWarning: Label not 2 is present in all training examples.\n",
            "  warnings.warn(\n",
            "c:\\Users\\afbso\\anaconda3\\lib\\site-packages\\sklearn\\multiclass.py:79: UserWarning: Label not 3 is present in all training examples.\n",
            "  warnings.warn(\n",
            "c:\\Users\\afbso\\anaconda3\\lib\\site-packages\\sklearn\\multiclass.py:79: UserWarning: Label not 4 is present in all training examples.\n",
            "  warnings.warn(\n",
            "c:\\Users\\afbso\\anaconda3\\lib\\site-packages\\sklearn\\metrics\\_classification.py:1318: UndefinedMetricWarning: Precision and F-score are ill-defined and being set to 0.0 in labels with no predicted samples. Use `zero_division` parameter to control this behavior.\n",
            "  _warn_prf(average, modifier, msg_start, len(result))\n",
            "c:\\Users\\afbso\\anaconda3\\lib\\site-packages\\sklearn\\metrics\\_classification.py:1318: UndefinedMetricWarning: Precision and F-score are ill-defined and being set to 0.0 in labels with no predicted samples. Use `zero_division` parameter to control this behavior.\n",
            "  _warn_prf(average, modifier, msg_start, len(result))\n",
            "c:\\Users\\afbso\\anaconda3\\lib\\site-packages\\sklearn\\metrics\\_classification.py:1318: UndefinedMetricWarning: Precision and F-score are ill-defined and being set to 0.0 in labels with no predicted samples. Use `zero_division` parameter to control this behavior.\n",
            "  _warn_prf(average, modifier, msg_start, len(result))\n"
          ]
        },
        {
          "name": "stdout",
          "output_type": "stream",
          "text": [
            "MCC:  0.0\n",
            "              precision    recall  f1-score   support\n",
            "\n",
            "           1       0.75      1.00      0.86        12\n",
            "           5       0.00      0.00      0.00         4\n",
            "\n",
            "    accuracy                           0.75        16\n",
            "   macro avg       0.38      0.50      0.43        16\n",
            "weighted avg       0.56      0.75      0.64        16\n",
            "\n"
          ]
        },
        {
          "data": {
            "image/png": "[encoded data removed]",
            "text/plain": [
              "<Figure size 432x288 with 2 Axes>"
            ]
          },
          "metadata": {
            "needs_background": "light"
          },
          "output_type": "display_data"
        }
      ],
      "source": [
        "##### AGE\n",
        "X_train, X_test, y_train, y_test = train_test_split(orb_features_norm, orb_ages, test_size=0.2, random_state=42)\n",
        "\n",
        "clf = OneVsRestClassifier(SVC())\n",
        "clf.fit(X_train, y_train)\n",
        "\n",
        "metrics_age(X_test, y_test)"
      ]
    },
    {
      "attachments": {},
      "cell_type": "markdown",
      "metadata": {},
      "source": [
        "# DATA NORM"
      ]
    },
    {
      "cell_type": "code",
      "execution_count": 106,
      "metadata": {},
      "outputs": [
        {
          "name": "stdout",
          "output_type": "stream",
          "text": [
            "age\n",
            " 1    81\n",
            "5    19\n",
            "Name: age, dtype: int64\n",
            "gender\n",
            " 0    86\n",
            "1    14\n",
            "Name: gender, dtype: int64\n"
          ]
        }
      ],
      "source": [
        "images = []\n",
        "ages = []\n",
        "genders = []\n",
        "counter = 0\n",
        "\n",
        "for file in files:\n",
        "    if counter == 100:\n",
        "        break\n",
        "\n",
        "    image = cv2.imread(os.path.join(path, file))\n",
        "    if image is not None and image.any():\n",
        "        image = cv2.cvtColor(image, cv2.COLOR_BGR2RGB)\n",
        "        image = cv2.resize(image, dsize=(200, 200))\n",
        "        image = image.reshape((image.shape[0], image.shape[1], 3)) \n",
        "        image = image / 255.0\n",
        "\n",
        "        images.append(image)\n",
        "        delimit = file.split('_')\n",
        "        ages.append(int(delimit[0]))\n",
        "        genders.append(int(delimit[1]))\n",
        "\n",
        "        counter += 1\n",
        "        \n",
        "X = np.squeeze(images)\n",
        "\n",
        "### Age classes\n",
        "age_classes = []\n",
        "for i in ages:\n",
        "    i = int(i)\n",
        "    if i <= 1:\n",
        "        age_classes.append(0)\n",
        "    if (i>1) and (i<=13):\n",
        "        age_classes.append(1)\n",
        "    if (i>13) and (i<17):\n",
        "        age_classes.append(2)\n",
        "    if (i>=17) and (i<30):\n",
        "        age_classes.append(3)\n",
        "    if (i>=30) and (i<60):\n",
        "        age_classes.append(4)\n",
        "    if i>=60:\n",
        "        age_classes.append(5)\n",
        "\n",
        "age_labels = [\"Baby\",   # index 0\n",
        "        \"Infant\",       # index 1\n",
        "        \"Adolescent\",   # index 2 \n",
        "        \"Young Adult\",  # index 3 \n",
        "        \"Adult\"         # index 4\n",
        "        \"Old Adult\",    # index 5\n",
        "        ]\n",
        "\n",
        "age_categories = to_categorical(age_classes, num_classes=6)\n",
        "age_categories[:20]\n",
        "\n",
        "img_all = pd.DataFrame()\n",
        "img_all[\"age\"] = age_classes\n",
        "img_all[\"gender\"] = genders\n",
        "\n",
        "img_gender = pd.DataFrame()\n",
        "img_gender[\"gender\"] = genders\n",
        "\n",
        "img_age = pd.DataFrame()\n",
        "img_age[\"age\"] = age_classes\n",
        "\n",
        "print(\"age\\n\", img_age.age.value_counts())\n",
        "print(\"gender\\n\", img_gender.gender.value_counts())"
      ]
    },
    {
      "attachments": {},
      "cell_type": "markdown",
      "metadata": {},
      "source": [
        "## VGG 16"
      ]
    },
    {
      "cell_type": "code",
      "execution_count": 107,
      "metadata": {
        "colab": {
          "base_uri": "https://localhost:8080/"
        },
        "id": "PyY8gIGFn552",
        "outputId": "49e86535-623d-4653-9c4d-2b734792de03"
      },
      "outputs": [
        {
          "name": "stdout",
          "output_type": "stream",
          "text": [
            "VGG Started\n",
            "Model: \"vgg16\"\n",
            "_________________________________________________________________\n",
            " Layer (type)                Output Shape              Param #   \n",
            "=================================================================\n",
            " input_4 (InputLayer)        [(None, 200, 200, 3)]     0         \n",
            "                                                                 \n",
            " block1_conv1 (Conv2D)       (None, 200, 200, 64)      1792      \n",
            "                                                                 \n",
            " block1_conv2 (Conv2D)       (None, 200, 200, 64)      36928     \n",
            "                                                                 \n",
            " block1_pool (MaxPooling2D)  (None, 100, 100, 64)      0         \n",
            "                                                                 \n",
            " block2_conv1 (Conv2D)       (None, 100, 100, 128)     73856     \n",
            "                                                                 \n",
            " block2_conv2 (Conv2D)       (None, 100, 100, 128)     147584    \n",
            "                                                                 \n",
            " block2_pool (MaxPooling2D)  (None, 50, 50, 128)       0         \n",
            "                                                                 \n",
            " block3_conv1 (Conv2D)       (None, 50, 50, 256)       295168    \n",
            "                                                                 \n",
            " block3_conv2 (Conv2D)       (None, 50, 50, 256)       590080    \n",
            "                                                                 \n",
            " block3_conv3 (Conv2D)       (None, 50, 50, 256)       590080    \n",
            "                                                                 \n",
            " block3_pool (MaxPooling2D)  (None, 25, 25, 256)       0         \n",
            "                                                                 \n",
            " block4_conv1 (Conv2D)       (None, 25, 25, 512)       1180160   \n",
            "                                                                 \n",
            " block4_conv2 (Conv2D)       (None, 25, 25, 512)       2359808   \n",
            "                                                                 \n",
            " block4_conv3 (Conv2D)       (None, 25, 25, 512)       2359808   \n",
            "                                                                 \n",
            " block4_pool (MaxPooling2D)  (None, 12, 12, 512)       0         \n",
            "                                                                 \n",
            " block5_conv1 (Conv2D)       (None, 12, 12, 512)       2359808   \n",
            "                                                                 \n",
            " block5_conv2 (Conv2D)       (None, 12, 12, 512)       2359808   \n",
            "                                                                 \n",
            " block5_conv3 (Conv2D)       (None, 12, 12, 512)       2359808   \n",
            "                                                                 \n",
            " block5_pool (MaxPooling2D)  (None, 6, 6, 512)         0         \n",
            "                                                                 \n",
            "=================================================================\n",
            "Total params: 14,714,688\n",
            "Trainable params: 0\n",
            "Non-trainable params: 14,714,688\n",
            "_________________________________________________________________\n",
            "4/4 [==============================] - 13s 3s/step\n"
          ]
        }
      ],
      "source": [
        "print(\"VGG Started\")\n",
        "#### VGG16\n",
        "VGG_model = VGG16(weights='imagenet', include_top=False, input_shape=(200, 200, 3))\n",
        "\n",
        "for layer in VGG_model.layers:\n",
        "\tlayer.trainable = False\n",
        "\t\n",
        "VGG_model.summary()\n",
        "\n",
        "X = np.stack(images)\n",
        "X = VGG_model.predict(X)"
      ]
    },
    {
      "attachments": {},
      "cell_type": "markdown",
      "metadata": {},
      "source": [
        "### Gender"
      ]
    },
    {
      "cell_type": "code",
      "execution_count": 108,
      "metadata": {
        "colab": {
          "base_uri": "https://localhost:8080/",
          "height": 657
        },
        "id": "7gIL96aon553",
        "outputId": "0e0a4e26-926d-4af4-b698-995810c32aec"
      },
      "outputs": [
        {
          "name": "stdout",
          "output_type": "stream",
          "text": [
            "MCC:  0.0\n",
            "              precision    recall  f1-score   support\n",
            "\n",
            "           0       0.80      1.00      0.89        16\n",
            "           1       0.00      0.00      0.00         4\n",
            "\n",
            "    accuracy                           0.80        20\n",
            "   macro avg       0.40      0.50      0.44        20\n",
            "weighted avg       0.64      0.80      0.71        20\n",
            "\n"
          ]
        },
        {
          "name": "stderr",
          "output_type": "stream",
          "text": [
            "c:\\Users\\afbso\\anaconda3\\lib\\site-packages\\sklearn\\metrics\\_classification.py:1318: UndefinedMetricWarning: Precision and F-score are ill-defined and being set to 0.0 in labels with no predicted samples. Use `zero_division` parameter to control this behavior.\n",
            "  _warn_prf(average, modifier, msg_start, len(result))\n",
            "c:\\Users\\afbso\\anaconda3\\lib\\site-packages\\sklearn\\metrics\\_classification.py:1318: UndefinedMetricWarning: Precision and F-score are ill-defined and being set to 0.0 in labels with no predicted samples. Use `zero_division` parameter to control this behavior.\n",
            "  _warn_prf(average, modifier, msg_start, len(result))\n",
            "c:\\Users\\afbso\\anaconda3\\lib\\site-packages\\sklearn\\metrics\\_classification.py:1318: UndefinedMetricWarning: Precision and F-score are ill-defined and being set to 0.0 in labels with no predicted samples. Use `zero_division` parameter to control this behavior.\n",
            "  _warn_prf(average, modifier, msg_start, len(result))\n"
          ]
        },
        {
          "data": {
            "image/png": "[encoded data removed]",
            "text/plain": [
              "<Figure size 432x288 with 2 Axes>"
            ]
          },
          "metadata": {
            "needs_background": "light"
          },
          "output_type": "display_data"
        }
      ],
      "source": [
        "##### Gender\n",
        "X_svm = X.reshape(X.shape[0], -1)\n",
        "X_train, X_test, y_train, y_test = train_test_split(X_svm, genders, test_size=0.2, random_state=42)\n",
        "\n",
        "clf = SVC()\n",
        "clf.fit(X_train, y_train)\n",
        "\n",
        "metrics_gender(X_test, y_test)"
      ]
    },
    {
      "attachments": {},
      "cell_type": "markdown",
      "metadata": {},
      "source": [
        "### Age"
      ]
    },
    {
      "cell_type": "code",
      "execution_count": 109,
      "metadata": {
        "colab": {
          "base_uri": "https://localhost:8080/",
          "height": 880
        },
        "id": "ZZ9Gmelhn553",
        "outputId": "135f312e-184c-42a5-ba0a-c4609ce8e439"
      },
      "outputs": [
        {
          "name": "stderr",
          "output_type": "stream",
          "text": [
            "c:\\Users\\afbso\\anaconda3\\lib\\site-packages\\sklearn\\multiclass.py:79: UserWarning: Label not 0 is present in all training examples.\n",
            "  warnings.warn(\n",
            "c:\\Users\\afbso\\anaconda3\\lib\\site-packages\\sklearn\\multiclass.py:79: UserWarning: Label not 2 is present in all training examples.\n",
            "  warnings.warn(\n",
            "c:\\Users\\afbso\\anaconda3\\lib\\site-packages\\sklearn\\multiclass.py:79: UserWarning: Label not 3 is present in all training examples.\n",
            "  warnings.warn(\n",
            "c:\\Users\\afbso\\anaconda3\\lib\\site-packages\\sklearn\\multiclass.py:79: UserWarning: Label not 4 is present in all training examples.\n",
            "  warnings.warn(\n"
          ]
        },
        {
          "name": "stdout",
          "output_type": "stream",
          "text": [
            "MCC:  0.36380343755449945\n",
            "              precision    recall  f1-score   support\n",
            "\n",
            "           0       0.00      0.00      0.00         0\n",
            "           1       0.88      1.00      0.94        15\n",
            "           5       0.00      0.00      0.00         5\n",
            "\n",
            "    accuracy                           0.75        20\n",
            "   macro avg       0.29      0.33      0.31        20\n",
            "weighted avg       0.66      0.75      0.70        20\n",
            "\n"
          ]
        },
        {
          "name": "stderr",
          "output_type": "stream",
          "text": [
            "c:\\Users\\afbso\\anaconda3\\lib\\site-packages\\sklearn\\metrics\\_classification.py:1318: UndefinedMetricWarning: Precision and F-score are ill-defined and being set to 0.0 in labels with no predicted samples. Use `zero_division` parameter to control this behavior.\n",
            "  _warn_prf(average, modifier, msg_start, len(result))\n",
            "c:\\Users\\afbso\\anaconda3\\lib\\site-packages\\sklearn\\metrics\\_classification.py:1318: UndefinedMetricWarning: Recall and F-score are ill-defined and being set to 0.0 in labels with no true samples. Use `zero_division` parameter to control this behavior.\n",
            "  _warn_prf(average, modifier, msg_start, len(result))\n",
            "c:\\Users\\afbso\\anaconda3\\lib\\site-packages\\sklearn\\metrics\\_classification.py:1318: UndefinedMetricWarning: Precision and F-score are ill-defined and being set to 0.0 in labels with no predicted samples. Use `zero_division` parameter to control this behavior.\n",
            "  _warn_prf(average, modifier, msg_start, len(result))\n",
            "c:\\Users\\afbso\\anaconda3\\lib\\site-packages\\sklearn\\metrics\\_classification.py:1318: UndefinedMetricWarning: Recall and F-score are ill-defined and being set to 0.0 in labels with no true samples. Use `zero_division` parameter to control this behavior.\n",
            "  _warn_prf(average, modifier, msg_start, len(result))\n",
            "c:\\Users\\afbso\\anaconda3\\lib\\site-packages\\sklearn\\metrics\\_classification.py:1318: UndefinedMetricWarning: Precision and F-score are ill-defined and being set to 0.0 in labels with no predicted samples. Use `zero_division` parameter to control this behavior.\n",
            "  _warn_prf(average, modifier, msg_start, len(result))\n",
            "c:\\Users\\afbso\\anaconda3\\lib\\site-packages\\sklearn\\metrics\\_classification.py:1318: UndefinedMetricWarning: Recall and F-score are ill-defined and being set to 0.0 in labels with no true samples. Use `zero_division` parameter to control this behavior.\n",
            "  _warn_prf(average, modifier, msg_start, len(result))\n"
          ]
        },
        {
          "data": {
            "image/png": "[encoded data removed]",
            "text/plain": [
              "<Figure size 432x288 with 2 Axes>"
            ]
          },
          "metadata": {
            "needs_background": "light"
          },
          "output_type": "display_data"
        }
      ],
      "source": [
        "#### AGE\n",
        "X_train, X_test, y_train, y_test = train_test_split(X_svm, age_categories, test_size=0.2, random_state=42)#variar a percentagem split\n",
        "\n",
        "clf = OneVsRestClassifier(SVC())\n",
        "clf.fit(X_train, y_train)\n",
        "\n",
        "metrics_age(X_test, y_test)"
      ]
    },
    {
      "attachments": {},
      "cell_type": "markdown",
      "metadata": {},
      "source": [
        "## Autoencoder"
      ]
    },
    {
      "attachments": {},
      "cell_type": "markdown",
      "metadata": {},
      "source": [
        "### Gender"
      ]
    },
    {
      "cell_type": "code",
      "execution_count": 119,
      "metadata": {},
      "outputs": [],
      "source": [
        " ##### Gender\n",
        "X_train, X_test, y_train, y_test = train_test_split(images, genders, test_size=0.2, random_state=42)\n",
        "\n",
        "X_train = np.array(X_train)\n",
        "X_train = np.reshape(X_train, (X_train.shape[0], X_train.shape[1], X_train.shape[2], 3))\n",
        "\n",
        "X_test = np.array(X_test)\n",
        "X_test = np.reshape(X_test, (X_test.shape[0], X_test.shape[1], X_test.shape[2], 3))"
      ]
    },
    {
      "cell_type": "code",
      "execution_count": 120,
      "metadata": {
        "colab": {
          "base_uri": "https://localhost:8080/"
        },
        "id": "pOoUj9Szn553",
        "outputId": "1fbcf210-8c02-41b7-d919-1d64903984fc"
      },
      "outputs": [
        {
          "name": "stdout",
          "output_type": "stream",
          "text": [
            "Model: \"model_7\"\n",
            "_________________________________________________________________\n",
            " Layer (type)                Output Shape              Param #   \n",
            "=================================================================\n",
            " input_7 (InputLayer)        [(None, 200, 200, 3)]     0         \n",
            "                                                                 \n",
            " conv2d_12 (Conv2D)          (None, 100, 100, 64)      1792      \n",
            "                                                                 \n",
            " conv2d_13 (Conv2D)          (None, 50, 50, 32)        18464     \n",
            "                                                                 \n",
            " conv2d_14 (Conv2D)          (None, 25, 25, 16)        4624      \n",
            "                                                                 \n",
            " flatten_4 (Flatten)         (None, 10000)             0         \n",
            "                                                                 \n",
            " dense_8 (Dense)             (None, 2000)              20002000  \n",
            "                                                                 \n",
            " dense_9 (Dense)             (None, 10000)             20010000  \n",
            "                                                                 \n",
            " reshape_4 (Reshape)         (None, 25, 25, 16)        0         \n",
            "                                                                 \n",
            " conv2d_transpose_12 (Conv2D  (None, 50, 50, 32)       4640      \n",
            " Transpose)                                                      \n",
            "                                                                 \n",
            " conv2d_transpose_13 (Conv2D  (None, 100, 100, 64)     18496     \n",
            " Transpose)                                                      \n",
            "                                                                 \n",
            " conv2d_transpose_14 (Conv2D  (None, 200, 200, 3)      1731      \n",
            " Transpose)                                                      \n",
            "                                                                 \n",
            "=================================================================\n",
            "Total params: 40,061,747\n",
            "Trainable params: 40,061,747\n",
            "Non-trainable params: 0\n",
            "_________________________________________________________________\n"
          ]
        }
      ],
      "source": [
        "#### AUtoencoder\n",
        "input = layers.Input(shape=(200, 200, 3))\n",
        "\n",
        "#valor alto apanha artefactos, e valor baixo nao captura bem as features da imagem\n",
        "latent_dim = 2000\n",
        "\n",
        "## Classe \n",
        "\n",
        "# Encoder\n",
        "\n",
        "#didnt increase filter count in encoder and decrease equally in decoder because\n",
        "#it can lead to overfitting\n",
        "\n",
        "x = layers.Conv2D(64, (3,3), activation='relu', padding='same', strides = 2)(input)\n",
        "#x = layers.MaxPooling2D((2,2), padding='same')(x)#dividir imagem por factor de 2\n",
        "x = layers.Conv2D(32, (3,3), activation='relu', padding='same', strides = 2)(x)#reduziu se nr de filtros para 32 porque foi decidido factor de 32 filtros\n",
        "#x = layers.MaxPooling2D((2,2), padding='same')(x)\n",
        "x = layers.Conv2D(16, (3,3), activation='relu', padding='same', strides = 2)(x)\n",
        "#x = layers.MaxPooling2D((2,2), padding='same')(x)#25*25*16=10000\n",
        "x = layers.Flatten()(x)\n",
        "enc = layers.Dense(latent_dim, activation='relu')(x)\n",
        "\n",
        "# Decoder\n",
        "\n",
        "#having conv2D here helps to avoid checkerboard artifacts\n",
        "#which are alternating points of colors (like checkerboard)\n",
        "#that are consequence of deconvolutioning an image and cause \n",
        "#loss of quality in final reconstruction\n",
        "#x = layers.Conv2D(16, (3,3), activation='relu', padding='same')(x)\n",
        "\n",
        "#equivalente a fazer dense layer no fim do encoder e no inicio do decoder\n",
        "#fazer a layer dense fica um vector\n",
        "#fazer reshape depois do 2 dense para voltar a ter imagem do vetor criado\n",
        "\n",
        "x = layers.Dense(25*25*16, activation='relu')(enc)\n",
        "x = layers.Reshape((25,25,16))(x)\n",
        "#x = layers.UpSampling2D((2,2))(x)\n",
        "x = layers.Conv2DTranspose(32, (3, 3), activation=\"relu\", padding=\"same\", strides = 2)(x)\n",
        "#x = layers.UpSampling2D((2,2))(x)\n",
        "x = layers.Conv2DTranspose(64, (3,3), activation='relu', padding='same', strides = 2)(x)\n",
        "#x = layers.UpSampling2D((2,2))(x)\n",
        "output = layers.Conv2DTranspose(3, (3,3), activation='sigmoid', padding='same', strides = 2)(x)\n",
        "\n",
        "#maybe use strides in the layers too\n",
        "#example:\n",
        "#x = layers.Conv2D(16, (3,3), activation='relu', padding='same', strides = 2)(x)\n",
        "\n",
        "# Autoencoder\n",
        "autoencoder = Model(input, output)\n",
        "\n",
        "# binary cross entropy is good for image feature extraction especially when images are normalized\n",
        "autoencoder.compile(optimizer=\"adam\", loss=\"binary_crossentropy\")\n",
        "autoencoder.summary()"
      ]
    },
    {
      "cell_type": "code",
      "execution_count": 121,
      "metadata": {},
      "outputs": [
        {
          "name": "stdout",
          "output_type": "stream",
          "text": [
            "Epoch 1/2\n",
            "3/3 [==============================] - 6s 1s/step - loss: 0.6930 - val_loss: 0.6928\n",
            "Epoch 2/2\n",
            "3/3 [==============================] - 3s 1s/step - loss: 0.6924 - val_loss: 0.6921\n"
          ]
        },
        {
          "data": {
            "text/plain": [
              "<keras.callbacks.History at 0x25b8337a1f0>"
            ]
          },
          "execution_count": 121,
          "metadata": {},
          "output_type": "execute_result"
        }
      ],
      "source": [
        "autoencoder.fit(x = X_train, \n",
        "                y = X_train,\n",
        "                epochs = 2,\n",
        "                shuffle = True,\n",
        "                batch_size = 32,\n",
        "                validation_data = (X_test, X_test),\n",
        ")"
      ]
    },
    {
      "cell_type": "code",
      "execution_count": 122,
      "metadata": {},
      "outputs": [
        {
          "name": "stdout",
          "output_type": "stream",
          "text": [
            "3/3 [==============================] - 0s 56ms/step\n",
            "1/1 [==============================] - 0s 91ms/step\n"
          ]
        }
      ],
      "source": [
        "new_model = Model(input, enc)\n",
        "\n",
        "pred_train = new_model.predict(X_train)\n",
        "pred_test = new_model.predict(X_test)\n",
        "\n",
        "encoded_X_train = pred_train.reshape((pred_train.shape[0], -1))\n",
        "encoded_X_test = pred_test.reshape((pred_test.shape[0], -1))"
      ]
    },
    {
      "cell_type": "code",
      "execution_count": 126,
      "metadata": {},
      "outputs": [
        {
          "name": "stdout",
          "output_type": "stream",
          "text": [
            "MCC:  0.0\n",
            "              precision    recall  f1-score   support\n",
            "\n",
            "           0       0.80      1.00      0.89        16\n",
            "           1       0.00      0.00      0.00         4\n",
            "\n",
            "    accuracy                           0.80        20\n",
            "   macro avg       0.40      0.50      0.44        20\n",
            "weighted avg       0.64      0.80      0.71        20\n",
            "\n"
          ]
        },
        {
          "name": "stderr",
          "output_type": "stream",
          "text": [
            "c:\\Users\\afbso\\anaconda3\\lib\\site-packages\\sklearn\\metrics\\_classification.py:1318: UndefinedMetricWarning: Precision and F-score are ill-defined and being set to 0.0 in labels with no predicted samples. Use `zero_division` parameter to control this behavior.\n",
            "  _warn_prf(average, modifier, msg_start, len(result))\n",
            "c:\\Users\\afbso\\anaconda3\\lib\\site-packages\\sklearn\\metrics\\_classification.py:1318: UndefinedMetricWarning: Precision and F-score are ill-defined and being set to 0.0 in labels with no predicted samples. Use `zero_division` parameter to control this behavior.\n",
            "  _warn_prf(average, modifier, msg_start, len(result))\n",
            "c:\\Users\\afbso\\anaconda3\\lib\\site-packages\\sklearn\\metrics\\_classification.py:1318: UndefinedMetricWarning: Precision and F-score are ill-defined and being set to 0.0 in labels with no predicted samples. Use `zero_division` parameter to control this behavior.\n",
            "  _warn_prf(average, modifier, msg_start, len(result))\n"
          ]
        },
        {
          "data": {
            "image/png": "[encoded data removed]",
            "text/plain": [
              "<Figure size 432x288 with 2 Axes>"
            ]
          },
          "metadata": {
            "needs_background": "light"
          },
          "output_type": "display_data"
        }
      ],
      "source": [
        "clf = SVC()\n",
        "clf.fit(encoded_X_train, y_train)\n",
        "\n",
        "metrics_gender(encoded_X_test, y_test)"
      ]
    },
    {
      "attachments": {},
      "cell_type": "markdown",
      "metadata": {},
      "source": [
        "### Age"
      ]
    },
    {
      "cell_type": "code",
      "execution_count": 127,
      "metadata": {},
      "outputs": [],
      "source": [
        "X_train, X_test, y_train, y_test = train_test_split(images, age_categories, test_size=0.2, random_state=42)\n",
        "X_train = np.array(X_train)\n",
        "X_train = np.reshape(X_train, (X_train.shape[0], X_train.shape[1], X_train.shape[2], 3))\n",
        "\n",
        "X_test = np.array(X_test)\n",
        "X_test = np.reshape(X_test, (X_test.shape[0], X_test.shape[1], X_test.shape[2], 3))"
      ]
    },
    {
      "cell_type": "code",
      "execution_count": 128,
      "metadata": {},
      "outputs": [
        {
          "name": "stdout",
          "output_type": "stream",
          "text": [
            "Model: \"model_9\"\n",
            "_________________________________________________________________\n",
            " Layer (type)                Output Shape              Param #   \n",
            "=================================================================\n",
            " input_8 (InputLayer)        [(None, 200, 200, 3)]     0         \n",
            "                                                                 \n",
            " conv2d_15 (Conv2D)          (None, 100, 100, 64)      1792      \n",
            "                                                                 \n",
            " conv2d_16 (Conv2D)          (None, 50, 50, 32)        18464     \n",
            "                                                                 \n",
            " conv2d_17 (Conv2D)          (None, 25, 25, 16)        4624      \n",
            "                                                                 \n",
            " flatten_5 (Flatten)         (None, 10000)             0         \n",
            "                                                                 \n",
            " dense_10 (Dense)            (None, 2000)              20002000  \n",
            "                                                                 \n",
            " dense_11 (Dense)            (None, 10000)             20010000  \n",
            "                                                                 \n",
            " reshape_5 (Reshape)         (None, 25, 25, 16)        0         \n",
            "                                                                 \n",
            " conv2d_transpose_15 (Conv2D  (None, 50, 50, 32)       4640      \n",
            " Transpose)                                                      \n",
            "                                                                 \n",
            " conv2d_transpose_16 (Conv2D  (None, 100, 100, 64)     18496     \n",
            " Transpose)                                                      \n",
            "                                                                 \n",
            " conv2d_transpose_17 (Conv2D  (None, 200, 200, 3)      1731      \n",
            " Transpose)                                                      \n",
            "                                                                 \n",
            "=================================================================\n",
            "Total params: 40,061,747\n",
            "Trainable params: 40,061,747\n",
            "Non-trainable params: 0\n",
            "_________________________________________________________________\n"
          ]
        }
      ],
      "source": [
        "# binary cross entropy is good for imagprint(\"Autoencoder Started\")\n",
        "#### AUtoencoder\n",
        "input = layers.Input(shape=(200, 200, 3))\n",
        "\n",
        "#valor alto apanha artefactos, e valor baixo nao captura bem as features da imagem\n",
        "latent_dim = 2000\n",
        "\n",
        "## Classe \n",
        "\n",
        "# Encoder\n",
        "\n",
        "#didnt increase filter count in encoder and decrease equally in decoder because\n",
        "#it can lead to overfitting\n",
        "\n",
        "x = layers.Conv2D(64, (3,3), activation='relu', padding='same', strides = 2)(input)\n",
        "#x = layers.MaxPooling2D((2,2), padding='same')(x)#dividir imagem por factor de 2\n",
        "x = layers.Conv2D(32, (3,3), activation='relu', padding='same', strides = 2)(x)#reduziu se nr de filtros para 32 porque foi decidido factor de 32 filtros\n",
        "#x = layers.MaxPooling2D((2,2), padding='same')(x)\n",
        "x = layers.Conv2D(16, (3,3), activation='relu', padding='same', strides = 2)(x)\n",
        "#x = layers.MaxPooling2D((2,2), padding='same')(x)#25*25*16=10000\n",
        "x = layers.Flatten()(x)\n",
        "enc = layers.Dense(latent_dim, activation='relu')(x)\n",
        "\n",
        "# Decoder\n",
        "\n",
        "#having conv2D here helps to avoid checkerboard artifacts\n",
        "#which are alternating points of colors (like checkerboard)\n",
        "#that are consequence of deconvolutioning an image and cause \n",
        "#loss of quality in final reconstruction\n",
        "#x = layers.Conv2D(16, (3,3), activation='relu', padding='same')(x)\n",
        "\n",
        "#equivalente a fazer dense layer no fim do encoder e no inicio do decoder\n",
        "#fazer a layer dense fica um vector\n",
        "#fazer reshape depois do 2 dense para voltar a ter imagem do vetor criado\n",
        "\n",
        "x = layers.Dense(25*25*16, activation='relu')(enc)\n",
        "x = layers.Reshape((25,25,16))(x)\n",
        "#x = layers.UpSampling2D((2,2))(x)\n",
        "x = layers.Conv2DTranspose(32, (3, 3), activation=\"relu\", padding=\"same\", strides = 2)(x)\n",
        "#x = layers.UpSampling2D((2,2))(x)\n",
        "x = layers.Conv2DTranspose(64, (3,3), activation='relu', padding='same', strides = 2)(x)\n",
        "#x = layers.UpSampling2D((2,2))(x)\n",
        "output = layers.Conv2DTranspose(3, (3,3), activation='sigmoid', padding='same', strides = 2)(x)\n",
        "\n",
        "#maybe use strides in the layers too\n",
        "#example:\n",
        "#x = layers.Conv2D(16, (3,3), activation='relu', padding='same', strides = 2)(x)\n",
        "\n",
        "# Autoencoder\n",
        "autoencoder = Model(input, output)\n",
        "\n",
        "# binary cross entropy is good for image feature extraction especially when images are normalized\n",
        "autoencoder.compile(optimizer=\"adam\", loss=\"binary_crossentropy\",\n",
        "            metrics=['accuracy'])\n",
        "\n",
        "autoencoder.summary()#e feature extraction especially when images are normalized"
      ]
    },
    {
      "cell_type": "code",
      "execution_count": 129,
      "metadata": {},
      "outputs": [
        {
          "name": "stdout",
          "output_type": "stream",
          "text": [
            "Epoch 1/2\n",
            "3/3 [==============================] - 6s 1s/step - loss: 0.6930 - accuracy: 0.5687 - val_loss: 0.6927 - val_accuracy: 0.7286\n",
            "Epoch 2/2\n",
            "3/3 [==============================] - 3s 1s/step - loss: 0.6925 - accuracy: 0.7192 - val_loss: 0.6920 - val_accuracy: 0.7304\n"
          ]
        },
        {
          "data": {
            "text/plain": [
              "<keras.callbacks.History at 0x25b83ce7ee0>"
            ]
          },
          "execution_count": 129,
          "metadata": {},
          "output_type": "execute_result"
        }
      ],
      "source": [
        "autoencoder.fit(X_train, X_train,\n",
        "                epochs = 2,\n",
        "                shuffle = True,\n",
        "                batch_size = 32,\n",
        "                validation_data = (X_test, X_test),\n",
        ")"
      ]
    },
    {
      "cell_type": "code",
      "execution_count": 130,
      "metadata": {},
      "outputs": [
        {
          "name": "stdout",
          "output_type": "stream",
          "text": [
            "3/3 [==============================] - 0s 51ms/step\n",
            "1/1 [==============================] - 0s 86ms/step\n"
          ]
        }
      ],
      "source": [
        "new_model = Model(input, enc)\n",
        "\n",
        "pred_train = new_model.predict(X_train)\n",
        "pred_test = new_model.predict(X_test)\n",
        "\n",
        "\n",
        "encoded_train = pred_train.reshape((pred_train.shape[0], -1))\n",
        "encoded_test = pred_test.reshape((pred_test.shape[0], -1))"
      ]
    },
    {
      "cell_type": "code",
      "execution_count": 131,
      "metadata": {},
      "outputs": [
        {
          "name": "stderr",
          "output_type": "stream",
          "text": [
            "c:\\Users\\afbso\\anaconda3\\lib\\site-packages\\sklearn\\multiclass.py:79: UserWarning: Label not 0 is present in all training examples.\n",
            "  warnings.warn(\n",
            "c:\\Users\\afbso\\anaconda3\\lib\\site-packages\\sklearn\\multiclass.py:79: UserWarning: Label not 2 is present in all training examples.\n",
            "  warnings.warn(\n",
            "c:\\Users\\afbso\\anaconda3\\lib\\site-packages\\sklearn\\multiclass.py:79: UserWarning: Label not 3 is present in all training examples.\n",
            "  warnings.warn(\n",
            "c:\\Users\\afbso\\anaconda3\\lib\\site-packages\\sklearn\\multiclass.py:79: UserWarning: Label not 4 is present in all training examples.\n",
            "  warnings.warn(\n",
            "c:\\Users\\afbso\\anaconda3\\lib\\site-packages\\sklearn\\metrics\\_classification.py:1318: UndefinedMetricWarning: Precision and F-score are ill-defined and being set to 0.0 in labels with no predicted samples. Use `zero_division` parameter to control this behavior.\n",
            "  _warn_prf(average, modifier, msg_start, len(result))\n",
            "c:\\Users\\afbso\\anaconda3\\lib\\site-packages\\sklearn\\metrics\\_classification.py:1318: UndefinedMetricWarning: Precision and F-score are ill-defined and being set to 0.0 in labels with no predicted samples. Use `zero_division` parameter to control this behavior.\n",
            "  _warn_prf(average, modifier, msg_start, len(result))\n",
            "c:\\Users\\afbso\\anaconda3\\lib\\site-packages\\sklearn\\metrics\\_classification.py:1318: UndefinedMetricWarning: Precision and F-score are ill-defined and being set to 0.0 in labels with no predicted samples. Use `zero_division` parameter to control this behavior.\n",
            "  _warn_prf(average, modifier, msg_start, len(result))\n"
          ]
        },
        {
          "name": "stdout",
          "output_type": "stream",
          "text": [
            "MCC:  0.0\n",
            "              precision    recall  f1-score   support\n",
            "\n",
            "           1       0.75      1.00      0.86        15\n",
            "           5       0.00      0.00      0.00         5\n",
            "\n",
            "    accuracy                           0.75        20\n",
            "   macro avg       0.38      0.50      0.43        20\n",
            "weighted avg       0.56      0.75      0.64        20\n",
            "\n"
          ]
        },
        {
          "data": {
            "image/png": "[encoded data removed]",
            "text/plain": [
              "<Figure size 432x288 with 2 Axes>"
            ]
          },
          "metadata": {
            "needs_background": "light"
          },
          "output_type": "display_data"
        }
      ],
      "source": [
        "clf = OneVsRestClassifier(SVC())\n",
        "clf.fit(encoded_train, y_train)\n",
        "\n",
        "\n",
        "metrics_age(encoded_X_test, y_test) "
      ]
    }
  ],
  "metadata": {
    "accelerator": "GPU",
    "colab": {
      "gpuType": "A100",
      "machine_shape": "hm",
      "provenance": []
    },
    "gpuClass": "standard",
    "kernelspec": {
      "display_name": "base",
      "language": "python",
      "name": "python3"
    },
    "language_info": {
      "codemirror_mode": {
        "name": "ipython",
        "version": 3
      },
      "file_extension": ".py",
      "mimetype": "text/x-python",
      "name": "python",
      "nbconvert_exporter": "python",
      "pygments_lexer": "ipython3",
      "version": "3.9.12"
    }
  },
  "nbformat": 4,
  "nbformat_minor": 0
}
