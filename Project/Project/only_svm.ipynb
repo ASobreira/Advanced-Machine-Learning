{
  "cells": [
    {
      "attachments": {},
      "cell_type": "markdown",
      "metadata": {},
      "source": [
        "# Kaggle API"
      ]
    },
    {
      "cell_type": "code",
      "execution_count": null,
      "metadata": {
        "id": "3dTLT1XK0E9q"
      },
      "outputs": [],
      "source": [
        "!pip install kaggle\n",
        "\n",
        "! mkdir ~/.kaggle\n",
        "\n",
        "!rm -r /root/.kaggle\n",
        "\n",
        "! cp kaggle.json ~/.kaggle\n",
        "\n",
        "! chmod 600 ~/.kaggle/kaggle.json\n",
        "\n",
        "! kaggle datasets download -d jangedoo/utkface-new\n",
        "\n",
        "#! kaggle datasets list\n",
        "\n",
        "! unzip utkface-new.zip"
      ]
    },
    {
      "attachments": {},
      "cell_type": "markdown",
      "metadata": {},
      "source": [
        "# GPU"
      ]
    },
    {
      "cell_type": "code",
      "execution_count": null,
      "metadata": {
        "id": "SAuD1Fm92Ddr"
      },
      "outputs": [],
      "source": [
        "device_list = tf.test.gpu_device_name()\n",
        "\n",
        "device_list"
      ]
    },
    {
      "cell_type": "code",
      "execution_count": null,
      "metadata": {
        "colab": {
          "base_uri": "https://localhost:8080/"
        },
        "id": "tYAJZGKu1lt1",
        "outputId": "88271c92-7748-4d17-9c7c-592da4ac625e"
      },
      "outputs": [
        {
          "name": "stdout",
          "output_type": "stream",
          "text": [
            "Fri May  5 18:19:57 2023       \n",
            "+-----------------------------------------------------------------------------+\n",
            "| NVIDIA-SMI 525.85.12    Driver Version: 525.85.12    CUDA Version: 12.0     |\n",
            "|-------------------------------+----------------------+----------------------+\n",
            "| GPU  Name        Persistence-M| Bus-Id        Disp.A | Volatile Uncorr. ECC |\n",
            "| Fan  Temp  Perf  Pwr:Usage/Cap|         Memory-Usage | GPU-Util  Compute M. |\n",
            "|                               |                      |               MIG M. |\n",
            "|===============================+======================+======================|\n",
            "|   0  NVIDIA A100-SXM...  Off  | 00000000:00:04.0 Off |                    0 |\n",
            "| N/A   32C    P0    47W / 400W |    691MiB / 40960MiB |      0%      Default |\n",
            "|                               |                      |             Disabled |\n",
            "+-------------------------------+----------------------+----------------------+\n",
            "                                                                               \n",
            "+-----------------------------------------------------------------------------+\n",
            "| Processes:                                                                  |\n",
            "|  GPU   GI   CI        PID   Type   Process name                  GPU Memory |\n",
            "|        ID   ID                                                   Usage      |\n",
            "|=============================================================================|\n",
            "+-----------------------------------------------------------------------------+\n"
          ]
        }
      ],
      "source": [
        "!nvidia-smi"
      ]
    },
    {
      "attachments": {},
      "cell_type": "markdown",
      "metadata": {},
      "source": [
        "# PACKAGES"
      ]
    },
    {
      "cell_type": "code",
      "execution_count": 40,
      "metadata": {
        "id": "-nGoiUScn55r"
      },
      "outputs": [],
      "source": [
        "### packages ###\n",
        "import numpy as np\n",
        "import pandas as pd \n",
        "import os\n",
        "import cv2\n",
        "from sklearn.svm import SVC\n",
        "from skimage.feature import hog\n",
        "import matplotlib.pyplot as plt\n",
        "from sklearn.model_selection import train_test_split\n",
        "from sklearn.svm import SVC\n",
        "from skimage.color import rgb2gray\n",
        "import tensorflow as tf\n",
        "from keras.models import Sequential\n",
        "from keras.layers import Convolution2D, MaxPooling2D, Flatten, Dense, Dropout, GlobalAveragePooling2D\n",
        "from keras.applications import VGG16\n",
        "from skimage.feature import hog\n",
        "from skimage import data, exposure\n",
        "import random\n",
        "from keras import layers, losses\n",
        "from keras.models import Model\n",
        "from sklearn.metrics import classification_report, accuracy_score, matthews_corrcoef, confusion_matrix\n",
        "from sklearn.model_selection import GridSearchCV\n",
        "from sklearn.metrics import classification_report\n",
        "import seaborn as sns\n",
        "from sklearn.multiclass import OneVsRestClassifier\n",
        "from sklearn.svm import SVC\n",
        "import math\n",
        "from keras.utils.np_utils import to_categorical\n",
        "from sklearn.metrics import classification_report, confusion_matrix\n",
        "from datetime import datetime"
      ]
    },
    {
      "attachments": {},
      "cell_type": "markdown",
      "metadata": {},
      "source": [
        "# FUNCTIONS"
      ]
    },
    {
      "cell_type": "code",
      "execution_count": 13,
      "metadata": {
        "id": "qUKrKLhXn55v"
      },
      "outputs": [],
      "source": [
        "def display(img):\n",
        "    plt.imshow(img)\n",
        "    plt.show()"
      ]
    },
    {
      "cell_type": "code",
      "execution_count": null,
      "metadata": {},
      "outputs": [],
      "source": [
        "\n",
        "#path server\n",
        "#path = \"/UTKFace/\"\n",
        "#path colab\n",
        "#path = \"/content/utkface_aligned_cropped/UTKFace\"\n",
        "#path martim\n",
        "#path = \"../../../../DadosProj/UTKFace/\"\n",
        "#path alex\n",
        "path = \"../../../data_project/UTKFace/\"\n",
        "\n",
        "\n",
        "\n",
        "files = os.listdir(path)\n",
        "size = len(files)\n",
        "print(\"Total samples:\",size)\n",
        "print(files[0])"
      ]
    },
    {
      "attachments": {},
      "cell_type": "markdown",
      "metadata": {},
      "source": [
        "# DATA NORM"
      ]
    },
    {
      "cell_type": "code",
      "execution_count": 42,
      "metadata": {
        "id": "cr8wbjlan55x"
      },
      "outputs": [],
      "source": [
        "images = []\n",
        "ages = []\n",
        "genders = []\n",
        "counter = 0\n",
        "\n",
        "for file in files:\n",
        "    if counter == 100:\n",
        "        break\n",
        "    \n",
        "    image = cv2.imread(path+file)\n",
        "    image = cv2.cvtColor(image, cv2.COLOR_BGR2RGB)\n",
        "    image = cv2.resize(image, dsize=(200, 200))\n",
        "    image = image.reshape((image.shape[0], image.shape[1], 3)) \n",
        "    #image = image.astype('float32') / 255.0 #normalizing values on each point \n",
        "    image = image / 255.0\n",
        "\n",
        "    #verificar se imagens todas estao no range 0 a 255 (se sao rgb)\n",
        "\n",
        "    images.append(image)\n",
        "    delimit = file.split('_')\n",
        "    ages.append(int(delimit[0]))\n",
        "    # first number is age (0-116 possible values)\n",
        "    genders.append(int(delimit[1]))\n",
        "    # second number is gender (0 for male, 1 for female)\n",
        "\n",
        "\n",
        "    counter += 1"
      ]
    },
    {
      "attachments": {},
      "cell_type": "markdown",
      "metadata": {},
      "source": [
        "# AGE CLASSES"
      ]
    },
    {
      "cell_type": "code",
      "execution_count": 43,
      "metadata": {
        "colab": {
          "base_uri": "https://localhost:8080/"
        },
        "id": "Yg16NGvDn55x",
        "outputId": "818fa4b3-cf97-4f15-9a34-8fcb2fcd98ae"
      },
      "outputs": [
        {
          "name": "stdout",
          "output_type": "stream",
          "text": [
            "Age Classes finished\n"
          ]
        }
      ],
      "source": [
        "### Age classes\n",
        "age_classes = []\n",
        "for i in ages:\n",
        "    i = int(i)\n",
        "    if i <= 1:\n",
        "        age_classes.append(0)\n",
        "    if (i>1) and (i<=13):\n",
        "        age_classes.append(1)\n",
        "    if (i>13) and (i<17):\n",
        "        age_classes.append(2)\n",
        "    if (i>=17) and (i<30):\n",
        "        age_classes.append(3)\n",
        "    if (i>=30) and (i<60):\n",
        "        age_classes.append(4)\n",
        "    if i>=60:\n",
        "        age_classes.append(5)\n",
        "\n",
        "age_labels = [\"Baby\",   # index 0\n",
        "        \"Infant\",       # index 1\n",
        "        \"Adolescent\",   # index 2 \n",
        "        \"Young Adult\",  # index 3 \n",
        "        \"Adult\"         # index 4\n",
        "        \"Old Adult\",    # index 5\n",
        "        ]\n",
        "\n",
        "age_categories = to_categorical(age_classes, num_classes=6)\n",
        "age_categories[:20]\n",
        "print(\"Age Classes finished\")"
      ]
    },
    {
      "attachments": {},
      "cell_type": "markdown",
      "metadata": {},
      "source": [
        "# DISTRIBUTIONS"
      ]
    },
    {
      "cell_type": "code",
      "execution_count": 31,
      "metadata": {
        "colab": {
          "base_uri": "https://localhost:8080/"
        },
        "id": "Q5IGUsbin55y",
        "outputId": "4787068e-72a1-41f7-e054-6524ed7fac7a"
      },
      "outputs": [
        {
          "name": "stdout",
          "output_type": "stream",
          "text": [
            "100\n",
            "<class 'list'>\n",
            "[1, 5]\n"
          ]
        }
      ],
      "source": [
        "print(len(age_classes))\n",
        "print(type(age_classes))\n",
        "unique_values = list(set(age_classes))\n",
        "print(unique_values)"
      ]
    },
    {
      "cell_type": "code",
      "execution_count": 32,
      "metadata": {
        "colab": {
          "base_uri": "https://localhost:8080/"
        },
        "id": "qVzvRIs_Nl0H",
        "outputId": "54bf751d-b489-482c-e499-70d8fb4fb682"
      },
      "outputs": [
        {
          "name": "stdout",
          "output_type": "stream",
          "text": [
            "age\n",
            " 1    81\n",
            "5    19\n",
            "Name: age, dtype: int64\n",
            "gender\n",
            " 0    86\n",
            "1    14\n",
            "Name: gender, dtype: int64\n"
          ]
        }
      ],
      "source": [
        "img_all = pd.DataFrame()\n",
        "img_all[\"age\"] = age_classes\n",
        "img_all[\"gender\"] = genders\n",
        "\n",
        "img_gender = pd.DataFrame()\n",
        "img_gender[\"gender\"] = genders\n",
        "\n",
        "img_age = pd.DataFrame()\n",
        "img_age[\"age\"] = age_classes\n",
        "\n",
        "print(\"age\\n\", img_age.age.value_counts())\n",
        "print(\"gender\\n\", img_gender.gender.value_counts())"
      ]
    },
    {
      "cell_type": "code",
      "execution_count": null,
      "metadata": {},
      "outputs": [],
      "source": [
        "sns.distplot(genders)"
      ]
    },
    {
      "cell_type": "code",
      "execution_count": null,
      "metadata": {},
      "outputs": [],
      "source": [
        "sns.distplot(ages)"
      ]
    },
    {
      "attachments": {},
      "cell_type": "markdown",
      "metadata": {},
      "source": [
        "# MODELS"
      ]
    },
    {
      "attachments": {},
      "cell_type": "markdown",
      "metadata": {},
      "source": [
        "## BASE"
      ]
    },
    {
      "cell_type": "code",
      "execution_count": 33,
      "metadata": {
        "colab": {
          "base_uri": "https://localhost:8080/"
        },
        "id": "uag5qcrK1HWu",
        "outputId": "9c6e53ed-0a1c-4259-abbb-c137028e156f"
      },
      "outputs": [
        {
          "name": "stdout",
          "output_type": "stream",
          "text": [
            "(100, 120000)\n"
          ]
        }
      ],
      "source": [
        "\n",
        "flattened_images = []\n",
        "\n",
        "for image in images:\n",
        "    flattened_image = image.flatten()\n",
        "    flattened_images.append(flattened_image)\n",
        "\n",
        "flattened_images_array = np.array(flattened_images)\n",
        "\n",
        "print(flattened_images_array.shape)"
      ]
    },
    {
      "attachments": {},
      "cell_type": "markdown",
      "metadata": {},
      "source": [
        "### Gender"
      ]
    },
    {
      "cell_type": "code",
      "execution_count": 34,
      "metadata": {},
      "outputs": [
        {
          "name": "stdout",
          "output_type": "stream",
          "text": [
            "MCC:  0.0\n",
            "              precision    recall  f1-score   support\n",
            "\n",
            "           0       0.80      1.00      0.89        16\n",
            "           1       0.00      0.00      0.00         4\n",
            "\n",
            "    accuracy                           0.80        20\n",
            "   macro avg       0.40      0.50      0.44        20\n",
            "weighted avg       0.64      0.80      0.71        20\n",
            "\n"
          ]
        },
        {
          "name": "stderr",
          "output_type": "stream",
          "text": [
            "c:\\Users\\afbso\\anaconda3\\lib\\site-packages\\sklearn\\metrics\\_classification.py:1318: UndefinedMetricWarning: Precision and F-score are ill-defined and being set to 0.0 in labels with no predicted samples. Use `zero_division` parameter to control this behavior.\n",
            "  _warn_prf(average, modifier, msg_start, len(result))\n",
            "c:\\Users\\afbso\\anaconda3\\lib\\site-packages\\sklearn\\metrics\\_classification.py:1318: UndefinedMetricWarning: Precision and F-score are ill-defined and being set to 0.0 in labels with no predicted samples. Use `zero_division` parameter to control this behavior.\n",
            "  _warn_prf(average, modifier, msg_start, len(result))\n",
            "c:\\Users\\afbso\\anaconda3\\lib\\site-packages\\sklearn\\metrics\\_classification.py:1318: UndefinedMetricWarning: Precision and F-score are ill-defined and being set to 0.0 in labels with no predicted samples. Use `zero_division` parameter to control this behavior.\n",
            "  _warn_prf(average, modifier, msg_start, len(result))\n"
          ]
        },
        {
          "data": {
            "image/png": "[encoded data removed]",
            "text/plain": [
              "<Figure size 432x288 with 2 Axes>"
            ]
          },
          "metadata": {
            "needs_background": "light"
          },
          "output_type": "display_data"
        }
      ],
      "source": [
        "##### Gender\n",
        "X_train, X_test, y_train, y_test = train_test_split(flattened_images_array, genders, test_size=0.2, random_state=42)\n",
        "\n",
        "clf = SVC()\n",
        "clf.fit(X_train, y_train)\n",
        "\n",
        "###### Metrics\n",
        "y_pred = clf.predict(X_test)\n",
        "mcc = matthews_corrcoef(y_test, y_pred)\n",
        "print(\"MCC: \", mcc)\n",
        "print(classification_report(y_test, y_pred))\n",
        "#confusion_matrix(y_test, y_pred)\n",
        "labelGender = list(set(genders))\n",
        "# assume y_true and y_pred are the true and predicted labels, respectively\n",
        "cm = confusion_matrix(y_test, y_pred)\n",
        "# create a heatmap of the confusion matrix using seaborn\n",
        "sns.heatmap(cm, annot=True, cmap=\"Blues\", fmt=\"d\", xticklabels=labelGender, yticklabels=labelGender)\n",
        "# set plot labels and title\n",
        "plt.xlabel('Predicted Label')\n",
        "plt.ylabel('True Label')\n",
        "plt.title('Confusion Matrix')\n",
        "plt.savefig('CM_base_SVM_gender.png')"
      ]
    },
    {
      "attachments": {},
      "cell_type": "markdown",
      "metadata": {},
      "source": [
        "### Age"
      ]
    },
    {
      "cell_type": "code",
      "execution_count": 35,
      "metadata": {
        "id": "0YaUrXzYn55z"
      },
      "outputs": [
        {
          "name": "stderr",
          "output_type": "stream",
          "text": [
            "c:\\Users\\afbso\\anaconda3\\lib\\site-packages\\sklearn\\multiclass.py:79: UserWarning: Label not 0 is present in all training examples.\n",
            "  warnings.warn(\n",
            "c:\\Users\\afbso\\anaconda3\\lib\\site-packages\\sklearn\\multiclass.py:79: UserWarning: Label not 2 is present in all training examples.\n",
            "  warnings.warn(\n",
            "c:\\Users\\afbso\\anaconda3\\lib\\site-packages\\sklearn\\multiclass.py:79: UserWarning: Label not 3 is present in all training examples.\n",
            "  warnings.warn(\n",
            "c:\\Users\\afbso\\anaconda3\\lib\\site-packages\\sklearn\\multiclass.py:79: UserWarning: Label not 4 is present in all training examples.\n",
            "  warnings.warn(\n"
          ]
        },
        {
          "name": "stdout",
          "output_type": "stream",
          "text": [
            "MCC:  0.28867513459481287\n",
            "              precision    recall  f1-score   support\n",
            "\n",
            "           0       0.00      0.00      0.00         0\n",
            "           1       0.83      1.00      0.91        15\n",
            "           5       0.00      0.00      0.00         5\n",
            "\n",
            "    accuracy                           0.75        20\n",
            "   macro avg       0.28      0.33      0.30        20\n",
            "weighted avg       0.62      0.75      0.68        20\n",
            "\n",
            "BASE SVM finished\n"
          ]
        },
        {
          "name": "stderr",
          "output_type": "stream",
          "text": [
            "c:\\Users\\afbso\\anaconda3\\lib\\site-packages\\sklearn\\metrics\\_classification.py:1318: UndefinedMetricWarning: Precision and F-score are ill-defined and being set to 0.0 in labels with no predicted samples. Use `zero_division` parameter to control this behavior.\n",
            "  _warn_prf(average, modifier, msg_start, len(result))\n",
            "c:\\Users\\afbso\\anaconda3\\lib\\site-packages\\sklearn\\metrics\\_classification.py:1318: UndefinedMetricWarning: Recall and F-score are ill-defined and being set to 0.0 in labels with no true samples. Use `zero_division` parameter to control this behavior.\n",
            "  _warn_prf(average, modifier, msg_start, len(result))\n",
            "c:\\Users\\afbso\\anaconda3\\lib\\site-packages\\sklearn\\metrics\\_classification.py:1318: UndefinedMetricWarning: Precision and F-score are ill-defined and being set to 0.0 in labels with no predicted samples. Use `zero_division` parameter to control this behavior.\n",
            "  _warn_prf(average, modifier, msg_start, len(result))\n",
            "c:\\Users\\afbso\\anaconda3\\lib\\site-packages\\sklearn\\metrics\\_classification.py:1318: UndefinedMetricWarning: Recall and F-score are ill-defined and being set to 0.0 in labels with no true samples. Use `zero_division` parameter to control this behavior.\n",
            "  _warn_prf(average, modifier, msg_start, len(result))\n",
            "c:\\Users\\afbso\\anaconda3\\lib\\site-packages\\sklearn\\metrics\\_classification.py:1318: UndefinedMetricWarning: Precision and F-score are ill-defined and being set to 0.0 in labels with no predicted samples. Use `zero_division` parameter to control this behavior.\n",
            "  _warn_prf(average, modifier, msg_start, len(result))\n",
            "c:\\Users\\afbso\\anaconda3\\lib\\site-packages\\sklearn\\metrics\\_classification.py:1318: UndefinedMetricWarning: Recall and F-score are ill-defined and being set to 0.0 in labels with no true samples. Use `zero_division` parameter to control this behavior.\n",
            "  _warn_prf(average, modifier, msg_start, len(result))\n"
          ]
        },
        {
          "data": {
            "image/png": "[encoded data removed]",
            "text/plain": [
              "<Figure size 432x288 with 2 Axes>"
            ]
          },
          "metadata": {
            "needs_background": "light"
          },
          "output_type": "display_data"
        }
      ],
      "source": [
        "##### Age\n",
        "X_train, X_test, y_train, y_test = train_test_split(flattened_images_array, age_categories, test_size=0.2, random_state=42)\n",
        "\n",
        "clf = OneVsRestClassifier(SVC())\n",
        "clf.fit(X_train, y_train)\n",
        "\n",
        "# Convert one-hot encoded labels to integer form\n",
        "y_pred = clf.predict(X_test)\n",
        "\n",
        "y_test_int = np.argmax(y_test, axis=1)\n",
        "y_pred_int = np.argmax(y_pred, axis=1)\n",
        "\n",
        "# Print classification report and confusion matrix\n",
        "mcc = matthews_corrcoef(y_test_int, y_pred_int)\n",
        "\n",
        "#accuracy = accuracy_score(y_test, y_pred)\n",
        "print(\"MCC: \", mcc)\n",
        "#print(\"Accuracy: \", accuracy)\n",
        "print(classification_report(y_test_int, y_pred_int))\n",
        "#confusion_matrix(y_test, y_pred)\n",
        "labelage= list(set(age_classes))\n",
        "# assume y_true and y_pred are the true and predicted labels, respectively\n",
        "cm = confusion_matrix(y_test_int, y_pred_int)\n",
        "# create a heatmap of the confusion matrix using seaborn\n",
        "sns.heatmap(cm, annot=True, cmap=\"Blues\", fmt=\"d\", xticklabels=labelage, yticklabels=labelage)\n",
        "# set plot labels and title\n",
        "plt.xlabel('Predicted Label')\n",
        "plt.ylabel('True Label')\n",
        "plt.title('Confusion Matrix')\n",
        "plt.savefig('CM_base_SVM_age.png')\n",
        "\n",
        "print(\"BASE SVM finished\")\n"
      ]
    },
    {
      "attachments": {},
      "cell_type": "markdown",
      "metadata": {},
      "source": [
        "# DATA NOT NORM"
      ]
    },
    {
      "cell_type": "code",
      "execution_count": 47,
      "metadata": {},
      "outputs": [],
      "source": [
        "images = []\n",
        "ages = []\n",
        "genders = []\n",
        "counter = 0\n",
        "\n",
        "for file in files:\n",
        "    if counter == 100:\n",
        "        break\n",
        "    \n",
        "    image = cv2.imread(path+file)\n",
        "    image = cv2.cvtColor(image, cv2.COLOR_BGR2RGB)\n",
        "    image = cv2.resize(image, dsize=(200, 200))\n",
        "    image = image.reshape((image.shape[0], image.shape[1], 3)) \n",
        "    #image = image.astype('float32') / 255.0 #normalizing values on each point \n",
        "    #image = image / 255.0\n",
        "\n",
        "    #verificar se imagens todas estao no range 0 a 255 (se sao rgb)\n",
        "\n",
        "    images.append(image)\n",
        "    delimit = file.split('_')\n",
        "    ages.append(int(delimit[0]))\n",
        "    # first number is age (0-116 possible values)\n",
        "    genders.append(int(delimit[1]))\n",
        "    # second number is gender (0 for male, 1 for female)\n",
        "\n",
        "\n",
        "    counter += 1"
      ]
    },
    {
      "attachments": {},
      "cell_type": "markdown",
      "metadata": {},
      "source": [
        "## HOG"
      ]
    },
    {
      "cell_type": "code",
      "execution_count": null,
      "metadata": {},
      "outputs": [],
      "source": [
        "image_check = images[25]\n",
        "\n",
        "# define HOG parameters\n",
        "orientations = 9\n",
        "pixels_per_cell = (8, 8)\n",
        "cells_per_block = (2, 2)\n",
        "\n",
        "# compute HOG features and visualize them\n",
        "hog_features, hog_image = hog(image_check, orientations=9, pixels_per_cell=(8, 8),\n",
        "                    cells_per_block=(2, 2), transform_sqrt=True, feature_vector=True, visualize=True,channel_axis=2)\n",
        "\n",
        "\n",
        "\n",
        "# rescale image intensity for better visualization\n",
        "#hog_image_rescaled = exposure.rescale_intensity(hog_image, in_range=(0, 10))\n",
        "\n",
        "# display HOG features\n",
        "plt.imshow(hog_image)\n",
        "plt.show()"
      ]
    },
    {
      "cell_type": "code",
      "execution_count": 48,
      "metadata": {
        "colab": {
          "base_uri": "https://localhost:8080/"
        },
        "id": "ysKXYB5jn550",
        "outputId": "a3da9704-bf9e-44f0-ea57-45112f704076"
      },
      "outputs": [
        {
          "name": "stdout",
          "output_type": "stream",
          "text": [
            "HOG started\n"
          ]
        }
      ],
      "source": [
        "#### HOG\n",
        "print(\"HOG started\")\n",
        "# Extract HOG features from the images\n",
        "hog_features = []\n",
        "for img in images:\n",
        "    #hog_feature = hog(img, orientations=9, pixels_per_cell=(8, 8),\n",
        "    #                cells_per_block=(2, 2), transform_sqrt=True, feature_vector=True, multichannel=True, channel_axis=2)\n",
        "    hog_feature = hog(img, orientations=9, pixels_per_cell=(8, 8),\n",
        "                    cells_per_block=(2, 2), transform_sqrt=True, feature_vector=True, channel_axis=2)\n",
        "    \n",
        "    hog_features.append(hog_feature)\n",
        "hog_features = np.array(hog_features)\n",
        "\n",
        "# Normalize the features to have zero mean and unit variance\n",
        "mean = np.mean(hog_features, axis=0)\n",
        "std = np.std(hog_features, axis=0)\n",
        "hog_features_norm = (hog_features - mean) / std"
      ]
    },
    {
      "attachments": {},
      "cell_type": "markdown",
      "metadata": {},
      "source": [
        "### Gender"
      ]
    },
    {
      "cell_type": "code",
      "execution_count": 49,
      "metadata": {
        "colab": {
          "base_uri": "https://localhost:8080/",
          "height": 657
        },
        "id": "DL1py2Pqn550",
        "outputId": "cbc73f92-8acd-4b33-f622-ace39d5c281b"
      },
      "outputs": [
        {
          "name": "stdout",
          "output_type": "stream",
          "text": [
            "MCC:  0.0\n",
            "              precision    recall  f1-score   support\n",
            "\n",
            "           0       0.80      1.00      0.89        16\n",
            "           1       0.00      0.00      0.00         4\n",
            "\n",
            "    accuracy                           0.80        20\n",
            "   macro avg       0.40      0.50      0.44        20\n",
            "weighted avg       0.64      0.80      0.71        20\n",
            "\n"
          ]
        },
        {
          "name": "stderr",
          "output_type": "stream",
          "text": [
            "c:\\Users\\afbso\\anaconda3\\lib\\site-packages\\sklearn\\metrics\\_classification.py:1318: UndefinedMetricWarning: Precision and F-score are ill-defined and being set to 0.0 in labels with no predicted samples. Use `zero_division` parameter to control this behavior.\n",
            "  _warn_prf(average, modifier, msg_start, len(result))\n",
            "c:\\Users\\afbso\\anaconda3\\lib\\site-packages\\sklearn\\metrics\\_classification.py:1318: UndefinedMetricWarning: Precision and F-score are ill-defined and being set to 0.0 in labels with no predicted samples. Use `zero_division` parameter to control this behavior.\n",
            "  _warn_prf(average, modifier, msg_start, len(result))\n",
            "c:\\Users\\afbso\\anaconda3\\lib\\site-packages\\sklearn\\metrics\\_classification.py:1318: UndefinedMetricWarning: Precision and F-score are ill-defined and being set to 0.0 in labels with no predicted samples. Use `zero_division` parameter to control this behavior.\n",
            "  _warn_prf(average, modifier, msg_start, len(result))\n"
          ]
        },
        {
          "data": {
            "image/png": "[encoded data removed]",
            "text/plain": [
              "<Figure size 432x288 with 2 Axes>"
            ]
          },
          "metadata": {
            "needs_background": "light"
          },
          "output_type": "display_data"
        }
      ],
      "source": [
        "##### Gender\n",
        "X_train, X_test, y_train, y_test = train_test_split(hog_features_norm, genders, test_size=0.2, random_state=42)\n",
        "\n",
        "clf = SVC()\n",
        "clf.fit(X_train, y_train)\n",
        "\n",
        "y_pred = clf.predict(X_test)\n",
        "\n",
        "mcc = matthews_corrcoef(y_test, y_pred)\n",
        "#accuracy = accuracy_score(y_test, y_pred)\n",
        "print(\"MCC: \", mcc)\n",
        "#print(\"Accuracy: \", accuracy)\n",
        "print(classification_report(y_test, y_pred))\n",
        "#confusion_matrix(y_test, y_pred)\n",
        "\n",
        "labelGender = list(set(genders))\n",
        "\n",
        "# assume y_true and y_pred are the true and predicted labels, respectively\n",
        "cm = confusion_matrix(y_test, y_pred)\n",
        "\n",
        "# create a heatmap of the confusion matrix using seaborn\n",
        "sns.heatmap(cm, annot=True, cmap=\"Blues\", fmt=\"d\", xticklabels=labelGender, yticklabels=labelGender)\n",
        "\n",
        "# set plot labels and title\n",
        "plt.xlabel('Predicted Label')\n",
        "plt.ylabel('True Label')\n",
        "plt.title('Confusion Matrix')\n",
        "plt.savefig('CM_HOG_SVM_gender.png')"
      ]
    },
    {
      "attachments": {},
      "cell_type": "markdown",
      "metadata": {},
      "source": [
        "### Age"
      ]
    },
    {
      "cell_type": "code",
      "execution_count": 50,
      "metadata": {
        "colab": {
          "base_uri": "https://localhost:8080/",
          "height": 749
        },
        "id": "ONRqDxIxn551",
        "outputId": "e9e29a35-d4f4-442a-e80a-188b3149e655"
      },
      "outputs": [
        {
          "name": "stderr",
          "output_type": "stream",
          "text": [
            "c:\\Users\\afbso\\anaconda3\\lib\\site-packages\\sklearn\\multiclass.py:79: UserWarning: Label not 0 is present in all training examples.\n",
            "  warnings.warn(\n",
            "c:\\Users\\afbso\\anaconda3\\lib\\site-packages\\sklearn\\multiclass.py:79: UserWarning: Label not 2 is present in all training examples.\n",
            "  warnings.warn(\n",
            "c:\\Users\\afbso\\anaconda3\\lib\\site-packages\\sklearn\\multiclass.py:79: UserWarning: Label not 3 is present in all training examples.\n",
            "  warnings.warn(\n",
            "c:\\Users\\afbso\\anaconda3\\lib\\site-packages\\sklearn\\multiclass.py:79: UserWarning: Label not 4 is present in all training examples.\n",
            "  warnings.warn(\n"
          ]
        },
        {
          "name": "stdout",
          "output_type": "stream",
          "text": [
            "MCC:  0.4330127018922193\n",
            "              precision    recall  f1-score   support\n",
            "\n",
            "           0       0.00      0.00      0.00         0\n",
            "           1       0.94      1.00      0.97        15\n",
            "           5       0.00      0.00      0.00         5\n",
            "\n",
            "    accuracy                           0.75        20\n",
            "   macro avg       0.31      0.33      0.32        20\n",
            "weighted avg       0.70      0.75      0.73        20\n",
            "\n"
          ]
        },
        {
          "name": "stderr",
          "output_type": "stream",
          "text": [
            "c:\\Users\\afbso\\anaconda3\\lib\\site-packages\\sklearn\\metrics\\_classification.py:1318: UndefinedMetricWarning: Precision and F-score are ill-defined and being set to 0.0 in labels with no predicted samples. Use `zero_division` parameter to control this behavior.\n",
            "  _warn_prf(average, modifier, msg_start, len(result))\n",
            "c:\\Users\\afbso\\anaconda3\\lib\\site-packages\\sklearn\\metrics\\_classification.py:1318: UndefinedMetricWarning: Recall and F-score are ill-defined and being set to 0.0 in labels with no true samples. Use `zero_division` parameter to control this behavior.\n",
            "  _warn_prf(average, modifier, msg_start, len(result))\n",
            "c:\\Users\\afbso\\anaconda3\\lib\\site-packages\\sklearn\\metrics\\_classification.py:1318: UndefinedMetricWarning: Precision and F-score are ill-defined and being set to 0.0 in labels with no predicted samples. Use `zero_division` parameter to control this behavior.\n",
            "  _warn_prf(average, modifier, msg_start, len(result))\n",
            "c:\\Users\\afbso\\anaconda3\\lib\\site-packages\\sklearn\\metrics\\_classification.py:1318: UndefinedMetricWarning: Recall and F-score are ill-defined and being set to 0.0 in labels with no true samples. Use `zero_division` parameter to control this behavior.\n",
            "  _warn_prf(average, modifier, msg_start, len(result))\n",
            "c:\\Users\\afbso\\anaconda3\\lib\\site-packages\\sklearn\\metrics\\_classification.py:1318: UndefinedMetricWarning: Precision and F-score are ill-defined and being set to 0.0 in labels with no predicted samples. Use `zero_division` parameter to control this behavior.\n",
            "  _warn_prf(average, modifier, msg_start, len(result))\n",
            "c:\\Users\\afbso\\anaconda3\\lib\\site-packages\\sklearn\\metrics\\_classification.py:1318: UndefinedMetricWarning: Recall and F-score are ill-defined and being set to 0.0 in labels with no true samples. Use `zero_division` parameter to control this behavior.\n",
            "  _warn_prf(average, modifier, msg_start, len(result))\n"
          ]
        },
        {
          "name": "stdout",
          "output_type": "stream",
          "text": [
            "HOG finished\n"
          ]
        },
        {
          "data": {
            "image/png": "[encoded data removed]",
            "text/plain": [
              "<Figure size 432x288 with 2 Axes>"
            ]
          },
          "metadata": {
            "needs_background": "light"
          },
          "output_type": "display_data"
        }
      ],
      "source": [
        "##### AGE\n",
        "X_train, X_test, y_train, y_test = train_test_split(hog_features_norm, age_categories, test_size=0.2, random_state=42)\n",
        "clf = OneVsRestClassifier(SVC())\n",
        "clf.fit(X_train, y_train)\n",
        "\n",
        "# Convert one-hot encoded labels to integer form\n",
        "y_pred = clf.predict(X_test)\n",
        "\n",
        "y_test_int = np.argmax(y_test, axis=1)\n",
        "y_pred_int = np.argmax(y_pred, axis=1)\n",
        "\n",
        "# Print classification report and confusion matrix\n",
        "mcc = matthews_corrcoef(y_test_int, y_pred_int)\n",
        "\n",
        "#accuracy = accuracy_score(y_test, y_pred)\n",
        "print(\"MCC: \", mcc)\n",
        "#print(\"Accuracy: \", accuracy)\n",
        "print(classification_report(y_test_int, y_pred_int))\n",
        "#confusion_matrix(y_test, y_pred)\n",
        "labelage= list(set(age_classes))\n",
        "# assume y_true and y_pred are the true and predicted labels, respectively\n",
        "cm = confusion_matrix(y_test_int, y_pred_int)\n",
        "# create a heatmap of the confusion matrix using seaborn\n",
        "sns.heatmap(cm, annot=True, cmap=\"Blues\", fmt=\"d\", xticklabels=labelage, yticklabels=labelage)\n",
        "# set plot labels and title\n",
        "plt.xlabel('Predicted Label')\n",
        "plt.ylabel('True Label')\n",
        "plt.title('Confusion Matrix')\n",
        "plt.savefig('CM_HOG_SVM_age.png')\n",
        "\n",
        "print(\"HOG finished\")\n"
      ]
    },
    {
      "attachments": {},
      "cell_type": "markdown",
      "metadata": {},
      "source": [
        "## ORB"
      ]
    },
    {
      "cell_type": "code",
      "execution_count": null,
      "metadata": {},
      "outputs": [],
      "source": [
        "#### ORB\n",
        "print(\"ORB Started\")\n",
        "\n",
        "image_check = images[1]\n",
        "\n",
        "orb = cv2.ORB_create()\n",
        "\n",
        "kp = orb.detect(image_check, None)\n",
        "\n",
        "kp, des = orb.compute(image_check, kp)\n",
        "\n",
        "img2 = cv2.drawKeypoints(image_check, kp, None, color=(0,255,0), flags=0)\n",
        "plt.imshow(img2)\n",
        "plt.show()"
      ]
    },
    {
      "cell_type": "code",
      "execution_count": 51,
      "metadata": {
        "colab": {
          "base_uri": "https://localhost:8080/",
          "height": 452
        },
        "id": "1rO2BHdQn551",
        "outputId": "321072e3-f42c-42e6-be14-f3711f0f6e42"
      },
      "outputs": [
        {
          "name": "stdout",
          "output_type": "stream",
          "text": [
            "ORB Started\n"
          ]
        },
        {
          "data": {
            "image/png": "[encoded data removed]",
            "text/plain": [
              "<Figure size 432x288 with 1 Axes>"
            ]
          },
          "metadata": {
            "needs_background": "light"
          },
          "output_type": "display_data"
        }
      ],
      "source": [
        "\n",
        "orb = cv2.ORB_create()\n",
        "# define minimum and maximum keypoints\n",
        "MIN_KEYPOINTS = 100\n",
        "orb_features = []\n",
        "orb_genders = []\n",
        "orb_ages = []\n",
        "\n",
        "# loop over images and keypoints\n",
        "for i, img in enumerate(images):\n",
        "    keypoints, descriptors = orb.detectAndCompute(img, None)\n",
        "    keypoints, descriptors = orb.compute(image_check, keypoints)\n",
        "    keypoints = list(keypoints)    \n",
        "    # check if number of keypoints is between min and max\n",
        "    if len(keypoints) < MIN_KEYPOINTS:\n",
        "        continue\n",
        "        \n",
        "    # remove extra keypoints randomly\n",
        "    while len(keypoints) > MIN_KEYPOINTS:\n",
        "        idx = random.randint(0, len(keypoints)-1)\n",
        "        keypoints.pop(idx)\n",
        "        descriptors = np.delete(descriptors, idx, axis=0)\n",
        "        \n",
        "    # add descriptors to feature list\n",
        "    orb_features.append(np.ndarray.flatten(descriptors))\n",
        "    orb_genders.append(genders[i])\n",
        "    orb_ages.append(age_categories[i])\n",
        "\n",
        "mean = np.mean(orb_features, axis=0)\n",
        "std = np.std(orb_features, axis=0)\n",
        "orb_features_norm = (orb_features - mean) / std"
      ]
    },
    {
      "attachments": {},
      "cell_type": "markdown",
      "metadata": {},
      "source": [
        "### Gender"
      ]
    },
    {
      "cell_type": "code",
      "execution_count": 52,
      "metadata": {
        "colab": {
          "base_uri": "https://localhost:8080/",
          "height": 657
        },
        "id": "lw6DK_Mhn552",
        "outputId": "585e831d-05c7-45c5-e154-85e0bc031565"
      },
      "outputs": [
        {
          "name": "stdout",
          "output_type": "stream",
          "text": [
            "MCC:  0.0\n",
            "              precision    recall  f1-score   support\n",
            "\n",
            "           0       0.88      1.00      0.93        14\n",
            "           1       0.00      0.00      0.00         2\n",
            "\n",
            "    accuracy                           0.88        16\n",
            "   macro avg       0.44      0.50      0.47        16\n",
            "weighted avg       0.77      0.88      0.82        16\n",
            "\n"
          ]
        },
        {
          "name": "stderr",
          "output_type": "stream",
          "text": [
            "c:\\Users\\afbso\\anaconda3\\lib\\site-packages\\sklearn\\metrics\\_classification.py:1318: UndefinedMetricWarning: Precision and F-score are ill-defined and being set to 0.0 in labels with no predicted samples. Use `zero_division` parameter to control this behavior.\n",
            "  _warn_prf(average, modifier, msg_start, len(result))\n",
            "c:\\Users\\afbso\\anaconda3\\lib\\site-packages\\sklearn\\metrics\\_classification.py:1318: UndefinedMetricWarning: Precision and F-score are ill-defined and being set to 0.0 in labels with no predicted samples. Use `zero_division` parameter to control this behavior.\n",
            "  _warn_prf(average, modifier, msg_start, len(result))\n",
            "c:\\Users\\afbso\\anaconda3\\lib\\site-packages\\sklearn\\metrics\\_classification.py:1318: UndefinedMetricWarning: Precision and F-score are ill-defined and being set to 0.0 in labels with no predicted samples. Use `zero_division` parameter to control this behavior.\n",
            "  _warn_prf(average, modifier, msg_start, len(result))\n"
          ]
        },
        {
          "data": {
            "image/png": "[encoded data removed]",
            "text/plain": [
              "<Figure size 432x288 with 2 Axes>"
            ]
          },
          "metadata": {
            "needs_background": "light"
          },
          "output_type": "display_data"
        }
      ],
      "source": [
        "##### Gender\n",
        "X_train, X_test, y_train, y_test = train_test_split(orb_features_norm, orb_genders, test_size=0.2, random_state=42)\n",
        "\n",
        "clf = SVC()\n",
        "clf.fit(X_train, y_train)\n",
        "\n",
        "# Evaluate the classifier on the testing data\n",
        "y_pred = clf.predict(X_test)\n",
        "\n",
        "mcc = matthews_corrcoef(y_test, y_pred)\n",
        "#accuracy = accuracy_score(y_test, y_pred)\n",
        "print(\"MCC: \", mcc)\n",
        "#print(\"Accuracy: \", accuracy)\n",
        "print(classification_report(y_test, y_pred))\n",
        "#confusion_matrix(y_test, y_pred)\n",
        "\n",
        "labelGender = list(set(genders))\n",
        "\n",
        "# assume y_true and y_pred are the true and predicted labels, respectively\n",
        "cm = confusion_matrix(y_test, y_pred)\n",
        "\n",
        "# create a heatmap of the confusion matrix using seaborn\n",
        "sns.heatmap(cm, annot=True, cmap=\"Blues\", fmt=\"d\", xticklabels=labelGender, yticklabels=labelGender)\n",
        "\n",
        "# set plot labels and title\n",
        "plt.xlabel('Predicted Label')\n",
        "plt.ylabel('True Label')\n",
        "plt.title('Confusion Matrix')\n",
        "plt.savefig('CM_ORB_SVM_gender.png')"
      ]
    },
    {
      "attachments": {},
      "cell_type": "markdown",
      "metadata": {},
      "source": [
        "### Age"
      ]
    },
    {
      "cell_type": "code",
      "execution_count": null,
      "metadata": {
        "colab": {
          "base_uri": "https://localhost:8080/",
          "height": 857
        },
        "id": "H5yPp91Dn552",
        "outputId": "dc41f54f-3c1d-4196-be10-4a168f6e3d60"
      },
      "outputs": [
        {
          "name": "stdout",
          "output_type": "stream",
          "text": [
            "MCC:  0.07450185110201973\n",
            "              precision    recall  f1-score   support\n",
            "\n",
            "           0       0.05      0.99      0.10        79\n",
            "           1       0.00      0.00      0.00       209\n",
            "           2       0.00      0.00      0.00        38\n",
            "           3       0.50      0.01      0.03       570\n",
            "           4       0.57      0.19      0.28       677\n",
            "           5       0.00      0.00      0.00       212\n",
            "\n",
            "    accuracy                           0.12      1785\n",
            "   macro avg       0.19      0.20      0.07      1785\n",
            "weighted avg       0.38      0.12      0.12      1785\n",
            "\n"
          ]
        },
        {
          "name": "stderr",
          "output_type": "stream",
          "text": [
            "/usr/local/lib/python3.10/dist-packages/sklearn/metrics/_classification.py:1344: UndefinedMetricWarning: Precision and F-score are ill-defined and being set to 0.0 in labels with no predicted samples. Use `zero_division` parameter to control this behavior.\n",
            "  _warn_prf(average, modifier, msg_start, len(result))\n",
            "/usr/local/lib/python3.10/dist-packages/sklearn/metrics/_classification.py:1344: UndefinedMetricWarning: Precision and F-score are ill-defined and being set to 0.0 in labels with no predicted samples. Use `zero_division` parameter to control this behavior.\n",
            "  _warn_prf(average, modifier, msg_start, len(result))\n",
            "/usr/local/lib/python3.10/dist-packages/sklearn/metrics/_classification.py:1344: UndefinedMetricWarning: Precision and F-score are ill-defined and being set to 0.0 in labels with no predicted samples. Use `zero_division` parameter to control this behavior.\n",
            "  _warn_prf(average, modifier, msg_start, len(result))\n"
          ]
        },
        {
          "name": "stdout",
          "output_type": "stream",
          "text": [
            "ORB Finished\n"
          ]
        },
        {
          "data": {
            "image/png": "[encoded data removed]",
            "text/plain": [
              "<Figure size 640x480 with 2 Axes>"
            ]
          },
          "metadata": {},
          "output_type": "display_data"
        }
      ],
      "source": [
        "##### AGE\n",
        "X_train, X_test, y_train, y_test = train_test_split(orb_features_norm, orb_ages, test_size=0.2, random_state=42)\n",
        "\n",
        "clf = OneVsRestClassifier(SVC())\n",
        "clf.fit(X_train, y_train)\n",
        "\n",
        "y_pred = clf.predict(X_test)\n",
        "\n",
        "y_test_int = np.argmax(y_test, axis=1)\n",
        "y_pred_int = np.argmax(y_pred, axis=1)\n",
        "\n",
        "# Print classification report and confusion matrix\n",
        "mcc = matthews_corrcoef(y_test_int, y_pred_int)\n",
        "\n",
        "#accuracy = accuracy_score(y_test, y_pred)\n",
        "print(\"MCC: \", mcc)\n",
        "#print(\"Accuracy: \", accuracy)\n",
        "print(classification_report(y_test_int, y_pred_int))\n",
        "#confusion_matrix(y_test, y_pred)\n",
        "labelage= list(set(age_classes))\n",
        "# assume y_true and y_pred are the true and predicted labels, respectively\n",
        "cm = confusion_matrix(y_test_int, y_pred_int)\n",
        "# create a heatmap of the confusion matrix using seaborn\n",
        "sns.heatmap(cm, annot=True, cmap=\"Blues\", fmt=\"d\", xticklabels=labelage, yticklabels=labelage)\n",
        "# set plot labels and title\n",
        "plt.xlabel('Predicted Label')\n",
        "plt.ylabel('True Label')\n",
        "plt.savefig('CM_ORB_SVM_age.png')\n",
        "print(\"ORB Finished\")"
      ]
    },
    {
      "attachments": {},
      "cell_type": "markdown",
      "metadata": {},
      "source": [
        "# DATA NORM"
      ]
    },
    {
      "cell_type": "code",
      "execution_count": 53,
      "metadata": {},
      "outputs": [],
      "source": [
        "images = []\n",
        "ages = []\n",
        "genders = []\n",
        "counter = 0\n",
        "\n",
        "for file in files:\n",
        "    if counter == 100:\n",
        "        break\n",
        "    \n",
        "    image = cv2.imread(path+file)\n",
        "    image = cv2.cvtColor(image, cv2.COLOR_BGR2RGB)\n",
        "    image = cv2.resize(image, dsize=(200, 200))\n",
        "    image = image.reshape((image.shape[0], image.shape[1], 3)) \n",
        "    #image = image.astype('float32') / 255.0 #normalizing values on each point \n",
        "    image = image / 255.0\n",
        "\n",
        "    #verificar se imagens todas estao no range 0 a 255 (se sao rgb)\n",
        "\n",
        "    images.append(image)\n",
        "    delimit = file.split('_')\n",
        "    ages.append(int(delimit[0]))\n",
        "    # first number is age (0-116 possible values)\n",
        "    genders.append(int(delimit[1]))\n",
        "    # second number is gender (0 for male, 1 for female)\n",
        "\n",
        "\n",
        "    counter += 1"
      ]
    },
    {
      "attachments": {},
      "cell_type": "markdown",
      "metadata": {},
      "source": [
        "## VGG"
      ]
    },
    {
      "cell_type": "code",
      "execution_count": 54,
      "metadata": {
        "colab": {
          "base_uri": "https://localhost:8080/"
        },
        "id": "PyY8gIGFn552",
        "outputId": "49e86535-623d-4653-9c4d-2b734792de03"
      },
      "outputs": [
        {
          "name": "stdout",
          "output_type": "stream",
          "text": [
            "VGG Started\n",
            "Model: \"vgg16\"\n",
            "_________________________________________________________________\n",
            " Layer (type)                Output Shape              Param #   \n",
            "=================================================================\n",
            " input_3 (InputLayer)        [(None, 200, 200, 3)]     0         \n",
            "                                                                 \n",
            " block1_conv1 (Conv2D)       (None, 200, 200, 64)      1792      \n",
            "                                                                 \n",
            " block1_conv2 (Conv2D)       (None, 200, 200, 64)      36928     \n",
            "                                                                 \n",
            " block1_pool (MaxPooling2D)  (None, 100, 100, 64)      0         \n",
            "                                                                 \n",
            " block2_conv1 (Conv2D)       (None, 100, 100, 128)     73856     \n",
            "                                                                 \n",
            " block2_conv2 (Conv2D)       (None, 100, 100, 128)     147584    \n",
            "                                                                 \n",
            " block2_pool (MaxPooling2D)  (None, 50, 50, 128)       0         \n",
            "                                                                 \n",
            " block3_conv1 (Conv2D)       (None, 50, 50, 256)       295168    \n",
            "                                                                 \n",
            " block3_conv2 (Conv2D)       (None, 50, 50, 256)       590080    \n",
            "                                                                 \n",
            " block3_conv3 (Conv2D)       (None, 50, 50, 256)       590080    \n",
            "                                                                 \n",
            " block3_pool (MaxPooling2D)  (None, 25, 25, 256)       0         \n",
            "                                                                 \n",
            " block4_conv1 (Conv2D)       (None, 25, 25, 512)       1180160   \n",
            "                                                                 \n",
            " block4_conv2 (Conv2D)       (None, 25, 25, 512)       2359808   \n",
            "                                                                 \n",
            " block4_conv3 (Conv2D)       (None, 25, 25, 512)       2359808   \n",
            "                                                                 \n",
            " block4_pool (MaxPooling2D)  (None, 12, 12, 512)       0         \n",
            "                                                                 \n",
            " block5_conv1 (Conv2D)       (None, 12, 12, 512)       2359808   \n",
            "                                                                 \n",
            " block5_conv2 (Conv2D)       (None, 12, 12, 512)       2359808   \n",
            "                                                                 \n",
            " block5_conv3 (Conv2D)       (None, 12, 12, 512)       2359808   \n",
            "                                                                 \n",
            " block5_pool (MaxPooling2D)  (None, 6, 6, 512)         0         \n",
            "                                                                 \n",
            "=================================================================\n",
            "Total params: 14,714,688\n",
            "Trainable params: 0\n",
            "Non-trainable params: 14,714,688\n",
            "_________________________________________________________________\n",
            "4/4 [==============================] - 15s 3s/step\n"
          ]
        }
      ],
      "source": [
        "print(\"VGG Started\")\n",
        "#### VGG16\n",
        "VGG_model = VGG16(weights='imagenet', include_top=False, input_shape=(200, 200, 3))\n",
        "\n",
        "for layer in VGG_model.layers:\n",
        "\tlayer.trainable = False\n",
        "\t\n",
        "VGG_model.summary()\n",
        "\n",
        "X = np.stack(images)\n",
        "X = VGG_model.predict(X)"
      ]
    },
    {
      "attachments": {},
      "cell_type": "markdown",
      "metadata": {},
      "source": [
        "### Gender"
      ]
    },
    {
      "cell_type": "code",
      "execution_count": 55,
      "metadata": {
        "colab": {
          "base_uri": "https://localhost:8080/",
          "height": 657
        },
        "id": "7gIL96aon553",
        "outputId": "0e0a4e26-926d-4af4-b698-995810c32aec"
      },
      "outputs": [
        {
          "name": "stdout",
          "output_type": "stream",
          "text": [
            "MCC:  0.0\n",
            "              precision    recall  f1-score   support\n",
            "\n",
            "           0       0.80      1.00      0.89        16\n",
            "           1       0.00      0.00      0.00         4\n",
            "\n",
            "    accuracy                           0.80        20\n",
            "   macro avg       0.40      0.50      0.44        20\n",
            "weighted avg       0.64      0.80      0.71        20\n",
            "\n"
          ]
        },
        {
          "name": "stderr",
          "output_type": "stream",
          "text": [
            "c:\\Users\\afbso\\anaconda3\\lib\\site-packages\\sklearn\\metrics\\_classification.py:1318: UndefinedMetricWarning: Precision and F-score are ill-defined and being set to 0.0 in labels with no predicted samples. Use `zero_division` parameter to control this behavior.\n",
            "  _warn_prf(average, modifier, msg_start, len(result))\n",
            "c:\\Users\\afbso\\anaconda3\\lib\\site-packages\\sklearn\\metrics\\_classification.py:1318: UndefinedMetricWarning: Precision and F-score are ill-defined and being set to 0.0 in labels with no predicted samples. Use `zero_division` parameter to control this behavior.\n",
            "  _warn_prf(average, modifier, msg_start, len(result))\n",
            "c:\\Users\\afbso\\anaconda3\\lib\\site-packages\\sklearn\\metrics\\_classification.py:1318: UndefinedMetricWarning: Precision and F-score are ill-defined and being set to 0.0 in labels with no predicted samples. Use `zero_division` parameter to control this behavior.\n",
            "  _warn_prf(average, modifier, msg_start, len(result))\n"
          ]
        },
        {
          "data": {
            "image/png": "[encoded data removed]",
            "text/plain": [
              "<Figure size 432x288 with 2 Axes>"
            ]
          },
          "metadata": {
            "needs_background": "light"
          },
          "output_type": "display_data"
        }
      ],
      "source": [
        "##### Gender\n",
        "X_svm = X.reshape(X.shape[0], -1)\n",
        "X_train, X_test, y_train, y_test = train_test_split(X_svm, genders, test_size=0.2, random_state=42)\n",
        "\n",
        "clf = SVC()\n",
        "clf.fit(X_train, y_train)\n",
        "\n",
        "# Evaluate the classifier on the testing data\n",
        "y_pred = clf.predict(X_test)\n",
        "\n",
        "mcc = matthews_corrcoef(y_test, y_pred)\n",
        "#accuracy = accuracy_score(y_test, y_pred)\n",
        "print(\"MCC: \", mcc)\n",
        "#print(\"Accuracy: \", accuracy)\n",
        "print(classification_report(y_test, y_pred))\n",
        "#confusion_matrix(y_test, y_pred)\n",
        "\n",
        "labelGender = list(set(genders))\n",
        "\n",
        "# assume y_true and y_pred are the true and predicted labels, respectively\n",
        "cm = confusion_matrix(y_test, y_pred)\n",
        "\n",
        "# create a heatmap of the confusion matrix using seaborn\n",
        "sns.heatmap(cm, annot=True, cmap=\"Blues\", fmt=\"d\", xticklabels=labelGender, yticklabels=labelGender)\n",
        "\n",
        "# set plot labels and title\n",
        "plt.xlabel('Predicted Label')\n",
        "plt.ylabel('True Label')\n",
        "plt.title('Confusion Matrix')\n",
        "plt.savefig('CM_VGG_SVM_gender.png')\n"
      ]
    },
    {
      "attachments": {},
      "cell_type": "markdown",
      "metadata": {},
      "source": [
        "### Age"
      ]
    },
    {
      "cell_type": "code",
      "execution_count": 56,
      "metadata": {
        "colab": {
          "base_uri": "https://localhost:8080/",
          "height": 880
        },
        "id": "ZZ9Gmelhn553",
        "outputId": "135f312e-184c-42a5-ba0a-c4609ce8e439"
      },
      "outputs": [
        {
          "name": "stderr",
          "output_type": "stream",
          "text": [
            "c:\\Users\\afbso\\anaconda3\\lib\\site-packages\\sklearn\\multiclass.py:79: UserWarning: Label not 0 is present in all training examples.\n",
            "  warnings.warn(\n",
            "c:\\Users\\afbso\\anaconda3\\lib\\site-packages\\sklearn\\multiclass.py:79: UserWarning: Label not 2 is present in all training examples.\n",
            "  warnings.warn(\n",
            "c:\\Users\\afbso\\anaconda3\\lib\\site-packages\\sklearn\\multiclass.py:79: UserWarning: Label not 3 is present in all training examples.\n",
            "  warnings.warn(\n",
            "c:\\Users\\afbso\\anaconda3\\lib\\site-packages\\sklearn\\multiclass.py:79: UserWarning: Label not 4 is present in all training examples.\n",
            "  warnings.warn(\n"
          ]
        },
        {
          "name": "stdout",
          "output_type": "stream",
          "text": [
            "MCC:  0.36380343755449945\n",
            "              precision    recall  f1-score   support\n",
            "\n",
            "           0       0.00      0.00      0.00         0\n",
            "           1       0.88      1.00      0.94        15\n",
            "           5       0.00      0.00      0.00         5\n",
            "\n",
            "    accuracy                           0.75        20\n",
            "   macro avg       0.29      0.33      0.31        20\n",
            "weighted avg       0.66      0.75      0.70        20\n",
            "\n",
            "VGG Finish\n"
          ]
        },
        {
          "name": "stderr",
          "output_type": "stream",
          "text": [
            "c:\\Users\\afbso\\anaconda3\\lib\\site-packages\\sklearn\\metrics\\_classification.py:1318: UndefinedMetricWarning: Precision and F-score are ill-defined and being set to 0.0 in labels with no predicted samples. Use `zero_division` parameter to control this behavior.\n",
            "  _warn_prf(average, modifier, msg_start, len(result))\n",
            "c:\\Users\\afbso\\anaconda3\\lib\\site-packages\\sklearn\\metrics\\_classification.py:1318: UndefinedMetricWarning: Recall and F-score are ill-defined and being set to 0.0 in labels with no true samples. Use `zero_division` parameter to control this behavior.\n",
            "  _warn_prf(average, modifier, msg_start, len(result))\n",
            "c:\\Users\\afbso\\anaconda3\\lib\\site-packages\\sklearn\\metrics\\_classification.py:1318: UndefinedMetricWarning: Precision and F-score are ill-defined and being set to 0.0 in labels with no predicted samples. Use `zero_division` parameter to control this behavior.\n",
            "  _warn_prf(average, modifier, msg_start, len(result))\n",
            "c:\\Users\\afbso\\anaconda3\\lib\\site-packages\\sklearn\\metrics\\_classification.py:1318: UndefinedMetricWarning: Recall and F-score are ill-defined and being set to 0.0 in labels with no true samples. Use `zero_division` parameter to control this behavior.\n",
            "  _warn_prf(average, modifier, msg_start, len(result))\n",
            "c:\\Users\\afbso\\anaconda3\\lib\\site-packages\\sklearn\\metrics\\_classification.py:1318: UndefinedMetricWarning: Precision and F-score are ill-defined and being set to 0.0 in labels with no predicted samples. Use `zero_division` parameter to control this behavior.\n",
            "  _warn_prf(average, modifier, msg_start, len(result))\n",
            "c:\\Users\\afbso\\anaconda3\\lib\\site-packages\\sklearn\\metrics\\_classification.py:1318: UndefinedMetricWarning: Recall and F-score are ill-defined and being set to 0.0 in labels with no true samples. Use `zero_division` parameter to control this behavior.\n",
            "  _warn_prf(average, modifier, msg_start, len(result))\n"
          ]
        },
        {
          "data": {
            "image/png": "[encoded data removed]",
            "text/plain": [
              "<Figure size 432x288 with 2 Axes>"
            ]
          },
          "metadata": {
            "needs_background": "light"
          },
          "output_type": "display_data"
        }
      ],
      "source": [
        "#### AGE\n",
        "X_train, X_test, y_train, y_test = train_test_split(X_svm, age_categories, test_size=0.2, random_state=42)#variar a percentagem split\n",
        "\n",
        "clf = OneVsRestClassifier(SVC())\n",
        "clf.fit(X_train, y_train)\n",
        "\n",
        "# Convert one-hot encoded labels to integer form\n",
        "y_pred = clf.predict(X_test)\n",
        "\n",
        "y_test_int = np.argmax(y_test, axis=1)\n",
        "y_pred_int = np.argmax(y_pred, axis=1)\n",
        "\n",
        "# Print classification report and confusion matrix\n",
        "mcc = matthews_corrcoef(y_test_int, y_pred_int)\n",
        "\n",
        "#accuracy = accuracy_score(y_test, y_pred)\n",
        "print(\"MCC: \", mcc)\n",
        "#print(\"Accuracy: \", accuracy)\n",
        "print(classification_report(y_test_int, y_pred_int))\n",
        "#confusion_matrix(y_test, y_pred)\n",
        "labelage= list(set(age_classes))\n",
        "# assume y_true and y_pred are the true and predicted labels, respectively\n",
        "cm = confusion_matrix(y_test_int, y_pred_int)\n",
        "# create a heatmap of the confusion matrix using seaborn\n",
        "sns.heatmap(cm, annot=True, cmap=\"Blues\", fmt=\"d\", xticklabels=labelage, yticklabels=labelage)\n",
        "# set plot labels and title\n",
        "plt.xlabel('Predicted Label')\n",
        "plt.ylabel('True Label')\n",
        "plt.title('Confusion Matrix')\n",
        "plt.savefig('CM_VGG_SVM_age.png')\n",
        "\n",
        "print(\"VGG Finish\")"
      ]
    },
    {
      "attachments": {},
      "cell_type": "markdown",
      "metadata": {},
      "source": [
        "## Autoencoder"
      ]
    },
    {
      "attachments": {},
      "cell_type": "markdown",
      "metadata": {},
      "source": [
        "### Gender"
      ]
    },
    {
      "cell_type": "code",
      "execution_count": 57,
      "metadata": {},
      "outputs": [],
      "source": [
        " ##### Gender\n",
        "X_train, X_test, y_train, y_test = train_test_split(images, genders, test_size=0.2, random_state=42)\n",
        "\n",
        "X_train = np.array(X_train)\n",
        "X_train = np.reshape(X_train, (X_train.shape[0], X_train.shape[1], X_train.shape[2], 3))\n",
        "\n",
        "X_test = np.array(X_test)\n",
        "X_test = np.reshape(X_test, (X_test.shape[0], X_test.shape[1], X_test.shape[2], 3))"
      ]
    },
    {
      "cell_type": "code",
      "execution_count": 58,
      "metadata": {
        "colab": {
          "base_uri": "https://localhost:8080/"
        },
        "id": "pOoUj9Szn553",
        "outputId": "1fbcf210-8c02-41b7-d919-1d64903984fc"
      },
      "outputs": [
        {
          "name": "stdout",
          "output_type": "stream",
          "text": [
            "Autoencoder Started\n",
            "Model: \"model_2\"\n",
            "_________________________________________________________________\n",
            " Layer (type)                Output Shape              Param #   \n",
            "=================================================================\n",
            " input_4 (InputLayer)        [(None, 200, 200, 3)]     0         \n",
            "                                                                 \n",
            " conv2d_6 (Conv2D)           (None, 100, 100, 64)      1792      \n",
            "                                                                 \n",
            " conv2d_7 (Conv2D)           (None, 50, 50, 32)        18464     \n",
            "                                                                 \n",
            " conv2d_8 (Conv2D)           (None, 25, 25, 16)        4624      \n",
            "                                                                 \n",
            " flatten_2 (Flatten)         (None, 10000)             0         \n",
            "                                                                 \n",
            " dense_4 (Dense)             (None, 2000)              20002000  \n",
            "                                                                 \n",
            " dense_5 (Dense)             (None, 10000)             20010000  \n",
            "                                                                 \n",
            " reshape_2 (Reshape)         (None, 25, 25, 16)        0         \n",
            "                                                                 \n",
            " conv2d_transpose_6 (Conv2DT  (None, 50, 50, 32)       4640      \n",
            " ranspose)                                                       \n",
            "                                                                 \n",
            " conv2d_transpose_7 (Conv2DT  (None, 100, 100, 64)     18496     \n",
            " ranspose)                                                       \n",
            "                                                                 \n",
            " conv2d_transpose_8 (Conv2DT  (None, 200, 200, 3)      1731      \n",
            " ranspose)                                                       \n",
            "                                                                 \n",
            "=================================================================\n",
            "Total params: 40,061,747\n",
            "Trainable params: 40,061,747\n",
            "Non-trainable params: 0\n",
            "_________________________________________________________________\n"
          ]
        }
      ],
      "source": [
        "print(\"Autoencoder Started\")\n",
        "#### AUtoencoder\n",
        "input = layers.Input(shape=(200, 200, 3))\n",
        "\n",
        "#valor alto apanha artefactos, e valor baixo nao captura bem as features da imagem\n",
        "latent_dim = 2000\n",
        "\n",
        "## Classe \n",
        "\n",
        "# Encoder\n",
        "\n",
        "#didnt increase filter count in encoder and decrease equally in decoder because\n",
        "#it can lead to overfitting\n",
        "\n",
        "x = layers.Conv2D(64, (3,3), activation='relu', padding='same', strides = 2)(input)\n",
        "#x = layers.MaxPooling2D((2,2), padding='same')(x)#dividir imagem por factor de 2\n",
        "x = layers.Conv2D(32, (3,3), activation='relu', padding='same', strides = 2)(x)#reduziu se nr de filtros para 32 porque foi decidido factor de 32 filtros\n",
        "#x = layers.MaxPooling2D((2,2), padding='same')(x)\n",
        "x = layers.Conv2D(16, (3,3), activation='relu', padding='same', strides = 2)(x)\n",
        "#x = layers.MaxPooling2D((2,2), padding='same')(x)#25*25*16=10000\n",
        "x = layers.Flatten()(x)\n",
        "enc = layers.Dense(latent_dim, activation='relu')(x)\n",
        "\n",
        "# Decoder\n",
        "\n",
        "#having conv2D here helps to avoid checkerboard artifacts\n",
        "#which are alternating points of colors (like checkerboard)\n",
        "#that are consequence of deconvolutioning an image and cause \n",
        "#loss of quality in final reconstruction\n",
        "#x = layers.Conv2D(16, (3,3), activation='relu', padding='same')(x)\n",
        "\n",
        "#equivalente a fazer dense layer no fim do encoder e no inicio do decoder\n",
        "#fazer a layer dense fica um vector\n",
        "#fazer reshape depois do 2 dense para voltar a ter imagem do vetor criado\n",
        "\n",
        "x = layers.Dense(25*25*16, activation='relu')(enc)\n",
        "x = layers.Reshape((25,25,16))(x)\n",
        "#x = layers.UpSampling2D((2,2))(x)\n",
        "x = layers.Conv2DTranspose(32, (3, 3), activation=\"relu\", padding=\"same\", strides = 2)(x)\n",
        "#x = layers.UpSampling2D((2,2))(x)\n",
        "x = layers.Conv2DTranspose(64, (3,3), activation='relu', padding='same', strides = 2)(x)\n",
        "#x = layers.UpSampling2D((2,2))(x)\n",
        "output = layers.Conv2DTranspose(3, (3,3), activation='sigmoid', padding='same', strides = 2)(x)\n",
        "\n",
        "#maybe use strides in the layers too\n",
        "#example:\n",
        "#x = layers.Conv2D(16, (3,3), activation='relu', padding='same', strides = 2)(x)\n",
        "\n",
        "# Autoencoder\n",
        "autoencoder = Model(input, output)\n",
        "\n",
        "# binary cross entropy is good for image feature extraction especially when images are normalized\n",
        "autoencoder.compile(optimizer=\"adam\", loss=\"binary_crossentropy\")\n",
        "autoencoder.summary()"
      ]
    },
    {
      "cell_type": "code",
      "execution_count": 59,
      "metadata": {},
      "outputs": [
        {
          "name": "stdout",
          "output_type": "stream",
          "text": [
            "Epoch 1/2\n",
            "3/3 [==============================] - 5s 1s/step - loss: 0.6931 - val_loss: 0.6928\n",
            "Epoch 2/2\n",
            "3/3 [==============================] - 3s 957ms/step - loss: 0.6925 - val_loss: 0.6924\n"
          ]
        },
        {
          "data": {
            "text/plain": [
              "<keras.callbacks.History at 0x238876c2850>"
            ]
          },
          "execution_count": 59,
          "metadata": {},
          "output_type": "execute_result"
        }
      ],
      "source": [
        "autoencoder.fit(x = X_train, \n",
        "                y = X_train,\n",
        "                epochs = 2,\n",
        "                shuffle = True,\n",
        "                batch_size = 32,\n",
        "                validation_data = (X_test, X_test),\n",
        ")"
      ]
    },
    {
      "cell_type": "code",
      "execution_count": 60,
      "metadata": {
        "colab": {
          "base_uri": "https://localhost:8080/",
          "height": 1000
        },
        "id": "e69rqYfgn554",
        "outputId": "f46bfbc3-8d63-4496-f4e1-eefd2ae87da4"
      },
      "outputs": [
        {
          "name": "stdout",
          "output_type": "stream",
          "text": [
            "3/3 [==============================] - 0s 47ms/step\n",
            "1/1 [==============================] - 0s 61ms/step\n"
          ]
        }
      ],
      "source": [
        "new_model = Model(input, enc)\n",
        "\n",
        "pred_train = new_model.predict(X_train)\n",
        "pred_test = new_model.predict(X_test)\n",
        "\n",
        "encoded_X_train = pred_train.reshape((pred_train.shape[0], -1))\n",
        "encoded_X_test = pred_test.reshape((pred_test.shape[0], -1))"
      ]
    },
    {
      "cell_type": "code",
      "execution_count": 61,
      "metadata": {},
      "outputs": [
        {
          "name": "stdout",
          "output_type": "stream",
          "text": [
            "MCC:  0.0\n",
            "              precision    recall  f1-score   support\n",
            "\n",
            "           0       0.80      1.00      0.89        16\n",
            "           1       0.00      0.00      0.00         4\n",
            "\n",
            "    accuracy                           0.80        20\n",
            "   macro avg       0.40      0.50      0.44        20\n",
            "weighted avg       0.64      0.80      0.71        20\n",
            "\n"
          ]
        },
        {
          "name": "stderr",
          "output_type": "stream",
          "text": [
            "c:\\Users\\afbso\\anaconda3\\lib\\site-packages\\sklearn\\metrics\\_classification.py:1318: UndefinedMetricWarning: Precision and F-score are ill-defined and being set to 0.0 in labels with no predicted samples. Use `zero_division` parameter to control this behavior.\n",
            "  _warn_prf(average, modifier, msg_start, len(result))\n",
            "c:\\Users\\afbso\\anaconda3\\lib\\site-packages\\sklearn\\metrics\\_classification.py:1318: UndefinedMetricWarning: Precision and F-score are ill-defined and being set to 0.0 in labels with no predicted samples. Use `zero_division` parameter to control this behavior.\n",
            "  _warn_prf(average, modifier, msg_start, len(result))\n",
            "c:\\Users\\afbso\\anaconda3\\lib\\site-packages\\sklearn\\metrics\\_classification.py:1318: UndefinedMetricWarning: Precision and F-score are ill-defined and being set to 0.0 in labels with no predicted samples. Use `zero_division` parameter to control this behavior.\n",
            "  _warn_prf(average, modifier, msg_start, len(result))\n"
          ]
        },
        {
          "data": {
            "image/png": "[encoded data removed]",
            "text/plain": [
              "<Figure size 432x288 with 2 Axes>"
            ]
          },
          "metadata": {
            "needs_background": "light"
          },
          "output_type": "display_data"
        }
      ],
      "source": [
        "clf = SVC()\n",
        "clf.fit(encoded_X_train, y_train)\n",
        "\n",
        "# Evaluate the classifier on the testing data\n",
        "y_pred = clf.predict(encoded_X_test)\n",
        "\n",
        "mcc = matthews_corrcoef(y_test, y_pred)\n",
        "#accuracy = accuracy_score(y_test, y_pred)\n",
        "print(\"MCC: \", mcc)\n",
        "#print(\"Accuracy: \", accuracy)\n",
        "print(classification_report(y_test, y_pred))\n",
        "#confusion_matrix(y_test, y_pred)\n",
        "\n",
        "labelGender = list(set(genders))\n",
        "\n",
        "# assume y_true and y_pred are the true and predicted labels, respectively\n",
        "cm = confusion_matrix(y_test, y_pred)\n",
        "\n",
        "# create a heatmap of the confusion matrix using seaborn\n",
        "sns.heatmap(cm, annot=True, cmap=\"Blues\", fmt=\"d\", xticklabels=labelGender, yticklabels=labelGender)\n",
        "\n",
        "# set plot labels and title\n",
        "plt.xlabel('Predicted Label')\n",
        "plt.ylabel('True Label')\n",
        "plt.title('Confusion Matrix')\n",
        "plt.savefig('CM_AE_SVM_gender.png')"
      ]
    },
    {
      "attachments": {},
      "cell_type": "markdown",
      "metadata": {},
      "source": [
        "### Age"
      ]
    },
    {
      "cell_type": "code",
      "execution_count": 62,
      "metadata": {},
      "outputs": [
        {
          "name": "stdout",
          "output_type": "stream",
          "text": [
            "svm encoder for age started\n"
          ]
        }
      ],
      "source": [
        "#### AGE\n",
        "print(\"svm encoder for age started\")\n",
        "X_train, X_test, y_train, y_test = train_test_split(images, age_categories, test_size=0.2, random_state=42)\n",
        "X_train = np.array(X_train)\n",
        "X_train = np.reshape(X_train, (X_train.shape[0], X_train.shape[1], X_train.shape[2], 3))\n",
        "\n",
        "X_test = np.array(X_test)\n",
        "X_test = np.reshape(X_test, (X_test.shape[0], X_test.shape[1], X_test.shape[2], 3))"
      ]
    },
    {
      "cell_type": "code",
      "execution_count": 63,
      "metadata": {},
      "outputs": [
        {
          "name": "stdout",
          "output_type": "stream",
          "text": [
            "Autoencoder Started\n",
            "Model: \"model_4\"\n",
            "_________________________________________________________________\n",
            " Layer (type)                Output Shape              Param #   \n",
            "=================================================================\n",
            " input_5 (InputLayer)        [(None, 200, 200, 3)]     0         \n",
            "                                                                 \n",
            " conv2d_9 (Conv2D)           (None, 100, 100, 64)      1792      \n",
            "                                                                 \n",
            " conv2d_10 (Conv2D)          (None, 50, 50, 32)        18464     \n",
            "                                                                 \n",
            " conv2d_11 (Conv2D)          (None, 25, 25, 16)        4624      \n",
            "                                                                 \n",
            " flatten_3 (Flatten)         (None, 10000)             0         \n",
            "                                                                 \n",
            " dense_6 (Dense)             (None, 2000)              20002000  \n",
            "                                                                 \n",
            " dense_7 (Dense)             (None, 10000)             20010000  \n",
            "                                                                 \n",
            " reshape_3 (Reshape)         (None, 25, 25, 16)        0         \n",
            "                                                                 \n",
            " conv2d_transpose_9 (Conv2DT  (None, 50, 50, 32)       4640      \n",
            " ranspose)                                                       \n",
            "                                                                 \n",
            " conv2d_transpose_10 (Conv2D  (None, 100, 100, 64)     18496     \n",
            " Transpose)                                                      \n",
            "                                                                 \n",
            " conv2d_transpose_11 (Conv2D  (None, 200, 200, 3)      1731      \n",
            " Transpose)                                                      \n",
            "                                                                 \n",
            "=================================================================\n",
            "Total params: 40,061,747\n",
            "Trainable params: 40,061,747\n",
            "Non-trainable params: 0\n",
            "_________________________________________________________________\n"
          ]
        }
      ],
      "source": [
        "print(\"Autoencoder Started\")\n",
        "#### AUtoencoder\n",
        "input = layers.Input(shape=(200, 200, 3))\n",
        "\n",
        "#valor alto apanha artefactos, e valor baixo nao captura bem as features da imagem\n",
        "latent_dim = 2000\n",
        "\n",
        "## Classe \n",
        "\n",
        "# Encoder\n",
        "\n",
        "#didnt increase filter count in encoder and decrease equally in decoder because\n",
        "#it can lead to overfitting\n",
        "\n",
        "x = layers.Conv2D(64, (3,3), activation='relu', padding='same', strides = 2)(input)\n",
        "#x = layers.MaxPooling2D((2,2), padding='same')(x)#dividir imagem por factor de 2\n",
        "x = layers.Conv2D(32, (3,3), activation='relu', padding='same', strides = 2)(x)#reduziu se nr de filtros para 32 porque foi decidido factor de 32 filtros\n",
        "#x = layers.MaxPooling2D((2,2), padding='same')(x)\n",
        "x = layers.Conv2D(16, (3,3), activation='relu', padding='same', strides = 2)(x)\n",
        "#x = layers.MaxPooling2D((2,2), padding='same')(x)#25*25*16=10000\n",
        "x = layers.Flatten()(x)\n",
        "enc = layers.Dense(latent_dim, activation='relu')(x)\n",
        "\n",
        "# Decoder\n",
        "\n",
        "#having conv2D here helps to avoid checkerboard artifacts\n",
        "#which are alternating points of colors (like checkerboard)\n",
        "#that are consequence of deconvolutioning an image and cause \n",
        "#loss of quality in final reconstruction\n",
        "#x = layers.Conv2D(16, (3,3), activation='relu', padding='same')(x)\n",
        "\n",
        "#equivalente a fazer dense layer no fim do encoder e no inicio do decoder\n",
        "#fazer a layer dense fica um vector\n",
        "#fazer reshape depois do 2 dense para voltar a ter imagem do vetor criado\n",
        "\n",
        "x = layers.Dense(25*25*16, activation='relu')(enc)\n",
        "x = layers.Reshape((25,25,16))(x)\n",
        "#x = layers.UpSampling2D((2,2))(x)\n",
        "x = layers.Conv2DTranspose(32, (3, 3), activation=\"relu\", padding=\"same\", strides = 2)(x)\n",
        "#x = layers.UpSampling2D((2,2))(x)\n",
        "x = layers.Conv2DTranspose(64, (3,3), activation='relu', padding='same', strides = 2)(x)\n",
        "#x = layers.UpSampling2D((2,2))(x)\n",
        "output = layers.Conv2DTranspose(3, (3,3), activation='sigmoid', padding='same', strides = 2)(x)\n",
        "\n",
        "#maybe use strides in the layers too\n",
        "#example:\n",
        "#x = layers.Conv2D(16, (3,3), activation='relu', padding='same', strides = 2)(x)\n",
        "\n",
        "# Autoencoder\n",
        "autoencoder = Model(input, output)\n",
        "\n",
        "# binary cross entropy is good for image feature extraction especially when images are normalized\n",
        "autoencoder.compile(optimizer=\"adam\", loss='categorical_crossentropy')\n",
        "autoencoder.summary()"
      ]
    },
    {
      "cell_type": "code",
      "execution_count": 65,
      "metadata": {},
      "outputs": [
        {
          "name": "stdout",
          "output_type": "stream",
          "text": [
            "Epoch 1/20\n",
            "3/3 [==============================] - 5s 1s/step - loss: 1.8510 - val_loss: 1.6691\n",
            "Epoch 2/20\n",
            "3/3 [==============================] - 3s 1s/step - loss: 1.8508 - val_loss: 1.6687\n",
            "Epoch 3/20\n",
            "3/3 [==============================] - 3s 1s/step - loss: 1.8503 - val_loss: 1.6682\n",
            "Epoch 4/20\n",
            "3/3 [==============================] - 3s 952ms/step - loss: 1.9050 - val_loss: 2.3392\n",
            "Epoch 5/20\n",
            "3/3 [==============================] - 3s 1s/step - loss: 4.3066 - val_loss: 8.6661\n",
            "Epoch 6/20\n",
            "3/3 [==============================] - 3s 1s/step - loss: 15.9790 - val_loss: 29.2171\n",
            "Epoch 7/20\n",
            "3/3 [==============================] - 3s 982ms/step - loss: 52.6102 - val_loss: 100.2122\n",
            "Epoch 8/20\n",
            "3/3 [==============================] - 3s 981ms/step - loss: 171.3391 - val_loss: 292.4103\n",
            "Epoch 9/20\n",
            "3/3 [==============================] - 3s 1s/step - loss: 485.9919 - val_loss: 802.6480\n",
            "Epoch 10/20\n",
            "3/3 [==============================] - 3s 1s/step - loss: 1332.7566 - val_loss: 2153.2007\n",
            "Epoch 11/20\n",
            "3/3 [==============================] - 3s 1s/step - loss: 3477.8750 - val_loss: 5298.0024\n",
            "Epoch 12/20\n",
            "3/3 [==============================] - 3s 1s/step - loss: 8687.9326 - val_loss: 13546.3936\n",
            "Epoch 13/20\n",
            "3/3 [==============================] - 3s 1s/step - loss: 21028.6758 - val_loss: 28731.9180\n",
            "Epoch 14/20\n",
            "3/3 [==============================] - 3s 1s/step - loss: 43950.4648 - val_loss: 59811.3125\n",
            "Epoch 15/20\n",
            "3/3 [==============================] - 3s 1s/step - loss: 89210.2031 - val_loss: 115216.2734\n",
            "Epoch 16/20\n",
            "3/3 [==============================] - 3s 987ms/step - loss: 172114.2656 - val_loss: 201917.8125\n",
            "Epoch 17/20\n",
            "3/3 [==============================] - 3s 952ms/step - loss: 303835.4688 - val_loss: 430974.9062\n",
            "Epoch 18/20\n",
            "3/3 [==============================] - 3s 1s/step - loss: 651464.1250 - val_loss: 839768.1250\n",
            "Epoch 19/20\n",
            "3/3 [==============================] - 3s 970ms/step - loss: 1213798.1250 - val_loss: 1608430.3750\n",
            "Epoch 20/20\n",
            "3/3 [==============================] - 3s 1s/step - loss: 2319102.7500 - val_loss: 2647142.5000\n"
          ]
        },
        {
          "data": {
            "text/plain": [
              "<keras.callbacks.History at 0x238878e4fd0>"
            ]
          },
          "execution_count": 65,
          "metadata": {},
          "output_type": "execute_result"
        }
      ],
      "source": [
        "autoencoder.fit(X_train, X_train,\n",
        "                epochs = 20,\n",
        "                shuffle = True,\n",
        "                batch_size = 32,\n",
        "                validation_data = (X_test, X_test),\n",
        ")\n"
      ]
    },
    {
      "cell_type": "code",
      "execution_count": 66,
      "metadata": {},
      "outputs": [
        {
          "name": "stdout",
          "output_type": "stream",
          "text": [
            "3/3 [==============================] - 0s 52ms/step\n",
            "1/1 [==============================] - 0s 62ms/step\n"
          ]
        }
      ],
      "source": [
        "new_model = Model(input, enc)\n",
        "\n",
        "pred_train = new_model.predict(X_train)\n",
        "pred_test = new_model.predict(X_test)\n",
        "\n",
        "\n",
        "encoded_train = pred_train.reshape((pred_train.shape[0], -1))\n",
        "encoded_test = pred_test.reshape((pred_test.shape[0], -1))"
      ]
    },
    {
      "cell_type": "code",
      "execution_count": 67,
      "metadata": {
        "id": "soLUVW2Xn554"
      },
      "outputs": [
        {
          "name": "stderr",
          "output_type": "stream",
          "text": [
            "c:\\Users\\afbso\\anaconda3\\lib\\site-packages\\sklearn\\multiclass.py:79: UserWarning: Label not 0 is present in all training examples.\n",
            "  warnings.warn(\n",
            "c:\\Users\\afbso\\anaconda3\\lib\\site-packages\\sklearn\\multiclass.py:79: UserWarning: Label not 2 is present in all training examples.\n",
            "  warnings.warn(\n",
            "c:\\Users\\afbso\\anaconda3\\lib\\site-packages\\sklearn\\multiclass.py:79: UserWarning: Label not 3 is present in all training examples.\n",
            "  warnings.warn(\n",
            "c:\\Users\\afbso\\anaconda3\\lib\\site-packages\\sklearn\\multiclass.py:79: UserWarning: Label not 4 is present in all training examples.\n",
            "  warnings.warn(\n",
            "c:\\Users\\afbso\\anaconda3\\lib\\site-packages\\sklearn\\metrics\\_classification.py:1318: UndefinedMetricWarning: Precision and F-score are ill-defined and being set to 0.0 in labels with no predicted samples. Use `zero_division` parameter to control this behavior.\n",
            "  _warn_prf(average, modifier, msg_start, len(result))\n",
            "c:\\Users\\afbso\\anaconda3\\lib\\site-packages\\sklearn\\metrics\\_classification.py:1318: UndefinedMetricWarning: Precision and F-score are ill-defined and being set to 0.0 in labels with no predicted samples. Use `zero_division` parameter to control this behavior.\n",
            "  _warn_prf(average, modifier, msg_start, len(result))\n",
            "c:\\Users\\afbso\\anaconda3\\lib\\site-packages\\sklearn\\metrics\\_classification.py:1318: UndefinedMetricWarning: Precision and F-score are ill-defined and being set to 0.0 in labels with no predicted samples. Use `zero_division` parameter to control this behavior.\n",
            "  _warn_prf(average, modifier, msg_start, len(result))\n"
          ]
        },
        {
          "name": "stdout",
          "output_type": "stream",
          "text": [
            "MCC:  0.0\n",
            "              precision    recall  f1-score   support\n",
            "\n",
            "           1       0.75      1.00      0.86        15\n",
            "           5       0.00      0.00      0.00         5\n",
            "\n",
            "    accuracy                           0.75        20\n",
            "   macro avg       0.38      0.50      0.43        20\n",
            "weighted avg       0.56      0.75      0.64        20\n",
            "\n"
          ]
        },
        {
          "data": {
            "image/png": "[encoded data removed]",
            "text/plain": [
              "<Figure size 432x288 with 2 Axes>"
            ]
          },
          "metadata": {
            "needs_background": "light"
          },
          "output_type": "display_data"
        }
      ],
      "source": [
        "clf = OneVsRestClassifier(SVC())\n",
        "clf.fit(encoded_train, y_train)\n",
        "\n",
        "# Convert one-hot encoded labels to integer form\n",
        "y_pred = clf.predict(encoded_test)\n",
        "\n",
        "y_test_int = np.argmax(y_test, axis=1)\n",
        "y_pred_int = np.argmax(y_pred, axis=1)\n",
        "\n",
        "# Print classification report and confusion matrix\n",
        "mcc = matthews_corrcoef(y_test_int, y_pred_int)\n",
        "\n",
        "#accuracy = accuracy_score(y_test, y_pred)\n",
        "print(\"MCC: \", mcc)\n",
        "#print(\"Accuracy: \", accuracy)\n",
        "print(classification_report(y_test_int, y_pred_int))\n",
        "#confusion_matrix(y_test, y_pred)\n",
        "labelage= list(set(age_classes))\n",
        "# assume y_true and y_pred are the true and predicted labels, respectively\n",
        "cm = confusion_matrix(y_test_int, y_pred_int)\n",
        "# create a heatmap of the confusion matrix using seaborn\n",
        "sns.heatmap(cm, annot=True, cmap=\"Blues\", fmt=\"d\", xticklabels=labelage, yticklabels=labelage)\n",
        "# set plot labels and title\n",
        "plt.xlabel('Predicted Label')\n",
        "plt.ylabel('True Label')\n",
        "plt.title('Confusion Matrix')\n",
        "plt.savefig('CM_AE_SVM_age.png')"
      ]
    }
  ],
  "metadata": {
    "accelerator": "GPU",
    "colab": {
      "gpuType": "A100",
      "machine_shape": "hm",
      "provenance": []
    },
    "gpuClass": "standard",
    "kernelspec": {
      "display_name": "base",
      "language": "python",
      "name": "python3"
    },
    "language_info": {
      "codemirror_mode": {
        "name": "ipython",
        "version": 3
      },
      "file_extension": ".py",
      "mimetype": "text/x-python",
      "name": "python",
      "nbconvert_exporter": "python",
      "pygments_lexer": "ipython3",
      "version": "3.9.12"
    }
  },
  "nbformat": 4,
  "nbformat_minor": 0
}
