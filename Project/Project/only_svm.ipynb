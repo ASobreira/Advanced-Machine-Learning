{
 "cells": [
  {
   "cell_type": "code",
   "execution_count": 1,
   "metadata": {},
   "outputs": [],
   "source": [
    "### packages ###\n",
    "import numpy as np\n",
    "import pandas as pd \n",
    "import os\n",
    "import cv2\n",
    "from sklearn.svm import SVC\n",
    "from skimage.feature import hog\n",
    "import matplotlib.pyplot as plt\n",
    "from sklearn.model_selection import train_test_split\n",
    "from sklearn.svm import SVC\n",
    "from skimage.color import rgb2gray\n",
    "import tensorflow as tf\n",
    "from keras.models import Sequential\n",
    "from keras.layers import Convolution2D, MaxPooling2D, Flatten, Dense, Dropout, GlobalAveragePooling2D\n",
    "from keras.applications import VGG16\n",
    "from skimage.feature import hog\n",
    "from skimage import data, exposure\n",
    "import random\n",
    "from keras import layers, losses\n",
    "from keras.models import Model\n",
    "from sklearn.metrics import classification_report, accuracy_score, matthews_corrcoef, confusion_matrix\n",
    "from sklearn.model_selection import GridSearchCV\n",
    "from sklearn.metrics import classification_report\n",
    "import seaborn as sns\n",
    "from sklearn.multiclass import OneVsRestClassifier\n",
    "from sklearn.svm import SVC\n",
    "import math\n",
    "from keras.utils.np_utils import to_categorical\n",
    "from sklearn.metrics import classification_report, confusion_matrix\n",
    "from datetime import datetime"
   ]
  },
  {
   "cell_type": "code",
   "execution_count": 2,
   "metadata": {},
   "outputs": [],
   "source": [
    "initial_time = datetime.now()\n",
    "initial_time = initial_time.strftime(\"%H:%M:%S\")"
   ]
  },
  {
   "cell_type": "code",
   "execution_count": 3,
   "metadata": {},
   "outputs": [],
   "source": [
    "def display(img):\n",
    "    plt.imshow(img)\n",
    "    plt.show()"
   ]
  },
  {
   "cell_type": "code",
   "execution_count": 4,
   "metadata": {},
   "outputs": [
    {
     "name": "stdout",
     "output_type": "stream",
     "text": [
      "data gathering started\n",
      "Total samples: 23708\n",
      "100_0_0_20170112213500903.jpg.chip.jpg\n"
     ]
    }
   ],
   "source": [
    "### Data\n",
    "print(\"data gathering started\")\n",
    "#path server\n",
    "#path = \"/UTKFace/\"\n",
    "#path martim\n",
    "#path = \"../../../../DadosProj/UTKFace/\"\n",
    "#path alex\n",
    "path = \"../../../data_project/UTKFace/\"\n",
    "\n",
    "files = os.listdir(path)\n",
    "size = len(files)\n",
    "print(\"Total samples:\",size)\n",
    "print(files[0])"
   ]
  },
  {
   "cell_type": "code",
   "execution_count": 5,
   "metadata": {},
   "outputs": [],
   "source": [
    "#### Data Pre processing\n",
    "images = []\n",
    "ages = []\n",
    "genders = []\n",
    "ethnicities = []\n",
    "counter = 0"
   ]
  },
  {
   "cell_type": "code",
   "execution_count": 6,
   "metadata": {},
   "outputs": [],
   "source": [
    "for file in files:\n",
    "    if counter == 12500:\n",
    "        break\n",
    "    \n",
    "    image = cv2.imread(path+file)\n",
    "    image = cv2.cvtColor(image, cv2.COLOR_BGR2RGB)\n",
    "    image = cv2.resize(image, dsize=(200, 200))\n",
    "    image = image.reshape((image.shape[0], image.shape[1], 3)) ### A ausencia deste ponto  estava a causar o erro no ORB\n",
    "    #image = image / 255.0 #normalizing values on each point \n",
    "    \n",
    "    images.append(image)\n",
    "    delimit = file.split('_')\n",
    "    ages.append(int(delimit[0]))\n",
    "    # first number is age (0-116 possible values)\n",
    "    genders.append(int(delimit[1]))\n",
    "    # second number is gender (0 for male, 1 for female)\n",
    "    #ethnicities.append(int(delimit[2]))\n",
    "    # third number is ethnicity (0 for white, 1 for black, 2 for asian, 3 for indian, 4 for any other ethnicity)\n",
    "\n",
    "    counter += 1"
   ]
  },
  {
   "cell_type": "code",
   "execution_count": 7,
   "metadata": {},
   "outputs": [
    {
     "name": "stdout",
     "output_type": "stream",
     "text": [
      "data gathering finished\n",
      "Age Classes started\n",
      "Age Classes finished\n"
     ]
    }
   ],
   "source": [
    "print(\"data gathering finished\")\n",
    "\n",
    "### Age classes\n",
    "print(\"Age Classes started\")\n",
    "age_classes = []\n",
    "for i in ages:\n",
    "    i = int(i)\n",
    "    if i <= 1:\n",
    "        age_classes.append(0)\n",
    "    if (i>1) and (i<=13):\n",
    "        age_classes.append(1)\n",
    "    if (i>13) and (i<17):\n",
    "        age_classes.append(2)\n",
    "    if (i>=17) and (i<30):\n",
    "        age_classes.append(3)\n",
    "    if (i>=30) and (i<60):\n",
    "        age_classes.append(4)\n",
    "    if i>=60:\n",
    "        age_classes.append(5)\n",
    "\n",
    "age_labels = [\"Baby\",   # index 0\n",
    "        \"Infant\",       # index 1\n",
    "        \"Adolescent\",   # index 2 \n",
    "        \"Young Adult\",  # index 3 \n",
    "        \"Adult\"         # index 4\n",
    "        \"Old Adult\",    # index 5\n",
    "        ]\n",
    "\n",
    "age_categories = to_categorical(age_classes, num_classes=6)\n",
    "age_categories[:20]\n",
    "print(\"Age Classes finished\")"
   ]
  },
  {
   "cell_type": "code",
   "execution_count": 8,
   "metadata": {},
   "outputs": [
    {
     "name": "stdout",
     "output_type": "stream",
     "text": [
      "12500\n",
      "<class 'list'>\n",
      "[0, 1, 2, 3, 4, 5]\n"
     ]
    }
   ],
   "source": [
    "print(len(age_classes))\n",
    "print(type(age_classes))\n",
    "unique_values = list(set(age_classes))\n",
    "print(unique_values)"
   ]
  },
  {
   "cell_type": "code",
   "execution_count": 9,
   "metadata": {},
   "outputs": [
    {
     "name": "stdout",
     "output_type": "stream",
     "text": [
      "BASE SVM started\n",
      "(12500, 120000)\n",
      "MCC:  0.7287681728611441\n",
      "              precision    recall  f1-score   support\n",
      "\n",
      "           0       0.85      0.85      0.85      1115\n",
      "           1       0.88      0.88      0.88      1385\n",
      "\n",
      "    accuracy                           0.87      2500\n",
      "   macro avg       0.86      0.86      0.86      2500\n",
      "weighted avg       0.87      0.87      0.87      2500\n",
      "\n"
     ]
    },
    {
     "data": {
      "image/png": "[encoded data removed]",
      "text/plain": [
       "<Figure size 432x288 with 2 Axes>"
      ]
     },
     "metadata": {
      "needs_background": "light"
     },
     "output_type": "display_data"
    }
   ],
   "source": [
    "#### BASE\n",
    "print(\"BASE SVM started\")\n",
    "flattened_images = []\n",
    "\n",
    "for image in images:\n",
    "    flattened_image = image.flatten()\n",
    "    flattened_images.append(flattened_image)\n",
    "\n",
    "flattened_images_array = np.array(flattened_images)\n",
    "\n",
    "print(flattened_images_array.shape)\n",
    "\n",
    "##### Gender\n",
    "X_train, X_test, y_train, y_test = train_test_split(flattened_images_array, genders, test_size=0.2, random_state=42)\n",
    "\n",
    "clf = SVC()\n",
    "clf.fit(X_train, y_train)\n",
    "\n",
    "###### Metrics\n",
    "y_pred = clf.predict(X_test)\n",
    "mcc = matthews_corrcoef(y_test, y_pred)\n",
    "print(\"MCC: \", mcc)\n",
    "print(classification_report(y_test, y_pred))\n",
    "#confusion_matrix(y_test, y_pred)\n",
    "labelGender = list(set(genders))\n",
    "# assume y_true and y_pred are the true and predicted labels, respectively\n",
    "cm = confusion_matrix(y_test, y_pred)\n",
    "# create a heatmap of the confusion matrix using seaborn\n",
    "sns.heatmap(cm, annot=True, cmap=\"Blues\", fmt=\"d\", xticklabels=labelGender, yticklabels=labelGender)\n",
    "# set plot labels and title\n",
    "plt.xlabel('Predicted Label')\n",
    "plt.ylabel('True Label')\n",
    "plt.title('Confusion Matrix')\n",
    "plt.savefig('CM_base_SVM_gender.png')"
   ]
  },
  {
   "cell_type": "code",
   "execution_count": 10,
   "metadata": {},
   "outputs": [
    {
     "name": "stdout",
     "output_type": "stream",
     "text": [
      "MCC:  0.41262246053488666\n"
     ]
    },
    {
     "name": "stderr",
     "output_type": "stream",
     "text": [
      "c:\\Users\\afbso\\anaconda3\\lib\\site-packages\\sklearn\\metrics\\_classification.py:1318: UndefinedMetricWarning: Precision and F-score are ill-defined and being set to 0.0 in labels with no predicted samples. Use `zero_division` parameter to control this behavior.\n",
      "  _warn_prf(average, modifier, msg_start, len(result))\n",
      "c:\\Users\\afbso\\anaconda3\\lib\\site-packages\\sklearn\\metrics\\_classification.py:1318: UndefinedMetricWarning: Precision and F-score are ill-defined and being set to 0.0 in labels with no predicted samples. Use `zero_division` parameter to control this behavior.\n",
      "  _warn_prf(average, modifier, msg_start, len(result))\n",
      "c:\\Users\\afbso\\anaconda3\\lib\\site-packages\\sklearn\\metrics\\_classification.py:1318: UndefinedMetricWarning: Precision and F-score are ill-defined and being set to 0.0 in labels with no predicted samples. Use `zero_division` parameter to control this behavior.\n",
      "  _warn_prf(average, modifier, msg_start, len(result))\n"
     ]
    },
    {
     "name": "stdout",
     "output_type": "stream",
     "text": [
      "              precision    recall  f1-score   support\n",
      "\n",
      "           0       0.51      0.94      0.66       234\n",
      "           1       0.00      0.00      0.00       194\n",
      "           2       0.00      0.00      0.00       111\n",
      "           3       0.74      0.98      0.84      1580\n",
      "           4       0.00      0.00      0.00       374\n",
      "           5       0.00      0.00      0.00         7\n",
      "\n",
      "    accuracy                           0.70      2500\n",
      "   macro avg       0.21      0.32      0.25      2500\n",
      "weighted avg       0.52      0.70      0.60      2500\n",
      "\n",
      "BASE SVM finished\n"
     ]
    },
    {
     "data": {
      "image/png": "[encoded data removed]",
      "text/plain": [
       "<Figure size 432x288 with 2 Axes>"
      ]
     },
     "metadata": {
      "needs_background": "light"
     },
     "output_type": "display_data"
    }
   ],
   "source": [
    "##### Age\n",
    "X_train, X_test, y_train, y_test = train_test_split(flattened_images_array, age_categories, test_size=0.2, random_state=42)\n",
    "\n",
    "clf = OneVsRestClassifier(SVC())\n",
    "clf.fit(X_train, y_train)\n",
    "\n",
    "# Convert one-hot encoded labels to integer form\n",
    "y_pred = clf.predict(X_test)\n",
    "\n",
    "y_test_int = np.argmax(y_test, axis=1)\n",
    "y_pred_int = np.argmax(y_pred, axis=1)\n",
    "\n",
    "# Print classification report and confusion matrix\n",
    "mcc = matthews_corrcoef(y_test_int, y_pred_int)\n",
    "\n",
    "#accuracy = accuracy_score(y_test, y_pred)\n",
    "print(\"MCC: \", mcc)\n",
    "#print(\"Accuracy: \", accuracy)\n",
    "print(classification_report(y_test_int, y_pred_int))\n",
    "#confusion_matrix(y_test, y_pred)\n",
    "labelage= list(set(age_classes))\n",
    "# assume y_true and y_pred are the true and predicted labels, respectively\n",
    "cm = confusion_matrix(y_test_int, y_pred_int)\n",
    "# create a heatmap of the confusion matrix using seaborn\n",
    "sns.heatmap(cm, annot=True, cmap=\"Blues\", fmt=\"d\", xticklabels=labelage, yticklabels=labelage)\n",
    "# set plot labels and title\n",
    "plt.xlabel('Predicted Label')\n",
    "plt.ylabel('True Label')\n",
    "plt.title('Confusion Matrix')\n",
    "plt.savefig('CM_base_SVM_age.png')\n",
    "\n",
    "print(\"BASE SVM finished\")\n"
   ]
  },
  {
   "cell_type": "code",
   "execution_count": 11,
   "metadata": {},
   "outputs": [
    {
     "name": "stdout",
     "output_type": "stream",
     "text": [
      "HOG started\n"
     ]
    }
   ],
   "source": [
    "#### HOG\n",
    "print(\"HOG started\")\n",
    "# Extract HOG features from the images\n",
    "hog_features = []\n",
    "for img in images:\n",
    "    #hog_feature = hog(img, orientations=9, pixels_per_cell=(8, 8),\n",
    "    #                cells_per_block=(2, 2), transform_sqrt=True, feature_vector=True, multichannel=True, channel_axis=2)\n",
    "    hog_feature = hog(img, orientations=9, pixels_per_cell=(8, 8),\n",
    "                    cells_per_block=(2, 2), transform_sqrt=True, feature_vector=True, channel_axis=2)\n",
    "    \n",
    "    hog_features.append(hog_feature)\n",
    "hog_features = np.array(hog_features)\n",
    "\n",
    "# Normalize the features to have zero mean and unit variance\n",
    "mean = np.mean(hog_features, axis=0)\n",
    "std = np.std(hog_features, axis=0)\n",
    "hog_features_norm = (hog_features - mean) / std"
   ]
  },
  {
   "cell_type": "code",
   "execution_count": 12,
   "metadata": {},
   "outputs": [
    {
     "name": "stdout",
     "output_type": "stream",
     "text": [
      "MCC:  0.7549520944752827\n",
      "              precision    recall  f1-score   support\n",
      "\n",
      "           0       0.86      0.87      0.86      1115\n",
      "           1       0.89      0.89      0.89      1385\n",
      "\n",
      "    accuracy                           0.88      2500\n",
      "   macro avg       0.88      0.88      0.88      2500\n",
      "weighted avg       0.88      0.88      0.88      2500\n",
      "\n"
     ]
    },
    {
     "data": {
      "image/png": "[encoded data removed]",
      "text/plain": [
       "<Figure size 432x288 with 2 Axes>"
      ]
     },
     "metadata": {
      "needs_background": "light"
     },
     "output_type": "display_data"
    }
   ],
   "source": [
    "##### Gender\n",
    "X_train, X_test, y_train, y_test = train_test_split(hog_features_norm, genders, test_size=0.2, random_state=42)\n",
    "\n",
    "clf = SVC()\n",
    "clf.fit(X_train, y_train)\n",
    "\n",
    "y_pred = clf.predict(X_test)\n",
    "\n",
    "mcc = matthews_corrcoef(y_test, y_pred)\n",
    "#accuracy = accuracy_score(y_test, y_pred)\n",
    "print(\"MCC: \", mcc)\n",
    "#print(\"Accuracy: \", accuracy)\n",
    "print(classification_report(y_test, y_pred))\n",
    "#confusion_matrix(y_test, y_pred)\n",
    "\n",
    "labelGender = list(set(genders))\n",
    "\n",
    "# assume y_true and y_pred are the true and predicted labels, respectively\n",
    "cm = confusion_matrix(y_test, y_pred)\n",
    "\n",
    "# create a heatmap of the confusion matrix using seaborn\n",
    "sns.heatmap(cm, annot=True, cmap=\"Blues\", fmt=\"d\", xticklabels=labelGender, yticklabels=labelGender)\n",
    "\n",
    "# set plot labels and title\n",
    "plt.xlabel('Predicted Label')\n",
    "plt.ylabel('True Label')\n",
    "plt.title('Confusion Matrix')\n",
    "plt.savefig('CM_HOG_SVM_gender.png')"
   ]
  },
  {
   "cell_type": "code",
   "execution_count": 13,
   "metadata": {},
   "outputs": [],
   "source": [
    "##### AGE\n",
    "X_train, X_test, y_train, y_test = train_test_split(hog_features_norm, age_categories, test_size=0.2, random_state=42)\n",
    "clf = OneVsRestClassifier(SVC())\n",
    "clf.fit(X_train, y_train)\n",
    "\n",
    "# Convert one-hot encoded labels to integer form\n",
    "y_pred = clf.predict(X_test)\n",
    "\n",
    "y_test_int = np.argmax(y_test, axis=1)\n",
    "y_pred_int = np.argmax(y_pred, axis=1)\n",
    "\n",
    "# Print classification report and confusion matrix\n",
    "mcc = matthews_corrcoef(y_test_int, y_pred_int)\n",
    "\n",
    "#accuracy = accuracy_score(y_test, y_pred)\n",
    "print(\"MCC: \", mcc)\n",
    "#print(\"Accuracy: \", accuracy)\n",
    "print(classification_report(y_test_int, y_pred_int))\n",
    "#confusion_matrix(y_test, y_pred)\n",
    "labelage= list(set(age_classes))\n",
    "# assume y_true and y_pred are the true and predicted labels, respectively\n",
    "cm = confusion_matrix(y_test_int, y_pred_int)\n",
    "# create a heatmap of the confusion matrix using seaborn\n",
    "sns.heatmap(cm, annot=True, cmap=\"Blues\", fmt=\"d\", xticklabels=labelage, yticklabels=labelage)\n",
    "# set plot labels and title\n",
    "plt.xlabel('Predicted Label')\n",
    "plt.ylabel('True Label')\n",
    "plt.title('Confusion Matrix')\n",
    "plt.savefig('CM_HOG_SVM_age.png')\n",
    "\n",
    "print(\"HOG finished\")\n"
   ]
  },
  {
   "cell_type": "code",
   "execution_count": null,
   "metadata": {},
   "outputs": [
    {
     "name": "stdout",
     "output_type": "stream",
     "text": [
      "ORB Started\n"
     ]
    },
    {
     "data": {
      "image/png": "[encoded data removed]",
      "text/plain": [
       "<Figure size 432x288 with 1 Axes>"
      ]
     },
     "metadata": {
      "needs_background": "light"
     },
     "output_type": "display_data"
    }
   ],
   "source": [
    "#### ORB\n",
    "print(\"ORB Started\")\n",
    "\n",
    "image_check = images[1]\n",
    "\n",
    "orb = cv2.ORB_create()\n",
    "\n",
    "kp = orb.detect(image_check, None)\n",
    "\n",
    "kp, des = orb.compute(image_check, kp)\n",
    "\n",
    "img2 = cv2.drawKeypoints(image_check, kp, None, color=(0,255,0), flags=0)\n",
    "plt.imshow(img2)\n",
    "plt.show()\n",
    "\n",
    "\n",
    "orb = cv2.ORB_create()\n",
    "# define minimum and maximum keypoints\n",
    "MIN_KEYPOINTS = 100\n",
    "orb_features = []\n",
    "orb_genders = []\n",
    "orb_ages = []\n",
    "\n",
    "# loop over images and keypoints\n",
    "for i, img in enumerate(images):\n",
    "    keypoints, descriptors = orb.detectAndCompute(img, None)\n",
    "    keypoints, descriptors = orb.compute(image_check, keypoints)\n",
    "    keypoints = list(keypoints)    \n",
    "    # check if number of keypoints is between min and max\n",
    "    if len(keypoints) < MIN_KEYPOINTS:\n",
    "        continue\n",
    "        \n",
    "    # remove extra keypoints randomly\n",
    "    while len(keypoints) > MIN_KEYPOINTS:\n",
    "        idx = random.randint(0, len(keypoints)-1)\n",
    "        keypoints.pop(idx)\n",
    "        descriptors = np.delete(descriptors, idx, axis=0)\n",
    "        \n",
    "    # add descriptors to feature list\n",
    "    orb_features.append(np.ndarray.flatten(descriptors))\n",
    "    orb_genders.append(genders[i])\n",
    "    orb_ages.append(age_categories[i])\n",
    "\n",
    "mean = np.mean(orb_features, axis=0)\n",
    "std = np.std(orb_features, axis=0)\n",
    "orb_features_norm = (orb_features - mean) / std"
   ]
  },
  {
   "cell_type": "code",
   "execution_count": null,
   "metadata": {},
   "outputs": [
    {
     "name": "stdout",
     "output_type": "stream",
     "text": [
      "MCC:  0.0\n",
      "              precision    recall  f1-score   support\n",
      "\n",
      "           0       0.75      1.00      0.86         6\n",
      "           1       0.00      0.00      0.00         2\n",
      "\n",
      "    accuracy                           0.75         8\n",
      "   macro avg       0.38      0.50      0.43         8\n",
      "weighted avg       0.56      0.75      0.64         8\n",
      "\n"
     ]
    },
    {
     "name": "stderr",
     "output_type": "stream",
     "text": [
      "c:\\Users\\afbso\\anaconda3\\lib\\site-packages\\sklearn\\metrics\\_classification.py:1318: UndefinedMetricWarning: Precision and F-score are ill-defined and being set to 0.0 in labels with no predicted samples. Use `zero_division` parameter to control this behavior.\n",
      "  _warn_prf(average, modifier, msg_start, len(result))\n",
      "c:\\Users\\afbso\\anaconda3\\lib\\site-packages\\sklearn\\metrics\\_classification.py:1318: UndefinedMetricWarning: Precision and F-score are ill-defined and being set to 0.0 in labels with no predicted samples. Use `zero_division` parameter to control this behavior.\n",
      "  _warn_prf(average, modifier, msg_start, len(result))\n",
      "c:\\Users\\afbso\\anaconda3\\lib\\site-packages\\sklearn\\metrics\\_classification.py:1318: UndefinedMetricWarning: Precision and F-score are ill-defined and being set to 0.0 in labels with no predicted samples. Use `zero_division` parameter to control this behavior.\n",
      "  _warn_prf(average, modifier, msg_start, len(result))\n"
     ]
    },
    {
     "data": {
      "image/png": "[encoded data removed]",
      "text/plain": [
       "<Figure size 432x288 with 2 Axes>"
      ]
     },
     "metadata": {
      "needs_background": "light"
     },
     "output_type": "display_data"
    }
   ],
   "source": [
    "##### Gender\n",
    "X_train, X_test, y_train, y_test = train_test_split(orb_features_norm, orb_genders, test_size=0.2, random_state=42)\n",
    "\n",
    "clf = SVC()\n",
    "clf.fit(X_train, y_train)\n",
    "\n",
    "# Evaluate the classifier on the testing data\n",
    "y_pred = clf.predict(X_test)\n",
    "\n",
    "mcc = matthews_corrcoef(y_test, y_pred)\n",
    "#accuracy = accuracy_score(y_test, y_pred)\n",
    "print(\"MCC: \", mcc)\n",
    "#print(\"Accuracy: \", accuracy)\n",
    "print(classification_report(y_test, y_pred))\n",
    "#confusion_matrix(y_test, y_pred)\n",
    "\n",
    "labelGender = list(set(genders))\n",
    "\n",
    "# assume y_true and y_pred are the true and predicted labels, respectively\n",
    "cm = confusion_matrix(y_test, y_pred)\n",
    "\n",
    "# create a heatmap of the confusion matrix using seaborn\n",
    "sns.heatmap(cm, annot=True, cmap=\"Blues\", fmt=\"d\", xticklabels=labelGender, yticklabels=labelGender)\n",
    "\n",
    "# set plot labels and title\n",
    "plt.xlabel('Predicted Label')\n",
    "plt.ylabel('True Label')\n",
    "plt.title('Confusion Matrix')\n",
    "plt.savefig('CM_ORB_SVM_gender.png')"
   ]
  },
  {
   "cell_type": "code",
   "execution_count": null,
   "metadata": {},
   "outputs": [
    {
     "name": "stderr",
     "output_type": "stream",
     "text": [
      "c:\\Users\\afbso\\anaconda3\\lib\\site-packages\\sklearn\\multiclass.py:79: UserWarning: Label not 0 is present in all training examples.\n",
      "  warnings.warn(\n",
      "c:\\Users\\afbso\\anaconda3\\lib\\site-packages\\sklearn\\multiclass.py:79: UserWarning: Label not 2 is present in all training examples.\n",
      "  warnings.warn(\n",
      "c:\\Users\\afbso\\anaconda3\\lib\\site-packages\\sklearn\\multiclass.py:79: UserWarning: Label not 3 is present in all training examples.\n",
      "  warnings.warn(\n",
      "c:\\Users\\afbso\\anaconda3\\lib\\site-packages\\sklearn\\multiclass.py:79: UserWarning: Label not 4 is present in all training examples.\n",
      "  warnings.warn(\n",
      "c:\\Users\\afbso\\anaconda3\\lib\\site-packages\\sklearn\\metrics\\_classification.py:1318: UndefinedMetricWarning: Precision and F-score are ill-defined and being set to 0.0 in labels with no predicted samples. Use `zero_division` parameter to control this behavior.\n",
      "  _warn_prf(average, modifier, msg_start, len(result))\n",
      "c:\\Users\\afbso\\anaconda3\\lib\\site-packages\\sklearn\\metrics\\_classification.py:1318: UndefinedMetricWarning: Recall and F-score are ill-defined and being set to 0.0 in labels with no true samples. Use `zero_division` parameter to control this behavior.\n",
      "  _warn_prf(average, modifier, msg_start, len(result))\n",
      "c:\\Users\\afbso\\anaconda3\\lib\\site-packages\\sklearn\\metrics\\_classification.py:1318: UndefinedMetricWarning: Precision and F-score are ill-defined and being set to 0.0 in labels with no predicted samples. Use `zero_division` parameter to control this behavior.\n",
      "  _warn_prf(average, modifier, msg_start, len(result))\n",
      "c:\\Users\\afbso\\anaconda3\\lib\\site-packages\\sklearn\\metrics\\_classification.py:1318: UndefinedMetricWarning: Recall and F-score are ill-defined and being set to 0.0 in labels with no true samples. Use `zero_division` parameter to control this behavior.\n",
      "  _warn_prf(average, modifier, msg_start, len(result))\n",
      "c:\\Users\\afbso\\anaconda3\\lib\\site-packages\\sklearn\\metrics\\_classification.py:1318: UndefinedMetricWarning: Precision and F-score are ill-defined and being set to 0.0 in labels with no predicted samples. Use `zero_division` parameter to control this behavior.\n",
      "  _warn_prf(average, modifier, msg_start, len(result))\n",
      "c:\\Users\\afbso\\anaconda3\\lib\\site-packages\\sklearn\\metrics\\_classification.py:1318: UndefinedMetricWarning: Recall and F-score are ill-defined and being set to 0.0 in labels with no true samples. Use `zero_division` parameter to control this behavior.\n",
      "  _warn_prf(average, modifier, msg_start, len(result))\n"
     ]
    },
    {
     "name": "stdout",
     "output_type": "stream",
     "text": [
      "MCC:  0.0\n",
      "              precision    recall  f1-score   support\n",
      "\n",
      "           0       0.00      0.00      0.00       0.0\n",
      "           1       0.00      0.00      0.00       6.0\n",
      "           5       0.00      0.00      0.00       2.0\n",
      "\n",
      "    accuracy                           0.00       8.0\n",
      "   macro avg       0.00      0.00      0.00       8.0\n",
      "weighted avg       0.00      0.00      0.00       8.0\n",
      "\n",
      "ORB Finished\n"
     ]
    },
    {
     "data": {
      "image/png": "[encoded data removed]",
      "text/plain": [
       "<Figure size 432x288 with 2 Axes>"
      ]
     },
     "metadata": {
      "needs_background": "light"
     },
     "output_type": "display_data"
    }
   ],
   "source": [
    "##### AGE\n",
    "X_train, X_test, y_train, y_test = train_test_split(orb_features_norm, orb_ages, test_size=0.2, random_state=42)\n",
    "\n",
    "clf = OneVsRestClassifier(SVC())\n",
    "clf.fit(X_train, y_train)\n",
    "\n",
    "y_pred = clf.predict(X_test)\n",
    "\n",
    "y_test_int = np.argmax(y_test, axis=1)\n",
    "y_pred_int = np.argmax(y_pred, axis=1)\n",
    "\n",
    "# Print classification report and confusion matrix\n",
    "mcc = matthews_corrcoef(y_test_int, y_pred_int)\n",
    "\n",
    "#accuracy = accuracy_score(y_test, y_pred)\n",
    "print(\"MCC: \", mcc)\n",
    "#print(\"Accuracy: \", accuracy)\n",
    "print(classification_report(y_test_int, y_pred_int))\n",
    "#confusion_matrix(y_test, y_pred)\n",
    "labelage= list(set(age_classes))\n",
    "# assume y_true and y_pred are the true and predicted labels, respectively\n",
    "cm = confusion_matrix(y_test_int, y_pred_int)\n",
    "# create a heatmap of the confusion matrix using seaborn\n",
    "sns.heatmap(cm, annot=True, cmap=\"Blues\", fmt=\"d\", xticklabels=labelage, yticklabels=labelage)\n",
    "# set plot labels and title\n",
    "plt.xlabel('Predicted Label')\n",
    "plt.ylabel('True Label')\n",
    "plt.savefig('CM_ORB_SVM_age.png')\n",
    "print(\"ORB Finished\")"
   ]
  },
  {
   "cell_type": "code",
   "execution_count": null,
   "metadata": {},
   "outputs": [
    {
     "name": "stdout",
     "output_type": "stream",
     "text": [
      "VGG Started\n",
      "Model: \"vgg16\"\n",
      "_________________________________________________________________\n",
      " Layer (type)                Output Shape              Param #   \n",
      "=================================================================\n",
      " input_3 (InputLayer)        [(None, 200, 200, 3)]     0         \n",
      "                                                                 \n",
      " block1_conv1 (Conv2D)       (None, 200, 200, 64)      1792      \n",
      "                                                                 \n",
      " block1_conv2 (Conv2D)       (None, 200, 200, 64)      36928     \n",
      "                                                                 \n",
      " block1_pool (MaxPooling2D)  (None, 100, 100, 64)      0         \n",
      "                                                                 \n",
      " block2_conv1 (Conv2D)       (None, 100, 100, 128)     73856     \n",
      "                                                                 \n",
      " block2_conv2 (Conv2D)       (None, 100, 100, 128)     147584    \n",
      "                                                                 \n",
      " block2_pool (MaxPooling2D)  (None, 50, 50, 128)       0         \n",
      "                                                                 \n",
      " block3_conv1 (Conv2D)       (None, 50, 50, 256)       295168    \n",
      "                                                                 \n",
      " block3_conv2 (Conv2D)       (None, 50, 50, 256)       590080    \n",
      "                                                                 \n",
      " block3_conv3 (Conv2D)       (None, 50, 50, 256)       590080    \n",
      "                                                                 \n",
      " block3_pool (MaxPooling2D)  (None, 25, 25, 256)       0         \n",
      "                                                                 \n",
      " block4_conv1 (Conv2D)       (None, 25, 25, 512)       1180160   \n",
      "                                                                 \n",
      " block4_conv2 (Conv2D)       (None, 25, 25, 512)       2359808   \n",
      "                                                                 \n",
      " block4_conv3 (Conv2D)       (None, 25, 25, 512)       2359808   \n",
      "                                                                 \n",
      " block4_pool (MaxPooling2D)  (None, 12, 12, 512)       0         \n",
      "                                                                 \n",
      " block5_conv1 (Conv2D)       (None, 12, 12, 512)       2359808   \n",
      "                                                                 \n",
      " block5_conv2 (Conv2D)       (None, 12, 12, 512)       2359808   \n",
      "                                                                 \n",
      " block5_conv3 (Conv2D)       (None, 12, 12, 512)       2359808   \n",
      "                                                                 \n",
      " block5_pool (MaxPooling2D)  (None, 6, 6, 512)         0         \n",
      "                                                                 \n",
      "=================================================================\n",
      "Total params: 14,714,688\n",
      "Trainable params: 0\n",
      "Non-trainable params: 14,714,688\n",
      "_________________________________________________________________\n",
      "WARNING:tensorflow:5 out of the last 12 calls to <function Model.make_predict_function.<locals>.predict_function at 0x0000021CB6A80D30> triggered tf.function retracing. Tracing is expensive and the excessive number of tracings could be due to (1) creating @tf.function repeatedly in a loop, (2) passing tensors with different shapes, (3) passing Python objects instead of tensors. For (1), please define your @tf.function outside of the loop. For (2), @tf.function has reduce_retracing=True option that can avoid unnecessary retracing. For (3), please refer to https://www.tensorflow.org/guide/function#controlling_retracing and https://www.tensorflow.org/api_docs/python/tf/function for  more details.\n",
      "2/2 [==============================] - 7s 2s/step\n"
     ]
    }
   ],
   "source": [
    "print(\"VGG Started\")\n",
    "#### VGG16\n",
    "VGG_model = VGG16(weights='imagenet', include_top=False, input_shape=(200, 200, 3))\n",
    "\n",
    "for layer in VGG_model.layers:\n",
    "\tlayer.trainable = False\n",
    "\t\n",
    "VGG_model.summary()\n",
    "\n",
    "X = np.stack(images)\n",
    "X = VGG_model.predict(X)"
   ]
  },
  {
   "cell_type": "code",
   "execution_count": null,
   "metadata": {},
   "outputs": [
    {
     "name": "stdout",
     "output_type": "stream",
     "text": [
      "MCC:  0.0\n",
      "              precision    recall  f1-score   support\n",
      "\n",
      "           0       0.90      1.00      0.95         9\n",
      "           1       0.00      0.00      0.00         1\n",
      "\n",
      "    accuracy                           0.90        10\n",
      "   macro avg       0.45      0.50      0.47        10\n",
      "weighted avg       0.81      0.90      0.85        10\n",
      "\n"
     ]
    },
    {
     "name": "stderr",
     "output_type": "stream",
     "text": [
      "c:\\Users\\afbso\\anaconda3\\lib\\site-packages\\sklearn\\metrics\\_classification.py:1318: UndefinedMetricWarning: Precision and F-score are ill-defined and being set to 0.0 in labels with no predicted samples. Use `zero_division` parameter to control this behavior.\n",
      "  _warn_prf(average, modifier, msg_start, len(result))\n",
      "c:\\Users\\afbso\\anaconda3\\lib\\site-packages\\sklearn\\metrics\\_classification.py:1318: UndefinedMetricWarning: Precision and F-score are ill-defined and being set to 0.0 in labels with no predicted samples. Use `zero_division` parameter to control this behavior.\n",
      "  _warn_prf(average, modifier, msg_start, len(result))\n",
      "c:\\Users\\afbso\\anaconda3\\lib\\site-packages\\sklearn\\metrics\\_classification.py:1318: UndefinedMetricWarning: Precision and F-score are ill-defined and being set to 0.0 in labels with no predicted samples. Use `zero_division` parameter to control this behavior.\n",
      "  _warn_prf(average, modifier, msg_start, len(result))\n"
     ]
    },
    {
     "data": {
      "image/png": "[encoded data removed]",
      "text/plain": [
       "<Figure size 432x288 with 2 Axes>"
      ]
     },
     "metadata": {
      "needs_background": "light"
     },
     "output_type": "display_data"
    }
   ],
   "source": [
    "##### Gender\n",
    "X_svm = X.reshape(X.shape[0], -1)\n",
    "X_train, X_test, y_train, y_test = train_test_split(X_svm, genders, test_size=0.2, random_state=42)\n",
    "\n",
    "clf = SVC()\n",
    "clf.fit(X_train, y_train)\n",
    "\n",
    "# Evaluate the classifier on the testing data\n",
    "y_pred = clf.predict(X_test)\n",
    "\n",
    "mcc = matthews_corrcoef(y_test, y_pred)\n",
    "#accuracy = accuracy_score(y_test, y_pred)\n",
    "print(\"MCC: \", mcc)\n",
    "#print(\"Accuracy: \", accuracy)\n",
    "print(classification_report(y_test, y_pred))\n",
    "#confusion_matrix(y_test, y_pred)\n",
    "\n",
    "labelGender = list(set(genders))\n",
    "\n",
    "# assume y_true and y_pred are the true and predicted labels, respectively\n",
    "cm = confusion_matrix(y_test, y_pred)\n",
    "\n",
    "# create a heatmap of the confusion matrix using seaborn\n",
    "sns.heatmap(cm, annot=True, cmap=\"Blues\", fmt=\"d\", xticklabels=labelGender, yticklabels=labelGender)\n",
    "\n",
    "# set plot labels and title\n",
    "plt.xlabel('Predicted Label')\n",
    "plt.ylabel('True Label')\n",
    "plt.title('Confusion Matrix')\n",
    "plt.savefig('CM_VGG_SVM_gender.png')\n"
   ]
  },
  {
   "cell_type": "code",
   "execution_count": null,
   "metadata": {},
   "outputs": [
    {
     "name": "stderr",
     "output_type": "stream",
     "text": [
      "c:\\Users\\afbso\\anaconda3\\lib\\site-packages\\sklearn\\multiclass.py:79: UserWarning: Label not 0 is present in all training examples.\n",
      "  warnings.warn(\n",
      "c:\\Users\\afbso\\anaconda3\\lib\\site-packages\\sklearn\\multiclass.py:79: UserWarning: Label not 2 is present in all training examples.\n",
      "  warnings.warn(\n",
      "c:\\Users\\afbso\\anaconda3\\lib\\site-packages\\sklearn\\multiclass.py:79: UserWarning: Label not 3 is present in all training examples.\n",
      "  warnings.warn(\n",
      "c:\\Users\\afbso\\anaconda3\\lib\\site-packages\\sklearn\\multiclass.py:79: UserWarning: Label not 4 is present in all training examples.\n",
      "  warnings.warn(\n",
      "c:\\Users\\afbso\\anaconda3\\lib\\site-packages\\sklearn\\metrics\\_classification.py:1318: UndefinedMetricWarning: Precision and F-score are ill-defined and being set to 0.0 in labels with no predicted samples. Use `zero_division` parameter to control this behavior.\n",
      "  _warn_prf(average, modifier, msg_start, len(result))\n",
      "c:\\Users\\afbso\\anaconda3\\lib\\site-packages\\sklearn\\metrics\\_classification.py:1318: UndefinedMetricWarning: Recall and F-score are ill-defined and being set to 0.0 in labels with no true samples. Use `zero_division` parameter to control this behavior.\n",
      "  _warn_prf(average, modifier, msg_start, len(result))\n",
      "c:\\Users\\afbso\\anaconda3\\lib\\site-packages\\sklearn\\metrics\\_classification.py:1318: UndefinedMetricWarning: Precision and F-score are ill-defined and being set to 0.0 in labels with no predicted samples. Use `zero_division` parameter to control this behavior.\n",
      "  _warn_prf(average, modifier, msg_start, len(result))\n",
      "c:\\Users\\afbso\\anaconda3\\lib\\site-packages\\sklearn\\metrics\\_classification.py:1318: UndefinedMetricWarning: Recall and F-score are ill-defined and being set to 0.0 in labels with no true samples. Use `zero_division` parameter to control this behavior.\n",
      "  _warn_prf(average, modifier, msg_start, len(result))\n",
      "c:\\Users\\afbso\\anaconda3\\lib\\site-packages\\sklearn\\metrics\\_classification.py:1318: UndefinedMetricWarning: Precision and F-score are ill-defined and being set to 0.0 in labels with no predicted samples. Use `zero_division` parameter to control this behavior.\n",
      "  _warn_prf(average, modifier, msg_start, len(result))\n",
      "c:\\Users\\afbso\\anaconda3\\lib\\site-packages\\sklearn\\metrics\\_classification.py:1318: UndefinedMetricWarning: Recall and F-score are ill-defined and being set to 0.0 in labels with no true samples. Use `zero_division` parameter to control this behavior.\n",
      "  _warn_prf(average, modifier, msg_start, len(result))\n"
     ]
    },
    {
     "name": "stdout",
     "output_type": "stream",
     "text": [
      "MCC:  0.3061862178478973\n",
      "              precision    recall  f1-score   support\n",
      "\n",
      "           0       0.00      0.00      0.00         0\n",
      "           1       1.00      0.75      0.86         8\n",
      "           5       0.00      0.00      0.00         2\n",
      "\n",
      "    accuracy                           0.60        10\n",
      "   macro avg       0.33      0.25      0.29        10\n",
      "weighted avg       0.80      0.60      0.69        10\n",
      "\n",
      "VGG Finish\n"
     ]
    },
    {
     "data": {
      "image/png": "[encoded data removed]",
      "text/plain": [
       "<Figure size 432x288 with 2 Axes>"
      ]
     },
     "metadata": {
      "needs_background": "light"
     },
     "output_type": "display_data"
    }
   ],
   "source": [
    "#### AGE\n",
    "X_train, X_test, y_train, y_test = train_test_split(X_svm, age_categories, test_size=0.2, random_state=42)#variar a percentagem split\n",
    "\n",
    "clf = OneVsRestClassifier(SVC())\n",
    "clf.fit(X_train, y_train)\n",
    "\n",
    "# Convert one-hot encoded labels to integer form\n",
    "y_pred = clf.predict(X_test)\n",
    "\n",
    "y_test_int = np.argmax(y_test, axis=1)\n",
    "y_pred_int = np.argmax(y_pred, axis=1)\n",
    "\n",
    "# Print classification report and confusion matrix\n",
    "mcc = matthews_corrcoef(y_test_int, y_pred_int)\n",
    "\n",
    "#accuracy = accuracy_score(y_test, y_pred)\n",
    "print(\"MCC: \", mcc)\n",
    "#print(\"Accuracy: \", accuracy)\n",
    "print(classification_report(y_test_int, y_pred_int))\n",
    "#confusion_matrix(y_test, y_pred)\n",
    "labelage= list(set(age_classes))\n",
    "# assume y_true and y_pred are the true and predicted labels, respectively\n",
    "cm = confusion_matrix(y_test_int, y_pred_int)\n",
    "# create a heatmap of the confusion matrix using seaborn\n",
    "sns.heatmap(cm, annot=True, cmap=\"Blues\", fmt=\"d\", xticklabels=labelage, yticklabels=labelage)\n",
    "# set plot labels and title\n",
    "plt.xlabel('Predicted Label')\n",
    "plt.ylabel('True Label')\n",
    "plt.title('Confusion Matrix')\n",
    "plt.savefig('CM_VGG_SVM_age.png')\n",
    "\n",
    "print(\"VGG Finish\")"
   ]
  },
  {
   "cell_type": "code",
   "execution_count": null,
   "metadata": {},
   "outputs": [
    {
     "name": "stdout",
     "output_type": "stream",
     "text": [
      "Autoencoder Started\n",
      "svm encoder for gender started\n"
     ]
    }
   ],
   "source": [
    "print(\"Autoencoder Started\")\n",
    "#### AUtoencoder\n",
    "input = layers.Input(shape=(200, 200, 3))\n",
    "\n",
    "#valor alto apanha artefactos, e valor baixo nao captura bem as features da imagem\n",
    "latent_dim = 2000\n",
    "\n",
    "## Classe \n",
    "\n",
    "# Encoder\n",
    "\n",
    "#didnt increase filter count in encoder and decrease equally in decoder because\n",
    "#it can lead to overfitting\n",
    "\n",
    "x = layers.Conv2D(64, (3,3), activation='relu', padding='same', strides = 2)(input)\n",
    "#x = layers.MaxPooling2D((2,2), padding='same')(x)#dividir imagem por factor de 2\n",
    "x = layers.Conv2D(32, (3,3), activation='relu', padding='same', strides = 2)(x)#reduziu se nr de filtros para 32 porque foi decidido factor de 32 filtros\n",
    "#x = layers.MaxPooling2D((2,2), padding='same')(x)\n",
    "x = layers.Conv2D(16, (3,3), activation='relu', padding='same', strides = 2)(x)\n",
    "#x = layers.MaxPooling2D((2,2), padding='same')(x)#25*25*16=10000\n",
    "x = layers.Flatten()(x)\n",
    "enc = layers.Dense(latent_dim, activation='relu')(x)\n",
    "\n",
    "# Decoder\n",
    "\n",
    "#having conv2D here helps to avoid checkerboard artifacts\n",
    "#which are alternating points of colors (like checkerboard)\n",
    "#that are consequence of deconvolutioning an image and cause \n",
    "#loss of quality in final reconstruction\n",
    "#x = layers.Conv2D(16, (3,3), activation='relu', padding='same')(x)\n",
    "\n",
    "#equivalente a fazer dense layer no fim do encoder e no inicio do decoder\n",
    "#fazer a layer dense fica um vector\n",
    "#fazer reshape depois do 2 dense para voltar a ter imagem do vetor criado\n",
    "\n",
    "x = layers.Dense(25*25*16, activation='relu')(enc)\n",
    "x = layers.Reshape((25,25,16))(x)\n",
    "#x = layers.UpSampling2D((2,2))(x)\n",
    "x = layers.Conv2DTranspose(32, (3, 3), activation=\"relu\", padding=\"same\", strides = 2)(x)\n",
    "#x = layers.UpSampling2D((2,2))(x)\n",
    "x = layers.Conv2DTranspose(64, (3,3), activation='relu', padding='same', strides = 2)(x)\n",
    "#x = layers.UpSampling2D((2,2))(x)\n",
    "output = layers.Conv2DTranspose(3, (3,3), activation='sigmoid', padding='same', strides = 2)(x)\n",
    "\n",
    "#maybe use strides in the layers too\n",
    "#example:\n",
    "#x = layers.Conv2D(16, (3,3), activation='relu', padding='same', strides = 2)(x)\n",
    "\n",
    "# Autoencoder\n",
    "autoencoder = Model(input, output)\n",
    "\n",
    "# binary cross entropy is good for image feature extraction especially when images are normalized\n",
    "autoencoder.compile(optimizer=\"adam\", loss=\"binary_crossentropy\")\n",
    "#autoencoder.summary()\n",
    "\n",
    "print(\"svm encoder for gender started\")"
   ]
  },
  {
   "cell_type": "code",
   "execution_count": null,
   "metadata": {},
   "outputs": [
    {
     "name": "stdout",
     "output_type": "stream",
     "text": [
      "svm encoder for gender started\n",
      "Model: \"model_4\"\n",
      "_________________________________________________________________\n",
      " Layer (type)                Output Shape              Param #   \n",
      "=================================================================\n",
      " input_4 (InputLayer)        [(None, 200, 200, 3)]     0         \n",
      "                                                                 \n",
      " conv2d_3 (Conv2D)           (None, 100, 100, 64)      1792      \n",
      "                                                                 \n",
      " conv2d_4 (Conv2D)           (None, 50, 50, 32)        18464     \n",
      "                                                                 \n",
      " conv2d_5 (Conv2D)           (None, 25, 25, 16)        4624      \n",
      "                                                                 \n",
      " flatten_1 (Flatten)         (None, 10000)             0         \n",
      "                                                                 \n",
      " dense_2 (Dense)             (None, 2000)              20002000  \n",
      "                                                                 \n",
      " dense_3 (Dense)             (None, 10000)             20010000  \n",
      "                                                                 \n",
      " reshape_1 (Reshape)         (None, 25, 25, 16)        0         \n",
      "                                                                 \n",
      " conv2d_transpose_3 (Conv2DT  (None, 50, 50, 32)       4640      \n",
      " ranspose)                                                       \n",
      "                                                                 \n",
      " conv2d_transpose_4 (Conv2DT  (None, 100, 100, 64)     18496     \n",
      " ranspose)                                                       \n",
      "                                                                 \n",
      " conv2d_transpose_5 (Conv2DT  (None, 200, 200, 3)      1731      \n",
      " ranspose)                                                       \n",
      "                                                                 \n",
      "=================================================================\n",
      "Total params: 40,061,747\n",
      "Trainable params: 40,061,747\n",
      "Non-trainable params: 0\n",
      "_________________________________________________________________\n",
      "Epoch 1/2\n",
      "2/2 [==============================] - 4s 1s/step - loss: -61.4328 - val_loss: -2605.5791\n",
      "Epoch 2/2\n",
      "2/2 [==============================] - 2s 722ms/step - loss: -3748.8633 - val_loss: -30150.0039\n",
      "WARNING:tensorflow:5 out of the last 12 calls to <function Model.make_predict_function.<locals>.predict_function at 0x0000021CA2E91160> triggered tf.function retracing. Tracing is expensive and the excessive number of tracings could be due to (1) creating @tf.function repeatedly in a loop, (2) passing tensors with different shapes, (3) passing Python objects instead of tensors. For (1), please define your @tf.function outside of the loop. For (2), @tf.function has reduce_retracing=True option that can avoid unnecessary retracing. For (3), please refer to https://www.tensorflow.org/guide/function#controlling_retracing and https://www.tensorflow.org/api_docs/python/tf/function for  more details.\n",
      "2/2 [==============================] - 0s 22ms/step\n",
      "1/1 [==============================] - 0s 46ms/step\n"
     ]
    }
   ],
   "source": [
    "print(\"svm encoder for gender started\")\n",
    "\n",
    "##### Gender\n",
    "X_train, X_test, y_train, y_test = train_test_split(images, genders, test_size=0.2, random_state=42)\n",
    "\n",
    "X_train = np.array(X_train)\n",
    "X_train = np.reshape(X_train, (X_train.shape[0], X_train.shape[1], X_train.shape[2], 3))\n",
    "\n",
    "X_test = np.array(X_test)\n",
    "X_test = np.reshape(X_test, (X_test.shape[0], X_test.shape[1], X_test.shape[2], 3))\n",
    "\n",
    "\n",
    "# binary cross entropy is good for image feature extraction especially when images are normalized\n",
    "autoencoder.compile(optimizer=\"adam\", loss=\"binary_crossentropy\")\n",
    "autoencoder.summary()\n",
    "\n",
    "#using validation_data is good for detecting overfitting as \n",
    "#it does early stopping when the performance is no longer improving\n",
    "\n",
    "autoencoder.fit(x = X_train, \n",
    "                y = X_train,\n",
    "                epochs = 2,\n",
    "                shuffle = True,\n",
    "                batch_size = 32,\n",
    "                validation_data = (X_test, X_test),)\n",
    "\n",
    "new_model = Model(input, enc)\n",
    "\n",
    "pred_train = new_model.predict(X_train)\n",
    "pred_test = new_model.predict(X_test)\n",
    "\n",
    "encoded_X_train = pred_train.reshape((pred_train.shape[0], -1))\n",
    "encoded_X_test = pred_test.reshape((pred_test.shape[0], -1))"
   ]
  },
  {
   "cell_type": "code",
   "execution_count": null,
   "metadata": {},
   "outputs": [
    {
     "name": "stdout",
     "output_type": "stream",
     "text": [
      "Model: \"model_4\"\n",
      "_________________________________________________________________\n",
      " Layer (type)                Output Shape              Param #   \n",
      "=================================================================\n",
      " input_4 (InputLayer)        [(None, 200, 200, 3)]     0         \n",
      "                                                                 \n",
      " conv2d_3 (Conv2D)           (None, 100, 100, 64)      1792      \n",
      "                                                                 \n",
      " conv2d_4 (Conv2D)           (None, 50, 50, 32)        18464     \n",
      "                                                                 \n",
      " conv2d_5 (Conv2D)           (None, 25, 25, 16)        4624      \n",
      "                                                                 \n",
      " flatten_1 (Flatten)         (None, 10000)             0         \n",
      "                                                                 \n",
      " dense_2 (Dense)             (None, 2000)              20002000  \n",
      "                                                                 \n",
      " dense_3 (Dense)             (None, 10000)             20010000  \n",
      "                                                                 \n",
      " reshape_1 (Reshape)         (None, 25, 25, 16)        0         \n",
      "                                                                 \n",
      " conv2d_transpose_3 (Conv2DT  (None, 50, 50, 32)       4640      \n",
      " ranspose)                                                       \n",
      "                                                                 \n",
      " conv2d_transpose_4 (Conv2DT  (None, 100, 100, 64)     18496     \n",
      " ranspose)                                                       \n",
      "                                                                 \n",
      " conv2d_transpose_5 (Conv2DT  (None, 200, 200, 3)      1731      \n",
      " ranspose)                                                       \n",
      "                                                                 \n",
      "=================================================================\n",
      "Total params: 40,061,747\n",
      "Trainable params: 40,061,747\n",
      "Non-trainable params: 0\n",
      "_________________________________________________________________\n",
      "Epoch 1/2\n",
      "2/2 [==============================] - ETA: 0s - loss: -38091.2812WARNING:tensorflow:5 out of the last 9 calls to <function Model.make_test_function.<locals>.test_function at 0x0000021CA2E949D0> triggered tf.function retracing. Tracing is expensive and the excessive number of tracings could be due to (1) creating @tf.function repeatedly in a loop, (2) passing tensors with different shapes, (3) passing Python objects instead of tensors. For (1), please define your @tf.function outside of the loop. For (2), @tf.function has reduce_retracing=True option that can avoid unnecessary retracing. For (3), please refer to https://www.tensorflow.org/guide/function#controlling_retracing and https://www.tensorflow.org/api_docs/python/tf/function for  more details.\n",
      "2/2 [==============================] - 4s 990ms/step - loss: -38091.2812 - val_loss: -270628.4062\n",
      "Epoch 2/2\n",
      "2/2 [==============================] - 2s 695ms/step - loss: -312124.2500 - val_loss: -1168116.3750\n",
      "2/2 [==============================] - 0s 29ms/step\n",
      "1/1 [==============================] - 0s 57ms/step\n",
      "MCC:  0.0\n",
      "              precision    recall  f1-score   support\n",
      "\n",
      "           0       0.90      1.00      0.95         9\n",
      "           1       0.00      0.00      0.00         1\n",
      "\n",
      "    accuracy                           0.90        10\n",
      "   macro avg       0.45      0.50      0.47        10\n",
      "weighted avg       0.81      0.90      0.85        10\n",
      "\n"
     ]
    },
    {
     "name": "stderr",
     "output_type": "stream",
     "text": [
      "c:\\Users\\afbso\\anaconda3\\lib\\site-packages\\sklearn\\metrics\\_classification.py:1318: UndefinedMetricWarning: Precision and F-score are ill-defined and being set to 0.0 in labels with no predicted samples. Use `zero_division` parameter to control this behavior.\n",
      "  _warn_prf(average, modifier, msg_start, len(result))\n",
      "c:\\Users\\afbso\\anaconda3\\lib\\site-packages\\sklearn\\metrics\\_classification.py:1318: UndefinedMetricWarning: Precision and F-score are ill-defined and being set to 0.0 in labels with no predicted samples. Use `zero_division` parameter to control this behavior.\n",
      "  _warn_prf(average, modifier, msg_start, len(result))\n",
      "c:\\Users\\afbso\\anaconda3\\lib\\site-packages\\sklearn\\metrics\\_classification.py:1318: UndefinedMetricWarning: Precision and F-score are ill-defined and being set to 0.0 in labels with no predicted samples. Use `zero_division` parameter to control this behavior.\n",
      "  _warn_prf(average, modifier, msg_start, len(result))\n"
     ]
    },
    {
     "data": {
      "image/png": "[encoded data removed]",
      "text/plain": [
       "<Figure size 432x288 with 2 Axes>"
      ]
     },
     "metadata": {
      "needs_background": "light"
     },
     "output_type": "display_data"
    }
   ],
   "source": [
    "##### Gender\n",
    "X_train, X_test, y_train, y_test = train_test_split(images, genders, test_size=0.2, random_state=42)\n",
    "\n",
    "X_train = np.array(X_train)\n",
    "X_train = np.reshape(X_train, (X_train.shape[0], X_train.shape[1], X_train.shape[2], 3))\n",
    "\n",
    "X_test = np.array(X_test)\n",
    "X_test = np.reshape(X_test, (X_test.shape[0], X_test.shape[1], X_test.shape[2], 3))\n",
    "\n",
    "\n",
    "# binary cross entropy is good for image feature extraction especially when images are normalized\n",
    "autoencoder.compile(optimizer=\"adam\", loss=\"binary_crossentropy\")\n",
    "autoencoder.summary()\n",
    "\n",
    "#using validation_data is good for detecting overfitting as \n",
    "#it does early stopping when the performance is no longer improving\n",
    "\n",
    "autoencoder.fit(x = X_train, \n",
    "                y = X_train,\n",
    "                epochs = 2,\n",
    "                shuffle = True,\n",
    "                batch_size = 32,\n",
    "                validation_data = (X_test, X_test),)\n",
    "\n",
    "new_model = Model(input, enc)\n",
    "\n",
    "pred_train = new_model.predict(X_train)\n",
    "pred_test = new_model.predict(X_test)\n",
    "\n",
    "encoded_X_train = pred_train.reshape((pred_train.shape[0], -1))\n",
    "encoded_X_test = pred_test.reshape((pred_test.shape[0], -1))\n",
    "\n",
    "clf = SVC()\n",
    "clf.fit(encoded_X_train, y_train)\n",
    "\n",
    "# Evaluate the classifier on the testing data\n",
    "y_pred = clf.predict(encoded_X_test)\n",
    "\n",
    "mcc = matthews_corrcoef(y_test, y_pred)\n",
    "#accuracy = accuracy_score(y_test, y_pred)\n",
    "print(\"MCC: \", mcc)\n",
    "#print(\"Accuracy: \", accuracy)\n",
    "print(classification_report(y_test, y_pred))\n",
    "#confusion_matrix(y_test, y_pred)\n",
    "\n",
    "labelGender = list(set(genders))\n",
    "\n",
    "# assume y_true and y_pred are the true and predicted labels, respectively\n",
    "cm = confusion_matrix(y_test, y_pred)\n",
    "\n",
    "# create a heatmap of the confusion matrix using seaborn\n",
    "sns.heatmap(cm, annot=True, cmap=\"Blues\", fmt=\"d\", xticklabels=labelGender, yticklabels=labelGender)\n",
    "\n",
    "# set plot labels and title\n",
    "plt.xlabel('Predicted Label')\n",
    "plt.ylabel('True Label')\n",
    "plt.title('Confusion Matrix')\n",
    "plt.savefig('CM_AE_SVM_gender.png')"
   ]
  },
  {
   "cell_type": "code",
   "execution_count": null,
   "metadata": {},
   "outputs": [
    {
     "name": "stdout",
     "output_type": "stream",
     "text": [
      "svm encoder for age started\n",
      "Model: \"model_4\"\n",
      "_________________________________________________________________\n",
      " Layer (type)                Output Shape              Param #   \n",
      "=================================================================\n",
      " input_4 (InputLayer)        [(None, 200, 200, 3)]     0         \n",
      "                                                                 \n",
      " conv2d_3 (Conv2D)           (None, 100, 100, 64)      1792      \n",
      "                                                                 \n",
      " conv2d_4 (Conv2D)           (None, 50, 50, 32)        18464     \n",
      "                                                                 \n",
      " conv2d_5 (Conv2D)           (None, 25, 25, 16)        4624      \n",
      "                                                                 \n",
      " flatten_1 (Flatten)         (None, 10000)             0         \n",
      "                                                                 \n",
      " dense_2 (Dense)             (None, 2000)              20002000  \n",
      "                                                                 \n",
      " dense_3 (Dense)             (None, 10000)             20010000  \n",
      "                                                                 \n",
      " reshape_1 (Reshape)         (None, 25, 25, 16)        0         \n",
      "                                                                 \n",
      " conv2d_transpose_3 (Conv2DT  (None, 50, 50, 32)       4640      \n",
      " ranspose)                                                       \n",
      "                                                                 \n",
      " conv2d_transpose_4 (Conv2DT  (None, 100, 100, 64)     18496     \n",
      " ranspose)                                                       \n",
      "                                                                 \n",
      " conv2d_transpose_5 (Conv2DT  (None, 200, 200, 3)      1731      \n",
      " ranspose)                                                       \n",
      "                                                                 \n",
      "=================================================================\n",
      "Total params: 40,061,747\n",
      "Trainable params: 40,061,747\n",
      "Non-trainable params: 0\n",
      "_________________________________________________________________\n",
      "Epoch 1/2\n",
      "2/2 [==============================] - ETA: 0s - loss: 1784102.2500WARNING:tensorflow:6 out of the last 11 calls to <function Model.make_test_function.<locals>.test_function at 0x0000021CB66DE160> triggered tf.function retracing. Tracing is expensive and the excessive number of tracings could be due to (1) creating @tf.function repeatedly in a loop, (2) passing tensors with different shapes, (3) passing Python objects instead of tensors. For (1), please define your @tf.function outside of the loop. For (2), @tf.function has reduce_retracing=True option that can avoid unnecessary retracing. For (3), please refer to https://www.tensorflow.org/guide/function#controlling_retracing and https://www.tensorflow.org/api_docs/python/tf/function for  more details.\n",
      "2/2 [==============================] - 4s 1s/step - loss: 1784102.2500 - val_loss: 5641124.5000\n",
      "Epoch 2/2\n",
      "2/2 [==============================] - 2s 727ms/step - loss: 6112478.5000 - val_loss: 15801582.0000\n",
      "2/2 [==============================] - 0s 20ms/step\n",
      "1/1 [==============================] - 0s 44ms/step\n",
      "MCC:  0.0\n",
      "              precision    recall  f1-score   support\n",
      "\n",
      "           1       0.80      1.00      0.89         8\n",
      "           5       0.00      0.00      0.00         2\n",
      "\n",
      "    accuracy                           0.80        10\n",
      "   macro avg       0.40      0.50      0.44        10\n",
      "weighted avg       0.64      0.80      0.71        10\n",
      "\n"
     ]
    },
    {
     "name": "stderr",
     "output_type": "stream",
     "text": [
      "c:\\Users\\afbso\\anaconda3\\lib\\site-packages\\sklearn\\multiclass.py:79: UserWarning: Label not 0 is present in all training examples.\n",
      "  warnings.warn(\n",
      "c:\\Users\\afbso\\anaconda3\\lib\\site-packages\\sklearn\\multiclass.py:79: UserWarning: Label not 2 is present in all training examples.\n",
      "  warnings.warn(\n",
      "c:\\Users\\afbso\\anaconda3\\lib\\site-packages\\sklearn\\multiclass.py:79: UserWarning: Label not 3 is present in all training examples.\n",
      "  warnings.warn(\n",
      "c:\\Users\\afbso\\anaconda3\\lib\\site-packages\\sklearn\\multiclass.py:79: UserWarning: Label not 4 is present in all training examples.\n",
      "  warnings.warn(\n",
      "c:\\Users\\afbso\\anaconda3\\lib\\site-packages\\sklearn\\metrics\\_classification.py:1318: UndefinedMetricWarning: Precision and F-score are ill-defined and being set to 0.0 in labels with no predicted samples. Use `zero_division` parameter to control this behavior.\n",
      "  _warn_prf(average, modifier, msg_start, len(result))\n",
      "c:\\Users\\afbso\\anaconda3\\lib\\site-packages\\sklearn\\metrics\\_classification.py:1318: UndefinedMetricWarning: Precision and F-score are ill-defined and being set to 0.0 in labels with no predicted samples. Use `zero_division` parameter to control this behavior.\n",
      "  _warn_prf(average, modifier, msg_start, len(result))\n",
      "c:\\Users\\afbso\\anaconda3\\lib\\site-packages\\sklearn\\metrics\\_classification.py:1318: UndefinedMetricWarning: Precision and F-score are ill-defined and being set to 0.0 in labels with no predicted samples. Use `zero_division` parameter to control this behavior.\n",
      "  _warn_prf(average, modifier, msg_start, len(result))\n"
     ]
    },
    {
     "data": {
      "image/png": "[encoded data removed]",
      "text/plain": [
       "<Figure size 432x288 with 2 Axes>"
      ]
     },
     "metadata": {
      "needs_background": "light"
     },
     "output_type": "display_data"
    }
   ],
   "source": [
    "#### AGE\n",
    "print(\"svm encoder for age started\")\n",
    "X_train, X_test, y_train, y_test = train_test_split(images, age_categories, test_size=0.2, random_state=42)\n",
    "X_train = np.array(X_train)\n",
    "X_train = np.reshape(X_train, (X_train.shape[0], X_train.shape[1], X_train.shape[2], 3))\n",
    "\n",
    "X_test = np.array(X_test)\n",
    "X_test = np.reshape(X_test, (X_test.shape[0], X_test.shape[1], X_test.shape[2], 3))\n",
    "\n",
    "# binary cross entropy is good for image feature extraction especially when images are normalized\n",
    "autoencoder.compile(optimizer=\"adam\", loss='categorical_crossentropy')\n",
    "autoencoder.summary()\n",
    "\n",
    "\n",
    "autoencoder.fit(x = X_train, \n",
    "                y = X_train,\n",
    "                epochs = 2,\n",
    "                shuffle = True,\n",
    "                batch_size = 32,\n",
    "                validation_data = (X_test, X_test),\n",
    ")\n",
    "\n",
    "new_model = Model(input, enc)\n",
    "\n",
    "pred_train = new_model.predict(X_train)\n",
    "pred_test = new_model.predict(X_test)\n",
    "\n",
    "\n",
    "encoded_train = pred_train.reshape((pred_train.shape[0], -1))\n",
    "encoded_test = pred_test.reshape((pred_test.shape[0], -1))\n",
    "\n",
    "clf = OneVsRestClassifier(SVC())\n",
    "clf.fit(encoded_train, y_train)\n",
    "\n",
    "# Convert one-hot encoded labels to integer form\n",
    "y_pred = clf.predict(encoded_test)\n",
    "\n",
    "y_test_int = np.argmax(y_test, axis=1)\n",
    "y_pred_int = np.argmax(y_pred, axis=1)\n",
    "\n",
    "# Print classification report and confusion matrix\n",
    "mcc = matthews_corrcoef(y_test_int, y_pred_int)\n",
    "\n",
    "#accuracy = accuracy_score(y_test, y_pred)\n",
    "print(\"MCC: \", mcc)\n",
    "#print(\"Accuracy: \", accuracy)\n",
    "print(classification_report(y_test_int, y_pred_int))\n",
    "#confusion_matrix(y_test, y_pred)\n",
    "labelage= list(set(age_classes))\n",
    "# assume y_true and y_pred are the true and predicted labels, respectively\n",
    "cm = confusion_matrix(y_test_int, y_pred_int)\n",
    "# create a heatmap of the confusion matrix using seaborn\n",
    "sns.heatmap(cm, annot=True, cmap=\"Blues\", fmt=\"d\", xticklabels=labelage, yticklabels=labelage)\n",
    "# set plot labels and title\n",
    "plt.xlabel('Predicted Label')\n",
    "plt.ylabel('True Label')\n",
    "plt.title('Confusion Matrix')\n",
    "plt.savefig('CM_AE_SVM_age.png')\n"
   ]
  }
 ],
 "metadata": {
  "kernelspec": {
   "display_name": "base",
   "language": "python",
   "name": "python3"
  },
  "language_info": {
   "codemirror_mode": {
    "name": "ipython",
    "version": 3
   },
   "file_extension": ".py",
   "mimetype": "text/x-python",
   "name": "python",
   "nbconvert_exporter": "python",
   "pygments_lexer": "ipython3",
   "version": "3.9.12"
  },
  "orig_nbformat": 4
 },
 "nbformat": 4,
 "nbformat_minor": 2
}
