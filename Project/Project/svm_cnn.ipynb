{
 "cells": [
  {
   "cell_type": "code",
   "execution_count": 85,
   "metadata": {},
   "outputs": [],
   "source": [
    "import numpy as np\n",
    "import pandas as pd \n",
    "import os\n",
    "import cv2\n",
    "from sklearn.svm import SVC\n",
    "from skimage.feature import hog\n",
    "import matplotlib.pyplot as plt\n",
    "from sklearn.model_selection import train_test_split\n",
    "from sklearn.svm import SVC\n",
    "from skimage.color import rgb2gray\n",
    "import tensorflow as tf\n",
    "from keras.models import Sequential\n",
    "from keras.layers import Convolution2D, MaxPooling2D, Flatten, Dense, Dropout, GlobalAveragePooling2D\n",
    "from keras.applications import VGG16\n",
    "from skimage.feature import hog\n",
    "from skimage import data, exposure\n",
    "import random\n",
    "from keras import layers, losses\n",
    "from keras.models import Model\n",
    "from sklearn.metrics import classification_report, accuracy_score, matthews_corrcoef, confusion_matrix\n",
    "from sklearn.model_selection import GridSearchCV\n",
    "from sklearn.metrics import classification_report\n",
    "import seaborn as sns\n",
    "from sklearn.multiclass import OneVsRestClassifier\n",
    "from sklearn.svm import SVC\n",
    "import math\n",
    "from keras.utils.np_utils import to_categorical\n",
    "from sklearn.metrics import classification_report, confusion_matrix\n"
   ]
  },
  {
   "attachments": {},
   "cell_type": "markdown",
   "metadata": {},
   "source": [
    "#é boa ideia fazermos transfer learning sem peso computacional do nosso lado nesta parte ao usarmos CNNs com weights pretreinados?\n",
    "\n",
    "#\n",
    "#----\n",
    "\n",
    "#lista topicos para prof:\n",
    "#onde colocar o nosso dataset para usar no servidor\n",
    "#como ter um registo acessivel por nos dos outputs\n",
    "#opiniao do prof sobre nossos metodos de extracao de features\n",
    "#falar sobre orb e problemas que existem a tentar usar como metodo de extracao de feats\n",
    "\n",
    "#----\n",
    "#respostas:\n",
    "#no servidor\n",
    "#descer no less teste.py com space e subir para topo com b\n",
    "#q para sair\n",
    "\n",
    "#o que temos agora não é transfer learning\n",
    "\n",
    "#testar autoencoder para feat. extract. (secalhar preferivel a orb)\n",
    "#---- "
   ]
  },
  {
   "cell_type": "markdown",
   "metadata": {},
   "source": [
    "## Data"
   ]
  },
  {
   "cell_type": "code",
   "execution_count": 86,
   "metadata": {},
   "outputs": [
    {
     "name": "stdout",
     "output_type": "stream",
     "text": [
      "Total samples: 23708\n",
      "100_0_0_20170112213500903.jpg.chip.jpg\n"
     ]
    }
   ],
   "source": [
    "#path martim\n",
    "path = \"../../../../DadosProj/UTKFace/\"\n",
    "#path alex\n",
    "#path = \"../../../data_project/UTKFace/\"\n",
    "\n",
    "files = os.listdir(path)\n",
    "size = len(files)\n",
    "print(\"Total samples:\",size)\n",
    "print(files[0])"
   ]
  },
  {
   "cell_type": "markdown",
   "metadata": {},
   "source": [
    "### Extraction with PreProcessing"
   ]
  },
  {
   "cell_type": "markdown",
   "metadata": {},
   "source": [
    "**Changes to images with opencv methods**\n",
    "\n",
    "- Obtain better contrast for images normalizing the ranges for colors for a pixel between 0 and 255\n",
    " - instance = cv2.normalize(instance, None, alpha=0, beta=255, norm_type=cv2.NORM_MINMAX)\n",
    "\n",
    "- Converting to YUV color model, equalizing color histogram to modify \n",
    "- distribution of colors taking luminosity into account and\n",
    "- reconverting to RBG after doing histogram equalization\n",
    "    - img_yuv = cv2.cvtColor(instance, cv2.COLOR_BGR2YUV)\n",
    "    - img_yuv[:,:,0] = cv2.equalizeHist(img_yuv[:,:,0])\n",
    "    - instance = cv2.cvtColor(img_yuv, cv2.COLOR_YUV2BGR)"
   ]
  },
  {
   "cell_type": "code",
   "execution_count": 87,
   "metadata": {},
   "outputs": [],
   "source": [
    "images = []\n",
    "ages = []\n",
    "genders = []\n",
    "ethnicities = []\n",
    "counter = 0\n",
    "\n",
    "for file in files:\n",
    "    if counter == 1000:\n",
    "        break\n",
    "    \n",
    "    image = cv2.imread(path+file)\n",
    "    image = cv2.cvtColor(image, cv2.COLOR_BGR2RGB)\n",
    "    image = cv2.resize(image, dsize=(200, 200))\n",
    "    image = image.reshape((image.shape[0], image.shape[1], 3)) ### A ausencia deste ponto  estava a causar o erro no ORB\n",
    "    #image = image / 255.0 #normalizing values on each point \n",
    "    \n",
    "    images.append(image)\n",
    "    delimit = file.split('_')\n",
    "    ages.append(int(delimit[0]))\n",
    "    # first number is age (0-116 possible values)\n",
    "    genders.append(int(delimit[1]))\n",
    "    # second number is gender (0 for male, 1 for female)\n",
    "    #ethnicities.append(int(delimit[2]))\n",
    "    # third number is ethnicity (0 for white, 1 for black, 2 for asian, 3 for indian, 4 for any other ethnicity)\n",
    "\n",
    "    counter += 1"
   ]
  },
  {
   "cell_type": "code",
   "execution_count": 88,
   "metadata": {},
   "outputs": [
    {
     "data": {
      "text/plain": [
       "(1000, 200, 200, 3)"
      ]
     },
     "execution_count": 88,
     "metadata": {},
     "output_type": "execute_result"
    }
   ],
   "source": [
    "X = np.squeeze(images)\n",
    "X.shape"
   ]
  },
  {
   "attachments": {},
   "cell_type": "markdown",
   "metadata": {},
   "source": [
    "### Age Classes\n",
    "Classes choosen based on [US National Institute of Health](https://www.nih.gov/nih-style-guide/age):\n",
    "\n",
    "- Neonates or newborns (birth to 1 month)\n",
    "- Infants (1 month to 1 year)\n",
    "- Children (1 year through 12 years)\n",
    "- Adolescents (13 years through 17 years. They may also be referred to as teenagers depending on the context.)\n",
    "- Adults (18 years or older)\n",
    "- Older adults (65 and older)"
   ]
  },
  {
   "cell_type": "code",
   "execution_count": 89,
   "metadata": {},
   "outputs": [
    {
     "name": "stdout",
     "output_type": "stream",
     "text": [
      "<class 'list'>\n",
      "1000\n",
      "[100, 101, 103, 105, 10, 11, 12, 13, 110, 111, 14, 15, 16, 115, 116]\n"
     ]
    }
   ],
   "source": [
    "print(type(ages))\n",
    "print(len(ages))\n",
    "unique_values = list(set(ages))\n",
    "print(unique_values)"
   ]
  },
  {
   "cell_type": "code",
   "execution_count": 90,
   "metadata": {},
   "outputs": [],
   "source": [
    "age_classes = []\n",
    "for i in ages:\n",
    "    i = int(i)\n",
    "    if i <= 1:\n",
    "        age_classes.append(0)\n",
    "    if (i>1) and (i<=13):\n",
    "        age_classes.append(1)\n",
    "    if (i>13) and (i<17):\n",
    "        age_classes.append(2)\n",
    "    if (i>=17) and (i<30):\n",
    "        age_classes.append(3)\n",
    "    if (i>=30) and (i<60):\n",
    "        age_classes.append(4)\n",
    "    if i>=60:\n",
    "        age_classes.append(5)"
   ]
  },
  {
   "cell_type": "code",
   "execution_count": 91,
   "metadata": {},
   "outputs": [],
   "source": [
    "age_labels =[\"Baby\",   # index 0\n",
    "        \"Infant\",      # index 1\n",
    "        \"Adolescent\",  # index 2 \n",
    "        \"Young Adult\", # index 3 \n",
    "        \"Adult\"        # index 4\n",
    "        \"Old Adult\",   # index 5\n",
    "        ]"
   ]
  },
  {
   "cell_type": "code",
   "execution_count": 92,
   "metadata": {},
   "outputs": [
    {
     "data": {
      "text/plain": [
       "array([[0., 0., 0., 0., 0., 1.],\n",
       "       [0., 0., 0., 0., 0., 1.],\n",
       "       [0., 0., 0., 0., 0., 1.],\n",
       "       [0., 0., 0., 0., 0., 1.],\n",
       "       [0., 0., 0., 0., 0., 1.],\n",
       "       [0., 0., 0., 0., 0., 1.],\n",
       "       [0., 0., 0., 0., 0., 1.],\n",
       "       [0., 0., 0., 0., 0., 1.],\n",
       "       [0., 0., 0., 0., 0., 1.],\n",
       "       [0., 0., 0., 0., 0., 1.],\n",
       "       [0., 0., 0., 0., 0., 1.],\n",
       "       [0., 0., 0., 0., 0., 1.],\n",
       "       [0., 0., 0., 0., 0., 1.],\n",
       "       [0., 0., 0., 0., 0., 1.],\n",
       "       [0., 0., 0., 0., 0., 1.],\n",
       "       [0., 0., 0., 0., 0., 1.],\n",
       "       [0., 0., 0., 0., 0., 1.],\n",
       "       [0., 0., 0., 0., 0., 1.],\n",
       "       [0., 0., 0., 0., 0., 1.],\n",
       "       [0., 1., 0., 0., 0., 0.]], dtype=float32)"
      ]
     },
     "execution_count": 92,
     "metadata": {},
     "output_type": "execute_result"
    }
   ],
   "source": [
    "age_categories = to_categorical(age_classes, num_classes=6)\n",
    "age_categories[:20]"
   ]
  },
  {
   "cell_type": "code",
   "execution_count": 93,
   "metadata": {},
   "outputs": [
    {
     "name": "stdout",
     "output_type": "stream",
     "text": [
      "1000\n",
      "<class 'list'>\n",
      "[1, 2, 5]\n"
     ]
    }
   ],
   "source": [
    "print(len(age_classes))\n",
    "print(type(age_classes))\n",
    "unique_values = list(set(age_classes))\n",
    "print(unique_values)"
   ]
  },
  {
   "cell_type": "code",
   "execution_count": 94,
   "metadata": {},
   "outputs": [
    {
     "data": {
      "image/png": "[encoded data removed]",
      "text/plain": [
       "<Figure size 640x480 with 1 Axes>"
      ]
     },
     "metadata": {},
     "output_type": "display_data"
    },
    {
     "name": "stdout",
     "output_type": "stream",
     "text": [
      "Max value: 1\n"
     ]
    }
   ],
   "source": [
    "x_genders = list(set(genders))\n",
    "y_genders= [genders.count(i) for i in x_genders]\n",
    "plt.bar(x_genders,y_genders)\n",
    "plt.show()\n",
    "print(\"Max value:\",max(genders))"
   ]
  },
  {
   "cell_type": "code",
   "execution_count": 95,
   "metadata": {},
   "outputs": [
    {
     "data": {
      "image/png": "[encoded data removed]",
      "text/plain": [
       "<Figure size 640x480 with 1 Axes>"
      ]
     },
     "metadata": {},
     "output_type": "display_data"
    },
    {
     "name": "stdout",
     "output_type": "stream",
     "text": [
      "Max value: 5\n"
     ]
    }
   ],
   "source": [
    "x_ages = list(set(age_classes))\n",
    "y_ages = [age_classes.count(i) for i in x_ages]\n",
    "plt.bar(x_ages,y_ages)\n",
    "plt.show()\n",
    "print(\"Max value:\",max(age_classes))"
   ]
  },
  {
   "cell_type": "code",
   "execution_count": 96,
   "metadata": {},
   "outputs": [
    {
     "name": "stdout",
     "output_type": "stream",
     "text": [
      "age\n",
      " 2    536\n",
      "1    432\n",
      "5     32\n",
      "Name: age, dtype: int64\n",
      "gender\n",
      " 1    504\n",
      "0    496\n",
      "Name: gender, dtype: int64\n"
     ]
    }
   ],
   "source": [
    "img_all = pd.DataFrame()\n",
    "img_all[\"age\"] = age_classes\n",
    "img_all[\"gender\"] = genders\n",
    "\n",
    "img_gender = pd.DataFrame()\n",
    "img_gender[\"gender\"] = genders\n",
    "\n",
    "img_age = pd.DataFrame()\n",
    "img_age[\"age\"] = age_classes\n",
    "\n",
    "print(\"age\\n\", img_age.age.value_counts())\n",
    "print(\"gender\\n\", img_gender.gender.value_counts())"
   ]
  },
  {
   "cell_type": "code",
   "execution_count": 97,
   "metadata": {},
   "outputs": [
    {
     "name": "stdout",
     "output_type": "stream",
     "text": [
      "Gender Class: 1 Age Class: 5\n"
     ]
    },
    {
     "data": {
      "image/png": "[encoded data removed]",
      "text/plain": [
       "<Figure size 640x480 with 1 Axes>"
      ]
     },
     "metadata": {},
     "output_type": "display_data"
    }
   ],
   "source": [
    "def display(img):\n",
    "    plt.imshow(img)\n",
    "    plt.show()\n",
    "    \n",
    "idx = 9\n",
    "if idx < len(images):\n",
    "    sample = images[idx]\n",
    "    print(\"Gender Class:\", genders[idx], \"Age Class:\", age_classes[idx])\n",
    "    display(sample)\n",
    "else:\n",
    "    print(f\"Index {idx} is out of range for the list of {len(images)} images\")"
   ]
  },
  {
   "attachments": {},
   "cell_type": "markdown",
   "metadata": {},
   "source": [
    "## Base SVM"
   ]
  },
  {
   "cell_type": "code",
   "execution_count": 192,
   "metadata": {},
   "outputs": [
    {
     "name": "stdout",
     "output_type": "stream",
     "text": [
      "(100, 120000)\n"
     ]
    }
   ],
   "source": [
    "flattened_images = []\n",
    "\n",
    "for image in images:\n",
    "    flattened_image = image.flatten()\n",
    "    flattened_images.append(flattened_image)\n",
    "\n",
    "flattened_images_array = np.array(flattened_images)\n",
    "\n",
    "print(flattened_images_array.shape)"
   ]
  },
  {
   "cell_type": "code",
   "execution_count": 193,
   "metadata": {},
   "outputs": [
    {
     "name": "stdout",
     "output_type": "stream",
     "text": [
      "Descriptor array 0 shape: (120000,)\n",
      "Descriptor array 1 shape: (120000,)\n",
      "Descriptor array 2 shape: (120000,)\n",
      "Descriptor array 3 shape: (120000,)\n",
      "Descriptor array 4 shape: (120000,)\n",
      "Descriptor array 5 shape: (120000,)\n",
      "Descriptor array 6 shape: (120000,)\n",
      "Descriptor array 7 shape: (120000,)\n",
      "Descriptor array 8 shape: (120000,)\n",
      "Descriptor array 9 shape: (120000,)\n",
      "Descriptor array 10 shape: (120000,)\n",
      "Descriptor array 11 shape: (120000,)\n",
      "Descriptor array 12 shape: (120000,)\n",
      "Descriptor array 13 shape: (120000,)\n",
      "Descriptor array 14 shape: (120000,)\n",
      "Descriptor array 15 shape: (120000,)\n",
      "Descriptor array 16 shape: (120000,)\n",
      "Descriptor array 17 shape: (120000,)\n",
      "Descriptor array 18 shape: (120000,)\n",
      "Descriptor array 19 shape: (120000,)\n",
      "Descriptor array 20 shape: (120000,)\n",
      "Descriptor array 21 shape: (120000,)\n",
      "Descriptor array 22 shape: (120000,)\n",
      "Descriptor array 23 shape: (120000,)\n",
      "Descriptor array 24 shape: (120000,)\n",
      "Descriptor array 25 shape: (120000,)\n",
      "Descriptor array 26 shape: (120000,)\n",
      "Descriptor array 27 shape: (120000,)\n",
      "Descriptor array 28 shape: (120000,)\n",
      "Descriptor array 29 shape: (120000,)\n",
      "Descriptor array 30 shape: (120000,)\n",
      "Descriptor array 31 shape: (120000,)\n",
      "Descriptor array 32 shape: (120000,)\n",
      "Descriptor array 33 shape: (120000,)\n",
      "Descriptor array 34 shape: (120000,)\n",
      "Descriptor array 35 shape: (120000,)\n",
      "Descriptor array 36 shape: (120000,)\n",
      "Descriptor array 37 shape: (120000,)\n",
      "Descriptor array 38 shape: (120000,)\n",
      "Descriptor array 39 shape: (120000,)\n",
      "Descriptor array 40 shape: (120000,)\n",
      "Descriptor array 41 shape: (120000,)\n",
      "Descriptor array 42 shape: (120000,)\n",
      "Descriptor array 43 shape: (120000,)\n",
      "Descriptor array 44 shape: (120000,)\n",
      "Descriptor array 45 shape: (120000,)\n",
      "Descriptor array 46 shape: (120000,)\n",
      "Descriptor array 47 shape: (120000,)\n",
      "Descriptor array 48 shape: (120000,)\n",
      "Descriptor array 49 shape: (120000,)\n",
      "Descriptor array 50 shape: (120000,)\n",
      "Descriptor array 51 shape: (120000,)\n",
      "Descriptor array 52 shape: (120000,)\n",
      "Descriptor array 53 shape: (120000,)\n",
      "Descriptor array 54 shape: (120000,)\n",
      "Descriptor array 55 shape: (120000,)\n",
      "Descriptor array 56 shape: (120000,)\n",
      "Descriptor array 57 shape: (120000,)\n",
      "Descriptor array 58 shape: (120000,)\n",
      "Descriptor array 59 shape: (120000,)\n",
      "Descriptor array 60 shape: (120000,)\n",
      "Descriptor array 61 shape: (120000,)\n",
      "Descriptor array 62 shape: (120000,)\n",
      "Descriptor array 63 shape: (120000,)\n",
      "Descriptor array 64 shape: (120000,)\n",
      "Descriptor array 65 shape: (120000,)\n",
      "Descriptor array 66 shape: (120000,)\n",
      "Descriptor array 67 shape: (120000,)\n",
      "Descriptor array 68 shape: (120000,)\n",
      "Descriptor array 69 shape: (120000,)\n",
      "Descriptor array 70 shape: (120000,)\n",
      "Descriptor array 71 shape: (120000,)\n",
      "Descriptor array 72 shape: (120000,)\n",
      "Descriptor array 73 shape: (120000,)\n",
      "Descriptor array 74 shape: (120000,)\n",
      "Descriptor array 75 shape: (120000,)\n",
      "Descriptor array 76 shape: (120000,)\n",
      "Descriptor array 77 shape: (120000,)\n",
      "Descriptor array 78 shape: (120000,)\n",
      "Descriptor array 79 shape: (120000,)\n",
      "Descriptor array 80 shape: (120000,)\n",
      "Descriptor array 81 shape: (120000,)\n",
      "Descriptor array 82 shape: (120000,)\n",
      "Descriptor array 83 shape: (120000,)\n",
      "Descriptor array 84 shape: (120000,)\n",
      "Descriptor array 85 shape: (120000,)\n",
      "Descriptor array 86 shape: (120000,)\n",
      "Descriptor array 87 shape: (120000,)\n",
      "Descriptor array 88 shape: (120000,)\n",
      "Descriptor array 89 shape: (120000,)\n",
      "Descriptor array 90 shape: (120000,)\n",
      "Descriptor array 91 shape: (120000,)\n",
      "Descriptor array 92 shape: (120000,)\n",
      "Descriptor array 93 shape: (120000,)\n",
      "Descriptor array 94 shape: (120000,)\n",
      "Descriptor array 95 shape: (120000,)\n",
      "Descriptor array 96 shape: (120000,)\n",
      "Descriptor array 97 shape: (120000,)\n",
      "Descriptor array 98 shape: (120000,)\n",
      "Descriptor array 99 shape: (120000,)\n"
     ]
    }
   ],
   "source": [
    "for i, arr in enumerate(flattened_images_array):\n",
    "    print(f\"Descriptor array {i} shape: {arr.shape}\")"
   ]
  },
  {
   "attachments": {},
   "cell_type": "markdown",
   "metadata": {},
   "source": [
    "### gender"
   ]
  },
  {
   "cell_type": "code",
   "execution_count": 206,
   "metadata": {},
   "outputs": [
    {
     "name": "stdout",
     "output_type": "stream",
     "text": [
      "Samples in Training: 80\n",
      "Samples in Testing: 20\n"
     ]
    }
   ],
   "source": [
    "X_train, X_test, y_train, y_test = train_test_split(flattened_images_array, genders, test_size=0.2, random_state=42)\n",
    "print(\"Samples in Training:\",X_train.shape[0])\n",
    "print(\"Samples in Testing:\",X_test.shape[0])"
   ]
  },
  {
   "cell_type": "code",
   "execution_count": 208,
   "metadata": {},
   "outputs": [
    {
     "name": "stdout",
     "output_type": "stream",
     "text": [
      "MCC:  0.0\n",
      "              precision    recall  f1-score   support\n",
      "\n",
      "           0       0.80      1.00      0.89        16\n",
      "           1       0.00      0.00      0.00         4\n",
      "\n",
      "    accuracy                           0.80        20\n",
      "   macro avg       0.40      0.50      0.44        20\n",
      "weighted avg       0.64      0.80      0.71        20\n",
      "\n"
     ]
    },
    {
     "name": "stderr",
     "output_type": "stream",
     "text": [
      "c:\\Users\\afbso\\anaconda3\\lib\\site-packages\\sklearn\\metrics\\_classification.py:1318: UndefinedMetricWarning: Precision and F-score are ill-defined and being set to 0.0 in labels with no predicted samples. Use `zero_division` parameter to control this behavior.\n",
      "  _warn_prf(average, modifier, msg_start, len(result))\n",
      "c:\\Users\\afbso\\anaconda3\\lib\\site-packages\\sklearn\\metrics\\_classification.py:1318: UndefinedMetricWarning: Precision and F-score are ill-defined and being set to 0.0 in labels with no predicted samples. Use `zero_division` parameter to control this behavior.\n",
      "  _warn_prf(average, modifier, msg_start, len(result))\n",
      "c:\\Users\\afbso\\anaconda3\\lib\\site-packages\\sklearn\\metrics\\_classification.py:1318: UndefinedMetricWarning: Precision and F-score are ill-defined and being set to 0.0 in labels with no predicted samples. Use `zero_division` parameter to control this behavior.\n",
      "  _warn_prf(average, modifier, msg_start, len(result))\n"
     ]
    },
    {
     "data": {
      "image/png": "[encoded data removed]",
      "text/plain": [
       "<Figure size 432x288 with 2 Axes>"
      ]
     },
     "metadata": {
      "needs_background": "light"
     },
     "output_type": "display_data"
    }
   ],
   "source": [
    "clf = SVC()\n",
    "clf.fit(X_train, y_train)\n",
    "\n",
    "# Evaluate the classifier on the testing data\n",
    "y_pred = clf.predict(X_test)\n",
    "\n",
    "mcc = matthews_corrcoef(y_test, y_pred)\n",
    "#accuracy = accuracy_score(y_test, y_pred)\n",
    "print(\"MCC: \", mcc)\n",
    "#print(\"Accuracy: \", accuracy)\n",
    "print(classification_report(y_test, y_pred))\n",
    "#confusion_matrix(y_test, y_pred)\n",
    "\n",
    "labelGender = list(set(genders))\n",
    "\n",
    "# assume y_true and y_pred are the true and predicted labels, respectively\n",
    "cm = confusion_matrix(y_test, y_pred)\n",
    "\n",
    "# create a heatmap of the confusion matrix using seaborn\n",
    "sns.heatmap(cm, annot=True, cmap=\"Blues\", fmt=\"d\", xticklabels=labelGender, yticklabels=labelGender)\n",
    "\n",
    "# set plot labels and title\n",
    "plt.xlabel('Predicted Label')\n",
    "plt.ylabel('True Label')\n",
    "plt.title('Confusion Matrix')\n",
    "\n",
    "plt.show()"
   ]
  },
  {
   "attachments": {},
   "cell_type": "markdown",
   "metadata": {},
   "source": [
    "### age"
   ]
  },
  {
   "cell_type": "code",
   "execution_count": 210,
   "metadata": {},
   "outputs": [],
   "source": [
    "X_train, X_test, y_train, y_test = train_test_split(flattened_images_array, age_categories, test_size=0.2, random_state=42)\n",
    "#print(\"Samples in Training:\",X_train.shape[0])\n",
    "#print(\"Samples in Testing:\",X_test.shape[0])"
   ]
  },
  {
   "cell_type": "code",
   "execution_count": 214,
   "metadata": {},
   "outputs": [
    {
     "name": "stderr",
     "output_type": "stream",
     "text": [
      "c:\\Users\\afbso\\anaconda3\\lib\\site-packages\\sklearn\\multiclass.py:79: UserWarning: Label not 0 is present in all training examples.\n",
      "  warnings.warn(\n",
      "c:\\Users\\afbso\\anaconda3\\lib\\site-packages\\sklearn\\multiclass.py:79: UserWarning: Label not 2 is present in all training examples.\n",
      "  warnings.warn(\n",
      "c:\\Users\\afbso\\anaconda3\\lib\\site-packages\\sklearn\\multiclass.py:79: UserWarning: Label not 3 is present in all training examples.\n",
      "  warnings.warn(\n",
      "c:\\Users\\afbso\\anaconda3\\lib\\site-packages\\sklearn\\multiclass.py:79: UserWarning: Label not 4 is present in all training examples.\n",
      "  warnings.warn(\n"
     ]
    },
    {
     "name": "stdout",
     "output_type": "stream",
     "text": [
      "MCC:  0.28867513459481287\n",
      "              precision    recall  f1-score   support\n",
      "\n",
      "           0       0.00      0.00      0.00         0\n",
      "           1       0.83      1.00      0.91        15\n",
      "           5       0.00      0.00      0.00         5\n",
      "\n",
      "    accuracy                           0.75        20\n",
      "   macro avg       0.28      0.33      0.30        20\n",
      "weighted avg       0.62      0.75      0.68        20\n",
      "\n",
      "[[ 0  0  0]\n",
      " [ 0 15  0]\n",
      " [ 2  3  0]]\n"
     ]
    },
    {
     "name": "stderr",
     "output_type": "stream",
     "text": [
      "c:\\Users\\afbso\\anaconda3\\lib\\site-packages\\sklearn\\metrics\\_classification.py:1318: UndefinedMetricWarning: Precision and F-score are ill-defined and being set to 0.0 in labels with no predicted samples. Use `zero_division` parameter to control this behavior.\n",
      "  _warn_prf(average, modifier, msg_start, len(result))\n",
      "c:\\Users\\afbso\\anaconda3\\lib\\site-packages\\sklearn\\metrics\\_classification.py:1318: UndefinedMetricWarning: Recall and F-score are ill-defined and being set to 0.0 in labels with no true samples. Use `zero_division` parameter to control this behavior.\n",
      "  _warn_prf(average, modifier, msg_start, len(result))\n",
      "c:\\Users\\afbso\\anaconda3\\lib\\site-packages\\sklearn\\metrics\\_classification.py:1318: UndefinedMetricWarning: Precision and F-score are ill-defined and being set to 0.0 in labels with no predicted samples. Use `zero_division` parameter to control this behavior.\n",
      "  _warn_prf(average, modifier, msg_start, len(result))\n",
      "c:\\Users\\afbso\\anaconda3\\lib\\site-packages\\sklearn\\metrics\\_classification.py:1318: UndefinedMetricWarning: Recall and F-score are ill-defined and being set to 0.0 in labels with no true samples. Use `zero_division` parameter to control this behavior.\n",
      "  _warn_prf(average, modifier, msg_start, len(result))\n",
      "c:\\Users\\afbso\\anaconda3\\lib\\site-packages\\sklearn\\metrics\\_classification.py:1318: UndefinedMetricWarning: Precision and F-score are ill-defined and being set to 0.0 in labels with no predicted samples. Use `zero_division` parameter to control this behavior.\n",
      "  _warn_prf(average, modifier, msg_start, len(result))\n",
      "c:\\Users\\afbso\\anaconda3\\lib\\site-packages\\sklearn\\metrics\\_classification.py:1318: UndefinedMetricWarning: Recall and F-score are ill-defined and being set to 0.0 in labels with no true samples. Use `zero_division` parameter to control this behavior.\n",
      "  _warn_prf(average, modifier, msg_start, len(result))\n"
     ]
    }
   ],
   "source": [
    "clf = OneVsRestClassifier(SVC())\n",
    "clf.fit(X_train, y_train)\n",
    "\n",
    "# Convert one-hot encoded labels to integer form\n",
    "y_pred = clf.predict(X_test)\n",
    "\n",
    "y_test_int = np.argmax(y_test, axis=1)\n",
    "y_pred_int = np.argmax(y_pred, axis=1)\n",
    "\n",
    "# Print classification report and confusion matrix\n",
    "\n",
    "mcc = matthews_corrcoef(y_test_int, y_pred_int)\n",
    "#accuracy = accuracy_score(y_test, y_pred)\n",
    "print(\"MCC: \", mcc)\n",
    "print(classification_report(y_test_int, y_pred_int))\n",
    "print(confusion_matrix(y_test_int, y_pred_int))"
   ]
  },
  {
   "attachments": {},
   "cell_type": "markdown",
   "metadata": {},
   "source": [
    "## Base CNN "
   ]
  },
  {
   "attachments": {},
   "cell_type": "markdown",
   "metadata": {},
   "source": [
    "### age"
   ]
  },
  {
   "cell_type": "code",
   "execution_count": 21,
   "metadata": {},
   "outputs": [],
   "source": [
    "X_train, X_test, y_train, y_test = train_test_split(X, age_categories, test_size=0.2,shuffle  = True)"
   ]
  },
  {
   "cell_type": "code",
   "execution_count": 61,
   "metadata": {},
   "outputs": [],
   "source": [
    "def CNN (input_shape, output, activation):\n",
    "    model = tf.keras.Sequential()\n",
    "\n",
    "    # Must define the input shape in the first layer of the neural network\n",
    "    \n",
    "    model.add(tf.keras.layers.Conv2D(filters=64, kernel_size=2, padding='same', activation='relu', input_shape = input_shape)) \n",
    "    model.add(tf.keras.layers.MaxPooling2D(pool_size=2))\n",
    "    model.add(tf.keras.layers.Dropout(0.3))\n",
    "\n",
    "    model.add(tf.keras.layers.Conv2D(filters=32, kernel_size=2, padding='same', activation='relu'))\n",
    "    model.add(tf.keras.layers.MaxPooling2D(pool_size=2))\n",
    "    model.add(tf.keras.layers.Dropout(0.3))\n",
    "\n",
    "    model.add(tf.keras.layers.Flatten())\n",
    "    model.add(tf.keras.layers.Dense(256, activation='relu'))\n",
    "    model.add(tf.keras.layers.Dropout(0.5))\n",
    "    model.add(tf.keras.layers.Dense(output, activation=activation))\n",
    "    \n",
    "    model.summary()\n",
    "    \n",
    "    return model"
   ]
  },
  {
   "cell_type": "code",
   "execution_count": 24,
   "metadata": {},
   "outputs": [
    {
     "name": "stdout",
     "output_type": "stream",
     "text": [
      "Model: \"sequential_2\"\n",
      "_________________________________________________________________\n",
      " Layer (type)                Output Shape              Param #   \n",
      "=================================================================\n",
      " conv2d_4 (Conv2D)           (None, 200, 200, 64)      832       \n",
      "                                                                 \n",
      " max_pooling2d_4 (MaxPooling  (None, 100, 100, 64)     0         \n",
      " 2D)                                                             \n",
      "                                                                 \n",
      " dropout_6 (Dropout)         (None, 100, 100, 64)      0         \n",
      "                                                                 \n",
      " conv2d_5 (Conv2D)           (None, 100, 100, 32)      8224      \n",
      "                                                                 \n",
      " max_pooling2d_5 (MaxPooling  (None, 50, 50, 32)       0         \n",
      " 2D)                                                             \n",
      "                                                                 \n",
      " dropout_7 (Dropout)         (None, 50, 50, 32)        0         \n",
      "                                                                 \n",
      " flatten_2 (Flatten)         (None, 80000)             0         \n",
      "                                                                 \n",
      " dense_4 (Dense)             (None, 256)               20480256  \n",
      "                                                                 \n",
      " dropout_8 (Dropout)         (None, 256)               0         \n",
      "                                                                 \n",
      " dense_5 (Dense)             (None, 6)                 1542      \n",
      "                                                                 \n",
      "=================================================================\n",
      "Total params: 20,490,854\n",
      "Trainable params: 20,490,854\n",
      "Non-trainable params: 0\n",
      "_________________________________________________________________\n"
     ]
    }
   ],
   "source": [
    "model = CNN((200,200,3), 6, 'softmax')"
   ]
  },
  {
   "cell_type": "code",
   "execution_count": 25,
   "metadata": {},
   "outputs": [
    {
     "name": "stdout",
     "output_type": "stream",
     "text": [
      "Epoch 1/2\n",
      "10/10 [==============================] - 6s 458ms/step - loss: 1.8663 - accuracy: 0.7125 - val_loss: 1.1928 - val_accuracy: 0.8000\n",
      "Epoch 2/2\n",
      "10/10 [==============================] - 4s 410ms/step - loss: 0.7426 - accuracy: 0.7750 - val_loss: 1.5840 - val_accuracy: 0.8000\n"
     ]
    }
   ],
   "source": [
    "model.compile(loss='categorical_crossentropy',\n",
    "            optimizer='adam',\n",
    "            metrics=['accuracy'])\n",
    "\n",
    "history_base_age = model.fit(X_train, y_train,\n",
    "        batch_size=8,\n",
    "        epochs=2,\n",
    "        validation_data=(X_test, y_test),)"
   ]
  },
  {
   "cell_type": "code",
   "execution_count": 55,
   "metadata": {},
   "outputs": [],
   "source": [
    "def cnn_metrics (model, X_test, y_test, classes):\n",
    "    preds = []\n",
    "    truth = []\n",
    "    y_hat = model.predict(X_test)\n",
    "\n",
    "    for i in range(X_test.shape[0]):\n",
    "        \n",
    "        predict_index = np.argmax(y_hat[i])\n",
    "        preds.append(predict_index) \n",
    "        \n",
    "        true_index = np.argmax(y_test[i])\n",
    "        truth.append(true_index)\n",
    "        \n",
    "    mcc = matthews_corrcoef(truth, preds)\n",
    "    print(\"MCC: \", mcc)\n",
    "\n",
    "    label = list(set(classes))\n",
    "\n",
    "    cm = confusion_matrix(truth, preds)\n",
    "\n",
    "    sns.heatmap(cm, annot=True, cmap=\"Blues\", fmt=\"d\", xticklabels=label, yticklabels=label)\n",
    "\n",
    "    plt.xlabel('Predicted Label')\n",
    "    plt.ylabel('True Label')\n",
    "    plt.title('Confusion Matrix')\n",
    "\n",
    "    plt.show()\n",
    "\n",
    "    print(classification_report(truth, preds))\n",
    "    \n",
    "    \"\"\" y_hat = model.predict(X_test)\n",
    "\n",
    "    # Plot a random sample of 10 test images, their predicted labels and ground truth\n",
    "    figure = plt.figure(figsize=(20, 8))\n",
    "    for i, index in enumerate(np.random.choice(x_test.shape[0], size=15, replace=False)):\n",
    "        ax = figure.add_subplot(3, 5, i + 1, xticks=[], yticks=[])\n",
    "        # Display each image\n",
    "        ax.imshow(np.squeeze(x_test[index]))\n",
    "        predict_index = np.argmax(y_hat[index])\n",
    "        #print(predict_index)\n",
    "        true_index = np.argmax(y_test[index])\n",
    "        #print(true_index)\n",
    "        # Set the title for each image\n",
    "        ax.set_title(\"{} ({})\".format(labels[predict_index], \n",
    "                                    labels[true_index]),\n",
    "                                    color=(\"green\" if predict_index == true_index else \"red\"))\"\"\""
   ]
  },
  {
   "cell_type": "code",
   "execution_count": 27,
   "metadata": {},
   "outputs": [
    {
     "name": "stdout",
     "output_type": "stream",
     "text": [
      "1/1 [==============================] - 0s 269ms/step\n",
      "MCC:  0.0\n"
     ]
    },
    {
     "data": {
      "image/png": "[encoded data removed]",
      "text/plain": [
       "<Figure size 432x288 with 2 Axes>"
      ]
     },
     "metadata": {
      "needs_background": "light"
     },
     "output_type": "display_data"
    },
    {
     "name": "stdout",
     "output_type": "stream",
     "text": [
      "              precision    recall  f1-score   support\n",
      "\n",
      "           1       0.80      1.00      0.89        16\n",
      "           5       0.00      0.00      0.00         4\n",
      "\n",
      "    accuracy                           0.80        20\n",
      "   macro avg       0.40      0.50      0.44        20\n",
      "weighted avg       0.64      0.80      0.71        20\n",
      "\n"
     ]
    },
    {
     "name": "stderr",
     "output_type": "stream",
     "text": [
      "c:\\Users\\afbso\\anaconda3\\lib\\site-packages\\sklearn\\metrics\\_classification.py:1318: UndefinedMetricWarning: Precision and F-score are ill-defined and being set to 0.0 in labels with no predicted samples. Use `zero_division` parameter to control this behavior.\n",
      "  _warn_prf(average, modifier, msg_start, len(result))\n",
      "c:\\Users\\afbso\\anaconda3\\lib\\site-packages\\sklearn\\metrics\\_classification.py:1318: UndefinedMetricWarning: Precision and F-score are ill-defined and being set to 0.0 in labels with no predicted samples. Use `zero_division` parameter to control this behavior.\n",
      "  _warn_prf(average, modifier, msg_start, len(result))\n",
      "c:\\Users\\afbso\\anaconda3\\lib\\site-packages\\sklearn\\metrics\\_classification.py:1318: UndefinedMetricWarning: Precision and F-score are ill-defined and being set to 0.0 in labels with no predicted samples. Use `zero_division` parameter to control this behavior.\n",
      "  _warn_prf(average, modifier, msg_start, len(result))\n"
     ]
    }
   ],
   "source": [
    "cnn_metrics(X_test, y_test, age_classes)"
   ]
  },
  {
   "attachments": {},
   "cell_type": "markdown",
   "metadata": {},
   "source": [
    "### gender"
   ]
  },
  {
   "cell_type": "code",
   "execution_count": 50,
   "metadata": {},
   "outputs": [],
   "source": [
    "X_train, X_test, y_train, y_test = train_test_split(X, genders, test_size=0.2, random_state=42)"
   ]
  },
  {
   "cell_type": "code",
   "execution_count": 51,
   "metadata": {},
   "outputs": [],
   "source": [
    "X_train = np.asarray(X_train)\n",
    "y_train = np.asarray(y_train)\n",
    "\n",
    "X_test = np.asarray(X_test)\n",
    "y_test = np.asarray(y_test)"
   ]
  },
  {
   "cell_type": "code",
   "execution_count": 52,
   "metadata": {},
   "outputs": [
    {
     "data": {
      "text/plain": [
       "(80, 200, 200, 3)"
      ]
     },
     "execution_count": 52,
     "metadata": {},
     "output_type": "execute_result"
    }
   ],
   "source": [
    "X_train.shape"
   ]
  },
  {
   "cell_type": "code",
   "execution_count": 44,
   "metadata": {},
   "outputs": [
    {
     "name": "stdout",
     "output_type": "stream",
     "text": [
      "Model: \"sequential_7\"\n",
      "_________________________________________________________________\n",
      " Layer (type)                Output Shape              Param #   \n",
      "=================================================================\n",
      " conv2d_13 (Conv2D)          (None, 200, 200, 64)      832       \n",
      "                                                                 \n",
      " max_pooling2d_12 (MaxPoolin  (None, 100, 100, 64)     0         \n",
      " g2D)                                                            \n",
      "                                                                 \n",
      " dropout_18 (Dropout)        (None, 100, 100, 64)      0         \n",
      "                                                                 \n",
      " conv2d_14 (Conv2D)          (None, 100, 100, 32)      8224      \n",
      "                                                                 \n",
      " max_pooling2d_13 (MaxPoolin  (None, 50, 50, 32)       0         \n",
      " g2D)                                                            \n",
      "                                                                 \n",
      " dropout_19 (Dropout)        (None, 50, 50, 32)        0         \n",
      "                                                                 \n",
      " flatten_6 (Flatten)         (None, 80000)             0         \n",
      "                                                                 \n",
      " dense_12 (Dense)            (None, 256)               20480256  \n",
      "                                                                 \n",
      " dropout_20 (Dropout)        (None, 256)               0         \n",
      "                                                                 \n",
      " dense_13 (Dense)            (None, 1)                 257       \n",
      "                                                                 \n",
      "=================================================================\n",
      "Total params: 20,489,569\n",
      "Trainable params: 20,489,569\n",
      "Non-trainable params: 0\n",
      "_________________________________________________________________\n"
     ]
    }
   ],
   "source": [
    "model = CNN((200,200,3), 1, 'sigmoid')"
   ]
  },
  {
   "cell_type": "code",
   "execution_count": 33,
   "metadata": {},
   "outputs": [
    {
     "name": "stdout",
     "output_type": "stream",
     "text": [
      "Epoch 1/3\n",
      "3/3 [==============================] - 4s 976ms/step - loss: 5.8916 - val_loss: 5.0455\n",
      "Epoch 2/3\n",
      "3/3 [==============================] - 3s 883ms/step - loss: 4.4022 - val_loss: 0.5849\n",
      "Epoch 3/3\n",
      "3/3 [==============================] - 3s 837ms/step - loss: 1.2024 - val_loss: 0.5976\n"
     ]
    }
   ],
   "source": [
    "#for age use categorical_crossentropy instead\n",
    "model.compile(optimizer=\"adam\", loss=\"binary_crossentropy\")\n",
    "\n",
    "history_base_gender = model.fit(X_train, y_train,\n",
    "                    epochs=3,\n",
    "                    batch_size=32,\n",
    "                    validation_data=(X_test, y_test))"
   ]
  },
  {
   "cell_type": "code",
   "execution_count": 34,
   "metadata": {},
   "outputs": [
    {
     "name": "stdout",
     "output_type": "stream",
     "text": [
      "1/1 [==============================] - 0s 167ms/step\n",
      "MCC:  0.0\n"
     ]
    },
    {
     "data": {
      "image/png": "[encoded data removed]",
      "text/plain": [
       "<Figure size 432x288 with 2 Axes>"
      ]
     },
     "metadata": {
      "needs_background": "light"
     },
     "output_type": "display_data"
    },
    {
     "name": "stdout",
     "output_type": "stream",
     "text": [
      "              precision    recall  f1-score   support\n",
      "\n",
      "           0       1.00      1.00      1.00        20\n",
      "\n",
      "    accuracy                           1.00        20\n",
      "   macro avg       1.00      1.00      1.00        20\n",
      "weighted avg       1.00      1.00      1.00        20\n",
      "\n"
     ]
    }
   ],
   "source": [
    "cnn_metrics(X_test, y_test, genders)"
   ]
  },
  {
   "attachments": {},
   "cell_type": "markdown",
   "metadata": {},
   "source": [
    "## Feature extraction methods"
   ]
  },
  {
   "cell_type": "markdown",
   "metadata": {},
   "source": [
    "- Sure! This code extracts Histogram of Oriented Gradients (HOG) features from a list of preprocessed images, normalizes the features to have zero mean and unit variance, and stores them in a NumPy array called hog_features_norm"
   ]
  },
  {
   "cell_type": "code",
   "execution_count": 41,
   "metadata": {},
   "outputs": [],
   "source": [
    "#gray_images = np.array([rgb2gray(image) for image in images]) #just in case we need the images in greys"
   ]
  },
  {
   "cell_type": "markdown",
   "metadata": {},
   "source": [
    "### HOG"
   ]
  },
  {
   "cell_type": "code",
   "execution_count": 215,
   "metadata": {},
   "outputs": [
    {
     "data": {
      "image/png": "[encoded data removed]",
      "text/plain": [
       "<Figure size 432x288 with 1 Axes>"
      ]
     },
     "metadata": {
      "needs_background": "light"
     },
     "output_type": "display_data"
    }
   ],
   "source": [
    "image_check = images[25]\n",
    "\n",
    "# define HOG parameters\n",
    "orientations = 9\n",
    "pixels_per_cell = (8, 8)\n",
    "cells_per_block = (2, 2)\n",
    "\n",
    "# compute HOG features and visualize them\n",
    "hog_features, hog_image = hog(image_check, orientations=9, pixels_per_cell=(8, 8),\n",
    "                    cells_per_block=(2, 2), transform_sqrt=True, feature_vector=True, visualize=True,channel_axis=2)\n",
    "\n",
    "\n",
    "\n",
    "# rescale image intensity for better visualization\n",
    "#hog_image_rescaled = exposure.rescale_intensity(hog_image, in_range=(0, 10))\n",
    "\n",
    "# display HOG features\n",
    "plt.imshow(hog_image)\n",
    "plt.show()"
   ]
  },
  {
   "cell_type": "code",
   "execution_count": 201,
   "metadata": {},
   "outputs": [],
   "source": [
    "# Extract HOG features from the images\n",
    "hog_features = []\n",
    "for img in images:\n",
    "    #hog_feature = hog(img, orientations=9, pixels_per_cell=(8, 8),\n",
    "    #                cells_per_block=(2, 2), transform_sqrt=True, feature_vector=True, multichannel=True, channel_axis=2)\n",
    "    hog_feature = hog(img, orientations=9, pixels_per_cell=(8, 8),\n",
    "                    cells_per_block=(2, 2), transform_sqrt=True, feature_vector=True, channel_axis=2)\n",
    "    \n",
    "    hog_features.append(hog_feature)\n",
    "hog_features = np.array(hog_features)\n",
    "\n",
    "# Normalize the features to have zero mean and unit variance\n",
    "mean = np.mean(hog_features, axis=0)\n",
    "std = np.std(hog_features, axis=0)\n",
    "hog_features_norm = (hog_features - mean) / std"
   ]
  },
  {
   "cell_type": "code",
   "execution_count": 202,
   "metadata": {},
   "outputs": [
    {
     "name": "stdout",
     "output_type": "stream",
     "text": [
      "Descriptor array 0 shape: (20736,)\n",
      "Descriptor array 1 shape: (20736,)\n",
      "Descriptor array 2 shape: (20736,)\n",
      "Descriptor array 3 shape: (20736,)\n",
      "Descriptor array 4 shape: (20736,)\n",
      "Descriptor array 5 shape: (20736,)\n",
      "Descriptor array 6 shape: (20736,)\n",
      "Descriptor array 7 shape: (20736,)\n",
      "Descriptor array 8 shape: (20736,)\n",
      "Descriptor array 9 shape: (20736,)\n",
      "Descriptor array 10 shape: (20736,)\n",
      "Descriptor array 11 shape: (20736,)\n",
      "Descriptor array 12 shape: (20736,)\n",
      "Descriptor array 13 shape: (20736,)\n",
      "Descriptor array 14 shape: (20736,)\n",
      "Descriptor array 15 shape: (20736,)\n",
      "Descriptor array 16 shape: (20736,)\n",
      "Descriptor array 17 shape: (20736,)\n",
      "Descriptor array 18 shape: (20736,)\n",
      "Descriptor array 19 shape: (20736,)\n",
      "Descriptor array 20 shape: (20736,)\n",
      "Descriptor array 21 shape: (20736,)\n",
      "Descriptor array 22 shape: (20736,)\n",
      "Descriptor array 23 shape: (20736,)\n",
      "Descriptor array 24 shape: (20736,)\n",
      "Descriptor array 25 shape: (20736,)\n",
      "Descriptor array 26 shape: (20736,)\n",
      "Descriptor array 27 shape: (20736,)\n",
      "Descriptor array 28 shape: (20736,)\n",
      "Descriptor array 29 shape: (20736,)\n",
      "Descriptor array 30 shape: (20736,)\n",
      "Descriptor array 31 shape: (20736,)\n",
      "Descriptor array 32 shape: (20736,)\n",
      "Descriptor array 33 shape: (20736,)\n",
      "Descriptor array 34 shape: (20736,)\n",
      "Descriptor array 35 shape: (20736,)\n",
      "Descriptor array 36 shape: (20736,)\n",
      "Descriptor array 37 shape: (20736,)\n",
      "Descriptor array 38 shape: (20736,)\n",
      "Descriptor array 39 shape: (20736,)\n",
      "Descriptor array 40 shape: (20736,)\n",
      "Descriptor array 41 shape: (20736,)\n",
      "Descriptor array 42 shape: (20736,)\n",
      "Descriptor array 43 shape: (20736,)\n",
      "Descriptor array 44 shape: (20736,)\n",
      "Descriptor array 45 shape: (20736,)\n",
      "Descriptor array 46 shape: (20736,)\n",
      "Descriptor array 47 shape: (20736,)\n",
      "Descriptor array 48 shape: (20736,)\n",
      "Descriptor array 49 shape: (20736,)\n",
      "Descriptor array 50 shape: (20736,)\n",
      "Descriptor array 51 shape: (20736,)\n",
      "Descriptor array 52 shape: (20736,)\n",
      "Descriptor array 53 shape: (20736,)\n",
      "Descriptor array 54 shape: (20736,)\n",
      "Descriptor array 55 shape: (20736,)\n",
      "Descriptor array 56 shape: (20736,)\n",
      "Descriptor array 57 shape: (20736,)\n",
      "Descriptor array 58 shape: (20736,)\n",
      "Descriptor array 59 shape: (20736,)\n",
      "Descriptor array 60 shape: (20736,)\n",
      "Descriptor array 61 shape: (20736,)\n",
      "Descriptor array 62 shape: (20736,)\n",
      "Descriptor array 63 shape: (20736,)\n",
      "Descriptor array 64 shape: (20736,)\n",
      "Descriptor array 65 shape: (20736,)\n",
      "Descriptor array 66 shape: (20736,)\n",
      "Descriptor array 67 shape: (20736,)\n",
      "Descriptor array 68 shape: (20736,)\n",
      "Descriptor array 69 shape: (20736,)\n",
      "Descriptor array 70 shape: (20736,)\n",
      "Descriptor array 71 shape: (20736,)\n",
      "Descriptor array 72 shape: (20736,)\n",
      "Descriptor array 73 shape: (20736,)\n",
      "Descriptor array 74 shape: (20736,)\n",
      "Descriptor array 75 shape: (20736,)\n",
      "Descriptor array 76 shape: (20736,)\n",
      "Descriptor array 77 shape: (20736,)\n",
      "Descriptor array 78 shape: (20736,)\n",
      "Descriptor array 79 shape: (20736,)\n",
      "Descriptor array 80 shape: (20736,)\n",
      "Descriptor array 81 shape: (20736,)\n",
      "Descriptor array 82 shape: (20736,)\n",
      "Descriptor array 83 shape: (20736,)\n",
      "Descriptor array 84 shape: (20736,)\n",
      "Descriptor array 85 shape: (20736,)\n",
      "Descriptor array 86 shape: (20736,)\n",
      "Descriptor array 87 shape: (20736,)\n",
      "Descriptor array 88 shape: (20736,)\n",
      "Descriptor array 89 shape: (20736,)\n",
      "Descriptor array 90 shape: (20736,)\n",
      "Descriptor array 91 shape: (20736,)\n",
      "Descriptor array 92 shape: (20736,)\n",
      "Descriptor array 93 shape: (20736,)\n",
      "Descriptor array 94 shape: (20736,)\n",
      "Descriptor array 95 shape: (20736,)\n",
      "Descriptor array 96 shape: (20736,)\n",
      "Descriptor array 97 shape: (20736,)\n",
      "Descriptor array 98 shape: (20736,)\n",
      "Descriptor array 99 shape: (20736,)\n"
     ]
    }
   ],
   "source": [
    "for i, arr in enumerate(hog_features_norm):\n",
    "    print(f\"Descriptor array {i} shape: {arr.shape}\")"
   ]
  },
  {
   "cell_type": "markdown",
   "metadata": {},
   "source": [
    "- For each preprocessed image in images, extract the HOG features using the hog() function from scikit-image. The orientations, pixels_per_cell, and cells_per_block parameters control the number of orientations, the size of the cells, and the number of cells per block used in the feature extraction process. The transform_sqrt parameter applies power law compression to normalize the local contrast of the image. The feature_vector parameter flattens the HOG descriptor into a 1D array. The multichannel and channel_axis parameters are used to indicate that the input image has three channels. The resulting HOG feature is then appended to the hog_features list."
   ]
  },
  {
   "cell_type": "markdown",
   "metadata": {},
   "source": [
    "#### SVM"
   ]
  },
  {
   "attachments": {},
   "cell_type": "markdown",
   "metadata": {},
   "source": [
    "##### gender"
   ]
  },
  {
   "cell_type": "code",
   "execution_count": 216,
   "metadata": {},
   "outputs": [
    {
     "name": "stdout",
     "output_type": "stream",
     "text": [
      "Samples in Training: 80\n",
      "Samples in Testing: 20\n"
     ]
    }
   ],
   "source": [
    "X_train, X_test, y_train, y_test = train_test_split(hog_features_norm, genders, test_size=0.2, random_state=42)\n",
    "print(\"Samples in Training:\",X_train.shape[0])\n",
    "print(\"Samples in Testing:\",X_test.shape[0])"
   ]
  },
  {
   "cell_type": "code",
   "execution_count": 217,
   "metadata": {},
   "outputs": [
    {
     "name": "stdout",
     "output_type": "stream",
     "text": [
      "MCC:  0.0\n",
      "              precision    recall  f1-score   support\n",
      "\n",
      "           0       0.50      0.06      0.11        16\n",
      "           1       0.17      0.75      0.27         4\n",
      "\n",
      "    accuracy                           0.20        20\n",
      "   macro avg       0.33      0.41      0.19        20\n",
      "weighted avg       0.43      0.20      0.14        20\n",
      "\n",
      "[[ 1 15]\n",
      " [ 1  3]]\n"
     ]
    }
   ],
   "source": [
    "clf = SVC()\n",
    "clf.fit(X_train, y_train)\n",
    "\n",
    "y_pred = clf.predict(X_test)\n",
    "\n",
    "mcc = matthews_corrcoef(y_test, y_pred)\n",
    "#accuracy = accuracy_score(y_test, y_pred)\n",
    "print(\"MCC: \", mcc)\n",
    "\n",
    "# Print classification report and confusion matrix\n",
    "print(classification_report(y_test, y_pred_int))\n",
    "print(confusion_matrix(y_test, y_pred_int))"
   ]
  },
  {
   "attachments": {},
   "cell_type": "markdown",
   "metadata": {},
   "source": [
    "##### age"
   ]
  },
  {
   "cell_type": "code",
   "execution_count": 218,
   "metadata": {},
   "outputs": [
    {
     "name": "stdout",
     "output_type": "stream",
     "text": [
      "Samples in Training: 80\n",
      "Samples in Testing: 20\n"
     ]
    }
   ],
   "source": [
    "X_train, X_test, y_train, y_test = train_test_split(hog_features_norm, age_categories, test_size=0.2, random_state=42)\n",
    "print(\"Samples in Training:\",X_train.shape[0])\n",
    "print(\"Samples in Testing:\",X_test.shape[0])"
   ]
  },
  {
   "cell_type": "code",
   "execution_count": 219,
   "metadata": {},
   "outputs": [
    {
     "name": "stderr",
     "output_type": "stream",
     "text": [
      "c:\\Users\\afbso\\anaconda3\\lib\\site-packages\\sklearn\\multiclass.py:79: UserWarning: Label not 0 is present in all training examples.\n",
      "  warnings.warn(\n",
      "c:\\Users\\afbso\\anaconda3\\lib\\site-packages\\sklearn\\multiclass.py:79: UserWarning: Label not 2 is present in all training examples.\n",
      "  warnings.warn(\n",
      "c:\\Users\\afbso\\anaconda3\\lib\\site-packages\\sklearn\\multiclass.py:79: UserWarning: Label not 3 is present in all training examples.\n",
      "  warnings.warn(\n",
      "c:\\Users\\afbso\\anaconda3\\lib\\site-packages\\sklearn\\multiclass.py:79: UserWarning: Label not 4 is present in all training examples.\n",
      "  warnings.warn(\n"
     ]
    },
    {
     "name": "stdout",
     "output_type": "stream",
     "text": [
      "MCC:  0.4330127018922193\n",
      "              precision    recall  f1-score   support\n",
      "\n",
      "           0       0.00      0.00      0.00         0\n",
      "           1       0.94      1.00      0.97        15\n",
      "           5       0.00      0.00      0.00         5\n",
      "\n",
      "    accuracy                           0.75        20\n",
      "   macro avg       0.31      0.33      0.32        20\n",
      "weighted avg       0.70      0.75      0.73        20\n",
      "\n",
      "[[ 0  0  0]\n",
      " [ 0 15  0]\n",
      " [ 4  1  0]]\n"
     ]
    },
    {
     "name": "stderr",
     "output_type": "stream",
     "text": [
      "c:\\Users\\afbso\\anaconda3\\lib\\site-packages\\sklearn\\metrics\\_classification.py:1318: UndefinedMetricWarning: Precision and F-score are ill-defined and being set to 0.0 in labels with no predicted samples. Use `zero_division` parameter to control this behavior.\n",
      "  _warn_prf(average, modifier, msg_start, len(result))\n",
      "c:\\Users\\afbso\\anaconda3\\lib\\site-packages\\sklearn\\metrics\\_classification.py:1318: UndefinedMetricWarning: Recall and F-score are ill-defined and being set to 0.0 in labels with no true samples. Use `zero_division` parameter to control this behavior.\n",
      "  _warn_prf(average, modifier, msg_start, len(result))\n",
      "c:\\Users\\afbso\\anaconda3\\lib\\site-packages\\sklearn\\metrics\\_classification.py:1318: UndefinedMetricWarning: Precision and F-score are ill-defined and being set to 0.0 in labels with no predicted samples. Use `zero_division` parameter to control this behavior.\n",
      "  _warn_prf(average, modifier, msg_start, len(result))\n",
      "c:\\Users\\afbso\\anaconda3\\lib\\site-packages\\sklearn\\metrics\\_classification.py:1318: UndefinedMetricWarning: Recall and F-score are ill-defined and being set to 0.0 in labels with no true samples. Use `zero_division` parameter to control this behavior.\n",
      "  _warn_prf(average, modifier, msg_start, len(result))\n",
      "c:\\Users\\afbso\\anaconda3\\lib\\site-packages\\sklearn\\metrics\\_classification.py:1318: UndefinedMetricWarning: Precision and F-score are ill-defined and being set to 0.0 in labels with no predicted samples. Use `zero_division` parameter to control this behavior.\n",
      "  _warn_prf(average, modifier, msg_start, len(result))\n",
      "c:\\Users\\afbso\\anaconda3\\lib\\site-packages\\sklearn\\metrics\\_classification.py:1318: UndefinedMetricWarning: Recall and F-score are ill-defined and being set to 0.0 in labels with no true samples. Use `zero_division` parameter to control this behavior.\n",
      "  _warn_prf(average, modifier, msg_start, len(result))\n"
     ]
    }
   ],
   "source": [
    "clf = OneVsRestClassifier(SVC())\n",
    "clf.fit(X_train, y_train)\n",
    "\n",
    "# Convert one-hot encoded labels to integer form\n",
    "y_pred = clf.predict(X_test)\n",
    "\n",
    "y_test_int = np.argmax(y_test, axis=1)\n",
    "y_pred_int = np.argmax(y_pred, axis=1)\n",
    "\n",
    "# Print classification report and confusion matrix\n",
    "\n",
    "mcc = matthews_corrcoef(y_test_int, y_pred_int)\n",
    "#accuracy = accuracy_score(y_test, y_pred)\n",
    "print(\"MCC: \", mcc)\n",
    "print(classification_report(y_test_int, y_pred_int))\n",
    "print(confusion_matrix(y_test_int, y_pred_int))"
   ]
  },
  {
   "attachments": {},
   "cell_type": "markdown",
   "metadata": {},
   "source": [
    "#### CNN"
   ]
  },
  {
   "attachments": {},
   "cell_type": "markdown",
   "metadata": {},
   "source": [
    "##### gender"
   ]
  },
  {
   "cell_type": "code",
   "execution_count": 220,
   "metadata": {},
   "outputs": [
    {
     "name": "stdout",
     "output_type": "stream",
     "text": [
      "Model: \"sequential_21\"\n",
      "_________________________________________________________________\n",
      " Layer (type)                Output Shape              Param #   \n",
      "=================================================================\n",
      " reshape_18 (Reshape)        (None, 144, 144, 1)       0         \n",
      "                                                                 \n",
      " max_pooling2d_26 (MaxPoolin  (None, 72, 72, 1)        0         \n",
      " g2D)                                                            \n",
      "                                                                 \n",
      " conv2d_53 (Conv2D)          (None, 72, 72, 32)        320       \n",
      "                                                                 \n",
      " max_pooling2d_27 (MaxPoolin  (None, 36, 36, 32)       0         \n",
      " g2D)                                                            \n",
      "                                                                 \n",
      " conv2d_54 (Conv2D)          (None, 36, 36, 64)        18496     \n",
      "                                                                 \n",
      " max_pooling2d_28 (MaxPoolin  (None, 18, 18, 64)       0         \n",
      " g2D)                                                            \n",
      "                                                                 \n",
      " flatten_20 (Flatten)        (None, 20736)             0         \n",
      "                                                                 \n",
      " dense_40 (Dense)            (None, 64)                1327168   \n",
      "                                                                 \n",
      " dropout_33 (Dropout)        (None, 64)                0         \n",
      "                                                                 \n",
      " dense_41 (Dense)            (None, 1)                 65        \n",
      "                                                                 \n",
      "=================================================================\n",
      "Total params: 1,346,049\n",
      "Trainable params: 1,346,049\n",
      "Non-trainable params: 0\n",
      "_________________________________________________________________\n"
     ]
    }
   ],
   "source": [
    "cnn = Sequential()\n",
    "\n",
    "#tratado\n",
    "cnn.add(layers.Reshape((144, 144, 1), input_shape=(20736,)))\n",
    "#cnn.add(layers.Conv2D(16, (3, 3), padding='same', activation='relu', input_shape=X_train[1].shape))\n",
    "\n",
    "cnn.add(layers.MaxPooling2D((2, 2)))\n",
    "cnn.add(layers.Conv2D(32, (3, 3), padding='same', activation='relu'))\n",
    "cnn.add(layers.MaxPooling2D(2,2))\n",
    "cnn.add(layers.Conv2D(64, (3, 3), padding='same', activation='relu'))\n",
    "cnn.add(layers.MaxPooling2D(2,2))\n",
    "cnn.add(Flatten())\n",
    "cnn.add(Dense(64, activation='relu'))\n",
    "cnn.add(layers.Dropout(0.2))\n",
    "\n",
    "#output layer with 2 filters for number of classes the model will choose to do predictions\n",
    "#and since gender is just binary classification sigmoid is appropriate\n",
    "#when doing classification for age (wont be binary classification) then softmax is good choice\n",
    "cnn.add(Dense(1, activation='sigmoid'))\n",
    "\n",
    "cnn.summary()"
   ]
  },
  {
   "cell_type": "code",
   "execution_count": 221,
   "metadata": {},
   "outputs": [],
   "source": [
    "X_train, X_test, y_train, y_test = train_test_split(hog_features_norm, genders, test_size=0.2, random_state=42)"
   ]
  },
  {
   "cell_type": "code",
   "execution_count": 222,
   "metadata": {},
   "outputs": [],
   "source": [
    "X_train = np.asarray(X_train)\n",
    "y_train = np.asarray(y_train)\n",
    "\n",
    "X_test = np.asarray(X_test)\n",
    "y_test = np.asarray(y_test)"
   ]
  },
  {
   "cell_type": "code",
   "execution_count": 230,
   "metadata": {},
   "outputs": [
    {
     "name": "stdout",
     "output_type": "stream",
     "text": [
      "Epoch 1/2\n",
      "3/3 [==============================] - 2s 203ms/step - loss: 0.3793 - val_loss: 0.5833\n",
      "Epoch 2/2\n",
      "3/3 [==============================] - 0s 121ms/step - loss: 0.4177 - val_loss: 0.4698\n"
     ]
    }
   ],
   "source": [
    "cnn.compile(optimizer=\"adam\", loss=\"binary_crossentropy\")\n",
    "\n",
    "history_hog_gender = cnn.fit(X_train, y_train,\n",
    "                    epochs=2,\n",
    "                    batch_size=32,\n",
    "                    validation_data=(X_test, y_test))"
   ]
  },
  {
   "cell_type": "code",
   "execution_count": 233,
   "metadata": {},
   "outputs": [
    {
     "name": "stdout",
     "output_type": "stream",
     "text": [
      "1/1 [==============================] - 0s 120ms/step\n",
      "MCC:  0.0\n"
     ]
    },
    {
     "data": {
      "image/png": "[encoded data removed]",
      "text/plain": [
       "<Figure size 432x288 with 2 Axes>"
      ]
     },
     "metadata": {
      "needs_background": "light"
     },
     "output_type": "display_data"
    },
    {
     "name": "stdout",
     "output_type": "stream",
     "text": [
      "              precision    recall  f1-score   support\n",
      "\n",
      "           0       1.00      1.00      1.00        20\n",
      "\n",
      "    accuracy                           1.00        20\n",
      "   macro avg       1.00      1.00      1.00        20\n",
      "weighted avg       1.00      1.00      1.00        20\n",
      "\n"
     ]
    }
   ],
   "source": [
    "cnn_metrics(cnn, X_test, y_test, genders)"
   ]
  },
  {
   "attachments": {},
   "cell_type": "markdown",
   "metadata": {},
   "source": [
    "##### age"
   ]
  },
  {
   "cell_type": "code",
   "execution_count": 234,
   "metadata": {},
   "outputs": [
    {
     "name": "stdout",
     "output_type": "stream",
     "text": [
      "Model: \"sequential_22\"\n",
      "_________________________________________________________________\n",
      " Layer (type)                Output Shape              Param #   \n",
      "=================================================================\n",
      " reshape_19 (Reshape)        (None, 144, 144, 1)       0         \n",
      "                                                                 \n",
      " max_pooling2d_29 (MaxPoolin  (None, 72, 72, 1)        0         \n",
      " g2D)                                                            \n",
      "                                                                 \n",
      " conv2d_55 (Conv2D)          (None, 72, 72, 32)        320       \n",
      "                                                                 \n",
      " max_pooling2d_30 (MaxPoolin  (None, 36, 36, 32)       0         \n",
      " g2D)                                                            \n",
      "                                                                 \n",
      " conv2d_56 (Conv2D)          (None, 36, 36, 64)        18496     \n",
      "                                                                 \n",
      " max_pooling2d_31 (MaxPoolin  (None, 18, 18, 64)       0         \n",
      " g2D)                                                            \n",
      "                                                                 \n",
      " flatten_21 (Flatten)        (None, 20736)             0         \n",
      "                                                                 \n",
      " dense_42 (Dense)            (None, 64)                1327168   \n",
      "                                                                 \n",
      " dropout_34 (Dropout)        (None, 64)                0         \n",
      "                                                                 \n",
      " dense_43 (Dense)            (None, 6)                 390       \n",
      "                                                                 \n",
      "=================================================================\n",
      "Total params: 1,346,374\n",
      "Trainable params: 1,346,374\n",
      "Non-trainable params: 0\n",
      "_________________________________________________________________\n"
     ]
    }
   ],
   "source": [
    "cnn = Sequential()\n",
    "\n",
    "#tratado\n",
    "cnn.add(layers.Reshape((144, 144, 1), input_shape=(20736,)))\n",
    "#cnn.add(layers.Conv2D(16, (3, 3), padding='same', activation='relu', input_shape=X_train[1].shape))\n",
    "\n",
    "cnn.add(layers.MaxPooling2D((2, 2)))\n",
    "cnn.add(layers.Conv2D(32, (3, 3), padding='same', activation='relu'))\n",
    "cnn.add(layers.MaxPooling2D(2,2))\n",
    "cnn.add(layers.Conv2D(64, (3, 3), padding='same', activation='relu'))\n",
    "cnn.add(layers.MaxPooling2D(2,2))\n",
    "cnn.add(Flatten())\n",
    "cnn.add(Dense(64, activation='relu'))\n",
    "cnn.add(layers.Dropout(0.2))\n",
    "\n",
    "#output layer with 2 filters for number of classes the model will choose to do predictions\n",
    "#and since gender is just binary classification sigmoid is appropriate\n",
    "#when doing classification for age (wont be binary classification) then softmax is good choice\n",
    "cnn.add(Dense(6, activation='softmax'))\n",
    "\n",
    "cnn.summary()"
   ]
  },
  {
   "cell_type": "code",
   "execution_count": 235,
   "metadata": {},
   "outputs": [],
   "source": [
    "X_train, X_test, y_train, y_test = train_test_split(hog_features_norm, age_categories, test_size=0.2,shuffle  = True)"
   ]
  },
  {
   "cell_type": "code",
   "execution_count": 236,
   "metadata": {},
   "outputs": [],
   "source": [
    "X_train = np.asarray(X_train)\n",
    "y_train = np.asarray(y_train)\n",
    "\n",
    "X_test = np.asarray(X_test)\n",
    "y_test = np.asarray(y_test)"
   ]
  },
  {
   "cell_type": "code",
   "execution_count": 239,
   "metadata": {},
   "outputs": [
    {
     "name": "stdout",
     "output_type": "stream",
     "text": [
      "Epoch 1/2\n",
      "10/10 [==============================] - 2s 83ms/step - loss: 0.5060 - accuracy: 0.7750 - val_loss: 0.1989 - val_accuracy: 0.9000\n",
      "Epoch 2/2\n",
      "10/10 [==============================] - 1s 53ms/step - loss: 0.2811 - accuracy: 0.8500 - val_loss: 0.2762 - val_accuracy: 0.9000\n"
     ]
    }
   ],
   "source": [
    "cnn.compile(loss='categorical_crossentropy',\n",
    "            optimizer='adam',\n",
    "            metrics=['accuracy'])\n",
    "\n",
    "history_hog_age = cnn.fit(X_train, y_train,\n",
    "        batch_size=8,\n",
    "        epochs=2,\n",
    "        validation_data=(X_test, y_test),)"
   ]
  },
  {
   "cell_type": "code",
   "execution_count": 241,
   "metadata": {},
   "outputs": [
    {
     "name": "stdout",
     "output_type": "stream",
     "text": [
      "1/1 [==============================] - 0s 136ms/step\n",
      "MCC:  0.0\n"
     ]
    },
    {
     "data": {
      "image/png": "[encoded data removed]",
      "text/plain": [
       "<Figure size 432x288 with 2 Axes>"
      ]
     },
     "metadata": {
      "needs_background": "light"
     },
     "output_type": "display_data"
    },
    {
     "name": "stdout",
     "output_type": "stream",
     "text": [
      "              precision    recall  f1-score   support\n",
      "\n",
      "           1       0.75      1.00      0.86        15\n",
      "           5       0.00      0.00      0.00         5\n",
      "\n",
      "    accuracy                           0.75        20\n",
      "   macro avg       0.38      0.50      0.43        20\n",
      "weighted avg       0.56      0.75      0.64        20\n",
      "\n"
     ]
    },
    {
     "name": "stderr",
     "output_type": "stream",
     "text": [
      "c:\\Users\\afbso\\anaconda3\\lib\\site-packages\\sklearn\\metrics\\_classification.py:1318: UndefinedMetricWarning: Precision and F-score are ill-defined and being set to 0.0 in labels with no predicted samples. Use `zero_division` parameter to control this behavior.\n",
      "  _warn_prf(average, modifier, msg_start, len(result))\n",
      "c:\\Users\\afbso\\anaconda3\\lib\\site-packages\\sklearn\\metrics\\_classification.py:1318: UndefinedMetricWarning: Precision and F-score are ill-defined and being set to 0.0 in labels with no predicted samples. Use `zero_division` parameter to control this behavior.\n",
      "  _warn_prf(average, modifier, msg_start, len(result))\n",
      "c:\\Users\\afbso\\anaconda3\\lib\\site-packages\\sklearn\\metrics\\_classification.py:1318: UndefinedMetricWarning: Precision and F-score are ill-defined and being set to 0.0 in labels with no predicted samples. Use `zero_division` parameter to control this behavior.\n",
      "  _warn_prf(average, modifier, msg_start, len(result))\n"
     ]
    }
   ],
   "source": [
    "cnn_metrics(cnn, X_test, y_train, age_classes)"
   ]
  },
  {
   "attachments": {},
   "cell_type": "markdown",
   "metadata": {},
   "source": [
    "### ORB (Oriented FAST and Rotated BRIEF)\n",
    "\n",
    "adaptado ao fazer tambem:\n",
    "\n",
    "-definir um threshold minimo para aceitar conjunto de descriptors para uma imagem\n",
    "\n",
    "-escolher aleatoriamente uma quantidade fixa de descriptors para uma imagem e operar apenas com essa quantidade para essa imagem\n"
   ]
  },
  {
   "cell_type": "code",
   "execution_count": 39,
   "metadata": {},
   "outputs": [
    {
     "data": {
      "image/png": "[encoded data removed]",
      "text/plain": [
       "<Figure size 640x480 with 1 Axes>"
      ]
     },
     "metadata": {},
     "output_type": "display_data"
    }
   ],
   "source": [
    "image_check = images[1]\n",
    "\n",
    "orb = cv2.ORB_create()\n",
    "\n",
    "\n",
    "kp = orb.detect(image_check, None)\n",
    "\n",
    "kp, des = orb.compute(image_check, kp)\n",
    "\n",
    "img2 = cv2.drawKeypoints(image_check, kp, None, color=(0,255,0), flags=0)\n",
    "plt.imshow(img2)\n",
    "plt.show()"
   ]
  },
  {
   "cell_type": "code",
   "execution_count": 40,
   "metadata": {},
   "outputs": [
    {
     "data": {
      "text/plain": [
       "(200, 3)"
      ]
     },
     "execution_count": 40,
     "metadata": {},
     "output_type": "execute_result"
    }
   ],
   "source": [
    "image[0].shape"
   ]
  },
  {
   "cell_type": "code",
   "execution_count": 41,
   "metadata": {},
   "outputs": [],
   "source": [
    "orb = cv2.ORB_create()\n",
    "# define minimum and maximum keypoints\n",
    "MIN_KEYPOINTS = 100\n",
    "orb_features = []\n",
    "Genders = []\n",
    "Age = []\n",
    "\n",
    "# loop over images and keypoints\n",
    "for i, img in enumerate(images):\n",
    "    keypoints, descriptors = orb.detectAndCompute(img, None)\n",
    "    keypoints, descriptors = orb.compute(image_check, keypoints)\n",
    "    keypoints = list(keypoints)    \n",
    "    # check if number of keypoints is between min and max\n",
    "    if len(keypoints) < MIN_KEYPOINTS:\n",
    "        continue\n",
    "        \n",
    "    # remove extra keypoints randomly\n",
    "    while len(keypoints) > MIN_KEYPOINTS:\n",
    "        idx = random.randint(0, len(keypoints)-1)\n",
    "        keypoints.pop(idx)\n",
    "        descriptors = np.delete(descriptors, idx, axis=0)\n",
    "        \n",
    "    # add descriptors to feature list\n",
    "    orb_features.append(np.ndarray.flatten(descriptors))\n",
    "    Genders.append(genders[i])\n",
    "    Age.append(age_categories[i])"
   ]
  },
  {
   "cell_type": "code",
   "execution_count": 58,
   "metadata": {},
   "outputs": [
    {
     "name": "stdout",
     "output_type": "stream",
     "text": [
      "704\n",
      "704\n",
      "704\n"
     ]
    }
   ],
   "source": [
    "print(len(Genders))\n",
    "print(len(Age))\n",
    "print(len(orb_features))"
   ]
  },
  {
   "cell_type": "code",
   "execution_count": 43,
   "metadata": {
    "scrolled": true
   },
   "outputs": [
    {
     "name": "stdout",
     "output_type": "stream",
     "text": [
      "Descriptor array 0 shape: (3200,)\n",
      "Descriptor array 1 shape: (3200,)\n",
      "Descriptor array 2 shape: (3200,)\n",
      "Descriptor array 3 shape: (3200,)\n",
      "Descriptor array 4 shape: (3200,)\n",
      "Descriptor array 5 shape: (3200,)\n",
      "Descriptor array 6 shape: (3200,)\n",
      "Descriptor array 7 shape: (3200,)\n",
      "Descriptor array 8 shape: (3200,)\n",
      "Descriptor array 9 shape: (3200,)\n",
      "Descriptor array 10 shape: (3200,)\n",
      "Descriptor array 11 shape: (3200,)\n",
      "Descriptor array 12 shape: (3200,)\n",
      "Descriptor array 13 shape: (3200,)\n",
      "Descriptor array 14 shape: (3200,)\n",
      "Descriptor array 15 shape: (3200,)\n",
      "Descriptor array 16 shape: (3200,)\n",
      "Descriptor array 17 shape: (3200,)\n",
      "Descriptor array 18 shape: (3200,)\n",
      "Descriptor array 19 shape: (3200,)\n",
      "Descriptor array 20 shape: (3200,)\n",
      "Descriptor array 21 shape: (3200,)\n",
      "Descriptor array 22 shape: (3200,)\n",
      "Descriptor array 23 shape: (3200,)\n",
      "Descriptor array 24 shape: (3200,)\n",
      "Descriptor array 25 shape: (3200,)\n",
      "Descriptor array 26 shape: (3200,)\n",
      "Descriptor array 27 shape: (3200,)\n",
      "Descriptor array 28 shape: (3200,)\n",
      "Descriptor array 29 shape: (3200,)\n",
      "Descriptor array 30 shape: (3200,)\n",
      "Descriptor array 31 shape: (3200,)\n",
      "Descriptor array 32 shape: (3200,)\n",
      "Descriptor array 33 shape: (3200,)\n",
      "Descriptor array 34 shape: (3200,)\n",
      "Descriptor array 35 shape: (3200,)\n",
      "Descriptor array 36 shape: (3200,)\n",
      "Descriptor array 37 shape: (3200,)\n",
      "Descriptor array 38 shape: (3200,)\n",
      "Descriptor array 39 shape: (3200,)\n",
      "Descriptor array 40 shape: (3200,)\n",
      "Descriptor array 41 shape: (3200,)\n",
      "Descriptor array 42 shape: (3200,)\n",
      "Descriptor array 43 shape: (3200,)\n",
      "Descriptor array 44 shape: (3200,)\n",
      "Descriptor array 45 shape: (3200,)\n",
      "Descriptor array 46 shape: (3200,)\n",
      "Descriptor array 47 shape: (3200,)\n",
      "Descriptor array 48 shape: (3200,)\n",
      "Descriptor array 49 shape: (3200,)\n",
      "Descriptor array 50 shape: (3200,)\n",
      "Descriptor array 51 shape: (3200,)\n",
      "Descriptor array 52 shape: (3200,)\n",
      "Descriptor array 53 shape: (3200,)\n",
      "Descriptor array 54 shape: (3200,)\n",
      "Descriptor array 55 shape: (3200,)\n",
      "Descriptor array 56 shape: (3200,)\n",
      "Descriptor array 57 shape: (3200,)\n",
      "Descriptor array 58 shape: (3200,)\n",
      "Descriptor array 59 shape: (3200,)\n",
      "Descriptor array 60 shape: (3200,)\n",
      "Descriptor array 61 shape: (3200,)\n",
      "Descriptor array 62 shape: (3200,)\n",
      "Descriptor array 63 shape: (3200,)\n",
      "Descriptor array 64 shape: (3200,)\n",
      "Descriptor array 65 shape: (3200,)\n",
      "Descriptor array 66 shape: (3200,)\n",
      "Descriptor array 67 shape: (3200,)\n",
      "Descriptor array 68 shape: (3200,)\n",
      "Descriptor array 69 shape: (3200,)\n",
      "Descriptor array 70 shape: (3200,)\n",
      "Descriptor array 71 shape: (3200,)\n",
      "Descriptor array 72 shape: (3200,)\n",
      "Descriptor array 73 shape: (3200,)\n",
      "Descriptor array 74 shape: (3200,)\n",
      "Descriptor array 75 shape: (3200,)\n",
      "Descriptor array 76 shape: (3200,)\n",
      "Descriptor array 77 shape: (3200,)\n",
      "Descriptor array 78 shape: (3200,)\n",
      "Descriptor array 79 shape: (3200,)\n",
      "Descriptor array 80 shape: (3200,)\n",
      "Descriptor array 81 shape: (3200,)\n",
      "Descriptor array 82 shape: (3200,)\n",
      "Descriptor array 83 shape: (3200,)\n",
      "Descriptor array 84 shape: (3200,)\n",
      "Descriptor array 85 shape: (3200,)\n",
      "Descriptor array 86 shape: (3200,)\n",
      "Descriptor array 87 shape: (3200,)\n",
      "Descriptor array 88 shape: (3200,)\n",
      "Descriptor array 89 shape: (3200,)\n",
      "Descriptor array 90 shape: (3200,)\n",
      "Descriptor array 91 shape: (3200,)\n",
      "Descriptor array 92 shape: (3200,)\n",
      "Descriptor array 93 shape: (3200,)\n",
      "Descriptor array 94 shape: (3200,)\n",
      "Descriptor array 95 shape: (3200,)\n",
      "Descriptor array 96 shape: (3200,)\n",
      "Descriptor array 97 shape: (3200,)\n",
      "Descriptor array 98 shape: (3200,)\n",
      "Descriptor array 99 shape: (3200,)\n",
      "Descriptor array 100 shape: (3200,)\n",
      "Descriptor array 101 shape: (3200,)\n",
      "Descriptor array 102 shape: (3200,)\n",
      "Descriptor array 103 shape: (3200,)\n",
      "Descriptor array 104 shape: (3200,)\n",
      "Descriptor array 105 shape: (3200,)\n",
      "Descriptor array 106 shape: (3200,)\n",
      "Descriptor array 107 shape: (3200,)\n",
      "Descriptor array 108 shape: (3200,)\n",
      "Descriptor array 109 shape: (3200,)\n",
      "Descriptor array 110 shape: (3200,)\n",
      "Descriptor array 111 shape: (3200,)\n",
      "Descriptor array 112 shape: (3200,)\n",
      "Descriptor array 113 shape: (3200,)\n",
      "Descriptor array 114 shape: (3200,)\n",
      "Descriptor array 115 shape: (3200,)\n",
      "Descriptor array 116 shape: (3200,)\n",
      "Descriptor array 117 shape: (3200,)\n",
      "Descriptor array 118 shape: (3200,)\n",
      "Descriptor array 119 shape: (3200,)\n",
      "Descriptor array 120 shape: (3200,)\n",
      "Descriptor array 121 shape: (3200,)\n",
      "Descriptor array 122 shape: (3200,)\n",
      "Descriptor array 123 shape: (3200,)\n",
      "Descriptor array 124 shape: (3200,)\n",
      "Descriptor array 125 shape: (3200,)\n",
      "Descriptor array 126 shape: (3200,)\n",
      "Descriptor array 127 shape: (3200,)\n",
      "Descriptor array 128 shape: (3200,)\n",
      "Descriptor array 129 shape: (3200,)\n",
      "Descriptor array 130 shape: (3200,)\n",
      "Descriptor array 131 shape: (3200,)\n",
      "Descriptor array 132 shape: (3200,)\n",
      "Descriptor array 133 shape: (3200,)\n",
      "Descriptor array 134 shape: (3200,)\n",
      "Descriptor array 135 shape: (3200,)\n",
      "Descriptor array 136 shape: (3200,)\n",
      "Descriptor array 137 shape: (3200,)\n",
      "Descriptor array 138 shape: (3200,)\n",
      "Descriptor array 139 shape: (3200,)\n",
      "Descriptor array 140 shape: (3200,)\n",
      "Descriptor array 141 shape: (3200,)\n",
      "Descriptor array 142 shape: (3200,)\n",
      "Descriptor array 143 shape: (3200,)\n",
      "Descriptor array 144 shape: (3200,)\n",
      "Descriptor array 145 shape: (3200,)\n",
      "Descriptor array 146 shape: (3200,)\n",
      "Descriptor array 147 shape: (3200,)\n",
      "Descriptor array 148 shape: (3200,)\n",
      "Descriptor array 149 shape: (3200,)\n",
      "Descriptor array 150 shape: (3200,)\n",
      "Descriptor array 151 shape: (3200,)\n",
      "Descriptor array 152 shape: (3200,)\n",
      "Descriptor array 153 shape: (3200,)\n",
      "Descriptor array 154 shape: (3200,)\n",
      "Descriptor array 155 shape: (3200,)\n",
      "Descriptor array 156 shape: (3200,)\n",
      "Descriptor array 157 shape: (3200,)\n",
      "Descriptor array 158 shape: (3200,)\n",
      "Descriptor array 159 shape: (3200,)\n",
      "Descriptor array 160 shape: (3200,)\n",
      "Descriptor array 161 shape: (3200,)\n",
      "Descriptor array 162 shape: (3200,)\n",
      "Descriptor array 163 shape: (3200,)\n",
      "Descriptor array 164 shape: (3200,)\n",
      "Descriptor array 165 shape: (3200,)\n",
      "Descriptor array 166 shape: (3200,)\n",
      "Descriptor array 167 shape: (3200,)\n",
      "Descriptor array 168 shape: (3200,)\n",
      "Descriptor array 169 shape: (3200,)\n",
      "Descriptor array 170 shape: (3200,)\n",
      "Descriptor array 171 shape: (3200,)\n",
      "Descriptor array 172 shape: (3200,)\n",
      "Descriptor array 173 shape: (3200,)\n",
      "Descriptor array 174 shape: (3200,)\n",
      "Descriptor array 175 shape: (3200,)\n",
      "Descriptor array 176 shape: (3200,)\n",
      "Descriptor array 177 shape: (3200,)\n",
      "Descriptor array 178 shape: (3200,)\n",
      "Descriptor array 179 shape: (3200,)\n",
      "Descriptor array 180 shape: (3200,)\n",
      "Descriptor array 181 shape: (3200,)\n",
      "Descriptor array 182 shape: (3200,)\n",
      "Descriptor array 183 shape: (3200,)\n",
      "Descriptor array 184 shape: (3200,)\n",
      "Descriptor array 185 shape: (3200,)\n",
      "Descriptor array 186 shape: (3200,)\n",
      "Descriptor array 187 shape: (3200,)\n",
      "Descriptor array 188 shape: (3200,)\n",
      "Descriptor array 189 shape: (3200,)\n",
      "Descriptor array 190 shape: (3200,)\n",
      "Descriptor array 191 shape: (3200,)\n",
      "Descriptor array 192 shape: (3200,)\n",
      "Descriptor array 193 shape: (3200,)\n",
      "Descriptor array 194 shape: (3200,)\n",
      "Descriptor array 195 shape: (3200,)\n",
      "Descriptor array 196 shape: (3200,)\n",
      "Descriptor array 197 shape: (3200,)\n",
      "Descriptor array 198 shape: (3200,)\n",
      "Descriptor array 199 shape: (3200,)\n",
      "Descriptor array 200 shape: (3200,)\n",
      "Descriptor array 201 shape: (3200,)\n",
      "Descriptor array 202 shape: (3200,)\n",
      "Descriptor array 203 shape: (3200,)\n",
      "Descriptor array 204 shape: (3200,)\n",
      "Descriptor array 205 shape: (3200,)\n",
      "Descriptor array 206 shape: (3200,)\n",
      "Descriptor array 207 shape: (3200,)\n",
      "Descriptor array 208 shape: (3200,)\n",
      "Descriptor array 209 shape: (3200,)\n",
      "Descriptor array 210 shape: (3200,)\n",
      "Descriptor array 211 shape: (3200,)\n",
      "Descriptor array 212 shape: (3200,)\n",
      "Descriptor array 213 shape: (3200,)\n",
      "Descriptor array 214 shape: (3200,)\n",
      "Descriptor array 215 shape: (3200,)\n",
      "Descriptor array 216 shape: (3200,)\n",
      "Descriptor array 217 shape: (3200,)\n",
      "Descriptor array 218 shape: (3200,)\n",
      "Descriptor array 219 shape: (3200,)\n",
      "Descriptor array 220 shape: (3200,)\n",
      "Descriptor array 221 shape: (3200,)\n",
      "Descriptor array 222 shape: (3200,)\n",
      "Descriptor array 223 shape: (3200,)\n",
      "Descriptor array 224 shape: (3200,)\n",
      "Descriptor array 225 shape: (3200,)\n",
      "Descriptor array 226 shape: (3200,)\n",
      "Descriptor array 227 shape: (3200,)\n",
      "Descriptor array 228 shape: (3200,)\n",
      "Descriptor array 229 shape: (3200,)\n",
      "Descriptor array 230 shape: (3200,)\n",
      "Descriptor array 231 shape: (3200,)\n",
      "Descriptor array 232 shape: (3200,)\n",
      "Descriptor array 233 shape: (3200,)\n",
      "Descriptor array 234 shape: (3200,)\n",
      "Descriptor array 235 shape: (3200,)\n",
      "Descriptor array 236 shape: (3200,)\n",
      "Descriptor array 237 shape: (3200,)\n",
      "Descriptor array 238 shape: (3200,)\n",
      "Descriptor array 239 shape: (3200,)\n",
      "Descriptor array 240 shape: (3200,)\n",
      "Descriptor array 241 shape: (3200,)\n",
      "Descriptor array 242 shape: (3200,)\n",
      "Descriptor array 243 shape: (3200,)\n",
      "Descriptor array 244 shape: (3200,)\n",
      "Descriptor array 245 shape: (3200,)\n",
      "Descriptor array 246 shape: (3200,)\n",
      "Descriptor array 247 shape: (3200,)\n",
      "Descriptor array 248 shape: (3200,)\n",
      "Descriptor array 249 shape: (3200,)\n",
      "Descriptor array 250 shape: (3200,)\n",
      "Descriptor array 251 shape: (3200,)\n",
      "Descriptor array 252 shape: (3200,)\n",
      "Descriptor array 253 shape: (3200,)\n",
      "Descriptor array 254 shape: (3200,)\n",
      "Descriptor array 255 shape: (3200,)\n",
      "Descriptor array 256 shape: (3200,)\n",
      "Descriptor array 257 shape: (3200,)\n",
      "Descriptor array 258 shape: (3200,)\n",
      "Descriptor array 259 shape: (3200,)\n",
      "Descriptor array 260 shape: (3200,)\n",
      "Descriptor array 261 shape: (3200,)\n",
      "Descriptor array 262 shape: (3200,)\n",
      "Descriptor array 263 shape: (3200,)\n",
      "Descriptor array 264 shape: (3200,)\n",
      "Descriptor array 265 shape: (3200,)\n",
      "Descriptor array 266 shape: (3200,)\n",
      "Descriptor array 267 shape: (3200,)\n",
      "Descriptor array 268 shape: (3200,)\n",
      "Descriptor array 269 shape: (3200,)\n",
      "Descriptor array 270 shape: (3200,)\n",
      "Descriptor array 271 shape: (3200,)\n",
      "Descriptor array 272 shape: (3200,)\n",
      "Descriptor array 273 shape: (3200,)\n",
      "Descriptor array 274 shape: (3200,)\n",
      "Descriptor array 275 shape: (3200,)\n",
      "Descriptor array 276 shape: (3200,)\n",
      "Descriptor array 277 shape: (3200,)\n",
      "Descriptor array 278 shape: (3200,)\n",
      "Descriptor array 279 shape: (3200,)\n",
      "Descriptor array 280 shape: (3200,)\n",
      "Descriptor array 281 shape: (3200,)\n",
      "Descriptor array 282 shape: (3200,)\n",
      "Descriptor array 283 shape: (3200,)\n",
      "Descriptor array 284 shape: (3200,)\n",
      "Descriptor array 285 shape: (3200,)\n",
      "Descriptor array 286 shape: (3200,)\n",
      "Descriptor array 287 shape: (3200,)\n",
      "Descriptor array 288 shape: (3200,)\n",
      "Descriptor array 289 shape: (3200,)\n",
      "Descriptor array 290 shape: (3200,)\n",
      "Descriptor array 291 shape: (3200,)\n",
      "Descriptor array 292 shape: (3200,)\n",
      "Descriptor array 293 shape: (3200,)\n",
      "Descriptor array 294 shape: (3200,)\n",
      "Descriptor array 295 shape: (3200,)\n",
      "Descriptor array 296 shape: (3200,)\n",
      "Descriptor array 297 shape: (3200,)\n",
      "Descriptor array 298 shape: (3200,)\n",
      "Descriptor array 299 shape: (3200,)\n",
      "Descriptor array 300 shape: (3200,)\n",
      "Descriptor array 301 shape: (3200,)\n",
      "Descriptor array 302 shape: (3200,)\n",
      "Descriptor array 303 shape: (3200,)\n",
      "Descriptor array 304 shape: (3200,)\n",
      "Descriptor array 305 shape: (3200,)\n",
      "Descriptor array 306 shape: (3200,)\n",
      "Descriptor array 307 shape: (3200,)\n",
      "Descriptor array 308 shape: (3200,)\n",
      "Descriptor array 309 shape: (3200,)\n",
      "Descriptor array 310 shape: (3200,)\n",
      "Descriptor array 311 shape: (3200,)\n",
      "Descriptor array 312 shape: (3200,)\n",
      "Descriptor array 313 shape: (3200,)\n",
      "Descriptor array 314 shape: (3200,)\n",
      "Descriptor array 315 shape: (3200,)\n",
      "Descriptor array 316 shape: (3200,)\n",
      "Descriptor array 317 shape: (3200,)\n",
      "Descriptor array 318 shape: (3200,)\n",
      "Descriptor array 319 shape: (3200,)\n",
      "Descriptor array 320 shape: (3200,)\n",
      "Descriptor array 321 shape: (3200,)\n",
      "Descriptor array 322 shape: (3200,)\n",
      "Descriptor array 323 shape: (3200,)\n",
      "Descriptor array 324 shape: (3200,)\n",
      "Descriptor array 325 shape: (3200,)\n",
      "Descriptor array 326 shape: (3200,)\n",
      "Descriptor array 327 shape: (3200,)\n",
      "Descriptor array 328 shape: (3200,)\n",
      "Descriptor array 329 shape: (3200,)\n",
      "Descriptor array 330 shape: (3200,)\n",
      "Descriptor array 331 shape: (3200,)\n",
      "Descriptor array 332 shape: (3200,)\n",
      "Descriptor array 333 shape: (3200,)\n",
      "Descriptor array 334 shape: (3200,)\n",
      "Descriptor array 335 shape: (3200,)\n",
      "Descriptor array 336 shape: (3200,)\n",
      "Descriptor array 337 shape: (3200,)\n",
      "Descriptor array 338 shape: (3200,)\n",
      "Descriptor array 339 shape: (3200,)\n",
      "Descriptor array 340 shape: (3200,)\n",
      "Descriptor array 341 shape: (3200,)\n",
      "Descriptor array 342 shape: (3200,)\n",
      "Descriptor array 343 shape: (3200,)\n",
      "Descriptor array 344 shape: (3200,)\n",
      "Descriptor array 345 shape: (3200,)\n",
      "Descriptor array 346 shape: (3200,)\n",
      "Descriptor array 347 shape: (3200,)\n",
      "Descriptor array 348 shape: (3200,)\n",
      "Descriptor array 349 shape: (3200,)\n",
      "Descriptor array 350 shape: (3200,)\n",
      "Descriptor array 351 shape: (3200,)\n",
      "Descriptor array 352 shape: (3200,)\n",
      "Descriptor array 353 shape: (3200,)\n",
      "Descriptor array 354 shape: (3200,)\n",
      "Descriptor array 355 shape: (3200,)\n",
      "Descriptor array 356 shape: (3200,)\n",
      "Descriptor array 357 shape: (3200,)\n",
      "Descriptor array 358 shape: (3200,)\n",
      "Descriptor array 359 shape: (3200,)\n",
      "Descriptor array 360 shape: (3200,)\n",
      "Descriptor array 361 shape: (3200,)\n",
      "Descriptor array 362 shape: (3200,)\n",
      "Descriptor array 363 shape: (3200,)\n",
      "Descriptor array 364 shape: (3200,)\n",
      "Descriptor array 365 shape: (3200,)\n",
      "Descriptor array 366 shape: (3200,)\n",
      "Descriptor array 367 shape: (3200,)\n",
      "Descriptor array 368 shape: (3200,)\n",
      "Descriptor array 369 shape: (3200,)\n",
      "Descriptor array 370 shape: (3200,)\n",
      "Descriptor array 371 shape: (3200,)\n",
      "Descriptor array 372 shape: (3200,)\n",
      "Descriptor array 373 shape: (3200,)\n",
      "Descriptor array 374 shape: (3200,)\n",
      "Descriptor array 375 shape: (3200,)\n",
      "Descriptor array 376 shape: (3200,)\n",
      "Descriptor array 377 shape: (3200,)\n",
      "Descriptor array 378 shape: (3200,)\n",
      "Descriptor array 379 shape: (3200,)\n",
      "Descriptor array 380 shape: (3200,)\n",
      "Descriptor array 381 shape: (3200,)\n",
      "Descriptor array 382 shape: (3200,)\n",
      "Descriptor array 383 shape: (3200,)\n",
      "Descriptor array 384 shape: (3200,)\n",
      "Descriptor array 385 shape: (3200,)\n",
      "Descriptor array 386 shape: (3200,)\n",
      "Descriptor array 387 shape: (3200,)\n",
      "Descriptor array 388 shape: (3200,)\n",
      "Descriptor array 389 shape: (3200,)\n",
      "Descriptor array 390 shape: (3200,)\n",
      "Descriptor array 391 shape: (3200,)\n",
      "Descriptor array 392 shape: (3200,)\n",
      "Descriptor array 393 shape: (3200,)\n",
      "Descriptor array 394 shape: (3200,)\n",
      "Descriptor array 395 shape: (3200,)\n",
      "Descriptor array 396 shape: (3200,)\n",
      "Descriptor array 397 shape: (3200,)\n",
      "Descriptor array 398 shape: (3200,)\n",
      "Descriptor array 399 shape: (3200,)\n",
      "Descriptor array 400 shape: (3200,)\n",
      "Descriptor array 401 shape: (3200,)\n",
      "Descriptor array 402 shape: (3200,)\n",
      "Descriptor array 403 shape: (3200,)\n",
      "Descriptor array 404 shape: (3200,)\n",
      "Descriptor array 405 shape: (3200,)\n",
      "Descriptor array 406 shape: (3200,)\n",
      "Descriptor array 407 shape: (3200,)\n",
      "Descriptor array 408 shape: (3200,)\n",
      "Descriptor array 409 shape: (3200,)\n",
      "Descriptor array 410 shape: (3200,)\n",
      "Descriptor array 411 shape: (3200,)\n",
      "Descriptor array 412 shape: (3200,)\n",
      "Descriptor array 413 shape: (3200,)\n",
      "Descriptor array 414 shape: (3200,)\n",
      "Descriptor array 415 shape: (3200,)\n",
      "Descriptor array 416 shape: (3200,)\n",
      "Descriptor array 417 shape: (3200,)\n",
      "Descriptor array 418 shape: (3200,)\n",
      "Descriptor array 419 shape: (3200,)\n",
      "Descriptor array 420 shape: (3200,)\n",
      "Descriptor array 421 shape: (3200,)\n",
      "Descriptor array 422 shape: (3200,)\n",
      "Descriptor array 423 shape: (3200,)\n",
      "Descriptor array 424 shape: (3200,)\n",
      "Descriptor array 425 shape: (3200,)\n",
      "Descriptor array 426 shape: (3200,)\n",
      "Descriptor array 427 shape: (3200,)\n",
      "Descriptor array 428 shape: (3200,)\n",
      "Descriptor array 429 shape: (3200,)\n",
      "Descriptor array 430 shape: (3200,)\n",
      "Descriptor array 431 shape: (3200,)\n",
      "Descriptor array 432 shape: (3200,)\n",
      "Descriptor array 433 shape: (3200,)\n",
      "Descriptor array 434 shape: (3200,)\n",
      "Descriptor array 435 shape: (3200,)\n",
      "Descriptor array 436 shape: (3200,)\n",
      "Descriptor array 437 shape: (3200,)\n",
      "Descriptor array 438 shape: (3200,)\n",
      "Descriptor array 439 shape: (3200,)\n",
      "Descriptor array 440 shape: (3200,)\n",
      "Descriptor array 441 shape: (3200,)\n",
      "Descriptor array 442 shape: (3200,)\n",
      "Descriptor array 443 shape: (3200,)\n",
      "Descriptor array 444 shape: (3200,)\n",
      "Descriptor array 445 shape: (3200,)\n",
      "Descriptor array 446 shape: (3200,)\n",
      "Descriptor array 447 shape: (3200,)\n",
      "Descriptor array 448 shape: (3200,)\n",
      "Descriptor array 449 shape: (3200,)\n",
      "Descriptor array 450 shape: (3200,)\n",
      "Descriptor array 451 shape: (3200,)\n",
      "Descriptor array 452 shape: (3200,)\n",
      "Descriptor array 453 shape: (3200,)\n",
      "Descriptor array 454 shape: (3200,)\n",
      "Descriptor array 455 shape: (3200,)\n",
      "Descriptor array 456 shape: (3200,)\n",
      "Descriptor array 457 shape: (3200,)\n",
      "Descriptor array 458 shape: (3200,)\n",
      "Descriptor array 459 shape: (3200,)\n",
      "Descriptor array 460 shape: (3200,)\n",
      "Descriptor array 461 shape: (3200,)\n",
      "Descriptor array 462 shape: (3200,)\n",
      "Descriptor array 463 shape: (3200,)\n",
      "Descriptor array 464 shape: (3200,)\n",
      "Descriptor array 465 shape: (3200,)\n",
      "Descriptor array 466 shape: (3200,)\n",
      "Descriptor array 467 shape: (3200,)\n",
      "Descriptor array 468 shape: (3200,)\n",
      "Descriptor array 469 shape: (3200,)\n",
      "Descriptor array 470 shape: (3200,)\n",
      "Descriptor array 471 shape: (3200,)\n",
      "Descriptor array 472 shape: (3200,)\n",
      "Descriptor array 473 shape: (3200,)\n",
      "Descriptor array 474 shape: (3200,)\n",
      "Descriptor array 475 shape: (3200,)\n",
      "Descriptor array 476 shape: (3200,)\n",
      "Descriptor array 477 shape: (3200,)\n",
      "Descriptor array 478 shape: (3200,)\n",
      "Descriptor array 479 shape: (3200,)\n",
      "Descriptor array 480 shape: (3200,)\n",
      "Descriptor array 481 shape: (3200,)\n",
      "Descriptor array 482 shape: (3200,)\n",
      "Descriptor array 483 shape: (3200,)\n",
      "Descriptor array 484 shape: (3200,)\n",
      "Descriptor array 485 shape: (3200,)\n",
      "Descriptor array 486 shape: (3200,)\n",
      "Descriptor array 487 shape: (3200,)\n",
      "Descriptor array 488 shape: (3200,)\n",
      "Descriptor array 489 shape: (3200,)\n",
      "Descriptor array 490 shape: (3200,)\n",
      "Descriptor array 491 shape: (3200,)\n",
      "Descriptor array 492 shape: (3200,)\n",
      "Descriptor array 493 shape: (3200,)\n",
      "Descriptor array 494 shape: (3200,)\n",
      "Descriptor array 495 shape: (3200,)\n",
      "Descriptor array 496 shape: (3200,)\n",
      "Descriptor array 497 shape: (3200,)\n",
      "Descriptor array 498 shape: (3200,)\n",
      "Descriptor array 499 shape: (3200,)\n",
      "Descriptor array 500 shape: (3200,)\n",
      "Descriptor array 501 shape: (3200,)\n",
      "Descriptor array 502 shape: (3200,)\n",
      "Descriptor array 503 shape: (3200,)\n",
      "Descriptor array 504 shape: (3200,)\n",
      "Descriptor array 505 shape: (3200,)\n",
      "Descriptor array 506 shape: (3200,)\n",
      "Descriptor array 507 shape: (3200,)\n",
      "Descriptor array 508 shape: (3200,)\n",
      "Descriptor array 509 shape: (3200,)\n",
      "Descriptor array 510 shape: (3200,)\n",
      "Descriptor array 511 shape: (3200,)\n",
      "Descriptor array 512 shape: (3200,)\n",
      "Descriptor array 513 shape: (3200,)\n",
      "Descriptor array 514 shape: (3200,)\n",
      "Descriptor array 515 shape: (3200,)\n",
      "Descriptor array 516 shape: (3200,)\n",
      "Descriptor array 517 shape: (3200,)\n",
      "Descriptor array 518 shape: (3200,)\n",
      "Descriptor array 519 shape: (3200,)\n",
      "Descriptor array 520 shape: (3200,)\n",
      "Descriptor array 521 shape: (3200,)\n",
      "Descriptor array 522 shape: (3200,)\n",
      "Descriptor array 523 shape: (3200,)\n",
      "Descriptor array 524 shape: (3200,)\n",
      "Descriptor array 525 shape: (3200,)\n",
      "Descriptor array 526 shape: (3200,)\n",
      "Descriptor array 527 shape: (3200,)\n",
      "Descriptor array 528 shape: (3200,)\n",
      "Descriptor array 529 shape: (3200,)\n",
      "Descriptor array 530 shape: (3200,)\n",
      "Descriptor array 531 shape: (3200,)\n",
      "Descriptor array 532 shape: (3200,)\n",
      "Descriptor array 533 shape: (3200,)\n",
      "Descriptor array 534 shape: (3200,)\n",
      "Descriptor array 535 shape: (3200,)\n",
      "Descriptor array 536 shape: (3200,)\n",
      "Descriptor array 537 shape: (3200,)\n",
      "Descriptor array 538 shape: (3200,)\n",
      "Descriptor array 539 shape: (3200,)\n",
      "Descriptor array 540 shape: (3200,)\n",
      "Descriptor array 541 shape: (3200,)\n",
      "Descriptor array 542 shape: (3200,)\n",
      "Descriptor array 543 shape: (3200,)\n",
      "Descriptor array 544 shape: (3200,)\n",
      "Descriptor array 545 shape: (3200,)\n",
      "Descriptor array 546 shape: (3200,)\n",
      "Descriptor array 547 shape: (3200,)\n",
      "Descriptor array 548 shape: (3200,)\n",
      "Descriptor array 549 shape: (3200,)\n",
      "Descriptor array 550 shape: (3200,)\n",
      "Descriptor array 551 shape: (3200,)\n",
      "Descriptor array 552 shape: (3200,)\n",
      "Descriptor array 553 shape: (3200,)\n",
      "Descriptor array 554 shape: (3200,)\n",
      "Descriptor array 555 shape: (3200,)\n",
      "Descriptor array 556 shape: (3200,)\n",
      "Descriptor array 557 shape: (3200,)\n",
      "Descriptor array 558 shape: (3200,)\n",
      "Descriptor array 559 shape: (3200,)\n",
      "Descriptor array 560 shape: (3200,)\n",
      "Descriptor array 561 shape: (3200,)\n",
      "Descriptor array 562 shape: (3200,)\n",
      "Descriptor array 563 shape: (3200,)\n",
      "Descriptor array 564 shape: (3200,)\n",
      "Descriptor array 565 shape: (3200,)\n",
      "Descriptor array 566 shape: (3200,)\n",
      "Descriptor array 567 shape: (3200,)\n",
      "Descriptor array 568 shape: (3200,)\n",
      "Descriptor array 569 shape: (3200,)\n",
      "Descriptor array 570 shape: (3200,)\n",
      "Descriptor array 571 shape: (3200,)\n",
      "Descriptor array 572 shape: (3200,)\n",
      "Descriptor array 573 shape: (3200,)\n",
      "Descriptor array 574 shape: (3200,)\n",
      "Descriptor array 575 shape: (3200,)\n",
      "Descriptor array 576 shape: (3200,)\n",
      "Descriptor array 577 shape: (3200,)\n",
      "Descriptor array 578 shape: (3200,)\n",
      "Descriptor array 579 shape: (3200,)\n",
      "Descriptor array 580 shape: (3200,)\n",
      "Descriptor array 581 shape: (3200,)\n",
      "Descriptor array 582 shape: (3200,)\n",
      "Descriptor array 583 shape: (3200,)\n",
      "Descriptor array 584 shape: (3200,)\n",
      "Descriptor array 585 shape: (3200,)\n",
      "Descriptor array 586 shape: (3200,)\n",
      "Descriptor array 587 shape: (3200,)\n",
      "Descriptor array 588 shape: (3200,)\n",
      "Descriptor array 589 shape: (3200,)\n",
      "Descriptor array 590 shape: (3200,)\n",
      "Descriptor array 591 shape: (3200,)\n",
      "Descriptor array 592 shape: (3200,)\n",
      "Descriptor array 593 shape: (3200,)\n",
      "Descriptor array 594 shape: (3200,)\n",
      "Descriptor array 595 shape: (3200,)\n",
      "Descriptor array 596 shape: (3200,)\n",
      "Descriptor array 597 shape: (3200,)\n",
      "Descriptor array 598 shape: (3200,)\n",
      "Descriptor array 599 shape: (3200,)\n",
      "Descriptor array 600 shape: (3200,)\n",
      "Descriptor array 601 shape: (3200,)\n",
      "Descriptor array 602 shape: (3200,)\n",
      "Descriptor array 603 shape: (3200,)\n",
      "Descriptor array 604 shape: (3200,)\n",
      "Descriptor array 605 shape: (3200,)\n",
      "Descriptor array 606 shape: (3200,)\n",
      "Descriptor array 607 shape: (3200,)\n",
      "Descriptor array 608 shape: (3200,)\n",
      "Descriptor array 609 shape: (3200,)\n",
      "Descriptor array 610 shape: (3200,)\n",
      "Descriptor array 611 shape: (3200,)\n",
      "Descriptor array 612 shape: (3200,)\n",
      "Descriptor array 613 shape: (3200,)\n",
      "Descriptor array 614 shape: (3200,)\n",
      "Descriptor array 615 shape: (3200,)\n",
      "Descriptor array 616 shape: (3200,)\n",
      "Descriptor array 617 shape: (3200,)\n",
      "Descriptor array 618 shape: (3200,)\n",
      "Descriptor array 619 shape: (3200,)\n",
      "Descriptor array 620 shape: (3200,)\n",
      "Descriptor array 621 shape: (3200,)\n",
      "Descriptor array 622 shape: (3200,)\n",
      "Descriptor array 623 shape: (3200,)\n",
      "Descriptor array 624 shape: (3200,)\n",
      "Descriptor array 625 shape: (3200,)\n",
      "Descriptor array 626 shape: (3200,)\n",
      "Descriptor array 627 shape: (3200,)\n",
      "Descriptor array 628 shape: (3200,)\n",
      "Descriptor array 629 shape: (3200,)\n",
      "Descriptor array 630 shape: (3200,)\n",
      "Descriptor array 631 shape: (3200,)\n",
      "Descriptor array 632 shape: (3200,)\n",
      "Descriptor array 633 shape: (3200,)\n",
      "Descriptor array 634 shape: (3200,)\n",
      "Descriptor array 635 shape: (3200,)\n",
      "Descriptor array 636 shape: (3200,)\n",
      "Descriptor array 637 shape: (3200,)\n",
      "Descriptor array 638 shape: (3200,)\n",
      "Descriptor array 639 shape: (3200,)\n",
      "Descriptor array 640 shape: (3200,)\n",
      "Descriptor array 641 shape: (3200,)\n",
      "Descriptor array 642 shape: (3200,)\n",
      "Descriptor array 643 shape: (3200,)\n",
      "Descriptor array 644 shape: (3200,)\n",
      "Descriptor array 645 shape: (3200,)\n",
      "Descriptor array 646 shape: (3200,)\n",
      "Descriptor array 647 shape: (3200,)\n",
      "Descriptor array 648 shape: (3200,)\n",
      "Descriptor array 649 shape: (3200,)\n",
      "Descriptor array 650 shape: (3200,)\n",
      "Descriptor array 651 shape: (3200,)\n",
      "Descriptor array 652 shape: (3200,)\n",
      "Descriptor array 653 shape: (3200,)\n",
      "Descriptor array 654 shape: (3200,)\n",
      "Descriptor array 655 shape: (3200,)\n",
      "Descriptor array 656 shape: (3200,)\n",
      "Descriptor array 657 shape: (3200,)\n",
      "Descriptor array 658 shape: (3200,)\n",
      "Descriptor array 659 shape: (3200,)\n",
      "Descriptor array 660 shape: (3200,)\n",
      "Descriptor array 661 shape: (3200,)\n",
      "Descriptor array 662 shape: (3200,)\n",
      "Descriptor array 663 shape: (3200,)\n",
      "Descriptor array 664 shape: (3200,)\n",
      "Descriptor array 665 shape: (3200,)\n",
      "Descriptor array 666 shape: (3200,)\n",
      "Descriptor array 667 shape: (3200,)\n",
      "Descriptor array 668 shape: (3200,)\n",
      "Descriptor array 669 shape: (3200,)\n",
      "Descriptor array 670 shape: (3200,)\n",
      "Descriptor array 671 shape: (3200,)\n",
      "Descriptor array 672 shape: (3200,)\n",
      "Descriptor array 673 shape: (3200,)\n",
      "Descriptor array 674 shape: (3200,)\n",
      "Descriptor array 675 shape: (3200,)\n",
      "Descriptor array 676 shape: (3200,)\n",
      "Descriptor array 677 shape: (3200,)\n",
      "Descriptor array 678 shape: (3200,)\n",
      "Descriptor array 679 shape: (3200,)\n",
      "Descriptor array 680 shape: (3200,)\n",
      "Descriptor array 681 shape: (3200,)\n",
      "Descriptor array 682 shape: (3200,)\n",
      "Descriptor array 683 shape: (3200,)\n",
      "Descriptor array 684 shape: (3200,)\n",
      "Descriptor array 685 shape: (3200,)\n",
      "Descriptor array 686 shape: (3200,)\n",
      "Descriptor array 687 shape: (3200,)\n",
      "Descriptor array 688 shape: (3200,)\n",
      "Descriptor array 689 shape: (3200,)\n",
      "Descriptor array 690 shape: (3200,)\n",
      "Descriptor array 691 shape: (3200,)\n",
      "Descriptor array 692 shape: (3200,)\n",
      "Descriptor array 693 shape: (3200,)\n",
      "Descriptor array 694 shape: (3200,)\n",
      "Descriptor array 695 shape: (3200,)\n",
      "Descriptor array 696 shape: (3200,)\n",
      "Descriptor array 697 shape: (3200,)\n",
      "Descriptor array 698 shape: (3200,)\n",
      "Descriptor array 699 shape: (3200,)\n",
      "Descriptor array 700 shape: (3200,)\n",
      "Descriptor array 701 shape: (3200,)\n",
      "Descriptor array 702 shape: (3200,)\n",
      "Descriptor array 703 shape: (3200,)\n"
     ]
    }
   ],
   "source": [
    "for i, arr in enumerate(orb_features):\n",
    "    print(f\"Descriptor array {i} shape: {arr.shape}\")"
   ]
  },
  {
   "cell_type": "code",
   "execution_count": 44,
   "metadata": {},
   "outputs": [],
   "source": [
    "mean = np.mean(orb_features, axis=0)\n",
    "std = np.std(orb_features, axis=0)\n",
    "orb_features_norm = (orb_features - mean) / std"
   ]
  },
  {
   "cell_type": "markdown",
   "metadata": {},
   "source": [
    "#### SVM"
   ]
  },
  {
   "attachments": {},
   "cell_type": "markdown",
   "metadata": {},
   "source": [
    "##### gender"
   ]
  },
  {
   "cell_type": "code",
   "execution_count": 45,
   "metadata": {},
   "outputs": [
    {
     "name": "stdout",
     "output_type": "stream",
     "text": [
      "Samples in Training: 563\n",
      "Samples in Testing: 141\n"
     ]
    }
   ],
   "source": [
    "X_train, X_test, y_train, y_test = train_test_split(orb_features_norm, Genders, test_size=0.2, random_state=42)\n",
    "print(\"Samples in Training:\",X_train.shape[0])\n",
    "print(\"Samples in Testing:\",X_test.shape[0])"
   ]
  },
  {
   "cell_type": "code",
   "execution_count": 46,
   "metadata": {},
   "outputs": [
    {
     "name": "stdout",
     "output_type": "stream",
     "text": [
      "MCC:  0.10058684592980506\n",
      "              precision    recall  f1-score   support\n",
      "\n",
      "           0       0.47      0.77      0.59        62\n",
      "           1       0.64      0.32      0.42        79\n",
      "\n",
      "    accuracy                           0.52       141\n",
      "   macro avg       0.56      0.55      0.50       141\n",
      "weighted avg       0.57      0.52      0.49       141\n",
      "\n"
     ]
    },
    {
     "data": {
      "image/png": "[encoded data removed]",
      "text/plain": [
       "<Figure size 640x480 with 2 Axes>"
      ]
     },
     "metadata": {},
     "output_type": "display_data"
    }
   ],
   "source": [
    "clf = SVC()\n",
    "clf.fit(X_train, y_train)\n",
    "\n",
    "# Evaluate the classifier on the testing data\n",
    "y_pred = clf.predict(X_test)\n",
    "\n",
    "mcc = matthews_corrcoef(y_test, y_pred)\n",
    "#accuracy = accuracy_score(y_test, y_pred)\n",
    "print(\"MCC: \", mcc)\n",
    "#print(\"Accuracy: \", accuracy)\n",
    "print(classification_report(y_test, y_pred))\n",
    "#confusion_matrix(y_test, y_pred)\n",
    "\n",
    "labelGender = list(set(genders))\n",
    "\n",
    "# assume y_true and y_pred are the true and predicted labels, respectively\n",
    "cm = confusion_matrix(y_test, y_pred)\n",
    "\n",
    "# create a heatmap of the confusion matrix using seaborn\n",
    "sns.heatmap(cm, annot=True, cmap=\"Blues\", fmt=\"d\", xticklabels=labelGender, yticklabels=labelGender)\n",
    "\n",
    "# set plot labels and title\n",
    "plt.xlabel('Predicted Label')\n",
    "plt.ylabel('True Label')\n",
    "plt.title('Confusion Matrix')\n",
    "\n",
    "plt.show()"
   ]
  },
  {
   "attachments": {},
   "cell_type": "markdown",
   "metadata": {},
   "source": [
    "##### age"
   ]
  },
  {
   "cell_type": "code",
   "execution_count": 47,
   "metadata": {},
   "outputs": [],
   "source": [
    "X_train, X_test, y_train, y_test = train_test_split(orb_features_norm, Age, test_size=0.2, random_state=42)"
   ]
  },
  {
   "cell_type": "code",
   "execution_count": 48,
   "metadata": {},
   "outputs": [
    {
     "name": "stderr",
     "output_type": "stream",
     "text": [
      "c:\\Users\\User\\AppData\\Local\\Programs\\Python\\Python310\\lib\\site-packages\\sklearn\\multiclass.py:77: UserWarning: Label not 0 is present in all training examples.\n",
      "  warnings.warn(\n",
      "c:\\Users\\User\\AppData\\Local\\Programs\\Python\\Python310\\lib\\site-packages\\sklearn\\multiclass.py:77: UserWarning: Label not 3 is present in all training examples.\n",
      "  warnings.warn(\n",
      "c:\\Users\\User\\AppData\\Local\\Programs\\Python\\Python310\\lib\\site-packages\\sklearn\\multiclass.py:77: UserWarning: Label not 4 is present in all training examples.\n",
      "  warnings.warn(\n"
     ]
    },
    {
     "name": "stdout",
     "output_type": "stream",
     "text": [
      "MCC:  0.0162322701179524\n",
      "              precision    recall  f1-score   support\n",
      "\n",
      "           0       0.00      0.00      0.00         0\n",
      "           1       0.00      0.00      0.00        77\n",
      "           2       0.47      0.12      0.19        59\n",
      "           5       0.00      0.00      0.00         5\n",
      "\n",
      "    accuracy                           0.05       141\n",
      "   macro avg       0.12      0.03      0.05       141\n",
      "weighted avg       0.20      0.05      0.08       141\n",
      "\n",
      "[[ 0  0  0  0]\n",
      " [69  0  8  0]\n",
      " [52  0  7  0]\n",
      " [ 5  0  0  0]]\n"
     ]
    },
    {
     "name": "stderr",
     "output_type": "stream",
     "text": [
      "c:\\Users\\User\\AppData\\Local\\Programs\\Python\\Python310\\lib\\site-packages\\sklearn\\metrics\\_classification.py:1344: UndefinedMetricWarning: Precision and F-score are ill-defined and being set to 0.0 in labels with no predicted samples. Use `zero_division` parameter to control this behavior.\n",
      "  _warn_prf(average, modifier, msg_start, len(result))\n",
      "c:\\Users\\User\\AppData\\Local\\Programs\\Python\\Python310\\lib\\site-packages\\sklearn\\metrics\\_classification.py:1344: UndefinedMetricWarning: Recall and F-score are ill-defined and being set to 0.0 in labels with no true samples. Use `zero_division` parameter to control this behavior.\n",
      "  _warn_prf(average, modifier, msg_start, len(result))\n",
      "c:\\Users\\User\\AppData\\Local\\Programs\\Python\\Python310\\lib\\site-packages\\sklearn\\metrics\\_classification.py:1344: UndefinedMetricWarning: Precision and F-score are ill-defined and being set to 0.0 in labels with no predicted samples. Use `zero_division` parameter to control this behavior.\n",
      "  _warn_prf(average, modifier, msg_start, len(result))\n",
      "c:\\Users\\User\\AppData\\Local\\Programs\\Python\\Python310\\lib\\site-packages\\sklearn\\metrics\\_classification.py:1344: UndefinedMetricWarning: Recall and F-score are ill-defined and being set to 0.0 in labels with no true samples. Use `zero_division` parameter to control this behavior.\n",
      "  _warn_prf(average, modifier, msg_start, len(result))\n",
      "c:\\Users\\User\\AppData\\Local\\Programs\\Python\\Python310\\lib\\site-packages\\sklearn\\metrics\\_classification.py:1344: UndefinedMetricWarning: Precision and F-score are ill-defined and being set to 0.0 in labels with no predicted samples. Use `zero_division` parameter to control this behavior.\n",
      "  _warn_prf(average, modifier, msg_start, len(result))\n",
      "c:\\Users\\User\\AppData\\Local\\Programs\\Python\\Python310\\lib\\site-packages\\sklearn\\metrics\\_classification.py:1344: UndefinedMetricWarning: Recall and F-score are ill-defined and being set to 0.0 in labels with no true samples. Use `zero_division` parameter to control this behavior.\n",
      "  _warn_prf(average, modifier, msg_start, len(result))\n"
     ]
    }
   ],
   "source": [
    "clf = OneVsRestClassifier(SVC())\n",
    "clf.fit(X_train, y_train)\n",
    "\n",
    "y_pred = clf.predict(X_test)\n",
    "\n",
    "y_test_int = np.argmax(y_test, axis=1)\n",
    "y_pred_int = np.argmax(y_pred, axis=1)\n",
    "\n",
    "# Print classification report and confusion matrix\n",
    "\n",
    "mcc = matthews_corrcoef(y_test_int, y_pred_int)\n",
    "#accuracy = accuracy_score(y_test, y_pred)\n",
    "print(\"MCC: \", mcc)\n",
    "print(classification_report(y_test_int, y_pred_int))\n",
    "print(confusion_matrix(y_test_int, y_pred_int))"
   ]
  },
  {
   "attachments": {},
   "cell_type": "markdown",
   "metadata": {},
   "source": [
    "#### CNN"
   ]
  },
  {
   "attachments": {},
   "cell_type": "markdown",
   "metadata": {},
   "source": [
    "##### gender"
   ]
  },
  {
   "cell_type": "code",
   "execution_count": 49,
   "metadata": {},
   "outputs": [],
   "source": [
    "X_train, X_test, y_train, y_test = train_test_split(orb_features_norm, Genders, test_size=0.20, random_state=42)"
   ]
  },
  {
   "cell_type": "code",
   "execution_count": 50,
   "metadata": {},
   "outputs": [],
   "source": [
    "X_train = np.asarray(X_train)\n",
    "y_train = np.asarray(y_train)\n",
    "\n",
    "X_test = np.asarray(X_test)\n",
    "y_test = np.asarray(y_test)"
   ]
  },
  {
   "cell_type": "code",
   "execution_count": 52,
   "metadata": {},
   "outputs": [],
   "source": [
    "cnn = Sequential()\n",
    "\n",
    "# Input shape is (3200,)\n",
    "cnn.add(layers.Reshape((50, 64, 1), input_shape=X_train[0].shape))\n",
    "cnn.add(layers.MaxPooling2D((2, 2)))\n",
    "cnn.add(layers.Conv2D(32, (3, 3), padding='same', activation='relu'))\n",
    "##cnn.add(layers.MaxPooling2D((2, 2)))\n",
    "cnn.add(layers.Conv2D(64, (3, 3), padding='same', activation='relu'))\n",
    "cnn.add(Flatten())\n",
    "cnn.add(layers.Dense(64, activation='relu'))\n",
    "cnn.add(layers.Dropout(0.2))\n",
    "cnn.add(layers.Dense(1, activation='sigmoid'))\n",
    "\n",
    "#cnn.summary()"
   ]
  },
  {
   "cell_type": "code",
   "execution_count": 53,
   "metadata": {},
   "outputs": [
    {
     "name": "stdout",
     "output_type": "stream",
     "text": [
      "Epoch 1/2\n",
      "18/18 [==============================] - 1s 38ms/step - loss: 0.8500 - val_loss: 0.6919\n",
      "Epoch 2/2\n",
      "18/18 [==============================] - 1s 33ms/step - loss: 0.6927 - val_loss: 0.6932\n"
     ]
    }
   ],
   "source": [
    "cnn.compile(optimizer=\"adam\", loss=\"binary_crossentropy\")\n",
    "\n",
    "history_orb_gender = cnn.fit(X_train, y_train,\n",
    "                        epochs=2,\n",
    "                        batch_size=32,\n",
    "                        validation_data=(X_test, y_test))"
   ]
  },
  {
   "cell_type": "code",
   "execution_count": 56,
   "metadata": {},
   "outputs": [
    {
     "name": "stdout",
     "output_type": "stream",
     "text": [
      "5/5 [==============================] - 0s 7ms/step\n",
      "MCC:  0.0\n"
     ]
    },
    {
     "data": {
      "image/png": "[encoded data removed]",
      "text/plain": [
       "<Figure size 640x480 with 2 Axes>"
      ]
     },
     "metadata": {},
     "output_type": "display_data"
    },
    {
     "name": "stdout",
     "output_type": "stream",
     "text": [
      "              precision    recall  f1-score   support\n",
      "\n",
      "           0       1.00      1.00      1.00       141\n",
      "\n",
      "    accuracy                           1.00       141\n",
      "   macro avg       1.00      1.00      1.00       141\n",
      "weighted avg       1.00      1.00      1.00       141\n",
      "\n"
     ]
    }
   ],
   "source": [
    "cnn_metrics(cnn, X_test, y_test, genders)"
   ]
  },
  {
   "attachments": {},
   "cell_type": "markdown",
   "metadata": {},
   "source": [
    "##### age"
   ]
  },
  {
   "cell_type": "code",
   "execution_count": 59,
   "metadata": {},
   "outputs": [],
   "source": [
    "X_train, X_test, y_train, y_test = train_test_split(orb_features_norm, Age, test_size=0.20, random_state=42)"
   ]
  },
  {
   "cell_type": "code",
   "execution_count": 60,
   "metadata": {},
   "outputs": [],
   "source": [
    "X_train = np.asarray(X_train)\n",
    "y_train = np.asarray(y_train)\n",
    "\n",
    "X_test = np.asarray(X_test)\n",
    "y_test = np.asarray(y_test)"
   ]
  },
  {
   "cell_type": "code",
   "execution_count": 65,
   "metadata": {},
   "outputs": [],
   "source": [
    "cnn = Sequential()\n",
    "\n",
    "# Input shape is (3200,)\n",
    "cnn.add(layers.Reshape((50, 64, 1), input_shape=X_train[0].shape))\n",
    "cnn.add(layers.MaxPooling2D((2, 2)))\n",
    "cnn.add(layers.Conv2D(32, (3, 3), padding='same', activation='relu'))\n",
    "##cnn.add(layers.MaxPooling2D((2, 2)))\n",
    "cnn.add(layers.Conv2D(64, (3, 3), padding='same', activation='relu'))\n",
    "cnn.add(Flatten())\n",
    "cnn.add(layers.Dense(64, activation='relu'))\n",
    "cnn.add(layers.Dropout(0.2))\n",
    "cnn.add(layers.Dense(6, activation='softmax'))\n",
    "\n",
    "#cnn.summary()"
   ]
  },
  {
   "cell_type": "code",
   "execution_count": 66,
   "metadata": {},
   "outputs": [
    {
     "name": "stdout",
     "output_type": "stream",
     "text": [
      "Epoch 1/2\n",
      "18/18 [==============================] - 1s 37ms/step - loss: 0.3593 - val_loss: 0.2752\n",
      "Epoch 2/2\n",
      "18/18 [==============================] - 1s 33ms/step - loss: 0.2822 - val_loss: 0.2844\n"
     ]
    }
   ],
   "source": [
    "cnn.compile(optimizer=\"adam\", loss=\"binary_crossentropy\")\n",
    "\n",
    "history_orb_gender = cnn.fit(X_train, y_train,\n",
    "                        epochs=2,\n",
    "                        batch_size=32,\n",
    "                        validation_data=(X_test, y_test))"
   ]
  },
  {
   "cell_type": "code",
   "execution_count": 67,
   "metadata": {},
   "outputs": [
    {
     "name": "stdout",
     "output_type": "stream",
     "text": [
      "5/5 [==============================] - 0s 5ms/step\n",
      "MCC:  0.0\n"
     ]
    },
    {
     "data": {
      "image/png": "[encoded data removed]",
      "text/plain": [
       "<Figure size 640x480 with 2 Axes>"
      ]
     },
     "metadata": {},
     "output_type": "display_data"
    },
    {
     "name": "stdout",
     "output_type": "stream",
     "text": [
      "              precision    recall  f1-score   support\n",
      "\n",
      "           1       0.00      0.00      0.00        77\n",
      "           2       0.42      1.00      0.59        59\n",
      "           5       0.00      0.00      0.00         5\n",
      "\n",
      "    accuracy                           0.42       141\n",
      "   macro avg       0.14      0.33      0.20       141\n",
      "weighted avg       0.18      0.42      0.25       141\n",
      "\n"
     ]
    },
    {
     "name": "stderr",
     "output_type": "stream",
     "text": [
      "c:\\Users\\User\\AppData\\Local\\Programs\\Python\\Python310\\lib\\site-packages\\sklearn\\metrics\\_classification.py:1344: UndefinedMetricWarning: Precision and F-score are ill-defined and being set to 0.0 in labels with no predicted samples. Use `zero_division` parameter to control this behavior.\n",
      "  _warn_prf(average, modifier, msg_start, len(result))\n",
      "c:\\Users\\User\\AppData\\Local\\Programs\\Python\\Python310\\lib\\site-packages\\sklearn\\metrics\\_classification.py:1344: UndefinedMetricWarning: Precision and F-score are ill-defined and being set to 0.0 in labels with no predicted samples. Use `zero_division` parameter to control this behavior.\n",
      "  _warn_prf(average, modifier, msg_start, len(result))\n",
      "c:\\Users\\User\\AppData\\Local\\Programs\\Python\\Python310\\lib\\site-packages\\sklearn\\metrics\\_classification.py:1344: UndefinedMetricWarning: Precision and F-score are ill-defined and being set to 0.0 in labels with no predicted samples. Use `zero_division` parameter to control this behavior.\n",
      "  _warn_prf(average, modifier, msg_start, len(result))\n"
     ]
    }
   ],
   "source": [
    "cnn_metrics(cnn, X_test, y_test, genders)"
   ]
  },
  {
   "attachments": {},
   "cell_type": "markdown",
   "metadata": {},
   "source": [
    "### CNN VGG 16\n",
    "- https://www.youtube.com/watch?v=IuoEiemAuIY"
   ]
  },
  {
   "cell_type": "code",
   "execution_count": 83,
   "metadata": {},
   "outputs": [
    {
     "name": "stdout",
     "output_type": "stream",
     "text": [
      "Model: \"vgg16\"\n",
      "_________________________________________________________________\n",
      " Layer (type)                Output Shape              Param #   \n",
      "=================================================================\n",
      " input_3 (InputLayer)        [(None, 200, 200, 3)]     0         \n",
      "                                                                 \n",
      " block1_conv1 (Conv2D)       (None, 200, 200, 64)      1792      \n",
      "                                                                 \n",
      " block1_conv2 (Conv2D)       (None, 200, 200, 64)      36928     \n",
      "                                                                 \n",
      " block1_pool (MaxPooling2D)  (None, 100, 100, 64)      0         \n",
      "                                                                 \n",
      " block2_conv1 (Conv2D)       (None, 100, 100, 128)     73856     \n",
      "                                                                 \n",
      " block2_conv2 (Conv2D)       (None, 100, 100, 128)     147584    \n",
      "                                                                 \n",
      " block2_pool (MaxPooling2D)  (None, 50, 50, 128)       0         \n",
      "                                                                 \n",
      " block3_conv1 (Conv2D)       (None, 50, 50, 256)       295168    \n",
      "                                                                 \n",
      " block3_conv2 (Conv2D)       (None, 50, 50, 256)       590080    \n",
      "                                                                 \n",
      " block3_conv3 (Conv2D)       (None, 50, 50, 256)       590080    \n",
      "                                                                 \n",
      " block3_pool (MaxPooling2D)  (None, 25, 25, 256)       0         \n",
      "                                                                 \n",
      " block4_conv1 (Conv2D)       (None, 25, 25, 512)       1180160   \n",
      "                                                                 \n",
      " block4_conv2 (Conv2D)       (None, 25, 25, 512)       2359808   \n",
      "                                                                 \n",
      " block4_conv3 (Conv2D)       (None, 25, 25, 512)       2359808   \n",
      "                                                                 \n",
      " block4_pool (MaxPooling2D)  (None, 12, 12, 512)       0         \n",
      "                                                                 \n",
      " block5_conv1 (Conv2D)       (None, 12, 12, 512)       2359808   \n",
      "                                                                 \n",
      " block5_conv2 (Conv2D)       (None, 12, 12, 512)       2359808   \n",
      "                                                                 \n",
      " block5_conv3 (Conv2D)       (None, 12, 12, 512)       2359808   \n",
      "                                                                 \n",
      " block5_pool (MaxPooling2D)  (None, 6, 6, 512)         0         \n",
      "                                                                 \n",
      "=================================================================\n",
      "Total params: 14,714,688\n",
      "Trainable params: 0\n",
      "Non-trainable params: 14,714,688\n",
      "_________________________________________________________________\n"
     ]
    }
   ],
   "source": [
    "VGG_model = VGG16(weights='imagenet', include_top=False, input_shape=(200, 200, 3))\n",
    "\n",
    "for layer in VGG_model.layers:\n",
    "\tlayer.trainable = False\n",
    "\t\n",
    "VGG_model.summary()"
   ]
  },
  {
   "cell_type": "code",
   "execution_count": 84,
   "metadata": {},
   "outputs": [
    {
     "name": "stdout",
     "output_type": "stream",
     "text": [
      "32/32 [==============================] - 31s 966ms/step\n"
     ]
    }
   ],
   "source": [
    "X = np.stack(images)\n",
    "\n",
    "X=VGG_model.predict(X)"
   ]
  },
  {
   "attachments": {},
   "cell_type": "markdown",
   "metadata": {},
   "source": [
    "#### SVM"
   ]
  },
  {
   "attachments": {},
   "cell_type": "markdown",
   "metadata": {},
   "source": [
    "##### gender"
   ]
  },
  {
   "cell_type": "code",
   "execution_count": 255,
   "metadata": {},
   "outputs": [],
   "source": [
    "X_svm = X.reshape(X.shape[0], -1)"
   ]
  },
  {
   "cell_type": "code",
   "execution_count": 256,
   "metadata": {},
   "outputs": [],
   "source": [
    "X_train, X_test, y_train, y_test = train_test_split(X_svm, genders, test_size=0.2, random_state=42)#variar a percentagem split\n",
    "#print(\"Samples in Training:\",X_train.shape[0])\n",
    "#print(\"Samples in Testing:\",X_test.shape[0])"
   ]
  },
  {
   "cell_type": "code",
   "execution_count": 257,
   "metadata": {},
   "outputs": [
    {
     "name": "stdout",
     "output_type": "stream",
     "text": [
      "MCC:  0.0\n",
      "              precision    recall  f1-score   support\n",
      "\n",
      "           0       0.80      1.00      0.89        16\n",
      "           1       0.00      0.00      0.00         4\n",
      "\n",
      "    accuracy                           0.80        20\n",
      "   macro avg       0.40      0.50      0.44        20\n",
      "weighted avg       0.64      0.80      0.71        20\n",
      "\n"
     ]
    },
    {
     "name": "stderr",
     "output_type": "stream",
     "text": [
      "c:\\Users\\afbso\\anaconda3\\lib\\site-packages\\sklearn\\metrics\\_classification.py:1318: UndefinedMetricWarning: Precision and F-score are ill-defined and being set to 0.0 in labels with no predicted samples. Use `zero_division` parameter to control this behavior.\n",
      "  _warn_prf(average, modifier, msg_start, len(result))\n",
      "c:\\Users\\afbso\\anaconda3\\lib\\site-packages\\sklearn\\metrics\\_classification.py:1318: UndefinedMetricWarning: Precision and F-score are ill-defined and being set to 0.0 in labels with no predicted samples. Use `zero_division` parameter to control this behavior.\n",
      "  _warn_prf(average, modifier, msg_start, len(result))\n",
      "c:\\Users\\afbso\\anaconda3\\lib\\site-packages\\sklearn\\metrics\\_classification.py:1318: UndefinedMetricWarning: Precision and F-score are ill-defined and being set to 0.0 in labels with no predicted samples. Use `zero_division` parameter to control this behavior.\n",
      "  _warn_prf(average, modifier, msg_start, len(result))\n"
     ]
    },
    {
     "data": {
      "image/png": "[encoded data removed]",
      "text/plain": [
       "<Figure size 432x288 with 2 Axes>"
      ]
     },
     "metadata": {
      "needs_background": "light"
     },
     "output_type": "display_data"
    }
   ],
   "source": [
    "clf = SVC()\n",
    "clf.fit(X_train, y_train)\n",
    "\n",
    "# Evaluate the classifier on the testing data\n",
    "y_pred = clf.predict(X_test)\n",
    "\n",
    "mcc = matthews_corrcoef(y_test, y_pred)\n",
    "#accuracy = accuracy_score(y_test, y_pred)\n",
    "print(\"MCC: \", mcc)\n",
    "#print(\"Accuracy: \", accuracy)\n",
    "print(classification_report(y_test, y_pred))\n",
    "#confusion_matrix(y_test, y_pred)\n",
    "\n",
    "labelGender = list(set(genders))\n",
    "\n",
    "# assume y_true and y_pred are the true and predicted labels, respectively\n",
    "cm = confusion_matrix(y_test, y_pred)\n",
    "\n",
    "# create a heatmap of the confusion matrix using seaborn\n",
    "sns.heatmap(cm, annot=True, cmap=\"Blues\", fmt=\"d\", xticklabels=labelGender, yticklabels=labelGender)\n",
    "\n",
    "# set plot labels and title\n",
    "plt.xlabel('Predicted Label')\n",
    "plt.ylabel('True Label')\n",
    "plt.title('Confusion Matrix')\n",
    "\n",
    "plt.show()"
   ]
  },
  {
   "attachments": {},
   "cell_type": "markdown",
   "metadata": {},
   "source": [
    "##### age"
   ]
  },
  {
   "cell_type": "code",
   "execution_count": 258,
   "metadata": {},
   "outputs": [],
   "source": [
    "X_train, X_test, y_train, y_test = train_test_split(X_svm, age_categories, test_size=0.2, random_state=42)#variar a percentagem split"
   ]
  },
  {
   "cell_type": "code",
   "execution_count": 259,
   "metadata": {},
   "outputs": [
    {
     "name": "stderr",
     "output_type": "stream",
     "text": [
      "c:\\Users\\afbso\\anaconda3\\lib\\site-packages\\sklearn\\multiclass.py:79: UserWarning: Label not 0 is present in all training examples.\n",
      "  warnings.warn(\n",
      "c:\\Users\\afbso\\anaconda3\\lib\\site-packages\\sklearn\\multiclass.py:79: UserWarning: Label not 2 is present in all training examples.\n",
      "  warnings.warn(\n",
      "c:\\Users\\afbso\\anaconda3\\lib\\site-packages\\sklearn\\multiclass.py:79: UserWarning: Label not 3 is present in all training examples.\n",
      "  warnings.warn(\n",
      "c:\\Users\\afbso\\anaconda3\\lib\\site-packages\\sklearn\\multiclass.py:79: UserWarning: Label not 4 is present in all training examples.\n",
      "  warnings.warn(\n"
     ]
    },
    {
     "name": "stdout",
     "output_type": "stream",
     "text": [
      "MCC:  0.3933978962347216\n",
      "              precision    recall  f1-score   support\n",
      "\n",
      "           0       0.00      0.00      0.00         0\n",
      "           1       1.00      0.87      0.93        15\n",
      "           5       0.00      0.00      0.00         5\n",
      "\n",
      "    accuracy                           0.65        20\n",
      "   macro avg       0.33      0.29      0.31        20\n",
      "weighted avg       0.75      0.65      0.70        20\n",
      "\n",
      "[[ 0  0  0]\n",
      " [ 2 13  0]\n",
      " [ 5  0  0]]\n"
     ]
    },
    {
     "name": "stderr",
     "output_type": "stream",
     "text": [
      "c:\\Users\\afbso\\anaconda3\\lib\\site-packages\\sklearn\\metrics\\_classification.py:1318: UndefinedMetricWarning: Precision and F-score are ill-defined and being set to 0.0 in labels with no predicted samples. Use `zero_division` parameter to control this behavior.\n",
      "  _warn_prf(average, modifier, msg_start, len(result))\n",
      "c:\\Users\\afbso\\anaconda3\\lib\\site-packages\\sklearn\\metrics\\_classification.py:1318: UndefinedMetricWarning: Recall and F-score are ill-defined and being set to 0.0 in labels with no true samples. Use `zero_division` parameter to control this behavior.\n",
      "  _warn_prf(average, modifier, msg_start, len(result))\n",
      "c:\\Users\\afbso\\anaconda3\\lib\\site-packages\\sklearn\\metrics\\_classification.py:1318: UndefinedMetricWarning: Precision and F-score are ill-defined and being set to 0.0 in labels with no predicted samples. Use `zero_division` parameter to control this behavior.\n",
      "  _warn_prf(average, modifier, msg_start, len(result))\n",
      "c:\\Users\\afbso\\anaconda3\\lib\\site-packages\\sklearn\\metrics\\_classification.py:1318: UndefinedMetricWarning: Recall and F-score are ill-defined and being set to 0.0 in labels with no true samples. Use `zero_division` parameter to control this behavior.\n",
      "  _warn_prf(average, modifier, msg_start, len(result))\n",
      "c:\\Users\\afbso\\anaconda3\\lib\\site-packages\\sklearn\\metrics\\_classification.py:1318: UndefinedMetricWarning: Precision and F-score are ill-defined and being set to 0.0 in labels with no predicted samples. Use `zero_division` parameter to control this behavior.\n",
      "  _warn_prf(average, modifier, msg_start, len(result))\n",
      "c:\\Users\\afbso\\anaconda3\\lib\\site-packages\\sklearn\\metrics\\_classification.py:1318: UndefinedMetricWarning: Recall and F-score are ill-defined and being set to 0.0 in labels with no true samples. Use `zero_division` parameter to control this behavior.\n",
      "  _warn_prf(average, modifier, msg_start, len(result))\n"
     ]
    }
   ],
   "source": [
    "clf = OneVsRestClassifier(SVC())\n",
    "clf.fit(X_train, y_train)\n",
    "\n",
    "# Convert one-hot encoded labels to integer form\n",
    "y_pred = clf.predict(X_test)\n",
    "\n",
    "y_test_int = np.argmax(y_test, axis=1)\n",
    "y_pred_int = np.argmax(y_pred, axis=1)\n",
    "\n",
    "# Print classification report and confusion matrix\n",
    "\n",
    "mcc = matthews_corrcoef(y_test_int, y_pred_int)\n",
    "#accuracy = accuracy_score(y_test, y_pred)\n",
    "print(\"MCC: \", mcc)\n",
    "print(classification_report(y_test_int, y_pred_int))\n",
    "print(confusion_matrix(y_test_int, y_pred_int))"
   ]
  },
  {
   "attachments": {},
   "cell_type": "markdown",
   "metadata": {},
   "source": [
    "#### CNN"
   ]
  },
  {
   "attachments": {},
   "cell_type": "markdown",
   "metadata": {},
   "source": [
    "##### age"
   ]
  },
  {
   "cell_type": "code",
   "execution_count": 261,
   "metadata": {},
   "outputs": [],
   "source": [
    "X_train, X_test, y_train, y_test = train_test_split(X, age_categories, test_size=0.2, random_state=42)#variar a percentagem split\n",
    "#print(\"Samples in Training:\",X_train.shape[0])\n",
    "#print(\"Samples in Testing:\",X_test.shape[0])"
   ]
  },
  {
   "cell_type": "code",
   "execution_count": 262,
   "metadata": {},
   "outputs": [
    {
     "name": "stdout",
     "output_type": "stream",
     "text": [
      "(80, 6, 6, 512)\n",
      "(80, 6)\n"
     ]
    }
   ],
   "source": [
    "print(X_train.shape)\n",
    "print(y_train.shape)"
   ]
  },
  {
   "cell_type": "code",
   "execution_count": 263,
   "metadata": {},
   "outputs": [
    {
     "name": "stdout",
     "output_type": "stream",
     "text": [
      "Model: \"sequential_23\"\n",
      "_________________________________________________________________\n",
      " Layer (type)                Output Shape              Param #   \n",
      "=================================================================\n",
      " conv2d_57 (Conv2D)          (None, 6, 6, 64)          131136    \n",
      "                                                                 \n",
      " max_pooling2d_32 (MaxPoolin  (None, 3, 3, 64)         0         \n",
      " g2D)                                                            \n",
      "                                                                 \n",
      " dropout_35 (Dropout)        (None, 3, 3, 64)          0         \n",
      "                                                                 \n",
      " conv2d_58 (Conv2D)          (None, 3, 3, 32)          8224      \n",
      "                                                                 \n",
      " max_pooling2d_33 (MaxPoolin  (None, 1, 1, 32)         0         \n",
      " g2D)                                                            \n",
      "                                                                 \n",
      " dropout_36 (Dropout)        (None, 1, 1, 32)          0         \n",
      "                                                                 \n",
      " flatten_22 (Flatten)        (None, 32)                0         \n",
      "                                                                 \n",
      " dense_44 (Dense)            (None, 256)               8448      \n",
      "                                                                 \n",
      " dropout_37 (Dropout)        (None, 256)               0         \n",
      "                                                                 \n",
      " dense_45 (Dense)            (None, 6)                 1542      \n",
      "                                                                 \n",
      "=================================================================\n",
      "Total params: 149,350\n",
      "Trainable params: 149,350\n",
      "Non-trainable params: 0\n",
      "_________________________________________________________________\n"
     ]
    }
   ],
   "source": [
    "model = CNN((6,6,512), 6, 'softmax')"
   ]
  },
  {
   "cell_type": "code",
   "execution_count": 264,
   "metadata": {},
   "outputs": [
    {
     "name": "stdout",
     "output_type": "stream",
     "text": [
      "Epoch 1/2\n",
      "10/10 [==============================] - 1s 40ms/step - loss: 5.2869 - accuracy: 0.6500 - val_loss: 1.5518 - val_accuracy: 0.7500\n",
      "Epoch 2/2\n",
      "10/10 [==============================] - 0s 15ms/step - loss: 2.8389 - accuracy: 0.7375 - val_loss: 0.7043 - val_accuracy: 0.7500\n"
     ]
    }
   ],
   "source": [
    "model.compile(loss='categorical_crossentropy',\n",
    "            optimizer='adam',\n",
    "            metrics=['accuracy'])\n",
    "\n",
    "history_VGG16_age = model.fit(X_train, y_train,\n",
    "        batch_size=8,\n",
    "        epochs=2,\n",
    "        validation_data=(X_test, y_test),)"
   ]
  },
  {
   "cell_type": "code",
   "execution_count": 265,
   "metadata": {},
   "outputs": [
    {
     "name": "stdout",
     "output_type": "stream",
     "text": [
      "1/1 [==============================] - 0s 97ms/step\n",
      "MCC:  0.0\n"
     ]
    },
    {
     "data": {
      "image/png": "[encoded data removed]",
      "text/plain": [
       "<Figure size 432x288 with 2 Axes>"
      ]
     },
     "metadata": {
      "needs_background": "light"
     },
     "output_type": "display_data"
    },
    {
     "name": "stdout",
     "output_type": "stream",
     "text": [
      "              precision    recall  f1-score   support\n",
      "\n",
      "           1       0.75      1.00      0.86        15\n",
      "           5       0.00      0.00      0.00         5\n",
      "\n",
      "    accuracy                           0.75        20\n",
      "   macro avg       0.38      0.50      0.43        20\n",
      "weighted avg       0.56      0.75      0.64        20\n",
      "\n"
     ]
    },
    {
     "name": "stderr",
     "output_type": "stream",
     "text": [
      "c:\\Users\\afbso\\anaconda3\\lib\\site-packages\\sklearn\\metrics\\_classification.py:1318: UndefinedMetricWarning: Precision and F-score are ill-defined and being set to 0.0 in labels with no predicted samples. Use `zero_division` parameter to control this behavior.\n",
      "  _warn_prf(average, modifier, msg_start, len(result))\n",
      "c:\\Users\\afbso\\anaconda3\\lib\\site-packages\\sklearn\\metrics\\_classification.py:1318: UndefinedMetricWarning: Precision and F-score are ill-defined and being set to 0.0 in labels with no predicted samples. Use `zero_division` parameter to control this behavior.\n",
      "  _warn_prf(average, modifier, msg_start, len(result))\n",
      "c:\\Users\\afbso\\anaconda3\\lib\\site-packages\\sklearn\\metrics\\_classification.py:1318: UndefinedMetricWarning: Precision and F-score are ill-defined and being set to 0.0 in labels with no predicted samples. Use `zero_division` parameter to control this behavior.\n",
      "  _warn_prf(average, modifier, msg_start, len(result))\n"
     ]
    }
   ],
   "source": [
    "cnn_metrics(model, X_test, y_train, age_classes)"
   ]
  },
  {
   "attachments": {},
   "cell_type": "markdown",
   "metadata": {},
   "source": [
    "##### gender"
   ]
  },
  {
   "cell_type": "code",
   "execution_count": 266,
   "metadata": {},
   "outputs": [],
   "source": [
    "X_train, X_test, y_train, y_test = train_test_split(X, genders, test_size=0.2, random_state=42)#variar a percentagem split\n",
    "#print(\"Samples in Training:\",X_train.shape[0])\n",
    "#print(\"Samples in Testing:\",X_test.shape[0])"
   ]
  },
  {
   "cell_type": "code",
   "execution_count": 267,
   "metadata": {},
   "outputs": [],
   "source": [
    "X_train = np.asarray(X_train)\n",
    "y_train = np.asarray(y_train)\n",
    "\n",
    "X_test = np.asarray(X_test)\n",
    "y_test = np.asarray(y_test)"
   ]
  },
  {
   "cell_type": "code",
   "execution_count": 268,
   "metadata": {},
   "outputs": [
    {
     "name": "stdout",
     "output_type": "stream",
     "text": [
      "(80, 6, 6, 512)\n",
      "(80,)\n"
     ]
    }
   ],
   "source": [
    "print(X_train.shape)\n",
    "print(y_train.shape)"
   ]
  },
  {
   "cell_type": "code",
   "execution_count": 269,
   "metadata": {},
   "outputs": [
    {
     "name": "stdout",
     "output_type": "stream",
     "text": [
      "Model: \"sequential_24\"\n",
      "_________________________________________________________________\n",
      " Layer (type)                Output Shape              Param #   \n",
      "=================================================================\n",
      " conv2d_59 (Conv2D)          (None, 6, 6, 64)          131136    \n",
      "                                                                 \n",
      " max_pooling2d_34 (MaxPoolin  (None, 3, 3, 64)         0         \n",
      " g2D)                                                            \n",
      "                                                                 \n",
      " dropout_38 (Dropout)        (None, 3, 3, 64)          0         \n",
      "                                                                 \n",
      " conv2d_60 (Conv2D)          (None, 3, 3, 32)          8224      \n",
      "                                                                 \n",
      " max_pooling2d_35 (MaxPoolin  (None, 1, 1, 32)         0         \n",
      " g2D)                                                            \n",
      "                                                                 \n",
      " dropout_39 (Dropout)        (None, 1, 1, 32)          0         \n",
      "                                                                 \n",
      " flatten_23 (Flatten)        (None, 32)                0         \n",
      "                                                                 \n",
      " dense_46 (Dense)            (None, 256)               8448      \n",
      "                                                                 \n",
      " dropout_40 (Dropout)        (None, 256)               0         \n",
      "                                                                 \n",
      " dense_47 (Dense)            (None, 1)                 257       \n",
      "                                                                 \n",
      "=================================================================\n",
      "Total params: 148,065\n",
      "Trainable params: 148,065\n",
      "Non-trainable params: 0\n",
      "_________________________________________________________________\n"
     ]
    }
   ],
   "source": [
    "model = CNN((6, 6, 512), 1, 'sigmoid')"
   ]
  },
  {
   "cell_type": "code",
   "execution_count": 270,
   "metadata": {},
   "outputs": [
    {
     "name": "stdout",
     "output_type": "stream",
     "text": [
      "Epoch 1/3\n",
      "3/3 [==============================] - 2s 430ms/step - loss: 3.2924 - val_loss: 3.0523\n",
      "Epoch 2/3\n",
      "3/3 [==============================] - 0s 54ms/step - loss: 1.7343 - val_loss: 3.4237\n",
      "Epoch 3/3\n",
      "3/3 [==============================] - 0s 44ms/step - loss: 2.3405 - val_loss: 1.9488\n"
     ]
    }
   ],
   "source": [
    "#for age use categorical_crossentropy instead\n",
    "model.compile(optimizer=\"adam\", loss=\"binary_crossentropy\")\n",
    "\n",
    "history_VGG16_gender = model.fit(X_train, y_train,\n",
    "                    epochs=3,\n",
    "                    batch_size=32,\n",
    "                    validation_data=(X_test, y_test))"
   ]
  },
  {
   "cell_type": "code",
   "execution_count": 271,
   "metadata": {},
   "outputs": [
    {
     "name": "stdout",
     "output_type": "stream",
     "text": [
      "1/1 [==============================] - 0s 83ms/step\n",
      "MCC:  0.0\n"
     ]
    },
    {
     "data": {
      "image/png": "[encoded data removed]",
      "text/plain": [
       "<Figure size 432x288 with 2 Axes>"
      ]
     },
     "metadata": {
      "needs_background": "light"
     },
     "output_type": "display_data"
    },
    {
     "name": "stdout",
     "output_type": "stream",
     "text": [
      "              precision    recall  f1-score   support\n",
      "\n",
      "           0       1.00      1.00      1.00        20\n",
      "\n",
      "    accuracy                           1.00        20\n",
      "   macro avg       1.00      1.00      1.00        20\n",
      "weighted avg       1.00      1.00      1.00        20\n",
      "\n"
     ]
    }
   ],
   "source": [
    "cnn_metrics(model, X_test, y_test, genders)"
   ]
  },
  {
   "attachments": {},
   "cell_type": "markdown",
   "metadata": {},
   "source": [
    "### Autoencoder"
   ]
  },
  {
   "cell_type": "code",
   "execution_count": 98,
   "metadata": {},
   "outputs": [],
   "source": [
    "input = layers.Input(shape=(200, 200, 3))\n",
    "\n",
    "#valor alto apanha artefactos, e valor baixo nao captura bem as features da imagem\n",
    "latent_dim = size\n",
    "\n",
    "# Encoder\n",
    "\n",
    "#didnt increase filter count in encoder and decrease equally in decoder because\n",
    "#it can lead to overfitting\n",
    "\n",
    "x = layers.Conv2D(64, (3,3), activation='relu', padding='same', strides = 2)(input)\n",
    "#x = layers.MaxPooling2D((2,2), padding='same')(x)#dividir imagem por factor de 2\n",
    "x = layers.Conv2D(32, (3,3), activation='relu', padding='same', strides = 2)(x)#reduziu se nr de filtros para 32 porque foi decidido factor de 32 filtros\n",
    "#x = layers.MaxPooling2D((2,2), padding='same')(x)\n",
    "x = layers.Conv2D(16, (3,3), activation='relu', padding='same', strides = 2)(x)\n",
    "#x = layers.MaxPooling2D((2,2), padding='same')(x)#25*25*16=10000\n",
    "x = layers.Flatten()(x)\n",
    "x = layers.Dense(latent_dim, activation='relu')(x)\n",
    "\n",
    "# Decoder\n",
    "\n",
    "#having conv2D here helps to avoid checkerboard artifacts\n",
    "#which are alternating points of colors (like checkerboard)\n",
    "#that are consequence of deconvolutioning an image and cause \n",
    "#loss of quality in final reconstruction\n",
    "#x = layers.Conv2D(16, (3,3), activation='relu', padding='same')(x)\n",
    "\n",
    "#equivalente a fazer dense layer no fim do encoder e no inicio do decoder\n",
    "#fazer a layer dense fica um vector\n",
    "#fazer reshape depois do 2 dense para voltar a ter imagem do vetor criado\n",
    "\n",
    "x = layers.Dense(25*25*16, activation='relu')(x)\n",
    "x = layers.Reshape((25,25,16))(x)\n",
    "#x = layers.UpSampling2D((2,2))(x)\n",
    "x = layers.Conv2DTranspose(32, (3, 3), activation=\"relu\", padding=\"same\", strides = 2)(x)\n",
    "#x = layers.UpSampling2D((2,2))(x)\n",
    "x = layers.Conv2DTranspose(64, (3,3), activation='relu', padding='same', strides = 2)(x)\n",
    "#x = layers.UpSampling2D((2,2))(x)\n",
    "output = layers.Conv2DTranspose(3, (3,3), activation='sigmoid', padding='same', strides = 2)(x)\n",
    "\n",
    "\n",
    "#maybe use strides in the layers too\n",
    "#example:\n",
    "#x = layers.Conv2D(16, (3,3), activation='relu', padding='same', strides = 2)(x)\n",
    "\n",
    "# Autoencoder\n",
    "autoencoder = Model(input, output)"
   ]
  },
  {
   "attachments": {},
   "cell_type": "markdown",
   "metadata": {},
   "source": [
    "#### SVM"
   ]
  },
  {
   "attachments": {},
   "cell_type": "markdown",
   "metadata": {},
   "source": [
    "##### gender"
   ]
  },
  {
   "cell_type": "code",
   "execution_count": 99,
   "metadata": {},
   "outputs": [],
   "source": [
    "# for this the order is first the split of the data then using autoencoder on train_x\n",
    "X_train, X_test, y_train, y_test = train_test_split(images, genders, test_size=0.2, random_state=42)"
   ]
  },
  {
   "cell_type": "code",
   "execution_count": 100,
   "metadata": {},
   "outputs": [],
   "source": [
    "X_train = np.array(X_train)\n",
    "X_train = np.reshape(X_train, (X_train.shape[0], X_train.shape[1], X_train.shape[2], 3))\n",
    "\n",
    "X_test = np.array(X_test)\n",
    "X_test = np.reshape(X_test, (X_test.shape[0], X_test.shape[1], X_test.shape[2], 3))"
   ]
  },
  {
   "cell_type": "code",
   "execution_count": 101,
   "metadata": {},
   "outputs": [
    {
     "name": "stdout",
     "output_type": "stream",
     "text": [
      "Model: \"model\"\n",
      "_________________________________________________________________\n",
      " Layer (type)                Output Shape              Param #   \n",
      "=================================================================\n",
      " input_4 (InputLayer)        [(None, 200, 200, 3)]     0         \n",
      "                                                                 \n",
      " conv2d_8 (Conv2D)           (None, 100, 100, 64)      1792      \n",
      "                                                                 \n",
      " conv2d_9 (Conv2D)           (None, 50, 50, 32)        18464     \n",
      "                                                                 \n",
      " conv2d_10 (Conv2D)          (None, 25, 25, 16)        4624      \n",
      "                                                                 \n",
      " flatten_4 (Flatten)         (None, 10000)             0         \n",
      "                                                                 \n",
      " dense_8 (Dense)             (None, 23708)             237103708 \n",
      "                                                                 \n",
      " dense_9 (Dense)             (None, 10000)             237090000 \n",
      "                                                                 \n",
      " reshape_4 (Reshape)         (None, 25, 25, 16)        0         \n",
      "                                                                 \n",
      " conv2d_transpose (Conv2DTra  (None, 50, 50, 32)       4640      \n",
      " nspose)                                                         \n",
      "                                                                 \n",
      " conv2d_transpose_1 (Conv2DT  (None, 100, 100, 64)     18496     \n",
      " ranspose)                                                       \n",
      "                                                                 \n",
      " conv2d_transpose_2 (Conv2DT  (None, 200, 200, 3)      1731      \n",
      " ranspose)                                                       \n",
      "                                                                 \n",
      "=================================================================\n",
      "Total params: 474,243,455\n",
      "Trainable params: 474,243,455\n",
      "Non-trainable params: 0\n",
      "_________________________________________________________________\n"
     ]
    }
   ],
   "source": [
    "# binary cross entropy is good for image feature extraction especially when images are normalized\n",
    "autoencoder.compile(optimizer=\"adam\", loss=\"binary_crossentropy\")\n",
    "autoencoder.summary()"
   ]
  },
  {
   "cell_type": "code",
   "execution_count": 102,
   "metadata": {},
   "outputs": [
    {
     "name": "stdout",
     "output_type": "stream",
     "text": [
      "Epoch 1/2\n",
      "25/25 [==============================] - 95s 3s/step - loss: -771584512.0000 - val_loss: -9312072704.0000\n",
      "Epoch 2/2\n",
      "25/25 [==============================] - 71s 3s/step - loss: -2627328278528.0000 - val_loss: -19163896610816.0000\n"
     ]
    },
    {
     "data": {
      "text/plain": [
       "<keras.callbacks.History at 0x26615b985b0>"
      ]
     },
     "execution_count": 102,
     "metadata": {},
     "output_type": "execute_result"
    }
   ],
   "source": [
    "#using validation_data is good for detecting overfitting as \n",
    "#it does early stopping when the performance is no longer improving\n",
    "\n",
    "autoencoder.fit(x = X_train, \n",
    "                y = X_train,\n",
    "                epochs = 2,\n",
    "                shuffle = True,\n",
    "                batch_size = 32,\n",
    "                validation_data = (X_test, X_test),)"
   ]
  },
  {
   "cell_type": "code",
   "execution_count": 103,
   "metadata": {},
   "outputs": [
    {
     "name": "stdout",
     "output_type": "stream",
     "text": [
      "25/25 [==============================] - 5s 211ms/step\n",
      "7/7 [==============================] - 1s 204ms/step\n"
     ]
    }
   ],
   "source": [
    "#encoder = Model(inputs=input, outputs=autoencoder.get_layer(\"conv2d_transpose_55\").output)\n",
    "encoded_train = autoencoder.predict(X_train)\n",
    "encoded_test = autoencoder.predict(X_test)\n",
    "\n",
    "encoded_train = encoded_train.reshape((encoded_train.shape[0], -1))\n",
    "encoded_test = encoded_test.reshape((encoded_test.shape[0], -1))"
   ]
  },
  {
   "cell_type": "code",
   "execution_count": 104,
   "metadata": {},
   "outputs": [
    {
     "name": "stdout",
     "output_type": "stream",
     "text": [
      "MCC:  0.0\n",
      "              precision    recall  f1-score   support\n",
      "\n",
      "           0       0.00      0.00      0.00       104\n",
      "           1       0.48      1.00      0.65        96\n",
      "\n",
      "    accuracy                           0.48       200\n",
      "   macro avg       0.24      0.50      0.32       200\n",
      "weighted avg       0.23      0.48      0.31       200\n",
      "\n"
     ]
    },
    {
     "name": "stderr",
     "output_type": "stream",
     "text": [
      "c:\\Users\\User\\AppData\\Local\\Programs\\Python\\Python310\\lib\\site-packages\\sklearn\\metrics\\_classification.py:1344: UndefinedMetricWarning: Precision and F-score are ill-defined and being set to 0.0 in labels with no predicted samples. Use `zero_division` parameter to control this behavior.\n",
      "  _warn_prf(average, modifier, msg_start, len(result))\n",
      "c:\\Users\\User\\AppData\\Local\\Programs\\Python\\Python310\\lib\\site-packages\\sklearn\\metrics\\_classification.py:1344: UndefinedMetricWarning: Precision and F-score are ill-defined and being set to 0.0 in labels with no predicted samples. Use `zero_division` parameter to control this behavior.\n",
      "  _warn_prf(average, modifier, msg_start, len(result))\n",
      "c:\\Users\\User\\AppData\\Local\\Programs\\Python\\Python310\\lib\\site-packages\\sklearn\\metrics\\_classification.py:1344: UndefinedMetricWarning: Precision and F-score are ill-defined and being set to 0.0 in labels with no predicted samples. Use `zero_division` parameter to control this behavior.\n",
      "  _warn_prf(average, modifier, msg_start, len(result))\n"
     ]
    },
    {
     "data": {
      "image/png": "[encoded data removed]",
      "text/plain": [
       "<Figure size 640x480 with 2 Axes>"
      ]
     },
     "metadata": {},
     "output_type": "display_data"
    }
   ],
   "source": [
    "clf = SVC()\n",
    "clf.fit(encoded_train, y_train)\n",
    "\n",
    "# Evaluate the classifier on the testing data\n",
    "y_pred = clf.predict(encoded_test)\n",
    "\n",
    "mcc = matthews_corrcoef(y_test, y_pred)\n",
    "#accuracy = accuracy_score(y_test, y_pred)\n",
    "print(\"MCC: \", mcc)\n",
    "#print(\"Accuracy: \", accuracy)\n",
    "print(classification_report(y_test, y_pred))\n",
    "#confusion_matrix(y_test, y_pred)\n",
    "\n",
    "labelGender = list(set(genders))\n",
    "\n",
    "# assume y_true and y_pred are the true and predicted labels, respectively\n",
    "cm = confusion_matrix(y_test, y_pred)\n",
    "\n",
    "# create a heatmap of the confusion matrix using seaborn\n",
    "sns.heatmap(cm, annot=True, cmap=\"Blues\", fmt=\"d\", xticklabels=labelGender, yticklabels=labelGender)\n",
    "\n",
    "# set plot labels and title\n",
    "plt.xlabel('Predicted Label')\n",
    "plt.ylabel('True Label')\n",
    "plt.title('Confusion Matrix')\n",
    "\n",
    "plt.show()"
   ]
  },
  {
   "attachments": {},
   "cell_type": "markdown",
   "metadata": {},
   "source": [
    "##### age"
   ]
  },
  {
   "cell_type": "code",
   "execution_count": 281,
   "metadata": {},
   "outputs": [],
   "source": [
    "# for this the order is first the split of the data then using autoencoder on train_x\n",
    "X_train, X_test, y_train, y_test = train_test_split(images, age_categories, test_size=0.2, random_state=42)\n",
    "\n",
    "X_train = np.array(X_train)\n",
    "X_train = np.reshape(X_train, (X_train.shape[0], X_train.shape[1], X_train.shape[2], 3))\n",
    "\n",
    "X_test = np.array(X_test)\n",
    "X_test = np.reshape(X_test, (X_test.shape[0], X_test.shape[1], X_test.shape[2], 3))\n",
    "\n",
    "input = layers.Input(shape=(200, 200, 3))"
   ]
  },
  {
   "cell_type": "code",
   "execution_count": 282,
   "metadata": {},
   "outputs": [
    {
     "name": "stdout",
     "output_type": "stream",
     "text": [
      "Model: \"model_10\"\n",
      "_________________________________________________________________\n",
      " Layer (type)                Output Shape              Param #   \n",
      "=================================================================\n",
      " input_21 (InputLayer)       [(None, 200, 200, 3)]     0         \n",
      "                                                                 \n",
      " conv2d_64 (Conv2D)          (None, 100, 100, 64)      1792      \n",
      "                                                                 \n",
      " conv2d_65 (Conv2D)          (None, 50, 50, 32)        18464     \n",
      "                                                                 \n",
      " conv2d_66 (Conv2D)          (None, 25, 25, 16)        4624      \n",
      "                                                                 \n",
      " flatten_25 (Flatten)        (None, 10000)             0         \n",
      "                                                                 \n",
      " dense_50 (Dense)            (None, 23708)             237103708 \n",
      "                                                                 \n",
      " dense_51 (Dense)            (None, 10000)             237090000 \n",
      "                                                                 \n",
      " reshape_21 (Reshape)        (None, 25, 25, 16)        0         \n",
      "                                                                 \n",
      " conv2d_transpose_30 (Conv2D  (None, 50, 50, 32)       4640      \n",
      " Transpose)                                                      \n",
      "                                                                 \n",
      " conv2d_transpose_31 (Conv2D  (None, 100, 100, 64)     18496     \n",
      " Transpose)                                                      \n",
      "                                                                 \n",
      " conv2d_transpose_32 (Conv2D  (None, 200, 200, 3)      1731      \n",
      " Transpose)                                                      \n",
      "                                                                 \n",
      "=================================================================\n",
      "Total params: 474,243,455\n",
      "Trainable params: 474,243,455\n",
      "Non-trainable params: 0\n",
      "_________________________________________________________________\n",
      "Epoch 1/2\n",
      "3/3 [==============================] - 320s 135s/step - loss: 732.6329 - val_loss: 1359.5680\n",
      "Epoch 2/2\n",
      "3/3 [==============================] - 50s 19s/step - loss: 8892.6348 - val_loss: 43472.4336\n"
     ]
    },
    {
     "data": {
      "text/plain": [
       "<keras.callbacks.History at 0x22486323c40>"
      ]
     },
     "execution_count": 282,
     "metadata": {},
     "output_type": "execute_result"
    }
   ],
   "source": [
    "# binary cross entropy is good for image feature extraction especially when images are normalized\n",
    "autoencoder.compile(optimizer=\"adam\", loss='categorical_crossentropy')\n",
    "autoencoder.summary()\n",
    "\n",
    "autoencoder.fit(x = X_train, \n",
    "                y = X_train,\n",
    "                epochs = 2,\n",
    "                shuffle = True,\n",
    "                batch_size = 32,\n",
    "                validation_data = (X_test, X_test),\n",
    ")"
   ]
  },
  {
   "cell_type": "code",
   "execution_count": 283,
   "metadata": {},
   "outputs": [
    {
     "name": "stdout",
     "output_type": "stream",
     "text": [
      "3/3 [==============================] - 3s 408ms/step\n",
      "1/1 [==============================] - 0s 479ms/step\n"
     ]
    }
   ],
   "source": [
    "#encoder = Model(inputs=input, outputs=autoencoder.get_layer(\"conv2d_transpose_55\").output)\n",
    "encoded_train = autoencoder.predict(X_train)\n",
    "encoded_test = autoencoder.predict(X_test)\n",
    "\n",
    "encoded_train = encoded_train.reshape((encoded_train.shape[0], -1))\n",
    "encoded_test = encoded_test.reshape((encoded_test.shape[0], -1))"
   ]
  },
  {
   "cell_type": "code",
   "execution_count": 285,
   "metadata": {},
   "outputs": [
    {
     "name": "stderr",
     "output_type": "stream",
     "text": [
      "c:\\Users\\afbso\\anaconda3\\lib\\site-packages\\sklearn\\multiclass.py:79: UserWarning: Label not 0 is present in all training examples.\n",
      "  warnings.warn(\n",
      "c:\\Users\\afbso\\anaconda3\\lib\\site-packages\\sklearn\\multiclass.py:79: UserWarning: Label not 2 is present in all training examples.\n",
      "  warnings.warn(\n",
      "c:\\Users\\afbso\\anaconda3\\lib\\site-packages\\sklearn\\multiclass.py:79: UserWarning: Label not 3 is present in all training examples.\n",
      "  warnings.warn(\n",
      "c:\\Users\\afbso\\anaconda3\\lib\\site-packages\\sklearn\\multiclass.py:79: UserWarning: Label not 4 is present in all training examples.\n",
      "  warnings.warn(\n"
     ]
    },
    {
     "name": "stdout",
     "output_type": "stream",
     "text": [
      "MCC:  0.0\n",
      "              precision    recall  f1-score   support\n",
      "\n",
      "           1       0.75      1.00      0.86        15\n",
      "           5       0.00      0.00      0.00         5\n",
      "\n",
      "    accuracy                           0.75        20\n",
      "   macro avg       0.38      0.50      0.43        20\n",
      "weighted avg       0.56      0.75      0.64        20\n",
      "\n",
      "[[15  0]\n",
      " [ 5  0]]\n"
     ]
    },
    {
     "name": "stderr",
     "output_type": "stream",
     "text": [
      "c:\\Users\\afbso\\anaconda3\\lib\\site-packages\\sklearn\\metrics\\_classification.py:1318: UndefinedMetricWarning: Precision and F-score are ill-defined and being set to 0.0 in labels with no predicted samples. Use `zero_division` parameter to control this behavior.\n",
      "  _warn_prf(average, modifier, msg_start, len(result))\n",
      "c:\\Users\\afbso\\anaconda3\\lib\\site-packages\\sklearn\\metrics\\_classification.py:1318: UndefinedMetricWarning: Precision and F-score are ill-defined and being set to 0.0 in labels with no predicted samples. Use `zero_division` parameter to control this behavior.\n",
      "  _warn_prf(average, modifier, msg_start, len(result))\n",
      "c:\\Users\\afbso\\anaconda3\\lib\\site-packages\\sklearn\\metrics\\_classification.py:1318: UndefinedMetricWarning: Precision and F-score are ill-defined and being set to 0.0 in labels with no predicted samples. Use `zero_division` parameter to control this behavior.\n",
      "  _warn_prf(average, modifier, msg_start, len(result))\n"
     ]
    }
   ],
   "source": [
    "clf = OneVsRestClassifier(SVC())\n",
    "clf.fit(encoded_train, y_train)\n",
    "\n",
    "# Convert one-hot encoded labels to integer form\n",
    "y_pred = clf.predict(encoded_test)\n",
    "\n",
    "y_test_int = np.argmax(y_test, axis=1)\n",
    "y_pred_int = np.argmax(y_pred, axis=1)\n",
    "\n",
    "# Print classification report and confusion matrix\n",
    "\n",
    "mcc = matthews_corrcoef(y_test_int, y_pred_int)\n",
    "#accuracy = accuracy_score(y_test, y_pred)\n",
    "print(\"MCC: \", mcc)\n",
    "print(classification_report(y_test_int, y_pred_int))\n",
    "print(confusion_matrix(y_test_int, y_pred_int))"
   ]
  },
  {
   "attachments": {},
   "cell_type": "markdown",
   "metadata": {},
   "source": [
    "#### CNN"
   ]
  },
  {
   "attachments": {},
   "cell_type": "markdown",
   "metadata": {},
   "source": [
    "##### gender"
   ]
  },
  {
   "cell_type": "code",
   "execution_count": 286,
   "metadata": {},
   "outputs": [],
   "source": [
    "# for this the order is first the split of the data then using autoencoder on train_x\n",
    "X_train, X_test, y_train, y_test = train_test_split(images, genders, test_size=0.2, random_state=42)\n",
    "\n",
    "X_train = np.array(X_train)\n",
    "X_train = np.reshape(X_train, (X_train.shape[0], X_train.shape[1], X_train.shape[2], 3))\n",
    "\n",
    "X_test = np.array(X_test)\n",
    "X_test = np.reshape(X_test, (X_test.shape[0], X_test.shape[1], X_test.shape[2], 3))\n",
    "\n",
    "input = layers.Input(shape=(200, 200, 3))"
   ]
  },
  {
   "cell_type": "code",
   "execution_count": 287,
   "metadata": {},
   "outputs": [
    {
     "name": "stdout",
     "output_type": "stream",
     "text": [
      "Model: \"model_10\"\n",
      "_________________________________________________________________\n",
      " Layer (type)                Output Shape              Param #   \n",
      "=================================================================\n",
      " input_21 (InputLayer)       [(None, 200, 200, 3)]     0         \n",
      "                                                                 \n",
      " conv2d_64 (Conv2D)          (None, 100, 100, 64)      1792      \n",
      "                                                                 \n",
      " conv2d_65 (Conv2D)          (None, 50, 50, 32)        18464     \n",
      "                                                                 \n",
      " conv2d_66 (Conv2D)          (None, 25, 25, 16)        4624      \n",
      "                                                                 \n",
      " flatten_25 (Flatten)        (None, 10000)             0         \n",
      "                                                                 \n",
      " dense_50 (Dense)            (None, 23708)             237103708 \n",
      "                                                                 \n",
      " dense_51 (Dense)            (None, 10000)             237090000 \n",
      "                                                                 \n",
      " reshape_21 (Reshape)        (None, 25, 25, 16)        0         \n",
      "                                                                 \n",
      " conv2d_transpose_30 (Conv2D  (None, 50, 50, 32)       4640      \n",
      " Transpose)                                                      \n",
      "                                                                 \n",
      " conv2d_transpose_31 (Conv2D  (None, 100, 100, 64)     18496     \n",
      " Transpose)                                                      \n",
      "                                                                 \n",
      " conv2d_transpose_32 (Conv2D  (None, 200, 200, 3)      1731      \n",
      " Transpose)                                                      \n",
      "                                                                 \n",
      "=================================================================\n",
      "Total params: 474,243,455\n",
      "Trainable params: 474,243,455\n",
      "Non-trainable params: 0\n",
      "_________________________________________________________________\n"
     ]
    }
   ],
   "source": [
    "# binary cross entropy is good for image feature extraction especially when images are normalized\n",
    "autoencoder.compile(optimizer=\"adam\", loss=\"binary_crossentropy\")\n",
    "autoencoder.summary()"
   ]
  },
  {
   "cell_type": "code",
   "execution_count": 288,
   "metadata": {},
   "outputs": [
    {
     "name": "stdout",
     "output_type": "stream",
     "text": [
      "Epoch 1/2\n",
      "3/3 [==============================] - 115s 45s/step - loss: -57210.7617 - val_loss: -277154.4688\n",
      "Epoch 2/2\n",
      "3/3 [==============================] - 63s 22s/step - loss: -676657.3750 - val_loss: -2071772.3750\n"
     ]
    },
    {
     "data": {
      "text/plain": [
       "<keras.callbacks.History at 0x22484913a00>"
      ]
     },
     "execution_count": 288,
     "metadata": {},
     "output_type": "execute_result"
    }
   ],
   "source": [
    "#using validation_data is good for detecting overfitting as \n",
    "#it does early stopping when the performance is no longer improving\n",
    "\n",
    "autoencoder.fit(x = X_train, \n",
    "                y = X_train,\n",
    "                epochs = 2,\n",
    "                shuffle = True,\n",
    "                batch_size = 32,\n",
    "                validation_data = (X_test, X_test),)"
   ]
  },
  {
   "cell_type": "code",
   "execution_count": 289,
   "metadata": {},
   "outputs": [
    {
     "name": "stdout",
     "output_type": "stream",
     "text": [
      "3/3 [==============================] - 2s 348ms/step\n",
      "1/1 [==============================] - 1s 778ms/step\n"
     ]
    }
   ],
   "source": [
    "#encoder = Model(inputs=input, outputs=autoencoder.get_layer(\"conv2d_transpose_55\").output)\n",
    "encoded_train = autoencoder.predict(X_train)\n",
    "encoded_test = autoencoder.predict(X_test)"
   ]
  },
  {
   "cell_type": "code",
   "execution_count": 290,
   "metadata": {},
   "outputs": [],
   "source": [
    "encoded_train = np.asarray(encoded_train)\n",
    "y_train = np.asarray(y_train)\n",
    "\n",
    "encoded_test = np.asarray(encoded_test)\n",
    "y_test = np.asarray(y_test)"
   ]
  },
  {
   "cell_type": "code",
   "execution_count": 177,
   "metadata": {},
   "outputs": [
    {
     "data": {
      "text/plain": [
       "(80, 200, 200, 3)"
      ]
     },
     "execution_count": 177,
     "metadata": {},
     "output_type": "execute_result"
    }
   ],
   "source": [
    "encoded_train.shape"
   ]
  },
  {
   "cell_type": "code",
   "execution_count": 291,
   "metadata": {},
   "outputs": [
    {
     "name": "stdout",
     "output_type": "stream",
     "text": [
      "Model: \"sequential_25\"\n",
      "_________________________________________________________________\n",
      " Layer (type)                Output Shape              Param #   \n",
      "=================================================================\n",
      " conv2d_67 (Conv2D)          (None, 200, 200, 64)      832       \n",
      "                                                                 \n",
      " max_pooling2d_36 (MaxPoolin  (None, 100, 100, 64)     0         \n",
      " g2D)                                                            \n",
      "                                                                 \n",
      " dropout_41 (Dropout)        (None, 100, 100, 64)      0         \n",
      "                                                                 \n",
      " conv2d_68 (Conv2D)          (None, 100, 100, 32)      8224      \n",
      "                                                                 \n",
      " max_pooling2d_37 (MaxPoolin  (None, 50, 50, 32)       0         \n",
      " g2D)                                                            \n",
      "                                                                 \n",
      " dropout_42 (Dropout)        (None, 50, 50, 32)        0         \n",
      "                                                                 \n",
      " flatten_26 (Flatten)        (None, 80000)             0         \n",
      "                                                                 \n",
      " dense_52 (Dense)            (None, 256)               20480256  \n",
      "                                                                 \n",
      " dropout_43 (Dropout)        (None, 256)               0         \n",
      "                                                                 \n",
      " dense_53 (Dense)            (None, 1)                 257       \n",
      "                                                                 \n",
      "=================================================================\n",
      "Total params: 20,489,569\n",
      "Trainable params: 20,489,569\n",
      "Non-trainable params: 0\n",
      "_________________________________________________________________\n"
     ]
    }
   ],
   "source": [
    "model = CNN((200, 200, 3), 1, 'sigmoid')"
   ]
  },
  {
   "cell_type": "code",
   "execution_count": 183,
   "metadata": {},
   "outputs": [
    {
     "name": "stdout",
     "output_type": "stream",
     "text": [
      "Epoch 1/3\n",
      "3/3 [==============================] - 4s 990ms/step - loss: 11.2133 - val_loss: 12.9547\n",
      "Epoch 2/3\n",
      "3/3 [==============================] - 3s 957ms/step - loss: 9.9703 - val_loss: 1.9849\n",
      "Epoch 3/3\n",
      "3/3 [==============================] - 3s 863ms/step - loss: 2.5315 - val_loss: 0.5111\n"
     ]
    }
   ],
   "source": [
    "#for age use categorical_crossentropy instead\n",
    "model.compile(optimizer=\"adam\", loss=\"binary_crossentropy\")\n",
    "\n",
    "history_autoencoder_gender = model.fit(encoded_train, y_train,\n",
    "                    epochs=3,\n",
    "                    batch_size=32,\n",
    "                    validation_data=(encoded_test, y_test))"
   ]
  },
  {
   "cell_type": "code",
   "execution_count": 184,
   "metadata": {},
   "outputs": [
    {
     "name": "stdout",
     "output_type": "stream",
     "text": [
      "1/1 [==============================] - 0s 217ms/step\n",
      "MCC:  0.0\n"
     ]
    },
    {
     "data": {
      "image/png": "[encoded data removed]",
      "text/plain": [
       "<Figure size 432x288 with 2 Axes>"
      ]
     },
     "metadata": {
      "needs_background": "light"
     },
     "output_type": "display_data"
    },
    {
     "name": "stdout",
     "output_type": "stream",
     "text": [
      "              precision    recall  f1-score   support\n",
      "\n",
      "           0       1.00      1.00      1.00        20\n",
      "\n",
      "    accuracy                           1.00        20\n",
      "   macro avg       1.00      1.00      1.00        20\n",
      "weighted avg       1.00      1.00      1.00        20\n",
      "\n"
     ]
    }
   ],
   "source": [
    "cnn_metrics(encoded_test, y_test, genders)"
   ]
  },
  {
   "attachments": {},
   "cell_type": "markdown",
   "metadata": {},
   "source": [
    "#### age"
   ]
  },
  {
   "cell_type": "code",
   "execution_count": 185,
   "metadata": {},
   "outputs": [],
   "source": [
    "# for this the order is first the split of the data then using autoencoder on train_x\n",
    "X_train, X_test, y_train, y_test = train_test_split(images, age_categories, test_size=0.2, random_state=42)\n",
    "\n",
    "X_train = np.array(X_train)\n",
    "X_train = np.reshape(X_train, (X_train.shape[0], X_train.shape[1], X_train.shape[2], 3))\n",
    "\n",
    "X_test = np.array(X_test)\n",
    "X_test = np.reshape(X_test, (X_test.shape[0], X_test.shape[1], X_test.shape[2], 3))\n",
    "\n",
    "input = layers.Input(shape=(200, 200, 3))"
   ]
  },
  {
   "cell_type": "code",
   "execution_count": 186,
   "metadata": {},
   "outputs": [
    {
     "name": "stdout",
     "output_type": "stream",
     "text": [
      "Model: \"model_8\"\n",
      "_________________________________________________________________\n",
      " Layer (type)                Output Shape              Param #   \n",
      "=================================================================\n",
      " input_18 (InputLayer)       [(None, 200, 200, 3)]     0         \n",
      "                                                                 \n",
      " conv2d_48 (Conv2D)          (None, 100, 100, 64)      1792      \n",
      "                                                                 \n",
      " conv2d_49 (Conv2D)          (None, 50, 50, 32)        18464     \n",
      "                                                                 \n",
      " conv2d_50 (Conv2D)          (None, 25, 25, 16)        4624      \n",
      "                                                                 \n",
      " flatten_18 (Flatten)        (None, 10000)             0         \n",
      "                                                                 \n",
      " dense_36 (Dense)            (None, 2000)              20002000  \n",
      "                                                                 \n",
      " dense_37 (Dense)            (None, 10000)             20010000  \n",
      "                                                                 \n",
      " reshape_17 (Reshape)        (None, 25, 25, 16)        0         \n",
      "                                                                 \n",
      " conv2d_transpose_24 (Conv2D  (None, 50, 50, 32)       4640      \n",
      " Transpose)                                                      \n",
      "                                                                 \n",
      " conv2d_transpose_25 (Conv2D  (None, 100, 100, 64)     18496     \n",
      " Transpose)                                                      \n",
      "                                                                 \n",
      " conv2d_transpose_26 (Conv2D  (None, 200, 200, 3)      1731      \n",
      " Transpose)                                                      \n",
      "                                                                 \n",
      "=================================================================\n",
      "Total params: 40,061,747\n",
      "Trainable params: 40,061,747\n",
      "Non-trainable params: 0\n",
      "_________________________________________________________________\n",
      "Epoch 1/2\n",
      "3/3 [==============================] - 5s 1s/step - loss: 7741.5415 - val_loss: 55303.6133\n",
      "Epoch 2/2\n",
      "3/3 [==============================] - 3s 966ms/step - loss: 152938.9688 - val_loss: 494688.1875\n"
     ]
    },
    {
     "data": {
      "text/plain": [
       "<keras.callbacks.History at 0x224858254c0>"
      ]
     },
     "execution_count": 186,
     "metadata": {},
     "output_type": "execute_result"
    }
   ],
   "source": [
    "autoencoder.fit(x = X_train, \n",
    "                y = X_train,\n",
    "                epochs = 2,\n",
    "                shuffle = True,\n",
    "                batch_size = 32,\n",
    "                validation_data = (X_test, X_test),\n",
    ")"
   ]
  },
  {
   "cell_type": "code",
   "execution_count": 187,
   "metadata": {},
   "outputs": [
    {
     "name": "stdout",
     "output_type": "stream",
     "text": [
      "WARNING:tensorflow:5 out of the last 18 calls to <function Model.make_predict_function.<locals>.predict_function at 0x000002248A3360D0> triggered tf.function retracing. Tracing is expensive and the excessive number of tracings could be due to (1) creating @tf.function repeatedly in a loop, (2) passing tensors with different shapes, (3) passing Python objects instead of tensors. For (1), please define your @tf.function outside of the loop. For (2), @tf.function has reduce_retracing=True option that can avoid unnecessary retracing. For (3), please refer to https://www.tensorflow.org/guide/function#controlling_retracing and https://www.tensorflow.org/api_docs/python/tf/function for  more details.\n",
      "3/3 [==============================] - 1s 220ms/step\n",
      "1/1 [==============================] - 0s 171ms/step\n"
     ]
    }
   ],
   "source": [
    "#encoder = Model(inputs=input, outputs=autoencoder.get_layer(\"conv2d_transpose_55\").output)\n",
    "encoded_train = autoencoder.predict(X_train)\n",
    "encoded_test = autoencoder.predict(X_test)"
   ]
  },
  {
   "cell_type": "code",
   "execution_count": 188,
   "metadata": {},
   "outputs": [],
   "source": [
    "encoded_train = np.asarray(encoded_train)\n",
    "y_train = np.asarray(y_train)\n",
    "\n",
    "encoded_test = np.asarray(encoded_test)\n",
    "y_test = np.asarray(y_test)"
   ]
  },
  {
   "cell_type": "code",
   "execution_count": 189,
   "metadata": {},
   "outputs": [
    {
     "name": "stdout",
     "output_type": "stream",
     "text": [
      "Model: \"sequential_20\"\n",
      "_________________________________________________________________\n",
      " Layer (type)                Output Shape              Param #   \n",
      "=================================================================\n",
      " conv2d_51 (Conv2D)          (None, 200, 200, 64)      832       \n",
      "                                                                 \n",
      " max_pooling2d_24 (MaxPoolin  (None, 100, 100, 64)     0         \n",
      " g2D)                                                            \n",
      "                                                                 \n",
      " dropout_30 (Dropout)        (None, 100, 100, 64)      0         \n",
      "                                                                 \n",
      " conv2d_52 (Conv2D)          (None, 100, 100, 32)      8224      \n",
      "                                                                 \n",
      " max_pooling2d_25 (MaxPoolin  (None, 50, 50, 32)       0         \n",
      " g2D)                                                            \n",
      "                                                                 \n",
      " dropout_31 (Dropout)        (None, 50, 50, 32)        0         \n",
      "                                                                 \n",
      " flatten_19 (Flatten)        (None, 80000)             0         \n",
      "                                                                 \n",
      " dense_38 (Dense)            (None, 256)               20480256  \n",
      "                                                                 \n",
      " dropout_32 (Dropout)        (None, 256)               0         \n",
      "                                                                 \n",
      " dense_39 (Dense)            (None, 6)                 1542      \n",
      "                                                                 \n",
      "=================================================================\n",
      "Total params: 20,490,854\n",
      "Trainable params: 20,490,854\n",
      "Non-trainable params: 0\n",
      "_________________________________________________________________\n"
     ]
    }
   ],
   "source": [
    "model = CNN((200,200,3), 6, 'softmax')"
   ]
  },
  {
   "cell_type": "code",
   "execution_count": 190,
   "metadata": {},
   "outputs": [
    {
     "name": "stdout",
     "output_type": "stream",
     "text": [
      "Epoch 1/2\n",
      "10/10 [==============================] - 6s 437ms/step - loss: 8.8377 - accuracy: 0.6375 - val_loss: 2.0077 - val_accuracy: 0.7500\n",
      "Epoch 2/2\n",
      "10/10 [==============================] - 4s 420ms/step - loss: 1.9252 - accuracy: 0.6000 - val_loss: 1.5965 - val_accuracy: 0.7500\n"
     ]
    }
   ],
   "source": [
    "model.compile(loss='categorical_crossentropy',\n",
    "            optimizer='adam',\n",
    "            metrics=['accuracy'])\n",
    "\n",
    "history_base_age = model.fit(encoded_train, y_train,\n",
    "        batch_size=8,\n",
    "        epochs=2,\n",
    "        validation_data=(encoded_test, y_test),)"
   ]
  },
  {
   "cell_type": "code",
   "execution_count": 191,
   "metadata": {},
   "outputs": [
    {
     "name": "stdout",
     "output_type": "stream",
     "text": [
      "WARNING:tensorflow:5 out of the last 14 calls to <function Model.make_predict_function.<locals>.predict_function at 0x00000224F7A51280> triggered tf.function retracing. Tracing is expensive and the excessive number of tracings could be due to (1) creating @tf.function repeatedly in a loop, (2) passing tensors with different shapes, (3) passing Python objects instead of tensors. For (1), please define your @tf.function outside of the loop. For (2), @tf.function has reduce_retracing=True option that can avoid unnecessary retracing. For (3), please refer to https://www.tensorflow.org/guide/function#controlling_retracing and https://www.tensorflow.org/api_docs/python/tf/function for  more details.\n",
      "1/1 [==============================] - 0s 186ms/step\n",
      "MCC:  0.0\n"
     ]
    },
    {
     "data": {
      "image/png": "[encoded data removed]",
      "text/plain": [
       "<Figure size 432x288 with 2 Axes>"
      ]
     },
     "metadata": {
      "needs_background": "light"
     },
     "output_type": "display_data"
    },
    {
     "name": "stdout",
     "output_type": "stream",
     "text": [
      "              precision    recall  f1-score   support\n",
      "\n",
      "           1       0.75      1.00      0.86        15\n",
      "           5       0.00      0.00      0.00         5\n",
      "\n",
      "    accuracy                           0.75        20\n",
      "   macro avg       0.38      0.50      0.43        20\n",
      "weighted avg       0.56      0.75      0.64        20\n",
      "\n"
     ]
    },
    {
     "name": "stderr",
     "output_type": "stream",
     "text": [
      "c:\\Users\\afbso\\anaconda3\\lib\\site-packages\\sklearn\\metrics\\_classification.py:1318: UndefinedMetricWarning: Precision and F-score are ill-defined and being set to 0.0 in labels with no predicted samples. Use `zero_division` parameter to control this behavior.\n",
      "  _warn_prf(average, modifier, msg_start, len(result))\n",
      "c:\\Users\\afbso\\anaconda3\\lib\\site-packages\\sklearn\\metrics\\_classification.py:1318: UndefinedMetricWarning: Precision and F-score are ill-defined and being set to 0.0 in labels with no predicted samples. Use `zero_division` parameter to control this behavior.\n",
      "  _warn_prf(average, modifier, msg_start, len(result))\n",
      "c:\\Users\\afbso\\anaconda3\\lib\\site-packages\\sklearn\\metrics\\_classification.py:1318: UndefinedMetricWarning: Precision and F-score are ill-defined and being set to 0.0 in labels with no predicted samples. Use `zero_division` parameter to control this behavior.\n",
      "  _warn_prf(average, modifier, msg_start, len(result))\n"
     ]
    }
   ],
   "source": [
    "cnn_metrics(X_test, y_test, age_classes)"
   ]
  },
  {
   "attachments": {},
   "cell_type": "markdown",
   "metadata": {},
   "source": [
    "## DF of Accuracys for Feature extracts (SVM)"
   ]
  },
  {
   "cell_type": "code",
   "execution_count": 68,
   "metadata": {},
   "outputs": [
    {
     "name": "stdout",
     "output_type": "stream",
     "text": [
      "         DF for Gender Models\n",
      "   index       Models  Accuracy\n",
      "0      3       VGG 16     0.975\n",
      "1      1          Hog     0.780\n",
      "2      0         Base     0.660\n",
      "3      2          Orb     0.560\n",
      "4      4  Autoencoder     0.420\n",
      "\n",
      "         DF for Age Models\n",
      "   index       Models  Accuracy\n",
      "0      3       VGG 16      0.81\n",
      "1      2          Orb      0.69\n",
      "2      1          Hog      0.64\n",
      "3      0         Base      0.63\n",
      "4      4  Autoencoder      0.63\n"
     ]
    }
   ],
   "source": [
    "data_gender = {'Models': ['Base', 'Hog', 'Orb', 'VGG 16', 'Autoencoder'],\n",
    "        'Accuracy': [0.66, 0.78, 0.56, 0.975, 0.42]}\n",
    "\n",
    "df_gender = pd.DataFrame(data_gender).sort_values(\"Accuracy\", ascending=False).reset_index()\n",
    "\n",
    "\n",
    "data_age = {'Models': ['Base', 'Hog', 'Orb', 'VGG 16', 'Autoencoder'],\n",
    "        'Accuracy': [0.63, 0.64, 0.69, 0.81, 0.63]}\n",
    "\n",
    "df_age = pd.DataFrame(data_age).sort_values(\"Accuracy\", ascending=False).reset_index()\n",
    "\n",
    "print(\"         DF for Gender Models\")\n",
    "print(df_gender)\n",
    "print(\"\")\n",
    "print(\"         DF for Age Models\")\n",
    "print(df_age)"
   ]
  },
  {
   "attachments": {},
   "cell_type": "markdown",
   "metadata": {},
   "source": [
    "## SVM Tunned with VGG16 Features"
   ]
  },
  {
   "attachments": {},
   "cell_type": "markdown",
   "metadata": {},
   "source": [
    "### gender"
   ]
  },
  {
   "cell_type": "code",
   "execution_count": 185,
   "metadata": {},
   "outputs": [
    {
     "name": "stdout",
     "output_type": "stream",
     "text": [
      "13/13 [==============================] - 44s 3s/step\n"
     ]
    }
   ],
   "source": [
    "X_train, X_test, y_train, y_test = train_test_split(images, genders, test_size=0.2, random_state=42)#variar a percentagem split\n",
    "\n",
    "VGG_model = VGG16(weights='imagenet', include_top=False, input_shape=(200, 200, 3))\n",
    "\n",
    "for layer in VGG_model.layers:\n",
    "\tlayer.trainable = False\n",
    "\t\n",
    "X_train_stacked = np.stack(X_train)\n",
    "\n",
    "feature_extractor=VGG_model.predict(X_train_stacked)\n",
    "\n",
    "features_vgg16 = feature_extractor.reshape(feature_extractor.shape[0], -1)"
   ]
  },
  {
   "cell_type": "code",
   "execution_count": 186,
   "metadata": {},
   "outputs": [
    {
     "name": "stdout",
     "output_type": "stream",
     "text": [
      "Accuracy: 0.975\n"
     ]
    }
   ],
   "source": [
    "clf = SVC()\n",
    "clf.fit(features_vgg16, y_train)\n",
    "\n",
    "accuracy = clf.score(features_vgg16, y_train)\n",
    "print(\"Accuracy:\", accuracy)"
   ]
  },
  {
   "cell_type": "code",
   "execution_count": 187,
   "metadata": {},
   "outputs": [],
   "source": [
    "# defining parameter range\n",
    "param_grid = {'C': [0.1, 1, 10, 100, 1000], \n",
    "              'gamma': [1, 0.1, 0.01, 0.001, 0.0001],\n",
    "              'kernel': [\"linear\", \"poly\", \"rbf\", \"sigmoid\"]} \n",
    "  \n",
    "grid = GridSearchCV(SVC(), param_grid, refit = True, verbose = False)\n",
    "  \n",
    "# fitting the model for grid search\n",
    "grid.fit(features_vgg16, y_train)"
   ]
  },
  {
   "cell_type": "code",
   "execution_count": null,
   "metadata": {},
   "outputs": [],
   "source": [
    "\n",
    "# print best parameter after tuning\n",
    "print(grid.best_params_)\n",
    "  \n",
    "# print how our model looks after hyper-parameter tuning\n",
    "print(grid.best_estimator_)"
   ]
  },
  {
   "cell_type": "code",
   "execution_count": null,
   "metadata": {},
   "outputs": [],
   "source": [
    "accuracy = clf.score(features_vgg16, y_train)\n",
    "print(\"Accuracy:\", accuracy)"
   ]
  },
  {
   "attachments": {},
   "cell_type": "markdown",
   "metadata": {},
   "source": [
    "### age"
   ]
  },
  {
   "cell_type": "code",
   "execution_count": null,
   "metadata": {},
   "outputs": [],
   "source": [
    "X_train, X_test, y_train, y_test = train_test_split(images, age_categories, test_size=0.2, random_state=42)#variar a percentagem split\n",
    "\n",
    "VGG_model = VGG16(weights='imagenet', include_top=False, input_shape=(200, 200, 3))\n",
    "\n",
    "for layer in VGG_model.layers:\n",
    "\tlayer.trainable = False\n",
    "\t\n",
    "X_train_stacked = np.stack(X_train)\n",
    "\n",
    "feature_extractor=VGG_model.predict(X_train_stacked)\n",
    "\n",
    "features_vgg16 = feature_extractor.reshape(feature_extractor.shape[0], -1)"
   ]
  },
  {
   "cell_type": "code",
   "execution_count": null,
   "metadata": {},
   "outputs": [],
   "source": [
    "clf = SVC()\n",
    "clf.fit(features_vgg16, y_train)\n",
    "\n",
    "accuracy = clf.score(features_vgg16, y_train)\n",
    "print(\"Accuracy:\", accuracy)"
   ]
  },
  {
   "cell_type": "code",
   "execution_count": null,
   "metadata": {},
   "outputs": [],
   "source": [
    "# defining parameter range\n",
    "param_grid = {'C': [0.1, 1, 10, 100, 1000], \n",
    "              'gamma': [1, 0.1, 0.01, 0.001, 0.0001],\n",
    "              'kernel': [\"linear\", \"poly\", \"rbf\", \"sigmoid\"]} \n",
    "  \n",
    "grid = GridSearchCV(SVC(), param_grid, refit = True, verbose = False)\n",
    "  \n",
    "# fitting the model for grid search\n",
    "grid.fit(features_vgg16, y_train)"
   ]
  },
  {
   "cell_type": "code",
   "execution_count": null,
   "metadata": {},
   "outputs": [],
   "source": [
    "# print best parameter after tuning\n",
    "print(grid.best_params_)\n",
    "  \n",
    "# print how our model looks after hyper-parameter tuning\n",
    "print(grid.best_estimator_)"
   ]
  },
  {
   "cell_type": "code",
   "execution_count": null,
   "metadata": {},
   "outputs": [],
   "source": [
    "accuracy = clf.score(features_vgg16, y_train)\n",
    "print(\"Accuracy:\", accuracy)"
   ]
  },
  {
   "attachments": {},
   "cell_type": "markdown",
   "metadata": {},
   "source": [
    "## CNN Tunned with ....."
   ]
  }
 ],
 "metadata": {
  "kernelspec": {
   "display_name": "Python 3 (ipykernel)",
   "language": "python",
   "name": "python3"
  },
  "language_info": {
   "codemirror_mode": {
    "name": "ipython",
    "version": 3
   },
   "file_extension": ".py",
   "mimetype": "text/x-python",
   "name": "python",
   "nbconvert_exporter": "python",
   "pygments_lexer": "ipython3",
   "version": "3.9.12"
  }
 },
 "nbformat": 4,
 "nbformat_minor": 2
}
