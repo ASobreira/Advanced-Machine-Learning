{
 "cells": [
  {
   "cell_type": "code",
   "execution_count": 31,
   "metadata": {},
   "outputs": [],
   "source": [
    "import numpy as np\n",
    "import pandas as pd \n",
    "import os\n",
    "import cv2\n",
    "from sklearn.svm import SVC\n",
    "from skimage.feature import hog\n",
    "import matplotlib.pyplot as plt\n",
    "from sklearn.model_selection import train_test_split\n",
    "from sklearn.svm import SVC\n",
    "from skimage.color import rgb2gray\n",
    "import tensorflow as tf\n",
    "from keras.models import Sequential\n",
    "from keras.layers import Convolution2D, MaxPooling2D, Flatten, Dense, Dropout, GlobalAveragePooling2D\n",
    "from keras.applications import VGG16\n",
    "from skimage.feature import hog\n",
    "from skimage import data, exposure\n",
    "import random\n",
    "from keras import layers, losses\n",
    "from keras.models import Model\n",
    "from sklearn.metrics import classification_report, accuracy_score, matthews_corrcoef, confusion_matrix\n",
    "from sklearn.model_selection import GridSearchCV\n",
    "from sklearn.metrics import classification_report\n",
    "import seaborn as sns\n",
    "from sklearn.multiclass import OneVsRestClassifier\n",
    "from sklearn.svm import SVC\n",
    "import math\n",
    "from keras.utils.np_utils import to_categorical\n",
    "from sklearn.metrics import classification_report, confusion_matrix"
   ]
  },
  {
   "attachments": {},
   "cell_type": "markdown",
   "metadata": {},
   "source": [
    "# Data "
   ]
  },
  {
   "cell_type": "code",
   "execution_count": 32,
   "metadata": {},
   "outputs": [
    {
     "name": "stdout",
     "output_type": "stream",
     "text": [
      "Total samples: 23708\n",
      "100_0_0_20170112213500903.jpg.chip.jpg\n"
     ]
    }
   ],
   "source": [
    "#path server\n",
    "#path = \"/UTKFace/\"\n",
    "#path colab\n",
    "#path = \"/content/utkface_aligned_cropped/UTKFace\"\n",
    "#path martim\n",
    "#path = \"../../../../DadosProj/UTKFace/\"\n",
    "#path alex\n",
    "path = \"../../../data_project/UTKFace/\"\n",
    "\n",
    "files = os.listdir(path)\n",
    "size = len(files)\n",
    "print(\"Total samples:\",size)\n",
    "print(files[0])"
   ]
  },
  {
   "cell_type": "code",
   "execution_count": 33,
   "metadata": {},
   "outputs": [],
   "source": [
    "images = []\n",
    "ages = []\n",
    "genders = []\n",
    "counter = 0\n",
    "\n",
    "for file in files:\n",
    "    if counter == 100:\n",
    "        break\n",
    "\n",
    "    image = cv2.imread(os.path.join(path, file))\n",
    "    if image is not None and image.any():\n",
    "        image = cv2.cvtColor(image, cv2.COLOR_BGR2RGB)\n",
    "        image = cv2.resize(image, dsize=(200, 200))\n",
    "        image = image.reshape((image.shape[0], image.shape[1], 3)) \n",
    "        image = image / 255.0\n",
    "\n",
    "        images.append(image)\n",
    "        delimit = file.split('_')\n",
    "        ages.append(int(delimit[0]))\n",
    "        genders.append(int(delimit[1]))\n",
    "\n",
    "        counter += 1\n",
    "        \n",
    "X = np.squeeze(images)"
   ]
  },
  {
   "cell_type": "code",
   "execution_count": 34,
   "metadata": {},
   "outputs": [
    {
     "name": "stdout",
     "output_type": "stream",
     "text": [
      "Age Classes finished\n"
     ]
    }
   ],
   "source": [
    "### Age classes\n",
    "age_classes = []\n",
    "for i in ages:\n",
    "    i = int(i)\n",
    "    if i <= 1:\n",
    "        age_classes.append(0)\n",
    "    if (i>1) and (i<=13):\n",
    "        age_classes.append(1)\n",
    "    if (i>13) and (i<17):\n",
    "        age_classes.append(2)\n",
    "    if (i>=17) and (i<30):\n",
    "        age_classes.append(3)\n",
    "    if (i>=30) and (i<60):\n",
    "        age_classes.append(4)\n",
    "    if i>=60:\n",
    "        age_classes.append(5)\n",
    "\n",
    "age_labels = [\"Baby\",   # index 0\n",
    "        \"Infant\",       # index 1\n",
    "        \"Adolescent\",   # index 2 \n",
    "        \"Young Adult\",  # index 3 \n",
    "        \"Adult\"         # index 4\n",
    "        \"Old Adult\",    # index 5\n",
    "        ]\n",
    "\n",
    "age_categories = to_categorical(age_classes, num_classes=6)\n",
    "age_categories[:20]\n",
    "print(\"Age Classes finished\")"
   ]
  },
  {
   "cell_type": "code",
   "execution_count": 35,
   "metadata": {},
   "outputs": [
    {
     "data": {
      "text/html": [
       "<div>\n",
       "<style scoped>\n",
       "    .dataframe tbody tr th:only-of-type {\n",
       "        vertical-align: middle;\n",
       "    }\n",
       "\n",
       "    .dataframe tbody tr th {\n",
       "        vertical-align: top;\n",
       "    }\n",
       "\n",
       "    .dataframe thead th {\n",
       "        text-align: right;\n",
       "    }\n",
       "</style>\n",
       "<table border=\"1\" class=\"dataframe\">\n",
       "  <thead>\n",
       "    <tr style=\"text-align: right;\">\n",
       "      <th></th>\n",
       "      <th>Images</th>\n",
       "      <th>Ages</th>\n",
       "      <th>Age_classes</th>\n",
       "      <th>Genders</th>\n",
       "    </tr>\n",
       "  </thead>\n",
       "  <tbody>\n",
       "    <tr>\n",
       "      <th>0</th>\n",
       "      <td>[[[0.8431372549019608, 0.807843137254902, 0.78...</td>\n",
       "      <td>100</td>\n",
       "      <td>[0.0, 0.0, 0.0, 0.0, 0.0, 1.0]</td>\n",
       "      <td>0</td>\n",
       "    </tr>\n",
       "    <tr>\n",
       "      <th>1</th>\n",
       "      <td>[[[0.4627450980392157, 0.47843137254901963, 0....</td>\n",
       "      <td>100</td>\n",
       "      <td>[0.0, 0.0, 0.0, 0.0, 0.0, 1.0]</td>\n",
       "      <td>0</td>\n",
       "    </tr>\n",
       "    <tr>\n",
       "      <th>2</th>\n",
       "      <td>[[[0.8588235294117647, 0.8745098039215686, 0.8...</td>\n",
       "      <td>100</td>\n",
       "      <td>[0.0, 0.0, 0.0, 0.0, 0.0, 1.0]</td>\n",
       "      <td>1</td>\n",
       "    </tr>\n",
       "    <tr>\n",
       "      <th>3</th>\n",
       "      <td>[[[0.3058823529411765, 0.3215686274509804, 0.3...</td>\n",
       "      <td>100</td>\n",
       "      <td>[0.0, 0.0, 0.0, 0.0, 0.0, 1.0]</td>\n",
       "      <td>1</td>\n",
       "    </tr>\n",
       "    <tr>\n",
       "      <th>4</th>\n",
       "      <td>[[[0.2549019607843137, 0.27058823529411763, 0....</td>\n",
       "      <td>100</td>\n",
       "      <td>[0.0, 0.0, 0.0, 0.0, 0.0, 1.0]</td>\n",
       "      <td>1</td>\n",
       "    </tr>\n",
       "    <tr>\n",
       "      <th>...</th>\n",
       "      <td>...</td>\n",
       "      <td>...</td>\n",
       "      <td>...</td>\n",
       "      <td>...</td>\n",
       "    </tr>\n",
       "    <tr>\n",
       "      <th>95</th>\n",
       "      <td>[[[0.30980392156862746, 0.2627450980392157, 0....</td>\n",
       "      <td>10</td>\n",
       "      <td>[0.0, 1.0, 0.0, 0.0, 0.0, 0.0]</td>\n",
       "      <td>0</td>\n",
       "    </tr>\n",
       "    <tr>\n",
       "      <th>96</th>\n",
       "      <td>[[[0.0, 0.0, 0.0], [0.0, 0.0, 0.0], [0.0, 0.0,...</td>\n",
       "      <td>10</td>\n",
       "      <td>[0.0, 1.0, 0.0, 0.0, 0.0, 0.0]</td>\n",
       "      <td>0</td>\n",
       "    </tr>\n",
       "    <tr>\n",
       "      <th>97</th>\n",
       "      <td>[[[0.9607843137254902, 0.9725490196078431, 0.9...</td>\n",
       "      <td>10</td>\n",
       "      <td>[0.0, 1.0, 0.0, 0.0, 0.0, 0.0]</td>\n",
       "      <td>0</td>\n",
       "    </tr>\n",
       "    <tr>\n",
       "      <th>98</th>\n",
       "      <td>[[[0.7176470588235294, 0.8431372549019608, 0.6...</td>\n",
       "      <td>10</td>\n",
       "      <td>[0.0, 1.0, 0.0, 0.0, 0.0, 0.0]</td>\n",
       "      <td>0</td>\n",
       "    </tr>\n",
       "    <tr>\n",
       "      <th>99</th>\n",
       "      <td>[[[0.4117647058823529, 0.3803921568627451, 0.3...</td>\n",
       "      <td>10</td>\n",
       "      <td>[0.0, 1.0, 0.0, 0.0, 0.0, 0.0]</td>\n",
       "      <td>0</td>\n",
       "    </tr>\n",
       "  </tbody>\n",
       "</table>\n",
       "<p>100 rows × 4 columns</p>\n",
       "</div>"
      ],
      "text/plain": [
       "                                               Images  Ages  \\\n",
       "0   [[[0.8431372549019608, 0.807843137254902, 0.78...   100   \n",
       "1   [[[0.4627450980392157, 0.47843137254901963, 0....   100   \n",
       "2   [[[0.8588235294117647, 0.8745098039215686, 0.8...   100   \n",
       "3   [[[0.3058823529411765, 0.3215686274509804, 0.3...   100   \n",
       "4   [[[0.2549019607843137, 0.27058823529411763, 0....   100   \n",
       "..                                                ...   ...   \n",
       "95  [[[0.30980392156862746, 0.2627450980392157, 0....    10   \n",
       "96  [[[0.0, 0.0, 0.0], [0.0, 0.0, 0.0], [0.0, 0.0,...    10   \n",
       "97  [[[0.9607843137254902, 0.9725490196078431, 0.9...    10   \n",
       "98  [[[0.7176470588235294, 0.8431372549019608, 0.6...    10   \n",
       "99  [[[0.4117647058823529, 0.3803921568627451, 0.3...    10   \n",
       "\n",
       "                       Age_classes  Genders  \n",
       "0   [0.0, 0.0, 0.0, 0.0, 0.0, 1.0]        0  \n",
       "1   [0.0, 0.0, 0.0, 0.0, 0.0, 1.0]        0  \n",
       "2   [0.0, 0.0, 0.0, 0.0, 0.0, 1.0]        1  \n",
       "3   [0.0, 0.0, 0.0, 0.0, 0.0, 1.0]        1  \n",
       "4   [0.0, 0.0, 0.0, 0.0, 0.0, 1.0]        1  \n",
       "..                             ...      ...  \n",
       "95  [0.0, 1.0, 0.0, 0.0, 0.0, 0.0]        0  \n",
       "96  [0.0, 1.0, 0.0, 0.0, 0.0, 0.0]        0  \n",
       "97  [0.0, 1.0, 0.0, 0.0, 0.0, 0.0]        0  \n",
       "98  [0.0, 1.0, 0.0, 0.0, 0.0, 0.0]        0  \n",
       "99  [0.0, 1.0, 0.0, 0.0, 0.0, 0.0]        0  \n",
       "\n",
       "[100 rows x 4 columns]"
      ]
     },
     "execution_count": 35,
     "metadata": {},
     "output_type": "execute_result"
    }
   ],
   "source": [
    "images = pd.Series(list(images), name = 'Images')\n",
    "ages = pd.Series(list(ages), name = 'Ages')\n",
    "genders = pd.Series(list(genders), name = 'Genders')\n",
    "age_classes = pd.Series(list(age_classes), name = 'Age_classes')\n",
    "\n",
    "\n",
    "df_original = pd.concat([images, ages, age_classes, genders], axis=1)\n",
    "df_original"
   ]
  },
  {
   "attachments": {},
   "cell_type": "markdown",
   "metadata": {},
   "source": [
    "## Data Distribution"
   ]
  },
  {
   "attachments": {},
   "cell_type": "markdown",
   "metadata": {},
   "source": [
    "### Ages"
   ]
  },
  {
   "cell_type": "code",
   "execution_count": 36,
   "metadata": {},
   "outputs": [
    {
     "name": "stderr",
     "output_type": "stream",
     "text": [
      "c:\\Users\\afbso\\anaconda3\\lib\\site-packages\\seaborn\\distributions.py:2619: FutureWarning: `distplot` is a deprecated function and will be removed in a future version. Please adapt your code to use either `displot` (a figure-level function with similar flexibility) or `histplot` (an axes-level function for histograms).\n",
      "  warnings.warn(msg, FutureWarning)\n"
     ]
    },
    {
     "data": {
      "text/plain": [
       "<AxesSubplot:xlabel='Ages', ylabel='Density'>"
      ]
     },
     "execution_count": 36,
     "metadata": {},
     "output_type": "execute_result"
    },
    {
     "data": {
      "image/png": "[encoded data removed]",
      "text/plain": [
       "<Figure size 432x288 with 1 Axes>"
      ]
     },
     "metadata": {},
     "output_type": "display_data"
    }
   ],
   "source": [
    "sns.set_theme()\n",
    "sns.distplot(df_original['Ages'],kde=True, bins=40)"
   ]
  },
  {
   "attachments": {},
   "cell_type": "markdown",
   "metadata": {},
   "source": [
    "### Ages Classes"
   ]
  },
  {
   "cell_type": "code",
   "execution_count": 13,
   "metadata": {},
   "outputs": [
    {
     "data": {
      "text/plain": [
       "Text(0, 0.5, 'Counts')"
      ]
     },
     "execution_count": 13,
     "metadata": {},
     "output_type": "execute_result"
    },
    {
     "data": {
      "image/png": "[encoded data removed]",
      "text/plain": [
       "<Figure size 432x288 with 1 Axes>"
      ]
     },
     "metadata": {},
     "output_type": "display_data"
    }
   ],
   "source": [
    "df_original[\"Age_classes\"].value_counts().plot(kind='bar')\n",
    "\n",
    "# set the title and axis labels\n",
    "plt.title(\"Bar Plot for Age classes\")\n",
    "plt.xlabel(\"Age classes\")\n",
    "plt.ylabel(\"Counts\")"
   ]
  },
  {
   "cell_type": "code",
   "execution_count": 14,
   "metadata": {},
   "outputs": [
    {
     "name": "stdout",
     "output_type": "stream",
     "text": [
      "1    81\n",
      "5    19\n",
      "Name: Age_classes, dtype: int64\n"
     ]
    }
   ],
   "source": [
    "print(df_original.Age_classes.value_counts())"
   ]
  },
  {
   "attachments": {},
   "cell_type": "markdown",
   "metadata": {},
   "source": [
    "### Balanced Age Classes"
   ]
  },
  {
   "cell_type": "code",
   "execution_count": 15,
   "metadata": {},
   "outputs": [
    {
     "ename": "ValueError",
     "evalue": "Cannot take a larger sample than population when 'replace=False'",
     "output_type": "error",
     "traceback": [
      "\u001b[1;31m---------------------------------------------------------------------------\u001b[0m",
      "\u001b[1;31mValueError\u001b[0m                                Traceback (most recent call last)",
      "\u001b[1;32mc:\\Users\\afbso\\OneDrive - Universidade de Lisboa\\MCD\\2º Semestre\\A.A.A\\AAA_repo\\Project\\Project\\data_balancing.ipynb Cell 15\u001b[0m in \u001b[0;36m<cell line: 7>\u001b[1;34m()\u001b[0m\n\u001b[0;32m      <a href='vscode-notebook-cell:/c%3A/Users/afbso/OneDrive%20-%20Universidade%20de%20Lisboa/MCD/2%C2%BA%20Semestre/A.A.A/AAA_repo/Project/Project/data_balancing.ipynb#X20sZmlsZQ%3D%3D?line=5'>6</a>\u001b[0m \u001b[39m# randomly select 581 rows from each group\u001b[39;00m\n\u001b[0;32m      <a href='vscode-notebook-cell:/c%3A/Users/afbso/OneDrive%20-%20Universidade%20de%20Lisboa/MCD/2%C2%BA%20Semestre/A.A.A/AAA_repo/Project/Project/data_balancing.ipynb#X20sZmlsZQ%3D%3D?line=6'>7</a>\u001b[0m \u001b[39mfor\u001b[39;00m name, group \u001b[39min\u001b[39;00m groups:\n\u001b[1;32m----> <a href='vscode-notebook-cell:/c%3A/Users/afbso/OneDrive%20-%20Universidade%20de%20Lisboa/MCD/2%C2%BA%20Semestre/A.A.A/AAA_repo/Project/Project/data_balancing.ipynb#X20sZmlsZQ%3D%3D?line=7'>8</a>\u001b[0m     sampled_df \u001b[39m=\u001b[39m group\u001b[39m.\u001b[39;49msample(\u001b[39m580\u001b[39;49m)\n\u001b[0;32m      <a href='vscode-notebook-cell:/c%3A/Users/afbso/OneDrive%20-%20Universidade%20de%20Lisboa/MCD/2%C2%BA%20Semestre/A.A.A/AAA_repo/Project/Project/data_balancing.ipynb#X20sZmlsZQ%3D%3D?line=8'>9</a>\u001b[0m     sampled_dfs\u001b[39m.\u001b[39mappend(sampled_df)\n\u001b[0;32m     <a href='vscode-notebook-cell:/c%3A/Users/afbso/OneDrive%20-%20Universidade%20de%20Lisboa/MCD/2%C2%BA%20Semestre/A.A.A/AAA_repo/Project/Project/data_balancing.ipynb#X20sZmlsZQ%3D%3D?line=10'>11</a>\u001b[0m \u001b[39m# concatenate the sampled dataframes into a single balanced dataframe\u001b[39;00m\n",
      "File \u001b[1;32mc:\\Users\\afbso\\anaconda3\\lib\\site-packages\\pandas\\core\\generic.py:5446\u001b[0m, in \u001b[0;36mNDFrame.sample\u001b[1;34m(self, n, frac, replace, weights, random_state, axis, ignore_index)\u001b[0m\n\u001b[0;32m   5443\u001b[0m \u001b[39mif\u001b[39;00m weights \u001b[39mis\u001b[39;00m \u001b[39mnot\u001b[39;00m \u001b[39mNone\u001b[39;00m:\n\u001b[0;32m   5444\u001b[0m     weights \u001b[39m=\u001b[39m sample\u001b[39m.\u001b[39mpreprocess_weights(\u001b[39mself\u001b[39m, weights, axis)\n\u001b[1;32m-> 5446\u001b[0m sampled_indices \u001b[39m=\u001b[39m sample\u001b[39m.\u001b[39;49msample(obj_len, size, replace, weights, rs)\n\u001b[0;32m   5447\u001b[0m result \u001b[39m=\u001b[39m \u001b[39mself\u001b[39m\u001b[39m.\u001b[39mtake(sampled_indices, axis\u001b[39m=\u001b[39maxis)\n\u001b[0;32m   5449\u001b[0m \u001b[39mif\u001b[39;00m ignore_index:\n",
      "File \u001b[1;32mc:\\Users\\afbso\\anaconda3\\lib\\site-packages\\pandas\\core\\sample.py:150\u001b[0m, in \u001b[0;36msample\u001b[1;34m(obj_len, size, replace, weights, random_state)\u001b[0m\n\u001b[0;32m    147\u001b[0m     \u001b[39melse\u001b[39;00m:\n\u001b[0;32m    148\u001b[0m         \u001b[39mraise\u001b[39;00m \u001b[39mValueError\u001b[39;00m(\u001b[39m\"\u001b[39m\u001b[39mInvalid weights: weights sum to zero\u001b[39m\u001b[39m\"\u001b[39m)\n\u001b[1;32m--> 150\u001b[0m \u001b[39mreturn\u001b[39;00m random_state\u001b[39m.\u001b[39;49mchoice(obj_len, size\u001b[39m=\u001b[39;49msize, replace\u001b[39m=\u001b[39;49mreplace, p\u001b[39m=\u001b[39;49mweights)\u001b[39m.\u001b[39mastype(\n\u001b[0;32m    151\u001b[0m     np\u001b[39m.\u001b[39mintp, copy\u001b[39m=\u001b[39m\u001b[39mFalse\u001b[39;00m\n\u001b[0;32m    152\u001b[0m )\n",
      "File \u001b[1;32mmtrand.pyx:965\u001b[0m, in \u001b[0;36mnumpy.random.mtrand.RandomState.choice\u001b[1;34m()\u001b[0m\n",
      "\u001b[1;31mValueError\u001b[0m: Cannot take a larger sample than population when 'replace=False'"
     ]
    }
   ],
   "source": [
    "groups = df_original.groupby('Age_classes')\n",
    "\n",
    "# create a list to hold the sampled dataframes\n",
    "sampled_dfs = []\n",
    "\n",
    "# randomly select 581 rows from each group\n",
    "for name, group in groups:\n",
    "    sampled_df = group.sample(580)\n",
    "    sampled_dfs.append(sampled_df)\n",
    "\n",
    "# concatenate the sampled dataframes into a single balanced dataframe\n",
    "balanced_df_age_classes = pd.concat(sampled_dfs)\n",
    "\n",
    "# reset the index of the new dataframe\n",
    "balanced_df_age_classes = balanced_df_age_classes.reset_index(drop=True)"
   ]
  },
  {
   "cell_type": "code",
   "execution_count": null,
   "metadata": {},
   "outputs": [],
   "source": [
    "balanced_df_age_classes[\"Age_classes\"].value_counts().plot(kind='bar')\n",
    "\n",
    "# set the title and axis labels\n",
    "plt.title(\"Bar Plot for Balanced Age classes\")\n",
    "plt.xlabel(\"Balanced Age classes\")\n",
    "plt.ylabel(\"Counts\")"
   ]
  },
  {
   "cell_type": "code",
   "execution_count": null,
   "metadata": {},
   "outputs": [],
   "source": [
    "print(balanced_df_age_classes.Age_classes.value_counts())"
   ]
  },
  {
   "attachments": {},
   "cell_type": "markdown",
   "metadata": {},
   "source": [
    "## Gender"
   ]
  },
  {
   "cell_type": "code",
   "execution_count": null,
   "metadata": {},
   "outputs": [],
   "source": [
    "df_original[\"Genders\"].value_counts().plot(kind='bar')\n",
    "\n",
    "# set the title and axis labels\n",
    "plt.title(\"Bar Plot for Genders\")\n",
    "plt.xlabel(\"Genders\")\n",
    "plt.ylabel(\"Counts\")"
   ]
  },
  {
   "attachments": {},
   "cell_type": "markdown",
   "metadata": {},
   "source": [
    "## Balanced Gender"
   ]
  },
  {
   "cell_type": "code",
   "execution_count": null,
   "metadata": {},
   "outputs": [],
   "source": [
    "groups = df_original.groupby('Genders')\n",
    "\n",
    "# create a list to hold the sampled dataframes\n",
    "sampled_dfs = []\n",
    "\n",
    "# randomly select 581 rows from each group\n",
    "for name, group in groups:\n",
    "    sampled_df = group.sample(10000)\n",
    "    sampled_dfs.append(sampled_df)\n",
    "\n",
    "# concatenate the sampled dataframes into a single balanced dataframe\n",
    "balanced_df_gender = pd.concat(sampled_dfs)\n",
    "\n",
    "# reset the index of the new dataframe\n",
    "balanced_df_gender = balanced_df_gender.reset_index(drop=True)"
   ]
  },
  {
   "cell_type": "code",
   "execution_count": null,
   "metadata": {},
   "outputs": [],
   "source": [
    "balanced_df_gender[\"Genders\"].value_counts().plot(kind='bar')\n",
    "\n",
    "# set the title and axis labels\n",
    "plt.title(\"Bar Plot for Genders\")\n",
    "plt.xlabel(\"Genders\")\n",
    "plt.ylabel(\"Counts\")"
   ]
  },
  {
   "cell_type": "code",
   "execution_count": null,
   "metadata": {},
   "outputs": [],
   "source": [
    "print(balanced_df_gender.Genders.value_counts())"
   ]
  },
  {
   "attachments": {},
   "cell_type": "markdown",
   "metadata": {},
   "source": [
    "# New Datasets and variables"
   ]
  },
  {
   "attachments": {},
   "cell_type": "markdown",
   "metadata": {},
   "source": [
    "## Balanced Age Classes\n"
   ]
  },
  {
   "cell_type": "code",
   "execution_count": null,
   "metadata": {},
   "outputs": [],
   "source": [
    "# Drop columns\n",
    "balanced_df_age_classes = balanced_df_age_classes.drop(columns=['Ages', 'Genders'])\n",
    "\n",
    "# shuffle the rows of the dataframe\n",
    "balanced_df_age_classes = balanced_df_age_classes.sample(frac=1).reset_index(drop=True)\n",
    "\n",
    "# reset the index of the shuffled dataframe\n",
    "balanced_df_age_classes = balanced_df_age_classes.reset_index(drop=True)\n",
    "\n",
    "# save the modified dataframe back to a csv file\n",
    "#balanced_df_age_classes.to_csv(\"balanced_df_age_classes.csv\", index=False)"
   ]
  },
  {
   "attachments": {},
   "cell_type": "markdown",
   "metadata": {},
   "source": [
    "## Balanced Gender"
   ]
  },
  {
   "cell_type": "code",
   "execution_count": null,
   "metadata": {},
   "outputs": [],
   "source": [
    "# Drop columns\n",
    "balanced_df_gender = balanced_df_gender.drop(columns=['Ages', 'Age_classes'])\n",
    "\n",
    "# shuffle the rows of the dataframe\n",
    "balanced_df_gender = balanced_df_gender.sample(frac=1).reset_index(drop=True)\n",
    "\n",
    "# reset the index of the shuffled dataframe\n",
    "balanced_df_gender = balanced_df_gender.reset_index(drop=True)\n",
    "\n",
    "# save the modified dataframe back to a csv file\n",
    "#balanced_df_gender.to_csv(\"balanced_df_gender.csv\", index=False)"
   ]
  },
  {
   "attachments": {},
   "cell_type": "markdown",
   "metadata": {},
   "source": [
    "# New X's and y's"
   ]
  },
  {
   "attachments": {},
   "cell_type": "markdown",
   "metadata": {},
   "source": [
    "## Age Classes"
   ]
  },
  {
   "cell_type": "code",
   "execution_count": null,
   "metadata": {},
   "outputs": [],
   "source": [
    "X_age_classes = []\n",
    "y_age_classes = []\n",
    "\n",
    "for i in range(len(balanced_df_age_classes)):\n",
    "    ar = np.asarray(balanced_df_age_classes['Images'].iloc[i])\n",
    "    X_age_classes.append(ar)\n",
    "    agegen = int(balanced_df_age_classes['Age_classes'].iloc[i])\n",
    "    y_age_classes.append(agegen)\n",
    "X_age_classes = np.array(X_age_classes)\n",
    "\n",
    "print(X_age_classes.shape)\n",
    "print(len(y_age_classes))"
   ]
  },
  {
   "cell_type": "code",
   "execution_count": null,
   "metadata": {},
   "outputs": [],
   "source": [
    "#np.savez('age_classes_vars.npz', x=X_age_classes, y=y_age_classes)"
   ]
  },
  {
   "attachments": {},
   "cell_type": "markdown",
   "metadata": {},
   "source": [
    "## Gender"
   ]
  },
  {
   "cell_type": "code",
   "execution_count": null,
   "metadata": {},
   "outputs": [],
   "source": [
    "X_genders = []\n",
    "y_genders = []\n",
    "\n",
    "for i in range(len(balanced_df_gender)):\n",
    "    ar = np.asarray(balanced_df_gender['Images'].iloc[i])\n",
    "    X_genders.append(ar)\n",
    "    agegen = int(balanced_df_gender['Genders'].iloc[i])\n",
    "    y_genders.append(agegen)\n",
    "X_genders = np.array(X_genders)\n",
    "\n",
    "print(X_genders.shape)\n",
    "print(len(y_genders))"
   ]
  },
  {
   "cell_type": "code",
   "execution_count": null,
   "metadata": {},
   "outputs": [],
   "source": [
    "#np.savez('gender_vars.npz', x=X_genders, y=y_genders)"
   ]
  }
 ],
 "metadata": {
  "kernelspec": {
   "display_name": "base",
   "language": "python",
   "name": "python3"
  },
  "language_info": {
   "codemirror_mode": {
    "name": "ipython",
    "version": 3
   },
   "file_extension": ".py",
   "mimetype": "text/x-python",
   "name": "python",
   "nbconvert_exporter": "python",
   "pygments_lexer": "ipython3",
   "version": "3.9.12"
  },
  "orig_nbformat": 4
 },
 "nbformat": 4,
 "nbformat_minor": 2
}
