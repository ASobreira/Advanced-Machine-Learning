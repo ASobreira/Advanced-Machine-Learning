{
 "cells": [
  {
   "attachments": {},
   "cell_type": "markdown",
   "metadata": {},
   "source": [
    "## Exercise 2"
   ]
  },
  {
   "cell_type": "code",
   "execution_count": 1,
   "metadata": {},
   "outputs": [],
   "source": [
    "import numpy as np\n",
    "from tensorflow.keras.models import Sequential, Model # Model para 2 b)\n",
    "from tensorflow.keras.layers import Dense, Input, Concatenate # Input e Concatenate adicionado para 2 b)\n",
    "from tensorflow.keras.optimizers import SGD\n",
    "from tensorflow.keras.utils import plot_model\n",
    "from sklearn.model_selection import GridSearchCV\n",
    "import matplotlib.pyplot as plt\n",
    "import pandas as pd"
   ]
  },
  {
   "attachments": {},
   "cell_type": "markdown",
   "metadata": {},
   "source": [
    "#### Inputs and Labels"
   ]
  },
  {
   "cell_type": "code",
   "execution_count": 2,
   "metadata": {},
   "outputs": [],
   "source": [
    "x = np.array([[0,0], [0,1], [1,0], [1,1]], \"float32\")\n",
    "y = np.array([[0], [1], [1], [0]], \"float32\")"
   ]
  },
  {
   "attachments": {},
   "cell_type": "markdown",
   "metadata": {},
   "source": [
    "## a)"
   ]
  },
  {
   "attachments": {},
   "cell_type": "markdown",
   "metadata": {},
   "source": [
    "### Compile Networks & Test momentum"
   ]
  },
  {
   "cell_type": "code",
   "execution_count": 3,
   "metadata": {},
   "outputs": [],
   "source": [
    "momentum_list = [0.0, 0.4, 0.9] "
   ]
  },
  {
   "cell_type": "code",
   "execution_count": 4,
   "metadata": {},
   "outputs": [],
   "source": [
    "# Function to compile with diferent act. function and with or without momentum\n",
    "def compiler_a (test_values, function):\n",
    "    model = Sequential([Dense(2, activation = function), Dense(1, activation = function)])\n",
    "    for i in test_values:\n",
    "        model.compile(loss=\"mean_squared_error\", optimizer = SGD(momentum = i, learning_rate = .001), metrics = [\"accuracy\"]) # Learning Rate default is .001\n",
    "        model.fit(x, y, epochs = 5000, batch_size = 1, verbose = 0)\n",
    "        loss, accuracy = model.evaluate(x, y, verbose=0)\n",
    "        print(f\"With a {function} activation function and {i} of momentum, the loss is {loss} and the accuracy {accuracy}\") \n",
    "        "
   ]
  },
  {
   "attachments": {},
   "cell_type": "markdown",
   "metadata": {},
   "source": [
    "#### sigmoid"
   ]
  },
  {
   "cell_type": "code",
   "execution_count": 18,
   "metadata": {},
   "outputs": [
    {
     "name": "stdout",
     "output_type": "stream",
     "text": [
      "With a sigmoid activation function and 0.0 of momentum, the loss is 0.2505200207233429 and the accuracy 0.5\n",
      "With a sigmoid activation function and 0.4 of momentum, the loss is 0.24955503642559052 and the accuracy 0.5\n",
      "With a sigmoid activation function and 0.9 of momentum, the loss is 0.22812910377979279 and the accuracy 0.75\n"
     ]
    }
   ],
   "source": [
    "compiler_a(momentum_list, \"sigmoid\")"
   ]
  },
  {
   "attachments": {},
   "cell_type": "markdown",
   "metadata": {},
   "source": [
    "#### tanh"
   ]
  },
  {
   "cell_type": "code",
   "execution_count": 19,
   "metadata": {},
   "outputs": [
    {
     "name": "stdout",
     "output_type": "stream",
     "text": [
      "With a tanh activation function and 0.0 of momentum, the loss is 0.24019236862659454 and the accuracy 0.5\n",
      "With a tanh activation function and 0.4 of momentum, the loss is 0.161753311753273 and the accuracy 0.5\n",
      "With a tanh activation function and 0.9 of momentum, the loss is 0.0011911485344171524 and the accuracy 1.0\n"
     ]
    }
   ],
   "source": [
    "compiler_a(momentum_list, \"tanh\")"
   ]
  },
  {
   "attachments": {},
   "cell_type": "markdown",
   "metadata": {},
   "source": [
    "#### relu"
   ]
  },
  {
   "cell_type": "code",
   "execution_count": 20,
   "metadata": {},
   "outputs": [
    {
     "name": "stdout",
     "output_type": "stream",
     "text": [
      "With a relu activation function and 0.0 of momentum, the loss is 0.5 and the accuracy 0.5\n",
      "With a relu activation function and 0.4 of momentum, the loss is 0.5 and the accuracy 0.5\n",
      "With a relu activation function and 0.9 of momentum, the loss is 0.5 and the accuracy 0.5\n"
     ]
    }
   ],
   "source": [
    "compiler_a(momentum_list, \"relu\")"
   ]
  },
  {
   "attachments": {},
   "cell_type": "markdown",
   "metadata": {},
   "source": [
    "### Loss and Accuracy analysis"
   ]
  },
  {
   "attachments": {},
   "cell_type": "markdown",
   "metadata": {},
   "source": [
    "#### Plot"
   ]
  },
  {
   "cell_type": "code",
   "execution_count": 21,
   "metadata": {},
   "outputs": [
    {
     "data": {
      "image/png": "[encoded data removed]",
      "text/plain": [
       "<Figure size 864x576 with 1 Axes>"
      ]
     },
     "metadata": {
      "needs_background": "light"
     },
     "output_type": "display_data"
    }
   ],
   "source": [
    "# set width of bar\n",
    "barWidth = 0.25\n",
    "fig = plt.subplots(figsize =(12, 8))\n",
    "no_momentum = [.2505, .5, .2402]\n",
    "momentum_4 = [0.2496, .5, .1618]\n",
    "momentum_9 = [0.2281, .5, .0012]\n",
    "br1 = np.arange(len(no_momentum))\n",
    "br2 = [x + barWidth for x in br1]\n",
    "br3 = [x + barWidth for x in br2]\n",
    "# Make the plot\n",
    "plt.bar(br1, no_momentum, color ='black', width = barWidth,\n",
    "        edgecolor ='grey', label ='no momentum')\n",
    "plt.bar(br2, momentum_4, color ='dimgrey', width = barWidth,\n",
    "        edgecolor ='grey', label ='momentum = .4')\n",
    "plt.bar(br3, momentum_9, color ='gainsboro', width = barWidth,\n",
    "        edgecolor ='grey', label ='momentum = .9')\n",
    "# Adding Xticks\n",
    "plt.xlabel('Act. Function', fontweight ='bold', fontsize = 15)\n",
    "plt.ylabel('Loss', fontweight ='bold', fontsize = 15)\n",
    "plt.xticks([r + barWidth for r in range(len(no_momentum))],['sigmoid', 'relu', 'tanh'])\n",
    "plt.ylim(0, .55)\n",
    "plt.legend()\n",
    "plt.title(\"Effect of diferent momentum values on loss value per diferent activation functions\")\n",
    "plt.show()"
   ]
  },
  {
   "attachments": {},
   "cell_type": "markdown",
   "metadata": {},
   "source": [
    "#### Dataframe"
   ]
  },
  {
   "cell_type": "code",
   "execution_count": 24,
   "metadata": {},
   "outputs": [],
   "source": [
    "df_accuracy_01 = pd.DataFrame({\n",
    "  \"sigmoid\": [.5, .5, .75],\n",
    "  \"relu\": [1, 1, 1],\n",
    "  \"tanh\": [.5, .5, .5] \n",
    "  })\n",
    "df_accuracy_01 = df_accuracy_01.rename(index={0: '0.0', 1: '0.4', 2: '0.9'})\n",
    "df_accuracy_01 = df_accuracy_01.style.set_caption('Accuracy Values')\n",
    "\n",
    "\n",
    "df_loss_01 = pd.DataFrame({\n",
    "    \"sigmoid\": [.2505, .2496, .2281],\n",
    "    \"relu\": [.5, .5, .5],\n",
    "    \"tanh\": [.2402, .1618, .0012] \n",
    "  })\n",
    "df_loss_01 = df_loss_01.rename(index={0: '0.0', 1: '0.4', 2: '0.9'})\n",
    "df_loss_01 = df_loss_01.style.set_caption('Loss Values')"
   ]
  },
  {
   "cell_type": "code",
   "execution_count": 25,
   "metadata": {},
   "outputs": [
    {
     "data": {
      "text/html": [
       "<style type=\"text/css\">\n",
       "</style>\n",
       "<table id=\"T_63233\">\n",
       "  <caption>Accuracy Values</caption>\n",
       "  <thead>\n",
       "    <tr>\n",
       "      <th class=\"blank level0\" >&nbsp;</th>\n",
       "      <th id=\"T_63233_level0_col0\" class=\"col_heading level0 col0\" >sigmoid</th>\n",
       "      <th id=\"T_63233_level0_col1\" class=\"col_heading level0 col1\" >relu</th>\n",
       "      <th id=\"T_63233_level0_col2\" class=\"col_heading level0 col2\" >tanh</th>\n",
       "    </tr>\n",
       "  </thead>\n",
       "  <tbody>\n",
       "    <tr>\n",
       "      <th id=\"T_63233_level0_row0\" class=\"row_heading level0 row0\" >0.0</th>\n",
       "      <td id=\"T_63233_row0_col0\" class=\"data row0 col0\" >0.500000</td>\n",
       "      <td id=\"T_63233_row0_col1\" class=\"data row0 col1\" >1</td>\n",
       "      <td id=\"T_63233_row0_col2\" class=\"data row0 col2\" >0.500000</td>\n",
       "    </tr>\n",
       "    <tr>\n",
       "      <th id=\"T_63233_level0_row1\" class=\"row_heading level0 row1\" >0.4</th>\n",
       "      <td id=\"T_63233_row1_col0\" class=\"data row1 col0\" >0.500000</td>\n",
       "      <td id=\"T_63233_row1_col1\" class=\"data row1 col1\" >1</td>\n",
       "      <td id=\"T_63233_row1_col2\" class=\"data row1 col2\" >0.500000</td>\n",
       "    </tr>\n",
       "    <tr>\n",
       "      <th id=\"T_63233_level0_row2\" class=\"row_heading level0 row2\" >0.9</th>\n",
       "      <td id=\"T_63233_row2_col0\" class=\"data row2 col0\" >0.750000</td>\n",
       "      <td id=\"T_63233_row2_col1\" class=\"data row2 col1\" >1</td>\n",
       "      <td id=\"T_63233_row2_col2\" class=\"data row2 col2\" >0.500000</td>\n",
       "    </tr>\n",
       "  </tbody>\n",
       "</table>\n"
      ],
      "text/plain": [
       "<pandas.io.formats.style.Styler at 0x1e39f95d7f0>"
      ]
     },
     "execution_count": 25,
     "metadata": {},
     "output_type": "execute_result"
    }
   ],
   "source": [
    "df_accuracy_01"
   ]
  },
  {
   "cell_type": "code",
   "execution_count": 26,
   "metadata": {},
   "outputs": [
    {
     "data": {
      "text/html": [
       "<style type=\"text/css\">\n",
       "</style>\n",
       "<table id=\"T_05521\">\n",
       "  <caption>Loss Values</caption>\n",
       "  <thead>\n",
       "    <tr>\n",
       "      <th class=\"blank level0\" >&nbsp;</th>\n",
       "      <th id=\"T_05521_level0_col0\" class=\"col_heading level0 col0\" >sigmoid</th>\n",
       "      <th id=\"T_05521_level0_col1\" class=\"col_heading level0 col1\" >relu</th>\n",
       "      <th id=\"T_05521_level0_col2\" class=\"col_heading level0 col2\" >tanh</th>\n",
       "    </tr>\n",
       "  </thead>\n",
       "  <tbody>\n",
       "    <tr>\n",
       "      <th id=\"T_05521_level0_row0\" class=\"row_heading level0 row0\" >0.0</th>\n",
       "      <td id=\"T_05521_row0_col0\" class=\"data row0 col0\" >0.250500</td>\n",
       "      <td id=\"T_05521_row0_col1\" class=\"data row0 col1\" >0.500000</td>\n",
       "      <td id=\"T_05521_row0_col2\" class=\"data row0 col2\" >0.240200</td>\n",
       "    </tr>\n",
       "    <tr>\n",
       "      <th id=\"T_05521_level0_row1\" class=\"row_heading level0 row1\" >0.4</th>\n",
       "      <td id=\"T_05521_row1_col0\" class=\"data row1 col0\" >0.249600</td>\n",
       "      <td id=\"T_05521_row1_col1\" class=\"data row1 col1\" >0.500000</td>\n",
       "      <td id=\"T_05521_row1_col2\" class=\"data row1 col2\" >0.161800</td>\n",
       "    </tr>\n",
       "    <tr>\n",
       "      <th id=\"T_05521_level0_row2\" class=\"row_heading level0 row2\" >0.9</th>\n",
       "      <td id=\"T_05521_row2_col0\" class=\"data row2 col0\" >0.228100</td>\n",
       "      <td id=\"T_05521_row2_col1\" class=\"data row2 col1\" >0.500000</td>\n",
       "      <td id=\"T_05521_row2_col2\" class=\"data row2 col2\" >0.001200</td>\n",
       "    </tr>\n",
       "  </tbody>\n",
       "</table>\n"
      ],
      "text/plain": [
       "<pandas.io.formats.style.Styler at 0x1e3a4572f40>"
      ]
     },
     "execution_count": 26,
     "metadata": {},
     "output_type": "execute_result"
    }
   ],
   "source": [
    "df_loss_01"
   ]
  },
  {
   "attachments": {},
   "cell_type": "markdown",
   "metadata": {},
   "source": [
    "#### Observations"
   ]
  },
  {
   "attachments": {},
   "cell_type": "markdown",
   "metadata": {},
   "source": [
    "It is possible to observe a tendency for the loss value to decrease when the momentum value increases on both sigmoid and relu activation functions. The same isnt true for the tanh activation funtion where there is no variation of the loss value.\n",
    "\n",
    "In terms of accuracy there is a tendency for the accuracy to increase as the momentum value increases with a sigmoid function. FOr the relu and tanh there no variation is observed in terms of accuracy values"
   ]
  },
  {
   "attachments": {},
   "cell_type": "markdown",
   "metadata": {},
   "source": [
    "## b)"
   ]
  },
  {
   "attachments": {},
   "cell_type": "markdown",
   "metadata": {},
   "source": [
    "### Compile Networks & Test momentum"
   ]
  },
  {
   "cell_type": "code",
   "execution_count": 7,
   "metadata": {},
   "outputs": [],
   "source": [
    "# Function to compile with diferent act. function and with or without momentum\n",
    "def compiler_b (test_values, function):\n",
    "    inputs = Input(shape=(2,)) \n",
    "    out = Dense(1, activation= function)(inputs)\n",
    "    o = Concatenate(axis=1)([out, inputs]) \n",
    "    out2 = Dense(1, activation = function)(o)\n",
    "    model = Model(inputs = inputs,outputs = out2)\n",
    "    for i in test_values:\n",
    "        model.compile(loss=\"mean_squared_error\", optimizer = SGD(momentum = i), metrics = [\"accuracy\"]) # Learning Rate default is .001\n",
    "        model.fit(x, y, epochs = 5000, batch_size = 1, verbose = 0)\n",
    "        loss, accuracy = model.evaluate(x, y, verbose=0)\n",
    "        print(f\"With a {function} activation function and {i} of momentum, the loss is {loss} and the accuracy {accuracy}\")"
   ]
  },
  {
   "attachments": {},
   "cell_type": "markdown",
   "metadata": {},
   "source": [
    "#### sigmoid"
   ]
  },
  {
   "cell_type": "code",
   "execution_count": 8,
   "metadata": {},
   "outputs": [
    {
     "name": "stdout",
     "output_type": "stream",
     "text": [
      "With a sigmoid activation function and 0.0 of momentum, the loss is 0.2499847263097763 and the accuracy 0.5\n",
      "With a sigmoid activation function and 0.4 of momentum, the loss is 0.24908964335918427 and the accuracy 0.75\n",
      "With a sigmoid activation function and 0.9 of momentum, the loss is 0.007289158180356026 and the accuracy 1.0\n"
     ]
    }
   ],
   "source": [
    "compiler_b(momentum_list, \"sigmoid\")"
   ]
  },
  {
   "attachments": {},
   "cell_type": "markdown",
   "metadata": {},
   "source": [
    "#### tanh"
   ]
  },
  {
   "cell_type": "code",
   "execution_count": 9,
   "metadata": {},
   "outputs": [
    {
     "name": "stdout",
     "output_type": "stream",
     "text": [
      "With a tanh activation function and 0.0 of momentum, the loss is 0.0019186618737876415 and the accuracy 1.0\n",
      "With a tanh activation function and 0.4 of momentum, the loss is 0.0005928752943873405 and the accuracy 1.0\n",
      "With a tanh activation function and 0.9 of momentum, the loss is 0.00011006451677531004 and the accuracy 1.0\n"
     ]
    }
   ],
   "source": [
    "compiler_b(momentum_list, \"tanh\")"
   ]
  },
  {
   "attachments": {},
   "cell_type": "markdown",
   "metadata": {},
   "source": [
    "#### relu"
   ]
  },
  {
   "cell_type": "code",
   "execution_count": 10,
   "metadata": {},
   "outputs": [
    {
     "name": "stdout",
     "output_type": "stream",
     "text": [
      "With a relu activation function and 0.0 of momentum, the loss is 0.5 and the accuracy 0.5\n",
      "With a relu activation function and 0.4 of momentum, the loss is 0.5 and the accuracy 0.5\n",
      "With a relu activation function and 0.9 of momentum, the loss is 0.5 and the accuracy 0.5\n"
     ]
    }
   ],
   "source": [
    "compiler_b(momentum_list, \"relu\")"
   ]
  },
  {
   "attachments": {},
   "cell_type": "markdown",
   "metadata": {},
   "source": [
    "### Loss and Accuracy analysis"
   ]
  },
  {
   "attachments": {},
   "cell_type": "markdown",
   "metadata": {},
   "source": [
    "#### Plot"
   ]
  },
  {
   "cell_type": "code",
   "execution_count": 27,
   "metadata": {},
   "outputs": [
    {
     "data": {
      "image/png": "[encoded data removed]",
      "text/plain": [
       "<Figure size 864x576 with 1 Axes>"
      ]
     },
     "metadata": {
      "needs_background": "light"
     },
     "output_type": "display_data"
    }
   ],
   "source": [
    "# set width of bar\n",
    "barWidth = 0.25\n",
    "fig = plt.subplots(figsize =(12, 8))\n",
    "no_momentum = [.2499, .5, .0019]\n",
    "momentum_4 = [0.2491, .5, .0006]\n",
    "momentum_9 = [0.0073, .5, .0001]\n",
    "br1 = np.arange(len(no_momentum))\n",
    "br2 = [x + barWidth for x in br1]\n",
    "br3 = [x + barWidth for x in br2]\n",
    "# Make the plot\n",
    "plt.bar(br1, no_momentum, color ='black', width = barWidth,\n",
    "        edgecolor ='grey', label ='no momentum')\n",
    "plt.bar(br2, momentum_4, color ='dimgrey', width = barWidth,\n",
    "        edgecolor ='grey', label ='momentum = .4')\n",
    "plt.bar(br3, momentum_9, color ='gainsboro', width = barWidth,\n",
    "        edgecolor ='grey', label ='momentum = .9')\n",
    "# Adding Xticks\n",
    "plt.xlabel('Act. Function', fontweight ='bold', fontsize = 15)\n",
    "plt.ylabel('Loss', fontweight ='bold', fontsize = 15)\n",
    "plt.xticks([r + barWidth for r in range(len(no_momentum))],['sigmoid', 'relu', 'tanh'])\n",
    "plt.ylim(0, .55)\n",
    "plt.legend()\n",
    "plt.title(\"Effect of diferent momentum values on loss value per diferent activation functions\")\n",
    "plt.show()"
   ]
  },
  {
   "attachments": {},
   "cell_type": "markdown",
   "metadata": {},
   "source": [
    "#### Dataframe"
   ]
  },
  {
   "cell_type": "code",
   "execution_count": 28,
   "metadata": {},
   "outputs": [],
   "source": [
    "df_accuracy_02 = pd.DataFrame({\n",
    "  \"sigmoid\": [.5, .75, 1],\n",
    "  \"relu\": [.5, .5, .5],\n",
    "  \"tanh\": [.1, .1, .1] \n",
    "  })\n",
    "df_accuracy_02 = df_accuracy_02.rename(index={0: '0.0', 1: '0.4', 2: '0.9'})\n",
    "df_accuracy_02 = df_accuracy_02.style.set_caption('Accuracy Values')\n",
    "\n",
    "\n",
    "df_loss_02 = pd.DataFrame({\n",
    "    \"sigmoid\": [.2499, .2491, .0073],\n",
    "    \"relu\": [.5, .5, .5],\n",
    "    \"tanh\": [.0019, .0006, .0001] \n",
    "  })\n",
    "df_loss_02 = df_loss_02.rename(index={0: '0.0', 1: '0.4', 2: '0.9'})\n",
    "df_loss_02 = df_loss_02.style.set_caption('Loss Values')"
   ]
  },
  {
   "cell_type": "code",
   "execution_count": 29,
   "metadata": {},
   "outputs": [
    {
     "data": {
      "text/html": [
       "<style type=\"text/css\">\n",
       "</style>\n",
       "<table id=\"T_b8577\">\n",
       "  <caption>Accuracy Values</caption>\n",
       "  <thead>\n",
       "    <tr>\n",
       "      <th class=\"blank level0\" >&nbsp;</th>\n",
       "      <th id=\"T_b8577_level0_col0\" class=\"col_heading level0 col0\" >sigmoid</th>\n",
       "      <th id=\"T_b8577_level0_col1\" class=\"col_heading level0 col1\" >relu</th>\n",
       "      <th id=\"T_b8577_level0_col2\" class=\"col_heading level0 col2\" >tanh</th>\n",
       "    </tr>\n",
       "  </thead>\n",
       "  <tbody>\n",
       "    <tr>\n",
       "      <th id=\"T_b8577_level0_row0\" class=\"row_heading level0 row0\" >0.0</th>\n",
       "      <td id=\"T_b8577_row0_col0\" class=\"data row0 col0\" >0.500000</td>\n",
       "      <td id=\"T_b8577_row0_col1\" class=\"data row0 col1\" >0.500000</td>\n",
       "      <td id=\"T_b8577_row0_col2\" class=\"data row0 col2\" >0.100000</td>\n",
       "    </tr>\n",
       "    <tr>\n",
       "      <th id=\"T_b8577_level0_row1\" class=\"row_heading level0 row1\" >0.4</th>\n",
       "      <td id=\"T_b8577_row1_col0\" class=\"data row1 col0\" >0.750000</td>\n",
       "      <td id=\"T_b8577_row1_col1\" class=\"data row1 col1\" >0.500000</td>\n",
       "      <td id=\"T_b8577_row1_col2\" class=\"data row1 col2\" >0.100000</td>\n",
       "    </tr>\n",
       "    <tr>\n",
       "      <th id=\"T_b8577_level0_row2\" class=\"row_heading level0 row2\" >0.9</th>\n",
       "      <td id=\"T_b8577_row2_col0\" class=\"data row2 col0\" >1.000000</td>\n",
       "      <td id=\"T_b8577_row2_col1\" class=\"data row2 col1\" >0.500000</td>\n",
       "      <td id=\"T_b8577_row2_col2\" class=\"data row2 col2\" >0.100000</td>\n",
       "    </tr>\n",
       "  </tbody>\n",
       "</table>\n"
      ],
      "text/plain": [
       "<pandas.io.formats.style.Styler at 0x1e39fae4850>"
      ]
     },
     "execution_count": 29,
     "metadata": {},
     "output_type": "execute_result"
    }
   ],
   "source": [
    "df_accuracy_02"
   ]
  },
  {
   "cell_type": "code",
   "execution_count": 30,
   "metadata": {},
   "outputs": [
    {
     "data": {
      "text/html": [
       "<style type=\"text/css\">\n",
       "</style>\n",
       "<table id=\"T_e0f6a\">\n",
       "  <caption>Loss Values</caption>\n",
       "  <thead>\n",
       "    <tr>\n",
       "      <th class=\"blank level0\" >&nbsp;</th>\n",
       "      <th id=\"T_e0f6a_level0_col0\" class=\"col_heading level0 col0\" >sigmoid</th>\n",
       "      <th id=\"T_e0f6a_level0_col1\" class=\"col_heading level0 col1\" >relu</th>\n",
       "      <th id=\"T_e0f6a_level0_col2\" class=\"col_heading level0 col2\" >tanh</th>\n",
       "    </tr>\n",
       "  </thead>\n",
       "  <tbody>\n",
       "    <tr>\n",
       "      <th id=\"T_e0f6a_level0_row0\" class=\"row_heading level0 row0\" >0.0</th>\n",
       "      <td id=\"T_e0f6a_row0_col0\" class=\"data row0 col0\" >0.249900</td>\n",
       "      <td id=\"T_e0f6a_row0_col1\" class=\"data row0 col1\" >0.500000</td>\n",
       "      <td id=\"T_e0f6a_row0_col2\" class=\"data row0 col2\" >0.001900</td>\n",
       "    </tr>\n",
       "    <tr>\n",
       "      <th id=\"T_e0f6a_level0_row1\" class=\"row_heading level0 row1\" >0.4</th>\n",
       "      <td id=\"T_e0f6a_row1_col0\" class=\"data row1 col0\" >0.249100</td>\n",
       "      <td id=\"T_e0f6a_row1_col1\" class=\"data row1 col1\" >0.500000</td>\n",
       "      <td id=\"T_e0f6a_row1_col2\" class=\"data row1 col2\" >0.000600</td>\n",
       "    </tr>\n",
       "    <tr>\n",
       "      <th id=\"T_e0f6a_level0_row2\" class=\"row_heading level0 row2\" >0.9</th>\n",
       "      <td id=\"T_e0f6a_row2_col0\" class=\"data row2 col0\" >0.007300</td>\n",
       "      <td id=\"T_e0f6a_row2_col1\" class=\"data row2 col1\" >0.500000</td>\n",
       "      <td id=\"T_e0f6a_row2_col2\" class=\"data row2 col2\" >0.000100</td>\n",
       "    </tr>\n",
       "  </tbody>\n",
       "</table>\n"
      ],
      "text/plain": [
       "<pandas.io.formats.style.Styler at 0x1e3a1fd70a0>"
      ]
     },
     "execution_count": 30,
     "metadata": {},
     "output_type": "execute_result"
    }
   ],
   "source": [
    "df_loss_02"
   ]
  },
  {
   "attachments": {},
   "cell_type": "markdown",
   "metadata": {},
   "source": [
    "#### Observations"
   ]
  },
  {
   "attachments": {},
   "cell_type": "markdown",
   "metadata": {},
   "source": [
    "There is a tendency for the accuracy to improve as the momentum arrise for the sigmoid. For the relu and tanh there is no accuracy variation.\n",
    "THere is a tendency for the loss value to decrease as the momentum increases for the sigmoid and relu. For the tanh there is no variation."
   ]
  },
  {
   "attachments": {},
   "cell_type": "markdown",
   "metadata": {},
   "source": [
    "## Comparison between 2 Networks"
   ]
  },
  {
   "attachments": {},
   "cell_type": "markdown",
   "metadata": {},
   "source": [
    "It is possible to observe the same efects of varying momentum and activation function on both Networks."
   ]
  }
 ],
 "metadata": {
  "kernelspec": {
   "display_name": "base",
   "language": "python",
   "name": "python3"
  },
  "language_info": {
   "codemirror_mode": {
    "name": "ipython",
    "version": 3
   },
   "file_extension": ".py",
   "mimetype": "text/x-python",
   "name": "python",
   "nbconvert_exporter": "python",
   "pygments_lexer": "ipython3",
   "version": "3.9.12"
  },
  "orig_nbformat": 4,
  "vscode": {
   "interpreter": {
    "hash": "0e1e614ad018733ef345c31aba18c1aa215c65ba4e7fe527bebcff098eb89a09"
   }
  }
 },
 "nbformat": 4,
 "nbformat_minor": 2
}
